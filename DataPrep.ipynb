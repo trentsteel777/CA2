{
 "cells": [
  {
   "cell_type": "markdown",
   "id": "9ad315fc",
   "metadata": {},
   "source": [
    "# Irish Beef prices\n",
    "\n",
    "https://data.cso.ie/table/AJM01"
   ]
  },
  {
   "cell_type": "code",
   "execution_count": 1,
   "id": "76de323e",
   "metadata": {},
   "outputs": [],
   "source": [
    "import pandas as pd\n",
    "import seaborn as sns\n",
    "import matplotlib.pyplot as plt\n",
    "import matplotlib.ticker as ticker\n",
    "import matplotlib.dates as mdates\n",
    "import numpy as np\n",
    "from pandas.tseries.offsets import MonthEnd, YearEnd\n",
    "\n",
    "\n",
    "# user defined - see utils.py\n",
    "from utils import snake_case_columns, beef_price_lineplot, cso_date_to_datetime, transform_indexmundi_yearly_data"
   ]
  },
  {
   "cell_type": "code",
   "execution_count": null,
   "id": "d6dd5e1e",
   "metadata": {},
   "outputs": [],
   "source": [
    "df_beef = pd.read_csv(\"data/ie/beef_prices_1976-2022_cso.csv\")"
   ]
  },
  {
   "cell_type": "code",
   "execution_count": null,
   "id": "3e5f7cc5",
   "metadata": {},
   "outputs": [],
   "source": [
    "# value is: Cattle Price per 100 Kg (Euro)\n",
    "df_beef.head()"
   ]
  },
  {
   "cell_type": "code",
   "execution_count": null,
   "id": "860471e2",
   "metadata": {},
   "outputs": [],
   "source": [
    "df_beef.info()"
   ]
  },
  {
   "cell_type": "code",
   "execution_count": null,
   "id": "19f4bd5f",
   "metadata": {},
   "outputs": [],
   "source": [
    "snake_case_columns(df_beef)"
   ]
  },
  {
   "cell_type": "code",
   "execution_count": null,
   "id": "6f2bea3e",
   "metadata": {},
   "outputs": [],
   "source": [
    "cso_date_to_datetime(df_beef, \"month\")"
   ]
  },
  {
   "cell_type": "code",
   "execution_count": null,
   "id": "9a98fa0f",
   "metadata": {},
   "outputs": [],
   "source": [
    "df_beef = df_beef[df_beef[\"month\"].dt.year > 1998]"
   ]
  },
  {
   "cell_type": "code",
   "execution_count": null,
   "id": "e969e41f",
   "metadata": {},
   "outputs": [],
   "source": [
    "df_beef[\"type_of_cattle\"].unique()"
   ]
  },
  {
   "cell_type": "code",
   "execution_count": null,
   "id": "e3890e37",
   "metadata": {},
   "outputs": [],
   "source": [
    "df_beef = df_beef[df_beef[\"type_of_cattle\"]!=\"Cows for slaughter\"]"
   ]
  },
  {
   "cell_type": "code",
   "execution_count": null,
   "id": "8d3e65e9",
   "metadata": {},
   "outputs": [],
   "source": [
    "df_beef = df_beef.astype(dtype= {\"value\":\"float64\"})"
   ]
  },
  {
   "cell_type": "code",
   "execution_count": null,
   "id": "9351a2b3",
   "metadata": {},
   "outputs": [],
   "source": [
    "df_beef.head()"
   ]
  },
  {
   "cell_type": "code",
   "execution_count": null,
   "id": "7f1528c5",
   "metadata": {},
   "outputs": [],
   "source": [
    "df_beef.info()"
   ]
  },
  {
   "cell_type": "code",
   "execution_count": null,
   "id": "d30f3caf",
   "metadata": {},
   "outputs": [],
   "source": [
    "df_beef.groupby(['type_of_cattle']).count()"
   ]
  },
  {
   "cell_type": "code",
   "execution_count": null,
   "id": "9561fea4",
   "metadata": {},
   "outputs": [],
   "source": [
    "df_beef.isnull().any()"
   ]
  },
  {
   "cell_type": "code",
   "execution_count": null,
   "id": "fc304f5e",
   "metadata": {},
   "outputs": [],
   "source": [
    "# https://stackoverflow.com/questions/43424199/display-rows-with-one-or-more-nan-values-in-pandas-dataframe\n",
    "df_beef_na = df_beef[df_beef.isna().any(axis=1)]\n",
    "print(df_beef_na.count())\n",
    "#df_beef_na"
   ]
  },
  {
   "cell_type": "code",
   "execution_count": null,
   "id": "366cccc3",
   "metadata": {},
   "outputs": [],
   "source": [
    "# forward fill missing values as there is only 52\n",
    "\n",
    "# https://pandas.pydata.org/docs/reference/api/pandas.DataFrame.fillna.html\n",
    "cattle_types = df_beef[\"type_of_cattle\"].unique()\n",
    "for cattle_type in cattle_types:\n",
    "    df_beef_by_cattle_type = df_beef[df_beef[\"type_of_cattle\"] == cattle_type]\n",
    "    df_beef_by_cattle_type = df_beef_by_cattle_type.fillna(method=\"ffill\")\n",
    "    df_beef[df_beef[\"type_of_cattle\"] == cattle_type] = df_beef_by_cattle_type"
   ]
  },
  {
   "cell_type": "code",
   "execution_count": null,
   "id": "26fad9c5",
   "metadata": {},
   "outputs": [],
   "source": [
    "df_beef.groupby(['type_of_cattle']).count()"
   ]
  },
  {
   "cell_type": "code",
   "execution_count": null,
   "id": "809f77ae",
   "metadata": {},
   "outputs": [],
   "source": [
    "# https://stackoverflow.com/questions/17957890/pandas-select-from-dataframe-using-startswith\n",
    "df_bullocks = df_beef[df_beef[\"type_of_cattle\"].str.startswith('Bullocks')]"
   ]
  },
  {
   "cell_type": "code",
   "execution_count": null,
   "id": "6513a872",
   "metadata": {},
   "outputs": [],
   "source": [
    "beef_price_lineplot('Bullock prices per 100 Kg 1999-2022', df_bullocks)"
   ]
  },
  {
   "cell_type": "code",
   "execution_count": null,
   "id": "e91714df",
   "metadata": {},
   "outputs": [],
   "source": [
    "df_heifers = df_beef[df_beef[\"type_of_cattle\"].str.startswith('Heifer')]"
   ]
  },
  {
   "cell_type": "code",
   "execution_count": null,
   "id": "ad16767e",
   "metadata": {},
   "outputs": [],
   "source": [
    "beef_price_lineplot('Heifer prices per 100 Kg 1999-2022', df_heifers)"
   ]
  },
  {
   "cell_type": "code",
   "execution_count": null,
   "id": "5048fbd1",
   "metadata": {},
   "outputs": [],
   "source": [
    "df_beef.shape"
   ]
  },
  {
   "cell_type": "code",
   "execution_count": null,
   "id": "89fe8aa7",
   "metadata": {},
   "outputs": [],
   "source": [
    "df_beef = df_beef.drop([\"statistic\", \"unit\"], axis=1)"
   ]
  },
  {
   "cell_type": "code",
   "execution_count": null,
   "id": "cbdb4575",
   "metadata": {},
   "outputs": [],
   "source": [
    "df_beef_2 = df_beef.pivot(index='month', columns='type_of_cattle', values='value')"
   ]
  },
  {
   "cell_type": "code",
   "execution_count": null,
   "id": "ceb933b7",
   "metadata": {},
   "outputs": [],
   "source": [
    "snake_case_columns(df_beef_2)"
   ]
  },
  {
   "cell_type": "code",
   "execution_count": null,
   "id": "f0e0ed0f",
   "metadata": {},
   "outputs": [],
   "source": [
    "df_beef_2['target_cattle'] = df_beef_2.mean(axis=1)"
   ]
  },
  {
   "cell_type": "markdown",
   "id": "cd216a65",
   "metadata": {},
   "source": [
    "## final output"
   ]
  },
  {
   "cell_type": "code",
   "execution_count": null,
   "id": "8fca6dae",
   "metadata": {},
   "outputs": [],
   "source": [
    "df_beef_2"
   ]
  },
  {
   "cell_type": "markdown",
   "id": "abf9e797",
   "metadata": {},
   "source": [
    "# AGRICULTURAL PRICE INDICES"
   ]
  },
  {
   "cell_type": "markdown",
   "id": "ff206451",
   "metadata": {},
   "source": [
    "https://www.cso.ie/en/methods/agricultureandfishing/agriculturalpriceindices/methodology-agriculturalpriceindices/#:~:text=The%20Output%20Price%20Index%20is,of%20the%20average%20farm%20concept\n",
    "\n",
    "\"The Output Price Index is based on the sales of agricultural products and the Input Price Index is based on the purchases of the means of agricultural production by agricultural producers. Both indices are compiled on the basis of the average farm concept. The average farm concept includes both sales to other economic sectors as well as sales/purchases of agricultural output between agricultural units for intermediate consumption purposes, excluding trade in animals between agricultural units.\""
   ]
  },
  {
   "cell_type": "markdown",
   "id": "f6aa1a8d",
   "metadata": {},
   "source": [
    "## df_agri_price_2010"
   ]
  },
  {
   "cell_type": "code",
   "execution_count": null,
   "id": "6db2a65f",
   "metadata": {},
   "outputs": [],
   "source": [
    "df_agri_price_2010 = pd.read_csv(\"data/ie/agri_price_index/AHM01_1995M01-2010M12.csv\")"
   ]
  },
  {
   "cell_type": "code",
   "execution_count": null,
   "id": "9c4f917d",
   "metadata": {},
   "outputs": [],
   "source": [
    "snake_case_columns(df_agri_price_2010)"
   ]
  },
  {
   "cell_type": "code",
   "execution_count": null,
   "id": "06d5859c",
   "metadata": {},
   "outputs": [],
   "source": [
    "df_agri_price_2010.head()"
   ]
  },
  {
   "cell_type": "code",
   "execution_count": null,
   "id": "022d63b2",
   "metadata": {},
   "outputs": [],
   "source": [
    "df_agri_price_2010.statistic.unique()"
   ]
  },
  {
   "cell_type": "code",
   "execution_count": null,
   "id": "f4d097a2",
   "metadata": {},
   "outputs": [],
   "source": [
    "df_agri_price_2010.unit.unique()"
   ]
  },
  {
   "cell_type": "code",
   "execution_count": null,
   "id": "eadf2f8a",
   "metadata": {},
   "outputs": [],
   "source": [
    "sorted(df_agri_price_2010.agricultural_product.unique())"
   ]
  },
  {
   "cell_type": "code",
   "execution_count": null,
   "id": "f2f42e42",
   "metadata": {},
   "outputs": [],
   "source": [
    "df_agri_price_2010 = df_agri_price_2010.drop([\"statistic\", \"unit\"], axis=1)"
   ]
  },
  {
   "cell_type": "code",
   "execution_count": null,
   "id": "561ed598",
   "metadata": {},
   "outputs": [],
   "source": [
    "cso_date_to_datetime(df_agri_price_2010, \"month\")"
   ]
  },
  {
   "cell_type": "code",
   "execution_count": null,
   "id": "37d34079",
   "metadata": {},
   "outputs": [],
   "source": [
    "df_agri_price_2010"
   ]
  },
  {
   "cell_type": "code",
   "execution_count": null,
   "id": "c34b0981",
   "metadata": {},
   "outputs": [],
   "source": [
    "# https://pandas.pydata.org/docs/reference/api/pandas.pivot.html\n",
    "df_agri_price_2010_2 = df_agri_price_2010.pivot(index='month', columns='agricultural_product', values='value')"
   ]
  },
  {
   "cell_type": "code",
   "execution_count": null,
   "id": "0a815293",
   "metadata": {},
   "outputs": [],
   "source": [
    "snake_case_columns(df_agri_price_2010_2)"
   ]
  },
  {
   "cell_type": "code",
   "execution_count": null,
   "id": "009e3520",
   "metadata": {},
   "outputs": [],
   "source": [
    "import re\n",
    "# https://stackoverflow.com/questions/16720541/python-string-replace-regular-expression\n",
    "df_agri_price_2010_2.columns = map(lambda x : re.sub(r\"[()]\", \"\", x), df_agri_price_2010_2.columns)"
   ]
  },
  {
   "cell_type": "code",
   "execution_count": null,
   "id": "8f0de4d0",
   "metadata": {},
   "outputs": [],
   "source": [
    "df_agri_price_2010_2 = df_agri_price_2010_2[df_agri_price_2010_2.index.year > 1998]"
   ]
  },
  {
   "cell_type": "code",
   "execution_count": null,
   "id": "1ec8f4d6",
   "metadata": {},
   "outputs": [],
   "source": [
    "df_agri_price_2010_2"
   ]
  },
  {
   "cell_type": "code",
   "execution_count": null,
   "id": "558cacbe",
   "metadata": {},
   "outputs": [],
   "source": [
    "df_agri_price_2010_2.isnull().any()"
   ]
  },
  {
   "cell_type": "code",
   "execution_count": null,
   "id": "33539167",
   "metadata": {},
   "outputs": [],
   "source": [
    "df_agri_price_2010_2.sugarbeet_output.isna().sum()"
   ]
  },
  {
   "cell_type": "code",
   "execution_count": null,
   "id": "d0186ba3",
   "metadata": {},
   "outputs": [],
   "source": [
    "df_agri_price_2010_2.sugarbeet_output.isna().count()"
   ]
  },
  {
   "cell_type": "code",
   "execution_count": null,
   "id": "c55f5456",
   "metadata": {},
   "outputs": [],
   "source": [
    "df_agri_price_2010_2 = df_agri_price_2010_2.drop([\"sugarbeet_output\"], axis=1)"
   ]
  },
  {
   "cell_type": "code",
   "execution_count": null,
   "id": "0c0e8331",
   "metadata": {},
   "outputs": [],
   "source": [
    "df_agri_price_2010_2[df_agri_price_2010_2.index.year == 2000]"
   ]
  },
  {
   "cell_type": "code",
   "execution_count": null,
   "id": "5642939f",
   "metadata": {},
   "outputs": [],
   "source": [
    "df_agri_price_2010_2[df_agri_price_2010_2.index.year == 2010]"
   ]
  },
  {
   "cell_type": "code",
   "execution_count": null,
   "id": "24b41e8b",
   "metadata": {},
   "outputs": [],
   "source": [
    "# this data is based at 2000, we want to rebase it to 2010 so we can join it with the next dataset / time series for\n",
    "# agricultural prices indices\n",
    "\n",
    "# https://stats.stackexchange.com/questions/154577/how-to-work-with-index-numbers#:~:text=Rebasing%20an%20index,multiplying%20the%20result%20by%20100.\n",
    "df_agri_price_2010_2_rebased = df_agri_price_2010_2 /df_agri_price_2010_2[df_agri_price_2010_2.index.year == 2010].mean() * 100"
   ]
  },
  {
   "cell_type": "code",
   "execution_count": null,
   "id": "1b8ff2ec",
   "metadata": {},
   "outputs": [],
   "source": [
    "df_agri_price_2010_2_rebased.shape"
   ]
  },
  {
   "cell_type": "code",
   "execution_count": null,
   "id": "92d58ee6",
   "metadata": {},
   "outputs": [],
   "source": [
    "df_agri_price_2010_2_rebased.isnull().sum()"
   ]
  },
  {
   "cell_type": "markdown",
   "id": "f6ea0c5b",
   "metadata": {},
   "source": [
    "### intermediate output"
   ]
  },
  {
   "cell_type": "code",
   "execution_count": null,
   "id": "d7288843",
   "metadata": {},
   "outputs": [],
   "source": [
    "df_agri_price_2010_2_rebased"
   ]
  },
  {
   "cell_type": "markdown",
   "id": "8a0eff35",
   "metadata": {},
   "source": [
    "## df_agri_price_2018"
   ]
  },
  {
   "cell_type": "code",
   "execution_count": null,
   "id": "a9864d70",
   "metadata": {},
   "outputs": [],
   "source": [
    "df_agri_price_2018 = pd.read_csv(\"data/ie/agri_price_index/AHM03_2005M01-2018M01.csv\")"
   ]
  },
  {
   "cell_type": "code",
   "execution_count": null,
   "id": "e11f0013",
   "metadata": {
    "scrolled": true
   },
   "outputs": [],
   "source": [
    "df_agri_price_2018"
   ]
  },
  {
   "cell_type": "code",
   "execution_count": null,
   "id": "adde17f9",
   "metadata": {},
   "outputs": [],
   "source": [
    "snake_case_columns(df_agri_price_2018)"
   ]
  },
  {
   "cell_type": "code",
   "execution_count": null,
   "id": "a86d14b9",
   "metadata": {},
   "outputs": [],
   "source": [
    "df_agri_price_2018.statistic.unique()"
   ]
  },
  {
   "cell_type": "code",
   "execution_count": null,
   "id": "6ad39b7b",
   "metadata": {},
   "outputs": [],
   "source": [
    "df_agri_price_2018.unit.unique()"
   ]
  },
  {
   "cell_type": "code",
   "execution_count": null,
   "id": "241091b2",
   "metadata": {},
   "outputs": [],
   "source": [
    "sorted(df_agri_price_2018.agricultural_product.unique())"
   ]
  },
  {
   "cell_type": "code",
   "execution_count": null,
   "id": "7086cb59",
   "metadata": {},
   "outputs": [],
   "source": [
    "df_agri_price_2018 = df_agri_price_2018.drop([\"statistic\", \"unit\"], axis=1)"
   ]
  },
  {
   "cell_type": "code",
   "execution_count": null,
   "id": "83c89405",
   "metadata": {},
   "outputs": [],
   "source": [
    "cso_date_to_datetime(df_agri_price_2018, \"month\")"
   ]
  },
  {
   "cell_type": "code",
   "execution_count": null,
   "id": "2ff642cd",
   "metadata": {},
   "outputs": [],
   "source": [
    "df_agri_price_2018"
   ]
  },
  {
   "cell_type": "code",
   "execution_count": null,
   "id": "8dd6ee9d",
   "metadata": {},
   "outputs": [],
   "source": [
    "df_agri_price_2018_2 = df_agri_price_2018.pivot(index='month', columns='agricultural_product', values='value')"
   ]
  },
  {
   "cell_type": "code",
   "execution_count": null,
   "id": "2b5150fe",
   "metadata": {},
   "outputs": [],
   "source": [
    "snake_case_columns(df_agri_price_2018_2)"
   ]
  },
  {
   "cell_type": "code",
   "execution_count": null,
   "id": "be37ccda",
   "metadata": {},
   "outputs": [],
   "source": [
    "df_agri_price_2018_2.columns"
   ]
  },
  {
   "cell_type": "code",
   "execution_count": null,
   "id": "a53ff012",
   "metadata": {},
   "outputs": [],
   "source": [
    "df_agri_price_2018_2.isnull().any()"
   ]
  },
  {
   "cell_type": "code",
   "execution_count": null,
   "id": "07c7f1cc",
   "metadata": {},
   "outputs": [],
   "source": [
    "df_agri_price_2018_2.columns"
   ]
  },
  {
   "cell_type": "code",
   "execution_count": null,
   "id": "2eee10dc",
   "metadata": {},
   "outputs": [],
   "source": [
    "col_names_2010=sorted(df_agri_price_2010_2_rebased.columns)"
   ]
  },
  {
   "cell_type": "code",
   "execution_count": null,
   "id": "eaaf64de",
   "metadata": {},
   "outputs": [],
   "source": [
    "col_names_2018=sorted(df_agri_price_2018_2.columns)"
   ]
  },
  {
   "cell_type": "code",
   "execution_count": null,
   "id": "af4af9dc",
   "metadata": {},
   "outputs": [],
   "source": [
    "sorted(col_names_2010)"
   ]
  },
  {
   "cell_type": "code",
   "execution_count": null,
   "id": "fb2972b0",
   "metadata": {},
   "outputs": [],
   "source": [
    "sorted(col_names_2018)"
   ]
  },
  {
   "cell_type": "code",
   "execution_count": null,
   "id": "3434d0f7",
   "metadata": {},
   "outputs": [],
   "source": [
    "col_names_2010_new = {}\n",
    "for i in range(len(col_names_2010)):  \n",
    "    name = col_names_2010[i]\n",
    "    colname = re.sub(r\"[_]{1,2}input|_output|_including_a.i.\", \"\", col_names_2010[i])\n",
    "    #print(colname,\":\", name)\n",
    "    if colname == 'energy_-_electricity':\n",
    "        col_names_2010_new[name] = 'electricity'\n",
    "    elif colname == 'energy_-_motor_fuels':\n",
    "        col_names_2010_new[name] = 'motor_fuel'\n",
    "    elif colname == 'compound_feeding_stuffs_-_calf':\n",
    "        col_names_2010_new[name] = 'motor_fuels' \n",
    "    elif colname == 'compound_feeding_stuffs_-_cattle':\n",
    "        col_names_2010_new[name] = 'compound_feeding_stuffs_for_cattle_excluding_calves'\n",
    "    elif colname == 'compound_feeding_stuffs_-_pig':\n",
    "        col_names_2010_new[name] = 'compound_feeding_stuffs_for_pigs'\n",
    "    elif colname == 'compound_feeding_stuffs_-_poultry':\n",
    "        col_names_2010_new[name] = 'compound_feeding_stuffs_for_poultry'\n",
    "    elif colname == 'compound_fertilisers_-_n.p.k.':\n",
    "        col_names_2010_new[name] = 'npk_fertilisers'\n",
    "    elif colname == 'compound_fertilisers_-_p.k.':\n",
    "        col_names_2010_new[name] = 'pk_fertilisers'\n",
    "    elif colname == 'other_products':\n",
    "        col_names_2010_new[name] = 'other_goods_and_services'\n",
    "    elif colname == 'total_crop_products':\n",
    "        col_names_2010_new[name] = 'crop_output'\n",
    "    elif colname == 'all_fertilisers':\n",
    "        col_names_2010_new[name] = 'fertilisers'\n",
    "    elif colname == 'all_feeding_stuffs':\n",
    "        col_names_2010_new[name] = 'feeding_stuffs'\n",
    "    elif colname == 'finished_cattle':\n",
    "        col_names_2010_new[name] = 'cattle'\n",
    "    else:\n",
    "        col_names_2010_new[name] = colname"
   ]
  },
  {
   "cell_type": "code",
   "execution_count": null,
   "id": "6d55ab3a",
   "metadata": {},
   "outputs": [],
   "source": [
    "col_names_2018_new = {}\n",
    "for i in range(len(col_names_2018)): \n",
    "    name = col_names_2018[i]\n",
    "    colname = re.sub(r\"[_]{1,2}input|_output|_including_a.i.\", \"\", col_names_2018[i])\n",
    "    #print(colname,\":\", name)\n",
    "    if colname == 'cereals_including_seeds':\n",
    "        col_names_2018_new[name] = 'cereals'\n",
    "    elif colname == 'potatoes_including_seeds':\n",
    "        col_names_2018_new[name] = 'potatoes'"
   ]
  },
  {
   "cell_type": "code",
   "execution_count": null,
   "id": "4c4ae9e6",
   "metadata": {},
   "outputs": [],
   "source": [
    "col_names_2010_new"
   ]
  },
  {
   "cell_type": "code",
   "execution_count": null,
   "id": "0e024ea6",
   "metadata": {},
   "outputs": [],
   "source": [
    "col_names_2018_new"
   ]
  },
  {
   "cell_type": "code",
   "execution_count": null,
   "id": "a0e53462",
   "metadata": {},
   "outputs": [],
   "source": [
    "# https://stackoverflow.com/questions/11346283/renaming-column-names-in-pandas\n",
    "df_agri_price_2010_3 = df_agri_price_2010_2_rebased.rename(col_names_2010_new, axis=1)"
   ]
  },
  {
   "cell_type": "code",
   "execution_count": null,
   "id": "46d772cc",
   "metadata": {},
   "outputs": [],
   "source": [
    "df_agri_price_2018_3 = df_agri_price_2018_2.rename(col_names_2018_new, axis=1)"
   ]
  },
  {
   "cell_type": "code",
   "execution_count": null,
   "id": "284d66f9",
   "metadata": {},
   "outputs": [],
   "source": [
    "# intersection between 1995-2010 data and 2005-2018 data\n",
    "sorted(list(set(df_agri_price_2010_3.columns) & set(df_agri_price_2018_3.columns)))"
   ]
  },
  {
   "cell_type": "code",
   "execution_count": null,
   "id": "1d441f33",
   "metadata": {},
   "outputs": [],
   "source": [
    "set(df_agri_price_2010_3.columns)"
   ]
  },
  {
   "cell_type": "code",
   "execution_count": null,
   "id": "2942c231",
   "metadata": {},
   "outputs": [],
   "source": [
    "set(df_agri_price_2018_3.columns)"
   ]
  },
  {
   "cell_type": "code",
   "execution_count": null,
   "id": "00e4d5a2",
   "metadata": {},
   "outputs": [],
   "source": [
    "df_agri_price_2018_3"
   ]
  },
  {
   "cell_type": "code",
   "execution_count": null,
   "id": "75291232",
   "metadata": {},
   "outputs": [],
   "source": [
    "# all the means should be ~100 because this is the base year\n",
    "# looks like everything is which is great (except wool, but we won't be including this anyway so doesn't matter)\n",
    "df_agri_price_2018_3[df_agri_price_2018_3.index.year == 2010].mean()"
   ]
  },
  {
   "cell_type": "code",
   "execution_count": null,
   "id": "48230957",
   "metadata": {},
   "outputs": [],
   "source": [
    "df_agri_price_2010_3"
   ]
  },
  {
   "cell_type": "code",
   "execution_count": null,
   "id": "25cee1ca",
   "metadata": {},
   "outputs": [],
   "source": [
    "# intersection between 1995-2010 data and 2005-2018 data\n",
    "final_table_columns = sorted(list(set(df_agri_price_2010_3.columns) & set(df_agri_price_2018_3.columns)))"
   ]
  },
  {
   "cell_type": "code",
   "execution_count": null,
   "id": "9c890e71",
   "metadata": {},
   "outputs": [],
   "source": [
    "len(df_agri_price_2010_3.columns)"
   ]
  },
  {
   "cell_type": "code",
   "execution_count": null,
   "id": "8ab90923",
   "metadata": {},
   "outputs": [],
   "source": [
    "len(df_agri_price_2018_3.columns)"
   ]
  },
  {
   "cell_type": "code",
   "execution_count": null,
   "id": "0994ef11",
   "metadata": {},
   "outputs": [],
   "source": [
    "# https://stackoverflow.com/questions/56891518/drop-columns-from-pandas-dataframe-if-they-are-not-in-specific-list\n",
    "df_agri_price_indices = df_agri_price_2010_3[df_agri_price_2010_3.columns.intersection(final_table_columns)]"
   ]
  },
  {
   "cell_type": "code",
   "execution_count": null,
   "id": "05ce575a",
   "metadata": {},
   "outputs": [],
   "source": [
    "df_tmp = df_agri_price_2018_3[df_agri_price_2018_3.columns.intersection(final_table_columns)]"
   ]
  },
  {
   "cell_type": "code",
   "execution_count": null,
   "id": "c8f0066e",
   "metadata": {},
   "outputs": [],
   "source": [
    "df_tmp = df_tmp[df_tmp.index.year > 2010]"
   ]
  },
  {
   "cell_type": "code",
   "execution_count": null,
   "id": "e9e45f99",
   "metadata": {},
   "outputs": [],
   "source": [
    "sorted(df_agri_price_indices.columns) == sorted(df_tmp.columns)"
   ]
  },
  {
   "cell_type": "code",
   "execution_count": null,
   "id": "0fa74158",
   "metadata": {},
   "outputs": [],
   "source": [
    "print(\"df_agri_price_indices min date\",\":\",df_agri_price_indices.index.min())\n",
    "print(\"df_agri_price_indices max date\",\":\",df_agri_price_indices.index.max())\n",
    "\n",
    "print(\"df_tmp min date\",\"               :\",df_tmp.index.min())\n",
    "print(\"df_tmp max date\",\"               :\",df_tmp.index.max())"
   ]
  },
  {
   "cell_type": "code",
   "execution_count": null,
   "id": "584d542f",
   "metadata": {},
   "outputs": [],
   "source": [
    "df_agri_price_indices = df_agri_price_indices.append(df_tmp)"
   ]
  },
  {
   "cell_type": "code",
   "execution_count": null,
   "id": "76bb232b",
   "metadata": {},
   "outputs": [],
   "source": [
    "df_agri_price_indices"
   ]
  },
  {
   "cell_type": "code",
   "execution_count": null,
   "id": "7dcfc636",
   "metadata": {},
   "outputs": [],
   "source": [
    "fig, ax = plt.subplots(figsize=(18, 14))\n",
    "\n",
    "sns.lineplot(ax = ax, x='month', y='motor_fuel', data=df_agri_price_indices, label=\"motor_fuel\")\n",
    "#sns.lineplot(ax = ax, x='month', y='potatoes', data=df_agri_price_indices, label=\"potatoes\")\n",
    "sns.lineplot(ax = ax, x='month', y='cattle', data=df_agri_price_indices, label=\"cattle\")\n",
    "\n",
    "ax.set_title(\"df_agri_price_indices\")\n",
    "ax.xaxis.set_major_locator(mdates.MonthLocator(interval=6))\n",
    "\n",
    "ax.yaxis.set_major_locator(ticker.MaxNLocator())\n",
    "plt.xticks(rotation=90)\n",
    "plt.xlabel('Date')\n",
    "plt.ylabel('Agri Products')\n",
    "\n",
    "plt.show()"
   ]
  },
  {
   "cell_type": "markdown",
   "id": "a6673259",
   "metadata": {},
   "source": [
    "### Rebase Check\n",
    "\n",
    "Check that the rebasing from base 2000 to base 2010 has worked before we append the 1995-2010 data to the 2005-2018 data !!\n",
    "\n",
    "\n",
    "https://data.cso.ie/table/AHM01 -> 1995-2010 data \n",
    "\n",
    "https://data.cso.ie/table/AHM03 -> 2005-2018 data\n",
    "\n",
    "**Rebase technique:** https://stats.stackexchange.com/questions/154577/how-to-work-with-index-numbers#:~:text=Rebasing%20an%20index,multiplying%20the%20result%20by%20100."
   ]
  },
  {
   "cell_type": "code",
   "execution_count": null,
   "id": "c463ed81",
   "metadata": {},
   "outputs": [],
   "source": [
    "start_year=2005\n",
    "end_year=2010"
   ]
  },
  {
   "cell_type": "code",
   "execution_count": null,
   "id": "d1c247a6",
   "metadata": {},
   "outputs": [],
   "source": [
    "data_2018_base_2010 = df_agri_price_2018_3[\n",
    "    (df_agri_price_2018_3.index.year >= start_year) & \n",
    "    (df_agri_price_2018_3.index.year <= end_year)].motor_fuel"
   ]
  },
  {
   "cell_type": "code",
   "execution_count": null,
   "id": "0215c8c2",
   "metadata": {},
   "outputs": [],
   "source": [
    "data_2010_rebased_2010 = df_agri_price_2010_3[\n",
    "        (df_agri_price_2010_3.index.year >= start_year) & \n",
    "        (df_agri_price_2010_3.index.year <= end_year)].motor_fuel"
   ]
  },
  {
   "cell_type": "code",
   "execution_count": null,
   "id": "d3e3bbca",
   "metadata": {},
   "outputs": [],
   "source": [
    "data_2010_base_2000 = df_agri_price_2010_2[\n",
    "    (df_agri_price_2010_2.index.year >= start_year) &\n",
    "    (df_agri_price_2010_2.index.year <= end_year)][\"energy_-_motor_fuels__input\"]"
   ]
  },
  {
   "cell_type": "code",
   "execution_count": null,
   "id": "0d477210",
   "metadata": {},
   "outputs": [],
   "source": [
    "len(data_2018_base_2010)"
   ]
  },
  {
   "cell_type": "code",
   "execution_count": null,
   "id": "533e40db",
   "metadata": {},
   "outputs": [],
   "source": [
    "len(data_2010_rebased_2010)"
   ]
  },
  {
   "cell_type": "code",
   "execution_count": null,
   "id": "5b149102",
   "metadata": {},
   "outputs": [],
   "source": [
    "len(data_2010_base_2000)"
   ]
  },
  {
   "cell_type": "code",
   "execution_count": null,
   "id": "8cefc73e",
   "metadata": {},
   "outputs": [],
   "source": [
    "data_mixed_bases=pd.merge(data_2018_base_2010, data_2010_rebased_2010, right_index=True, left_index=True)"
   ]
  },
  {
   "cell_type": "code",
   "execution_count": null,
   "id": "9e5395ac",
   "metadata": {},
   "outputs": [],
   "source": [
    "data_mixed_bases=pd.merge(data_mixed_bases, data_2010_base_2000, right_index=True, left_index=True)"
   ]
  },
  {
   "cell_type": "code",
   "execution_count": null,
   "id": "ee7c53e6",
   "metadata": {},
   "outputs": [],
   "source": [
    "data_mixed_bases.rename(columns = {'motor_fuel_x':'2018_motor_fuel_base_2010',\n",
    "                                   'motor_fuel_y':'2010_motor_fuel_rebased_2010',\n",
    "                                  'energy_-_motor_fuels__input':'2010_motor_fuel_base_2000'}\n",
    "                        , inplace = True)"
   ]
  },
  {
   "cell_type": "code",
   "execution_count": null,
   "id": "fae086c1",
   "metadata": {},
   "outputs": [],
   "source": [
    "data_mixed_bases"
   ]
  },
  {
   "cell_type": "code",
   "execution_count": null,
   "id": "c744618f",
   "metadata": {},
   "outputs": [],
   "source": [
    "fig, ax = plt.subplots(figsize=(18, 14))\n",
    "\n",
    "sns.lineplot(ax = ax, x='month', y='2018_motor_fuel_base_2010', data=data_mixed_bases, label=\"2018_motor_fuel_base_2010\")\n",
    "sns.lineplot(ax = ax, x='month', y='2010_motor_fuel_rebased_2010', data=data_mixed_bases, label=\"2010_motor_fuel_rebased_2010\")\n",
    "sns.lineplot(ax = ax, x='month', y='2010_motor_fuel_base_2000', data=data_mixed_bases, label=\"2010_motor_fuel_base_2000\")\n",
    "\n",
    "ax.set_title(\"Motor Fuel rebase check!\")\n",
    "ax.xaxis.set_major_locator(mdates.MonthLocator(interval=3))\n",
    "# https://matplotlib.org/3.1.1/gallery/ticks_and_spines/tick-locators.html\n",
    "ax.yaxis.set_major_locator(ticker.MaxNLocator())\n",
    "plt.xticks(rotation=45)\n",
    "plt.xlabel('Date')\n",
    "plt.ylabel('Motor Fuel')\n",
    "\n",
    "plt.show()"
   ]
  },
  {
   "cell_type": "code",
   "execution_count": null,
   "id": "c4769add",
   "metadata": {},
   "outputs": [],
   "source": [
    "data_mixed_bases.isnull().sum()"
   ]
  },
  {
   "cell_type": "markdown",
   "id": "61825930",
   "metadata": {},
   "source": [
    "rebasing looks like it has basically worked.. !"
   ]
  },
  {
   "cell_type": "markdown",
   "id": "628d1668",
   "metadata": {},
   "source": [
    "## df_agri_price_2022\n",
    "\n",
    "https://data.cso.ie/table/AHM04"
   ]
  },
  {
   "cell_type": "code",
   "execution_count": null,
   "id": "21ec8c6f",
   "metadata": {},
   "outputs": [],
   "source": [
    "df_agri_price_2022 = pd.read_csv(\"data/ie/agri_price_index/AHM04_2014M01-2022M02.csv\")"
   ]
  },
  {
   "cell_type": "code",
   "execution_count": null,
   "id": "1a1c4e57",
   "metadata": {},
   "outputs": [],
   "source": [
    "df_agri_price_2022"
   ]
  },
  {
   "cell_type": "code",
   "execution_count": null,
   "id": "a3921dc3",
   "metadata": {},
   "outputs": [],
   "source": [
    "snake_case_columns(df_agri_price_2022)"
   ]
  },
  {
   "cell_type": "code",
   "execution_count": null,
   "id": "7207653c",
   "metadata": {},
   "outputs": [],
   "source": [
    "df_agri_price_2022.statistic.unique()"
   ]
  },
  {
   "cell_type": "code",
   "execution_count": null,
   "id": "7babe9d7",
   "metadata": {},
   "outputs": [],
   "source": [
    "df_agri_price_2022.unit.unique()"
   ]
  },
  {
   "cell_type": "code",
   "execution_count": null,
   "id": "3fafbb2d",
   "metadata": {},
   "outputs": [],
   "source": [
    "sorted(df_agri_price_2022.agricultural_product.unique())"
   ]
  },
  {
   "cell_type": "code",
   "execution_count": null,
   "id": "50c7a48c",
   "metadata": {},
   "outputs": [],
   "source": [
    "df_agri_price_2022 = df_agri_price_2022.drop([\"statistic\", \"unit\"], axis=1)"
   ]
  },
  {
   "cell_type": "code",
   "execution_count": null,
   "id": "1672d468",
   "metadata": {},
   "outputs": [],
   "source": [
    "cso_date_to_datetime(df_agri_price_2022, \"month\")"
   ]
  },
  {
   "cell_type": "code",
   "execution_count": null,
   "id": "2b99492a",
   "metadata": {},
   "outputs": [],
   "source": [
    "df_agri_price_2022"
   ]
  },
  {
   "cell_type": "code",
   "execution_count": null,
   "id": "32646850",
   "metadata": {},
   "outputs": [],
   "source": [
    "df_agri_price_2022_2 = df_agri_price_2022.pivot(index='month', columns='agricultural_product', values='value')"
   ]
  },
  {
   "cell_type": "code",
   "execution_count": null,
   "id": "e6e07226",
   "metadata": {},
   "outputs": [],
   "source": [
    "snake_case_columns(df_agri_price_2022_2)"
   ]
  },
  {
   "cell_type": "code",
   "execution_count": null,
   "id": "65b06c5f",
   "metadata": {},
   "outputs": [],
   "source": [
    "df_agri_price_2022_2.isnull().any()"
   ]
  },
  {
   "cell_type": "code",
   "execution_count": null,
   "id": "5958b6ad",
   "metadata": {},
   "outputs": [],
   "source": [
    "df_agri_price_2022_2.columns"
   ]
  },
  {
   "cell_type": "code",
   "execution_count": null,
   "id": "337a3cd4",
   "metadata": {},
   "outputs": [],
   "source": [
    "col_names_2022=sorted(df_agri_price_2022_2.columns)\n",
    "col_names_2022"
   ]
  },
  {
   "cell_type": "code",
   "execution_count": null,
   "id": "4afa0ce8",
   "metadata": {},
   "outputs": [],
   "source": [
    "col_names_2022_new = {}\n",
    "for i in range(len(col_names_2022)): \n",
    "    name = col_names_2022[i]\n",
    "    colname = re.sub(r\"[_]{1,2}input|_output|_including_a.i.\", \"\", col_names_2022[i])\n",
    "    #print(colname,\":\", name)\n",
    "    if colname == 'cereals_including_seeds':\n",
    "        col_names_2022_new[name] = 'cereals'\n",
    "    elif colname == 'potatoes_including_seeds':\n",
    "        col_names_2022_new[name] = 'potatoes'\n",
    "    elif colname == 'fruit_and_vegetables':\n",
    "        col_names_2022_new[name] = 'vegetables'"
   ]
  },
  {
   "cell_type": "code",
   "execution_count": null,
   "id": "479fba83",
   "metadata": {},
   "outputs": [],
   "source": [
    "col_names_2022_new"
   ]
  },
  {
   "cell_type": "code",
   "execution_count": null,
   "id": "604104f4",
   "metadata": {},
   "outputs": [],
   "source": [
    "df_agri_price_2022_3 = df_agri_price_2022_2.rename(col_names_2022_new, axis=1)"
   ]
  },
  {
   "cell_type": "code",
   "execution_count": null,
   "id": "b8eb1d53",
   "metadata": {},
   "outputs": [],
   "source": [
    "len(df_agri_price_indices.columns)"
   ]
  },
  {
   "cell_type": "code",
   "execution_count": null,
   "id": "01d52114",
   "metadata": {},
   "outputs": [],
   "source": [
    "len(df_agri_price_2022_3.columns)"
   ]
  },
  {
   "cell_type": "code",
   "execution_count": null,
   "id": "85c3d5c4",
   "metadata": {},
   "outputs": [],
   "source": [
    "# intersection between newly created 1995-2018 data and 2014-2022 data\n",
    "len(sorted(list(set(df_agri_price_2022_3.columns) & set(df_agri_price_indices.columns))))"
   ]
  },
  {
   "cell_type": "code",
   "execution_count": null,
   "id": "da4e406a",
   "metadata": {},
   "outputs": [],
   "source": [
    "# check that df_agri_price_2022_3 has exactly the same columns as df_agri_price_indices\n",
    "# and that none are missing (empty list if none are missing)\n",
    "temp1=(sorted(set(set(df_agri_price_2022_3.columns) & set(df_agri_price_indices.columns))))\n",
    "temp2 = [x for x in df_agri_price_indices.columns if x not in temp1]\n",
    "temp2"
   ]
  },
  {
   "cell_type": "code",
   "execution_count": null,
   "id": "bddadfd4",
   "metadata": {},
   "outputs": [],
   "source": [
    "df_agri_price_2022_3"
   ]
  },
  {
   "cell_type": "code",
   "execution_count": null,
   "id": "49fc15cb",
   "metadata": {},
   "outputs": [],
   "source": [
    "df_agri_price_indices[df_agri_price_indices.index.year == 2010].mean()"
   ]
  },
  {
   "cell_type": "code",
   "execution_count": null,
   "id": "65d66b82",
   "metadata": {},
   "outputs": [],
   "source": [
    "# df_agri_price_2022_3 data is based at 2015\n",
    "# we want to rebase df_agri_price_indices to 2015 (from 2010) so we \n",
    "# can add on the missing three years 2019-2022 to df_agri_price_indices\n",
    "\n",
    "# https://stats.stackexchange.com/questions/154577/how-to-work-with-index-numbers#:~:text=Rebasing%20an%20index,multiplying%20the%20result%20by%20100.\n",
    "df_agri_price_indices_rebased = df_agri_price_indices /df_agri_price_indices[df_agri_price_indices.index.year == 2015].mean() * 100"
   ]
  },
  {
   "cell_type": "code",
   "execution_count": null,
   "id": "7b996210",
   "metadata": {},
   "outputs": [],
   "source": [
    "df_agri_price_indices_rebased.isnull().sum()"
   ]
  },
  {
   "cell_type": "code",
   "execution_count": null,
   "id": "50343759",
   "metadata": {},
   "outputs": [],
   "source": [
    "df_agri_price_indices_rebased"
   ]
  },
  {
   "cell_type": "markdown",
   "id": "62e469ff",
   "metadata": {},
   "source": [
    "## df_agri_price_indices_final\n",
    "\n",
    "In this section the series for the full date range is built (1995-2022)."
   ]
  },
  {
   "cell_type": "code",
   "execution_count": null,
   "id": "dcec8d66",
   "metadata": {},
   "outputs": [],
   "source": [
    "len(df_agri_price_indices_rebased.columns)"
   ]
  },
  {
   "cell_type": "code",
   "execution_count": null,
   "id": "b831c340",
   "metadata": {},
   "outputs": [],
   "source": [
    "# intersection between newly created 1995-2018 data and 2014-2022 data\n",
    "len(sorted(list(set(df_agri_price_2022_3.columns) & set(df_agri_price_indices_rebased.columns))))"
   ]
  },
  {
   "cell_type": "code",
   "execution_count": null,
   "id": "cba657e4",
   "metadata": {},
   "outputs": [],
   "source": [
    "df_tmp_2 = df_agri_price_indices_rebased[df_agri_price_indices_rebased.index.year < 2018]"
   ]
  },
  {
   "cell_type": "code",
   "execution_count": null,
   "id": "85e9a720",
   "metadata": {},
   "outputs": [],
   "source": [
    "df_tmp_2.info()"
   ]
  },
  {
   "cell_type": "code",
   "execution_count": null,
   "id": "66598d5f",
   "metadata": {},
   "outputs": [],
   "source": [
    "df_tmp_3 = df_agri_price_2022_3[df_agri_price_2022_3.index.year >= 2018]"
   ]
  },
  {
   "cell_type": "code",
   "execution_count": null,
   "id": "c34c3c14",
   "metadata": {},
   "outputs": [],
   "source": [
    "df_tmp_3.info()"
   ]
  },
  {
   "cell_type": "code",
   "execution_count": null,
   "id": "a281d1db",
   "metadata": {},
   "outputs": [],
   "source": [
    "print(\"df_tmp_2 min date\",\"  :\",df_tmp_2.index.min())\n",
    "print(\"df_tmp_2 max date\",\"  :\",df_tmp_2.index.max())\n",
    "\n",
    "print(\"df_tmp_3 min date\",\"  :\",df_tmp_3.index.min())\n",
    "print(\"df_tmp_3 max date\",\"  :\",df_tmp_3.index.max())"
   ]
  },
  {
   "cell_type": "code",
   "execution_count": null,
   "id": "0f957757",
   "metadata": {},
   "outputs": [],
   "source": [
    "df_agri_price_indices_final = df_tmp_2.append(df_tmp_3)"
   ]
  },
  {
   "cell_type": "code",
   "execution_count": null,
   "id": "f3ad2ad7",
   "metadata": {},
   "outputs": [],
   "source": [
    "df_agri_price_indices_final.isnull().sum()"
   ]
  },
  {
   "cell_type": "code",
   "execution_count": null,
   "id": "6d6bbd0a",
   "metadata": {},
   "outputs": [],
   "source": [
    "fig, ax = plt.subplots(figsize=(18, 14))\n",
    "\n",
    "sns.lineplot(ax = ax, x='month', y='motor_fuel', data=df_agri_price_indices_final, label=\"motor_fuel\")\n",
    "#sns.lineplot(ax = ax, x='month', y='potatoes', data=df_agri_price_indices, label=\"potatoes\")\n",
    "sns.lineplot(ax = ax, x='month', y='cattle', data=df_agri_price_indices_final, label=\"fertilisers\")\n",
    "\n",
    "ax.set_title(\"df_agri_price_indices (1995-2022)\")\n",
    "ax.xaxis.set_major_locator(mdates.MonthLocator(interval=6))\n",
    "\n",
    "ax.yaxis.set_major_locator(ticker.MaxNLocator())\n",
    "plt.xticks(rotation=90)\n",
    "plt.xlabel('Date')\n",
    "plt.ylabel('Agri Products')\n",
    "\n",
    "# https://stackoverflow.com/questions/44880444/how-to-increase-the-font-size-of-the-legend-in-my-seaborn-plot\n",
    "plt.setp(ax.get_legend().get_texts(), fontsize='22') # for legend text\n",
    "\n",
    "plt.show()"
   ]
  },
  {
   "cell_type": "code",
   "execution_count": null,
   "id": "980e3795",
   "metadata": {},
   "outputs": [],
   "source": [
    "df_agri_price_indices_final.isnull().sum()"
   ]
  },
  {
   "cell_type": "code",
   "execution_count": null,
   "id": "a4122d63",
   "metadata": {},
   "outputs": [],
   "source": [
    "df_agri_price_indices_final =df_agri_price_indices_final.dropna(axis=\"columns\")"
   ]
  },
  {
   "cell_type": "code",
   "execution_count": null,
   "id": "691ca415",
   "metadata": {},
   "outputs": [],
   "source": [
    "df_agri_price_indices_final.isnull().sum()"
   ]
  },
  {
   "cell_type": "code",
   "execution_count": null,
   "id": "a1876150",
   "metadata": {},
   "outputs": [],
   "source": [
    "df_agri_price_indices_final.info()"
   ]
  },
  {
   "cell_type": "markdown",
   "id": "5e797101",
   "metadata": {},
   "source": [
    "## final output"
   ]
  },
  {
   "cell_type": "code",
   "execution_count": null,
   "id": "0410c1b6",
   "metadata": {},
   "outputs": [],
   "source": [
    "df_agri_price_indices_final"
   ]
  },
  {
   "cell_type": "markdown",
   "id": "e52c70ee",
   "metadata": {},
   "source": [
    "# irish_pig_prices_1995-2022\n",
    "\n",
    "Bring in www.bordbia.ie pig meat prices !"
   ]
  },
  {
   "cell_type": "code",
   "execution_count": null,
   "id": "959ceed6",
   "metadata": {},
   "outputs": [],
   "source": [
    "df_pig = pd.read_excel(\"data/ie/irish_pig_prices_1995-2022.xlsx\", skiprows=1)"
   ]
  },
  {
   "cell_type": "code",
   "execution_count": null,
   "id": "f6d662fa",
   "metadata": {},
   "outputs": [],
   "source": [
    "# https://www.mla.com.au/general/glossary/\n",
    "# ¢/kg:  Cents per kilogram. Units which cattle are sold in at a physical prime market.\n",
    "df_pig.head()"
   ]
  },
  {
   "cell_type": "code",
   "execution_count": null,
   "id": "359c63a8",
   "metadata": {},
   "outputs": [],
   "source": [
    "df_pig = df_pig.rename({\"w/c\":\"date\",\"Ire (c/kg)\":\"cents_per_kg\"}, axis=1)"
   ]
  },
  {
   "cell_type": "code",
   "execution_count": null,
   "id": "693eb20a",
   "metadata": {},
   "outputs": [],
   "source": [
    "# https://stackoverflow.com/questions/736043/checking-if-a-string-can-be-converted-to-float-in-python\n",
    "def is_float(element):\n",
    "    try:\n",
    "        float(element)\n",
    "        return True\n",
    "    except ValueError:\n",
    "        return False"
   ]
  },
  {
   "cell_type": "code",
   "execution_count": null,
   "id": "8a3956ed",
   "metadata": {},
   "outputs": [],
   "source": [
    "df_pig[\"cents_per_kg\"] = df_pig[\"cents_per_kg\"].apply(lambda x: np.where(is_float(x), x, None))"
   ]
  },
  {
   "cell_type": "code",
   "execution_count": null,
   "id": "caa2b04e",
   "metadata": {},
   "outputs": [],
   "source": [
    "df_pig.isnull().any()"
   ]
  },
  {
   "cell_type": "code",
   "execution_count": null,
   "id": "c47d296b",
   "metadata": {},
   "outputs": [],
   "source": [
    "df_pig_na = df_pig[df_pig.isna().any(axis=1)]\n",
    "print(df_pig.count())"
   ]
  },
  {
   "cell_type": "code",
   "execution_count": null,
   "id": "b970242d",
   "metadata": {},
   "outputs": [],
   "source": [
    "# only 1 null value so no need to get too excited\n",
    "df_pig.isnull().sum()"
   ]
  },
  {
   "cell_type": "code",
   "execution_count": null,
   "id": "f83fe060",
   "metadata": {},
   "outputs": [],
   "source": [
    "df_pig = df_pig.fillna(method='ffill')"
   ]
  },
  {
   "cell_type": "code",
   "execution_count": null,
   "id": "2967032d",
   "metadata": {},
   "outputs": [],
   "source": [
    "df_pig.isnull().sum()"
   ]
  },
  {
   "cell_type": "code",
   "execution_count": null,
   "id": "299e4622",
   "metadata": {},
   "outputs": [],
   "source": [
    "df_pig.info()"
   ]
  },
  {
   "cell_type": "code",
   "execution_count": null,
   "id": "0dc3ce36",
   "metadata": {},
   "outputs": [],
   "source": [
    "df_pig = df_pig.astype(dtype= {\"cents_per_kg\":\"float64\"})"
   ]
  },
  {
   "cell_type": "code",
   "execution_count": null,
   "id": "7aaa2160",
   "metadata": {},
   "outputs": [],
   "source": [
    "df_pig=df_pig.set_index(\"date\").resample('M').mean()"
   ]
  },
  {
   "cell_type": "code",
   "execution_count": null,
   "id": "12ab6fcb",
   "metadata": {},
   "outputs": [],
   "source": [
    "df_pig = df_pig[:-2] # get rid of mar and apr 2022"
   ]
  },
  {
   "cell_type": "code",
   "execution_count": null,
   "id": "392d73d4",
   "metadata": {},
   "outputs": [],
   "source": [
    "df_pig = df_pig[df_pig.index.year > 1998]"
   ]
  },
  {
   "cell_type": "markdown",
   "id": "4dd91785",
   "metadata": {},
   "source": [
    "## final output"
   ]
  },
  {
   "cell_type": "code",
   "execution_count": null,
   "id": "381443bd",
   "metadata": {},
   "outputs": [],
   "source": [
    "df_pig"
   ]
  },
  {
   "cell_type": "markdown",
   "id": "bbee1c32",
   "metadata": {},
   "source": [
    "# EUR/GBP\n",
    "\n",
    "https://www.investing.com/currencies/eur-gbp-historical-data"
   ]
  },
  {
   "cell_type": "code",
   "execution_count": null,
   "id": "2c73207a",
   "metadata": {},
   "outputs": [],
   "source": [
    "def prepare_forex_data(file_path):\n",
    "    from pandas.tseries.offsets import MonthEnd\n",
    "    \n",
    "    df_cur = pd.read_csv(file_path)\n",
    "    snake_case_columns(df_cur)\n",
    "    \n",
    "    # https://dataindependent.com/pandas/pandas-to-datetime-string-to-date-pd-to_datetime/\n",
    "    df_cur[\"date\"] = pd.to_datetime(df_cur[\"date\"], format='%b %y') + MonthEnd(1)\n",
    "    # only need final day closing price\n",
    "    df_cur = df_cur.drop([\"open\", \"high\", \"low\", \"change_%\"], axis=1) \n",
    "    df_cur = df_cur.set_index(\"date\")\n",
    "    df_cur = df_cur.sort_index()\n",
    "    return df_cur"
   ]
  },
  {
   "cell_type": "code",
   "execution_count": null,
   "id": "ab5ee791",
   "metadata": {},
   "outputs": [],
   "source": [
    "df_eurgbp = prepare_forex_data(\"data/ie/EUR_GBP_1991-2022.csv\")"
   ]
  },
  {
   "cell_type": "code",
   "execution_count": null,
   "id": "f14bc4a1",
   "metadata": {},
   "outputs": [],
   "source": [
    "df_eurgbp.rename(columns={'price': 'eurgbp'}, inplace=True)"
   ]
  },
  {
   "cell_type": "markdown",
   "id": "3cdcb5b9",
   "metadata": {},
   "source": [
    "## final output"
   ]
  },
  {
   "cell_type": "code",
   "execution_count": null,
   "id": "62644b94",
   "metadata": {},
   "outputs": [],
   "source": [
    "df_eurgbp"
   ]
  },
  {
   "cell_type": "markdown",
   "id": "a7dddb32",
   "metadata": {},
   "source": [
    "# EUR/USD\n",
    "\n",
    "https://www.investing.com/currencies/eur-usd-historical-data"
   ]
  },
  {
   "cell_type": "code",
   "execution_count": null,
   "id": "a26d9a78",
   "metadata": {},
   "outputs": [],
   "source": [
    "df_eurusd = prepare_forex_data(\"data/ie/EUR_USD_1991-2022.csv\")"
   ]
  },
  {
   "cell_type": "code",
   "execution_count": null,
   "id": "437d8a20",
   "metadata": {},
   "outputs": [],
   "source": [
    "df_eurusd.rename(columns={'price': 'eurusd'}, inplace=True)"
   ]
  },
  {
   "cell_type": "markdown",
   "id": "5f47d93e",
   "metadata": {},
   "source": [
    "## final output"
   ]
  },
  {
   "cell_type": "code",
   "execution_count": null,
   "id": "82610938",
   "metadata": {},
   "outputs": [],
   "source": [
    "df_eurusd"
   ]
  },
  {
   "cell_type": "markdown",
   "id": "e0b8e115",
   "metadata": {},
   "source": [
    "# Global_price_of_Beef_1990-2021\n",
    "\n",
    "https://fred.stlouisfed.org/series/PBEEFUSDM"
   ]
  },
  {
   "cell_type": "code",
   "execution_count": null,
   "id": "8350a56b",
   "metadata": {},
   "outputs": [],
   "source": [
    "df_global_beef = pd.read_csv(\"data/ie/Global_price_of_Beef_1990-2021.csv\")"
   ]
  },
  {
   "cell_type": "code",
   "execution_count": null,
   "id": "fa5d25ea",
   "metadata": {},
   "outputs": [],
   "source": [
    "# \"Units:  U.S. Cents per Pound, Not Seasonally Adjusted\"\n",
    "df_global_beef"
   ]
  },
  {
   "cell_type": "code",
   "execution_count": null,
   "id": "78e1af1a",
   "metadata": {},
   "outputs": [],
   "source": [
    "df_global_beef.info()"
   ]
  },
  {
   "cell_type": "code",
   "execution_count": null,
   "id": "559510b5",
   "metadata": {},
   "outputs": [],
   "source": [
    "snake_case_columns(df_global_beef)"
   ]
  },
  {
   "cell_type": "code",
   "execution_count": null,
   "id": "d2edb885",
   "metadata": {},
   "outputs": [],
   "source": [
    "df_global_beef = df_global_beef.astype(dtype= {\"date\":\"datetime64[ns]\"})"
   ]
  },
  {
   "cell_type": "code",
   "execution_count": null,
   "id": "d654f57b",
   "metadata": {},
   "outputs": [],
   "source": [
    "# we need to be able to join with the \n",
    "df_global_beef[\"date\"] = df_global_beef[\"date\"]+ MonthEnd(1)"
   ]
  },
  {
   "cell_type": "code",
   "execution_count": null,
   "id": "dc7b99a8",
   "metadata": {},
   "outputs": [],
   "source": [
    "df_global_beef"
   ]
  },
  {
   "cell_type": "code",
   "execution_count": null,
   "id": "37444cba",
   "metadata": {},
   "outputs": [],
   "source": [
    "# https://stackoverflow.com/questions/34915828/pandas-date-range-to-generate-monthly-data-at-beginning-of-the-month\n",
    "# https://pandas.pydata.org/docs/reference/api/pandas.Index.to_frame.html\n",
    "df_missing_months = pd.date_range(start='31-DEC-2021', end='28-FEB-2022', freq='M').to_frame(index=False, name='date')\n",
    "df_missing_months[\"pbeefusdm\"] = np.nan\n",
    "df_missing_months"
   ]
  },
  {
   "cell_type": "code",
   "execution_count": null,
   "id": "23957e01",
   "metadata": {},
   "outputs": [],
   "source": [
    "# https://stackoverflow.com/questions/52693690/adding-dates-to-a-pandas-data-frame\n",
    "#pd.merge(df_global_beef, df_missing_months, left_on='date', right_on='date', how='outer')#.drop(columns=0)\n",
    "df_global_beef = pd.concat([df_global_beef, df_missing_months]).reset_index(drop=True)"
   ]
  },
  {
   "cell_type": "code",
   "execution_count": null,
   "id": "35f4d681",
   "metadata": {},
   "outputs": [],
   "source": [
    "# impute data for last few missing months\n",
    "# rolling mean values will give more weight to the most recent values in the time series and be \n",
    "# a better reflection on the trend of the data, rather than using the mean or median for the whole period\n",
    "# https://drnesr.medium.com/filling-gaps-of-a-time-series-using-python-d4bfddd8c460\n",
    "df_global_beef = df_global_beef.assign(pbeefusdm=df_global_beef.pbeefusdm.fillna(df_global_beef.pbeefusdm.rolling(6,min_periods=1,center=False).mean()))"
   ]
  },
  {
   "cell_type": "code",
   "execution_count": null,
   "id": "7037fa3e",
   "metadata": {},
   "outputs": [],
   "source": [
    "df_global_beef.info()"
   ]
  },
  {
   "cell_type": "code",
   "execution_count": null,
   "id": "b709ff11",
   "metadata": {},
   "outputs": [],
   "source": [
    "df_global_beef.set_index(\"date\", inplace=True)"
   ]
  },
  {
   "cell_type": "code",
   "execution_count": null,
   "id": "0ba7a435",
   "metadata": {},
   "outputs": [],
   "source": [
    "df_global_beef = df_global_beef[df_global_beef.index.year > 1998]"
   ]
  },
  {
   "cell_type": "markdown",
   "id": "5fb62478",
   "metadata": {},
   "source": [
    "## final output"
   ]
  },
  {
   "cell_type": "code",
   "execution_count": null,
   "id": "7a74f2c8",
   "metadata": {},
   "outputs": [],
   "source": [
    "df_global_beef"
   ]
  },
  {
   "cell_type": "markdown",
   "id": "62145270",
   "metadata": {},
   "source": [
    "# sunshine\n",
    "\n",
    "https://data.cso.ie/table/MTM03"
   ]
  },
  {
   "cell_type": "code",
   "execution_count": null,
   "id": "981529e5",
   "metadata": {},
   "outputs": [],
   "source": [
    "#df_sunshine = pd.read_csv(\"data/ie/weather/dublin_airport_sunshine_hours.csv\") # dublin airport had 12 null months between 1999-2022\n",
    "#df_sunshine = pd.read_csv(\"data/ie/weather/mullingar_sunshine_hours.csv\") # mullingar had 168 null months between 1999-2022\n",
    "#df_sunshine = pd.read_csv(\"data/ie/weather/rosslare_sunshine_hours.csv\") # rosslare had 169 null months between 1999-2022\n",
    "\n",
    "df_sunshine = pd.read_csv(\"data/ie/weather/shannon_airport_sunshine_hours.csv\")"
   ]
  },
  {
   "cell_type": "code",
   "execution_count": null,
   "id": "7023ff11",
   "metadata": {},
   "outputs": [],
   "source": [
    "df_sunshine"
   ]
  },
  {
   "cell_type": "code",
   "execution_count": null,
   "id": "847920b8",
   "metadata": {},
   "outputs": [],
   "source": [
    "snake_case_columns(df_sunshine)"
   ]
  },
  {
   "cell_type": "code",
   "execution_count": null,
   "id": "adda0d15",
   "metadata": {},
   "outputs": [],
   "source": [
    "cso_date_to_datetime(df_sunshine, \"month\")"
   ]
  },
  {
   "cell_type": "code",
   "execution_count": null,
   "id": "f3de8c97",
   "metadata": {},
   "outputs": [],
   "source": [
    "df_sunshine = df_sunshine.drop([\"statistic\",\"meteorological_weather_station\", \"unit\"], axis=1)"
   ]
  },
  {
   "cell_type": "code",
   "execution_count": null,
   "id": "ec92ea1a",
   "metadata": {},
   "outputs": [],
   "source": [
    "df_sunshine = df_sunshine[df_sunshine.month.dt.year > 1998]"
   ]
  },
  {
   "cell_type": "code",
   "execution_count": null,
   "id": "558ed2a7",
   "metadata": {},
   "outputs": [],
   "source": [
    "df_sunshine.info()"
   ]
  },
  {
   "cell_type": "code",
   "execution_count": null,
   "id": "f30631be",
   "metadata": {},
   "outputs": [],
   "source": [
    "df_sunshine.isnull().sum()"
   ]
  },
  {
   "cell_type": "code",
   "execution_count": null,
   "id": "fe480546",
   "metadata": {},
   "outputs": [],
   "source": [
    "df_sunshine_nulls = df_sunshine[df_sunshine.isna().any(axis=1)]\n",
    "df_sunshine_nulls"
   ]
  },
  {
   "cell_type": "code",
   "execution_count": null,
   "id": "ca335a32",
   "metadata": {},
   "outputs": [],
   "source": [
    "df_sunshine = df_sunshine.fillna(method='ffill')"
   ]
  },
  {
   "cell_type": "code",
   "execution_count": null,
   "id": "4dd2e0b8",
   "metadata": {},
   "outputs": [],
   "source": [
    "df_sunshine[df_sunshine.isna().any(axis=1)]"
   ]
  },
  {
   "cell_type": "code",
   "execution_count": null,
   "id": "a3929e24",
   "metadata": {},
   "outputs": [],
   "source": [
    "df_sunshine.isnull().sum()"
   ]
  },
  {
   "cell_type": "code",
   "execution_count": null,
   "id": "c2aa078b",
   "metadata": {},
   "outputs": [],
   "source": [
    "df_sunshine.info()"
   ]
  },
  {
   "cell_type": "code",
   "execution_count": null,
   "id": "8891ebc8",
   "metadata": {},
   "outputs": [],
   "source": [
    "df_sunshine.set_index(\"month\", inplace=True)"
   ]
  },
  {
   "cell_type": "code",
   "execution_count": null,
   "id": "dde6855b",
   "metadata": {},
   "outputs": [],
   "source": [
    "df_sunshine = df_sunshine.rename(columns={'value': 'sunshine'})"
   ]
  },
  {
   "cell_type": "markdown",
   "id": "30dbf843",
   "metadata": {},
   "source": [
    "## final output"
   ]
  },
  {
   "cell_type": "code",
   "execution_count": null,
   "id": "56bf902d",
   "metadata": {},
   "outputs": [],
   "source": [
    "df_sunshine"
   ]
  },
  {
   "cell_type": "markdown",
   "id": "70eebe44",
   "metadata": {},
   "source": [
    "# rain\n",
    "\n",
    "https://data.cso.ie/table/MTM01"
   ]
  },
  {
   "cell_type": "code",
   "execution_count": null,
   "id": "6f9769f3",
   "metadata": {},
   "outputs": [],
   "source": [
    "df_rain = pd.read_csv(\"data/ie/weather/shannon_airport_rain.csv\")"
   ]
  },
  {
   "cell_type": "code",
   "execution_count": null,
   "id": "18200764",
   "metadata": {},
   "outputs": [],
   "source": [
    "df_rain"
   ]
  },
  {
   "cell_type": "code",
   "execution_count": null,
   "id": "fc577a4e",
   "metadata": {},
   "outputs": [],
   "source": [
    "snake_case_columns(df_rain)"
   ]
  },
  {
   "cell_type": "code",
   "execution_count": null,
   "id": "6601af11",
   "metadata": {},
   "outputs": [],
   "source": [
    "df_rain[\"statistic\"].unique()"
   ]
  },
  {
   "cell_type": "code",
   "execution_count": null,
   "id": "14315dad",
   "metadata": {},
   "outputs": [],
   "source": [
    "df_rain[df_rain[\"statistic\"]==\"Total Rainfall\"]"
   ]
  },
  {
   "cell_type": "code",
   "execution_count": null,
   "id": "a0bc2f3c",
   "metadata": {},
   "outputs": [],
   "source": [
    "df_rain[df_rain[\"statistic\"]==\"Most Rainfall in a Day\"]"
   ]
  },
  {
   "cell_type": "code",
   "execution_count": null,
   "id": "f749c7fc",
   "metadata": {},
   "outputs": [],
   "source": [
    "df_rain[df_rain[\"statistic\"]==\"Raindays (0.2mm or More)\"]"
   ]
  },
  {
   "cell_type": "code",
   "execution_count": null,
   "id": "f3d61fcf",
   "metadata": {},
   "outputs": [],
   "source": [
    "df_rain = df_rain[df_rain[\"statistic\"]==\"Total Rainfall\"]"
   ]
  },
  {
   "cell_type": "code",
   "execution_count": null,
   "id": "43cdae88",
   "metadata": {},
   "outputs": [],
   "source": [
    "df_rain = df_rain.drop([\"statistic\",\"meteorological_weather_station\",\"unit\"], axis=1)"
   ]
  },
  {
   "cell_type": "code",
   "execution_count": null,
   "id": "152d90f4",
   "metadata": {},
   "outputs": [],
   "source": [
    "cso_date_to_datetime(df_rain, \"month\")"
   ]
  },
  {
   "cell_type": "code",
   "execution_count": null,
   "id": "2499c013",
   "metadata": {},
   "outputs": [],
   "source": [
    "df_rain = df_rain[df_rain.month.dt.year > 1998]"
   ]
  },
  {
   "cell_type": "code",
   "execution_count": null,
   "id": "b7700c89",
   "metadata": {},
   "outputs": [],
   "source": [
    "df_rain.isnull().sum()"
   ]
  },
  {
   "cell_type": "code",
   "execution_count": null,
   "id": "f8353ec3",
   "metadata": {},
   "outputs": [],
   "source": [
    "df_rain[df_rain.isna().any(axis=1)]"
   ]
  },
  {
   "cell_type": "code",
   "execution_count": null,
   "id": "f3e01e2a",
   "metadata": {},
   "outputs": [],
   "source": [
    "df_rain.set_index(\"month\", inplace=True)"
   ]
  },
  {
   "cell_type": "code",
   "execution_count": null,
   "id": "07f51299",
   "metadata": {},
   "outputs": [],
   "source": [
    "df_rain.info()"
   ]
  },
  {
   "cell_type": "code",
   "execution_count": null,
   "id": "4372f4e9",
   "metadata": {},
   "outputs": [],
   "source": [
    "df_rain.rename(columns={'value': 'rain'}, inplace=True)"
   ]
  },
  {
   "cell_type": "markdown",
   "id": "e5463318",
   "metadata": {},
   "source": [
    "## final output"
   ]
  },
  {
   "cell_type": "code",
   "execution_count": null,
   "id": "621b0602",
   "metadata": {},
   "outputs": [],
   "source": [
    "df_rain"
   ]
  },
  {
   "cell_type": "markdown",
   "id": "fbd21d55",
   "metadata": {},
   "source": [
    "# temperature\n",
    "\n",
    "https://data.cso.ie/table/MTM02"
   ]
  },
  {
   "cell_type": "code",
   "execution_count": null,
   "id": "2d51ce45",
   "metadata": {},
   "outputs": [],
   "source": [
    "df_temp = pd.read_csv(\"data/ie/weather/shannon_airport_temp.csv\")"
   ]
  },
  {
   "cell_type": "code",
   "execution_count": null,
   "id": "40e074dc",
   "metadata": {},
   "outputs": [],
   "source": [
    "df_temp"
   ]
  },
  {
   "cell_type": "code",
   "execution_count": null,
   "id": "a904ff2f",
   "metadata": {},
   "outputs": [],
   "source": [
    "snake_case_columns(df_temp)"
   ]
  },
  {
   "cell_type": "code",
   "execution_count": null,
   "id": "c259ebc9",
   "metadata": {},
   "outputs": [],
   "source": [
    "df_temp = df_temp.drop([\"statistic\",\"meteorological_weather_station\",\"unit\"], axis=1)"
   ]
  },
  {
   "cell_type": "code",
   "execution_count": null,
   "id": "9077d285",
   "metadata": {},
   "outputs": [],
   "source": [
    "cso_date_to_datetime(df_temp, \"month\")"
   ]
  },
  {
   "cell_type": "code",
   "execution_count": null,
   "id": "dca79cc1",
   "metadata": {},
   "outputs": [],
   "source": [
    "df_temp = df_temp[df_temp.month.dt.year > 1998]"
   ]
  },
  {
   "cell_type": "code",
   "execution_count": null,
   "id": "ed3ec8c5",
   "metadata": {},
   "outputs": [],
   "source": [
    "df_temp.isnull().sum()"
   ]
  },
  {
   "cell_type": "code",
   "execution_count": null,
   "id": "c31766ce",
   "metadata": {},
   "outputs": [],
   "source": [
    "df_temp[df_temp.isna().any(axis=1)]"
   ]
  },
  {
   "cell_type": "code",
   "execution_count": null,
   "id": "b7de90d9",
   "metadata": {},
   "outputs": [],
   "source": [
    "df_temp.set_index(\"month\", inplace=True)"
   ]
  },
  {
   "cell_type": "code",
   "execution_count": null,
   "id": "a768e455",
   "metadata": {},
   "outputs": [],
   "source": [
    "df_temp = df_temp.rename(columns={'value': 'temp'})"
   ]
  },
  {
   "cell_type": "markdown",
   "id": "a22c227a",
   "metadata": {},
   "source": [
    "## final output"
   ]
  },
  {
   "cell_type": "code",
   "execution_count": null,
   "id": "f6f1527b",
   "metadata": {},
   "outputs": [],
   "source": [
    "df_temp"
   ]
  },
  {
   "cell_type": "markdown",
   "id": "b418fb5d",
   "metadata": {},
   "source": [
    "# fuel_cost\n",
    "\n",
    "regular unleaded AND diesel\n",
    "\n",
    "https://www.theaa.ie/aa/motoring-advice/petrol-prices.aspx\n",
    "    \n",
    "\"All figures in Euros\"\n",
    "\n",
    "fuel_prices_1995-2022.csv was preprossed manually using what is in FuelpricesHistory_Mar22.pdf and FuelpricesHistory_Mar22_preprocessed.xlsx\n",
    "\n",
    "petrol was previously labelled \"Regular Unleaded\""
   ]
  },
  {
   "cell_type": "code",
   "execution_count": null,
   "id": "1ba64864",
   "metadata": {},
   "outputs": [],
   "source": [
    "df_fuel = pd.read_csv(\"data/ie/fuel/fuel_prices_1995-2022.csv\")"
   ]
  },
  {
   "cell_type": "code",
   "execution_count": null,
   "id": "e5b82cfc",
   "metadata": {},
   "outputs": [],
   "source": [
    "df_fuel"
   ]
  },
  {
   "cell_type": "code",
   "execution_count": null,
   "id": "7eba06d7",
   "metadata": {},
   "outputs": [],
   "source": [
    "df_fuel.info()"
   ]
  },
  {
   "cell_type": "code",
   "execution_count": null,
   "id": "7835ffd9",
   "metadata": {},
   "outputs": [],
   "source": [
    "df_fuel = df_fuel.astype(dtype= {\"date\":\"datetime64[ns]\"})"
   ]
  },
  {
   "cell_type": "code",
   "execution_count": null,
   "id": "7e6be082",
   "metadata": {},
   "outputs": [],
   "source": [
    "df_fuel.isnull().sum()"
   ]
  },
  {
   "cell_type": "code",
   "execution_count": null,
   "id": "e7c0e02c",
   "metadata": {},
   "outputs": [],
   "source": [
    "df_fuel[df_fuel.isna().any(axis=1)]"
   ]
  },
  {
   "cell_type": "code",
   "execution_count": null,
   "id": "0aa55edb",
   "metadata": {},
   "outputs": [],
   "source": [
    "df_fuel[df_fuel.date.dt.year==2000]"
   ]
  },
  {
   "cell_type": "code",
   "execution_count": null,
   "id": "49e16e4f",
   "metadata": {},
   "outputs": [],
   "source": [
    "# experiment between interprolation and rolling mean to fill in the NaNs"
   ]
  },
  {
   "cell_type": "code",
   "execution_count": null,
   "id": "53524007",
   "metadata": {},
   "outputs": [],
   "source": [
    "df_tmp_fuel = df_fuel.assign(petrol_roll=df_fuel.petrol.fillna(df_fuel.petrol.rolling(9,min_periods=1,center=False).mean()))"
   ]
  },
  {
   "cell_type": "code",
   "execution_count": null,
   "id": "5c97cfcd",
   "metadata": {},
   "outputs": [],
   "source": [
    "df_tmp_fuel = df_tmp_fuel.assign(diesel_roll=df_tmp_fuel.diesel.fillna(df_tmp_fuel.diesel.rolling(9,min_periods=1,center=False).mean()))"
   ]
  },
  {
   "cell_type": "code",
   "execution_count": null,
   "id": "165c443f",
   "metadata": {},
   "outputs": [],
   "source": [
    "# https://stackoverflow.com/questions/49308530/missing-values-in-time-series-in-python\n",
    "df_tmp_fuel['petrol_inter'] = df_tmp_fuel['petrol'].interpolate(method='linear')"
   ]
  },
  {
   "cell_type": "code",
   "execution_count": null,
   "id": "555a549a",
   "metadata": {},
   "outputs": [],
   "source": [
    "df_tmp_fuel['diesel_inter'] = df_tmp_fuel['diesel'].interpolate(method='linear')"
   ]
  },
  {
   "cell_type": "code",
   "execution_count": null,
   "id": "1e406d0c",
   "metadata": {},
   "outputs": [],
   "source": [
    "col_reorder = [\"date\",\"petrol\",\"petrol_roll\",\"petrol_inter\",\"diesel\",\"diesel_roll\", \"diesel_inter\"]"
   ]
  },
  {
   "cell_type": "code",
   "execution_count": null,
   "id": "d00ef07e",
   "metadata": {},
   "outputs": [],
   "source": [
    "df_tmp_fuel[df_tmp_fuel.isna().any(axis=1)][col_reorder]"
   ]
  },
  {
   "cell_type": "code",
   "execution_count": null,
   "id": "c8a904b8",
   "metadata": {},
   "outputs": [],
   "source": [
    "# both rolling mean and interprolation have removed all NaNs besides 1 in 1994 which we don't care about\n",
    "# since the data we are examing is 1999-2022\n",
    "df_tmp_fuel.isnull().sum()"
   ]
  },
  {
   "cell_type": "code",
   "execution_count": null,
   "id": "c4cac3bf",
   "metadata": {},
   "outputs": [],
   "source": [
    "# 2000 has no missing values but it is nice to check the original values haven't been changed in any way\n",
    "# result looks fine\n",
    "df_tmp_fuel[df_tmp_fuel.date.dt.year == 2000][col_reorder]"
   ]
  },
  {
   "cell_type": "code",
   "execution_count": null,
   "id": "aaccfd70",
   "metadata": {},
   "outputs": [],
   "source": [
    "# 1999 has missing values we need to fill in for\n",
    "df_fuel_tmp_1999 = df_tmp_fuel[df_tmp_fuel.date.dt.year==1999]"
   ]
  },
  {
   "cell_type": "code",
   "execution_count": null,
   "id": "cee02c9a",
   "metadata": {},
   "outputs": [],
   "source": [
    "# interpolation gives a smoother averaging compared to just using a rolling average\n",
    "# interprolation will be used to fill in the missing data.\n",
    "df_fuel_tmp_1999[col_reorder]"
   ]
  },
  {
   "cell_type": "code",
   "execution_count": null,
   "id": "3a2732c6",
   "metadata": {},
   "outputs": [],
   "source": [
    "df_fuel['petrol'] = df_fuel['petrol'].interpolate(method='linear')"
   ]
  },
  {
   "cell_type": "code",
   "execution_count": null,
   "id": "d104da84",
   "metadata": {},
   "outputs": [],
   "source": [
    "df_fuel['diesel'] = df_fuel['diesel'].interpolate(method='linear')"
   ]
  },
  {
   "cell_type": "code",
   "execution_count": null,
   "id": "98507374",
   "metadata": {},
   "outputs": [],
   "source": [
    "df_fuel = df_fuel[df_fuel.date.dt.year > 1998]"
   ]
  },
  {
   "cell_type": "code",
   "execution_count": null,
   "id": "183b2aa1",
   "metadata": {},
   "outputs": [],
   "source": [
    "df_fuel.isnull().sum()"
   ]
  },
  {
   "cell_type": "code",
   "execution_count": null,
   "id": "11c7d76e",
   "metadata": {},
   "outputs": [],
   "source": [
    "df_fuel.set_index(\"date\", inplace=True)"
   ]
  },
  {
   "cell_type": "markdown",
   "id": "ff1e51c4",
   "metadata": {},
   "source": [
    "## final output"
   ]
  },
  {
   "cell_type": "code",
   "execution_count": null,
   "id": "9367ae69",
   "metadata": {},
   "outputs": [],
   "source": [
    "df_fuel"
   ]
  },
  {
   "cell_type": "markdown",
   "id": "37601af6",
   "metadata": {},
   "source": [
    "# Brent Oil\n",
    "\n",
    "https://www.eia.gov/dnav/pet/hist/LeafHandler.ashx?n=PET&s=RBRTE&f=M"
   ]
  },
  {
   "cell_type": "code",
   "execution_count": null,
   "id": "445ee331",
   "metadata": {},
   "outputs": [],
   "source": [
    "df_brent = pd.read_csv(\"data/gl/oil/brent_crude_oil_USD_1987-2022.csv\")"
   ]
  },
  {
   "cell_type": "code",
   "execution_count": null,
   "id": "678ca1f9",
   "metadata": {},
   "outputs": [],
   "source": [
    "df_brent"
   ]
  },
  {
   "cell_type": "code",
   "execution_count": null,
   "id": "d75822ae",
   "metadata": {},
   "outputs": [],
   "source": [
    "df_brent = df_brent.rename(columns={\"Europe Brent Spot Price FOB (Dollars per Barrel)\": \"price\"})"
   ]
  },
  {
   "cell_type": "code",
   "execution_count": null,
   "id": "8bfad394",
   "metadata": {},
   "outputs": [],
   "source": [
    "snake_case_columns(df_brent)"
   ]
  },
  {
   "cell_type": "code",
   "execution_count": null,
   "id": "9337dd48",
   "metadata": {},
   "outputs": [],
   "source": [
    "df_brent.info()"
   ]
  },
  {
   "cell_type": "code",
   "execution_count": null,
   "id": "0d693326",
   "metadata": {},
   "outputs": [],
   "source": [
    "df_brent[\"date\"] = pd.to_datetime(df_brent[\"date\"], format='%b-%Y') + MonthEnd(1)"
   ]
  },
  {
   "cell_type": "code",
   "execution_count": null,
   "id": "f723cfc9",
   "metadata": {},
   "outputs": [],
   "source": [
    "df_brent"
   ]
  },
  {
   "cell_type": "code",
   "execution_count": null,
   "id": "1f527b16",
   "metadata": {},
   "outputs": [],
   "source": [
    "df_brent.isnull().sum()"
   ]
  },
  {
   "cell_type": "code",
   "execution_count": null,
   "id": "d36af861",
   "metadata": {},
   "outputs": [],
   "source": [
    "df_brent[df_brent.isna().any(axis=1)]"
   ]
  },
  {
   "cell_type": "code",
   "execution_count": null,
   "id": "5812fab9",
   "metadata": {},
   "outputs": [],
   "source": [
    "# very last row is NaN for some reason so just drop it\n",
    "df_brent = df_brent.dropna()"
   ]
  },
  {
   "cell_type": "code",
   "execution_count": null,
   "id": "9814d1f3",
   "metadata": {},
   "outputs": [],
   "source": [
    "df_brent = df_brent[df_brent.date.dt.year > 1998]"
   ]
  },
  {
   "cell_type": "code",
   "execution_count": null,
   "id": "fb677d7d",
   "metadata": {},
   "outputs": [],
   "source": [
    "df_brent.set_index(\"date\", inplace=True)"
   ]
  },
  {
   "cell_type": "code",
   "execution_count": null,
   "id": "876c0899",
   "metadata": {},
   "outputs": [],
   "source": [
    "df_brent.index.rename(\"month\", inplace=True)"
   ]
  },
  {
   "cell_type": "code",
   "execution_count": null,
   "id": "aa6466a3",
   "metadata": {
    "scrolled": true
   },
   "outputs": [],
   "source": [
    "df_brent.info()"
   ]
  },
  {
   "cell_type": "code",
   "execution_count": null,
   "id": "49372996",
   "metadata": {},
   "outputs": [],
   "source": [
    "df_brent=df_brent.rename(columns={'price': 'brent_price'})"
   ]
  },
  {
   "cell_type": "markdown",
   "id": "e18a5af3",
   "metadata": {},
   "source": [
    "## final output"
   ]
  },
  {
   "cell_type": "code",
   "execution_count": null,
   "id": "4fe3c169",
   "metadata": {},
   "outputs": [],
   "source": [
    "df_brent"
   ]
  },
  {
   "cell_type": "markdown",
   "id": "d72e64c8",
   "metadata": {},
   "source": [
    "# crude_oil\n",
    "\n",
    "https://www.eia.gov/dnav/pet/pet_pri_fut_s1_m.htm\n",
    "\n",
    "The oil used here comes from the Data 1 sheet in the excel file provided in the above link.\n",
    "\n",
    "The price is the first oil futures contract \"RCLC1\":\n",
    "\n",
    "\"Cushing, OK Crude Oil Future Contract 1 (Dollars per Barrel)\"\n"
   ]
  },
  {
   "cell_type": "code",
   "execution_count": null,
   "id": "56786ea8",
   "metadata": {},
   "outputs": [],
   "source": [
    "# the csv file was manually preprocessed from the excel file provided in the above link\n",
    "df_crude = pd.read_csv(\"data/gl/oil/crude_oil_1983-2022.csv\")"
   ]
  },
  {
   "cell_type": "code",
   "execution_count": null,
   "id": "654cf63a",
   "metadata": {},
   "outputs": [],
   "source": [
    "df_crude"
   ]
  },
  {
   "cell_type": "code",
   "execution_count": null,
   "id": "8b5f2fd9",
   "metadata": {},
   "outputs": [],
   "source": [
    "df_crude.info()"
   ]
  },
  {
   "cell_type": "code",
   "execution_count": null,
   "id": "5f5379f3",
   "metadata": {},
   "outputs": [],
   "source": [
    "df_crude[\"date\"] = pd.to_datetime(df_crude[\"date\"], format='%b-%y') + MonthEnd(1)"
   ]
  },
  {
   "cell_type": "code",
   "execution_count": null,
   "id": "65edefa0",
   "metadata": {},
   "outputs": [],
   "source": [
    "df_crude = df_crude.rename(columns={\"price_dollars_per_barrel\": \"price\"})"
   ]
  },
  {
   "cell_type": "code",
   "execution_count": null,
   "id": "4407398f",
   "metadata": {},
   "outputs": [],
   "source": [
    "df_crude = df_crude[df_crude.date.dt.year > 1998]"
   ]
  },
  {
   "cell_type": "code",
   "execution_count": null,
   "id": "af43d574",
   "metadata": {},
   "outputs": [],
   "source": [
    "df_crude = df_crude.set_index(\"date\")"
   ]
  },
  {
   "cell_type": "code",
   "execution_count": null,
   "id": "f0047eae",
   "metadata": {},
   "outputs": [],
   "source": [
    "df_crude.index = df_crude.index.rename(\"month\")"
   ]
  },
  {
   "cell_type": "code",
   "execution_count": null,
   "id": "26ae1728",
   "metadata": {},
   "outputs": [],
   "source": [
    "df_crude=df_crude.rename(columns={'price': 'crude_price'})"
   ]
  },
  {
   "cell_type": "markdown",
   "id": "c60f262e",
   "metadata": {},
   "source": [
    "## final output"
   ]
  },
  {
   "cell_type": "code",
   "execution_count": null,
   "id": "75953ab5",
   "metadata": {},
   "outputs": [],
   "source": [
    "df_crude"
   ]
  },
  {
   "cell_type": "markdown",
   "id": "00ff8a88",
   "metadata": {},
   "source": [
    "# consumer price index\n",
    "\n",
    "https://data.cso.ie/table/CPM01\n",
    "\n",
    "https://data.cso.ie/table/CPM03 (didn't use this one)\n",
    "\n",
    "https://data.cso.ie/table/CPM13\n",
    "    "
   ]
  },
  {
   "cell_type": "code",
   "execution_count": null,
   "id": "8d190332",
   "metadata": {},
   "outputs": [],
   "source": [
    "# The base is Dec 2016=100\n",
    "df_cpi = pd.read_csv(\"data/ie/cpi_1975-2022.csv\")"
   ]
  },
  {
   "cell_type": "code",
   "execution_count": null,
   "id": "e13aaaa2",
   "metadata": {},
   "outputs": [],
   "source": [
    "df_cpi"
   ]
  },
  {
   "cell_type": "code",
   "execution_count": null,
   "id": "16517752",
   "metadata": {},
   "outputs": [],
   "source": [
    "snake_case_columns(df_cpi)"
   ]
  },
  {
   "cell_type": "code",
   "execution_count": null,
   "id": "b0f9d2e1",
   "metadata": {},
   "outputs": [],
   "source": [
    "cso_date_to_datetime(df_cpi, \"month\")"
   ]
  },
  {
   "cell_type": "code",
   "execution_count": null,
   "id": "2cd7a351",
   "metadata": {},
   "outputs": [],
   "source": [
    "df_cpi = df_cpi.drop([\"statistic\", \"unit\"], axis=1)"
   ]
  },
  {
   "cell_type": "code",
   "execution_count": null,
   "id": "8c79fd86",
   "metadata": {},
   "outputs": [],
   "source": [
    "df_cpi = df_cpi[df_cpi.month.dt.year > 1998]"
   ]
  },
  {
   "cell_type": "code",
   "execution_count": null,
   "id": "321c72ce",
   "metadata": {},
   "outputs": [],
   "source": [
    "df_cpi = df_cpi.pivot(index='month', columns='commodity_group', values='value')"
   ]
  },
  {
   "cell_type": "code",
   "execution_count": null,
   "id": "5cef4943",
   "metadata": {},
   "outputs": [],
   "source": [
    "snake_case_columns(df_cpi)"
   ]
  },
  {
   "cell_type": "markdown",
   "id": "bda52633",
   "metadata": {},
   "source": [
    "## final output"
   ]
  },
  {
   "cell_type": "code",
   "execution_count": null,
   "id": "537af13e",
   "metadata": {},
   "outputs": [],
   "source": [
    "df_cpi"
   ]
  },
  {
   "cell_type": "markdown",
   "id": "06c3cd52",
   "metadata": {},
   "source": [
    "# National Average Price index\n",
    "\n",
    "\n",
    "https://data.cso.ie/table/CPM12 2011M12 - 2022M02\n",
    "\n",
    "https://data.cso.ie/table/CPM04 2001M12 - 2011M12\n",
    "\n",
    "https://data.cso.ie/table/CPM08 1997M01 - 2001M11\n",
    "\n",
    "1IEP == 1.27EUR\n",
    "\n",
    "https://www.kildare.ie/business/euro-cal.asp\n"
   ]
  },
  {
   "cell_type": "markdown",
   "id": "2c8ba102",
   "metadata": {},
   "source": [
    "## nap_1997-2001"
   ]
  },
  {
   "cell_type": "code",
   "execution_count": null,
   "id": "e51c01aa",
   "metadata": {},
   "outputs": [],
   "source": [
    "df_nap_2001 = pd.read_csv(\"data/ie/nap/nap_1997-2001.csv\")"
   ]
  },
  {
   "cell_type": "code",
   "execution_count": null,
   "id": "0f102534",
   "metadata": {},
   "outputs": [],
   "source": [
    "df_nap_2001"
   ]
  },
  {
   "cell_type": "code",
   "execution_count": null,
   "id": "e5354a4b",
   "metadata": {},
   "outputs": [],
   "source": [
    "snake_case_columns(df_nap_2001)"
   ]
  },
  {
   "cell_type": "code",
   "execution_count": null,
   "id": "20db8581",
   "metadata": {},
   "outputs": [],
   "source": [
    "cso_date_to_datetime(df_nap_2001, \"month\")"
   ]
  },
  {
   "cell_type": "code",
   "execution_count": null,
   "id": "2f3026e1",
   "metadata": {},
   "outputs": [],
   "source": [
    "df_nap_2001 = df_nap_2001[df_nap_2001.month.dt.year > 1998]"
   ]
  },
  {
   "cell_type": "code",
   "execution_count": null,
   "id": "31bb9a6d",
   "metadata": {},
   "outputs": [],
   "source": [
    "df_nap_2001 = df_nap_2001.pivot(index='month', columns='consumer_item', values='value')"
   ]
  },
  {
   "cell_type": "code",
   "execution_count": null,
   "id": "9591d0a7",
   "metadata": {},
   "outputs": [],
   "source": [
    "df_nap_2001.isnull().sum().sum()"
   ]
  },
  {
   "cell_type": "code",
   "execution_count": null,
   "id": "fc267239",
   "metadata": {},
   "outputs": [],
   "source": [
    "for index, value in df_nap_2001.isna().any().items():\n",
    "    if value:\n",
    "        print(index)\n",
    "        df_nap_2001[index] = df_nap_2001[index].interpolate(method='linear')"
   ]
  },
  {
   "cell_type": "code",
   "execution_count": null,
   "id": "2e55b778",
   "metadata": {},
   "outputs": [],
   "source": [
    "df_nap_2001.isnull().sum().sum()"
   ]
  },
  {
   "cell_type": "code",
   "execution_count": null,
   "id": "c1c92e74",
   "metadata": {},
   "outputs": [],
   "source": [
    "df_nap_2001[df_nap_2001.isna().any(axis=1)]"
   ]
  },
  {
   "cell_type": "code",
   "execution_count": null,
   "id": "6d8e66c2",
   "metadata": {},
   "outputs": [],
   "source": [
    "df_nap_2001"
   ]
  },
  {
   "cell_type": "code",
   "execution_count": null,
   "id": "c3a1456b",
   "metadata": {},
   "outputs": [],
   "source": [
    "euriep=1.27"
   ]
  },
  {
   "cell_type": "code",
   "execution_count": null,
   "id": "599a279b",
   "metadata": {},
   "outputs": [],
   "source": [
    "# convert everything to euro\n",
    "df_nap_2001 = df_nap_2001 * euriep"
   ]
  },
  {
   "cell_type": "code",
   "execution_count": null,
   "id": "a5d42ce3",
   "metadata": {},
   "outputs": [],
   "source": [
    "df_nap_2001.columns"
   ]
  },
  {
   "cell_type": "code",
   "execution_count": null,
   "id": "4c39aecf",
   "metadata": {},
   "outputs": [],
   "source": [
    "import re\n",
    "reg_not_words = re.compile('[^\\w\\s]')"
   ]
  },
  {
   "cell_type": "code",
   "execution_count": null,
   "id": "b77aa09c",
   "metadata": {},
   "outputs": [],
   "source": [
    "df_nap_2001.columns = map(lambda x : reg_not_words.sub(\"\",x).replace(\" \", \"_\").replace(\"__\", \"_\").lower(), df_nap_2001.columns)"
   ]
  },
  {
   "cell_type": "code",
   "execution_count": null,
   "id": "f98702f1",
   "metadata": {},
   "outputs": [],
   "source": [
    "df_nap_2001.columns"
   ]
  },
  {
   "cell_type": "markdown",
   "id": "18806680",
   "metadata": {},
   "source": [
    "### intermediate output"
   ]
  },
  {
   "cell_type": "code",
   "execution_count": null,
   "id": "9af45d0c",
   "metadata": {},
   "outputs": [],
   "source": [
    "df_nap_2001"
   ]
  },
  {
   "cell_type": "markdown",
   "id": "ea76b728",
   "metadata": {},
   "source": [
    "## nap_2001-2011"
   ]
  },
  {
   "cell_type": "code",
   "execution_count": null,
   "id": "335469c6",
   "metadata": {},
   "outputs": [],
   "source": [
    "df_nap_2011 = pd.read_csv(\"data/ie/nap/nap_2001-2011.csv\")"
   ]
  },
  {
   "cell_type": "code",
   "execution_count": null,
   "id": "7dfef116",
   "metadata": {},
   "outputs": [],
   "source": [
    "df_nap_2011"
   ]
  },
  {
   "cell_type": "code",
   "execution_count": null,
   "id": "490bfdec",
   "metadata": {},
   "outputs": [],
   "source": [
    "snake_case_columns(df_nap_2011)"
   ]
  },
  {
   "cell_type": "code",
   "execution_count": null,
   "id": "beca517a",
   "metadata": {},
   "outputs": [],
   "source": [
    "cso_date_to_datetime(df_nap_2011, \"month\")"
   ]
  },
  {
   "cell_type": "code",
   "execution_count": null,
   "id": "a8ba8ae5",
   "metadata": {},
   "outputs": [],
   "source": [
    "df_nap_2011 = df_nap_2011.pivot(index='month', columns='consumer_item', values='value')"
   ]
  },
  {
   "cell_type": "code",
   "execution_count": null,
   "id": "693127e3",
   "metadata": {},
   "outputs": [],
   "source": [
    "df_nap_2011.isnull().sum()"
   ]
  },
  {
   "cell_type": "code",
   "execution_count": null,
   "id": "6dfca248",
   "metadata": {},
   "outputs": [],
   "source": [
    "df_nap_2011[df_nap_2011.isna().any(axis=1)]"
   ]
  },
  {
   "cell_type": "code",
   "execution_count": null,
   "id": "9cf07250",
   "metadata": {},
   "outputs": [],
   "source": [
    "for index, value in df_nap_2011.isna().any().items():\n",
    "    if value:\n",
    "        print(index)\n",
    "        df_nap_2011[index] = df_nap_2011[index].interpolate(method='linear')"
   ]
  },
  {
   "cell_type": "code",
   "execution_count": null,
   "id": "73bf4e0b",
   "metadata": {},
   "outputs": [],
   "source": [
    "df_nap_2011.isnull().sum()"
   ]
  },
  {
   "cell_type": "code",
   "execution_count": null,
   "id": "f705a591",
   "metadata": {},
   "outputs": [],
   "source": [
    "df_nap_2011 = df_nap_2011.dropna(axis='columns')"
   ]
  },
  {
   "cell_type": "code",
   "execution_count": null,
   "id": "27d02907",
   "metadata": {},
   "outputs": [],
   "source": [
    "df_nap_2011.isnull().sum()"
   ]
  },
  {
   "cell_type": "code",
   "execution_count": null,
   "id": "ad872e3f",
   "metadata": {},
   "outputs": [],
   "source": [
    "df_nap_2011.columns = map(lambda x : reg_not_words.sub(\"\",x).replace(\" \", \"_\").replace(\"__\", \"_\").lower(), df_nap_2011.columns)"
   ]
  },
  {
   "cell_type": "markdown",
   "id": "e5ebcc8c",
   "metadata": {},
   "source": [
    "### intermediate output"
   ]
  },
  {
   "cell_type": "code",
   "execution_count": null,
   "id": "6ea25060",
   "metadata": {},
   "outputs": [],
   "source": [
    "df_nap_2011"
   ]
  },
  {
   "cell_type": "markdown",
   "id": "7ae11dda",
   "metadata": {},
   "source": [
    "## nap_2011-2022"
   ]
  },
  {
   "cell_type": "code",
   "execution_count": null,
   "id": "bb1dc84f",
   "metadata": {},
   "outputs": [],
   "source": [
    "df_nap_2022 = pd.read_csv(\"data/ie/nap/nap_2011-2022.csv\")"
   ]
  },
  {
   "cell_type": "code",
   "execution_count": null,
   "id": "37f84734",
   "metadata": {},
   "outputs": [],
   "source": [
    "df_nap_2022"
   ]
  },
  {
   "cell_type": "code",
   "execution_count": null,
   "id": "2ebabe14",
   "metadata": {},
   "outputs": [],
   "source": [
    "snake_case_columns(df_nap_2022)"
   ]
  },
  {
   "cell_type": "code",
   "execution_count": null,
   "id": "4177ad86",
   "metadata": {},
   "outputs": [],
   "source": [
    "cso_date_to_datetime(df_nap_2022, \"month\")"
   ]
  },
  {
   "cell_type": "code",
   "execution_count": null,
   "id": "e337b733",
   "metadata": {},
   "outputs": [],
   "source": [
    "df_nap_2022 = df_nap_2022.pivot(index='month', columns='consumer_item', values='value')"
   ]
  },
  {
   "cell_type": "code",
   "execution_count": null,
   "id": "55756428",
   "metadata": {},
   "outputs": [],
   "source": [
    "print(\"df_nap_2022 min date\", \" : \", df_nap_2022.index.min())\n",
    "print(\"df_nap_2022 max date\", \" : \", df_nap_2022.index.max())\n",
    "print(\"df_nap_2022 len is  \", \" : \", len(df_nap_2022))"
   ]
  },
  {
   "cell_type": "code",
   "execution_count": null,
   "id": "f10eed4e",
   "metadata": {},
   "outputs": [],
   "source": [
    "df_nap_2022 = df_nap_2022.drop(pd.Timestamp('2011-12-31')) # this is actually a duplicate from df_nap_2022 2012-01-31"
   ]
  },
  {
   "cell_type": "code",
   "execution_count": null,
   "id": "c62fb4b6",
   "metadata": {},
   "outputs": [],
   "source": [
    "print(\"df_nap_2022 min date\", \" : \", df_nap_2022.index.min())\n",
    "print(\"df_nap_2022 max date\", \" : \", df_nap_2022.index.max())\n",
    "print(\"df_nap_2022 len is  \", \" : \", len(df_nap_2022))"
   ]
  },
  {
   "cell_type": "code",
   "execution_count": null,
   "id": "c4cdf21f",
   "metadata": {},
   "outputs": [],
   "source": [
    "df_nap_2022.isnull().sum()"
   ]
  },
  {
   "cell_type": "code",
   "execution_count": null,
   "id": "569b7ac4",
   "metadata": {},
   "outputs": [],
   "source": [
    "for index, value in df_nap_2022.isna().any().items():\n",
    "    if value:\n",
    "        print(index)\n",
    "        df_nap_2022[index] = df_nap_2022[index].interpolate(method='linear')"
   ]
  },
  {
   "cell_type": "code",
   "execution_count": null,
   "id": "233e5243",
   "metadata": {},
   "outputs": [],
   "source": [
    "df_nap_2022.isnull().sum()"
   ]
  },
  {
   "cell_type": "code",
   "execution_count": null,
   "id": "f8c5c727",
   "metadata": {},
   "outputs": [],
   "source": [
    "df_nap_2022"
   ]
  },
  {
   "cell_type": "code",
   "execution_count": null,
   "id": "e92cdf9f",
   "metadata": {},
   "outputs": [],
   "source": [
    "for index, value in df_nap_2022.isna().any().items():\n",
    "    if value:\n",
    "        print(index)\n",
    "        df_nap_2022[index] = df_nap_2022[index].interpolate(method='linear', limit_direction='backward', limit=1)"
   ]
  },
  {
   "cell_type": "code",
   "execution_count": null,
   "id": "ceedd834",
   "metadata": {},
   "outputs": [],
   "source": [
    "df_nap_2022.isnull().sum()"
   ]
  },
  {
   "cell_type": "code",
   "execution_count": null,
   "id": "75f23246",
   "metadata": {},
   "outputs": [],
   "source": [
    "df_nap_2022 = df_nap_2022.dropna(axis='columns')"
   ]
  },
  {
   "cell_type": "code",
   "execution_count": null,
   "id": "359ac90d",
   "metadata": {},
   "outputs": [],
   "source": [
    "df_nap_2022.columns = map(lambda x : reg_not_words.sub(\"\",x).replace(\" \", \"_\").replace(\"__\", \"_\").lower(), df_nap_2022.columns)"
   ]
  },
  {
   "cell_type": "code",
   "execution_count": null,
   "id": "ac4dc5f9",
   "metadata": {},
   "outputs": [],
   "source": [
    "df_nap_2022.columns = map(lambda x : x.replace(\"litre\",\"ltr\"), df_nap_2022.columns)"
   ]
  },
  {
   "cell_type": "markdown",
   "id": "f0343aa8",
   "metadata": {},
   "source": [
    "### intermediate output"
   ]
  },
  {
   "cell_type": "code",
   "execution_count": null,
   "id": "fa326596",
   "metadata": {},
   "outputs": [],
   "source": [
    "df_nap_2022"
   ]
  },
  {
   "cell_type": "markdown",
   "id": "1f15a6c2",
   "metadata": {},
   "source": [
    "## final nap df"
   ]
  },
  {
   "cell_type": "code",
   "execution_count": null,
   "id": "df96fba1",
   "metadata": {},
   "outputs": [],
   "source": [
    "df_nap_2001.info()"
   ]
  },
  {
   "cell_type": "code",
   "execution_count": null,
   "id": "5385d4d3",
   "metadata": {},
   "outputs": [],
   "source": [
    "df_nap_2011.info()"
   ]
  },
  {
   "cell_type": "code",
   "execution_count": null,
   "id": "8490fc68",
   "metadata": {},
   "outputs": [],
   "source": [
    "df_nap_2022.info()"
   ]
  },
  {
   "cell_type": "code",
   "execution_count": null,
   "id": "49ec6684",
   "metadata": {},
   "outputs": [],
   "source": [
    "print(\"df_nap_2001 min date\", \" : \", df_nap_2001.index.min())\n",
    "print(\"df_nap_2001 max date\", \" : \", df_nap_2001.index.max())\n",
    "print(\"df_nap_2011 min date\", \" : \", df_nap_2011.index.min())\n",
    "print(\"df_nap_2011 max date\", \" : \", df_nap_2011.index.max())\n",
    "print(\"df_nap_2022 min date\", \" : \", df_nap_2022.index.min())\n",
    "print(\"df_nap_2022 max date\", \" : \", df_nap_2022.index.max())"
   ]
  },
  {
   "cell_type": "code",
   "execution_count": null,
   "id": "ea607858",
   "metadata": {},
   "outputs": [],
   "source": [
    "df_nap = pd.concat([df_nap_2001,df_nap_2011,df_nap_2022],join='inner', ignore_index=False)"
   ]
  },
  {
   "cell_type": "code",
   "execution_count": null,
   "id": "ca0b5c14",
   "metadata": {},
   "outputs": [],
   "source": [
    "df_nap.info()"
   ]
  },
  {
   "cell_type": "code",
   "execution_count": null,
   "id": "fb08d32c",
   "metadata": {},
   "outputs": [],
   "source": [
    "print(\"df_nap min date\", \" : \", df_nap.index.min())\n",
    "print(\"df_nap max date\", \" : \", df_nap.index.max())"
   ]
  },
  {
   "cell_type": "code",
   "execution_count": null,
   "id": "036ae990",
   "metadata": {},
   "outputs": [],
   "source": [
    "len(df_nap)"
   ]
  },
  {
   "attachments": {
    "1999-2022_months_count.png": {
     "image/png": "[encoded data removed]"
    }
   },
   "cell_type": "markdown",
   "id": "82050a16",
   "metadata": {},
   "source": [
    "![1999-2022_months_count.png](attachment:1999-2022_months_count.png)"
   ]
  },
  {
   "cell_type": "code",
   "execution_count": null,
   "id": "61b63c7c",
   "metadata": {},
   "outputs": [],
   "source": [
    "len(df_nap.columns)"
   ]
  },
  {
   "cell_type": "code",
   "execution_count": null,
   "id": "b629ff09",
   "metadata": {},
   "outputs": [],
   "source": [
    "df_nap.isnull().sum().sum()"
   ]
  },
  {
   "cell_type": "markdown",
   "id": "693aec34",
   "metadata": {},
   "source": [
    "## final output"
   ]
  },
  {
   "cell_type": "code",
   "execution_count": null,
   "id": "c472729a",
   "metadata": {},
   "outputs": [],
   "source": [
    "df_nap"
   ]
  },
  {
   "cell_type": "markdown",
   "id": "504827f9",
   "metadata": {},
   "source": [
    "# Feed Stuff Price\n",
    "\n",
    "https://data.cso.ie/table/AJM04\n",
    "    \n",
    "https://data.cso.ie/table/AJM08    "
   ]
  },
  {
   "cell_type": "markdown",
   "id": "7b26e6be",
   "metadata": {},
   "source": [
    "## feed_stuff_price_1976-2018"
   ]
  },
  {
   "cell_type": "code",
   "execution_count": null,
   "id": "e78e4bfc",
   "metadata": {},
   "outputs": [],
   "source": [
    "df_feed_2018 = pd.read_csv(\"data/ie/feed_stuff_price_1976-2018.csv\")"
   ]
  },
  {
   "cell_type": "code",
   "execution_count": null,
   "id": "53514e96",
   "metadata": {},
   "outputs": [],
   "source": [
    "df_feed_2018"
   ]
  },
  {
   "cell_type": "code",
   "execution_count": null,
   "id": "8266f001",
   "metadata": {},
   "outputs": [],
   "source": [
    "snake_case_columns(df_feed_2018)"
   ]
  },
  {
   "cell_type": "code",
   "execution_count": null,
   "id": "66aec4b6",
   "metadata": {},
   "outputs": [],
   "source": [
    "cso_date_to_datetime(df_feed_2018, \"month\")"
   ]
  },
  {
   "cell_type": "code",
   "execution_count": null,
   "id": "9a035138",
   "metadata": {},
   "outputs": [],
   "source": [
    "df_feed_2018 = df_feed_2018[df_feed_2018.month.dt.year > 1998]"
   ]
  },
  {
   "cell_type": "code",
   "execution_count": null,
   "id": "bf57aa8d",
   "metadata": {},
   "outputs": [],
   "source": [
    "df_feed_2018.unit.unique()"
   ]
  },
  {
   "cell_type": "code",
   "execution_count": null,
   "id": "54157c53",
   "metadata": {},
   "outputs": [],
   "source": [
    "df_feed_2018 = df_feed_2018.pivot(index='month', columns='type_of_feedstuff', values='value')"
   ]
  },
  {
   "cell_type": "code",
   "execution_count": null,
   "id": "9f4ebe20",
   "metadata": {},
   "outputs": [],
   "source": [
    "df_feed_2018"
   ]
  },
  {
   "cell_type": "code",
   "execution_count": null,
   "id": "2765b83d",
   "metadata": {},
   "outputs": [],
   "source": [
    "df_feed_2018.columns = map(lambda x : reg_not_words.sub(\"\",x).replace(\" \", \"_\").replace(\"__\", \"_\").lower(), df_feed_2018.columns)"
   ]
  },
  {
   "cell_type": "code",
   "execution_count": null,
   "id": "75d88085",
   "metadata": {},
   "outputs": [],
   "source": [
    "df_feed_2018.isnull().sum()"
   ]
  },
  {
   "cell_type": "code",
   "execution_count": null,
   "id": "82438732",
   "metadata": {},
   "outputs": [],
   "source": [
    "for index, value in df_feed_2018.isna().any().items():\n",
    "    if value:\n",
    "        print(index)\n",
    "        df_feed_2018[index] = df_feed_2018[index].interpolate(method='linear')"
   ]
  },
  {
   "cell_type": "code",
   "execution_count": null,
   "id": "22d4debb",
   "metadata": {},
   "outputs": [],
   "source": [
    "df_feed_2018.isnull().sum()"
   ]
  },
  {
   "cell_type": "code",
   "execution_count": null,
   "id": "159d66c1",
   "metadata": {},
   "outputs": [],
   "source": [
    "df_feed_2018 = df_feed_2018.dropna(axis='columns')"
   ]
  },
  {
   "cell_type": "code",
   "execution_count": null,
   "id": "41852eda",
   "metadata": {},
   "outputs": [],
   "source": [
    "df_feed_2018.isnull().sum()"
   ]
  },
  {
   "cell_type": "code",
   "execution_count": null,
   "id": "62c5bac3",
   "metadata": {},
   "outputs": [],
   "source": [
    "df_feed_2018.info()"
   ]
  },
  {
   "cell_type": "markdown",
   "id": "3d5edd5c",
   "metadata": {},
   "source": [
    "### intermediarte ouput"
   ]
  },
  {
   "cell_type": "code",
   "execution_count": null,
   "id": "739b27ab",
   "metadata": {},
   "outputs": [],
   "source": [
    "df_feed_2018"
   ]
  },
  {
   "cell_type": "markdown",
   "id": "16bf7eb3",
   "metadata": {},
   "source": [
    "## feed_stuff_price_2014-2022"
   ]
  },
  {
   "cell_type": "code",
   "execution_count": null,
   "id": "6e2ac7ff",
   "metadata": {},
   "outputs": [],
   "source": [
    "df_feed_2022 = pd.read_csv(\"data/ie/feed_stuff_price_2014-2022.csv\")"
   ]
  },
  {
   "cell_type": "code",
   "execution_count": null,
   "id": "7daffd22",
   "metadata": {},
   "outputs": [],
   "source": [
    "df_feed_2022"
   ]
  },
  {
   "cell_type": "code",
   "execution_count": null,
   "id": "68d25aaa",
   "metadata": {},
   "outputs": [],
   "source": [
    "snake_case_columns(df_feed_2022)"
   ]
  },
  {
   "cell_type": "code",
   "execution_count": null,
   "id": "bd5feae0",
   "metadata": {},
   "outputs": [],
   "source": [
    "cso_date_to_datetime(df_feed_2022, \"month\")"
   ]
  },
  {
   "cell_type": "code",
   "execution_count": null,
   "id": "3607831b",
   "metadata": {},
   "outputs": [],
   "source": [
    "df_feed_2022 = df_feed_2022.pivot(index='month', columns='type_of_feedstuff', values='value')"
   ]
  },
  {
   "cell_type": "code",
   "execution_count": null,
   "id": "3ddb802d",
   "metadata": {},
   "outputs": [],
   "source": [
    "df_feed_2022"
   ]
  },
  {
   "cell_type": "code",
   "execution_count": null,
   "id": "2f4ef823",
   "metadata": {},
   "outputs": [],
   "source": [
    "df_feed_2022 = df_feed_2022.replace(\".\", np.nan)"
   ]
  },
  {
   "cell_type": "code",
   "execution_count": null,
   "id": "39ff8fe7",
   "metadata": {},
   "outputs": [],
   "source": [
    "df_feed_2022 = df_feed_2022.astype(\"float64\")"
   ]
  },
  {
   "cell_type": "code",
   "execution_count": null,
   "id": "2ed76b48",
   "metadata": {},
   "outputs": [],
   "source": [
    "df_feed_2022.columns = map(lambda x : reg_not_words.sub(\"\",x).replace(\" \", \"_\").replace(\"__\", \"_\").lower(), df_feed_2022.columns)"
   ]
  },
  {
   "cell_type": "code",
   "execution_count": null,
   "id": "8f1035af",
   "metadata": {},
   "outputs": [],
   "source": [
    "df_feed_2022.isnull().sum()"
   ]
  },
  {
   "cell_type": "code",
   "execution_count": null,
   "id": "bb2e9f70",
   "metadata": {},
   "outputs": [],
   "source": [
    "for index, value in df_feed_2022.isna().any().items():\n",
    "    if value:\n",
    "        print(index)\n",
    "        df_feed_2022[index] = df_feed_2022[index].interpolate(method='linear')"
   ]
  },
  {
   "cell_type": "code",
   "execution_count": null,
   "id": "f6f534da",
   "metadata": {},
   "outputs": [],
   "source": [
    "df_feed_2022.isnull().sum()"
   ]
  },
  {
   "cell_type": "code",
   "execution_count": null,
   "id": "0b9123fe",
   "metadata": {},
   "outputs": [],
   "source": [
    "df_feed_2022 = df_feed_2022.dropna(axis=\"columns\")"
   ]
  },
  {
   "cell_type": "code",
   "execution_count": null,
   "id": "b22d6e30",
   "metadata": {},
   "outputs": [],
   "source": [
    "df_feed_2022.isnull().sum()"
   ]
  },
  {
   "cell_type": "code",
   "execution_count": null,
   "id": "a4dd9cf5",
   "metadata": {},
   "outputs": [],
   "source": [
    "df_feed_2022.info()"
   ]
  },
  {
   "cell_type": "markdown",
   "id": "372b1ef2",
   "metadata": {},
   "source": [
    "### intermediate output"
   ]
  },
  {
   "cell_type": "code",
   "execution_count": null,
   "id": "a7b03bfe",
   "metadata": {},
   "outputs": [],
   "source": [
    "df_feed_2022"
   ]
  },
  {
   "cell_type": "code",
   "execution_count": null,
   "id": "ab5aa587",
   "metadata": {},
   "outputs": [],
   "source": [
    "print(\"df_feed_2018.columns len is:\", len(df_feed_2018.columns))\n",
    "print(\"df_feed_2022.columns len is:\", len(df_feed_2022.columns))"
   ]
  },
  {
   "cell_type": "code",
   "execution_count": null,
   "id": "0ae9fcf1",
   "metadata": {},
   "outputs": [],
   "source": [
    "print(\"df_feed_2018 min date\", \" : \", df_feed_2018.index.min())\n",
    "print(\"df_feed_2018 max date\", \" : \", df_feed_2018.index.max())\n",
    "print(\"df_feed_2022 min date\", \" : \", df_feed_2022.index.min())\n",
    "print(\"df_feed_2022 max date\", \" : \", df_feed_2022.index.max())"
   ]
  },
  {
   "cell_type": "code",
   "execution_count": null,
   "id": "68b55997",
   "metadata": {},
   "outputs": [],
   "source": [
    "# intersection\n",
    "sorted(list(set(df_feed_2018.columns) & set(df_feed_2022.columns)))"
   ]
  },
  {
   "cell_type": "code",
   "execution_count": null,
   "id": "34cd852b",
   "metadata": {},
   "outputs": [],
   "source": [
    "df_feed_2018 = df_feed_2018[df_feed_2018.index.year < 2014]"
   ]
  },
  {
   "cell_type": "code",
   "execution_count": null,
   "id": "02bc4e63",
   "metadata": {},
   "outputs": [],
   "source": [
    "df_feed_2018.index.max()"
   ]
  },
  {
   "cell_type": "code",
   "execution_count": null,
   "id": "9d4fbf37",
   "metadata": {},
   "outputs": [],
   "source": [
    "df_feed = pd.concat([df_feed_2018, df_feed_2022],join='inner', ignore_index=False)"
   ]
  },
  {
   "cell_type": "code",
   "execution_count": null,
   "id": "ba697169",
   "metadata": {},
   "outputs": [],
   "source": [
    "df_feed.info()"
   ]
  },
  {
   "cell_type": "markdown",
   "id": "bf75772d",
   "metadata": {},
   "source": [
    "## final output"
   ]
  },
  {
   "cell_type": "code",
   "execution_count": null,
   "id": "a9fdb041",
   "metadata": {},
   "outputs": [],
   "source": [
    "df_feed"
   ]
  },
  {
   "cell_type": "markdown",
   "id": "aedb6ab1",
   "metadata": {},
   "source": [
    "# fuel consumption\n",
    "\n",
    "https://data.cso.ie/table/SEI06\n",
    "\n",
    "data is yearly and mostly zeros so it won't be used"
   ]
  },
  {
   "cell_type": "code",
   "execution_count": null,
   "id": "7cab9ecf",
   "metadata": {},
   "outputs": [],
   "source": [
    "df_fuel_consumption = pd.read_csv(\"data/ie/fuel_consumption_1990-2020.csv\")"
   ]
  },
  {
   "cell_type": "code",
   "execution_count": null,
   "id": "4d751dfc",
   "metadata": {},
   "outputs": [],
   "source": [
    "df_fuel_consumption"
   ]
  },
  {
   "cell_type": "code",
   "execution_count": null,
   "id": "08e809f8",
   "metadata": {},
   "outputs": [],
   "source": [
    "snake_case_columns(df_fuel_consumption)"
   ]
  },
  {
   "cell_type": "code",
   "execution_count": null,
   "id": "c1bea75b",
   "metadata": {},
   "outputs": [],
   "source": [
    "#cso_date_to_datetime(df_fuel_consumption, \"month\")\n",
    "\n",
    "df_fuel_consumption = df_fuel_consumption.pivot(index='year', columns='fuel_type', values='value')"
   ]
  },
  {
   "cell_type": "code",
   "execution_count": null,
   "id": "f37f8efd",
   "metadata": {},
   "outputs": [],
   "source": [
    "df_fuel_consumption.index = pd.to_datetime(df_fuel_consumption.index, format='%Y')"
   ]
  },
  {
   "cell_type": "code",
   "execution_count": null,
   "id": "ac2b5f5e",
   "metadata": {},
   "outputs": [],
   "source": [
    "df_fuel_consumption.info()"
   ]
  },
  {
   "cell_type": "code",
   "execution_count": null,
   "id": "a35b253c",
   "metadata": {},
   "outputs": [],
   "source": [
    "df_fuel_consumption = df_fuel_consumption[df_fuel_consumption.index.year > 1998]"
   ]
  },
  {
   "cell_type": "code",
   "execution_count": null,
   "id": "6edb8170",
   "metadata": {},
   "outputs": [],
   "source": [
    "df_fuel_consumption.isnull().sum()"
   ]
  },
  {
   "cell_type": "code",
   "execution_count": null,
   "id": "4df394ca",
   "metadata": {},
   "outputs": [],
   "source": [
    "df_fuel_consumption.dropna(axis=\"columns\")"
   ]
  },
  {
   "cell_type": "markdown",
   "id": "a4ece20e",
   "metadata": {},
   "source": [
    "# COLLATE ALL DATAFRAMES TOGETHER"
   ]
  },
  {
   "cell_type": "markdown",
   "id": "bfcb88eb",
   "metadata": {},
   "source": [
    "## merge beef and agri price index"
   ]
  },
  {
   "cell_type": "code",
   "execution_count": null,
   "id": "e26bf023",
   "metadata": {},
   "outputs": [],
   "source": [
    "df_final= pd.merge(df_beef_2, df_agri_price_indices_final, how='inner', left_index=True, right_index=True)"
   ]
  },
  {
   "cell_type": "code",
   "execution_count": null,
   "id": "2980ad7d",
   "metadata": {},
   "outputs": [],
   "source": [
    "df_final.isnull().sum().sum()"
   ]
  },
  {
   "cell_type": "code",
   "execution_count": null,
   "id": "05579f38",
   "metadata": {},
   "outputs": [],
   "source": [
    "df_final.shape"
   ]
  },
  {
   "cell_type": "markdown",
   "id": "c65c1547",
   "metadata": {},
   "source": [
    "## merge in pig prices"
   ]
  },
  {
   "cell_type": "code",
   "execution_count": null,
   "id": "358475a5",
   "metadata": {},
   "outputs": [],
   "source": [
    "df_final= pd.merge(df_final, df_pig, how='inner', left_index=True, right_index=True)"
   ]
  },
  {
   "cell_type": "code",
   "execution_count": null,
   "id": "b04c3372",
   "metadata": {},
   "outputs": [],
   "source": [
    "df_final.isnull().sum().sum()"
   ]
  },
  {
   "cell_type": "code",
   "execution_count": null,
   "id": "af7b65cd",
   "metadata": {},
   "outputs": [],
   "source": [
    "df_final.shape"
   ]
  },
  {
   "cell_type": "markdown",
   "id": "c7bdca2e",
   "metadata": {},
   "source": [
    "## merge in EURGBP"
   ]
  },
  {
   "cell_type": "code",
   "execution_count": null,
   "id": "e3a51b11",
   "metadata": {},
   "outputs": [],
   "source": [
    "df_final= pd.merge(df_final, df_eurgbp, how='inner', left_index=True, right_index=True)"
   ]
  },
  {
   "cell_type": "code",
   "execution_count": null,
   "id": "205afb04",
   "metadata": {},
   "outputs": [],
   "source": [
    "df_final.isnull().sum().sum()"
   ]
  },
  {
   "cell_type": "code",
   "execution_count": null,
   "id": "8c6d3784",
   "metadata": {},
   "outputs": [],
   "source": [
    "df_final.shape"
   ]
  },
  {
   "cell_type": "markdown",
   "id": "f8d2e95f",
   "metadata": {},
   "source": [
    "## merge in EURUSD"
   ]
  },
  {
   "cell_type": "code",
   "execution_count": null,
   "id": "be1614a2",
   "metadata": {},
   "outputs": [],
   "source": [
    "df_final= pd.merge(df_final, df_eurusd, how='inner', left_index=True, right_index=True)"
   ]
  },
  {
   "cell_type": "code",
   "execution_count": null,
   "id": "44e50d5b",
   "metadata": {},
   "outputs": [],
   "source": [
    "df_final.isnull().sum().sum()"
   ]
  },
  {
   "cell_type": "code",
   "execution_count": null,
   "id": "726edfca",
   "metadata": {},
   "outputs": [],
   "source": [
    "df_final.shape"
   ]
  },
  {
   "cell_type": "markdown",
   "id": "2c348745",
   "metadata": {},
   "source": [
    "## merge in global beef prices"
   ]
  },
  {
   "cell_type": "code",
   "execution_count": null,
   "id": "13907a5d",
   "metadata": {},
   "outputs": [],
   "source": [
    "df_final= pd.merge(df_final, df_global_beef, how='inner', left_index=True, right_index=True)"
   ]
  },
  {
   "cell_type": "code",
   "execution_count": null,
   "id": "cc86f2a1",
   "metadata": {},
   "outputs": [],
   "source": [
    "df_final.isnull().sum().sum()"
   ]
  },
  {
   "cell_type": "code",
   "execution_count": null,
   "id": "a57c0267",
   "metadata": {},
   "outputs": [],
   "source": [
    "df_final.shape"
   ]
  },
  {
   "cell_type": "markdown",
   "id": "632090ef",
   "metadata": {},
   "source": [
    "## merge in sunshine"
   ]
  },
  {
   "cell_type": "code",
   "execution_count": null,
   "id": "e8afd96e",
   "metadata": {},
   "outputs": [],
   "source": [
    "df_final= pd.merge(df_final, df_sunshine, how='inner', left_index=True, right_index=True)"
   ]
  },
  {
   "cell_type": "code",
   "execution_count": null,
   "id": "548a19ee",
   "metadata": {},
   "outputs": [],
   "source": [
    "df_final.isnull().sum().sum()"
   ]
  },
  {
   "cell_type": "code",
   "execution_count": null,
   "id": "52e3496c",
   "metadata": {},
   "outputs": [],
   "source": [
    "df_final.shape"
   ]
  },
  {
   "cell_type": "markdown",
   "id": "68fc8ee3",
   "metadata": {},
   "source": [
    "## merge in rain"
   ]
  },
  {
   "cell_type": "code",
   "execution_count": null,
   "id": "1951f9df",
   "metadata": {},
   "outputs": [],
   "source": [
    "df_final= pd.merge(df_final, df_rain, how='inner', left_index=True, right_index=True)"
   ]
  },
  {
   "cell_type": "code",
   "execution_count": null,
   "id": "daacc08b",
   "metadata": {},
   "outputs": [],
   "source": [
    "df_final.isnull().sum().sum()"
   ]
  },
  {
   "cell_type": "code",
   "execution_count": null,
   "id": "66fee6d6",
   "metadata": {},
   "outputs": [],
   "source": [
    "df_final.shape"
   ]
  },
  {
   "cell_type": "markdown",
   "id": "cb5fa500",
   "metadata": {},
   "source": [
    "## merge in temperature"
   ]
  },
  {
   "cell_type": "code",
   "execution_count": null,
   "id": "c3afae1c",
   "metadata": {},
   "outputs": [],
   "source": [
    "df_final= pd.merge(df_final, df_temp, how='inner', left_index=True, right_index=True)"
   ]
  },
  {
   "cell_type": "code",
   "execution_count": null,
   "id": "783ff51c",
   "metadata": {},
   "outputs": [],
   "source": [
    "df_final.isnull().sum().sum()"
   ]
  },
  {
   "cell_type": "code",
   "execution_count": null,
   "id": "d7118704",
   "metadata": {},
   "outputs": [],
   "source": [
    "df_final.shape"
   ]
  },
  {
   "cell_type": "markdown",
   "id": "36d1c221",
   "metadata": {},
   "source": [
    "## merge in fuel"
   ]
  },
  {
   "cell_type": "code",
   "execution_count": null,
   "id": "09dbf208",
   "metadata": {},
   "outputs": [],
   "source": [
    "df_final= pd.merge(df_final, df_fuel, how='inner', left_index=True, right_index=True)"
   ]
  },
  {
   "cell_type": "code",
   "execution_count": null,
   "id": "f98ea1e1",
   "metadata": {},
   "outputs": [],
   "source": [
    "df_final.isnull().sum().sum()"
   ]
  },
  {
   "cell_type": "code",
   "execution_count": null,
   "id": "df744a47",
   "metadata": {},
   "outputs": [],
   "source": [
    "df_final.shape"
   ]
  },
  {
   "cell_type": "markdown",
   "id": "7602ebd3",
   "metadata": {},
   "source": [
    "## merge in brent"
   ]
  },
  {
   "cell_type": "code",
   "execution_count": null,
   "id": "3c1fe5ff",
   "metadata": {},
   "outputs": [],
   "source": [
    "df_final= pd.merge(df_final, df_brent, how='inner', left_index=True, right_index=True)"
   ]
  },
  {
   "cell_type": "code",
   "execution_count": null,
   "id": "1dd2befd",
   "metadata": {},
   "outputs": [],
   "source": [
    "df_final.isnull().sum().sum()"
   ]
  },
  {
   "cell_type": "code",
   "execution_count": null,
   "id": "c29c7c6f",
   "metadata": {},
   "outputs": [],
   "source": [
    "df_final.shape"
   ]
  },
  {
   "cell_type": "markdown",
   "id": "75118d75",
   "metadata": {},
   "source": [
    "## merge in crude"
   ]
  },
  {
   "cell_type": "code",
   "execution_count": null,
   "id": "862fa7fe",
   "metadata": {},
   "outputs": [],
   "source": [
    "df_final= pd.merge(df_final, df_crude, how='inner', left_index=True, right_index=True)"
   ]
  },
  {
   "cell_type": "code",
   "execution_count": null,
   "id": "cec82942",
   "metadata": {},
   "outputs": [],
   "source": [
    "df_final.isnull().sum().sum()"
   ]
  },
  {
   "cell_type": "code",
   "execution_count": null,
   "id": "e3a584c3",
   "metadata": {},
   "outputs": [],
   "source": [
    "df_final.shape"
   ]
  },
  {
   "cell_type": "markdown",
   "id": "0ecf2e97",
   "metadata": {},
   "source": [
    "## merge in consumer price index"
   ]
  },
  {
   "cell_type": "code",
   "execution_count": null,
   "id": "8bc6b201",
   "metadata": {},
   "outputs": [],
   "source": [
    "df_final= pd.merge(df_final, df_cpi, how='inner', left_index=True, right_index=True)"
   ]
  },
  {
   "cell_type": "code",
   "execution_count": null,
   "id": "057d3ec4",
   "metadata": {},
   "outputs": [],
   "source": [
    "df_final.isnull().sum().sum()"
   ]
  },
  {
   "cell_type": "code",
   "execution_count": null,
   "id": "02b4dd03",
   "metadata": {},
   "outputs": [],
   "source": [
    "df_final.shape"
   ]
  },
  {
   "cell_type": "markdown",
   "id": "95d5c3a4",
   "metadata": {},
   "source": [
    "## merge in national average prices"
   ]
  },
  {
   "cell_type": "code",
   "execution_count": null,
   "id": "aa6fbacf",
   "metadata": {},
   "outputs": [],
   "source": [
    "df_final= pd.merge(df_final, df_nap, how='inner', left_index=True, right_index=True)"
   ]
  },
  {
   "cell_type": "code",
   "execution_count": null,
   "id": "46bf6189",
   "metadata": {},
   "outputs": [],
   "source": [
    "df_final.isnull().sum().sum()"
   ]
  },
  {
   "cell_type": "code",
   "execution_count": null,
   "id": "804a41b3",
   "metadata": {},
   "outputs": [],
   "source": [
    "df_final.shape"
   ]
  },
  {
   "cell_type": "markdown",
   "id": "9894524d",
   "metadata": {},
   "source": [
    "# Save collated dataframe to csv"
   ]
  },
  {
   "cell_type": "code",
   "execution_count": null,
   "id": "049b429b",
   "metadata": {},
   "outputs": [],
   "source": [
    "df_final.to_csv(\"df_final_irish_beef_feat_cols_and_target_values_1999-2022.csv\", encoding='utf-8')"
   ]
  },
  {
   "cell_type": "markdown",
   "id": "7e54e0c2",
   "metadata": {},
   "source": [
    "# Australian Beef prices\n",
    "\n",
    "https://www.indexmundi.com/commodities/?commodity=beef&months=360&currency=aud"
   ]
  },
  {
   "cell_type": "code",
   "execution_count": null,
   "id": "43fc7ec4",
   "metadata": {},
   "outputs": [],
   "source": [
    "df_beef_aus = pd.read_csv(\"data/aus/beef_aus_1995-2022.csv\")"
   ]
  },
  {
   "cell_type": "code",
   "execution_count": null,
   "id": "90f86445",
   "metadata": {},
   "outputs": [],
   "source": [
    "df_beef_aus"
   ]
  },
  {
   "cell_type": "code",
   "execution_count": null,
   "id": "a3df9d43",
   "metadata": {},
   "outputs": [],
   "source": [
    "df_beef_aus.info()"
   ]
  },
  {
   "cell_type": "code",
   "execution_count": null,
   "id": "8e0505cc",
   "metadata": {},
   "outputs": [],
   "source": [
    "snake_case_columns(df_beef_aus)"
   ]
  },
  {
   "cell_type": "code",
   "execution_count": null,
   "id": "7ce5c700",
   "metadata": {},
   "outputs": [],
   "source": [
    "df_beef_aus = df_beef_aus.rename(columns = {\"price\":\"beef_per_kg\"})"
   ]
  },
  {
   "cell_type": "code",
   "execution_count": null,
   "id": "a2c69aa0",
   "metadata": {},
   "outputs": [],
   "source": [
    "df_beef_aus[\"month\"] = pd.to_datetime(df_beef_aus[\"month\"], format='%b-%y') + MonthEnd(1)"
   ]
  },
  {
   "cell_type": "code",
   "execution_count": null,
   "id": "f659bbb1",
   "metadata": {},
   "outputs": [],
   "source": [
    "df_beef_aus.info()"
   ]
  },
  {
   "cell_type": "code",
   "execution_count": null,
   "id": "37d7d489",
   "metadata": {},
   "outputs": [],
   "source": [
    "df_beef_aus = df_beef_aus.drop([\"change\"], axis=1)"
   ]
  },
  {
   "cell_type": "code",
   "execution_count": null,
   "id": "9f7b45ba",
   "metadata": {},
   "outputs": [],
   "source": [
    "df_beef_aus = df_beef_aus.set_index(\"month\")"
   ]
  },
  {
   "cell_type": "markdown",
   "id": "b551609b",
   "metadata": {},
   "source": [
    "## final output"
   ]
  },
  {
   "cell_type": "code",
   "execution_count": null,
   "id": "cbb7e490",
   "metadata": {},
   "outputs": [],
   "source": [
    "df_beef_aus"
   ]
  },
  {
   "cell_type": "markdown",
   "id": "85bf02cf",
   "metadata": {},
   "source": [
    "# Australia Beef and Veal Meat Domestic Consumption by Year\n",
    "\n",
    "https://www.indexmundi.com/agriculture/?country=au&commodity=beef-and-veal-meat&graph=domestic-consumption"
   ]
  },
  {
   "cell_type": "code",
   "execution_count": null,
   "id": "23f3c533",
   "metadata": {},
   "outputs": [],
   "source": [
    "df_meat_consumption_aus = pd.read_csv(\"data/aus/au-beef-and-veal-meat-domestic-consumption.csv\")"
   ]
  },
  {
   "cell_type": "code",
   "execution_count": null,
   "id": "c9b813d3",
   "metadata": {},
   "outputs": [],
   "source": [
    "df_meat_consumption_aus.columns"
   ]
  },
  {
   "cell_type": "code",
   "execution_count": null,
   "id": "e9cc807b",
   "metadata": {},
   "outputs": [],
   "source": [
    "df_meat_consumption_aus"
   ]
  },
  {
   "cell_type": "code",
   "execution_count": null,
   "id": "587e92fd",
   "metadata": {},
   "outputs": [],
   "source": [
    "df_meat_consumption_aus.info()"
   ]
  },
  {
   "cell_type": "code",
   "execution_count": null,
   "id": "5b008c1b",
   "metadata": {},
   "outputs": [],
   "source": [
    "snake_case_columns(df_meat_consumption_aus)"
   ]
  },
  {
   "cell_type": "code",
   "execution_count": null,
   "id": "409140e2",
   "metadata": {},
   "outputs": [],
   "source": [
    "df_meat_consumption_aus[\"market_year\"] = pd.to_datetime(df_meat_consumption_aus[\"market_year\"], format='%Y') + YearEnd(1)"
   ]
  },
  {
   "cell_type": "code",
   "execution_count": null,
   "id": "2a363801",
   "metadata": {},
   "outputs": [],
   "source": [
    "df_meat_consumption_aus"
   ]
  },
  {
   "cell_type": "code",
   "execution_count": null,
   "id": "dccf5209",
   "metadata": {},
   "outputs": [],
   "source": [
    "df_meat_consumption_aus = df_meat_consumption_aus.rename(columns={\"market_year\" : \"month\", \"_value\" : \"meat_consumption\" })"
   ]
  },
  {
   "cell_type": "code",
   "execution_count": null,
   "id": "072368c9",
   "metadata": {},
   "outputs": [],
   "source": [
    "df_meat_consumption_aus = df_meat_consumption_aus.drop([\"_unit_description\"], axis=1)"
   ]
  },
  {
   "cell_type": "code",
   "execution_count": null,
   "id": "68cc22dc",
   "metadata": {},
   "outputs": [],
   "source": [
    "df_meat_consumption_aus = df_meat_consumption_aus.set_index(\"month\")"
   ]
  },
  {
   "cell_type": "code",
   "execution_count": null,
   "id": "bf879c33",
   "metadata": {},
   "outputs": [],
   "source": [
    "df_meat_consumption_aus.isnull().sum()"
   ]
  },
  {
   "cell_type": "code",
   "execution_count": null,
   "id": "be1df654",
   "metadata": {},
   "outputs": [],
   "source": [
    "df_meat_consumption_aus"
   ]
  },
  {
   "cell_type": "code",
   "execution_count": null,
   "id": "fa82ad78",
   "metadata": {},
   "outputs": [],
   "source": [
    "df_meat_consumption_aus_monthly = df_meat_consumption_aus.resample('M').last()"
   ]
  },
  {
   "cell_type": "code",
   "execution_count": null,
   "id": "311b8994",
   "metadata": {},
   "outputs": [],
   "source": [
    "df_meat_consumption_aus_monthly.head(20)"
   ]
  },
  {
   "cell_type": "code",
   "execution_count": null,
   "id": "521e909c",
   "metadata": {},
   "outputs": [],
   "source": [
    "df_meat_consumption_aus_monthly = df_meat_consumption_aus.resample('M').last().bfill() / 12"
   ]
  },
  {
   "cell_type": "code",
   "execution_count": null,
   "id": "157d2fc9",
   "metadata": {},
   "outputs": [],
   "source": [
    "df_meat_consumption_aus_monthly[df_meat_consumption_aus_monthly.index.year==1961].sum()"
   ]
  },
  {
   "cell_type": "code",
   "execution_count": null,
   "id": "d24277b2",
   "metadata": {},
   "outputs": [],
   "source": [
    "# 1960 shows only one row but it won't be used anyway\n",
    "df_meat_consumption_aus_monthly[(df_meat_consumption_aus_monthly.index.year == 1960) ]"
   ]
  },
  {
   "cell_type": "code",
   "execution_count": null,
   "id": "1d5e05a6",
   "metadata": {},
   "outputs": [],
   "source": [
    "df_meat_consumption_aus_monthly[(df_meat_consumption_aus_monthly.index.year >= 1960) & (df_meat_consumption_aus_monthly.index.year < 1963)]"
   ]
  },
  {
   "cell_type": "code",
   "execution_count": null,
   "id": "b601762f",
   "metadata": {},
   "outputs": [],
   "source": [
    "df_meat_consumption_aus_monthly[(df_meat_consumption_aus_monthly.index.year > 2000) & (df_meat_consumption_aus_monthly.index.year < 2003)]"
   ]
  },
  {
   "cell_type": "code",
   "execution_count": null,
   "id": "d5ee76cd",
   "metadata": {},
   "outputs": [],
   "source": [
    "df_meat_consumption_aus_monthly.info()"
   ]
  },
  {
   "cell_type": "code",
   "execution_count": null,
   "id": "52c9e5bb",
   "metadata": {},
   "outputs": [],
   "source": [
    "df_meat_consumption_aus_monthly = df_meat_consumption_aus_monthly[df_meat_consumption_aus_monthly.index.year > 1989]"
   ]
  },
  {
   "cell_type": "code",
   "execution_count": null,
   "id": "9899984e",
   "metadata": {},
   "outputs": [],
   "source": [
    "df_meat_consumption_aus_monthly = df_meat_consumption_aus_monthly[df_meat_consumption_aus_monthly.index.year < 2022]"
   ]
  },
  {
   "cell_type": "markdown",
   "id": "ac5c4bb4",
   "metadata": {},
   "source": [
    "## final outoput"
   ]
  },
  {
   "cell_type": "code",
   "execution_count": null,
   "id": "6bad9b60",
   "metadata": {},
   "outputs": [],
   "source": [
    "df_meat_consumption_aus_monthly"
   ]
  },
  {
   "cell_type": "markdown",
   "id": "117afd44",
   "metadata": {},
   "source": [
    "# Australia Beef and Veal Meat Exports by Year"
   ]
  },
  {
   "cell_type": "code",
   "execution_count": 9,
   "id": "f7f7f556",
   "metadata": {},
   "outputs": [],
   "source": [
    "df_exports_aus = pd.read_csv(\"data/aus/au-beef-and-veal-meat-exports.csv\")"
   ]
  },
  {
   "cell_type": "code",
   "execution_count": 10,
   "id": "773433c5",
   "metadata": {},
   "outputs": [
    {
     "data": {
      "text/html": [
       "<div>\n",
       "<style scoped>\n",
       "    .dataframe tbody tr th:only-of-type {\n",
       "        vertical-align: middle;\n",
       "    }\n",
       "\n",
       "    .dataframe tbody tr th {\n",
       "        vertical-align: top;\n",
       "    }\n",
       "\n",
       "    .dataframe thead th {\n",
       "        text-align: right;\n",
       "    }\n",
       "</style>\n",
       "<table border=\"1\" class=\"dataframe\">\n",
       "  <thead>\n",
       "    <tr style=\"text-align: right;\">\n",
       "      <th></th>\n",
       "      <th>Market Year</th>\n",
       "      <th>Value</th>\n",
       "      <th>Unit Description</th>\n",
       "    </tr>\n",
       "  </thead>\n",
       "  <tbody>\n",
       "    <tr>\n",
       "      <th>0</th>\n",
       "      <td>1960</td>\n",
       "      <td>165</td>\n",
       "      <td>(1000 MT CWE)</td>\n",
       "    </tr>\n",
       "    <tr>\n",
       "      <th>1</th>\n",
       "      <td>1961</td>\n",
       "      <td>275</td>\n",
       "      <td>(1000 MT CWE)</td>\n",
       "    </tr>\n",
       "    <tr>\n",
       "      <th>2</th>\n",
       "      <td>1962</td>\n",
       "      <td>382</td>\n",
       "      <td>(1000 MT CWE)</td>\n",
       "    </tr>\n",
       "    <tr>\n",
       "      <th>3</th>\n",
       "      <td>1963</td>\n",
       "      <td>426</td>\n",
       "      <td>(1000 MT CWE)</td>\n",
       "    </tr>\n",
       "    <tr>\n",
       "      <th>4</th>\n",
       "      <td>1964</td>\n",
       "      <td>442</td>\n",
       "      <td>(1000 MT CWE)</td>\n",
       "    </tr>\n",
       "    <tr>\n",
       "      <th>...</th>\n",
       "      <td>...</td>\n",
       "      <td>...</td>\n",
       "      <td>...</td>\n",
       "    </tr>\n",
       "    <tr>\n",
       "      <th>58</th>\n",
       "      <td>2018</td>\n",
       "      <td>1582</td>\n",
       "      <td>(1000 MT CWE)</td>\n",
       "    </tr>\n",
       "    <tr>\n",
       "      <th>59</th>\n",
       "      <td>2019</td>\n",
       "      <td>1739</td>\n",
       "      <td>(1000 MT CWE)</td>\n",
       "    </tr>\n",
       "    <tr>\n",
       "      <th>60</th>\n",
       "      <td>2020</td>\n",
       "      <td>1473</td>\n",
       "      <td>(1000 MT CWE)</td>\n",
       "    </tr>\n",
       "    <tr>\n",
       "      <th>61</th>\n",
       "      <td>2021</td>\n",
       "      <td>1320</td>\n",
       "      <td>(1000 MT CWE)</td>\n",
       "    </tr>\n",
       "    <tr>\n",
       "      <th>62</th>\n",
       "      <td>2022</td>\n",
       "      <td>1470</td>\n",
       "      <td>(1000 MT CWE)</td>\n",
       "    </tr>\n",
       "  </tbody>\n",
       "</table>\n",
       "<p>63 rows × 3 columns</p>\n",
       "</div>"
      ],
      "text/plain": [
       "    Market Year   Value  Unit Description\n",
       "0          1960     165     (1000 MT CWE)\n",
       "1          1961     275     (1000 MT CWE)\n",
       "2          1962     382     (1000 MT CWE)\n",
       "3          1963     426     (1000 MT CWE)\n",
       "4          1964     442     (1000 MT CWE)\n",
       "..          ...     ...               ...\n",
       "58         2018    1582     (1000 MT CWE)\n",
       "59         2019    1739     (1000 MT CWE)\n",
       "60         2020    1473     (1000 MT CWE)\n",
       "61         2021    1320     (1000 MT CWE)\n",
       "62         2022    1470     (1000 MT CWE)\n",
       "\n",
       "[63 rows x 3 columns]"
      ]
     },
     "execution_count": 10,
     "metadata": {},
     "output_type": "execute_result"
    }
   ],
   "source": [
    "df_exports_aus"
   ]
  },
  {
   "cell_type": "code",
   "execution_count": 12,
   "id": "ac1ddc4f",
   "metadata": {},
   "outputs": [],
   "source": [
    "# just use the user-defined fucntion from my utils.py this time\n",
    "df_exports_aus_M = transform_indexmundi_yearly_data(df_exports_aus, \"meat_exports\")"
   ]
  },
  {
   "cell_type": "code",
   "execution_count": 14,
   "id": "b59b6f6a",
   "metadata": {},
   "outputs": [
    {
     "data": {
      "text/plain": [
       "meat_exports    0\n",
       "dtype: int64"
      ]
     },
     "execution_count": 14,
     "metadata": {},
     "output_type": "execute_result"
    }
   ],
   "source": [
    "df_exports_aus_M.isnull().sum()"
   ]
  },
  {
   "cell_type": "code",
   "execution_count": 15,
   "id": "83ad3b91",
   "metadata": {},
   "outputs": [
    {
     "name": "stdout",
     "output_type": "stream",
     "text": [
      "<class 'pandas.core.frame.DataFrame'>\n",
      "DatetimeIndex: 384 entries, 1990-01-31 to 2021-12-31\n",
      "Freq: M\n",
      "Data columns (total 1 columns):\n",
      " #   Column        Non-Null Count  Dtype  \n",
      "---  ------        --------------  -----  \n",
      " 0   meat_exports  384 non-null    float64\n",
      "dtypes: float64(1)\n",
      "memory usage: 6.0 KB\n"
     ]
    }
   ],
   "source": [
    "df_exports_aus_M.info()"
   ]
  },
  {
   "cell_type": "markdown",
   "id": "be0b7e8b",
   "metadata": {},
   "source": [
    "## final output"
   ]
  },
  {
   "cell_type": "code",
   "execution_count": 13,
   "id": "6f7e9145",
   "metadata": {},
   "outputs": [
    {
     "data": {
      "text/html": [
       "<div>\n",
       "<style scoped>\n",
       "    .dataframe tbody tr th:only-of-type {\n",
       "        vertical-align: middle;\n",
       "    }\n",
       "\n",
       "    .dataframe tbody tr th {\n",
       "        vertical-align: top;\n",
       "    }\n",
       "\n",
       "    .dataframe thead th {\n",
       "        text-align: right;\n",
       "    }\n",
       "</style>\n",
       "<table border=\"1\" class=\"dataframe\">\n",
       "  <thead>\n",
       "    <tr style=\"text-align: right;\">\n",
       "      <th></th>\n",
       "      <th>meat_exports</th>\n",
       "    </tr>\n",
       "    <tr>\n",
       "      <th>month</th>\n",
       "      <th></th>\n",
       "    </tr>\n",
       "  </thead>\n",
       "  <tbody>\n",
       "    <tr>\n",
       "      <th>1990-01-31</th>\n",
       "      <td>88.666667</td>\n",
       "    </tr>\n",
       "    <tr>\n",
       "      <th>1990-02-28</th>\n",
       "      <td>88.666667</td>\n",
       "    </tr>\n",
       "    <tr>\n",
       "      <th>1990-03-31</th>\n",
       "      <td>88.666667</td>\n",
       "    </tr>\n",
       "    <tr>\n",
       "      <th>1990-04-30</th>\n",
       "      <td>88.666667</td>\n",
       "    </tr>\n",
       "    <tr>\n",
       "      <th>1990-05-31</th>\n",
       "      <td>88.666667</td>\n",
       "    </tr>\n",
       "    <tr>\n",
       "      <th>...</th>\n",
       "      <td>...</td>\n",
       "    </tr>\n",
       "    <tr>\n",
       "      <th>2021-08-31</th>\n",
       "      <td>110.000000</td>\n",
       "    </tr>\n",
       "    <tr>\n",
       "      <th>2021-09-30</th>\n",
       "      <td>110.000000</td>\n",
       "    </tr>\n",
       "    <tr>\n",
       "      <th>2021-10-31</th>\n",
       "      <td>110.000000</td>\n",
       "    </tr>\n",
       "    <tr>\n",
       "      <th>2021-11-30</th>\n",
       "      <td>110.000000</td>\n",
       "    </tr>\n",
       "    <tr>\n",
       "      <th>2021-12-31</th>\n",
       "      <td>110.000000</td>\n",
       "    </tr>\n",
       "  </tbody>\n",
       "</table>\n",
       "<p>384 rows × 1 columns</p>\n",
       "</div>"
      ],
      "text/plain": [
       "            meat_exports\n",
       "month                   \n",
       "1990-01-31     88.666667\n",
       "1990-02-28     88.666667\n",
       "1990-03-31     88.666667\n",
       "1990-04-30     88.666667\n",
       "1990-05-31     88.666667\n",
       "...                  ...\n",
       "2021-08-31    110.000000\n",
       "2021-09-30    110.000000\n",
       "2021-10-31    110.000000\n",
       "2021-11-30    110.000000\n",
       "2021-12-31    110.000000\n",
       "\n",
       "[384 rows x 1 columns]"
      ]
     },
     "execution_count": 13,
     "metadata": {},
     "output_type": "execute_result"
    }
   ],
   "source": [
    "df_exports_aus_M"
   ]
  },
  {
   "cell_type": "markdown",
   "id": "18d20b19",
   "metadata": {},
   "source": [
    "# Australia Beef and Veal Meat Imports by Year"
   ]
  },
  {
   "cell_type": "code",
   "execution_count": 16,
   "id": "77842156",
   "metadata": {},
   "outputs": [],
   "source": [
    "df_imports_aus = pd.read_csv(\"data/aus/au-beef-and-veal-meat-imports.csv\")"
   ]
  },
  {
   "cell_type": "code",
   "execution_count": 17,
   "id": "28d70d24",
   "metadata": {},
   "outputs": [
    {
     "data": {
      "text/html": [
       "<div>\n",
       "<style scoped>\n",
       "    .dataframe tbody tr th:only-of-type {\n",
       "        vertical-align: middle;\n",
       "    }\n",
       "\n",
       "    .dataframe tbody tr th {\n",
       "        vertical-align: top;\n",
       "    }\n",
       "\n",
       "    .dataframe thead th {\n",
       "        text-align: right;\n",
       "    }\n",
       "</style>\n",
       "<table border=\"1\" class=\"dataframe\">\n",
       "  <thead>\n",
       "    <tr style=\"text-align: right;\">\n",
       "      <th></th>\n",
       "      <th>Market Year</th>\n",
       "      <th>Value</th>\n",
       "      <th>Unit Description</th>\n",
       "    </tr>\n",
       "  </thead>\n",
       "  <tbody>\n",
       "    <tr>\n",
       "      <th>0</th>\n",
       "      <td>1960</td>\n",
       "      <td>0</td>\n",
       "      <td>(1000 MT CWE)</td>\n",
       "    </tr>\n",
       "    <tr>\n",
       "      <th>1</th>\n",
       "      <td>1961</td>\n",
       "      <td>0</td>\n",
       "      <td>(1000 MT CWE)</td>\n",
       "    </tr>\n",
       "    <tr>\n",
       "      <th>2</th>\n",
       "      <td>1962</td>\n",
       "      <td>0</td>\n",
       "      <td>(1000 MT CWE)</td>\n",
       "    </tr>\n",
       "    <tr>\n",
       "      <th>3</th>\n",
       "      <td>1963</td>\n",
       "      <td>0</td>\n",
       "      <td>(1000 MT CWE)</td>\n",
       "    </tr>\n",
       "    <tr>\n",
       "      <th>4</th>\n",
       "      <td>1964</td>\n",
       "      <td>0</td>\n",
       "      <td>(1000 MT CWE)</td>\n",
       "    </tr>\n",
       "    <tr>\n",
       "      <th>...</th>\n",
       "      <td>...</td>\n",
       "      <td>...</td>\n",
       "      <td>...</td>\n",
       "    </tr>\n",
       "    <tr>\n",
       "      <th>58</th>\n",
       "      <td>2018</td>\n",
       "      <td>14</td>\n",
       "      <td>(1000 MT CWE)</td>\n",
       "    </tr>\n",
       "    <tr>\n",
       "      <th>59</th>\n",
       "      <td>2019</td>\n",
       "      <td>15</td>\n",
       "      <td>(1000 MT CWE)</td>\n",
       "    </tr>\n",
       "    <tr>\n",
       "      <th>60</th>\n",
       "      <td>2020</td>\n",
       "      <td>17</td>\n",
       "      <td>(1000 MT CWE)</td>\n",
       "    </tr>\n",
       "    <tr>\n",
       "      <th>61</th>\n",
       "      <td>2021</td>\n",
       "      <td>25</td>\n",
       "      <td>(1000 MT CWE)</td>\n",
       "    </tr>\n",
       "    <tr>\n",
       "      <th>62</th>\n",
       "      <td>2022</td>\n",
       "      <td>20</td>\n",
       "      <td>(1000 MT CWE)</td>\n",
       "    </tr>\n",
       "  </tbody>\n",
       "</table>\n",
       "<p>63 rows × 3 columns</p>\n",
       "</div>"
      ],
      "text/plain": [
       "    Market Year   Value  Unit Description\n",
       "0          1960       0     (1000 MT CWE)\n",
       "1          1961       0     (1000 MT CWE)\n",
       "2          1962       0     (1000 MT CWE)\n",
       "3          1963       0     (1000 MT CWE)\n",
       "4          1964       0     (1000 MT CWE)\n",
       "..          ...     ...               ...\n",
       "58         2018      14     (1000 MT CWE)\n",
       "59         2019      15     (1000 MT CWE)\n",
       "60         2020      17     (1000 MT CWE)\n",
       "61         2021      25     (1000 MT CWE)\n",
       "62         2022      20     (1000 MT CWE)\n",
       "\n",
       "[63 rows x 3 columns]"
      ]
     },
     "execution_count": 17,
     "metadata": {},
     "output_type": "execute_result"
    }
   ],
   "source": [
    "df_imports_aus"
   ]
  },
  {
   "cell_type": "code",
   "execution_count": 19,
   "id": "af0bc93c",
   "metadata": {},
   "outputs": [],
   "source": [
    "df_imports_aus_M = transform_indexmundi_yearly_data(df_imports_aus, \"meat_imports\")"
   ]
  },
  {
   "cell_type": "code",
   "execution_count": 20,
   "id": "0e98f478",
   "metadata": {},
   "outputs": [
    {
     "data": {
      "text/plain": [
       "meat_imports    0\n",
       "dtype: int64"
      ]
     },
     "execution_count": 20,
     "metadata": {},
     "output_type": "execute_result"
    }
   ],
   "source": [
    "df_imports_aus_M.isnull().sum()"
   ]
  },
  {
   "cell_type": "code",
   "execution_count": 21,
   "id": "608f50d3",
   "metadata": {},
   "outputs": [
    {
     "name": "stdout",
     "output_type": "stream",
     "text": [
      "<class 'pandas.core.frame.DataFrame'>\n",
      "DatetimeIndex: 384 entries, 1990-01-31 to 2021-12-31\n",
      "Freq: M\n",
      "Data columns (total 1 columns):\n",
      " #   Column        Non-Null Count  Dtype  \n",
      "---  ------        --------------  -----  \n",
      " 0   meat_imports  384 non-null    float64\n",
      "dtypes: float64(1)\n",
      "memory usage: 6.0 KB\n"
     ]
    }
   ],
   "source": [
    "df_imports_aus_M.info()"
   ]
  },
  {
   "cell_type": "markdown",
   "id": "b3fa967d",
   "metadata": {},
   "source": [
    "## final output"
   ]
  },
  {
   "cell_type": "code",
   "execution_count": 22,
   "id": "183b3118",
   "metadata": {},
   "outputs": [
    {
     "data": {
      "text/html": [
       "<div>\n",
       "<style scoped>\n",
       "    .dataframe tbody tr th:only-of-type {\n",
       "        vertical-align: middle;\n",
       "    }\n",
       "\n",
       "    .dataframe tbody tr th {\n",
       "        vertical-align: top;\n",
       "    }\n",
       "\n",
       "    .dataframe thead th {\n",
       "        text-align: right;\n",
       "    }\n",
       "</style>\n",
       "<table border=\"1\" class=\"dataframe\">\n",
       "  <thead>\n",
       "    <tr style=\"text-align: right;\">\n",
       "      <th></th>\n",
       "      <th>meat_imports</th>\n",
       "    </tr>\n",
       "    <tr>\n",
       "      <th>month</th>\n",
       "      <th></th>\n",
       "    </tr>\n",
       "  </thead>\n",
       "  <tbody>\n",
       "    <tr>\n",
       "      <th>1990-01-31</th>\n",
       "      <td>0.000000</td>\n",
       "    </tr>\n",
       "    <tr>\n",
       "      <th>1990-02-28</th>\n",
       "      <td>0.000000</td>\n",
       "    </tr>\n",
       "    <tr>\n",
       "      <th>1990-03-31</th>\n",
       "      <td>0.000000</td>\n",
       "    </tr>\n",
       "    <tr>\n",
       "      <th>1990-04-30</th>\n",
       "      <td>0.000000</td>\n",
       "    </tr>\n",
       "    <tr>\n",
       "      <th>1990-05-31</th>\n",
       "      <td>0.000000</td>\n",
       "    </tr>\n",
       "    <tr>\n",
       "      <th>...</th>\n",
       "      <td>...</td>\n",
       "    </tr>\n",
       "    <tr>\n",
       "      <th>2021-08-31</th>\n",
       "      <td>2.083333</td>\n",
       "    </tr>\n",
       "    <tr>\n",
       "      <th>2021-09-30</th>\n",
       "      <td>2.083333</td>\n",
       "    </tr>\n",
       "    <tr>\n",
       "      <th>2021-10-31</th>\n",
       "      <td>2.083333</td>\n",
       "    </tr>\n",
       "    <tr>\n",
       "      <th>2021-11-30</th>\n",
       "      <td>2.083333</td>\n",
       "    </tr>\n",
       "    <tr>\n",
       "      <th>2021-12-31</th>\n",
       "      <td>2.083333</td>\n",
       "    </tr>\n",
       "  </tbody>\n",
       "</table>\n",
       "<p>384 rows × 1 columns</p>\n",
       "</div>"
      ],
      "text/plain": [
       "            meat_imports\n",
       "month                   \n",
       "1990-01-31      0.000000\n",
       "1990-02-28      0.000000\n",
       "1990-03-31      0.000000\n",
       "1990-04-30      0.000000\n",
       "1990-05-31      0.000000\n",
       "...                  ...\n",
       "2021-08-31      2.083333\n",
       "2021-09-30      2.083333\n",
       "2021-10-31      2.083333\n",
       "2021-11-30      2.083333\n",
       "2021-12-31      2.083333\n",
       "\n",
       "[384 rows x 1 columns]"
      ]
     },
     "execution_count": 22,
     "metadata": {},
     "output_type": "execute_result"
    }
   ],
   "source": [
    "df_imports_aus_M"
   ]
  },
  {
   "cell_type": "markdown",
   "id": "043d4730",
   "metadata": {},
   "source": [
    "# Australia Beef and Veal Meat Production by Year\n",
    "\n",
    "https://www.indexmundi.com/agriculture/?country=au&commodity=beef-and-veal-meat&graph=production"
   ]
  },
  {
   "cell_type": "code",
   "execution_count": 23,
   "id": "e4bdb69a",
   "metadata": {},
   "outputs": [],
   "source": [
    "df_meat_prod_aus = pd.read_csv(\"data/aus/au-beef-and-veal-meat-production.csv\")"
   ]
  },
  {
   "cell_type": "code",
   "execution_count": 24,
   "id": "2e978480",
   "metadata": {},
   "outputs": [
    {
     "data": {
      "text/html": [
       "<div>\n",
       "<style scoped>\n",
       "    .dataframe tbody tr th:only-of-type {\n",
       "        vertical-align: middle;\n",
       "    }\n",
       "\n",
       "    .dataframe tbody tr th {\n",
       "        vertical-align: top;\n",
       "    }\n",
       "\n",
       "    .dataframe thead th {\n",
       "        text-align: right;\n",
       "    }\n",
       "</style>\n",
       "<table border=\"1\" class=\"dataframe\">\n",
       "  <thead>\n",
       "    <tr style=\"text-align: right;\">\n",
       "      <th></th>\n",
       "      <th>Market Year</th>\n",
       "      <th>Value</th>\n",
       "      <th>Unit Description</th>\n",
       "    </tr>\n",
       "  </thead>\n",
       "  <tbody>\n",
       "    <tr>\n",
       "      <th>0</th>\n",
       "      <td>1960</td>\n",
       "      <td>685</td>\n",
       "      <td>(1000 MT CWE)</td>\n",
       "    </tr>\n",
       "    <tr>\n",
       "      <th>1</th>\n",
       "      <td>1961</td>\n",
       "      <td>730</td>\n",
       "      <td>(1000 MT CWE)</td>\n",
       "    </tr>\n",
       "    <tr>\n",
       "      <th>2</th>\n",
       "      <td>1962</td>\n",
       "      <td>879</td>\n",
       "      <td>(1000 MT CWE)</td>\n",
       "    </tr>\n",
       "    <tr>\n",
       "      <th>3</th>\n",
       "      <td>1963</td>\n",
       "      <td>957</td>\n",
       "      <td>(1000 MT CWE)</td>\n",
       "    </tr>\n",
       "    <tr>\n",
       "      <th>4</th>\n",
       "      <td>1964</td>\n",
       "      <td>998</td>\n",
       "      <td>(1000 MT CWE)</td>\n",
       "    </tr>\n",
       "    <tr>\n",
       "      <th>...</th>\n",
       "      <td>...</td>\n",
       "      <td>...</td>\n",
       "      <td>...</td>\n",
       "    </tr>\n",
       "    <tr>\n",
       "      <th>58</th>\n",
       "      <td>2018</td>\n",
       "      <td>2309</td>\n",
       "      <td>(1000 MT CWE)</td>\n",
       "    </tr>\n",
       "    <tr>\n",
       "      <th>59</th>\n",
       "      <td>2019</td>\n",
       "      <td>2432</td>\n",
       "      <td>(1000 MT CWE)</td>\n",
       "    </tr>\n",
       "    <tr>\n",
       "      <th>60</th>\n",
       "      <td>2020</td>\n",
       "      <td>2125</td>\n",
       "      <td>(1000 MT CWE)</td>\n",
       "    </tr>\n",
       "    <tr>\n",
       "      <th>61</th>\n",
       "      <td>2021</td>\n",
       "      <td>1900</td>\n",
       "      <td>(1000 MT CWE)</td>\n",
       "    </tr>\n",
       "    <tr>\n",
       "      <th>62</th>\n",
       "      <td>2022</td>\n",
       "      <td>2115</td>\n",
       "      <td>(1000 MT CWE)</td>\n",
       "    </tr>\n",
       "  </tbody>\n",
       "</table>\n",
       "<p>63 rows × 3 columns</p>\n",
       "</div>"
      ],
      "text/plain": [
       "    Market Year   Value  Unit Description\n",
       "0          1960     685     (1000 MT CWE)\n",
       "1          1961     730     (1000 MT CWE)\n",
       "2          1962     879     (1000 MT CWE)\n",
       "3          1963     957     (1000 MT CWE)\n",
       "4          1964     998     (1000 MT CWE)\n",
       "..          ...     ...               ...\n",
       "58         2018    2309     (1000 MT CWE)\n",
       "59         2019    2432     (1000 MT CWE)\n",
       "60         2020    2125     (1000 MT CWE)\n",
       "61         2021    1900     (1000 MT CWE)\n",
       "62         2022    2115     (1000 MT CWE)\n",
       "\n",
       "[63 rows x 3 columns]"
      ]
     },
     "execution_count": 24,
     "metadata": {},
     "output_type": "execute_result"
    }
   ],
   "source": [
    "df_meat_prod_aus"
   ]
  },
  {
   "cell_type": "code",
   "execution_count": 25,
   "id": "7a9c2f68",
   "metadata": {},
   "outputs": [],
   "source": [
    "df_meat_prod_aus_M = transform_indexmundi_yearly_data(df_meat_prod_aus, \"meat_production\")"
   ]
  },
  {
   "cell_type": "code",
   "execution_count": 26,
   "id": "f79b28f2",
   "metadata": {},
   "outputs": [
    {
     "data": {
      "text/plain": [
       "meat_production    0\n",
       "dtype: int64"
      ]
     },
     "execution_count": 26,
     "metadata": {},
     "output_type": "execute_result"
    }
   ],
   "source": [
    "df_meat_prod_aus_M.isnull().sum()"
   ]
  },
  {
   "cell_type": "code",
   "execution_count": 27,
   "id": "d0686eac",
   "metadata": {},
   "outputs": [
    {
     "name": "stdout",
     "output_type": "stream",
     "text": [
      "<class 'pandas.core.frame.DataFrame'>\n",
      "DatetimeIndex: 384 entries, 1990-01-31 to 2021-12-31\n",
      "Freq: M\n",
      "Data columns (total 1 columns):\n",
      " #   Column           Non-Null Count  Dtype  \n",
      "---  ------           --------------  -----  \n",
      " 0   meat_production  384 non-null    float64\n",
      "dtypes: float64(1)\n",
      "memory usage: 6.0 KB\n"
     ]
    }
   ],
   "source": [
    "df_meat_prod_aus_M.info()"
   ]
  },
  {
   "cell_type": "markdown",
   "id": "c8bf3e73",
   "metadata": {},
   "source": [
    "## final output"
   ]
  },
  {
   "cell_type": "code",
   "execution_count": 28,
   "id": "89159a0a",
   "metadata": {},
   "outputs": [
    {
     "data": {
      "text/html": [
       "<div>\n",
       "<style scoped>\n",
       "    .dataframe tbody tr th:only-of-type {\n",
       "        vertical-align: middle;\n",
       "    }\n",
       "\n",
       "    .dataframe tbody tr th {\n",
       "        vertical-align: top;\n",
       "    }\n",
       "\n",
       "    .dataframe thead th {\n",
       "        text-align: right;\n",
       "    }\n",
       "</style>\n",
       "<table border=\"1\" class=\"dataframe\">\n",
       "  <thead>\n",
       "    <tr style=\"text-align: right;\">\n",
       "      <th></th>\n",
       "      <th>meat_production</th>\n",
       "    </tr>\n",
       "    <tr>\n",
       "      <th>month</th>\n",
       "      <th></th>\n",
       "    </tr>\n",
       "  </thead>\n",
       "  <tbody>\n",
       "    <tr>\n",
       "      <th>1990-01-31</th>\n",
       "      <td>143.166667</td>\n",
       "    </tr>\n",
       "    <tr>\n",
       "      <th>1990-02-28</th>\n",
       "      <td>143.166667</td>\n",
       "    </tr>\n",
       "    <tr>\n",
       "      <th>1990-03-31</th>\n",
       "      <td>143.166667</td>\n",
       "    </tr>\n",
       "    <tr>\n",
       "      <th>1990-04-30</th>\n",
       "      <td>143.166667</td>\n",
       "    </tr>\n",
       "    <tr>\n",
       "      <th>1990-05-31</th>\n",
       "      <td>143.166667</td>\n",
       "    </tr>\n",
       "    <tr>\n",
       "      <th>...</th>\n",
       "      <td>...</td>\n",
       "    </tr>\n",
       "    <tr>\n",
       "      <th>2021-08-31</th>\n",
       "      <td>158.333333</td>\n",
       "    </tr>\n",
       "    <tr>\n",
       "      <th>2021-09-30</th>\n",
       "      <td>158.333333</td>\n",
       "    </tr>\n",
       "    <tr>\n",
       "      <th>2021-10-31</th>\n",
       "      <td>158.333333</td>\n",
       "    </tr>\n",
       "    <tr>\n",
       "      <th>2021-11-30</th>\n",
       "      <td>158.333333</td>\n",
       "    </tr>\n",
       "    <tr>\n",
       "      <th>2021-12-31</th>\n",
       "      <td>158.333333</td>\n",
       "    </tr>\n",
       "  </tbody>\n",
       "</table>\n",
       "<p>384 rows × 1 columns</p>\n",
       "</div>"
      ],
      "text/plain": [
       "            meat_production\n",
       "month                      \n",
       "1990-01-31       143.166667\n",
       "1990-02-28       143.166667\n",
       "1990-03-31       143.166667\n",
       "1990-04-30       143.166667\n",
       "1990-05-31       143.166667\n",
       "...                     ...\n",
       "2021-08-31       158.333333\n",
       "2021-09-30       158.333333\n",
       "2021-10-31       158.333333\n",
       "2021-11-30       158.333333\n",
       "2021-12-31       158.333333\n",
       "\n",
       "[384 rows x 1 columns]"
      ]
     },
     "execution_count": 28,
     "metadata": {},
     "output_type": "execute_result"
    }
   ],
   "source": [
    "df_meat_prod_aus_M"
   ]
  },
  {
   "cell_type": "markdown",
   "id": "218109b3",
   "metadata": {},
   "source": [
    "# Australia Beef and Veal Meat Total Distribution by Year\n",
    "\n",
    "https://www.indexmundi.com/agriculture/?country=au&commodity=beef-and-veal-meat&graph=total-distribution"
   ]
  },
  {
   "cell_type": "code",
   "execution_count": 29,
   "id": "df92effc",
   "metadata": {},
   "outputs": [],
   "source": [
    "df_meat_dist_aus = pd.read_csv(\"data/aus/au-beef-and-veal-meat-total-distribution.csv\")"
   ]
  },
  {
   "cell_type": "code",
   "execution_count": 30,
   "id": "1c087a99",
   "metadata": {},
   "outputs": [
    {
     "data": {
      "text/html": [
       "<div>\n",
       "<style scoped>\n",
       "    .dataframe tbody tr th:only-of-type {\n",
       "        vertical-align: middle;\n",
       "    }\n",
       "\n",
       "    .dataframe tbody tr th {\n",
       "        vertical-align: top;\n",
       "    }\n",
       "\n",
       "    .dataframe thead th {\n",
       "        text-align: right;\n",
       "    }\n",
       "</style>\n",
       "<table border=\"1\" class=\"dataframe\">\n",
       "  <thead>\n",
       "    <tr style=\"text-align: right;\">\n",
       "      <th></th>\n",
       "      <th>Market Year</th>\n",
       "      <th>Value</th>\n",
       "      <th>Unit Description</th>\n",
       "    </tr>\n",
       "  </thead>\n",
       "  <tbody>\n",
       "    <tr>\n",
       "      <th>0</th>\n",
       "      <td>1960</td>\n",
       "      <td>701</td>\n",
       "      <td>(1000 MT CWE)</td>\n",
       "    </tr>\n",
       "    <tr>\n",
       "      <th>1</th>\n",
       "      <td>1961</td>\n",
       "      <td>745</td>\n",
       "      <td>(1000 MT CWE)</td>\n",
       "    </tr>\n",
       "    <tr>\n",
       "      <th>2</th>\n",
       "      <td>1962</td>\n",
       "      <td>903</td>\n",
       "      <td>(1000 MT CWE)</td>\n",
       "    </tr>\n",
       "    <tr>\n",
       "      <th>3</th>\n",
       "      <td>1963</td>\n",
       "      <td>976</td>\n",
       "      <td>(1000 MT CWE)</td>\n",
       "    </tr>\n",
       "    <tr>\n",
       "      <th>4</th>\n",
       "      <td>1964</td>\n",
       "      <td>1022</td>\n",
       "      <td>(1000 MT CWE)</td>\n",
       "    </tr>\n",
       "    <tr>\n",
       "      <th>...</th>\n",
       "      <td>...</td>\n",
       "      <td>...</td>\n",
       "      <td>...</td>\n",
       "    </tr>\n",
       "    <tr>\n",
       "      <th>58</th>\n",
       "      <td>2018</td>\n",
       "      <td>2323</td>\n",
       "      <td>(1000 MT CWE)</td>\n",
       "    </tr>\n",
       "    <tr>\n",
       "      <th>59</th>\n",
       "      <td>2019</td>\n",
       "      <td>2447</td>\n",
       "      <td>(1000 MT CWE)</td>\n",
       "    </tr>\n",
       "    <tr>\n",
       "      <th>60</th>\n",
       "      <td>2020</td>\n",
       "      <td>2142</td>\n",
       "      <td>(1000 MT CWE)</td>\n",
       "    </tr>\n",
       "    <tr>\n",
       "      <th>61</th>\n",
       "      <td>2021</td>\n",
       "      <td>1925</td>\n",
       "      <td>(1000 MT CWE)</td>\n",
       "    </tr>\n",
       "    <tr>\n",
       "      <th>62</th>\n",
       "      <td>2022</td>\n",
       "      <td>2135</td>\n",
       "      <td>(1000 MT CWE)</td>\n",
       "    </tr>\n",
       "  </tbody>\n",
       "</table>\n",
       "<p>63 rows × 3 columns</p>\n",
       "</div>"
      ],
      "text/plain": [
       "    Market Year   Value  Unit Description\n",
       "0          1960     701     (1000 MT CWE)\n",
       "1          1961     745     (1000 MT CWE)\n",
       "2          1962     903     (1000 MT CWE)\n",
       "3          1963     976     (1000 MT CWE)\n",
       "4          1964    1022     (1000 MT CWE)\n",
       "..          ...     ...               ...\n",
       "58         2018    2323     (1000 MT CWE)\n",
       "59         2019    2447     (1000 MT CWE)\n",
       "60         2020    2142     (1000 MT CWE)\n",
       "61         2021    1925     (1000 MT CWE)\n",
       "62         2022    2135     (1000 MT CWE)\n",
       "\n",
       "[63 rows x 3 columns]"
      ]
     },
     "execution_count": 30,
     "metadata": {},
     "output_type": "execute_result"
    }
   ],
   "source": [
    "df_meat_dist_aus"
   ]
  },
  {
   "cell_type": "code",
   "execution_count": 31,
   "id": "2b7f2a0e",
   "metadata": {},
   "outputs": [],
   "source": [
    "df_meat_dist_aus_M = transform_indexmundi_yearly_data(df_meat_dist_aus, \"meat_distribution\")"
   ]
  },
  {
   "cell_type": "code",
   "execution_count": 32,
   "id": "23eb63e1",
   "metadata": {},
   "outputs": [
    {
     "data": {
      "text/plain": [
       "meat_distribution    0\n",
       "dtype: int64"
      ]
     },
     "execution_count": 32,
     "metadata": {},
     "output_type": "execute_result"
    }
   ],
   "source": [
    "df_meat_dist_aus_M.isnull().sum()"
   ]
  },
  {
   "cell_type": "code",
   "execution_count": 33,
   "id": "18b46dc5",
   "metadata": {},
   "outputs": [
    {
     "name": "stdout",
     "output_type": "stream",
     "text": [
      "<class 'pandas.core.frame.DataFrame'>\n",
      "DatetimeIndex: 384 entries, 1990-01-31 to 2021-12-31\n",
      "Freq: M\n",
      "Data columns (total 1 columns):\n",
      " #   Column             Non-Null Count  Dtype  \n",
      "---  ------             --------------  -----  \n",
      " 0   meat_distribution  384 non-null    float64\n",
      "dtypes: float64(1)\n",
      "memory usage: 6.0 KB\n"
     ]
    }
   ],
   "source": [
    "df_meat_dist_aus_M.info()"
   ]
  },
  {
   "cell_type": "markdown",
   "id": "d0ddf77b",
   "metadata": {},
   "source": [
    "## final output"
   ]
  },
  {
   "cell_type": "code",
   "execution_count": 34,
   "id": "5aaf43e1",
   "metadata": {},
   "outputs": [
    {
     "data": {
      "text/html": [
       "<div>\n",
       "<style scoped>\n",
       "    .dataframe tbody tr th:only-of-type {\n",
       "        vertical-align: middle;\n",
       "    }\n",
       "\n",
       "    .dataframe tbody tr th {\n",
       "        vertical-align: top;\n",
       "    }\n",
       "\n",
       "    .dataframe thead th {\n",
       "        text-align: right;\n",
       "    }\n",
       "</style>\n",
       "<table border=\"1\" class=\"dataframe\">\n",
       "  <thead>\n",
       "    <tr style=\"text-align: right;\">\n",
       "      <th></th>\n",
       "      <th>meat_distribution</th>\n",
       "    </tr>\n",
       "    <tr>\n",
       "      <th>month</th>\n",
       "      <th></th>\n",
       "    </tr>\n",
       "  </thead>\n",
       "  <tbody>\n",
       "    <tr>\n",
       "      <th>1990-01-31</th>\n",
       "      <td>145.333333</td>\n",
       "    </tr>\n",
       "    <tr>\n",
       "      <th>1990-02-28</th>\n",
       "      <td>145.333333</td>\n",
       "    </tr>\n",
       "    <tr>\n",
       "      <th>1990-03-31</th>\n",
       "      <td>145.333333</td>\n",
       "    </tr>\n",
       "    <tr>\n",
       "      <th>1990-04-30</th>\n",
       "      <td>145.333333</td>\n",
       "    </tr>\n",
       "    <tr>\n",
       "      <th>1990-05-31</th>\n",
       "      <td>145.333333</td>\n",
       "    </tr>\n",
       "    <tr>\n",
       "      <th>...</th>\n",
       "      <td>...</td>\n",
       "    </tr>\n",
       "    <tr>\n",
       "      <th>2021-08-31</th>\n",
       "      <td>160.416667</td>\n",
       "    </tr>\n",
       "    <tr>\n",
       "      <th>2021-09-30</th>\n",
       "      <td>160.416667</td>\n",
       "    </tr>\n",
       "    <tr>\n",
       "      <th>2021-10-31</th>\n",
       "      <td>160.416667</td>\n",
       "    </tr>\n",
       "    <tr>\n",
       "      <th>2021-11-30</th>\n",
       "      <td>160.416667</td>\n",
       "    </tr>\n",
       "    <tr>\n",
       "      <th>2021-12-31</th>\n",
       "      <td>160.416667</td>\n",
       "    </tr>\n",
       "  </tbody>\n",
       "</table>\n",
       "<p>384 rows × 1 columns</p>\n",
       "</div>"
      ],
      "text/plain": [
       "            meat_distribution\n",
       "month                        \n",
       "1990-01-31         145.333333\n",
       "1990-02-28         145.333333\n",
       "1990-03-31         145.333333\n",
       "1990-04-30         145.333333\n",
       "1990-05-31         145.333333\n",
       "...                       ...\n",
       "2021-08-31         160.416667\n",
       "2021-09-30         160.416667\n",
       "2021-10-31         160.416667\n",
       "2021-11-30         160.416667\n",
       "2021-12-31         160.416667\n",
       "\n",
       "[384 rows x 1 columns]"
      ]
     },
     "execution_count": 34,
     "metadata": {},
     "output_type": "execute_result"
    }
   ],
   "source": [
    "df_meat_dist_aus_M"
   ]
  },
  {
   "cell_type": "markdown",
   "id": "3674fa79",
   "metadata": {},
   "source": [
    "# Australia Beef and Veal Meat Total Supply by Year\n",
    "\n",
    "https://www.indexmundi.com/agriculture/?country=au&commodity=beef-and-veal-meat&graph=total-supply"
   ]
  },
  {
   "cell_type": "code",
   "execution_count": 35,
   "id": "a99d180a",
   "metadata": {},
   "outputs": [],
   "source": [
    "df_beef_supply_aus = pd.read_csv(\"data/aus/au-beef-and-veal-meat-total-supply.csv\")"
   ]
  },
  {
   "cell_type": "code",
   "execution_count": 36,
   "id": "63ff1a0c",
   "metadata": {},
   "outputs": [
    {
     "data": {
      "text/html": [
       "<div>\n",
       "<style scoped>\n",
       "    .dataframe tbody tr th:only-of-type {\n",
       "        vertical-align: middle;\n",
       "    }\n",
       "\n",
       "    .dataframe tbody tr th {\n",
       "        vertical-align: top;\n",
       "    }\n",
       "\n",
       "    .dataframe thead th {\n",
       "        text-align: right;\n",
       "    }\n",
       "</style>\n",
       "<table border=\"1\" class=\"dataframe\">\n",
       "  <thead>\n",
       "    <tr style=\"text-align: right;\">\n",
       "      <th></th>\n",
       "      <th>Market Year</th>\n",
       "      <th>Value</th>\n",
       "      <th>Unit Description</th>\n",
       "    </tr>\n",
       "  </thead>\n",
       "  <tbody>\n",
       "    <tr>\n",
       "      <th>0</th>\n",
       "      <td>1960</td>\n",
       "      <td>701</td>\n",
       "      <td>(1000 MT CWE)</td>\n",
       "    </tr>\n",
       "    <tr>\n",
       "      <th>1</th>\n",
       "      <td>1961</td>\n",
       "      <td>745</td>\n",
       "      <td>(1000 MT CWE)</td>\n",
       "    </tr>\n",
       "    <tr>\n",
       "      <th>2</th>\n",
       "      <td>1962</td>\n",
       "      <td>903</td>\n",
       "      <td>(1000 MT CWE)</td>\n",
       "    </tr>\n",
       "    <tr>\n",
       "      <th>3</th>\n",
       "      <td>1963</td>\n",
       "      <td>976</td>\n",
       "      <td>(1000 MT CWE)</td>\n",
       "    </tr>\n",
       "    <tr>\n",
       "      <th>4</th>\n",
       "      <td>1964</td>\n",
       "      <td>1022</td>\n",
       "      <td>(1000 MT CWE)</td>\n",
       "    </tr>\n",
       "    <tr>\n",
       "      <th>...</th>\n",
       "      <td>...</td>\n",
       "      <td>...</td>\n",
       "      <td>...</td>\n",
       "    </tr>\n",
       "    <tr>\n",
       "      <th>58</th>\n",
       "      <td>2018</td>\n",
       "      <td>2323</td>\n",
       "      <td>(1000 MT CWE)</td>\n",
       "    </tr>\n",
       "    <tr>\n",
       "      <th>59</th>\n",
       "      <td>2019</td>\n",
       "      <td>2447</td>\n",
       "      <td>(1000 MT CWE)</td>\n",
       "    </tr>\n",
       "    <tr>\n",
       "      <th>60</th>\n",
       "      <td>2020</td>\n",
       "      <td>2142</td>\n",
       "      <td>(1000 MT CWE)</td>\n",
       "    </tr>\n",
       "    <tr>\n",
       "      <th>61</th>\n",
       "      <td>2021</td>\n",
       "      <td>1925</td>\n",
       "      <td>(1000 MT CWE)</td>\n",
       "    </tr>\n",
       "    <tr>\n",
       "      <th>62</th>\n",
       "      <td>2022</td>\n",
       "      <td>2135</td>\n",
       "      <td>(1000 MT CWE)</td>\n",
       "    </tr>\n",
       "  </tbody>\n",
       "</table>\n",
       "<p>63 rows × 3 columns</p>\n",
       "</div>"
      ],
      "text/plain": [
       "    Market Year   Value  Unit Description\n",
       "0          1960     701     (1000 MT CWE)\n",
       "1          1961     745     (1000 MT CWE)\n",
       "2          1962     903     (1000 MT CWE)\n",
       "3          1963     976     (1000 MT CWE)\n",
       "4          1964    1022     (1000 MT CWE)\n",
       "..          ...     ...               ...\n",
       "58         2018    2323     (1000 MT CWE)\n",
       "59         2019    2447     (1000 MT CWE)\n",
       "60         2020    2142     (1000 MT CWE)\n",
       "61         2021    1925     (1000 MT CWE)\n",
       "62         2022    2135     (1000 MT CWE)\n",
       "\n",
       "[63 rows x 3 columns]"
      ]
     },
     "execution_count": 36,
     "metadata": {},
     "output_type": "execute_result"
    }
   ],
   "source": [
    "df_beef_supply_aus"
   ]
  },
  {
   "cell_type": "code",
   "execution_count": 38,
   "id": "bfd88b49",
   "metadata": {},
   "outputs": [],
   "source": [
    "df_beef_supply_aus_M = transform_indexmundi_yearly_data(df_beef_supply_aus, \"meat_supply\")"
   ]
  },
  {
   "cell_type": "code",
   "execution_count": 39,
   "id": "798795ad",
   "metadata": {},
   "outputs": [
    {
     "data": {
      "text/plain": [
       "meat_supply    0\n",
       "dtype: int64"
      ]
     },
     "execution_count": 39,
     "metadata": {},
     "output_type": "execute_result"
    }
   ],
   "source": [
    "df_beef_supply_aus_M.isnull().sum()"
   ]
  },
  {
   "cell_type": "code",
   "execution_count": 40,
   "id": "51b8a000",
   "metadata": {},
   "outputs": [
    {
     "name": "stdout",
     "output_type": "stream",
     "text": [
      "<class 'pandas.core.frame.DataFrame'>\n",
      "DatetimeIndex: 384 entries, 1990-01-31 to 2021-12-31\n",
      "Freq: M\n",
      "Data columns (total 1 columns):\n",
      " #   Column       Non-Null Count  Dtype  \n",
      "---  ------       --------------  -----  \n",
      " 0   meat_supply  384 non-null    float64\n",
      "dtypes: float64(1)\n",
      "memory usage: 6.0 KB\n"
     ]
    }
   ],
   "source": [
    "df_beef_supply_aus_M.info()"
   ]
  },
  {
   "cell_type": "markdown",
   "id": "59c02a41",
   "metadata": {},
   "source": [
    "## final output"
   ]
  },
  {
   "cell_type": "code",
   "execution_count": 41,
   "id": "f78504b9",
   "metadata": {},
   "outputs": [
    {
     "data": {
      "text/html": [
       "<div>\n",
       "<style scoped>\n",
       "    .dataframe tbody tr th:only-of-type {\n",
       "        vertical-align: middle;\n",
       "    }\n",
       "\n",
       "    .dataframe tbody tr th {\n",
       "        vertical-align: top;\n",
       "    }\n",
       "\n",
       "    .dataframe thead th {\n",
       "        text-align: right;\n",
       "    }\n",
       "</style>\n",
       "<table border=\"1\" class=\"dataframe\">\n",
       "  <thead>\n",
       "    <tr style=\"text-align: right;\">\n",
       "      <th></th>\n",
       "      <th>meat_supply</th>\n",
       "    </tr>\n",
       "    <tr>\n",
       "      <th>month</th>\n",
       "      <th></th>\n",
       "    </tr>\n",
       "  </thead>\n",
       "  <tbody>\n",
       "    <tr>\n",
       "      <th>1990-01-31</th>\n",
       "      <td>145.333333</td>\n",
       "    </tr>\n",
       "    <tr>\n",
       "      <th>1990-02-28</th>\n",
       "      <td>145.333333</td>\n",
       "    </tr>\n",
       "    <tr>\n",
       "      <th>1990-03-31</th>\n",
       "      <td>145.333333</td>\n",
       "    </tr>\n",
       "    <tr>\n",
       "      <th>1990-04-30</th>\n",
       "      <td>145.333333</td>\n",
       "    </tr>\n",
       "    <tr>\n",
       "      <th>1990-05-31</th>\n",
       "      <td>145.333333</td>\n",
       "    </tr>\n",
       "    <tr>\n",
       "      <th>...</th>\n",
       "      <td>...</td>\n",
       "    </tr>\n",
       "    <tr>\n",
       "      <th>2021-08-31</th>\n",
       "      <td>160.416667</td>\n",
       "    </tr>\n",
       "    <tr>\n",
       "      <th>2021-09-30</th>\n",
       "      <td>160.416667</td>\n",
       "    </tr>\n",
       "    <tr>\n",
       "      <th>2021-10-31</th>\n",
       "      <td>160.416667</td>\n",
       "    </tr>\n",
       "    <tr>\n",
       "      <th>2021-11-30</th>\n",
       "      <td>160.416667</td>\n",
       "    </tr>\n",
       "    <tr>\n",
       "      <th>2021-12-31</th>\n",
       "      <td>160.416667</td>\n",
       "    </tr>\n",
       "  </tbody>\n",
       "</table>\n",
       "<p>384 rows × 1 columns</p>\n",
       "</div>"
      ],
      "text/plain": [
       "            meat_supply\n",
       "month                  \n",
       "1990-01-31   145.333333\n",
       "1990-02-28   145.333333\n",
       "1990-03-31   145.333333\n",
       "1990-04-30   145.333333\n",
       "1990-05-31   145.333333\n",
       "...                 ...\n",
       "2021-08-31   160.416667\n",
       "2021-09-30   160.416667\n",
       "2021-10-31   160.416667\n",
       "2021-11-30   160.416667\n",
       "2021-12-31   160.416667\n",
       "\n",
       "[384 rows x 1 columns]"
      ]
     },
     "execution_count": 41,
     "metadata": {},
     "output_type": "execute_result"
    }
   ],
   "source": [
    "df_beef_supply_aus_M"
   ]
  },
  {
   "cell_type": "markdown",
   "id": "1d06c8b2",
   "metadata": {},
   "source": [
    "# Australia Animal Numbers, Cattle Production by Year\n",
    "\n",
    "https://www.indexmundi.com/agriculture/?country=au&commodity=cattle&graph=production"
   ]
  },
  {
   "cell_type": "code",
   "execution_count": 42,
   "id": "35ac1967",
   "metadata": {},
   "outputs": [],
   "source": [
    "df_cattle_production_aus = pd.read_csv(\"data/aus/au-cattle-production.csv\")"
   ]
  },
  {
   "cell_type": "code",
   "execution_count": 43,
   "id": "09afe6b5",
   "metadata": {},
   "outputs": [
    {
     "data": {
      "text/html": [
       "<div>\n",
       "<style scoped>\n",
       "    .dataframe tbody tr th:only-of-type {\n",
       "        vertical-align: middle;\n",
       "    }\n",
       "\n",
       "    .dataframe tbody tr th {\n",
       "        vertical-align: top;\n",
       "    }\n",
       "\n",
       "    .dataframe thead th {\n",
       "        text-align: right;\n",
       "    }\n",
       "</style>\n",
       "<table border=\"1\" class=\"dataframe\">\n",
       "  <thead>\n",
       "    <tr style=\"text-align: right;\">\n",
       "      <th></th>\n",
       "      <th>Market Year</th>\n",
       "      <th>Value</th>\n",
       "      <th>Unit Description</th>\n",
       "    </tr>\n",
       "  </thead>\n",
       "  <tbody>\n",
       "    <tr>\n",
       "      <th>0</th>\n",
       "      <td>1960</td>\n",
       "      <td>0</td>\n",
       "      <td>(1000 HEAD)</td>\n",
       "    </tr>\n",
       "    <tr>\n",
       "      <th>1</th>\n",
       "      <td>1961</td>\n",
       "      <td>0</td>\n",
       "      <td>(1000 HEAD)</td>\n",
       "    </tr>\n",
       "    <tr>\n",
       "      <th>2</th>\n",
       "      <td>1962</td>\n",
       "      <td>0</td>\n",
       "      <td>(1000 HEAD)</td>\n",
       "    </tr>\n",
       "    <tr>\n",
       "      <th>3</th>\n",
       "      <td>1963</td>\n",
       "      <td>0</td>\n",
       "      <td>(1000 HEAD)</td>\n",
       "    </tr>\n",
       "    <tr>\n",
       "      <th>4</th>\n",
       "      <td>1964</td>\n",
       "      <td>0</td>\n",
       "      <td>(1000 HEAD)</td>\n",
       "    </tr>\n",
       "    <tr>\n",
       "      <th>...</th>\n",
       "      <td>...</td>\n",
       "      <td>...</td>\n",
       "      <td>...</td>\n",
       "    </tr>\n",
       "    <tr>\n",
       "      <th>58</th>\n",
       "      <td>2018</td>\n",
       "      <td>9100</td>\n",
       "      <td>(1000 HEAD)</td>\n",
       "    </tr>\n",
       "    <tr>\n",
       "      <th>59</th>\n",
       "      <td>2019</td>\n",
       "      <td>8700</td>\n",
       "      <td>(1000 HEAD)</td>\n",
       "    </tr>\n",
       "    <tr>\n",
       "      <th>60</th>\n",
       "      <td>2020</td>\n",
       "      <td>8300</td>\n",
       "      <td>(1000 HEAD)</td>\n",
       "    </tr>\n",
       "    <tr>\n",
       "      <th>61</th>\n",
       "      <td>2021</td>\n",
       "      <td>8200</td>\n",
       "      <td>(1000 HEAD)</td>\n",
       "    </tr>\n",
       "    <tr>\n",
       "      <th>62</th>\n",
       "      <td>2022</td>\n",
       "      <td>8800</td>\n",
       "      <td>(1000 HEAD)</td>\n",
       "    </tr>\n",
       "  </tbody>\n",
       "</table>\n",
       "<p>63 rows × 3 columns</p>\n",
       "</div>"
      ],
      "text/plain": [
       "    Market Year   Value  Unit Description\n",
       "0          1960       0       (1000 HEAD)\n",
       "1          1961       0       (1000 HEAD)\n",
       "2          1962       0       (1000 HEAD)\n",
       "3          1963       0       (1000 HEAD)\n",
       "4          1964       0       (1000 HEAD)\n",
       "..          ...     ...               ...\n",
       "58         2018    9100       (1000 HEAD)\n",
       "59         2019    8700       (1000 HEAD)\n",
       "60         2020    8300       (1000 HEAD)\n",
       "61         2021    8200       (1000 HEAD)\n",
       "62         2022    8800       (1000 HEAD)\n",
       "\n",
       "[63 rows x 3 columns]"
      ]
     },
     "execution_count": 43,
     "metadata": {},
     "output_type": "execute_result"
    }
   ],
   "source": [
    "df_cattle_production_aus"
   ]
  },
  {
   "cell_type": "code",
   "execution_count": 45,
   "id": "3d94dc9c",
   "metadata": {},
   "outputs": [],
   "source": [
    "df_cattle_production_aus_M = transform_indexmundi_yearly_data(df_cattle_production_aus, \"cattle_production\" )"
   ]
  },
  {
   "cell_type": "code",
   "execution_count": 46,
   "id": "ef18b413",
   "metadata": {},
   "outputs": [
    {
     "data": {
      "text/plain": [
       "cattle_production    0\n",
       "dtype: int64"
      ]
     },
     "execution_count": 46,
     "metadata": {},
     "output_type": "execute_result"
    }
   ],
   "source": [
    "df_cattle_production_aus_M.isnull().sum()"
   ]
  },
  {
   "cell_type": "code",
   "execution_count": 47,
   "id": "1ee092cb",
   "metadata": {},
   "outputs": [
    {
     "name": "stdout",
     "output_type": "stream",
     "text": [
      "<class 'pandas.core.frame.DataFrame'>\n",
      "DatetimeIndex: 384 entries, 1990-01-31 to 2021-12-31\n",
      "Freq: M\n",
      "Data columns (total 1 columns):\n",
      " #   Column             Non-Null Count  Dtype  \n",
      "---  ------             --------------  -----  \n",
      " 0   cattle_production  384 non-null    float64\n",
      "dtypes: float64(1)\n",
      "memory usage: 6.0 KB\n"
     ]
    }
   ],
   "source": [
    "df_cattle_production_aus_M.info()"
   ]
  },
  {
   "cell_type": "markdown",
   "id": "24d09aa8",
   "metadata": {},
   "source": [
    "## final output"
   ]
  },
  {
   "cell_type": "code",
   "execution_count": 48,
   "id": "68133588",
   "metadata": {},
   "outputs": [
    {
     "data": {
      "text/html": [
       "<div>\n",
       "<style scoped>\n",
       "    .dataframe tbody tr th:only-of-type {\n",
       "        vertical-align: middle;\n",
       "    }\n",
       "\n",
       "    .dataframe tbody tr th {\n",
       "        vertical-align: top;\n",
       "    }\n",
       "\n",
       "    .dataframe thead th {\n",
       "        text-align: right;\n",
       "    }\n",
       "</style>\n",
       "<table border=\"1\" class=\"dataframe\">\n",
       "  <thead>\n",
       "    <tr style=\"text-align: right;\">\n",
       "      <th></th>\n",
       "      <th>cattle_production</th>\n",
       "    </tr>\n",
       "    <tr>\n",
       "      <th>month</th>\n",
       "      <th></th>\n",
       "    </tr>\n",
       "  </thead>\n",
       "  <tbody>\n",
       "    <tr>\n",
       "      <th>1990-01-31</th>\n",
       "      <td>754.833333</td>\n",
       "    </tr>\n",
       "    <tr>\n",
       "      <th>1990-02-28</th>\n",
       "      <td>754.833333</td>\n",
       "    </tr>\n",
       "    <tr>\n",
       "      <th>1990-03-31</th>\n",
       "      <td>754.833333</td>\n",
       "    </tr>\n",
       "    <tr>\n",
       "      <th>1990-04-30</th>\n",
       "      <td>754.833333</td>\n",
       "    </tr>\n",
       "    <tr>\n",
       "      <th>1990-05-31</th>\n",
       "      <td>754.833333</td>\n",
       "    </tr>\n",
       "    <tr>\n",
       "      <th>...</th>\n",
       "      <td>...</td>\n",
       "    </tr>\n",
       "    <tr>\n",
       "      <th>2021-08-31</th>\n",
       "      <td>683.333333</td>\n",
       "    </tr>\n",
       "    <tr>\n",
       "      <th>2021-09-30</th>\n",
       "      <td>683.333333</td>\n",
       "    </tr>\n",
       "    <tr>\n",
       "      <th>2021-10-31</th>\n",
       "      <td>683.333333</td>\n",
       "    </tr>\n",
       "    <tr>\n",
       "      <th>2021-11-30</th>\n",
       "      <td>683.333333</td>\n",
       "    </tr>\n",
       "    <tr>\n",
       "      <th>2021-12-31</th>\n",
       "      <td>683.333333</td>\n",
       "    </tr>\n",
       "  </tbody>\n",
       "</table>\n",
       "<p>384 rows × 1 columns</p>\n",
       "</div>"
      ],
      "text/plain": [
       "            cattle_production\n",
       "month                        \n",
       "1990-01-31         754.833333\n",
       "1990-02-28         754.833333\n",
       "1990-03-31         754.833333\n",
       "1990-04-30         754.833333\n",
       "1990-05-31         754.833333\n",
       "...                       ...\n",
       "2021-08-31         683.333333\n",
       "2021-09-30         683.333333\n",
       "2021-10-31         683.333333\n",
       "2021-11-30         683.333333\n",
       "2021-12-31         683.333333\n",
       "\n",
       "[384 rows x 1 columns]"
      ]
     },
     "execution_count": 48,
     "metadata": {},
     "output_type": "execute_result"
    }
   ],
   "source": [
    "df_cattle_production_aus_M"
   ]
  },
  {
   "cell_type": "markdown",
   "id": "198fb126",
   "metadata": {},
   "source": [
    "# Australia Animal Numbers, Swine Production by Year\n",
    "\n",
    "https://www.indexmundi.com/agriculture/?country=au&commodity=swine&graph=production"
   ]
  },
  {
   "cell_type": "code",
   "execution_count": 49,
   "id": "cacec4ab",
   "metadata": {},
   "outputs": [],
   "source": [
    "df_swine_production_aus = pd.read_csv(\"data/aus/au-swine-production.csv\")"
   ]
  },
  {
   "cell_type": "code",
   "execution_count": 50,
   "id": "26b07a81",
   "metadata": {},
   "outputs": [
    {
     "data": {
      "text/html": [
       "<div>\n",
       "<style scoped>\n",
       "    .dataframe tbody tr th:only-of-type {\n",
       "        vertical-align: middle;\n",
       "    }\n",
       "\n",
       "    .dataframe tbody tr th {\n",
       "        vertical-align: top;\n",
       "    }\n",
       "\n",
       "    .dataframe thead th {\n",
       "        text-align: right;\n",
       "    }\n",
       "</style>\n",
       "<table border=\"1\" class=\"dataframe\">\n",
       "  <thead>\n",
       "    <tr style=\"text-align: right;\">\n",
       "      <th></th>\n",
       "      <th>Market Year</th>\n",
       "      <th>Value</th>\n",
       "      <th>Unit Description</th>\n",
       "    </tr>\n",
       "  </thead>\n",
       "  <tbody>\n",
       "    <tr>\n",
       "      <th>0</th>\n",
       "      <td>1960</td>\n",
       "      <td>0</td>\n",
       "      <td>(1000 HEAD)</td>\n",
       "    </tr>\n",
       "    <tr>\n",
       "      <th>1</th>\n",
       "      <td>1961</td>\n",
       "      <td>0</td>\n",
       "      <td>(1000 HEAD)</td>\n",
       "    </tr>\n",
       "    <tr>\n",
       "      <th>2</th>\n",
       "      <td>1962</td>\n",
       "      <td>0</td>\n",
       "      <td>(1000 HEAD)</td>\n",
       "    </tr>\n",
       "    <tr>\n",
       "      <th>3</th>\n",
       "      <td>1963</td>\n",
       "      <td>0</td>\n",
       "      <td>(1000 HEAD)</td>\n",
       "    </tr>\n",
       "    <tr>\n",
       "      <th>4</th>\n",
       "      <td>1964</td>\n",
       "      <td>0</td>\n",
       "      <td>(1000 HEAD)</td>\n",
       "    </tr>\n",
       "    <tr>\n",
       "      <th>5</th>\n",
       "      <td>1965</td>\n",
       "      <td>0</td>\n",
       "      <td>(1000 HEAD)</td>\n",
       "    </tr>\n",
       "    <tr>\n",
       "      <th>6</th>\n",
       "      <td>1966</td>\n",
       "      <td>0</td>\n",
       "      <td>(1000 HEAD)</td>\n",
       "    </tr>\n",
       "    <tr>\n",
       "      <th>7</th>\n",
       "      <td>1967</td>\n",
       "      <td>3202</td>\n",
       "      <td>(1000 HEAD)</td>\n",
       "    </tr>\n",
       "    <tr>\n",
       "      <th>8</th>\n",
       "      <td>1968</td>\n",
       "      <td>3379</td>\n",
       "      <td>(1000 HEAD)</td>\n",
       "    </tr>\n",
       "    <tr>\n",
       "      <th>9</th>\n",
       "      <td>1969</td>\n",
       "      <td>3676</td>\n",
       "      <td>(1000 HEAD)</td>\n",
       "    </tr>\n",
       "    <tr>\n",
       "      <th>10</th>\n",
       "      <td>1970</td>\n",
       "      <td>3822</td>\n",
       "      <td>(1000 HEAD)</td>\n",
       "    </tr>\n",
       "    <tr>\n",
       "      <th>11</th>\n",
       "      <td>1971</td>\n",
       "      <td>4374</td>\n",
       "      <td>(1000 HEAD)</td>\n",
       "    </tr>\n",
       "    <tr>\n",
       "      <th>12</th>\n",
       "      <td>1972</td>\n",
       "      <td>4385</td>\n",
       "      <td>(1000 HEAD)</td>\n",
       "    </tr>\n",
       "    <tr>\n",
       "      <th>13</th>\n",
       "      <td>1973</td>\n",
       "      <td>3957</td>\n",
       "      <td>(1000 HEAD)</td>\n",
       "    </tr>\n",
       "    <tr>\n",
       "      <th>14</th>\n",
       "      <td>1974</td>\n",
       "      <td>3400</td>\n",
       "      <td>(1000 HEAD)</td>\n",
       "    </tr>\n",
       "    <tr>\n",
       "      <th>15</th>\n",
       "      <td>1975</td>\n",
       "      <td>3279</td>\n",
       "      <td>(1000 HEAD)</td>\n",
       "    </tr>\n",
       "    <tr>\n",
       "      <th>16</th>\n",
       "      <td>1976</td>\n",
       "      <td>3440</td>\n",
       "      <td>(1000 HEAD)</td>\n",
       "    </tr>\n",
       "    <tr>\n",
       "      <th>17</th>\n",
       "      <td>1977</td>\n",
       "      <td>4583</td>\n",
       "      <td>(1000 HEAD)</td>\n",
       "    </tr>\n",
       "    <tr>\n",
       "      <th>18</th>\n",
       "      <td>1978</td>\n",
       "      <td>3730</td>\n",
       "      <td>(1000 HEAD)</td>\n",
       "    </tr>\n",
       "    <tr>\n",
       "      <th>19</th>\n",
       "      <td>1979</td>\n",
       "      <td>3880</td>\n",
       "      <td>(1000 HEAD)</td>\n",
       "    </tr>\n",
       "    <tr>\n",
       "      <th>20</th>\n",
       "      <td>1980</td>\n",
       "      <td>4082</td>\n",
       "      <td>(1000 HEAD)</td>\n",
       "    </tr>\n",
       "    <tr>\n",
       "      <th>21</th>\n",
       "      <td>1981</td>\n",
       "      <td>4194</td>\n",
       "      <td>(1000 HEAD)</td>\n",
       "    </tr>\n",
       "    <tr>\n",
       "      <th>22</th>\n",
       "      <td>1982</td>\n",
       "      <td>4135</td>\n",
       "      <td>(1000 HEAD)</td>\n",
       "    </tr>\n",
       "    <tr>\n",
       "      <th>23</th>\n",
       "      <td>1983</td>\n",
       "      <td>4264</td>\n",
       "      <td>(1000 HEAD)</td>\n",
       "    </tr>\n",
       "    <tr>\n",
       "      <th>24</th>\n",
       "      <td>1984</td>\n",
       "      <td>4292</td>\n",
       "      <td>(1000 HEAD)</td>\n",
       "    </tr>\n",
       "    <tr>\n",
       "      <th>25</th>\n",
       "      <td>1985</td>\n",
       "      <td>4501</td>\n",
       "      <td>(1000 HEAD)</td>\n",
       "    </tr>\n",
       "    <tr>\n",
       "      <th>26</th>\n",
       "      <td>1986</td>\n",
       "      <td>4617</td>\n",
       "      <td>(1000 HEAD)</td>\n",
       "    </tr>\n",
       "    <tr>\n",
       "      <th>27</th>\n",
       "      <td>1987</td>\n",
       "      <td>4784</td>\n",
       "      <td>(1000 HEAD)</td>\n",
       "    </tr>\n",
       "    <tr>\n",
       "      <th>28</th>\n",
       "      <td>1988</td>\n",
       "      <td>4861</td>\n",
       "      <td>(1000 HEAD)</td>\n",
       "    </tr>\n",
       "    <tr>\n",
       "      <th>29</th>\n",
       "      <td>1989</td>\n",
       "      <td>5009</td>\n",
       "      <td>(1000 HEAD)</td>\n",
       "    </tr>\n",
       "    <tr>\n",
       "      <th>30</th>\n",
       "      <td>1990</td>\n",
       "      <td>4675</td>\n",
       "      <td>(1000 HEAD)</td>\n",
       "    </tr>\n",
       "    <tr>\n",
       "      <th>31</th>\n",
       "      <td>1991</td>\n",
       "      <td>4985</td>\n",
       "      <td>(1000 HEAD)</td>\n",
       "    </tr>\n",
       "    <tr>\n",
       "      <th>32</th>\n",
       "      <td>1992</td>\n",
       "      <td>5128</td>\n",
       "      <td>(1000 HEAD)</td>\n",
       "    </tr>\n",
       "    <tr>\n",
       "      <th>33</th>\n",
       "      <td>1993</td>\n",
       "      <td>4986</td>\n",
       "      <td>(1000 HEAD)</td>\n",
       "    </tr>\n",
       "    <tr>\n",
       "      <th>34</th>\n",
       "      <td>1994</td>\n",
       "      <td>5190</td>\n",
       "      <td>(1000 HEAD)</td>\n",
       "    </tr>\n",
       "    <tr>\n",
       "      <th>35</th>\n",
       "      <td>1995</td>\n",
       "      <td>5122</td>\n",
       "      <td>(1000 HEAD)</td>\n",
       "    </tr>\n",
       "    <tr>\n",
       "      <th>36</th>\n",
       "      <td>1996</td>\n",
       "      <td>4752</td>\n",
       "      <td>(1000 HEAD)</td>\n",
       "    </tr>\n",
       "    <tr>\n",
       "      <th>37</th>\n",
       "      <td>1997</td>\n",
       "      <td>4849</td>\n",
       "      <td>(1000 HEAD)</td>\n",
       "    </tr>\n",
       "    <tr>\n",
       "      <th>38</th>\n",
       "      <td>1998</td>\n",
       "      <td>5239</td>\n",
       "      <td>(1000 HEAD)</td>\n",
       "    </tr>\n",
       "    <tr>\n",
       "      <th>39</th>\n",
       "      <td>1999</td>\n",
       "      <td>4923</td>\n",
       "      <td>(1000 HEAD)</td>\n",
       "    </tr>\n",
       "    <tr>\n",
       "      <th>40</th>\n",
       "      <td>2000</td>\n",
       "      <td>5288</td>\n",
       "      <td>(1000 HEAD)</td>\n",
       "    </tr>\n",
       "    <tr>\n",
       "      <th>41</th>\n",
       "      <td>2001</td>\n",
       "      <td>5117</td>\n",
       "      <td>(1000 HEAD)</td>\n",
       "    </tr>\n",
       "    <tr>\n",
       "      <th>42</th>\n",
       "      <td>2002</td>\n",
       "      <td>5994</td>\n",
       "      <td>(1000 HEAD)</td>\n",
       "    </tr>\n",
       "    <tr>\n",
       "      <th>43</th>\n",
       "      <td>2003</td>\n",
       "      <td>5444</td>\n",
       "      <td>(1000 HEAD)</td>\n",
       "    </tr>\n",
       "    <tr>\n",
       "      <th>44</th>\n",
       "      <td>2004</td>\n",
       "      <td>5331</td>\n",
       "      <td>(1000 HEAD)</td>\n",
       "    </tr>\n",
       "    <tr>\n",
       "      <th>45</th>\n",
       "      <td>2005</td>\n",
       "      <td>5364</td>\n",
       "      <td>(1000 HEAD)</td>\n",
       "    </tr>\n",
       "    <tr>\n",
       "      <th>46</th>\n",
       "      <td>2006</td>\n",
       "      <td>5515</td>\n",
       "      <td>(1000 HEAD)</td>\n",
       "    </tr>\n",
       "    <tr>\n",
       "      <th>47</th>\n",
       "      <td>2007</td>\n",
       "      <td>5199</td>\n",
       "      <td>(1000 HEAD)</td>\n",
       "    </tr>\n",
       "    <tr>\n",
       "      <th>48</th>\n",
       "      <td>2008</td>\n",
       "      <td>4603</td>\n",
       "      <td>(1000 HEAD)</td>\n",
       "    </tr>\n",
       "    <tr>\n",
       "      <th>49</th>\n",
       "      <td>2009</td>\n",
       "      <td>4390</td>\n",
       "      <td>(1000 HEAD)</td>\n",
       "    </tr>\n",
       "    <tr>\n",
       "      <th>50</th>\n",
       "      <td>2010</td>\n",
       "      <td>4604</td>\n",
       "      <td>(1000 HEAD)</td>\n",
       "    </tr>\n",
       "    <tr>\n",
       "      <th>51</th>\n",
       "      <td>2011</td>\n",
       "      <td>4659</td>\n",
       "      <td>(1000 HEAD)</td>\n",
       "    </tr>\n",
       "    <tr>\n",
       "      <th>52</th>\n",
       "      <td>2012</td>\n",
       "      <td>4581</td>\n",
       "      <td>(1000 HEAD)</td>\n",
       "    </tr>\n",
       "    <tr>\n",
       "      <th>53</th>\n",
       "      <td>2013</td>\n",
       "      <td>4737</td>\n",
       "      <td>(1000 HEAD)</td>\n",
       "    </tr>\n",
       "    <tr>\n",
       "      <th>54</th>\n",
       "      <td>2014</td>\n",
       "      <td>5022</td>\n",
       "      <td>(1000 HEAD)</td>\n",
       "    </tr>\n",
       "    <tr>\n",
       "      <th>55</th>\n",
       "      <td>2015</td>\n",
       "      <td>4921</td>\n",
       "      <td>(1000 HEAD)</td>\n",
       "    </tr>\n",
       "    <tr>\n",
       "      <th>56</th>\n",
       "      <td>2016</td>\n",
       "      <td>5028</td>\n",
       "      <td>(1000 HEAD)</td>\n",
       "    </tr>\n",
       "  </tbody>\n",
       "</table>\n",
       "</div>"
      ],
      "text/plain": [
       "    Market Year   Value  Unit Description\n",
       "0          1960       0       (1000 HEAD)\n",
       "1          1961       0       (1000 HEAD)\n",
       "2          1962       0       (1000 HEAD)\n",
       "3          1963       0       (1000 HEAD)\n",
       "4          1964       0       (1000 HEAD)\n",
       "5          1965       0       (1000 HEAD)\n",
       "6          1966       0       (1000 HEAD)\n",
       "7          1967    3202       (1000 HEAD)\n",
       "8          1968    3379       (1000 HEAD)\n",
       "9          1969    3676       (1000 HEAD)\n",
       "10         1970    3822       (1000 HEAD)\n",
       "11         1971    4374       (1000 HEAD)\n",
       "12         1972    4385       (1000 HEAD)\n",
       "13         1973    3957       (1000 HEAD)\n",
       "14         1974    3400       (1000 HEAD)\n",
       "15         1975    3279       (1000 HEAD)\n",
       "16         1976    3440       (1000 HEAD)\n",
       "17         1977    4583       (1000 HEAD)\n",
       "18         1978    3730       (1000 HEAD)\n",
       "19         1979    3880       (1000 HEAD)\n",
       "20         1980    4082       (1000 HEAD)\n",
       "21         1981    4194       (1000 HEAD)\n",
       "22         1982    4135       (1000 HEAD)\n",
       "23         1983    4264       (1000 HEAD)\n",
       "24         1984    4292       (1000 HEAD)\n",
       "25         1985    4501       (1000 HEAD)\n",
       "26         1986    4617       (1000 HEAD)\n",
       "27         1987    4784       (1000 HEAD)\n",
       "28         1988    4861       (1000 HEAD)\n",
       "29         1989    5009       (1000 HEAD)\n",
       "30         1990    4675       (1000 HEAD)\n",
       "31         1991    4985       (1000 HEAD)\n",
       "32         1992    5128       (1000 HEAD)\n",
       "33         1993    4986       (1000 HEAD)\n",
       "34         1994    5190       (1000 HEAD)\n",
       "35         1995    5122       (1000 HEAD)\n",
       "36         1996    4752       (1000 HEAD)\n",
       "37         1997    4849       (1000 HEAD)\n",
       "38         1998    5239       (1000 HEAD)\n",
       "39         1999    4923       (1000 HEAD)\n",
       "40         2000    5288       (1000 HEAD)\n",
       "41         2001    5117       (1000 HEAD)\n",
       "42         2002    5994       (1000 HEAD)\n",
       "43         2003    5444       (1000 HEAD)\n",
       "44         2004    5331       (1000 HEAD)\n",
       "45         2005    5364       (1000 HEAD)\n",
       "46         2006    5515       (1000 HEAD)\n",
       "47         2007    5199       (1000 HEAD)\n",
       "48         2008    4603       (1000 HEAD)\n",
       "49         2009    4390       (1000 HEAD)\n",
       "50         2010    4604       (1000 HEAD)\n",
       "51         2011    4659       (1000 HEAD)\n",
       "52         2012    4581       (1000 HEAD)\n",
       "53         2013    4737       (1000 HEAD)\n",
       "54         2014    5022       (1000 HEAD)\n",
       "55         2015    4921       (1000 HEAD)\n",
       "56         2016    5028       (1000 HEAD)"
      ]
     },
     "execution_count": 50,
     "metadata": {},
     "output_type": "execute_result"
    }
   ],
   "source": [
    "df_swine_production_aus"
   ]
  },
  {
   "cell_type": "code",
   "execution_count": 51,
   "id": "816ed086",
   "metadata": {},
   "outputs": [],
   "source": [
    "df_swine_production_aus_M = transform_indexmundi_yearly_data(df_swine_production_aus, \"swine_production\")"
   ]
  },
  {
   "cell_type": "code",
   "execution_count": 52,
   "id": "7a111001",
   "metadata": {},
   "outputs": [
    {
     "data": {
      "text/plain": [
       "swine_production    0\n",
       "dtype: int64"
      ]
     },
     "execution_count": 52,
     "metadata": {},
     "output_type": "execute_result"
    }
   ],
   "source": [
    "df_swine_production_aus_M.isnull().sum()"
   ]
  },
  {
   "cell_type": "code",
   "execution_count": 53,
   "id": "f6687af1",
   "metadata": {},
   "outputs": [
    {
     "name": "stdout",
     "output_type": "stream",
     "text": [
      "<class 'pandas.core.frame.DataFrame'>\n",
      "DatetimeIndex: 324 entries, 1990-01-31 to 2016-12-31\n",
      "Freq: M\n",
      "Data columns (total 1 columns):\n",
      " #   Column            Non-Null Count  Dtype  \n",
      "---  ------            --------------  -----  \n",
      " 0   swine_production  324 non-null    float64\n",
      "dtypes: float64(1)\n",
      "memory usage: 5.1 KB\n"
     ]
    }
   ],
   "source": [
    "df_swine_production_aus_M.info()"
   ]
  },
  {
   "cell_type": "markdown",
   "id": "11f3fba6",
   "metadata": {},
   "source": [
    "## final output"
   ]
  },
  {
   "cell_type": "code",
   "execution_count": 54,
   "id": "9e5d1668",
   "metadata": {},
   "outputs": [
    {
     "data": {
      "text/html": [
       "<div>\n",
       "<style scoped>\n",
       "    .dataframe tbody tr th:only-of-type {\n",
       "        vertical-align: middle;\n",
       "    }\n",
       "\n",
       "    .dataframe tbody tr th {\n",
       "        vertical-align: top;\n",
       "    }\n",
       "\n",
       "    .dataframe thead th {\n",
       "        text-align: right;\n",
       "    }\n",
       "</style>\n",
       "<table border=\"1\" class=\"dataframe\">\n",
       "  <thead>\n",
       "    <tr style=\"text-align: right;\">\n",
       "      <th></th>\n",
       "      <th>swine_production</th>\n",
       "    </tr>\n",
       "    <tr>\n",
       "      <th>month</th>\n",
       "      <th></th>\n",
       "    </tr>\n",
       "  </thead>\n",
       "  <tbody>\n",
       "    <tr>\n",
       "      <th>1990-01-31</th>\n",
       "      <td>389.583333</td>\n",
       "    </tr>\n",
       "    <tr>\n",
       "      <th>1990-02-28</th>\n",
       "      <td>389.583333</td>\n",
       "    </tr>\n",
       "    <tr>\n",
       "      <th>1990-03-31</th>\n",
       "      <td>389.583333</td>\n",
       "    </tr>\n",
       "    <tr>\n",
       "      <th>1990-04-30</th>\n",
       "      <td>389.583333</td>\n",
       "    </tr>\n",
       "    <tr>\n",
       "      <th>1990-05-31</th>\n",
       "      <td>389.583333</td>\n",
       "    </tr>\n",
       "    <tr>\n",
       "      <th>...</th>\n",
       "      <td>...</td>\n",
       "    </tr>\n",
       "    <tr>\n",
       "      <th>2016-08-31</th>\n",
       "      <td>419.000000</td>\n",
       "    </tr>\n",
       "    <tr>\n",
       "      <th>2016-09-30</th>\n",
       "      <td>419.000000</td>\n",
       "    </tr>\n",
       "    <tr>\n",
       "      <th>2016-10-31</th>\n",
       "      <td>419.000000</td>\n",
       "    </tr>\n",
       "    <tr>\n",
       "      <th>2016-11-30</th>\n",
       "      <td>419.000000</td>\n",
       "    </tr>\n",
       "    <tr>\n",
       "      <th>2016-12-31</th>\n",
       "      <td>419.000000</td>\n",
       "    </tr>\n",
       "  </tbody>\n",
       "</table>\n",
       "<p>324 rows × 1 columns</p>\n",
       "</div>"
      ],
      "text/plain": [
       "            swine_production\n",
       "month                       \n",
       "1990-01-31        389.583333\n",
       "1990-02-28        389.583333\n",
       "1990-03-31        389.583333\n",
       "1990-04-30        389.583333\n",
       "1990-05-31        389.583333\n",
       "...                      ...\n",
       "2016-08-31        419.000000\n",
       "2016-09-30        419.000000\n",
       "2016-10-31        419.000000\n",
       "2016-11-30        419.000000\n",
       "2016-12-31        419.000000\n",
       "\n",
       "[324 rows x 1 columns]"
      ]
     },
     "execution_count": 54,
     "metadata": {},
     "output_type": "execute_result"
    }
   ],
   "source": [
    "df_swine_production_aus_M"
   ]
  },
  {
   "cell_type": "markdown",
   "id": "4dde1120",
   "metadata": {},
   "source": [
    "# Australia Barley Production by Year\n",
    "\n",
    "https://www.indexmundi.com/agriculture/?country=au&commodity=barley&graph=production"
   ]
  },
  {
   "cell_type": "code",
   "execution_count": 55,
   "id": "0f22804f",
   "metadata": {},
   "outputs": [],
   "source": [
    "df_barley_production_aus = pd.read_csv(\"data/aus/au-barley-production.csv\")"
   ]
  },
  {
   "cell_type": "code",
   "execution_count": 56,
   "id": "a6a59e49",
   "metadata": {},
   "outputs": [
    {
     "data": {
      "text/html": [
       "<div>\n",
       "<style scoped>\n",
       "    .dataframe tbody tr th:only-of-type {\n",
       "        vertical-align: middle;\n",
       "    }\n",
       "\n",
       "    .dataframe tbody tr th {\n",
       "        vertical-align: top;\n",
       "    }\n",
       "\n",
       "    .dataframe thead th {\n",
       "        text-align: right;\n",
       "    }\n",
       "</style>\n",
       "<table border=\"1\" class=\"dataframe\">\n",
       "  <thead>\n",
       "    <tr style=\"text-align: right;\">\n",
       "      <th></th>\n",
       "      <th>Market Year</th>\n",
       "      <th>Value</th>\n",
       "      <th>Unit Description</th>\n",
       "    </tr>\n",
       "  </thead>\n",
       "  <tbody>\n",
       "    <tr>\n",
       "      <th>0</th>\n",
       "      <td>1960</td>\n",
       "      <td>1542</td>\n",
       "      <td>(1000 MT)</td>\n",
       "    </tr>\n",
       "    <tr>\n",
       "      <th>1</th>\n",
       "      <td>1961</td>\n",
       "      <td>941</td>\n",
       "      <td>(1000 MT)</td>\n",
       "    </tr>\n",
       "    <tr>\n",
       "      <th>2</th>\n",
       "      <td>1962</td>\n",
       "      <td>898</td>\n",
       "      <td>(1000 MT)</td>\n",
       "    </tr>\n",
       "    <tr>\n",
       "      <th>3</th>\n",
       "      <td>1963</td>\n",
       "      <td>984</td>\n",
       "      <td>(1000 MT)</td>\n",
       "    </tr>\n",
       "    <tr>\n",
       "      <th>4</th>\n",
       "      <td>1964</td>\n",
       "      <td>1118</td>\n",
       "      <td>(1000 MT)</td>\n",
       "    </tr>\n",
       "    <tr>\n",
       "      <th>...</th>\n",
       "      <td>...</td>\n",
       "      <td>...</td>\n",
       "      <td>...</td>\n",
       "    </tr>\n",
       "    <tr>\n",
       "      <th>57</th>\n",
       "      <td>2017</td>\n",
       "      <td>9254</td>\n",
       "      <td>(1000 MT)</td>\n",
       "    </tr>\n",
       "    <tr>\n",
       "      <th>58</th>\n",
       "      <td>2018</td>\n",
       "      <td>8819</td>\n",
       "      <td>(1000 MT)</td>\n",
       "    </tr>\n",
       "    <tr>\n",
       "      <th>59</th>\n",
       "      <td>2019</td>\n",
       "      <td>10127</td>\n",
       "      <td>(1000 MT)</td>\n",
       "    </tr>\n",
       "    <tr>\n",
       "      <th>60</th>\n",
       "      <td>2020</td>\n",
       "      <td>13100</td>\n",
       "      <td>(1000 MT)</td>\n",
       "    </tr>\n",
       "    <tr>\n",
       "      <th>61</th>\n",
       "      <td>2021</td>\n",
       "      <td>13000</td>\n",
       "      <td>(1000 MT)</td>\n",
       "    </tr>\n",
       "  </tbody>\n",
       "</table>\n",
       "<p>62 rows × 3 columns</p>\n",
       "</div>"
      ],
      "text/plain": [
       "    Market Year   Value  Unit Description\n",
       "0          1960    1542         (1000 MT)\n",
       "1          1961     941         (1000 MT)\n",
       "2          1962     898         (1000 MT)\n",
       "3          1963     984         (1000 MT)\n",
       "4          1964    1118         (1000 MT)\n",
       "..          ...     ...               ...\n",
       "57         2017    9254         (1000 MT)\n",
       "58         2018    8819         (1000 MT)\n",
       "59         2019   10127         (1000 MT)\n",
       "60         2020   13100         (1000 MT)\n",
       "61         2021   13000         (1000 MT)\n",
       "\n",
       "[62 rows x 3 columns]"
      ]
     },
     "execution_count": 56,
     "metadata": {},
     "output_type": "execute_result"
    }
   ],
   "source": [
    "df_barley_production_aus"
   ]
  },
  {
   "cell_type": "code",
   "execution_count": 57,
   "id": "a9e6bf4e",
   "metadata": {},
   "outputs": [],
   "source": [
    "df_barley_production_aus_M = transform_indexmundi_yearly_data(df_barley_production_aus, \"barley_production\")"
   ]
  },
  {
   "cell_type": "code",
   "execution_count": 58,
   "id": "0db80332",
   "metadata": {},
   "outputs": [
    {
     "data": {
      "text/plain": [
       "barley_production    0\n",
       "dtype: int64"
      ]
     },
     "execution_count": 58,
     "metadata": {},
     "output_type": "execute_result"
    }
   ],
   "source": [
    "df_barley_production_aus_M.isnull().sum()"
   ]
  },
  {
   "cell_type": "code",
   "execution_count": 59,
   "id": "363b2bd7",
   "metadata": {},
   "outputs": [
    {
     "name": "stdout",
     "output_type": "stream",
     "text": [
      "<class 'pandas.core.frame.DataFrame'>\n",
      "DatetimeIndex: 384 entries, 1990-01-31 to 2021-12-31\n",
      "Freq: M\n",
      "Data columns (total 1 columns):\n",
      " #   Column             Non-Null Count  Dtype  \n",
      "---  ------             --------------  -----  \n",
      " 0   barley_production  384 non-null    float64\n",
      "dtypes: float64(1)\n",
      "memory usage: 6.0 KB\n"
     ]
    }
   ],
   "source": [
    "df_barley_production_aus_M.info()"
   ]
  },
  {
   "cell_type": "markdown",
   "id": "9d85a0bb",
   "metadata": {},
   "source": [
    "## final output"
   ]
  },
  {
   "cell_type": "code",
   "execution_count": 60,
   "id": "c721eb08",
   "metadata": {},
   "outputs": [
    {
     "data": {
      "text/html": [
       "<div>\n",
       "<style scoped>\n",
       "    .dataframe tbody tr th:only-of-type {\n",
       "        vertical-align: middle;\n",
       "    }\n",
       "\n",
       "    .dataframe tbody tr th {\n",
       "        vertical-align: top;\n",
       "    }\n",
       "\n",
       "    .dataframe thead th {\n",
       "        text-align: right;\n",
       "    }\n",
       "</style>\n",
       "<table border=\"1\" class=\"dataframe\">\n",
       "  <thead>\n",
       "    <tr style=\"text-align: right;\">\n",
       "      <th></th>\n",
       "      <th>barley_production</th>\n",
       "    </tr>\n",
       "    <tr>\n",
       "      <th>month</th>\n",
       "      <th></th>\n",
       "    </tr>\n",
       "  </thead>\n",
       "  <tbody>\n",
       "    <tr>\n",
       "      <th>1990-01-31</th>\n",
       "      <td>348.666667</td>\n",
       "    </tr>\n",
       "    <tr>\n",
       "      <th>1990-02-28</th>\n",
       "      <td>348.666667</td>\n",
       "    </tr>\n",
       "    <tr>\n",
       "      <th>1990-03-31</th>\n",
       "      <td>348.666667</td>\n",
       "    </tr>\n",
       "    <tr>\n",
       "      <th>1990-04-30</th>\n",
       "      <td>348.666667</td>\n",
       "    </tr>\n",
       "    <tr>\n",
       "      <th>1990-05-31</th>\n",
       "      <td>348.666667</td>\n",
       "    </tr>\n",
       "    <tr>\n",
       "      <th>...</th>\n",
       "      <td>...</td>\n",
       "    </tr>\n",
       "    <tr>\n",
       "      <th>2021-08-31</th>\n",
       "      <td>1083.333333</td>\n",
       "    </tr>\n",
       "    <tr>\n",
       "      <th>2021-09-30</th>\n",
       "      <td>1083.333333</td>\n",
       "    </tr>\n",
       "    <tr>\n",
       "      <th>2021-10-31</th>\n",
       "      <td>1083.333333</td>\n",
       "    </tr>\n",
       "    <tr>\n",
       "      <th>2021-11-30</th>\n",
       "      <td>1083.333333</td>\n",
       "    </tr>\n",
       "    <tr>\n",
       "      <th>2021-12-31</th>\n",
       "      <td>1083.333333</td>\n",
       "    </tr>\n",
       "  </tbody>\n",
       "</table>\n",
       "<p>384 rows × 1 columns</p>\n",
       "</div>"
      ],
      "text/plain": [
       "            barley_production\n",
       "month                        \n",
       "1990-01-31         348.666667\n",
       "1990-02-28         348.666667\n",
       "1990-03-31         348.666667\n",
       "1990-04-30         348.666667\n",
       "1990-05-31         348.666667\n",
       "...                       ...\n",
       "2021-08-31        1083.333333\n",
       "2021-09-30        1083.333333\n",
       "2021-10-31        1083.333333\n",
       "2021-11-30        1083.333333\n",
       "2021-12-31        1083.333333\n",
       "\n",
       "[384 rows x 1 columns]"
      ]
     },
     "execution_count": 60,
     "metadata": {},
     "output_type": "execute_result"
    }
   ],
   "source": [
    "df_barley_production_aus_M"
   ]
  },
  {
   "cell_type": "markdown",
   "id": "1e8c5e99",
   "metadata": {},
   "source": [
    "# Australia Beef and Veal Meat Production by Year\n",
    "\n",
    "https://www.indexmundi.com/agriculture/?country=au&commodity=beef-and-veal-meat&graph=production"
   ]
  },
  {
   "cell_type": "code",
   "execution_count": 61,
   "id": "775d9c1b",
   "metadata": {},
   "outputs": [],
   "source": [
    "df_beef_and_veal_production_aus = pd.read_csv(\"data/aus/au-beef-and-veal-meat-production.csv\")"
   ]
  },
  {
   "cell_type": "code",
   "execution_count": 62,
   "id": "89baaf37",
   "metadata": {},
   "outputs": [
    {
     "data": {
      "text/html": [
       "<div>\n",
       "<style scoped>\n",
       "    .dataframe tbody tr th:only-of-type {\n",
       "        vertical-align: middle;\n",
       "    }\n",
       "\n",
       "    .dataframe tbody tr th {\n",
       "        vertical-align: top;\n",
       "    }\n",
       "\n",
       "    .dataframe thead th {\n",
       "        text-align: right;\n",
       "    }\n",
       "</style>\n",
       "<table border=\"1\" class=\"dataframe\">\n",
       "  <thead>\n",
       "    <tr style=\"text-align: right;\">\n",
       "      <th></th>\n",
       "      <th>Market Year</th>\n",
       "      <th>Value</th>\n",
       "      <th>Unit Description</th>\n",
       "    </tr>\n",
       "  </thead>\n",
       "  <tbody>\n",
       "    <tr>\n",
       "      <th>0</th>\n",
       "      <td>1960</td>\n",
       "      <td>685</td>\n",
       "      <td>(1000 MT CWE)</td>\n",
       "    </tr>\n",
       "    <tr>\n",
       "      <th>1</th>\n",
       "      <td>1961</td>\n",
       "      <td>730</td>\n",
       "      <td>(1000 MT CWE)</td>\n",
       "    </tr>\n",
       "    <tr>\n",
       "      <th>2</th>\n",
       "      <td>1962</td>\n",
       "      <td>879</td>\n",
       "      <td>(1000 MT CWE)</td>\n",
       "    </tr>\n",
       "    <tr>\n",
       "      <th>3</th>\n",
       "      <td>1963</td>\n",
       "      <td>957</td>\n",
       "      <td>(1000 MT CWE)</td>\n",
       "    </tr>\n",
       "    <tr>\n",
       "      <th>4</th>\n",
       "      <td>1964</td>\n",
       "      <td>998</td>\n",
       "      <td>(1000 MT CWE)</td>\n",
       "    </tr>\n",
       "    <tr>\n",
       "      <th>...</th>\n",
       "      <td>...</td>\n",
       "      <td>...</td>\n",
       "      <td>...</td>\n",
       "    </tr>\n",
       "    <tr>\n",
       "      <th>58</th>\n",
       "      <td>2018</td>\n",
       "      <td>2309</td>\n",
       "      <td>(1000 MT CWE)</td>\n",
       "    </tr>\n",
       "    <tr>\n",
       "      <th>59</th>\n",
       "      <td>2019</td>\n",
       "      <td>2432</td>\n",
       "      <td>(1000 MT CWE)</td>\n",
       "    </tr>\n",
       "    <tr>\n",
       "      <th>60</th>\n",
       "      <td>2020</td>\n",
       "      <td>2125</td>\n",
       "      <td>(1000 MT CWE)</td>\n",
       "    </tr>\n",
       "    <tr>\n",
       "      <th>61</th>\n",
       "      <td>2021</td>\n",
       "      <td>1900</td>\n",
       "      <td>(1000 MT CWE)</td>\n",
       "    </tr>\n",
       "    <tr>\n",
       "      <th>62</th>\n",
       "      <td>2022</td>\n",
       "      <td>2115</td>\n",
       "      <td>(1000 MT CWE)</td>\n",
       "    </tr>\n",
       "  </tbody>\n",
       "</table>\n",
       "<p>63 rows × 3 columns</p>\n",
       "</div>"
      ],
      "text/plain": [
       "    Market Year   Value  Unit Description\n",
       "0          1960     685     (1000 MT CWE)\n",
       "1          1961     730     (1000 MT CWE)\n",
       "2          1962     879     (1000 MT CWE)\n",
       "3          1963     957     (1000 MT CWE)\n",
       "4          1964     998     (1000 MT CWE)\n",
       "..          ...     ...               ...\n",
       "58         2018    2309     (1000 MT CWE)\n",
       "59         2019    2432     (1000 MT CWE)\n",
       "60         2020    2125     (1000 MT CWE)\n",
       "61         2021    1900     (1000 MT CWE)\n",
       "62         2022    2115     (1000 MT CWE)\n",
       "\n",
       "[63 rows x 3 columns]"
      ]
     },
     "execution_count": 62,
     "metadata": {},
     "output_type": "execute_result"
    }
   ],
   "source": [
    "df_beef_and_veal_production_aus"
   ]
  },
  {
   "cell_type": "code",
   "execution_count": 63,
   "id": "ee9a36bd",
   "metadata": {},
   "outputs": [],
   "source": [
    "df_beef_and_veal_production_aus_M = transform_indexmundi_yearly_data(df_beef_and_veal_production_aus, \"beef_and_veal_production\")"
   ]
  },
  {
   "cell_type": "code",
   "execution_count": 64,
   "id": "3ba4c70a",
   "metadata": {},
   "outputs": [
    {
     "data": {
      "text/plain": [
       "beef_and_veal_production    0\n",
       "dtype: int64"
      ]
     },
     "execution_count": 64,
     "metadata": {},
     "output_type": "execute_result"
    }
   ],
   "source": [
    "df_beef_and_veal_production_aus_M.isnull().sum()"
   ]
  },
  {
   "cell_type": "code",
   "execution_count": 65,
   "id": "04a21180",
   "metadata": {},
   "outputs": [
    {
     "name": "stdout",
     "output_type": "stream",
     "text": [
      "<class 'pandas.core.frame.DataFrame'>\n",
      "DatetimeIndex: 384 entries, 1990-01-31 to 2021-12-31\n",
      "Freq: M\n",
      "Data columns (total 1 columns):\n",
      " #   Column                    Non-Null Count  Dtype  \n",
      "---  ------                    --------------  -----  \n",
      " 0   beef_and_veal_production  384 non-null    float64\n",
      "dtypes: float64(1)\n",
      "memory usage: 6.0 KB\n"
     ]
    }
   ],
   "source": [
    "df_beef_and_veal_production_aus_M.info()"
   ]
  },
  {
   "cell_type": "markdown",
   "id": "b0fba956",
   "metadata": {},
   "source": [
    "## final output"
   ]
  },
  {
   "cell_type": "code",
   "execution_count": 66,
   "id": "9fbbddd7",
   "metadata": {},
   "outputs": [
    {
     "data": {
      "text/html": [
       "<div>\n",
       "<style scoped>\n",
       "    .dataframe tbody tr th:only-of-type {\n",
       "        vertical-align: middle;\n",
       "    }\n",
       "\n",
       "    .dataframe tbody tr th {\n",
       "        vertical-align: top;\n",
       "    }\n",
       "\n",
       "    .dataframe thead th {\n",
       "        text-align: right;\n",
       "    }\n",
       "</style>\n",
       "<table border=\"1\" class=\"dataframe\">\n",
       "  <thead>\n",
       "    <tr style=\"text-align: right;\">\n",
       "      <th></th>\n",
       "      <th>beef_and_veal_production</th>\n",
       "    </tr>\n",
       "    <tr>\n",
       "      <th>month</th>\n",
       "      <th></th>\n",
       "    </tr>\n",
       "  </thead>\n",
       "  <tbody>\n",
       "    <tr>\n",
       "      <th>1990-01-31</th>\n",
       "      <td>143.166667</td>\n",
       "    </tr>\n",
       "    <tr>\n",
       "      <th>1990-02-28</th>\n",
       "      <td>143.166667</td>\n",
       "    </tr>\n",
       "    <tr>\n",
       "      <th>1990-03-31</th>\n",
       "      <td>143.166667</td>\n",
       "    </tr>\n",
       "    <tr>\n",
       "      <th>1990-04-30</th>\n",
       "      <td>143.166667</td>\n",
       "    </tr>\n",
       "    <tr>\n",
       "      <th>1990-05-31</th>\n",
       "      <td>143.166667</td>\n",
       "    </tr>\n",
       "    <tr>\n",
       "      <th>...</th>\n",
       "      <td>...</td>\n",
       "    </tr>\n",
       "    <tr>\n",
       "      <th>2021-08-31</th>\n",
       "      <td>158.333333</td>\n",
       "    </tr>\n",
       "    <tr>\n",
       "      <th>2021-09-30</th>\n",
       "      <td>158.333333</td>\n",
       "    </tr>\n",
       "    <tr>\n",
       "      <th>2021-10-31</th>\n",
       "      <td>158.333333</td>\n",
       "    </tr>\n",
       "    <tr>\n",
       "      <th>2021-11-30</th>\n",
       "      <td>158.333333</td>\n",
       "    </tr>\n",
       "    <tr>\n",
       "      <th>2021-12-31</th>\n",
       "      <td>158.333333</td>\n",
       "    </tr>\n",
       "  </tbody>\n",
       "</table>\n",
       "<p>384 rows × 1 columns</p>\n",
       "</div>"
      ],
      "text/plain": [
       "            beef_and_veal_production\n",
       "month                               \n",
       "1990-01-31                143.166667\n",
       "1990-02-28                143.166667\n",
       "1990-03-31                143.166667\n",
       "1990-04-30                143.166667\n",
       "1990-05-31                143.166667\n",
       "...                              ...\n",
       "2021-08-31                158.333333\n",
       "2021-09-30                158.333333\n",
       "2021-10-31                158.333333\n",
       "2021-11-30                158.333333\n",
       "2021-12-31                158.333333\n",
       "\n",
       "[384 rows x 1 columns]"
      ]
     },
     "execution_count": 66,
     "metadata": {},
     "output_type": "execute_result"
    }
   ],
   "source": [
    "df_beef_and_veal_production_aus_M"
   ]
  },
  {
   "cell_type": "markdown",
   "id": "63f188bb",
   "metadata": {},
   "source": [
    "# Australia Broiler Meat (Poultry) Production by Year\n",
    "\n",
    "https://www.indexmundi.com/agriculture/?country=au&commodity=broiler-meat&graph=production"
   ]
  },
  {
   "cell_type": "code",
   "execution_count": 83,
   "id": "f415678d",
   "metadata": {},
   "outputs": [],
   "source": [
    "df_poultry_production_aus = pd.read_csv(\"data/aus/au-broiler-meat-production.csv\")"
   ]
  },
  {
   "cell_type": "code",
   "execution_count": 84,
   "id": "fd839477",
   "metadata": {},
   "outputs": [
    {
     "data": {
      "text/html": [
       "<div>\n",
       "<style scoped>\n",
       "    .dataframe tbody tr th:only-of-type {\n",
       "        vertical-align: middle;\n",
       "    }\n",
       "\n",
       "    .dataframe tbody tr th {\n",
       "        vertical-align: top;\n",
       "    }\n",
       "\n",
       "    .dataframe thead th {\n",
       "        text-align: right;\n",
       "    }\n",
       "</style>\n",
       "<table border=\"1\" class=\"dataframe\">\n",
       "  <thead>\n",
       "    <tr style=\"text-align: right;\">\n",
       "      <th></th>\n",
       "      <th>Market Year</th>\n",
       "      <th>Value</th>\n",
       "      <th>Unit Description</th>\n",
       "    </tr>\n",
       "  </thead>\n",
       "  <tbody>\n",
       "    <tr>\n",
       "      <th>0</th>\n",
       "      <td>1965</td>\n",
       "      <td>45</td>\n",
       "      <td>(1000 MT)</td>\n",
       "    </tr>\n",
       "    <tr>\n",
       "      <th>1</th>\n",
       "      <td>1966</td>\n",
       "      <td>56</td>\n",
       "      <td>(1000 MT)</td>\n",
       "    </tr>\n",
       "    <tr>\n",
       "      <th>2</th>\n",
       "      <td>1967</td>\n",
       "      <td>76</td>\n",
       "      <td>(1000 MT)</td>\n",
       "    </tr>\n",
       "    <tr>\n",
       "      <th>3</th>\n",
       "      <td>1968</td>\n",
       "      <td>89</td>\n",
       "      <td>(1000 MT)</td>\n",
       "    </tr>\n",
       "    <tr>\n",
       "      <th>4</th>\n",
       "      <td>1969</td>\n",
       "      <td>94</td>\n",
       "      <td>(1000 MT)</td>\n",
       "    </tr>\n",
       "    <tr>\n",
       "      <th>5</th>\n",
       "      <td>1970</td>\n",
       "      <td>105</td>\n",
       "      <td>(1000 MT)</td>\n",
       "    </tr>\n",
       "    <tr>\n",
       "      <th>6</th>\n",
       "      <td>1971</td>\n",
       "      <td>131</td>\n",
       "      <td>(1000 MT)</td>\n",
       "    </tr>\n",
       "    <tr>\n",
       "      <th>7</th>\n",
       "      <td>1972</td>\n",
       "      <td>142</td>\n",
       "      <td>(1000 MT)</td>\n",
       "    </tr>\n",
       "    <tr>\n",
       "      <th>8</th>\n",
       "      <td>1973</td>\n",
       "      <td>138</td>\n",
       "      <td>(1000 MT)</td>\n",
       "    </tr>\n",
       "    <tr>\n",
       "      <th>9</th>\n",
       "      <td>1974</td>\n",
       "      <td>171</td>\n",
       "      <td>(1000 MT)</td>\n",
       "    </tr>\n",
       "    <tr>\n",
       "      <th>10</th>\n",
       "      <td>1975</td>\n",
       "      <td>166</td>\n",
       "      <td>(1000 MT)</td>\n",
       "    </tr>\n",
       "    <tr>\n",
       "      <th>11</th>\n",
       "      <td>1976</td>\n",
       "      <td>184</td>\n",
       "      <td>(1000 MT)</td>\n",
       "    </tr>\n",
       "    <tr>\n",
       "      <th>12</th>\n",
       "      <td>1977</td>\n",
       "      <td>196</td>\n",
       "      <td>(1000 MT)</td>\n",
       "    </tr>\n",
       "    <tr>\n",
       "      <th>13</th>\n",
       "      <td>1978</td>\n",
       "      <td>220</td>\n",
       "      <td>(1000 MT)</td>\n",
       "    </tr>\n",
       "    <tr>\n",
       "      <th>14</th>\n",
       "      <td>1979</td>\n",
       "      <td>244</td>\n",
       "      <td>(1000 MT)</td>\n",
       "    </tr>\n",
       "    <tr>\n",
       "      <th>15</th>\n",
       "      <td>1980</td>\n",
       "      <td>282</td>\n",
       "      <td>(1000 MT)</td>\n",
       "    </tr>\n",
       "    <tr>\n",
       "      <th>16</th>\n",
       "      <td>1981</td>\n",
       "      <td>276</td>\n",
       "      <td>(1000 MT)</td>\n",
       "    </tr>\n",
       "    <tr>\n",
       "      <th>17</th>\n",
       "      <td>1982</td>\n",
       "      <td>259</td>\n",
       "      <td>(1000 MT)</td>\n",
       "    </tr>\n",
       "    <tr>\n",
       "      <th>18</th>\n",
       "      <td>1983</td>\n",
       "      <td>283</td>\n",
       "      <td>(1000 MT)</td>\n",
       "    </tr>\n",
       "    <tr>\n",
       "      <th>19</th>\n",
       "      <td>1984</td>\n",
       "      <td>272</td>\n",
       "      <td>(1000 MT)</td>\n",
       "    </tr>\n",
       "    <tr>\n",
       "      <th>20</th>\n",
       "      <td>1985</td>\n",
       "      <td>315</td>\n",
       "      <td>(1000 MT)</td>\n",
       "    </tr>\n",
       "    <tr>\n",
       "      <th>21</th>\n",
       "      <td>1986</td>\n",
       "      <td>334</td>\n",
       "      <td>(1000 MT)</td>\n",
       "    </tr>\n",
       "    <tr>\n",
       "      <th>22</th>\n",
       "      <td>1987</td>\n",
       "      <td>349</td>\n",
       "      <td>(1000 MT)</td>\n",
       "    </tr>\n",
       "    <tr>\n",
       "      <th>23</th>\n",
       "      <td>1988</td>\n",
       "      <td>360</td>\n",
       "      <td>(1000 MT)</td>\n",
       "    </tr>\n",
       "    <tr>\n",
       "      <th>24</th>\n",
       "      <td>1989</td>\n",
       "      <td>365</td>\n",
       "      <td>(1000 MT)</td>\n",
       "    </tr>\n",
       "    <tr>\n",
       "      <th>25</th>\n",
       "      <td>1990</td>\n",
       "      <td>377</td>\n",
       "      <td>(1000 MT)</td>\n",
       "    </tr>\n",
       "    <tr>\n",
       "      <th>26</th>\n",
       "      <td>1991</td>\n",
       "      <td>383</td>\n",
       "      <td>(1000 MT)</td>\n",
       "    </tr>\n",
       "    <tr>\n",
       "      <th>27</th>\n",
       "      <td>1992</td>\n",
       "      <td>410</td>\n",
       "      <td>(1000 MT)</td>\n",
       "    </tr>\n",
       "    <tr>\n",
       "      <th>28</th>\n",
       "      <td>1993</td>\n",
       "      <td>420</td>\n",
       "      <td>(1000 MT)</td>\n",
       "    </tr>\n",
       "    <tr>\n",
       "      <th>29</th>\n",
       "      <td>1994</td>\n",
       "      <td>448</td>\n",
       "      <td>(1000 MT)</td>\n",
       "    </tr>\n",
       "    <tr>\n",
       "      <th>30</th>\n",
       "      <td>1995</td>\n",
       "      <td>450</td>\n",
       "      <td>(1000 MT)</td>\n",
       "    </tr>\n",
       "    <tr>\n",
       "      <th>31</th>\n",
       "      <td>1996</td>\n",
       "      <td>453</td>\n",
       "      <td>(1000 MT)</td>\n",
       "    </tr>\n",
       "    <tr>\n",
       "      <th>32</th>\n",
       "      <td>1997</td>\n",
       "      <td>480</td>\n",
       "      <td>(1000 MT)</td>\n",
       "    </tr>\n",
       "    <tr>\n",
       "      <th>33</th>\n",
       "      <td>1998</td>\n",
       "      <td>527</td>\n",
       "      <td>(1000 MT)</td>\n",
       "    </tr>\n",
       "    <tr>\n",
       "      <th>34</th>\n",
       "      <td>1999</td>\n",
       "      <td>550</td>\n",
       "      <td>(1000 MT)</td>\n",
       "    </tr>\n",
       "    <tr>\n",
       "      <th>35</th>\n",
       "      <td>2000</td>\n",
       "      <td>586</td>\n",
       "      <td>(1000 MT)</td>\n",
       "    </tr>\n",
       "    <tr>\n",
       "      <th>36</th>\n",
       "      <td>2001</td>\n",
       "      <td>596</td>\n",
       "      <td>(1000 MT)</td>\n",
       "    </tr>\n",
       "    <tr>\n",
       "      <th>37</th>\n",
       "      <td>2002</td>\n",
       "      <td>665</td>\n",
       "      <td>(1000 MT)</td>\n",
       "    </tr>\n",
       "    <tr>\n",
       "      <th>38</th>\n",
       "      <td>2003</td>\n",
       "      <td>647</td>\n",
       "      <td>(1000 MT)</td>\n",
       "    </tr>\n",
       "    <tr>\n",
       "      <th>39</th>\n",
       "      <td>2004</td>\n",
       "      <td>686</td>\n",
       "      <td>(1000 MT)</td>\n",
       "    </tr>\n",
       "    <tr>\n",
       "      <th>40</th>\n",
       "      <td>2005</td>\n",
       "      <td>717</td>\n",
       "      <td>(1000 MT)</td>\n",
       "    </tr>\n",
       "    <tr>\n",
       "      <th>41</th>\n",
       "      <td>2006</td>\n",
       "      <td>758</td>\n",
       "      <td>(1000 MT)</td>\n",
       "    </tr>\n",
       "    <tr>\n",
       "      <th>42</th>\n",
       "      <td>2007</td>\n",
       "      <td>772</td>\n",
       "      <td>(1000 MT)</td>\n",
       "    </tr>\n",
       "    <tr>\n",
       "      <th>43</th>\n",
       "      <td>2008</td>\n",
       "      <td>765</td>\n",
       "      <td>(1000 MT)</td>\n",
       "    </tr>\n",
       "    <tr>\n",
       "      <th>44</th>\n",
       "      <td>2009</td>\n",
       "      <td>787</td>\n",
       "      <td>(1000 MT)</td>\n",
       "    </tr>\n",
       "    <tr>\n",
       "      <th>45</th>\n",
       "      <td>2010</td>\n",
       "      <td>888</td>\n",
       "      <td>(1000 MT)</td>\n",
       "    </tr>\n",
       "    <tr>\n",
       "      <th>46</th>\n",
       "      <td>2011</td>\n",
       "      <td>962</td>\n",
       "      <td>(1000 MT)</td>\n",
       "    </tr>\n",
       "    <tr>\n",
       "      <th>47</th>\n",
       "      <td>2012</td>\n",
       "      <td>994</td>\n",
       "      <td>(1000 MT)</td>\n",
       "    </tr>\n",
       "    <tr>\n",
       "      <th>48</th>\n",
       "      <td>2013</td>\n",
       "      <td>1013</td>\n",
       "      <td>(1000 MT)</td>\n",
       "    </tr>\n",
       "    <tr>\n",
       "      <th>49</th>\n",
       "      <td>2014</td>\n",
       "      <td>1048</td>\n",
       "      <td>(1000 MT)</td>\n",
       "    </tr>\n",
       "    <tr>\n",
       "      <th>50</th>\n",
       "      <td>2015</td>\n",
       "      <td>1080</td>\n",
       "      <td>(1000 MT)</td>\n",
       "    </tr>\n",
       "    <tr>\n",
       "      <th>51</th>\n",
       "      <td>2016</td>\n",
       "      <td>1164</td>\n",
       "      <td>(1000 MT)</td>\n",
       "    </tr>\n",
       "  </tbody>\n",
       "</table>\n",
       "</div>"
      ],
      "text/plain": [
       "    Market Year   Value  Unit Description\n",
       "0          1965      45         (1000 MT)\n",
       "1          1966      56         (1000 MT)\n",
       "2          1967      76         (1000 MT)\n",
       "3          1968      89         (1000 MT)\n",
       "4          1969      94         (1000 MT)\n",
       "5          1970     105         (1000 MT)\n",
       "6          1971     131         (1000 MT)\n",
       "7          1972     142         (1000 MT)\n",
       "8          1973     138         (1000 MT)\n",
       "9          1974     171         (1000 MT)\n",
       "10         1975     166         (1000 MT)\n",
       "11         1976     184         (1000 MT)\n",
       "12         1977     196         (1000 MT)\n",
       "13         1978     220         (1000 MT)\n",
       "14         1979     244         (1000 MT)\n",
       "15         1980     282         (1000 MT)\n",
       "16         1981     276         (1000 MT)\n",
       "17         1982     259         (1000 MT)\n",
       "18         1983     283         (1000 MT)\n",
       "19         1984     272         (1000 MT)\n",
       "20         1985     315         (1000 MT)\n",
       "21         1986     334         (1000 MT)\n",
       "22         1987     349         (1000 MT)\n",
       "23         1988     360         (1000 MT)\n",
       "24         1989     365         (1000 MT)\n",
       "25         1990     377         (1000 MT)\n",
       "26         1991     383         (1000 MT)\n",
       "27         1992     410         (1000 MT)\n",
       "28         1993     420         (1000 MT)\n",
       "29         1994     448         (1000 MT)\n",
       "30         1995     450         (1000 MT)\n",
       "31         1996     453         (1000 MT)\n",
       "32         1997     480         (1000 MT)\n",
       "33         1998     527         (1000 MT)\n",
       "34         1999     550         (1000 MT)\n",
       "35         2000     586         (1000 MT)\n",
       "36         2001     596         (1000 MT)\n",
       "37         2002     665         (1000 MT)\n",
       "38         2003     647         (1000 MT)\n",
       "39         2004     686         (1000 MT)\n",
       "40         2005     717         (1000 MT)\n",
       "41         2006     758         (1000 MT)\n",
       "42         2007     772         (1000 MT)\n",
       "43         2008     765         (1000 MT)\n",
       "44         2009     787         (1000 MT)\n",
       "45         2010     888         (1000 MT)\n",
       "46         2011     962         (1000 MT)\n",
       "47         2012     994         (1000 MT)\n",
       "48         2013    1013         (1000 MT)\n",
       "49         2014    1048         (1000 MT)\n",
       "50         2015    1080         (1000 MT)\n",
       "51         2016    1164         (1000 MT)"
      ]
     },
     "execution_count": 84,
     "metadata": {},
     "output_type": "execute_result"
    }
   ],
   "source": [
    "df_poultry_production_aus"
   ]
  },
  {
   "cell_type": "code",
   "execution_count": 85,
   "id": "2fa09411",
   "metadata": {},
   "outputs": [],
   "source": [
    "df_poultry_production_aus_M = transform_indexmundi_yearly_data(df_poultry_production_aus, \"poultry_production\")"
   ]
  },
  {
   "cell_type": "code",
   "execution_count": 86,
   "id": "29f96a16",
   "metadata": {},
   "outputs": [
    {
     "data": {
      "text/plain": [
       "poultry_production    0\n",
       "dtype: int64"
      ]
     },
     "execution_count": 86,
     "metadata": {},
     "output_type": "execute_result"
    }
   ],
   "source": [
    "df_poultry_production_aus_M.isnull().sum()"
   ]
  },
  {
   "cell_type": "code",
   "execution_count": 87,
   "id": "07015ec0",
   "metadata": {},
   "outputs": [
    {
     "name": "stdout",
     "output_type": "stream",
     "text": [
      "<class 'pandas.core.frame.DataFrame'>\n",
      "DatetimeIndex: 324 entries, 1990-01-31 to 2016-12-31\n",
      "Freq: M\n",
      "Data columns (total 1 columns):\n",
      " #   Column              Non-Null Count  Dtype  \n",
      "---  ------              --------------  -----  \n",
      " 0   poultry_production  324 non-null    float64\n",
      "dtypes: float64(1)\n",
      "memory usage: 5.1 KB\n"
     ]
    }
   ],
   "source": [
    "df_poultry_production_aus_M.info()"
   ]
  },
  {
   "cell_type": "code",
   "execution_count": 88,
   "id": "d834c087",
   "metadata": {},
   "outputs": [
    {
     "data": {
      "text/html": [
       "<div>\n",
       "<style scoped>\n",
       "    .dataframe tbody tr th:only-of-type {\n",
       "        vertical-align: middle;\n",
       "    }\n",
       "\n",
       "    .dataframe tbody tr th {\n",
       "        vertical-align: top;\n",
       "    }\n",
       "\n",
       "    .dataframe thead th {\n",
       "        text-align: right;\n",
       "    }\n",
       "</style>\n",
       "<table border=\"1\" class=\"dataframe\">\n",
       "  <thead>\n",
       "    <tr style=\"text-align: right;\">\n",
       "      <th></th>\n",
       "      <th>poultry_production</th>\n",
       "    </tr>\n",
       "    <tr>\n",
       "      <th>month</th>\n",
       "      <th></th>\n",
       "    </tr>\n",
       "  </thead>\n",
       "  <tbody>\n",
       "    <tr>\n",
       "      <th>1990-01-31</th>\n",
       "      <td>31.416667</td>\n",
       "    </tr>\n",
       "    <tr>\n",
       "      <th>1990-02-28</th>\n",
       "      <td>31.416667</td>\n",
       "    </tr>\n",
       "    <tr>\n",
       "      <th>1990-03-31</th>\n",
       "      <td>31.416667</td>\n",
       "    </tr>\n",
       "    <tr>\n",
       "      <th>1990-04-30</th>\n",
       "      <td>31.416667</td>\n",
       "    </tr>\n",
       "    <tr>\n",
       "      <th>1990-05-31</th>\n",
       "      <td>31.416667</td>\n",
       "    </tr>\n",
       "    <tr>\n",
       "      <th>...</th>\n",
       "      <td>...</td>\n",
       "    </tr>\n",
       "    <tr>\n",
       "      <th>2016-08-31</th>\n",
       "      <td>97.000000</td>\n",
       "    </tr>\n",
       "    <tr>\n",
       "      <th>2016-09-30</th>\n",
       "      <td>97.000000</td>\n",
       "    </tr>\n",
       "    <tr>\n",
       "      <th>2016-10-31</th>\n",
       "      <td>97.000000</td>\n",
       "    </tr>\n",
       "    <tr>\n",
       "      <th>2016-11-30</th>\n",
       "      <td>97.000000</td>\n",
       "    </tr>\n",
       "    <tr>\n",
       "      <th>2016-12-31</th>\n",
       "      <td>97.000000</td>\n",
       "    </tr>\n",
       "  </tbody>\n",
       "</table>\n",
       "<p>324 rows × 1 columns</p>\n",
       "</div>"
      ],
      "text/plain": [
       "            poultry_production\n",
       "month                         \n",
       "1990-01-31           31.416667\n",
       "1990-02-28           31.416667\n",
       "1990-03-31           31.416667\n",
       "1990-04-30           31.416667\n",
       "1990-05-31           31.416667\n",
       "...                        ...\n",
       "2016-08-31           97.000000\n",
       "2016-09-30           97.000000\n",
       "2016-10-31           97.000000\n",
       "2016-11-30           97.000000\n",
       "2016-12-31           97.000000\n",
       "\n",
       "[324 rows x 1 columns]"
      ]
     },
     "execution_count": 88,
     "metadata": {},
     "output_type": "execute_result"
    }
   ],
   "source": [
    "df_poultry_production_aus_M"
   ]
  },
  {
   "cell_type": "code",
   "execution_count": 102,
   "id": "dfcb225a",
   "metadata": {},
   "outputs": [
    {
     "name": "stdout",
     "output_type": "stream",
     "text": [
      "<class 'pandas.core.frame.DataFrame'>\n",
      "DatetimeIndex: 48 entries, 2017-01-31 to 2020-12-31\n",
      "Freq: M\n",
      "Data columns (total 1 columns):\n",
      " #   Column              Non-Null Count  Dtype  \n",
      "---  ------              --------------  -----  \n",
      " 0   poultry_production  0 non-null      float64\n",
      "dtypes: float64(1)\n",
      "memory usage: 768.0 bytes\n"
     ]
    }
   ],
   "source": [
    "# https://stackoverflow.com/questions/34915828/pandas-date-range-to-generate-monthly-data-at-beginning-of-the-month\n",
    "# https://pandas.pydata.org/docs/reference/api/pandas.Index.to_frame.html\n",
    "df_poultry_missing_months = pd.date_range(start='31-JAN-2017', end='31-DEC-2020', freq='M').to_frame(index=True, name='month').drop([\"month\"],axis=1)\n",
    "df_poultry_missing_months[\"poultry_production\"] = np.nan\n",
    "df_poultry_missing_months.index.rename('month', inplace=True)\n",
    "df_poultry_missing_months.info()"
   ]
  },
  {
   "cell_type": "code",
   "execution_count": 103,
   "id": "7712919c",
   "metadata": {},
   "outputs": [],
   "source": [
    "df_poultry_production_aus_M = df_poultry_production_aus_M.append(df_poultry_missing_months)"
   ]
  },
  {
   "cell_type": "code",
   "execution_count": 104,
   "id": "279f4245",
   "metadata": {},
   "outputs": [
    {
     "name": "stdout",
     "output_type": "stream",
     "text": [
      "<class 'pandas.core.frame.DataFrame'>\n",
      "DatetimeIndex: 420 entries, 1990-01-31 to 2020-12-31\n",
      "Data columns (total 1 columns):\n",
      " #   Column              Non-Null Count  Dtype  \n",
      "---  ------              --------------  -----  \n",
      " 0   poultry_production  324 non-null    float64\n",
      "dtypes: float64(1)\n",
      "memory usage: 6.6 KB\n"
     ]
    }
   ],
   "source": [
    "df_poultry_production_aus_M.info()"
   ]
  },
  {
   "cell_type": "code",
   "execution_count": 106,
   "id": "078a4291",
   "metadata": {},
   "outputs": [],
   "source": [
    "df_poultry_production_aus_M[\"poultry_production\"] = df_poultry_production_aus_M[\"poultry_production\"].interpolate(method='linear')"
   ]
  },
  {
   "cell_type": "code",
   "execution_count": 111,
   "id": "abe9c07f",
   "metadata": {},
   "outputs": [
    {
     "data": {
      "text/html": [
       "<div>\n",
       "<style scoped>\n",
       "    .dataframe tbody tr th:only-of-type {\n",
       "        vertical-align: middle;\n",
       "    }\n",
       "\n",
       "    .dataframe tbody tr th {\n",
       "        vertical-align: top;\n",
       "    }\n",
       "\n",
       "    .dataframe thead th {\n",
       "        text-align: right;\n",
       "    }\n",
       "</style>\n",
       "<table border=\"1\" class=\"dataframe\">\n",
       "  <thead>\n",
       "    <tr style=\"text-align: right;\">\n",
       "      <th></th>\n",
       "      <th>poultry_production</th>\n",
       "    </tr>\n",
       "  </thead>\n",
       "  <tbody>\n",
       "    <tr>\n",
       "      <th>2020-01-31</th>\n",
       "      <td>97.0</td>\n",
       "    </tr>\n",
       "    <tr>\n",
       "      <th>2020-02-29</th>\n",
       "      <td>97.0</td>\n",
       "    </tr>\n",
       "    <tr>\n",
       "      <th>2020-03-31</th>\n",
       "      <td>97.0</td>\n",
       "    </tr>\n",
       "    <tr>\n",
       "      <th>2020-04-30</th>\n",
       "      <td>97.0</td>\n",
       "    </tr>\n",
       "    <tr>\n",
       "      <th>2020-05-31</th>\n",
       "      <td>97.0</td>\n",
       "    </tr>\n",
       "    <tr>\n",
       "      <th>2020-06-30</th>\n",
       "      <td>97.0</td>\n",
       "    </tr>\n",
       "    <tr>\n",
       "      <th>2020-07-31</th>\n",
       "      <td>97.0</td>\n",
       "    </tr>\n",
       "    <tr>\n",
       "      <th>2020-08-31</th>\n",
       "      <td>97.0</td>\n",
       "    </tr>\n",
       "    <tr>\n",
       "      <th>2020-09-30</th>\n",
       "      <td>97.0</td>\n",
       "    </tr>\n",
       "    <tr>\n",
       "      <th>2020-10-31</th>\n",
       "      <td>97.0</td>\n",
       "    </tr>\n",
       "    <tr>\n",
       "      <th>2020-11-30</th>\n",
       "      <td>97.0</td>\n",
       "    </tr>\n",
       "    <tr>\n",
       "      <th>2020-12-31</th>\n",
       "      <td>97.0</td>\n",
       "    </tr>\n",
       "    <tr>\n",
       "      <th>2020-01-31</th>\n",
       "      <td>97.0</td>\n",
       "    </tr>\n",
       "    <tr>\n",
       "      <th>2020-02-29</th>\n",
       "      <td>97.0</td>\n",
       "    </tr>\n",
       "    <tr>\n",
       "      <th>2020-03-31</th>\n",
       "      <td>97.0</td>\n",
       "    </tr>\n",
       "    <tr>\n",
       "      <th>2020-04-30</th>\n",
       "      <td>97.0</td>\n",
       "    </tr>\n",
       "    <tr>\n",
       "      <th>2020-05-31</th>\n",
       "      <td>97.0</td>\n",
       "    </tr>\n",
       "    <tr>\n",
       "      <th>2020-06-30</th>\n",
       "      <td>97.0</td>\n",
       "    </tr>\n",
       "    <tr>\n",
       "      <th>2020-07-31</th>\n",
       "      <td>97.0</td>\n",
       "    </tr>\n",
       "    <tr>\n",
       "      <th>2020-08-31</th>\n",
       "      <td>97.0</td>\n",
       "    </tr>\n",
       "    <tr>\n",
       "      <th>2020-09-30</th>\n",
       "      <td>97.0</td>\n",
       "    </tr>\n",
       "    <tr>\n",
       "      <th>2020-10-31</th>\n",
       "      <td>97.0</td>\n",
       "    </tr>\n",
       "    <tr>\n",
       "      <th>2020-11-30</th>\n",
       "      <td>97.0</td>\n",
       "    </tr>\n",
       "    <tr>\n",
       "      <th>2020-12-31</th>\n",
       "      <td>97.0</td>\n",
       "    </tr>\n",
       "  </tbody>\n",
       "</table>\n",
       "</div>"
      ],
      "text/plain": [
       "            poultry_production\n",
       "2020-01-31                97.0\n",
       "2020-02-29                97.0\n",
       "2020-03-31                97.0\n",
       "2020-04-30                97.0\n",
       "2020-05-31                97.0\n",
       "2020-06-30                97.0\n",
       "2020-07-31                97.0\n",
       "2020-08-31                97.0\n",
       "2020-09-30                97.0\n",
       "2020-10-31                97.0\n",
       "2020-11-30                97.0\n",
       "2020-12-31                97.0\n",
       "2020-01-31                97.0\n",
       "2020-02-29                97.0\n",
       "2020-03-31                97.0\n",
       "2020-04-30                97.0\n",
       "2020-05-31                97.0\n",
       "2020-06-30                97.0\n",
       "2020-07-31                97.0\n",
       "2020-08-31                97.0\n",
       "2020-09-30                97.0\n",
       "2020-10-31                97.0\n",
       "2020-11-30                97.0\n",
       "2020-12-31                97.0"
      ]
     },
     "execution_count": 111,
     "metadata": {},
     "output_type": "execute_result"
    }
   ],
   "source": [
    "df_poultry_production_aus_M[df_poultry_production_aus_M.index.year > 2019] ## ugh it'll have to do"
   ]
  },
  {
   "cell_type": "markdown",
   "id": "d2d45546",
   "metadata": {},
   "source": [
    "## final output"
   ]
  },
  {
   "cell_type": "code",
   "execution_count": 112,
   "id": "b28ce54b",
   "metadata": {},
   "outputs": [
    {
     "data": {
      "text/html": [
       "<div>\n",
       "<style scoped>\n",
       "    .dataframe tbody tr th:only-of-type {\n",
       "        vertical-align: middle;\n",
       "    }\n",
       "\n",
       "    .dataframe tbody tr th {\n",
       "        vertical-align: top;\n",
       "    }\n",
       "\n",
       "    .dataframe thead th {\n",
       "        text-align: right;\n",
       "    }\n",
       "</style>\n",
       "<table border=\"1\" class=\"dataframe\">\n",
       "  <thead>\n",
       "    <tr style=\"text-align: right;\">\n",
       "      <th></th>\n",
       "      <th>poultry_production</th>\n",
       "    </tr>\n",
       "  </thead>\n",
       "  <tbody>\n",
       "    <tr>\n",
       "      <th>1990-01-31</th>\n",
       "      <td>31.416667</td>\n",
       "    </tr>\n",
       "    <tr>\n",
       "      <th>1990-02-28</th>\n",
       "      <td>31.416667</td>\n",
       "    </tr>\n",
       "    <tr>\n",
       "      <th>1990-03-31</th>\n",
       "      <td>31.416667</td>\n",
       "    </tr>\n",
       "    <tr>\n",
       "      <th>1990-04-30</th>\n",
       "      <td>31.416667</td>\n",
       "    </tr>\n",
       "    <tr>\n",
       "      <th>1990-05-31</th>\n",
       "      <td>31.416667</td>\n",
       "    </tr>\n",
       "    <tr>\n",
       "      <th>...</th>\n",
       "      <td>...</td>\n",
       "    </tr>\n",
       "    <tr>\n",
       "      <th>2020-08-31</th>\n",
       "      <td>97.000000</td>\n",
       "    </tr>\n",
       "    <tr>\n",
       "      <th>2020-09-30</th>\n",
       "      <td>97.000000</td>\n",
       "    </tr>\n",
       "    <tr>\n",
       "      <th>2020-10-31</th>\n",
       "      <td>97.000000</td>\n",
       "    </tr>\n",
       "    <tr>\n",
       "      <th>2020-11-30</th>\n",
       "      <td>97.000000</td>\n",
       "    </tr>\n",
       "    <tr>\n",
       "      <th>2020-12-31</th>\n",
       "      <td>97.000000</td>\n",
       "    </tr>\n",
       "  </tbody>\n",
       "</table>\n",
       "<p>420 rows × 1 columns</p>\n",
       "</div>"
      ],
      "text/plain": [
       "            poultry_production\n",
       "1990-01-31           31.416667\n",
       "1990-02-28           31.416667\n",
       "1990-03-31           31.416667\n",
       "1990-04-30           31.416667\n",
       "1990-05-31           31.416667\n",
       "...                        ...\n",
       "2020-08-31           97.000000\n",
       "2020-09-30           97.000000\n",
       "2020-10-31           97.000000\n",
       "2020-11-30           97.000000\n",
       "2020-12-31           97.000000\n",
       "\n",
       "[420 rows x 1 columns]"
      ]
     },
     "execution_count": 112,
     "metadata": {},
     "output_type": "execute_result"
    }
   ],
   "source": [
    "df_poultry_production_aus_M"
   ]
  },
  {
   "cell_type": "code",
   "execution_count": null,
   "id": "b21a053e",
   "metadata": {},
   "outputs": [],
   "source": []
  }
 ],
 "metadata": {
  "kernelspec": {
   "display_name": "Python [conda env:dataprep]",
   "language": "python",
   "name": "conda-env-dataprep-py"
  },
  "language_info": {
   "codemirror_mode": {
    "name": "ipython",
    "version": 3
   },
   "file_extension": ".py",
   "mimetype": "text/x-python",
   "name": "python",
   "nbconvert_exporter": "python",
   "pygments_lexer": "ipython3",
   "version": "3.7.12"
  },
  "toc": {
   "base_numbering": 1,
   "nav_menu": {},
   "number_sections": true,
   "sideBar": true,
   "skip_h1_title": false,
   "title_cell": "Table of Contents",
   "title_sidebar": "Contents",
   "toc_cell": false,
   "toc_position": {
    "height": "calc(100% - 180px)",
    "left": "10px",
    "top": "150px",
    "width": "316px"
   },
   "toc_section_display": true,
   "toc_window_display": true
  }
 },
 "nbformat": 4,
 "nbformat_minor": 5
}
