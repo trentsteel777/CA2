{
 "cells": [
  {
   "cell_type": "code",
   "execution_count": 1,
   "id": "76de323e",
   "metadata": {},
   "outputs": [],
   "source": [
    "import pandas as pd\n",
    "import seaborn as sns\n",
    "import matplotlib.pyplot as plt\n",
    "import matplotlib.ticker as ticker\n",
    "import matplotlib.dates as mdates\n",
    "import numpy as np\n",
    "from pandas.tseries.offsets import MonthEnd, YearEnd\n",
    "\n",
    "\n",
    "# user defined - see utils.py\n",
    "from utils import snake_case_columns, beef_price_lineplot, cso_date_to_datetime\n",
    "from utils import transform_indexmundi_yearly_data, prepare_forex_data, transform_fred_stlouisfed_quarterlydata"
   ]
  },
  {
   "cell_type": "markdown",
   "id": "d1d8087d",
   "metadata": {},
   "source": [
    "# Australian Beef prices\n",
    "\n",
    "https://www.indexmundi.com/commodities/?commodity=beef&months=360&currency=aud"
   ]
  },
  {
   "cell_type": "code",
   "execution_count": 2,
   "id": "43fc7ec4",
   "metadata": {},
   "outputs": [],
   "source": [
    "df_beef_aus = pd.read_csv(\"data/aus/beef_aus_1995-2022.csv\")"
   ]
  },
  {
   "cell_type": "code",
   "execution_count": 3,
   "id": "edaa61ee",
   "metadata": {},
   "outputs": [
    {
     "data": {
      "text/html": [
       "<div>\n",
       "<style scoped>\n",
       "    .dataframe tbody tr th:only-of-type {\n",
       "        vertical-align: middle;\n",
       "    }\n",
       "\n",
       "    .dataframe tbody tr th {\n",
       "        vertical-align: top;\n",
       "    }\n",
       "\n",
       "    .dataframe thead th {\n",
       "        text-align: right;\n",
       "    }\n",
       "</style>\n",
       "<table border=\"1\" class=\"dataframe\">\n",
       "  <thead>\n",
       "    <tr style=\"text-align: right;\">\n",
       "      <th></th>\n",
       "      <th>Month</th>\n",
       "      <th>Price</th>\n",
       "      <th>Change</th>\n",
       "    </tr>\n",
       "  </thead>\n",
       "  <tbody>\n",
       "    <tr>\n",
       "      <th>0</th>\n",
       "      <td>Jan-95</td>\n",
       "      <td>2.78</td>\n",
       "      <td>-</td>\n",
       "    </tr>\n",
       "    <tr>\n",
       "      <th>1</th>\n",
       "      <td>Feb-95</td>\n",
       "      <td>2.90</td>\n",
       "      <td>4.13%</td>\n",
       "    </tr>\n",
       "    <tr>\n",
       "      <th>2</th>\n",
       "      <td>Mar-95</td>\n",
       "      <td>2.78</td>\n",
       "      <td>-4.18%</td>\n",
       "    </tr>\n",
       "    <tr>\n",
       "      <th>3</th>\n",
       "      <td>Apr-95</td>\n",
       "      <td>2.60</td>\n",
       "      <td>-6.24%</td>\n",
       "    </tr>\n",
       "    <tr>\n",
       "      <th>4</th>\n",
       "      <td>May-95</td>\n",
       "      <td>2.40</td>\n",
       "      <td>-7.65%</td>\n",
       "    </tr>\n",
       "    <tr>\n",
       "      <th>...</th>\n",
       "      <td>...</td>\n",
       "      <td>...</td>\n",
       "      <td>...</td>\n",
       "    </tr>\n",
       "    <tr>\n",
       "      <th>322</th>\n",
       "      <td>Nov-21</td>\n",
       "      <td>8.12</td>\n",
       "      <td>5.53%</td>\n",
       "    </tr>\n",
       "    <tr>\n",
       "      <th>323</th>\n",
       "      <td>Dec-21</td>\n",
       "      <td>8.35</td>\n",
       "      <td>2.80%</td>\n",
       "    </tr>\n",
       "    <tr>\n",
       "      <th>324</th>\n",
       "      <td>Jan-22</td>\n",
       "      <td>8.32</td>\n",
       "      <td>-0.38%</td>\n",
       "    </tr>\n",
       "    <tr>\n",
       "      <th>325</th>\n",
       "      <td>Feb-22</td>\n",
       "      <td>8.68</td>\n",
       "      <td>4.35%</td>\n",
       "    </tr>\n",
       "    <tr>\n",
       "      <th>326</th>\n",
       "      <td>Mar-22</td>\n",
       "      <td>8.48</td>\n",
       "      <td>-2.33%</td>\n",
       "    </tr>\n",
       "  </tbody>\n",
       "</table>\n",
       "<p>327 rows × 3 columns</p>\n",
       "</div>"
      ],
      "text/plain": [
       "      Month  Price  Change\n",
       "0    Jan-95   2.78       -\n",
       "1    Feb-95   2.90   4.13%\n",
       "2    Mar-95   2.78  -4.18%\n",
       "3    Apr-95   2.60  -6.24%\n",
       "4    May-95   2.40  -7.65%\n",
       "..      ...    ...     ...\n",
       "322  Nov-21   8.12   5.53%\n",
       "323  Dec-21   8.35   2.80%\n",
       "324  Jan-22   8.32  -0.38%\n",
       "325  Feb-22   8.68   4.35%\n",
       "326  Mar-22   8.48  -2.33%\n",
       "\n",
       "[327 rows x 3 columns]"
      ]
     },
     "execution_count": 3,
     "metadata": {},
     "output_type": "execute_result"
    }
   ],
   "source": [
    "df_beef_aus"
   ]
  },
  {
   "cell_type": "code",
   "execution_count": 4,
   "id": "2bd011b3",
   "metadata": {},
   "outputs": [
    {
     "name": "stdout",
     "output_type": "stream",
     "text": [
      "<class 'pandas.core.frame.DataFrame'>\n",
      "RangeIndex: 327 entries, 0 to 326\n",
      "Data columns (total 3 columns):\n",
      " #   Column  Non-Null Count  Dtype  \n",
      "---  ------  --------------  -----  \n",
      " 0   Month   327 non-null    object \n",
      " 1   Price   327 non-null    float64\n",
      " 2   Change  327 non-null    object \n",
      "dtypes: float64(1), object(2)\n",
      "memory usage: 7.8+ KB\n"
     ]
    }
   ],
   "source": [
    "df_beef_aus.info()"
   ]
  },
  {
   "cell_type": "code",
   "execution_count": 5,
   "id": "7170b21c",
   "metadata": {},
   "outputs": [],
   "source": [
    "snake_case_columns(df_beef_aus)"
   ]
  },
  {
   "cell_type": "code",
   "execution_count": 6,
   "id": "8f614617",
   "metadata": {},
   "outputs": [],
   "source": [
    "df_beef_aus = df_beef_aus.rename(columns = {\"price\":\"beef_per_kg\"})"
   ]
  },
  {
   "cell_type": "code",
   "execution_count": 7,
   "id": "3505b4c8",
   "metadata": {},
   "outputs": [],
   "source": [
    "df_beef_aus[\"month\"] = pd.to_datetime(df_beef_aus[\"month\"], format='%b-%y') + MonthEnd(1)"
   ]
  },
  {
   "cell_type": "code",
   "execution_count": 8,
   "id": "b2fb2dce",
   "metadata": {},
   "outputs": [
    {
     "name": "stdout",
     "output_type": "stream",
     "text": [
      "<class 'pandas.core.frame.DataFrame'>\n",
      "RangeIndex: 327 entries, 0 to 326\n",
      "Data columns (total 3 columns):\n",
      " #   Column       Non-Null Count  Dtype         \n",
      "---  ------       --------------  -----         \n",
      " 0   month        327 non-null    datetime64[ns]\n",
      " 1   beef_per_kg  327 non-null    float64       \n",
      " 2   change       327 non-null    object        \n",
      "dtypes: datetime64[ns](1), float64(1), object(1)\n",
      "memory usage: 7.8+ KB\n"
     ]
    }
   ],
   "source": [
    "df_beef_aus.info()"
   ]
  },
  {
   "cell_type": "code",
   "execution_count": 9,
   "id": "7e29b171",
   "metadata": {},
   "outputs": [],
   "source": [
    "df_beef_aus = df_beef_aus.drop([\"change\"], axis=1)"
   ]
  },
  {
   "cell_type": "code",
   "execution_count": 10,
   "id": "7ed94d2b",
   "metadata": {},
   "outputs": [],
   "source": [
    "df_beef_aus = df_beef_aus.set_index(\"month\")"
   ]
  },
  {
   "cell_type": "code",
   "execution_count": 11,
   "id": "121f64e1",
   "metadata": {},
   "outputs": [],
   "source": [
    "df_beef_aus = df_beef_aus[df_beef_aus.index.year > 1998]"
   ]
  },
  {
   "cell_type": "markdown",
   "id": "05d1b7b9",
   "metadata": {},
   "source": [
    "## final output"
   ]
  },
  {
   "cell_type": "code",
   "execution_count": 12,
   "id": "42b64064",
   "metadata": {},
   "outputs": [
    {
     "data": {
      "text/html": [
       "<div>\n",
       "<style scoped>\n",
       "    .dataframe tbody tr th:only-of-type {\n",
       "        vertical-align: middle;\n",
       "    }\n",
       "\n",
       "    .dataframe tbody tr th {\n",
       "        vertical-align: top;\n",
       "    }\n",
       "\n",
       "    .dataframe thead th {\n",
       "        text-align: right;\n",
       "    }\n",
       "</style>\n",
       "<table border=\"1\" class=\"dataframe\">\n",
       "  <thead>\n",
       "    <tr style=\"text-align: right;\">\n",
       "      <th></th>\n",
       "      <th>beef_per_kg</th>\n",
       "    </tr>\n",
       "    <tr>\n",
       "      <th>month</th>\n",
       "      <th></th>\n",
       "    </tr>\n",
       "  </thead>\n",
       "  <tbody>\n",
       "    <tr>\n",
       "      <th>1999-01-31</th>\n",
       "      <td>2.71</td>\n",
       "    </tr>\n",
       "    <tr>\n",
       "      <th>1999-02-28</th>\n",
       "      <td>2.80</td>\n",
       "    </tr>\n",
       "    <tr>\n",
       "      <th>1999-03-31</th>\n",
       "      <td>2.79</td>\n",
       "    </tr>\n",
       "    <tr>\n",
       "      <th>1999-04-30</th>\n",
       "      <td>2.68</td>\n",
       "    </tr>\n",
       "    <tr>\n",
       "      <th>1999-05-31</th>\n",
       "      <td>2.61</td>\n",
       "    </tr>\n",
       "    <tr>\n",
       "      <th>...</th>\n",
       "      <td>...</td>\n",
       "    </tr>\n",
       "    <tr>\n",
       "      <th>2021-11-30</th>\n",
       "      <td>8.12</td>\n",
       "    </tr>\n",
       "    <tr>\n",
       "      <th>2021-12-31</th>\n",
       "      <td>8.35</td>\n",
       "    </tr>\n",
       "    <tr>\n",
       "      <th>2022-01-31</th>\n",
       "      <td>8.32</td>\n",
       "    </tr>\n",
       "    <tr>\n",
       "      <th>2022-02-28</th>\n",
       "      <td>8.68</td>\n",
       "    </tr>\n",
       "    <tr>\n",
       "      <th>2022-03-31</th>\n",
       "      <td>8.48</td>\n",
       "    </tr>\n",
       "  </tbody>\n",
       "</table>\n",
       "<p>279 rows × 1 columns</p>\n",
       "</div>"
      ],
      "text/plain": [
       "            beef_per_kg\n",
       "month                  \n",
       "1999-01-31         2.71\n",
       "1999-02-28         2.80\n",
       "1999-03-31         2.79\n",
       "1999-04-30         2.68\n",
       "1999-05-31         2.61\n",
       "...                 ...\n",
       "2021-11-30         8.12\n",
       "2021-12-31         8.35\n",
       "2022-01-31         8.32\n",
       "2022-02-28         8.68\n",
       "2022-03-31         8.48\n",
       "\n",
       "[279 rows x 1 columns]"
      ]
     },
     "execution_count": 12,
     "metadata": {},
     "output_type": "execute_result"
    }
   ],
   "source": [
    "df_beef_aus"
   ]
  },
  {
   "cell_type": "markdown",
   "id": "f459ae3f",
   "metadata": {},
   "source": [
    "# Australia Beef and Veal Meat Domestic Consumption by Year\n",
    "\n",
    "https://www.indexmundi.com/agriculture/?country=au&commodity=beef-and-veal-meat&graph=domestic-consumption"
   ]
  },
  {
   "cell_type": "code",
   "execution_count": 13,
   "id": "6fc19c08",
   "metadata": {},
   "outputs": [],
   "source": [
    "df_meat_consumption_aus = pd.read_csv(\"data/aus/au-beef-and-veal-meat-domestic-consumption.csv\")"
   ]
  },
  {
   "cell_type": "code",
   "execution_count": 14,
   "id": "c0413fda",
   "metadata": {},
   "outputs": [
    {
     "data": {
      "text/plain": [
       "Index(['Market Year', ' Value', ' Unit Description'], dtype='object')"
      ]
     },
     "execution_count": 14,
     "metadata": {},
     "output_type": "execute_result"
    }
   ],
   "source": [
    "df_meat_consumption_aus.columns"
   ]
  },
  {
   "cell_type": "code",
   "execution_count": 15,
   "id": "af2d1c59",
   "metadata": {},
   "outputs": [
    {
     "data": {
      "text/html": [
       "<div>\n",
       "<style scoped>\n",
       "    .dataframe tbody tr th:only-of-type {\n",
       "        vertical-align: middle;\n",
       "    }\n",
       "\n",
       "    .dataframe tbody tr th {\n",
       "        vertical-align: top;\n",
       "    }\n",
       "\n",
       "    .dataframe thead th {\n",
       "        text-align: right;\n",
       "    }\n",
       "</style>\n",
       "<table border=\"1\" class=\"dataframe\">\n",
       "  <thead>\n",
       "    <tr style=\"text-align: right;\">\n",
       "      <th></th>\n",
       "      <th>Market Year</th>\n",
       "      <th>Value</th>\n",
       "      <th>Unit Description</th>\n",
       "    </tr>\n",
       "  </thead>\n",
       "  <tbody>\n",
       "    <tr>\n",
       "      <th>0</th>\n",
       "      <td>1960</td>\n",
       "      <td>521</td>\n",
       "      <td>(1000 MT CWE)</td>\n",
       "    </tr>\n",
       "    <tr>\n",
       "      <th>1</th>\n",
       "      <td>1961</td>\n",
       "      <td>446</td>\n",
       "      <td>(1000 MT CWE)</td>\n",
       "    </tr>\n",
       "    <tr>\n",
       "      <th>2</th>\n",
       "      <td>1962</td>\n",
       "      <td>502</td>\n",
       "      <td>(1000 MT CWE)</td>\n",
       "    </tr>\n",
       "    <tr>\n",
       "      <th>3</th>\n",
       "      <td>1963</td>\n",
       "      <td>526</td>\n",
       "      <td>(1000 MT CWE)</td>\n",
       "    </tr>\n",
       "    <tr>\n",
       "      <th>4</th>\n",
       "      <td>1964</td>\n",
       "      <td>553</td>\n",
       "      <td>(1000 MT CWE)</td>\n",
       "    </tr>\n",
       "    <tr>\n",
       "      <th>...</th>\n",
       "      <td>...</td>\n",
       "      <td>...</td>\n",
       "      <td>...</td>\n",
       "    </tr>\n",
       "    <tr>\n",
       "      <th>58</th>\n",
       "      <td>2018</td>\n",
       "      <td>741</td>\n",
       "      <td>(1000 MT CWE)</td>\n",
       "    </tr>\n",
       "    <tr>\n",
       "      <th>59</th>\n",
       "      <td>2019</td>\n",
       "      <td>708</td>\n",
       "      <td>(1000 MT CWE)</td>\n",
       "    </tr>\n",
       "    <tr>\n",
       "      <th>60</th>\n",
       "      <td>2020</td>\n",
       "      <td>669</td>\n",
       "      <td>(1000 MT CWE)</td>\n",
       "    </tr>\n",
       "    <tr>\n",
       "      <th>61</th>\n",
       "      <td>2021</td>\n",
       "      <td>605</td>\n",
       "      <td>(1000 MT CWE)</td>\n",
       "    </tr>\n",
       "    <tr>\n",
       "      <th>62</th>\n",
       "      <td>2022</td>\n",
       "      <td>665</td>\n",
       "      <td>(1000 MT CWE)</td>\n",
       "    </tr>\n",
       "  </tbody>\n",
       "</table>\n",
       "<p>63 rows × 3 columns</p>\n",
       "</div>"
      ],
      "text/plain": [
       "    Market Year   Value  Unit Description\n",
       "0          1960     521     (1000 MT CWE)\n",
       "1          1961     446     (1000 MT CWE)\n",
       "2          1962     502     (1000 MT CWE)\n",
       "3          1963     526     (1000 MT CWE)\n",
       "4          1964     553     (1000 MT CWE)\n",
       "..          ...     ...               ...\n",
       "58         2018     741     (1000 MT CWE)\n",
       "59         2019     708     (1000 MT CWE)\n",
       "60         2020     669     (1000 MT CWE)\n",
       "61         2021     605     (1000 MT CWE)\n",
       "62         2022     665     (1000 MT CWE)\n",
       "\n",
       "[63 rows x 3 columns]"
      ]
     },
     "execution_count": 15,
     "metadata": {},
     "output_type": "execute_result"
    }
   ],
   "source": [
    "df_meat_consumption_aus"
   ]
  },
  {
   "cell_type": "code",
   "execution_count": 16,
   "id": "d04d7fc5",
   "metadata": {},
   "outputs": [
    {
     "name": "stdout",
     "output_type": "stream",
     "text": [
      "<class 'pandas.core.frame.DataFrame'>\n",
      "RangeIndex: 63 entries, 0 to 62\n",
      "Data columns (total 3 columns):\n",
      " #   Column             Non-Null Count  Dtype \n",
      "---  ------             --------------  ----- \n",
      " 0   Market Year        63 non-null     int64 \n",
      " 1    Value             63 non-null     int64 \n",
      " 2    Unit Description  63 non-null     object\n",
      "dtypes: int64(2), object(1)\n",
      "memory usage: 1.6+ KB\n"
     ]
    }
   ],
   "source": [
    "df_meat_consumption_aus.info()"
   ]
  },
  {
   "cell_type": "code",
   "execution_count": 17,
   "id": "ca812e3d",
   "metadata": {},
   "outputs": [],
   "source": [
    "snake_case_columns(df_meat_consumption_aus)"
   ]
  },
  {
   "cell_type": "code",
   "execution_count": 18,
   "id": "be309992",
   "metadata": {},
   "outputs": [],
   "source": [
    "df_meat_consumption_aus[\"market_year\"] = pd.to_datetime(df_meat_consumption_aus[\"market_year\"], format='%Y') + YearEnd(1)"
   ]
  },
  {
   "cell_type": "code",
   "execution_count": 19,
   "id": "ca26f9fa",
   "metadata": {},
   "outputs": [
    {
     "data": {
      "text/html": [
       "<div>\n",
       "<style scoped>\n",
       "    .dataframe tbody tr th:only-of-type {\n",
       "        vertical-align: middle;\n",
       "    }\n",
       "\n",
       "    .dataframe tbody tr th {\n",
       "        vertical-align: top;\n",
       "    }\n",
       "\n",
       "    .dataframe thead th {\n",
       "        text-align: right;\n",
       "    }\n",
       "</style>\n",
       "<table border=\"1\" class=\"dataframe\">\n",
       "  <thead>\n",
       "    <tr style=\"text-align: right;\">\n",
       "      <th></th>\n",
       "      <th>market_year</th>\n",
       "      <th>_value</th>\n",
       "      <th>_unit_description</th>\n",
       "    </tr>\n",
       "  </thead>\n",
       "  <tbody>\n",
       "    <tr>\n",
       "      <th>0</th>\n",
       "      <td>1960-12-31</td>\n",
       "      <td>521</td>\n",
       "      <td>(1000 MT CWE)</td>\n",
       "    </tr>\n",
       "    <tr>\n",
       "      <th>1</th>\n",
       "      <td>1961-12-31</td>\n",
       "      <td>446</td>\n",
       "      <td>(1000 MT CWE)</td>\n",
       "    </tr>\n",
       "    <tr>\n",
       "      <th>2</th>\n",
       "      <td>1962-12-31</td>\n",
       "      <td>502</td>\n",
       "      <td>(1000 MT CWE)</td>\n",
       "    </tr>\n",
       "    <tr>\n",
       "      <th>3</th>\n",
       "      <td>1963-12-31</td>\n",
       "      <td>526</td>\n",
       "      <td>(1000 MT CWE)</td>\n",
       "    </tr>\n",
       "    <tr>\n",
       "      <th>4</th>\n",
       "      <td>1964-12-31</td>\n",
       "      <td>553</td>\n",
       "      <td>(1000 MT CWE)</td>\n",
       "    </tr>\n",
       "    <tr>\n",
       "      <th>...</th>\n",
       "      <td>...</td>\n",
       "      <td>...</td>\n",
       "      <td>...</td>\n",
       "    </tr>\n",
       "    <tr>\n",
       "      <th>58</th>\n",
       "      <td>2018-12-31</td>\n",
       "      <td>741</td>\n",
       "      <td>(1000 MT CWE)</td>\n",
       "    </tr>\n",
       "    <tr>\n",
       "      <th>59</th>\n",
       "      <td>2019-12-31</td>\n",
       "      <td>708</td>\n",
       "      <td>(1000 MT CWE)</td>\n",
       "    </tr>\n",
       "    <tr>\n",
       "      <th>60</th>\n",
       "      <td>2020-12-31</td>\n",
       "      <td>669</td>\n",
       "      <td>(1000 MT CWE)</td>\n",
       "    </tr>\n",
       "    <tr>\n",
       "      <th>61</th>\n",
       "      <td>2021-12-31</td>\n",
       "      <td>605</td>\n",
       "      <td>(1000 MT CWE)</td>\n",
       "    </tr>\n",
       "    <tr>\n",
       "      <th>62</th>\n",
       "      <td>2022-12-31</td>\n",
       "      <td>665</td>\n",
       "      <td>(1000 MT CWE)</td>\n",
       "    </tr>\n",
       "  </tbody>\n",
       "</table>\n",
       "<p>63 rows × 3 columns</p>\n",
       "</div>"
      ],
      "text/plain": [
       "   market_year  _value _unit_description\n",
       "0   1960-12-31     521     (1000 MT CWE)\n",
       "1   1961-12-31     446     (1000 MT CWE)\n",
       "2   1962-12-31     502     (1000 MT CWE)\n",
       "3   1963-12-31     526     (1000 MT CWE)\n",
       "4   1964-12-31     553     (1000 MT CWE)\n",
       "..         ...     ...               ...\n",
       "58  2018-12-31     741     (1000 MT CWE)\n",
       "59  2019-12-31     708     (1000 MT CWE)\n",
       "60  2020-12-31     669     (1000 MT CWE)\n",
       "61  2021-12-31     605     (1000 MT CWE)\n",
       "62  2022-12-31     665     (1000 MT CWE)\n",
       "\n",
       "[63 rows x 3 columns]"
      ]
     },
     "execution_count": 19,
     "metadata": {},
     "output_type": "execute_result"
    }
   ],
   "source": [
    "df_meat_consumption_aus"
   ]
  },
  {
   "cell_type": "code",
   "execution_count": 20,
   "id": "21b8b736",
   "metadata": {},
   "outputs": [],
   "source": [
    "df_meat_consumption_aus = df_meat_consumption_aus.rename(columns={\"market_year\" : \"month\", \"_value\" : \"meat_consumption\" })"
   ]
  },
  {
   "cell_type": "code",
   "execution_count": 21,
   "id": "ea8aec7f",
   "metadata": {},
   "outputs": [],
   "source": [
    "df_meat_consumption_aus = df_meat_consumption_aus.drop([\"_unit_description\"], axis=1)"
   ]
  },
  {
   "cell_type": "code",
   "execution_count": 22,
   "id": "2ec8354b",
   "metadata": {},
   "outputs": [],
   "source": [
    "df_meat_consumption_aus = df_meat_consumption_aus.set_index(\"month\")"
   ]
  },
  {
   "cell_type": "code",
   "execution_count": 23,
   "id": "7378ba1e",
   "metadata": {},
   "outputs": [
    {
     "data": {
      "text/plain": [
       "meat_consumption    0\n",
       "dtype: int64"
      ]
     },
     "execution_count": 23,
     "metadata": {},
     "output_type": "execute_result"
    }
   ],
   "source": [
    "df_meat_consumption_aus.isnull().sum()"
   ]
  },
  {
   "cell_type": "code",
   "execution_count": 24,
   "id": "fc166fc5",
   "metadata": {},
   "outputs": [
    {
     "data": {
      "text/html": [
       "<div>\n",
       "<style scoped>\n",
       "    .dataframe tbody tr th:only-of-type {\n",
       "        vertical-align: middle;\n",
       "    }\n",
       "\n",
       "    .dataframe tbody tr th {\n",
       "        vertical-align: top;\n",
       "    }\n",
       "\n",
       "    .dataframe thead th {\n",
       "        text-align: right;\n",
       "    }\n",
       "</style>\n",
       "<table border=\"1\" class=\"dataframe\">\n",
       "  <thead>\n",
       "    <tr style=\"text-align: right;\">\n",
       "      <th></th>\n",
       "      <th>meat_consumption</th>\n",
       "    </tr>\n",
       "    <tr>\n",
       "      <th>month</th>\n",
       "      <th></th>\n",
       "    </tr>\n",
       "  </thead>\n",
       "  <tbody>\n",
       "    <tr>\n",
       "      <th>1960-12-31</th>\n",
       "      <td>521</td>\n",
       "    </tr>\n",
       "    <tr>\n",
       "      <th>1961-12-31</th>\n",
       "      <td>446</td>\n",
       "    </tr>\n",
       "    <tr>\n",
       "      <th>1962-12-31</th>\n",
       "      <td>502</td>\n",
       "    </tr>\n",
       "    <tr>\n",
       "      <th>1963-12-31</th>\n",
       "      <td>526</td>\n",
       "    </tr>\n",
       "    <tr>\n",
       "      <th>1964-12-31</th>\n",
       "      <td>553</td>\n",
       "    </tr>\n",
       "    <tr>\n",
       "      <th>...</th>\n",
       "      <td>...</td>\n",
       "    </tr>\n",
       "    <tr>\n",
       "      <th>2018-12-31</th>\n",
       "      <td>741</td>\n",
       "    </tr>\n",
       "    <tr>\n",
       "      <th>2019-12-31</th>\n",
       "      <td>708</td>\n",
       "    </tr>\n",
       "    <tr>\n",
       "      <th>2020-12-31</th>\n",
       "      <td>669</td>\n",
       "    </tr>\n",
       "    <tr>\n",
       "      <th>2021-12-31</th>\n",
       "      <td>605</td>\n",
       "    </tr>\n",
       "    <tr>\n",
       "      <th>2022-12-31</th>\n",
       "      <td>665</td>\n",
       "    </tr>\n",
       "  </tbody>\n",
       "</table>\n",
       "<p>63 rows × 1 columns</p>\n",
       "</div>"
      ],
      "text/plain": [
       "            meat_consumption\n",
       "month                       \n",
       "1960-12-31               521\n",
       "1961-12-31               446\n",
       "1962-12-31               502\n",
       "1963-12-31               526\n",
       "1964-12-31               553\n",
       "...                      ...\n",
       "2018-12-31               741\n",
       "2019-12-31               708\n",
       "2020-12-31               669\n",
       "2021-12-31               605\n",
       "2022-12-31               665\n",
       "\n",
       "[63 rows x 1 columns]"
      ]
     },
     "execution_count": 24,
     "metadata": {},
     "output_type": "execute_result"
    }
   ],
   "source": [
    "df_meat_consumption_aus"
   ]
  },
  {
   "cell_type": "code",
   "execution_count": 25,
   "id": "26396371",
   "metadata": {},
   "outputs": [],
   "source": [
    "df_meat_consumption_aus_monthly = df_meat_consumption_aus.resample('M').last()"
   ]
  },
  {
   "cell_type": "code",
   "execution_count": 26,
   "id": "66bcd0b2",
   "metadata": {},
   "outputs": [
    {
     "data": {
      "text/html": [
       "<div>\n",
       "<style scoped>\n",
       "    .dataframe tbody tr th:only-of-type {\n",
       "        vertical-align: middle;\n",
       "    }\n",
       "\n",
       "    .dataframe tbody tr th {\n",
       "        vertical-align: top;\n",
       "    }\n",
       "\n",
       "    .dataframe thead th {\n",
       "        text-align: right;\n",
       "    }\n",
       "</style>\n",
       "<table border=\"1\" class=\"dataframe\">\n",
       "  <thead>\n",
       "    <tr style=\"text-align: right;\">\n",
       "      <th></th>\n",
       "      <th>meat_consumption</th>\n",
       "    </tr>\n",
       "    <tr>\n",
       "      <th>month</th>\n",
       "      <th></th>\n",
       "    </tr>\n",
       "  </thead>\n",
       "  <tbody>\n",
       "    <tr>\n",
       "      <th>1960-12-31</th>\n",
       "      <td>521.0</td>\n",
       "    </tr>\n",
       "    <tr>\n",
       "      <th>1961-01-31</th>\n",
       "      <td>NaN</td>\n",
       "    </tr>\n",
       "    <tr>\n",
       "      <th>1961-02-28</th>\n",
       "      <td>NaN</td>\n",
       "    </tr>\n",
       "    <tr>\n",
       "      <th>1961-03-31</th>\n",
       "      <td>NaN</td>\n",
       "    </tr>\n",
       "    <tr>\n",
       "      <th>1961-04-30</th>\n",
       "      <td>NaN</td>\n",
       "    </tr>\n",
       "    <tr>\n",
       "      <th>1961-05-31</th>\n",
       "      <td>NaN</td>\n",
       "    </tr>\n",
       "    <tr>\n",
       "      <th>1961-06-30</th>\n",
       "      <td>NaN</td>\n",
       "    </tr>\n",
       "    <tr>\n",
       "      <th>1961-07-31</th>\n",
       "      <td>NaN</td>\n",
       "    </tr>\n",
       "    <tr>\n",
       "      <th>1961-08-31</th>\n",
       "      <td>NaN</td>\n",
       "    </tr>\n",
       "    <tr>\n",
       "      <th>1961-09-30</th>\n",
       "      <td>NaN</td>\n",
       "    </tr>\n",
       "    <tr>\n",
       "      <th>1961-10-31</th>\n",
       "      <td>NaN</td>\n",
       "    </tr>\n",
       "    <tr>\n",
       "      <th>1961-11-30</th>\n",
       "      <td>NaN</td>\n",
       "    </tr>\n",
       "    <tr>\n",
       "      <th>1961-12-31</th>\n",
       "      <td>446.0</td>\n",
       "    </tr>\n",
       "    <tr>\n",
       "      <th>1962-01-31</th>\n",
       "      <td>NaN</td>\n",
       "    </tr>\n",
       "    <tr>\n",
       "      <th>1962-02-28</th>\n",
       "      <td>NaN</td>\n",
       "    </tr>\n",
       "    <tr>\n",
       "      <th>1962-03-31</th>\n",
       "      <td>NaN</td>\n",
       "    </tr>\n",
       "    <tr>\n",
       "      <th>1962-04-30</th>\n",
       "      <td>NaN</td>\n",
       "    </tr>\n",
       "    <tr>\n",
       "      <th>1962-05-31</th>\n",
       "      <td>NaN</td>\n",
       "    </tr>\n",
       "    <tr>\n",
       "      <th>1962-06-30</th>\n",
       "      <td>NaN</td>\n",
       "    </tr>\n",
       "    <tr>\n",
       "      <th>1962-07-31</th>\n",
       "      <td>NaN</td>\n",
       "    </tr>\n",
       "  </tbody>\n",
       "</table>\n",
       "</div>"
      ],
      "text/plain": [
       "            meat_consumption\n",
       "month                       \n",
       "1960-12-31             521.0\n",
       "1961-01-31               NaN\n",
       "1961-02-28               NaN\n",
       "1961-03-31               NaN\n",
       "1961-04-30               NaN\n",
       "1961-05-31               NaN\n",
       "1961-06-30               NaN\n",
       "1961-07-31               NaN\n",
       "1961-08-31               NaN\n",
       "1961-09-30               NaN\n",
       "1961-10-31               NaN\n",
       "1961-11-30               NaN\n",
       "1961-12-31             446.0\n",
       "1962-01-31               NaN\n",
       "1962-02-28               NaN\n",
       "1962-03-31               NaN\n",
       "1962-04-30               NaN\n",
       "1962-05-31               NaN\n",
       "1962-06-30               NaN\n",
       "1962-07-31               NaN"
      ]
     },
     "execution_count": 26,
     "metadata": {},
     "output_type": "execute_result"
    }
   ],
   "source": [
    "df_meat_consumption_aus_monthly.head(20)"
   ]
  },
  {
   "cell_type": "code",
   "execution_count": 27,
   "id": "d305ee37",
   "metadata": {},
   "outputs": [],
   "source": [
    "df_meat_consumption_aus_monthly = df_meat_consumption_aus.resample('M').last().bfill() / 12"
   ]
  },
  {
   "cell_type": "code",
   "execution_count": 28,
   "id": "e9b452fe",
   "metadata": {},
   "outputs": [
    {
     "data": {
      "text/plain": [
       "meat_consumption    446.0\n",
       "dtype: float64"
      ]
     },
     "execution_count": 28,
     "metadata": {},
     "output_type": "execute_result"
    }
   ],
   "source": [
    "df_meat_consumption_aus_monthly[df_meat_consumption_aus_monthly.index.year==1961].sum()"
   ]
  },
  {
   "cell_type": "code",
   "execution_count": 29,
   "id": "09482322",
   "metadata": {},
   "outputs": [
    {
     "data": {
      "text/html": [
       "<div>\n",
       "<style scoped>\n",
       "    .dataframe tbody tr th:only-of-type {\n",
       "        vertical-align: middle;\n",
       "    }\n",
       "\n",
       "    .dataframe tbody tr th {\n",
       "        vertical-align: top;\n",
       "    }\n",
       "\n",
       "    .dataframe thead th {\n",
       "        text-align: right;\n",
       "    }\n",
       "</style>\n",
       "<table border=\"1\" class=\"dataframe\">\n",
       "  <thead>\n",
       "    <tr style=\"text-align: right;\">\n",
       "      <th></th>\n",
       "      <th>meat_consumption</th>\n",
       "    </tr>\n",
       "    <tr>\n",
       "      <th>month</th>\n",
       "      <th></th>\n",
       "    </tr>\n",
       "  </thead>\n",
       "  <tbody>\n",
       "    <tr>\n",
       "      <th>1960-12-31</th>\n",
       "      <td>43.416667</td>\n",
       "    </tr>\n",
       "  </tbody>\n",
       "</table>\n",
       "</div>"
      ],
      "text/plain": [
       "            meat_consumption\n",
       "month                       \n",
       "1960-12-31         43.416667"
      ]
     },
     "execution_count": 29,
     "metadata": {},
     "output_type": "execute_result"
    }
   ],
   "source": [
    "# 1960 shows only one row but it won't be used anyway\n",
    "df_meat_consumption_aus_monthly[(df_meat_consumption_aus_monthly.index.year == 1960) ]"
   ]
  },
  {
   "cell_type": "code",
   "execution_count": 30,
   "id": "6454781d",
   "metadata": {},
   "outputs": [
    {
     "data": {
      "text/html": [
       "<div>\n",
       "<style scoped>\n",
       "    .dataframe tbody tr th:only-of-type {\n",
       "        vertical-align: middle;\n",
       "    }\n",
       "\n",
       "    .dataframe tbody tr th {\n",
       "        vertical-align: top;\n",
       "    }\n",
       "\n",
       "    .dataframe thead th {\n",
       "        text-align: right;\n",
       "    }\n",
       "</style>\n",
       "<table border=\"1\" class=\"dataframe\">\n",
       "  <thead>\n",
       "    <tr style=\"text-align: right;\">\n",
       "      <th></th>\n",
       "      <th>meat_consumption</th>\n",
       "    </tr>\n",
       "    <tr>\n",
       "      <th>month</th>\n",
       "      <th></th>\n",
       "    </tr>\n",
       "  </thead>\n",
       "  <tbody>\n",
       "    <tr>\n",
       "      <th>1960-12-31</th>\n",
       "      <td>43.416667</td>\n",
       "    </tr>\n",
       "    <tr>\n",
       "      <th>1961-01-31</th>\n",
       "      <td>37.166667</td>\n",
       "    </tr>\n",
       "    <tr>\n",
       "      <th>1961-02-28</th>\n",
       "      <td>37.166667</td>\n",
       "    </tr>\n",
       "    <tr>\n",
       "      <th>1961-03-31</th>\n",
       "      <td>37.166667</td>\n",
       "    </tr>\n",
       "    <tr>\n",
       "      <th>1961-04-30</th>\n",
       "      <td>37.166667</td>\n",
       "    </tr>\n",
       "    <tr>\n",
       "      <th>1961-05-31</th>\n",
       "      <td>37.166667</td>\n",
       "    </tr>\n",
       "    <tr>\n",
       "      <th>1961-06-30</th>\n",
       "      <td>37.166667</td>\n",
       "    </tr>\n",
       "    <tr>\n",
       "      <th>1961-07-31</th>\n",
       "      <td>37.166667</td>\n",
       "    </tr>\n",
       "    <tr>\n",
       "      <th>1961-08-31</th>\n",
       "      <td>37.166667</td>\n",
       "    </tr>\n",
       "    <tr>\n",
       "      <th>1961-09-30</th>\n",
       "      <td>37.166667</td>\n",
       "    </tr>\n",
       "    <tr>\n",
       "      <th>1961-10-31</th>\n",
       "      <td>37.166667</td>\n",
       "    </tr>\n",
       "    <tr>\n",
       "      <th>1961-11-30</th>\n",
       "      <td>37.166667</td>\n",
       "    </tr>\n",
       "    <tr>\n",
       "      <th>1961-12-31</th>\n",
       "      <td>37.166667</td>\n",
       "    </tr>\n",
       "    <tr>\n",
       "      <th>1962-01-31</th>\n",
       "      <td>41.833333</td>\n",
       "    </tr>\n",
       "    <tr>\n",
       "      <th>1962-02-28</th>\n",
       "      <td>41.833333</td>\n",
       "    </tr>\n",
       "    <tr>\n",
       "      <th>1962-03-31</th>\n",
       "      <td>41.833333</td>\n",
       "    </tr>\n",
       "    <tr>\n",
       "      <th>1962-04-30</th>\n",
       "      <td>41.833333</td>\n",
       "    </tr>\n",
       "    <tr>\n",
       "      <th>1962-05-31</th>\n",
       "      <td>41.833333</td>\n",
       "    </tr>\n",
       "    <tr>\n",
       "      <th>1962-06-30</th>\n",
       "      <td>41.833333</td>\n",
       "    </tr>\n",
       "    <tr>\n",
       "      <th>1962-07-31</th>\n",
       "      <td>41.833333</td>\n",
       "    </tr>\n",
       "    <tr>\n",
       "      <th>1962-08-31</th>\n",
       "      <td>41.833333</td>\n",
       "    </tr>\n",
       "    <tr>\n",
       "      <th>1962-09-30</th>\n",
       "      <td>41.833333</td>\n",
       "    </tr>\n",
       "    <tr>\n",
       "      <th>1962-10-31</th>\n",
       "      <td>41.833333</td>\n",
       "    </tr>\n",
       "    <tr>\n",
       "      <th>1962-11-30</th>\n",
       "      <td>41.833333</td>\n",
       "    </tr>\n",
       "    <tr>\n",
       "      <th>1962-12-31</th>\n",
       "      <td>41.833333</td>\n",
       "    </tr>\n",
       "  </tbody>\n",
       "</table>\n",
       "</div>"
      ],
      "text/plain": [
       "            meat_consumption\n",
       "month                       \n",
       "1960-12-31         43.416667\n",
       "1961-01-31         37.166667\n",
       "1961-02-28         37.166667\n",
       "1961-03-31         37.166667\n",
       "1961-04-30         37.166667\n",
       "1961-05-31         37.166667\n",
       "1961-06-30         37.166667\n",
       "1961-07-31         37.166667\n",
       "1961-08-31         37.166667\n",
       "1961-09-30         37.166667\n",
       "1961-10-31         37.166667\n",
       "1961-11-30         37.166667\n",
       "1961-12-31         37.166667\n",
       "1962-01-31         41.833333\n",
       "1962-02-28         41.833333\n",
       "1962-03-31         41.833333\n",
       "1962-04-30         41.833333\n",
       "1962-05-31         41.833333\n",
       "1962-06-30         41.833333\n",
       "1962-07-31         41.833333\n",
       "1962-08-31         41.833333\n",
       "1962-09-30         41.833333\n",
       "1962-10-31         41.833333\n",
       "1962-11-30         41.833333\n",
       "1962-12-31         41.833333"
      ]
     },
     "execution_count": 30,
     "metadata": {},
     "output_type": "execute_result"
    }
   ],
   "source": [
    "df_meat_consumption_aus_monthly[(df_meat_consumption_aus_monthly.index.year >= 1960) & (df_meat_consumption_aus_monthly.index.year < 1963)]"
   ]
  },
  {
   "cell_type": "code",
   "execution_count": 31,
   "id": "b02a53ed",
   "metadata": {},
   "outputs": [
    {
     "data": {
      "text/html": [
       "<div>\n",
       "<style scoped>\n",
       "    .dataframe tbody tr th:only-of-type {\n",
       "        vertical-align: middle;\n",
       "    }\n",
       "\n",
       "    .dataframe tbody tr th {\n",
       "        vertical-align: top;\n",
       "    }\n",
       "\n",
       "    .dataframe thead th {\n",
       "        text-align: right;\n",
       "    }\n",
       "</style>\n",
       "<table border=\"1\" class=\"dataframe\">\n",
       "  <thead>\n",
       "    <tr style=\"text-align: right;\">\n",
       "      <th></th>\n",
       "      <th>meat_consumption</th>\n",
       "    </tr>\n",
       "    <tr>\n",
       "      <th>month</th>\n",
       "      <th></th>\n",
       "    </tr>\n",
       "  </thead>\n",
       "  <tbody>\n",
       "    <tr>\n",
       "      <th>2001-01-31</th>\n",
       "      <td>58.750000</td>\n",
       "    </tr>\n",
       "    <tr>\n",
       "      <th>2001-02-28</th>\n",
       "      <td>58.750000</td>\n",
       "    </tr>\n",
       "    <tr>\n",
       "      <th>2001-03-31</th>\n",
       "      <td>58.750000</td>\n",
       "    </tr>\n",
       "    <tr>\n",
       "      <th>2001-04-30</th>\n",
       "      <td>58.750000</td>\n",
       "    </tr>\n",
       "    <tr>\n",
       "      <th>2001-05-31</th>\n",
       "      <td>58.750000</td>\n",
       "    </tr>\n",
       "    <tr>\n",
       "      <th>2001-06-30</th>\n",
       "      <td>58.750000</td>\n",
       "    </tr>\n",
       "    <tr>\n",
       "      <th>2001-07-31</th>\n",
       "      <td>58.750000</td>\n",
       "    </tr>\n",
       "    <tr>\n",
       "      <th>2001-08-31</th>\n",
       "      <td>58.750000</td>\n",
       "    </tr>\n",
       "    <tr>\n",
       "      <th>2001-09-30</th>\n",
       "      <td>58.750000</td>\n",
       "    </tr>\n",
       "    <tr>\n",
       "      <th>2001-10-31</th>\n",
       "      <td>58.750000</td>\n",
       "    </tr>\n",
       "    <tr>\n",
       "      <th>2001-11-30</th>\n",
       "      <td>58.750000</td>\n",
       "    </tr>\n",
       "    <tr>\n",
       "      <th>2001-12-31</th>\n",
       "      <td>58.750000</td>\n",
       "    </tr>\n",
       "    <tr>\n",
       "      <th>2002-01-31</th>\n",
       "      <td>59.916667</td>\n",
       "    </tr>\n",
       "    <tr>\n",
       "      <th>2002-02-28</th>\n",
       "      <td>59.916667</td>\n",
       "    </tr>\n",
       "    <tr>\n",
       "      <th>2002-03-31</th>\n",
       "      <td>59.916667</td>\n",
       "    </tr>\n",
       "    <tr>\n",
       "      <th>2002-04-30</th>\n",
       "      <td>59.916667</td>\n",
       "    </tr>\n",
       "    <tr>\n",
       "      <th>2002-05-31</th>\n",
       "      <td>59.916667</td>\n",
       "    </tr>\n",
       "    <tr>\n",
       "      <th>2002-06-30</th>\n",
       "      <td>59.916667</td>\n",
       "    </tr>\n",
       "    <tr>\n",
       "      <th>2002-07-31</th>\n",
       "      <td>59.916667</td>\n",
       "    </tr>\n",
       "    <tr>\n",
       "      <th>2002-08-31</th>\n",
       "      <td>59.916667</td>\n",
       "    </tr>\n",
       "    <tr>\n",
       "      <th>2002-09-30</th>\n",
       "      <td>59.916667</td>\n",
       "    </tr>\n",
       "    <tr>\n",
       "      <th>2002-10-31</th>\n",
       "      <td>59.916667</td>\n",
       "    </tr>\n",
       "    <tr>\n",
       "      <th>2002-11-30</th>\n",
       "      <td>59.916667</td>\n",
       "    </tr>\n",
       "    <tr>\n",
       "      <th>2002-12-31</th>\n",
       "      <td>59.916667</td>\n",
       "    </tr>\n",
       "  </tbody>\n",
       "</table>\n",
       "</div>"
      ],
      "text/plain": [
       "            meat_consumption\n",
       "month                       \n",
       "2001-01-31         58.750000\n",
       "2001-02-28         58.750000\n",
       "2001-03-31         58.750000\n",
       "2001-04-30         58.750000\n",
       "2001-05-31         58.750000\n",
       "2001-06-30         58.750000\n",
       "2001-07-31         58.750000\n",
       "2001-08-31         58.750000\n",
       "2001-09-30         58.750000\n",
       "2001-10-31         58.750000\n",
       "2001-11-30         58.750000\n",
       "2001-12-31         58.750000\n",
       "2002-01-31         59.916667\n",
       "2002-02-28         59.916667\n",
       "2002-03-31         59.916667\n",
       "2002-04-30         59.916667\n",
       "2002-05-31         59.916667\n",
       "2002-06-30         59.916667\n",
       "2002-07-31         59.916667\n",
       "2002-08-31         59.916667\n",
       "2002-09-30         59.916667\n",
       "2002-10-31         59.916667\n",
       "2002-11-30         59.916667\n",
       "2002-12-31         59.916667"
      ]
     },
     "execution_count": 31,
     "metadata": {},
     "output_type": "execute_result"
    }
   ],
   "source": [
    "df_meat_consumption_aus_monthly[(df_meat_consumption_aus_monthly.index.year > 2000) & (df_meat_consumption_aus_monthly.index.year < 2003)]"
   ]
  },
  {
   "cell_type": "code",
   "execution_count": 32,
   "id": "89def7e6",
   "metadata": {},
   "outputs": [
    {
     "name": "stdout",
     "output_type": "stream",
     "text": [
      "<class 'pandas.core.frame.DataFrame'>\n",
      "DatetimeIndex: 745 entries, 1960-12-31 to 2022-12-31\n",
      "Freq: M\n",
      "Data columns (total 1 columns):\n",
      " #   Column            Non-Null Count  Dtype  \n",
      "---  ------            --------------  -----  \n",
      " 0   meat_consumption  745 non-null    float64\n",
      "dtypes: float64(1)\n",
      "memory usage: 11.6 KB\n"
     ]
    }
   ],
   "source": [
    "df_meat_consumption_aus_monthly.info()"
   ]
  },
  {
   "cell_type": "code",
   "execution_count": 33,
   "id": "6c7b3a45",
   "metadata": {},
   "outputs": [],
   "source": [
    "df_meat_consumption_aus_monthly = df_meat_consumption_aus_monthly[df_meat_consumption_aus_monthly.index.year > 1989]"
   ]
  },
  {
   "cell_type": "code",
   "execution_count": 34,
   "id": "d5532320",
   "metadata": {},
   "outputs": [],
   "source": [
    "df_meat_consumption_aus_monthly = df_meat_consumption_aus_monthly[df_meat_consumption_aus_monthly.index.year < 2022]"
   ]
  },
  {
   "cell_type": "markdown",
   "id": "1f105a73",
   "metadata": {},
   "source": [
    "## final outoput"
   ]
  },
  {
   "cell_type": "code",
   "execution_count": 35,
   "id": "2320355e",
   "metadata": {},
   "outputs": [
    {
     "data": {
      "text/html": [
       "<div>\n",
       "<style scoped>\n",
       "    .dataframe tbody tr th:only-of-type {\n",
       "        vertical-align: middle;\n",
       "    }\n",
       "\n",
       "    .dataframe tbody tr th {\n",
       "        vertical-align: top;\n",
       "    }\n",
       "\n",
       "    .dataframe thead th {\n",
       "        text-align: right;\n",
       "    }\n",
       "</style>\n",
       "<table border=\"1\" class=\"dataframe\">\n",
       "  <thead>\n",
       "    <tr style=\"text-align: right;\">\n",
       "      <th></th>\n",
       "      <th>meat_consumption</th>\n",
       "    </tr>\n",
       "    <tr>\n",
       "      <th>month</th>\n",
       "      <th></th>\n",
       "    </tr>\n",
       "  </thead>\n",
       "  <tbody>\n",
       "    <tr>\n",
       "      <th>1990-01-31</th>\n",
       "      <td>54.250000</td>\n",
       "    </tr>\n",
       "    <tr>\n",
       "      <th>1990-02-28</th>\n",
       "      <td>54.250000</td>\n",
       "    </tr>\n",
       "    <tr>\n",
       "      <th>1990-03-31</th>\n",
       "      <td>54.250000</td>\n",
       "    </tr>\n",
       "    <tr>\n",
       "      <th>1990-04-30</th>\n",
       "      <td>54.250000</td>\n",
       "    </tr>\n",
       "    <tr>\n",
       "      <th>1990-05-31</th>\n",
       "      <td>54.250000</td>\n",
       "    </tr>\n",
       "    <tr>\n",
       "      <th>...</th>\n",
       "      <td>...</td>\n",
       "    </tr>\n",
       "    <tr>\n",
       "      <th>2021-08-31</th>\n",
       "      <td>50.416667</td>\n",
       "    </tr>\n",
       "    <tr>\n",
       "      <th>2021-09-30</th>\n",
       "      <td>50.416667</td>\n",
       "    </tr>\n",
       "    <tr>\n",
       "      <th>2021-10-31</th>\n",
       "      <td>50.416667</td>\n",
       "    </tr>\n",
       "    <tr>\n",
       "      <th>2021-11-30</th>\n",
       "      <td>50.416667</td>\n",
       "    </tr>\n",
       "    <tr>\n",
       "      <th>2021-12-31</th>\n",
       "      <td>50.416667</td>\n",
       "    </tr>\n",
       "  </tbody>\n",
       "</table>\n",
       "<p>384 rows × 1 columns</p>\n",
       "</div>"
      ],
      "text/plain": [
       "            meat_consumption\n",
       "month                       \n",
       "1990-01-31         54.250000\n",
       "1990-02-28         54.250000\n",
       "1990-03-31         54.250000\n",
       "1990-04-30         54.250000\n",
       "1990-05-31         54.250000\n",
       "...                      ...\n",
       "2021-08-31         50.416667\n",
       "2021-09-30         50.416667\n",
       "2021-10-31         50.416667\n",
       "2021-11-30         50.416667\n",
       "2021-12-31         50.416667\n",
       "\n",
       "[384 rows x 1 columns]"
      ]
     },
     "execution_count": 35,
     "metadata": {},
     "output_type": "execute_result"
    }
   ],
   "source": [
    "df_meat_consumption_aus_monthly"
   ]
  },
  {
   "cell_type": "markdown",
   "id": "d9f3a1db",
   "metadata": {},
   "source": [
    "# Australia Beef and Veal Meat Exports by Year"
   ]
  },
  {
   "cell_type": "code",
   "execution_count": 36,
   "id": "ae5ba936",
   "metadata": {},
   "outputs": [],
   "source": [
    "df_exports_aus = pd.read_csv(\"data/aus/au-beef-and-veal-meat-exports.csv\")"
   ]
  },
  {
   "cell_type": "code",
   "execution_count": 37,
   "id": "66e86c58",
   "metadata": {},
   "outputs": [
    {
     "data": {
      "text/html": [
       "<div>\n",
       "<style scoped>\n",
       "    .dataframe tbody tr th:only-of-type {\n",
       "        vertical-align: middle;\n",
       "    }\n",
       "\n",
       "    .dataframe tbody tr th {\n",
       "        vertical-align: top;\n",
       "    }\n",
       "\n",
       "    .dataframe thead th {\n",
       "        text-align: right;\n",
       "    }\n",
       "</style>\n",
       "<table border=\"1\" class=\"dataframe\">\n",
       "  <thead>\n",
       "    <tr style=\"text-align: right;\">\n",
       "      <th></th>\n",
       "      <th>Market Year</th>\n",
       "      <th>Value</th>\n",
       "      <th>Unit Description</th>\n",
       "    </tr>\n",
       "  </thead>\n",
       "  <tbody>\n",
       "    <tr>\n",
       "      <th>0</th>\n",
       "      <td>1960</td>\n",
       "      <td>165</td>\n",
       "      <td>(1000 MT CWE)</td>\n",
       "    </tr>\n",
       "    <tr>\n",
       "      <th>1</th>\n",
       "      <td>1961</td>\n",
       "      <td>275</td>\n",
       "      <td>(1000 MT CWE)</td>\n",
       "    </tr>\n",
       "    <tr>\n",
       "      <th>2</th>\n",
       "      <td>1962</td>\n",
       "      <td>382</td>\n",
       "      <td>(1000 MT CWE)</td>\n",
       "    </tr>\n",
       "    <tr>\n",
       "      <th>3</th>\n",
       "      <td>1963</td>\n",
       "      <td>426</td>\n",
       "      <td>(1000 MT CWE)</td>\n",
       "    </tr>\n",
       "    <tr>\n",
       "      <th>4</th>\n",
       "      <td>1964</td>\n",
       "      <td>442</td>\n",
       "      <td>(1000 MT CWE)</td>\n",
       "    </tr>\n",
       "    <tr>\n",
       "      <th>...</th>\n",
       "      <td>...</td>\n",
       "      <td>...</td>\n",
       "      <td>...</td>\n",
       "    </tr>\n",
       "    <tr>\n",
       "      <th>58</th>\n",
       "      <td>2018</td>\n",
       "      <td>1582</td>\n",
       "      <td>(1000 MT CWE)</td>\n",
       "    </tr>\n",
       "    <tr>\n",
       "      <th>59</th>\n",
       "      <td>2019</td>\n",
       "      <td>1739</td>\n",
       "      <td>(1000 MT CWE)</td>\n",
       "    </tr>\n",
       "    <tr>\n",
       "      <th>60</th>\n",
       "      <td>2020</td>\n",
       "      <td>1473</td>\n",
       "      <td>(1000 MT CWE)</td>\n",
       "    </tr>\n",
       "    <tr>\n",
       "      <th>61</th>\n",
       "      <td>2021</td>\n",
       "      <td>1320</td>\n",
       "      <td>(1000 MT CWE)</td>\n",
       "    </tr>\n",
       "    <tr>\n",
       "      <th>62</th>\n",
       "      <td>2022</td>\n",
       "      <td>1470</td>\n",
       "      <td>(1000 MT CWE)</td>\n",
       "    </tr>\n",
       "  </tbody>\n",
       "</table>\n",
       "<p>63 rows × 3 columns</p>\n",
       "</div>"
      ],
      "text/plain": [
       "    Market Year   Value  Unit Description\n",
       "0          1960     165     (1000 MT CWE)\n",
       "1          1961     275     (1000 MT CWE)\n",
       "2          1962     382     (1000 MT CWE)\n",
       "3          1963     426     (1000 MT CWE)\n",
       "4          1964     442     (1000 MT CWE)\n",
       "..          ...     ...               ...\n",
       "58         2018    1582     (1000 MT CWE)\n",
       "59         2019    1739     (1000 MT CWE)\n",
       "60         2020    1473     (1000 MT CWE)\n",
       "61         2021    1320     (1000 MT CWE)\n",
       "62         2022    1470     (1000 MT CWE)\n",
       "\n",
       "[63 rows x 3 columns]"
      ]
     },
     "execution_count": 37,
     "metadata": {},
     "output_type": "execute_result"
    }
   ],
   "source": [
    "df_exports_aus"
   ]
  },
  {
   "cell_type": "code",
   "execution_count": 38,
   "id": "8d50622e",
   "metadata": {},
   "outputs": [],
   "source": [
    "# just use the user-defined fucntion from my utils.py this time\n",
    "df_exports_aus_M = transform_indexmundi_yearly_data(df_exports_aus, \"meat_exports\")"
   ]
  },
  {
   "cell_type": "code",
   "execution_count": 39,
   "id": "1ec6d346",
   "metadata": {},
   "outputs": [
    {
     "data": {
      "text/plain": [
       "meat_exports    0\n",
       "dtype: int64"
      ]
     },
     "execution_count": 39,
     "metadata": {},
     "output_type": "execute_result"
    }
   ],
   "source": [
    "df_exports_aus_M.isnull().sum()"
   ]
  },
  {
   "cell_type": "code",
   "execution_count": 40,
   "id": "d30b6319",
   "metadata": {},
   "outputs": [
    {
     "name": "stdout",
     "output_type": "stream",
     "text": [
      "<class 'pandas.core.frame.DataFrame'>\n",
      "DatetimeIndex: 384 entries, 1990-01-31 to 2021-12-31\n",
      "Freq: M\n",
      "Data columns (total 1 columns):\n",
      " #   Column        Non-Null Count  Dtype  \n",
      "---  ------        --------------  -----  \n",
      " 0   meat_exports  384 non-null    float64\n",
      "dtypes: float64(1)\n",
      "memory usage: 6.0 KB\n"
     ]
    }
   ],
   "source": [
    "df_exports_aus_M.info()"
   ]
  },
  {
   "cell_type": "markdown",
   "id": "61bc7488",
   "metadata": {},
   "source": [
    "## final output"
   ]
  },
  {
   "cell_type": "code",
   "execution_count": 41,
   "id": "84919569",
   "metadata": {},
   "outputs": [
    {
     "data": {
      "text/html": [
       "<div>\n",
       "<style scoped>\n",
       "    .dataframe tbody tr th:only-of-type {\n",
       "        vertical-align: middle;\n",
       "    }\n",
       "\n",
       "    .dataframe tbody tr th {\n",
       "        vertical-align: top;\n",
       "    }\n",
       "\n",
       "    .dataframe thead th {\n",
       "        text-align: right;\n",
       "    }\n",
       "</style>\n",
       "<table border=\"1\" class=\"dataframe\">\n",
       "  <thead>\n",
       "    <tr style=\"text-align: right;\">\n",
       "      <th></th>\n",
       "      <th>meat_exports</th>\n",
       "    </tr>\n",
       "    <tr>\n",
       "      <th>month</th>\n",
       "      <th></th>\n",
       "    </tr>\n",
       "  </thead>\n",
       "  <tbody>\n",
       "    <tr>\n",
       "      <th>1990-01-31</th>\n",
       "      <td>88.666667</td>\n",
       "    </tr>\n",
       "    <tr>\n",
       "      <th>1990-02-28</th>\n",
       "      <td>88.666667</td>\n",
       "    </tr>\n",
       "    <tr>\n",
       "      <th>1990-03-31</th>\n",
       "      <td>88.666667</td>\n",
       "    </tr>\n",
       "    <tr>\n",
       "      <th>1990-04-30</th>\n",
       "      <td>88.666667</td>\n",
       "    </tr>\n",
       "    <tr>\n",
       "      <th>1990-05-31</th>\n",
       "      <td>88.666667</td>\n",
       "    </tr>\n",
       "    <tr>\n",
       "      <th>...</th>\n",
       "      <td>...</td>\n",
       "    </tr>\n",
       "    <tr>\n",
       "      <th>2021-08-31</th>\n",
       "      <td>110.000000</td>\n",
       "    </tr>\n",
       "    <tr>\n",
       "      <th>2021-09-30</th>\n",
       "      <td>110.000000</td>\n",
       "    </tr>\n",
       "    <tr>\n",
       "      <th>2021-10-31</th>\n",
       "      <td>110.000000</td>\n",
       "    </tr>\n",
       "    <tr>\n",
       "      <th>2021-11-30</th>\n",
       "      <td>110.000000</td>\n",
       "    </tr>\n",
       "    <tr>\n",
       "      <th>2021-12-31</th>\n",
       "      <td>110.000000</td>\n",
       "    </tr>\n",
       "  </tbody>\n",
       "</table>\n",
       "<p>384 rows × 1 columns</p>\n",
       "</div>"
      ],
      "text/plain": [
       "            meat_exports\n",
       "month                   \n",
       "1990-01-31     88.666667\n",
       "1990-02-28     88.666667\n",
       "1990-03-31     88.666667\n",
       "1990-04-30     88.666667\n",
       "1990-05-31     88.666667\n",
       "...                  ...\n",
       "2021-08-31    110.000000\n",
       "2021-09-30    110.000000\n",
       "2021-10-31    110.000000\n",
       "2021-11-30    110.000000\n",
       "2021-12-31    110.000000\n",
       "\n",
       "[384 rows x 1 columns]"
      ]
     },
     "execution_count": 41,
     "metadata": {},
     "output_type": "execute_result"
    }
   ],
   "source": [
    "df_exports_aus_M"
   ]
  },
  {
   "cell_type": "markdown",
   "id": "ce098209",
   "metadata": {},
   "source": [
    "# Australia Beef and Veal Meat Imports by Year"
   ]
  },
  {
   "cell_type": "code",
   "execution_count": 42,
   "id": "74acb37a",
   "metadata": {},
   "outputs": [],
   "source": [
    "df_imports_aus = pd.read_csv(\"data/aus/au-beef-and-veal-meat-imports.csv\")"
   ]
  },
  {
   "cell_type": "code",
   "execution_count": 43,
   "id": "54ddae8b",
   "metadata": {},
   "outputs": [
    {
     "data": {
      "text/html": [
       "<div>\n",
       "<style scoped>\n",
       "    .dataframe tbody tr th:only-of-type {\n",
       "        vertical-align: middle;\n",
       "    }\n",
       "\n",
       "    .dataframe tbody tr th {\n",
       "        vertical-align: top;\n",
       "    }\n",
       "\n",
       "    .dataframe thead th {\n",
       "        text-align: right;\n",
       "    }\n",
       "</style>\n",
       "<table border=\"1\" class=\"dataframe\">\n",
       "  <thead>\n",
       "    <tr style=\"text-align: right;\">\n",
       "      <th></th>\n",
       "      <th>Market Year</th>\n",
       "      <th>Value</th>\n",
       "      <th>Unit Description</th>\n",
       "    </tr>\n",
       "  </thead>\n",
       "  <tbody>\n",
       "    <tr>\n",
       "      <th>0</th>\n",
       "      <td>1960</td>\n",
       "      <td>0</td>\n",
       "      <td>(1000 MT CWE)</td>\n",
       "    </tr>\n",
       "    <tr>\n",
       "      <th>1</th>\n",
       "      <td>1961</td>\n",
       "      <td>0</td>\n",
       "      <td>(1000 MT CWE)</td>\n",
       "    </tr>\n",
       "    <tr>\n",
       "      <th>2</th>\n",
       "      <td>1962</td>\n",
       "      <td>0</td>\n",
       "      <td>(1000 MT CWE)</td>\n",
       "    </tr>\n",
       "    <tr>\n",
       "      <th>3</th>\n",
       "      <td>1963</td>\n",
       "      <td>0</td>\n",
       "      <td>(1000 MT CWE)</td>\n",
       "    </tr>\n",
       "    <tr>\n",
       "      <th>4</th>\n",
       "      <td>1964</td>\n",
       "      <td>0</td>\n",
       "      <td>(1000 MT CWE)</td>\n",
       "    </tr>\n",
       "    <tr>\n",
       "      <th>...</th>\n",
       "      <td>...</td>\n",
       "      <td>...</td>\n",
       "      <td>...</td>\n",
       "    </tr>\n",
       "    <tr>\n",
       "      <th>58</th>\n",
       "      <td>2018</td>\n",
       "      <td>14</td>\n",
       "      <td>(1000 MT CWE)</td>\n",
       "    </tr>\n",
       "    <tr>\n",
       "      <th>59</th>\n",
       "      <td>2019</td>\n",
       "      <td>15</td>\n",
       "      <td>(1000 MT CWE)</td>\n",
       "    </tr>\n",
       "    <tr>\n",
       "      <th>60</th>\n",
       "      <td>2020</td>\n",
       "      <td>17</td>\n",
       "      <td>(1000 MT CWE)</td>\n",
       "    </tr>\n",
       "    <tr>\n",
       "      <th>61</th>\n",
       "      <td>2021</td>\n",
       "      <td>25</td>\n",
       "      <td>(1000 MT CWE)</td>\n",
       "    </tr>\n",
       "    <tr>\n",
       "      <th>62</th>\n",
       "      <td>2022</td>\n",
       "      <td>20</td>\n",
       "      <td>(1000 MT CWE)</td>\n",
       "    </tr>\n",
       "  </tbody>\n",
       "</table>\n",
       "<p>63 rows × 3 columns</p>\n",
       "</div>"
      ],
      "text/plain": [
       "    Market Year   Value  Unit Description\n",
       "0          1960       0     (1000 MT CWE)\n",
       "1          1961       0     (1000 MT CWE)\n",
       "2          1962       0     (1000 MT CWE)\n",
       "3          1963       0     (1000 MT CWE)\n",
       "4          1964       0     (1000 MT CWE)\n",
       "..          ...     ...               ...\n",
       "58         2018      14     (1000 MT CWE)\n",
       "59         2019      15     (1000 MT CWE)\n",
       "60         2020      17     (1000 MT CWE)\n",
       "61         2021      25     (1000 MT CWE)\n",
       "62         2022      20     (1000 MT CWE)\n",
       "\n",
       "[63 rows x 3 columns]"
      ]
     },
     "execution_count": 43,
     "metadata": {},
     "output_type": "execute_result"
    }
   ],
   "source": [
    "df_imports_aus"
   ]
  },
  {
   "cell_type": "code",
   "execution_count": 44,
   "id": "121d3499",
   "metadata": {},
   "outputs": [],
   "source": [
    "df_imports_aus_M = transform_indexmundi_yearly_data(df_imports_aus, \"meat_imports\")"
   ]
  },
  {
   "cell_type": "code",
   "execution_count": 45,
   "id": "4d41e09e",
   "metadata": {},
   "outputs": [
    {
     "data": {
      "text/plain": [
       "meat_imports    0\n",
       "dtype: int64"
      ]
     },
     "execution_count": 45,
     "metadata": {},
     "output_type": "execute_result"
    }
   ],
   "source": [
    "df_imports_aus_M.isnull().sum()"
   ]
  },
  {
   "cell_type": "code",
   "execution_count": 46,
   "id": "55c9dd5b",
   "metadata": {},
   "outputs": [
    {
     "name": "stdout",
     "output_type": "stream",
     "text": [
      "<class 'pandas.core.frame.DataFrame'>\n",
      "DatetimeIndex: 384 entries, 1990-01-31 to 2021-12-31\n",
      "Freq: M\n",
      "Data columns (total 1 columns):\n",
      " #   Column        Non-Null Count  Dtype  \n",
      "---  ------        --------------  -----  \n",
      " 0   meat_imports  384 non-null    float64\n",
      "dtypes: float64(1)\n",
      "memory usage: 6.0 KB\n"
     ]
    }
   ],
   "source": [
    "df_imports_aus_M.info()"
   ]
  },
  {
   "cell_type": "markdown",
   "id": "75cc7605",
   "metadata": {},
   "source": [
    "## final output"
   ]
  },
  {
   "cell_type": "code",
   "execution_count": 47,
   "id": "4f296e86",
   "metadata": {},
   "outputs": [
    {
     "data": {
      "text/html": [
       "<div>\n",
       "<style scoped>\n",
       "    .dataframe tbody tr th:only-of-type {\n",
       "        vertical-align: middle;\n",
       "    }\n",
       "\n",
       "    .dataframe tbody tr th {\n",
       "        vertical-align: top;\n",
       "    }\n",
       "\n",
       "    .dataframe thead th {\n",
       "        text-align: right;\n",
       "    }\n",
       "</style>\n",
       "<table border=\"1\" class=\"dataframe\">\n",
       "  <thead>\n",
       "    <tr style=\"text-align: right;\">\n",
       "      <th></th>\n",
       "      <th>meat_imports</th>\n",
       "    </tr>\n",
       "    <tr>\n",
       "      <th>month</th>\n",
       "      <th></th>\n",
       "    </tr>\n",
       "  </thead>\n",
       "  <tbody>\n",
       "    <tr>\n",
       "      <th>1990-01-31</th>\n",
       "      <td>0.000000</td>\n",
       "    </tr>\n",
       "    <tr>\n",
       "      <th>1990-02-28</th>\n",
       "      <td>0.000000</td>\n",
       "    </tr>\n",
       "    <tr>\n",
       "      <th>1990-03-31</th>\n",
       "      <td>0.000000</td>\n",
       "    </tr>\n",
       "    <tr>\n",
       "      <th>1990-04-30</th>\n",
       "      <td>0.000000</td>\n",
       "    </tr>\n",
       "    <tr>\n",
       "      <th>1990-05-31</th>\n",
       "      <td>0.000000</td>\n",
       "    </tr>\n",
       "    <tr>\n",
       "      <th>...</th>\n",
       "      <td>...</td>\n",
       "    </tr>\n",
       "    <tr>\n",
       "      <th>2021-08-31</th>\n",
       "      <td>2.083333</td>\n",
       "    </tr>\n",
       "    <tr>\n",
       "      <th>2021-09-30</th>\n",
       "      <td>2.083333</td>\n",
       "    </tr>\n",
       "    <tr>\n",
       "      <th>2021-10-31</th>\n",
       "      <td>2.083333</td>\n",
       "    </tr>\n",
       "    <tr>\n",
       "      <th>2021-11-30</th>\n",
       "      <td>2.083333</td>\n",
       "    </tr>\n",
       "    <tr>\n",
       "      <th>2021-12-31</th>\n",
       "      <td>2.083333</td>\n",
       "    </tr>\n",
       "  </tbody>\n",
       "</table>\n",
       "<p>384 rows × 1 columns</p>\n",
       "</div>"
      ],
      "text/plain": [
       "            meat_imports\n",
       "month                   \n",
       "1990-01-31      0.000000\n",
       "1990-02-28      0.000000\n",
       "1990-03-31      0.000000\n",
       "1990-04-30      0.000000\n",
       "1990-05-31      0.000000\n",
       "...                  ...\n",
       "2021-08-31      2.083333\n",
       "2021-09-30      2.083333\n",
       "2021-10-31      2.083333\n",
       "2021-11-30      2.083333\n",
       "2021-12-31      2.083333\n",
       "\n",
       "[384 rows x 1 columns]"
      ]
     },
     "execution_count": 47,
     "metadata": {},
     "output_type": "execute_result"
    }
   ],
   "source": [
    "df_imports_aus_M"
   ]
  },
  {
   "cell_type": "markdown",
   "id": "cb9f2296",
   "metadata": {},
   "source": [
    "# Australia Beef and Veal Meat Total Distribution by Year\n",
    "\n",
    "https://www.indexmundi.com/agriculture/?country=au&commodity=beef-and-veal-meat&graph=total-distribution"
   ]
  },
  {
   "cell_type": "code",
   "execution_count": 48,
   "id": "44171132",
   "metadata": {},
   "outputs": [],
   "source": [
    "df_meat_dist_aus = pd.read_csv(\"data/aus/au-beef-and-veal-meat-total-distribution.csv\")"
   ]
  },
  {
   "cell_type": "code",
   "execution_count": 49,
   "id": "5c770884",
   "metadata": {},
   "outputs": [
    {
     "data": {
      "text/html": [
       "<div>\n",
       "<style scoped>\n",
       "    .dataframe tbody tr th:only-of-type {\n",
       "        vertical-align: middle;\n",
       "    }\n",
       "\n",
       "    .dataframe tbody tr th {\n",
       "        vertical-align: top;\n",
       "    }\n",
       "\n",
       "    .dataframe thead th {\n",
       "        text-align: right;\n",
       "    }\n",
       "</style>\n",
       "<table border=\"1\" class=\"dataframe\">\n",
       "  <thead>\n",
       "    <tr style=\"text-align: right;\">\n",
       "      <th></th>\n",
       "      <th>Market Year</th>\n",
       "      <th>Value</th>\n",
       "      <th>Unit Description</th>\n",
       "    </tr>\n",
       "  </thead>\n",
       "  <tbody>\n",
       "    <tr>\n",
       "      <th>0</th>\n",
       "      <td>1960</td>\n",
       "      <td>701</td>\n",
       "      <td>(1000 MT CWE)</td>\n",
       "    </tr>\n",
       "    <tr>\n",
       "      <th>1</th>\n",
       "      <td>1961</td>\n",
       "      <td>745</td>\n",
       "      <td>(1000 MT CWE)</td>\n",
       "    </tr>\n",
       "    <tr>\n",
       "      <th>2</th>\n",
       "      <td>1962</td>\n",
       "      <td>903</td>\n",
       "      <td>(1000 MT CWE)</td>\n",
       "    </tr>\n",
       "    <tr>\n",
       "      <th>3</th>\n",
       "      <td>1963</td>\n",
       "      <td>976</td>\n",
       "      <td>(1000 MT CWE)</td>\n",
       "    </tr>\n",
       "    <tr>\n",
       "      <th>4</th>\n",
       "      <td>1964</td>\n",
       "      <td>1022</td>\n",
       "      <td>(1000 MT CWE)</td>\n",
       "    </tr>\n",
       "    <tr>\n",
       "      <th>...</th>\n",
       "      <td>...</td>\n",
       "      <td>...</td>\n",
       "      <td>...</td>\n",
       "    </tr>\n",
       "    <tr>\n",
       "      <th>58</th>\n",
       "      <td>2018</td>\n",
       "      <td>2323</td>\n",
       "      <td>(1000 MT CWE)</td>\n",
       "    </tr>\n",
       "    <tr>\n",
       "      <th>59</th>\n",
       "      <td>2019</td>\n",
       "      <td>2447</td>\n",
       "      <td>(1000 MT CWE)</td>\n",
       "    </tr>\n",
       "    <tr>\n",
       "      <th>60</th>\n",
       "      <td>2020</td>\n",
       "      <td>2142</td>\n",
       "      <td>(1000 MT CWE)</td>\n",
       "    </tr>\n",
       "    <tr>\n",
       "      <th>61</th>\n",
       "      <td>2021</td>\n",
       "      <td>1925</td>\n",
       "      <td>(1000 MT CWE)</td>\n",
       "    </tr>\n",
       "    <tr>\n",
       "      <th>62</th>\n",
       "      <td>2022</td>\n",
       "      <td>2135</td>\n",
       "      <td>(1000 MT CWE)</td>\n",
       "    </tr>\n",
       "  </tbody>\n",
       "</table>\n",
       "<p>63 rows × 3 columns</p>\n",
       "</div>"
      ],
      "text/plain": [
       "    Market Year   Value  Unit Description\n",
       "0          1960     701     (1000 MT CWE)\n",
       "1          1961     745     (1000 MT CWE)\n",
       "2          1962     903     (1000 MT CWE)\n",
       "3          1963     976     (1000 MT CWE)\n",
       "4          1964    1022     (1000 MT CWE)\n",
       "..          ...     ...               ...\n",
       "58         2018    2323     (1000 MT CWE)\n",
       "59         2019    2447     (1000 MT CWE)\n",
       "60         2020    2142     (1000 MT CWE)\n",
       "61         2021    1925     (1000 MT CWE)\n",
       "62         2022    2135     (1000 MT CWE)\n",
       "\n",
       "[63 rows x 3 columns]"
      ]
     },
     "execution_count": 49,
     "metadata": {},
     "output_type": "execute_result"
    }
   ],
   "source": [
    "df_meat_dist_aus"
   ]
  },
  {
   "cell_type": "code",
   "execution_count": 50,
   "id": "cae9345f",
   "metadata": {},
   "outputs": [],
   "source": [
    "df_meat_dist_aus_M = transform_indexmundi_yearly_data(df_meat_dist_aus, \"meat_distribution\")"
   ]
  },
  {
   "cell_type": "code",
   "execution_count": 51,
   "id": "eb12ffa2",
   "metadata": {},
   "outputs": [
    {
     "data": {
      "text/plain": [
       "meat_distribution    0\n",
       "dtype: int64"
      ]
     },
     "execution_count": 51,
     "metadata": {},
     "output_type": "execute_result"
    }
   ],
   "source": [
    "df_meat_dist_aus_M.isnull().sum()"
   ]
  },
  {
   "cell_type": "code",
   "execution_count": 52,
   "id": "6dd7fb66",
   "metadata": {},
   "outputs": [
    {
     "name": "stdout",
     "output_type": "stream",
     "text": [
      "<class 'pandas.core.frame.DataFrame'>\n",
      "DatetimeIndex: 384 entries, 1990-01-31 to 2021-12-31\n",
      "Freq: M\n",
      "Data columns (total 1 columns):\n",
      " #   Column             Non-Null Count  Dtype  \n",
      "---  ------             --------------  -----  \n",
      " 0   meat_distribution  384 non-null    float64\n",
      "dtypes: float64(1)\n",
      "memory usage: 6.0 KB\n"
     ]
    }
   ],
   "source": [
    "df_meat_dist_aus_M.info()"
   ]
  },
  {
   "cell_type": "markdown",
   "id": "dbcedf78",
   "metadata": {},
   "source": [
    "## final output"
   ]
  },
  {
   "cell_type": "code",
   "execution_count": 53,
   "id": "a44508c3",
   "metadata": {},
   "outputs": [
    {
     "data": {
      "text/html": [
       "<div>\n",
       "<style scoped>\n",
       "    .dataframe tbody tr th:only-of-type {\n",
       "        vertical-align: middle;\n",
       "    }\n",
       "\n",
       "    .dataframe tbody tr th {\n",
       "        vertical-align: top;\n",
       "    }\n",
       "\n",
       "    .dataframe thead th {\n",
       "        text-align: right;\n",
       "    }\n",
       "</style>\n",
       "<table border=\"1\" class=\"dataframe\">\n",
       "  <thead>\n",
       "    <tr style=\"text-align: right;\">\n",
       "      <th></th>\n",
       "      <th>meat_distribution</th>\n",
       "    </tr>\n",
       "    <tr>\n",
       "      <th>month</th>\n",
       "      <th></th>\n",
       "    </tr>\n",
       "  </thead>\n",
       "  <tbody>\n",
       "    <tr>\n",
       "      <th>1990-01-31</th>\n",
       "      <td>145.333333</td>\n",
       "    </tr>\n",
       "    <tr>\n",
       "      <th>1990-02-28</th>\n",
       "      <td>145.333333</td>\n",
       "    </tr>\n",
       "    <tr>\n",
       "      <th>1990-03-31</th>\n",
       "      <td>145.333333</td>\n",
       "    </tr>\n",
       "    <tr>\n",
       "      <th>1990-04-30</th>\n",
       "      <td>145.333333</td>\n",
       "    </tr>\n",
       "    <tr>\n",
       "      <th>1990-05-31</th>\n",
       "      <td>145.333333</td>\n",
       "    </tr>\n",
       "    <tr>\n",
       "      <th>...</th>\n",
       "      <td>...</td>\n",
       "    </tr>\n",
       "    <tr>\n",
       "      <th>2021-08-31</th>\n",
       "      <td>160.416667</td>\n",
       "    </tr>\n",
       "    <tr>\n",
       "      <th>2021-09-30</th>\n",
       "      <td>160.416667</td>\n",
       "    </tr>\n",
       "    <tr>\n",
       "      <th>2021-10-31</th>\n",
       "      <td>160.416667</td>\n",
       "    </tr>\n",
       "    <tr>\n",
       "      <th>2021-11-30</th>\n",
       "      <td>160.416667</td>\n",
       "    </tr>\n",
       "    <tr>\n",
       "      <th>2021-12-31</th>\n",
       "      <td>160.416667</td>\n",
       "    </tr>\n",
       "  </tbody>\n",
       "</table>\n",
       "<p>384 rows × 1 columns</p>\n",
       "</div>"
      ],
      "text/plain": [
       "            meat_distribution\n",
       "month                        \n",
       "1990-01-31         145.333333\n",
       "1990-02-28         145.333333\n",
       "1990-03-31         145.333333\n",
       "1990-04-30         145.333333\n",
       "1990-05-31         145.333333\n",
       "...                       ...\n",
       "2021-08-31         160.416667\n",
       "2021-09-30         160.416667\n",
       "2021-10-31         160.416667\n",
       "2021-11-30         160.416667\n",
       "2021-12-31         160.416667\n",
       "\n",
       "[384 rows x 1 columns]"
      ]
     },
     "execution_count": 53,
     "metadata": {},
     "output_type": "execute_result"
    }
   ],
   "source": [
    "df_meat_dist_aus_M"
   ]
  },
  {
   "cell_type": "markdown",
   "id": "e69980c2",
   "metadata": {},
   "source": [
    "# Australia Beef and Veal Meat Total Supply by Year\n",
    "\n",
    "https://www.indexmundi.com/agriculture/?country=au&commodity=beef-and-veal-meat&graph=total-supply"
   ]
  },
  {
   "cell_type": "code",
   "execution_count": 54,
   "id": "639b6a93",
   "metadata": {},
   "outputs": [],
   "source": [
    "df_beef_supply_aus = pd.read_csv(\"data/aus/au-beef-and-veal-meat-total-supply.csv\")"
   ]
  },
  {
   "cell_type": "code",
   "execution_count": 55,
   "id": "01a91ba5",
   "metadata": {},
   "outputs": [
    {
     "data": {
      "text/html": [
       "<div>\n",
       "<style scoped>\n",
       "    .dataframe tbody tr th:only-of-type {\n",
       "        vertical-align: middle;\n",
       "    }\n",
       "\n",
       "    .dataframe tbody tr th {\n",
       "        vertical-align: top;\n",
       "    }\n",
       "\n",
       "    .dataframe thead th {\n",
       "        text-align: right;\n",
       "    }\n",
       "</style>\n",
       "<table border=\"1\" class=\"dataframe\">\n",
       "  <thead>\n",
       "    <tr style=\"text-align: right;\">\n",
       "      <th></th>\n",
       "      <th>Market Year</th>\n",
       "      <th>Value</th>\n",
       "      <th>Unit Description</th>\n",
       "    </tr>\n",
       "  </thead>\n",
       "  <tbody>\n",
       "    <tr>\n",
       "      <th>0</th>\n",
       "      <td>1960</td>\n",
       "      <td>701</td>\n",
       "      <td>(1000 MT CWE)</td>\n",
       "    </tr>\n",
       "    <tr>\n",
       "      <th>1</th>\n",
       "      <td>1961</td>\n",
       "      <td>745</td>\n",
       "      <td>(1000 MT CWE)</td>\n",
       "    </tr>\n",
       "    <tr>\n",
       "      <th>2</th>\n",
       "      <td>1962</td>\n",
       "      <td>903</td>\n",
       "      <td>(1000 MT CWE)</td>\n",
       "    </tr>\n",
       "    <tr>\n",
       "      <th>3</th>\n",
       "      <td>1963</td>\n",
       "      <td>976</td>\n",
       "      <td>(1000 MT CWE)</td>\n",
       "    </tr>\n",
       "    <tr>\n",
       "      <th>4</th>\n",
       "      <td>1964</td>\n",
       "      <td>1022</td>\n",
       "      <td>(1000 MT CWE)</td>\n",
       "    </tr>\n",
       "    <tr>\n",
       "      <th>...</th>\n",
       "      <td>...</td>\n",
       "      <td>...</td>\n",
       "      <td>...</td>\n",
       "    </tr>\n",
       "    <tr>\n",
       "      <th>58</th>\n",
       "      <td>2018</td>\n",
       "      <td>2323</td>\n",
       "      <td>(1000 MT CWE)</td>\n",
       "    </tr>\n",
       "    <tr>\n",
       "      <th>59</th>\n",
       "      <td>2019</td>\n",
       "      <td>2447</td>\n",
       "      <td>(1000 MT CWE)</td>\n",
       "    </tr>\n",
       "    <tr>\n",
       "      <th>60</th>\n",
       "      <td>2020</td>\n",
       "      <td>2142</td>\n",
       "      <td>(1000 MT CWE)</td>\n",
       "    </tr>\n",
       "    <tr>\n",
       "      <th>61</th>\n",
       "      <td>2021</td>\n",
       "      <td>1925</td>\n",
       "      <td>(1000 MT CWE)</td>\n",
       "    </tr>\n",
       "    <tr>\n",
       "      <th>62</th>\n",
       "      <td>2022</td>\n",
       "      <td>2135</td>\n",
       "      <td>(1000 MT CWE)</td>\n",
       "    </tr>\n",
       "  </tbody>\n",
       "</table>\n",
       "<p>63 rows × 3 columns</p>\n",
       "</div>"
      ],
      "text/plain": [
       "    Market Year   Value  Unit Description\n",
       "0          1960     701     (1000 MT CWE)\n",
       "1          1961     745     (1000 MT CWE)\n",
       "2          1962     903     (1000 MT CWE)\n",
       "3          1963     976     (1000 MT CWE)\n",
       "4          1964    1022     (1000 MT CWE)\n",
       "..          ...     ...               ...\n",
       "58         2018    2323     (1000 MT CWE)\n",
       "59         2019    2447     (1000 MT CWE)\n",
       "60         2020    2142     (1000 MT CWE)\n",
       "61         2021    1925     (1000 MT CWE)\n",
       "62         2022    2135     (1000 MT CWE)\n",
       "\n",
       "[63 rows x 3 columns]"
      ]
     },
     "execution_count": 55,
     "metadata": {},
     "output_type": "execute_result"
    }
   ],
   "source": [
    "df_beef_supply_aus"
   ]
  },
  {
   "cell_type": "code",
   "execution_count": 56,
   "id": "52c610ff",
   "metadata": {},
   "outputs": [],
   "source": [
    "df_beef_supply_aus_M = transform_indexmundi_yearly_data(df_beef_supply_aus, \"meat_supply\")"
   ]
  },
  {
   "cell_type": "code",
   "execution_count": 57,
   "id": "213c1993",
   "metadata": {},
   "outputs": [
    {
     "data": {
      "text/plain": [
       "meat_supply    0\n",
       "dtype: int64"
      ]
     },
     "execution_count": 57,
     "metadata": {},
     "output_type": "execute_result"
    }
   ],
   "source": [
    "df_beef_supply_aus_M.isnull().sum()"
   ]
  },
  {
   "cell_type": "code",
   "execution_count": 58,
   "id": "4d59f84d",
   "metadata": {},
   "outputs": [
    {
     "name": "stdout",
     "output_type": "stream",
     "text": [
      "<class 'pandas.core.frame.DataFrame'>\n",
      "DatetimeIndex: 384 entries, 1990-01-31 to 2021-12-31\n",
      "Freq: M\n",
      "Data columns (total 1 columns):\n",
      " #   Column       Non-Null Count  Dtype  \n",
      "---  ------       --------------  -----  \n",
      " 0   meat_supply  384 non-null    float64\n",
      "dtypes: float64(1)\n",
      "memory usage: 6.0 KB\n"
     ]
    }
   ],
   "source": [
    "df_beef_supply_aus_M.info()"
   ]
  },
  {
   "cell_type": "markdown",
   "id": "941ef0ed",
   "metadata": {},
   "source": [
    "## final output"
   ]
  },
  {
   "cell_type": "code",
   "execution_count": 59,
   "id": "60ca0de7",
   "metadata": {},
   "outputs": [
    {
     "data": {
      "text/html": [
       "<div>\n",
       "<style scoped>\n",
       "    .dataframe tbody tr th:only-of-type {\n",
       "        vertical-align: middle;\n",
       "    }\n",
       "\n",
       "    .dataframe tbody tr th {\n",
       "        vertical-align: top;\n",
       "    }\n",
       "\n",
       "    .dataframe thead th {\n",
       "        text-align: right;\n",
       "    }\n",
       "</style>\n",
       "<table border=\"1\" class=\"dataframe\">\n",
       "  <thead>\n",
       "    <tr style=\"text-align: right;\">\n",
       "      <th></th>\n",
       "      <th>meat_supply</th>\n",
       "    </tr>\n",
       "    <tr>\n",
       "      <th>month</th>\n",
       "      <th></th>\n",
       "    </tr>\n",
       "  </thead>\n",
       "  <tbody>\n",
       "    <tr>\n",
       "      <th>1990-01-31</th>\n",
       "      <td>145.333333</td>\n",
       "    </tr>\n",
       "    <tr>\n",
       "      <th>1990-02-28</th>\n",
       "      <td>145.333333</td>\n",
       "    </tr>\n",
       "    <tr>\n",
       "      <th>1990-03-31</th>\n",
       "      <td>145.333333</td>\n",
       "    </tr>\n",
       "    <tr>\n",
       "      <th>1990-04-30</th>\n",
       "      <td>145.333333</td>\n",
       "    </tr>\n",
       "    <tr>\n",
       "      <th>1990-05-31</th>\n",
       "      <td>145.333333</td>\n",
       "    </tr>\n",
       "    <tr>\n",
       "      <th>...</th>\n",
       "      <td>...</td>\n",
       "    </tr>\n",
       "    <tr>\n",
       "      <th>2021-08-31</th>\n",
       "      <td>160.416667</td>\n",
       "    </tr>\n",
       "    <tr>\n",
       "      <th>2021-09-30</th>\n",
       "      <td>160.416667</td>\n",
       "    </tr>\n",
       "    <tr>\n",
       "      <th>2021-10-31</th>\n",
       "      <td>160.416667</td>\n",
       "    </tr>\n",
       "    <tr>\n",
       "      <th>2021-11-30</th>\n",
       "      <td>160.416667</td>\n",
       "    </tr>\n",
       "    <tr>\n",
       "      <th>2021-12-31</th>\n",
       "      <td>160.416667</td>\n",
       "    </tr>\n",
       "  </tbody>\n",
       "</table>\n",
       "<p>384 rows × 1 columns</p>\n",
       "</div>"
      ],
      "text/plain": [
       "            meat_supply\n",
       "month                  \n",
       "1990-01-31   145.333333\n",
       "1990-02-28   145.333333\n",
       "1990-03-31   145.333333\n",
       "1990-04-30   145.333333\n",
       "1990-05-31   145.333333\n",
       "...                 ...\n",
       "2021-08-31   160.416667\n",
       "2021-09-30   160.416667\n",
       "2021-10-31   160.416667\n",
       "2021-11-30   160.416667\n",
       "2021-12-31   160.416667\n",
       "\n",
       "[384 rows x 1 columns]"
      ]
     },
     "execution_count": 59,
     "metadata": {},
     "output_type": "execute_result"
    }
   ],
   "source": [
    "df_beef_supply_aus_M"
   ]
  },
  {
   "cell_type": "markdown",
   "id": "531f20c9",
   "metadata": {},
   "source": [
    "# Australia Animal Numbers, Cattle Production by Year\n",
    "\n",
    "https://www.indexmundi.com/agriculture/?country=au&commodity=cattle&graph=production"
   ]
  },
  {
   "cell_type": "code",
   "execution_count": 60,
   "id": "0582601b",
   "metadata": {},
   "outputs": [],
   "source": [
    "df_cattle_production_aus = pd.read_csv(\"data/aus/au-cattle-production.csv\")"
   ]
  },
  {
   "cell_type": "code",
   "execution_count": 61,
   "id": "9fe17ce8",
   "metadata": {},
   "outputs": [
    {
     "data": {
      "text/html": [
       "<div>\n",
       "<style scoped>\n",
       "    .dataframe tbody tr th:only-of-type {\n",
       "        vertical-align: middle;\n",
       "    }\n",
       "\n",
       "    .dataframe tbody tr th {\n",
       "        vertical-align: top;\n",
       "    }\n",
       "\n",
       "    .dataframe thead th {\n",
       "        text-align: right;\n",
       "    }\n",
       "</style>\n",
       "<table border=\"1\" class=\"dataframe\">\n",
       "  <thead>\n",
       "    <tr style=\"text-align: right;\">\n",
       "      <th></th>\n",
       "      <th>Market Year</th>\n",
       "      <th>Value</th>\n",
       "      <th>Unit Description</th>\n",
       "    </tr>\n",
       "  </thead>\n",
       "  <tbody>\n",
       "    <tr>\n",
       "      <th>0</th>\n",
       "      <td>1960</td>\n",
       "      <td>0</td>\n",
       "      <td>(1000 HEAD)</td>\n",
       "    </tr>\n",
       "    <tr>\n",
       "      <th>1</th>\n",
       "      <td>1961</td>\n",
       "      <td>0</td>\n",
       "      <td>(1000 HEAD)</td>\n",
       "    </tr>\n",
       "    <tr>\n",
       "      <th>2</th>\n",
       "      <td>1962</td>\n",
       "      <td>0</td>\n",
       "      <td>(1000 HEAD)</td>\n",
       "    </tr>\n",
       "    <tr>\n",
       "      <th>3</th>\n",
       "      <td>1963</td>\n",
       "      <td>0</td>\n",
       "      <td>(1000 HEAD)</td>\n",
       "    </tr>\n",
       "    <tr>\n",
       "      <th>4</th>\n",
       "      <td>1964</td>\n",
       "      <td>0</td>\n",
       "      <td>(1000 HEAD)</td>\n",
       "    </tr>\n",
       "    <tr>\n",
       "      <th>...</th>\n",
       "      <td>...</td>\n",
       "      <td>...</td>\n",
       "      <td>...</td>\n",
       "    </tr>\n",
       "    <tr>\n",
       "      <th>58</th>\n",
       "      <td>2018</td>\n",
       "      <td>9100</td>\n",
       "      <td>(1000 HEAD)</td>\n",
       "    </tr>\n",
       "    <tr>\n",
       "      <th>59</th>\n",
       "      <td>2019</td>\n",
       "      <td>8700</td>\n",
       "      <td>(1000 HEAD)</td>\n",
       "    </tr>\n",
       "    <tr>\n",
       "      <th>60</th>\n",
       "      <td>2020</td>\n",
       "      <td>8300</td>\n",
       "      <td>(1000 HEAD)</td>\n",
       "    </tr>\n",
       "    <tr>\n",
       "      <th>61</th>\n",
       "      <td>2021</td>\n",
       "      <td>8200</td>\n",
       "      <td>(1000 HEAD)</td>\n",
       "    </tr>\n",
       "    <tr>\n",
       "      <th>62</th>\n",
       "      <td>2022</td>\n",
       "      <td>8800</td>\n",
       "      <td>(1000 HEAD)</td>\n",
       "    </tr>\n",
       "  </tbody>\n",
       "</table>\n",
       "<p>63 rows × 3 columns</p>\n",
       "</div>"
      ],
      "text/plain": [
       "    Market Year   Value  Unit Description\n",
       "0          1960       0       (1000 HEAD)\n",
       "1          1961       0       (1000 HEAD)\n",
       "2          1962       0       (1000 HEAD)\n",
       "3          1963       0       (1000 HEAD)\n",
       "4          1964       0       (1000 HEAD)\n",
       "..          ...     ...               ...\n",
       "58         2018    9100       (1000 HEAD)\n",
       "59         2019    8700       (1000 HEAD)\n",
       "60         2020    8300       (1000 HEAD)\n",
       "61         2021    8200       (1000 HEAD)\n",
       "62         2022    8800       (1000 HEAD)\n",
       "\n",
       "[63 rows x 3 columns]"
      ]
     },
     "execution_count": 61,
     "metadata": {},
     "output_type": "execute_result"
    }
   ],
   "source": [
    "df_cattle_production_aus"
   ]
  },
  {
   "cell_type": "code",
   "execution_count": 62,
   "id": "ca808c6e",
   "metadata": {},
   "outputs": [],
   "source": [
    "df_cattle_production_aus_M = transform_indexmundi_yearly_data(df_cattle_production_aus, \"cattle_production\" )"
   ]
  },
  {
   "cell_type": "code",
   "execution_count": 63,
   "id": "85f09e5b",
   "metadata": {},
   "outputs": [
    {
     "data": {
      "text/plain": [
       "cattle_production    0\n",
       "dtype: int64"
      ]
     },
     "execution_count": 63,
     "metadata": {},
     "output_type": "execute_result"
    }
   ],
   "source": [
    "df_cattle_production_aus_M.isnull().sum()"
   ]
  },
  {
   "cell_type": "code",
   "execution_count": 64,
   "id": "a04c4f77",
   "metadata": {},
   "outputs": [
    {
     "name": "stdout",
     "output_type": "stream",
     "text": [
      "<class 'pandas.core.frame.DataFrame'>\n",
      "DatetimeIndex: 384 entries, 1990-01-31 to 2021-12-31\n",
      "Freq: M\n",
      "Data columns (total 1 columns):\n",
      " #   Column             Non-Null Count  Dtype  \n",
      "---  ------             --------------  -----  \n",
      " 0   cattle_production  384 non-null    float64\n",
      "dtypes: float64(1)\n",
      "memory usage: 6.0 KB\n"
     ]
    }
   ],
   "source": [
    "df_cattle_production_aus_M.info()"
   ]
  },
  {
   "cell_type": "markdown",
   "id": "b9681c7d",
   "metadata": {},
   "source": [
    "## final output"
   ]
  },
  {
   "cell_type": "code",
   "execution_count": 65,
   "id": "9195baef",
   "metadata": {},
   "outputs": [
    {
     "data": {
      "text/html": [
       "<div>\n",
       "<style scoped>\n",
       "    .dataframe tbody tr th:only-of-type {\n",
       "        vertical-align: middle;\n",
       "    }\n",
       "\n",
       "    .dataframe tbody tr th {\n",
       "        vertical-align: top;\n",
       "    }\n",
       "\n",
       "    .dataframe thead th {\n",
       "        text-align: right;\n",
       "    }\n",
       "</style>\n",
       "<table border=\"1\" class=\"dataframe\">\n",
       "  <thead>\n",
       "    <tr style=\"text-align: right;\">\n",
       "      <th></th>\n",
       "      <th>cattle_production</th>\n",
       "    </tr>\n",
       "    <tr>\n",
       "      <th>month</th>\n",
       "      <th></th>\n",
       "    </tr>\n",
       "  </thead>\n",
       "  <tbody>\n",
       "    <tr>\n",
       "      <th>1990-01-31</th>\n",
       "      <td>754.833333</td>\n",
       "    </tr>\n",
       "    <tr>\n",
       "      <th>1990-02-28</th>\n",
       "      <td>754.833333</td>\n",
       "    </tr>\n",
       "    <tr>\n",
       "      <th>1990-03-31</th>\n",
       "      <td>754.833333</td>\n",
       "    </tr>\n",
       "    <tr>\n",
       "      <th>1990-04-30</th>\n",
       "      <td>754.833333</td>\n",
       "    </tr>\n",
       "    <tr>\n",
       "      <th>1990-05-31</th>\n",
       "      <td>754.833333</td>\n",
       "    </tr>\n",
       "    <tr>\n",
       "      <th>...</th>\n",
       "      <td>...</td>\n",
       "    </tr>\n",
       "    <tr>\n",
       "      <th>2021-08-31</th>\n",
       "      <td>683.333333</td>\n",
       "    </tr>\n",
       "    <tr>\n",
       "      <th>2021-09-30</th>\n",
       "      <td>683.333333</td>\n",
       "    </tr>\n",
       "    <tr>\n",
       "      <th>2021-10-31</th>\n",
       "      <td>683.333333</td>\n",
       "    </tr>\n",
       "    <tr>\n",
       "      <th>2021-11-30</th>\n",
       "      <td>683.333333</td>\n",
       "    </tr>\n",
       "    <tr>\n",
       "      <th>2021-12-31</th>\n",
       "      <td>683.333333</td>\n",
       "    </tr>\n",
       "  </tbody>\n",
       "</table>\n",
       "<p>384 rows × 1 columns</p>\n",
       "</div>"
      ],
      "text/plain": [
       "            cattle_production\n",
       "month                        \n",
       "1990-01-31         754.833333\n",
       "1990-02-28         754.833333\n",
       "1990-03-31         754.833333\n",
       "1990-04-30         754.833333\n",
       "1990-05-31         754.833333\n",
       "...                       ...\n",
       "2021-08-31         683.333333\n",
       "2021-09-30         683.333333\n",
       "2021-10-31         683.333333\n",
       "2021-11-30         683.333333\n",
       "2021-12-31         683.333333\n",
       "\n",
       "[384 rows x 1 columns]"
      ]
     },
     "execution_count": 65,
     "metadata": {},
     "output_type": "execute_result"
    }
   ],
   "source": [
    "df_cattle_production_aus_M"
   ]
  },
  {
   "cell_type": "markdown",
   "id": "5e8fb7db",
   "metadata": {},
   "source": [
    "# Australia Animal Numbers, Swine Production by Year\n",
    "\n",
    "https://www.indexmundi.com/agriculture/?country=au&commodity=swine&graph=production"
   ]
  },
  {
   "cell_type": "code",
   "execution_count": 66,
   "id": "7b830293",
   "metadata": {},
   "outputs": [],
   "source": [
    "df_swine_production_aus = pd.read_csv(\"data/aus/au-swine-production.csv\")"
   ]
  },
  {
   "cell_type": "code",
   "execution_count": 67,
   "id": "ca207571",
   "metadata": {},
   "outputs": [
    {
     "data": {
      "text/html": [
       "<div>\n",
       "<style scoped>\n",
       "    .dataframe tbody tr th:only-of-type {\n",
       "        vertical-align: middle;\n",
       "    }\n",
       "\n",
       "    .dataframe tbody tr th {\n",
       "        vertical-align: top;\n",
       "    }\n",
       "\n",
       "    .dataframe thead th {\n",
       "        text-align: right;\n",
       "    }\n",
       "</style>\n",
       "<table border=\"1\" class=\"dataframe\">\n",
       "  <thead>\n",
       "    <tr style=\"text-align: right;\">\n",
       "      <th></th>\n",
       "      <th>Market Year</th>\n",
       "      <th>Value</th>\n",
       "      <th>Unit Description</th>\n",
       "    </tr>\n",
       "  </thead>\n",
       "  <tbody>\n",
       "    <tr>\n",
       "      <th>0</th>\n",
       "      <td>1960</td>\n",
       "      <td>0</td>\n",
       "      <td>(1000 HEAD)</td>\n",
       "    </tr>\n",
       "    <tr>\n",
       "      <th>1</th>\n",
       "      <td>1961</td>\n",
       "      <td>0</td>\n",
       "      <td>(1000 HEAD)</td>\n",
       "    </tr>\n",
       "    <tr>\n",
       "      <th>2</th>\n",
       "      <td>1962</td>\n",
       "      <td>0</td>\n",
       "      <td>(1000 HEAD)</td>\n",
       "    </tr>\n",
       "    <tr>\n",
       "      <th>3</th>\n",
       "      <td>1963</td>\n",
       "      <td>0</td>\n",
       "      <td>(1000 HEAD)</td>\n",
       "    </tr>\n",
       "    <tr>\n",
       "      <th>4</th>\n",
       "      <td>1964</td>\n",
       "      <td>0</td>\n",
       "      <td>(1000 HEAD)</td>\n",
       "    </tr>\n",
       "    <tr>\n",
       "      <th>5</th>\n",
       "      <td>1965</td>\n",
       "      <td>0</td>\n",
       "      <td>(1000 HEAD)</td>\n",
       "    </tr>\n",
       "    <tr>\n",
       "      <th>6</th>\n",
       "      <td>1966</td>\n",
       "      <td>0</td>\n",
       "      <td>(1000 HEAD)</td>\n",
       "    </tr>\n",
       "    <tr>\n",
       "      <th>7</th>\n",
       "      <td>1967</td>\n",
       "      <td>3202</td>\n",
       "      <td>(1000 HEAD)</td>\n",
       "    </tr>\n",
       "    <tr>\n",
       "      <th>8</th>\n",
       "      <td>1968</td>\n",
       "      <td>3379</td>\n",
       "      <td>(1000 HEAD)</td>\n",
       "    </tr>\n",
       "    <tr>\n",
       "      <th>9</th>\n",
       "      <td>1969</td>\n",
       "      <td>3676</td>\n",
       "      <td>(1000 HEAD)</td>\n",
       "    </tr>\n",
       "    <tr>\n",
       "      <th>10</th>\n",
       "      <td>1970</td>\n",
       "      <td>3822</td>\n",
       "      <td>(1000 HEAD)</td>\n",
       "    </tr>\n",
       "    <tr>\n",
       "      <th>11</th>\n",
       "      <td>1971</td>\n",
       "      <td>4374</td>\n",
       "      <td>(1000 HEAD)</td>\n",
       "    </tr>\n",
       "    <tr>\n",
       "      <th>12</th>\n",
       "      <td>1972</td>\n",
       "      <td>4385</td>\n",
       "      <td>(1000 HEAD)</td>\n",
       "    </tr>\n",
       "    <tr>\n",
       "      <th>13</th>\n",
       "      <td>1973</td>\n",
       "      <td>3957</td>\n",
       "      <td>(1000 HEAD)</td>\n",
       "    </tr>\n",
       "    <tr>\n",
       "      <th>14</th>\n",
       "      <td>1974</td>\n",
       "      <td>3400</td>\n",
       "      <td>(1000 HEAD)</td>\n",
       "    </tr>\n",
       "    <tr>\n",
       "      <th>15</th>\n",
       "      <td>1975</td>\n",
       "      <td>3279</td>\n",
       "      <td>(1000 HEAD)</td>\n",
       "    </tr>\n",
       "    <tr>\n",
       "      <th>16</th>\n",
       "      <td>1976</td>\n",
       "      <td>3440</td>\n",
       "      <td>(1000 HEAD)</td>\n",
       "    </tr>\n",
       "    <tr>\n",
       "      <th>17</th>\n",
       "      <td>1977</td>\n",
       "      <td>4583</td>\n",
       "      <td>(1000 HEAD)</td>\n",
       "    </tr>\n",
       "    <tr>\n",
       "      <th>18</th>\n",
       "      <td>1978</td>\n",
       "      <td>3730</td>\n",
       "      <td>(1000 HEAD)</td>\n",
       "    </tr>\n",
       "    <tr>\n",
       "      <th>19</th>\n",
       "      <td>1979</td>\n",
       "      <td>3880</td>\n",
       "      <td>(1000 HEAD)</td>\n",
       "    </tr>\n",
       "    <tr>\n",
       "      <th>20</th>\n",
       "      <td>1980</td>\n",
       "      <td>4082</td>\n",
       "      <td>(1000 HEAD)</td>\n",
       "    </tr>\n",
       "    <tr>\n",
       "      <th>21</th>\n",
       "      <td>1981</td>\n",
       "      <td>4194</td>\n",
       "      <td>(1000 HEAD)</td>\n",
       "    </tr>\n",
       "    <tr>\n",
       "      <th>22</th>\n",
       "      <td>1982</td>\n",
       "      <td>4135</td>\n",
       "      <td>(1000 HEAD)</td>\n",
       "    </tr>\n",
       "    <tr>\n",
       "      <th>23</th>\n",
       "      <td>1983</td>\n",
       "      <td>4264</td>\n",
       "      <td>(1000 HEAD)</td>\n",
       "    </tr>\n",
       "    <tr>\n",
       "      <th>24</th>\n",
       "      <td>1984</td>\n",
       "      <td>4292</td>\n",
       "      <td>(1000 HEAD)</td>\n",
       "    </tr>\n",
       "    <tr>\n",
       "      <th>25</th>\n",
       "      <td>1985</td>\n",
       "      <td>4501</td>\n",
       "      <td>(1000 HEAD)</td>\n",
       "    </tr>\n",
       "    <tr>\n",
       "      <th>26</th>\n",
       "      <td>1986</td>\n",
       "      <td>4617</td>\n",
       "      <td>(1000 HEAD)</td>\n",
       "    </tr>\n",
       "    <tr>\n",
       "      <th>27</th>\n",
       "      <td>1987</td>\n",
       "      <td>4784</td>\n",
       "      <td>(1000 HEAD)</td>\n",
       "    </tr>\n",
       "    <tr>\n",
       "      <th>28</th>\n",
       "      <td>1988</td>\n",
       "      <td>4861</td>\n",
       "      <td>(1000 HEAD)</td>\n",
       "    </tr>\n",
       "    <tr>\n",
       "      <th>29</th>\n",
       "      <td>1989</td>\n",
       "      <td>5009</td>\n",
       "      <td>(1000 HEAD)</td>\n",
       "    </tr>\n",
       "    <tr>\n",
       "      <th>30</th>\n",
       "      <td>1990</td>\n",
       "      <td>4675</td>\n",
       "      <td>(1000 HEAD)</td>\n",
       "    </tr>\n",
       "    <tr>\n",
       "      <th>31</th>\n",
       "      <td>1991</td>\n",
       "      <td>4985</td>\n",
       "      <td>(1000 HEAD)</td>\n",
       "    </tr>\n",
       "    <tr>\n",
       "      <th>32</th>\n",
       "      <td>1992</td>\n",
       "      <td>5128</td>\n",
       "      <td>(1000 HEAD)</td>\n",
       "    </tr>\n",
       "    <tr>\n",
       "      <th>33</th>\n",
       "      <td>1993</td>\n",
       "      <td>4986</td>\n",
       "      <td>(1000 HEAD)</td>\n",
       "    </tr>\n",
       "    <tr>\n",
       "      <th>34</th>\n",
       "      <td>1994</td>\n",
       "      <td>5190</td>\n",
       "      <td>(1000 HEAD)</td>\n",
       "    </tr>\n",
       "    <tr>\n",
       "      <th>35</th>\n",
       "      <td>1995</td>\n",
       "      <td>5122</td>\n",
       "      <td>(1000 HEAD)</td>\n",
       "    </tr>\n",
       "    <tr>\n",
       "      <th>36</th>\n",
       "      <td>1996</td>\n",
       "      <td>4752</td>\n",
       "      <td>(1000 HEAD)</td>\n",
       "    </tr>\n",
       "    <tr>\n",
       "      <th>37</th>\n",
       "      <td>1997</td>\n",
       "      <td>4849</td>\n",
       "      <td>(1000 HEAD)</td>\n",
       "    </tr>\n",
       "    <tr>\n",
       "      <th>38</th>\n",
       "      <td>1998</td>\n",
       "      <td>5239</td>\n",
       "      <td>(1000 HEAD)</td>\n",
       "    </tr>\n",
       "    <tr>\n",
       "      <th>39</th>\n",
       "      <td>1999</td>\n",
       "      <td>4923</td>\n",
       "      <td>(1000 HEAD)</td>\n",
       "    </tr>\n",
       "    <tr>\n",
       "      <th>40</th>\n",
       "      <td>2000</td>\n",
       "      <td>5288</td>\n",
       "      <td>(1000 HEAD)</td>\n",
       "    </tr>\n",
       "    <tr>\n",
       "      <th>41</th>\n",
       "      <td>2001</td>\n",
       "      <td>5117</td>\n",
       "      <td>(1000 HEAD)</td>\n",
       "    </tr>\n",
       "    <tr>\n",
       "      <th>42</th>\n",
       "      <td>2002</td>\n",
       "      <td>5994</td>\n",
       "      <td>(1000 HEAD)</td>\n",
       "    </tr>\n",
       "    <tr>\n",
       "      <th>43</th>\n",
       "      <td>2003</td>\n",
       "      <td>5444</td>\n",
       "      <td>(1000 HEAD)</td>\n",
       "    </tr>\n",
       "    <tr>\n",
       "      <th>44</th>\n",
       "      <td>2004</td>\n",
       "      <td>5331</td>\n",
       "      <td>(1000 HEAD)</td>\n",
       "    </tr>\n",
       "    <tr>\n",
       "      <th>45</th>\n",
       "      <td>2005</td>\n",
       "      <td>5364</td>\n",
       "      <td>(1000 HEAD)</td>\n",
       "    </tr>\n",
       "    <tr>\n",
       "      <th>46</th>\n",
       "      <td>2006</td>\n",
       "      <td>5515</td>\n",
       "      <td>(1000 HEAD)</td>\n",
       "    </tr>\n",
       "    <tr>\n",
       "      <th>47</th>\n",
       "      <td>2007</td>\n",
       "      <td>5199</td>\n",
       "      <td>(1000 HEAD)</td>\n",
       "    </tr>\n",
       "    <tr>\n",
       "      <th>48</th>\n",
       "      <td>2008</td>\n",
       "      <td>4603</td>\n",
       "      <td>(1000 HEAD)</td>\n",
       "    </tr>\n",
       "    <tr>\n",
       "      <th>49</th>\n",
       "      <td>2009</td>\n",
       "      <td>4390</td>\n",
       "      <td>(1000 HEAD)</td>\n",
       "    </tr>\n",
       "    <tr>\n",
       "      <th>50</th>\n",
       "      <td>2010</td>\n",
       "      <td>4604</td>\n",
       "      <td>(1000 HEAD)</td>\n",
       "    </tr>\n",
       "    <tr>\n",
       "      <th>51</th>\n",
       "      <td>2011</td>\n",
       "      <td>4659</td>\n",
       "      <td>(1000 HEAD)</td>\n",
       "    </tr>\n",
       "    <tr>\n",
       "      <th>52</th>\n",
       "      <td>2012</td>\n",
       "      <td>4581</td>\n",
       "      <td>(1000 HEAD)</td>\n",
       "    </tr>\n",
       "    <tr>\n",
       "      <th>53</th>\n",
       "      <td>2013</td>\n",
       "      <td>4737</td>\n",
       "      <td>(1000 HEAD)</td>\n",
       "    </tr>\n",
       "    <tr>\n",
       "      <th>54</th>\n",
       "      <td>2014</td>\n",
       "      <td>5022</td>\n",
       "      <td>(1000 HEAD)</td>\n",
       "    </tr>\n",
       "    <tr>\n",
       "      <th>55</th>\n",
       "      <td>2015</td>\n",
       "      <td>4921</td>\n",
       "      <td>(1000 HEAD)</td>\n",
       "    </tr>\n",
       "    <tr>\n",
       "      <th>56</th>\n",
       "      <td>2016</td>\n",
       "      <td>5028</td>\n",
       "      <td>(1000 HEAD)</td>\n",
       "    </tr>\n",
       "  </tbody>\n",
       "</table>\n",
       "</div>"
      ],
      "text/plain": [
       "    Market Year   Value  Unit Description\n",
       "0          1960       0       (1000 HEAD)\n",
       "1          1961       0       (1000 HEAD)\n",
       "2          1962       0       (1000 HEAD)\n",
       "3          1963       0       (1000 HEAD)\n",
       "4          1964       0       (1000 HEAD)\n",
       "5          1965       0       (1000 HEAD)\n",
       "6          1966       0       (1000 HEAD)\n",
       "7          1967    3202       (1000 HEAD)\n",
       "8          1968    3379       (1000 HEAD)\n",
       "9          1969    3676       (1000 HEAD)\n",
       "10         1970    3822       (1000 HEAD)\n",
       "11         1971    4374       (1000 HEAD)\n",
       "12         1972    4385       (1000 HEAD)\n",
       "13         1973    3957       (1000 HEAD)\n",
       "14         1974    3400       (1000 HEAD)\n",
       "15         1975    3279       (1000 HEAD)\n",
       "16         1976    3440       (1000 HEAD)\n",
       "17         1977    4583       (1000 HEAD)\n",
       "18         1978    3730       (1000 HEAD)\n",
       "19         1979    3880       (1000 HEAD)\n",
       "20         1980    4082       (1000 HEAD)\n",
       "21         1981    4194       (1000 HEAD)\n",
       "22         1982    4135       (1000 HEAD)\n",
       "23         1983    4264       (1000 HEAD)\n",
       "24         1984    4292       (1000 HEAD)\n",
       "25         1985    4501       (1000 HEAD)\n",
       "26         1986    4617       (1000 HEAD)\n",
       "27         1987    4784       (1000 HEAD)\n",
       "28         1988    4861       (1000 HEAD)\n",
       "29         1989    5009       (1000 HEAD)\n",
       "30         1990    4675       (1000 HEAD)\n",
       "31         1991    4985       (1000 HEAD)\n",
       "32         1992    5128       (1000 HEAD)\n",
       "33         1993    4986       (1000 HEAD)\n",
       "34         1994    5190       (1000 HEAD)\n",
       "35         1995    5122       (1000 HEAD)\n",
       "36         1996    4752       (1000 HEAD)\n",
       "37         1997    4849       (1000 HEAD)\n",
       "38         1998    5239       (1000 HEAD)\n",
       "39         1999    4923       (1000 HEAD)\n",
       "40         2000    5288       (1000 HEAD)\n",
       "41         2001    5117       (1000 HEAD)\n",
       "42         2002    5994       (1000 HEAD)\n",
       "43         2003    5444       (1000 HEAD)\n",
       "44         2004    5331       (1000 HEAD)\n",
       "45         2005    5364       (1000 HEAD)\n",
       "46         2006    5515       (1000 HEAD)\n",
       "47         2007    5199       (1000 HEAD)\n",
       "48         2008    4603       (1000 HEAD)\n",
       "49         2009    4390       (1000 HEAD)\n",
       "50         2010    4604       (1000 HEAD)\n",
       "51         2011    4659       (1000 HEAD)\n",
       "52         2012    4581       (1000 HEAD)\n",
       "53         2013    4737       (1000 HEAD)\n",
       "54         2014    5022       (1000 HEAD)\n",
       "55         2015    4921       (1000 HEAD)\n",
       "56         2016    5028       (1000 HEAD)"
      ]
     },
     "execution_count": 67,
     "metadata": {},
     "output_type": "execute_result"
    }
   ],
   "source": [
    "df_swine_production_aus"
   ]
  },
  {
   "cell_type": "code",
   "execution_count": 68,
   "id": "19cd99ba",
   "metadata": {},
   "outputs": [],
   "source": [
    "df_swine_production_aus_M = transform_indexmundi_yearly_data(df_swine_production_aus, \"swine_production_by_head\")"
   ]
  },
  {
   "cell_type": "code",
   "execution_count": 69,
   "id": "4d8144ba",
   "metadata": {},
   "outputs": [
    {
     "data": {
      "text/plain": [
       "swine_production_by_head    0\n",
       "dtype: int64"
      ]
     },
     "execution_count": 69,
     "metadata": {},
     "output_type": "execute_result"
    }
   ],
   "source": [
    "df_swine_production_aus_M.isnull().sum()"
   ]
  },
  {
   "cell_type": "code",
   "execution_count": 70,
   "id": "72af46bd",
   "metadata": {},
   "outputs": [
    {
     "name": "stdout",
     "output_type": "stream",
     "text": [
      "<class 'pandas.core.frame.DataFrame'>\n",
      "DatetimeIndex: 324 entries, 1990-01-31 to 2016-12-31\n",
      "Freq: M\n",
      "Data columns (total 1 columns):\n",
      " #   Column                    Non-Null Count  Dtype  \n",
      "---  ------                    --------------  -----  \n",
      " 0   swine_production_by_head  324 non-null    float64\n",
      "dtypes: float64(1)\n",
      "memory usage: 5.1 KB\n"
     ]
    }
   ],
   "source": [
    "df_swine_production_aus_M.info()"
   ]
  },
  {
   "cell_type": "code",
   "execution_count": 71,
   "id": "27e84adf",
   "metadata": {},
   "outputs": [],
   "source": [
    "df_swine_production_aus_M = df_swine_production_aus_M[df_swine_production_aus_M.index.year > 1998]"
   ]
  },
  {
   "cell_type": "markdown",
   "id": "17de0051",
   "metadata": {},
   "source": [
    "## final output"
   ]
  },
  {
   "cell_type": "code",
   "execution_count": 72,
   "id": "501055dd",
   "metadata": {},
   "outputs": [
    {
     "data": {
      "text/html": [
       "<div>\n",
       "<style scoped>\n",
       "    .dataframe tbody tr th:only-of-type {\n",
       "        vertical-align: middle;\n",
       "    }\n",
       "\n",
       "    .dataframe tbody tr th {\n",
       "        vertical-align: top;\n",
       "    }\n",
       "\n",
       "    .dataframe thead th {\n",
       "        text-align: right;\n",
       "    }\n",
       "</style>\n",
       "<table border=\"1\" class=\"dataframe\">\n",
       "  <thead>\n",
       "    <tr style=\"text-align: right;\">\n",
       "      <th></th>\n",
       "      <th>swine_production_by_head</th>\n",
       "    </tr>\n",
       "    <tr>\n",
       "      <th>month</th>\n",
       "      <th></th>\n",
       "    </tr>\n",
       "  </thead>\n",
       "  <tbody>\n",
       "    <tr>\n",
       "      <th>1999-01-31</th>\n",
       "      <td>410.25</td>\n",
       "    </tr>\n",
       "    <tr>\n",
       "      <th>1999-02-28</th>\n",
       "      <td>410.25</td>\n",
       "    </tr>\n",
       "    <tr>\n",
       "      <th>1999-03-31</th>\n",
       "      <td>410.25</td>\n",
       "    </tr>\n",
       "    <tr>\n",
       "      <th>1999-04-30</th>\n",
       "      <td>410.25</td>\n",
       "    </tr>\n",
       "    <tr>\n",
       "      <th>1999-05-31</th>\n",
       "      <td>410.25</td>\n",
       "    </tr>\n",
       "    <tr>\n",
       "      <th>...</th>\n",
       "      <td>...</td>\n",
       "    </tr>\n",
       "    <tr>\n",
       "      <th>2016-08-31</th>\n",
       "      <td>419.00</td>\n",
       "    </tr>\n",
       "    <tr>\n",
       "      <th>2016-09-30</th>\n",
       "      <td>419.00</td>\n",
       "    </tr>\n",
       "    <tr>\n",
       "      <th>2016-10-31</th>\n",
       "      <td>419.00</td>\n",
       "    </tr>\n",
       "    <tr>\n",
       "      <th>2016-11-30</th>\n",
       "      <td>419.00</td>\n",
       "    </tr>\n",
       "    <tr>\n",
       "      <th>2016-12-31</th>\n",
       "      <td>419.00</td>\n",
       "    </tr>\n",
       "  </tbody>\n",
       "</table>\n",
       "<p>216 rows × 1 columns</p>\n",
       "</div>"
      ],
      "text/plain": [
       "            swine_production_by_head\n",
       "month                               \n",
       "1999-01-31                    410.25\n",
       "1999-02-28                    410.25\n",
       "1999-03-31                    410.25\n",
       "1999-04-30                    410.25\n",
       "1999-05-31                    410.25\n",
       "...                              ...\n",
       "2016-08-31                    419.00\n",
       "2016-09-30                    419.00\n",
       "2016-10-31                    419.00\n",
       "2016-11-30                    419.00\n",
       "2016-12-31                    419.00\n",
       "\n",
       "[216 rows x 1 columns]"
      ]
     },
     "execution_count": 72,
     "metadata": {},
     "output_type": "execute_result"
    }
   ],
   "source": [
    "df_swine_production_aus_M"
   ]
  },
  {
   "cell_type": "markdown",
   "id": "3876fc50",
   "metadata": {},
   "source": [
    "# Australia Barley Production by Year\n",
    "\n",
    "https://www.indexmundi.com/agriculture/?country=au&commodity=barley&graph=production"
   ]
  },
  {
   "cell_type": "code",
   "execution_count": 73,
   "id": "2f6c89be",
   "metadata": {},
   "outputs": [],
   "source": [
    "df_barley_production_aus = pd.read_csv(\"data/aus/au-barley-production.csv\")"
   ]
  },
  {
   "cell_type": "code",
   "execution_count": 74,
   "id": "a0cd995c",
   "metadata": {},
   "outputs": [
    {
     "data": {
      "text/html": [
       "<div>\n",
       "<style scoped>\n",
       "    .dataframe tbody tr th:only-of-type {\n",
       "        vertical-align: middle;\n",
       "    }\n",
       "\n",
       "    .dataframe tbody tr th {\n",
       "        vertical-align: top;\n",
       "    }\n",
       "\n",
       "    .dataframe thead th {\n",
       "        text-align: right;\n",
       "    }\n",
       "</style>\n",
       "<table border=\"1\" class=\"dataframe\">\n",
       "  <thead>\n",
       "    <tr style=\"text-align: right;\">\n",
       "      <th></th>\n",
       "      <th>Market Year</th>\n",
       "      <th>Value</th>\n",
       "      <th>Unit Description</th>\n",
       "    </tr>\n",
       "  </thead>\n",
       "  <tbody>\n",
       "    <tr>\n",
       "      <th>0</th>\n",
       "      <td>1960</td>\n",
       "      <td>1542</td>\n",
       "      <td>(1000 MT)</td>\n",
       "    </tr>\n",
       "    <tr>\n",
       "      <th>1</th>\n",
       "      <td>1961</td>\n",
       "      <td>941</td>\n",
       "      <td>(1000 MT)</td>\n",
       "    </tr>\n",
       "    <tr>\n",
       "      <th>2</th>\n",
       "      <td>1962</td>\n",
       "      <td>898</td>\n",
       "      <td>(1000 MT)</td>\n",
       "    </tr>\n",
       "    <tr>\n",
       "      <th>3</th>\n",
       "      <td>1963</td>\n",
       "      <td>984</td>\n",
       "      <td>(1000 MT)</td>\n",
       "    </tr>\n",
       "    <tr>\n",
       "      <th>4</th>\n",
       "      <td>1964</td>\n",
       "      <td>1118</td>\n",
       "      <td>(1000 MT)</td>\n",
       "    </tr>\n",
       "    <tr>\n",
       "      <th>...</th>\n",
       "      <td>...</td>\n",
       "      <td>...</td>\n",
       "      <td>...</td>\n",
       "    </tr>\n",
       "    <tr>\n",
       "      <th>57</th>\n",
       "      <td>2017</td>\n",
       "      <td>9254</td>\n",
       "      <td>(1000 MT)</td>\n",
       "    </tr>\n",
       "    <tr>\n",
       "      <th>58</th>\n",
       "      <td>2018</td>\n",
       "      <td>8819</td>\n",
       "      <td>(1000 MT)</td>\n",
       "    </tr>\n",
       "    <tr>\n",
       "      <th>59</th>\n",
       "      <td>2019</td>\n",
       "      <td>10127</td>\n",
       "      <td>(1000 MT)</td>\n",
       "    </tr>\n",
       "    <tr>\n",
       "      <th>60</th>\n",
       "      <td>2020</td>\n",
       "      <td>13100</td>\n",
       "      <td>(1000 MT)</td>\n",
       "    </tr>\n",
       "    <tr>\n",
       "      <th>61</th>\n",
       "      <td>2021</td>\n",
       "      <td>13000</td>\n",
       "      <td>(1000 MT)</td>\n",
       "    </tr>\n",
       "  </tbody>\n",
       "</table>\n",
       "<p>62 rows × 3 columns</p>\n",
       "</div>"
      ],
      "text/plain": [
       "    Market Year   Value  Unit Description\n",
       "0          1960    1542         (1000 MT)\n",
       "1          1961     941         (1000 MT)\n",
       "2          1962     898         (1000 MT)\n",
       "3          1963     984         (1000 MT)\n",
       "4          1964    1118         (1000 MT)\n",
       "..          ...     ...               ...\n",
       "57         2017    9254         (1000 MT)\n",
       "58         2018    8819         (1000 MT)\n",
       "59         2019   10127         (1000 MT)\n",
       "60         2020   13100         (1000 MT)\n",
       "61         2021   13000         (1000 MT)\n",
       "\n",
       "[62 rows x 3 columns]"
      ]
     },
     "execution_count": 74,
     "metadata": {},
     "output_type": "execute_result"
    }
   ],
   "source": [
    "df_barley_production_aus"
   ]
  },
  {
   "cell_type": "code",
   "execution_count": 75,
   "id": "63d72a64",
   "metadata": {},
   "outputs": [],
   "source": [
    "df_barley_production_aus_M = transform_indexmundi_yearly_data(df_barley_production_aus, \"barley_production\")"
   ]
  },
  {
   "cell_type": "code",
   "execution_count": 76,
   "id": "56a66c6a",
   "metadata": {},
   "outputs": [
    {
     "data": {
      "text/plain": [
       "barley_production    0\n",
       "dtype: int64"
      ]
     },
     "execution_count": 76,
     "metadata": {},
     "output_type": "execute_result"
    }
   ],
   "source": [
    "df_barley_production_aus_M.isnull().sum()"
   ]
  },
  {
   "cell_type": "code",
   "execution_count": 77,
   "id": "cf5cd023",
   "metadata": {},
   "outputs": [
    {
     "name": "stdout",
     "output_type": "stream",
     "text": [
      "<class 'pandas.core.frame.DataFrame'>\n",
      "DatetimeIndex: 384 entries, 1990-01-31 to 2021-12-31\n",
      "Freq: M\n",
      "Data columns (total 1 columns):\n",
      " #   Column             Non-Null Count  Dtype  \n",
      "---  ------             --------------  -----  \n",
      " 0   barley_production  384 non-null    float64\n",
      "dtypes: float64(1)\n",
      "memory usage: 6.0 KB\n"
     ]
    }
   ],
   "source": [
    "df_barley_production_aus_M.info()"
   ]
  },
  {
   "cell_type": "markdown",
   "id": "3b35868b",
   "metadata": {},
   "source": [
    "## final output"
   ]
  },
  {
   "cell_type": "code",
   "execution_count": 78,
   "id": "754093f3",
   "metadata": {},
   "outputs": [
    {
     "data": {
      "text/html": [
       "<div>\n",
       "<style scoped>\n",
       "    .dataframe tbody tr th:only-of-type {\n",
       "        vertical-align: middle;\n",
       "    }\n",
       "\n",
       "    .dataframe tbody tr th {\n",
       "        vertical-align: top;\n",
       "    }\n",
       "\n",
       "    .dataframe thead th {\n",
       "        text-align: right;\n",
       "    }\n",
       "</style>\n",
       "<table border=\"1\" class=\"dataframe\">\n",
       "  <thead>\n",
       "    <tr style=\"text-align: right;\">\n",
       "      <th></th>\n",
       "      <th>barley_production</th>\n",
       "    </tr>\n",
       "    <tr>\n",
       "      <th>month</th>\n",
       "      <th></th>\n",
       "    </tr>\n",
       "  </thead>\n",
       "  <tbody>\n",
       "    <tr>\n",
       "      <th>1990-01-31</th>\n",
       "      <td>348.666667</td>\n",
       "    </tr>\n",
       "    <tr>\n",
       "      <th>1990-02-28</th>\n",
       "      <td>348.666667</td>\n",
       "    </tr>\n",
       "    <tr>\n",
       "      <th>1990-03-31</th>\n",
       "      <td>348.666667</td>\n",
       "    </tr>\n",
       "    <tr>\n",
       "      <th>1990-04-30</th>\n",
       "      <td>348.666667</td>\n",
       "    </tr>\n",
       "    <tr>\n",
       "      <th>1990-05-31</th>\n",
       "      <td>348.666667</td>\n",
       "    </tr>\n",
       "    <tr>\n",
       "      <th>...</th>\n",
       "      <td>...</td>\n",
       "    </tr>\n",
       "    <tr>\n",
       "      <th>2021-08-31</th>\n",
       "      <td>1083.333333</td>\n",
       "    </tr>\n",
       "    <tr>\n",
       "      <th>2021-09-30</th>\n",
       "      <td>1083.333333</td>\n",
       "    </tr>\n",
       "    <tr>\n",
       "      <th>2021-10-31</th>\n",
       "      <td>1083.333333</td>\n",
       "    </tr>\n",
       "    <tr>\n",
       "      <th>2021-11-30</th>\n",
       "      <td>1083.333333</td>\n",
       "    </tr>\n",
       "    <tr>\n",
       "      <th>2021-12-31</th>\n",
       "      <td>1083.333333</td>\n",
       "    </tr>\n",
       "  </tbody>\n",
       "</table>\n",
       "<p>384 rows × 1 columns</p>\n",
       "</div>"
      ],
      "text/plain": [
       "            barley_production\n",
       "month                        \n",
       "1990-01-31         348.666667\n",
       "1990-02-28         348.666667\n",
       "1990-03-31         348.666667\n",
       "1990-04-30         348.666667\n",
       "1990-05-31         348.666667\n",
       "...                       ...\n",
       "2021-08-31        1083.333333\n",
       "2021-09-30        1083.333333\n",
       "2021-10-31        1083.333333\n",
       "2021-11-30        1083.333333\n",
       "2021-12-31        1083.333333\n",
       "\n",
       "[384 rows x 1 columns]"
      ]
     },
     "execution_count": 78,
     "metadata": {},
     "output_type": "execute_result"
    }
   ],
   "source": [
    "df_barley_production_aus_M"
   ]
  },
  {
   "cell_type": "markdown",
   "id": "4d3f08e1",
   "metadata": {},
   "source": [
    "# Australia Beef and Veal Meat Production by Year\n",
    "\n",
    "https://www.indexmundi.com/agriculture/?country=au&commodity=beef-and-veal-meat&graph=production"
   ]
  },
  {
   "cell_type": "code",
   "execution_count": 79,
   "id": "151eeaba",
   "metadata": {},
   "outputs": [],
   "source": [
    "df_beef_and_veal_production_aus = pd.read_csv(\"data/aus/au-beef-and-veal-meat-production.csv\")"
   ]
  },
  {
   "cell_type": "code",
   "execution_count": 80,
   "id": "c39743d7",
   "metadata": {},
   "outputs": [
    {
     "data": {
      "text/html": [
       "<div>\n",
       "<style scoped>\n",
       "    .dataframe tbody tr th:only-of-type {\n",
       "        vertical-align: middle;\n",
       "    }\n",
       "\n",
       "    .dataframe tbody tr th {\n",
       "        vertical-align: top;\n",
       "    }\n",
       "\n",
       "    .dataframe thead th {\n",
       "        text-align: right;\n",
       "    }\n",
       "</style>\n",
       "<table border=\"1\" class=\"dataframe\">\n",
       "  <thead>\n",
       "    <tr style=\"text-align: right;\">\n",
       "      <th></th>\n",
       "      <th>Market Year</th>\n",
       "      <th>Value</th>\n",
       "      <th>Unit Description</th>\n",
       "    </tr>\n",
       "  </thead>\n",
       "  <tbody>\n",
       "    <tr>\n",
       "      <th>0</th>\n",
       "      <td>1960</td>\n",
       "      <td>685</td>\n",
       "      <td>(1000 MT CWE)</td>\n",
       "    </tr>\n",
       "    <tr>\n",
       "      <th>1</th>\n",
       "      <td>1961</td>\n",
       "      <td>730</td>\n",
       "      <td>(1000 MT CWE)</td>\n",
       "    </tr>\n",
       "    <tr>\n",
       "      <th>2</th>\n",
       "      <td>1962</td>\n",
       "      <td>879</td>\n",
       "      <td>(1000 MT CWE)</td>\n",
       "    </tr>\n",
       "    <tr>\n",
       "      <th>3</th>\n",
       "      <td>1963</td>\n",
       "      <td>957</td>\n",
       "      <td>(1000 MT CWE)</td>\n",
       "    </tr>\n",
       "    <tr>\n",
       "      <th>4</th>\n",
       "      <td>1964</td>\n",
       "      <td>998</td>\n",
       "      <td>(1000 MT CWE)</td>\n",
       "    </tr>\n",
       "    <tr>\n",
       "      <th>...</th>\n",
       "      <td>...</td>\n",
       "      <td>...</td>\n",
       "      <td>...</td>\n",
       "    </tr>\n",
       "    <tr>\n",
       "      <th>58</th>\n",
       "      <td>2018</td>\n",
       "      <td>2309</td>\n",
       "      <td>(1000 MT CWE)</td>\n",
       "    </tr>\n",
       "    <tr>\n",
       "      <th>59</th>\n",
       "      <td>2019</td>\n",
       "      <td>2432</td>\n",
       "      <td>(1000 MT CWE)</td>\n",
       "    </tr>\n",
       "    <tr>\n",
       "      <th>60</th>\n",
       "      <td>2020</td>\n",
       "      <td>2125</td>\n",
       "      <td>(1000 MT CWE)</td>\n",
       "    </tr>\n",
       "    <tr>\n",
       "      <th>61</th>\n",
       "      <td>2021</td>\n",
       "      <td>1900</td>\n",
       "      <td>(1000 MT CWE)</td>\n",
       "    </tr>\n",
       "    <tr>\n",
       "      <th>62</th>\n",
       "      <td>2022</td>\n",
       "      <td>2115</td>\n",
       "      <td>(1000 MT CWE)</td>\n",
       "    </tr>\n",
       "  </tbody>\n",
       "</table>\n",
       "<p>63 rows × 3 columns</p>\n",
       "</div>"
      ],
      "text/plain": [
       "    Market Year   Value  Unit Description\n",
       "0          1960     685     (1000 MT CWE)\n",
       "1          1961     730     (1000 MT CWE)\n",
       "2          1962     879     (1000 MT CWE)\n",
       "3          1963     957     (1000 MT CWE)\n",
       "4          1964     998     (1000 MT CWE)\n",
       "..          ...     ...               ...\n",
       "58         2018    2309     (1000 MT CWE)\n",
       "59         2019    2432     (1000 MT CWE)\n",
       "60         2020    2125     (1000 MT CWE)\n",
       "61         2021    1900     (1000 MT CWE)\n",
       "62         2022    2115     (1000 MT CWE)\n",
       "\n",
       "[63 rows x 3 columns]"
      ]
     },
     "execution_count": 80,
     "metadata": {},
     "output_type": "execute_result"
    }
   ],
   "source": [
    "df_beef_and_veal_production_aus"
   ]
  },
  {
   "cell_type": "code",
   "execution_count": 81,
   "id": "fcc8357e",
   "metadata": {},
   "outputs": [],
   "source": [
    "df_beef_and_veal_production_aus_M = transform_indexmundi_yearly_data(df_beef_and_veal_production_aus, \"beef_and_veal_production\")"
   ]
  },
  {
   "cell_type": "code",
   "execution_count": 82,
   "id": "29b3744f",
   "metadata": {},
   "outputs": [
    {
     "data": {
      "text/plain": [
       "beef_and_veal_production    0\n",
       "dtype: int64"
      ]
     },
     "execution_count": 82,
     "metadata": {},
     "output_type": "execute_result"
    }
   ],
   "source": [
    "df_beef_and_veal_production_aus_M.isnull().sum()"
   ]
  },
  {
   "cell_type": "code",
   "execution_count": 83,
   "id": "7c3ecd23",
   "metadata": {},
   "outputs": [
    {
     "name": "stdout",
     "output_type": "stream",
     "text": [
      "<class 'pandas.core.frame.DataFrame'>\n",
      "DatetimeIndex: 384 entries, 1990-01-31 to 2021-12-31\n",
      "Freq: M\n",
      "Data columns (total 1 columns):\n",
      " #   Column                    Non-Null Count  Dtype  \n",
      "---  ------                    --------------  -----  \n",
      " 0   beef_and_veal_production  384 non-null    float64\n",
      "dtypes: float64(1)\n",
      "memory usage: 6.0 KB\n"
     ]
    }
   ],
   "source": [
    "df_beef_and_veal_production_aus_M.info()"
   ]
  },
  {
   "cell_type": "markdown",
   "id": "b372f5fb",
   "metadata": {},
   "source": [
    "## final output"
   ]
  },
  {
   "cell_type": "code",
   "execution_count": 84,
   "id": "7cf4f576",
   "metadata": {},
   "outputs": [
    {
     "data": {
      "text/html": [
       "<div>\n",
       "<style scoped>\n",
       "    .dataframe tbody tr th:only-of-type {\n",
       "        vertical-align: middle;\n",
       "    }\n",
       "\n",
       "    .dataframe tbody tr th {\n",
       "        vertical-align: top;\n",
       "    }\n",
       "\n",
       "    .dataframe thead th {\n",
       "        text-align: right;\n",
       "    }\n",
       "</style>\n",
       "<table border=\"1\" class=\"dataframe\">\n",
       "  <thead>\n",
       "    <tr style=\"text-align: right;\">\n",
       "      <th></th>\n",
       "      <th>beef_and_veal_production</th>\n",
       "    </tr>\n",
       "    <tr>\n",
       "      <th>month</th>\n",
       "      <th></th>\n",
       "    </tr>\n",
       "  </thead>\n",
       "  <tbody>\n",
       "    <tr>\n",
       "      <th>1990-01-31</th>\n",
       "      <td>143.166667</td>\n",
       "    </tr>\n",
       "    <tr>\n",
       "      <th>1990-02-28</th>\n",
       "      <td>143.166667</td>\n",
       "    </tr>\n",
       "    <tr>\n",
       "      <th>1990-03-31</th>\n",
       "      <td>143.166667</td>\n",
       "    </tr>\n",
       "    <tr>\n",
       "      <th>1990-04-30</th>\n",
       "      <td>143.166667</td>\n",
       "    </tr>\n",
       "    <tr>\n",
       "      <th>1990-05-31</th>\n",
       "      <td>143.166667</td>\n",
       "    </tr>\n",
       "    <tr>\n",
       "      <th>...</th>\n",
       "      <td>...</td>\n",
       "    </tr>\n",
       "    <tr>\n",
       "      <th>2021-08-31</th>\n",
       "      <td>158.333333</td>\n",
       "    </tr>\n",
       "    <tr>\n",
       "      <th>2021-09-30</th>\n",
       "      <td>158.333333</td>\n",
       "    </tr>\n",
       "    <tr>\n",
       "      <th>2021-10-31</th>\n",
       "      <td>158.333333</td>\n",
       "    </tr>\n",
       "    <tr>\n",
       "      <th>2021-11-30</th>\n",
       "      <td>158.333333</td>\n",
       "    </tr>\n",
       "    <tr>\n",
       "      <th>2021-12-31</th>\n",
       "      <td>158.333333</td>\n",
       "    </tr>\n",
       "  </tbody>\n",
       "</table>\n",
       "<p>384 rows × 1 columns</p>\n",
       "</div>"
      ],
      "text/plain": [
       "            beef_and_veal_production\n",
       "month                               \n",
       "1990-01-31                143.166667\n",
       "1990-02-28                143.166667\n",
       "1990-03-31                143.166667\n",
       "1990-04-30                143.166667\n",
       "1990-05-31                143.166667\n",
       "...                              ...\n",
       "2021-08-31                158.333333\n",
       "2021-09-30                158.333333\n",
       "2021-10-31                158.333333\n",
       "2021-11-30                158.333333\n",
       "2021-12-31                158.333333\n",
       "\n",
       "[384 rows x 1 columns]"
      ]
     },
     "execution_count": 84,
     "metadata": {},
     "output_type": "execute_result"
    }
   ],
   "source": [
    "df_beef_and_veal_production_aus_M"
   ]
  },
  {
   "cell_type": "markdown",
   "id": "095a990e",
   "metadata": {},
   "source": [
    "# Australia Broiler Meat (Poultry) Production by Year\n",
    "\n",
    "https://www.indexmundi.com/agriculture/?country=au&commodity=broiler-meat&graph=production"
   ]
  },
  {
   "cell_type": "code",
   "execution_count": 85,
   "id": "af58420e",
   "metadata": {},
   "outputs": [],
   "source": [
    "df_poultry_production_aus = pd.read_csv(\"data/aus/au-broiler-meat-production.csv\")"
   ]
  },
  {
   "cell_type": "code",
   "execution_count": 86,
   "id": "13c71a67",
   "metadata": {},
   "outputs": [
    {
     "data": {
      "text/html": [
       "<div>\n",
       "<style scoped>\n",
       "    .dataframe tbody tr th:only-of-type {\n",
       "        vertical-align: middle;\n",
       "    }\n",
       "\n",
       "    .dataframe tbody tr th {\n",
       "        vertical-align: top;\n",
       "    }\n",
       "\n",
       "    .dataframe thead th {\n",
       "        text-align: right;\n",
       "    }\n",
       "</style>\n",
       "<table border=\"1\" class=\"dataframe\">\n",
       "  <thead>\n",
       "    <tr style=\"text-align: right;\">\n",
       "      <th></th>\n",
       "      <th>Market Year</th>\n",
       "      <th>Value</th>\n",
       "      <th>Unit Description</th>\n",
       "    </tr>\n",
       "  </thead>\n",
       "  <tbody>\n",
       "    <tr>\n",
       "      <th>0</th>\n",
       "      <td>1965</td>\n",
       "      <td>45</td>\n",
       "      <td>(1000 MT)</td>\n",
       "    </tr>\n",
       "    <tr>\n",
       "      <th>1</th>\n",
       "      <td>1966</td>\n",
       "      <td>56</td>\n",
       "      <td>(1000 MT)</td>\n",
       "    </tr>\n",
       "    <tr>\n",
       "      <th>2</th>\n",
       "      <td>1967</td>\n",
       "      <td>76</td>\n",
       "      <td>(1000 MT)</td>\n",
       "    </tr>\n",
       "    <tr>\n",
       "      <th>3</th>\n",
       "      <td>1968</td>\n",
       "      <td>89</td>\n",
       "      <td>(1000 MT)</td>\n",
       "    </tr>\n",
       "    <tr>\n",
       "      <th>4</th>\n",
       "      <td>1969</td>\n",
       "      <td>94</td>\n",
       "      <td>(1000 MT)</td>\n",
       "    </tr>\n",
       "    <tr>\n",
       "      <th>5</th>\n",
       "      <td>1970</td>\n",
       "      <td>105</td>\n",
       "      <td>(1000 MT)</td>\n",
       "    </tr>\n",
       "    <tr>\n",
       "      <th>6</th>\n",
       "      <td>1971</td>\n",
       "      <td>131</td>\n",
       "      <td>(1000 MT)</td>\n",
       "    </tr>\n",
       "    <tr>\n",
       "      <th>7</th>\n",
       "      <td>1972</td>\n",
       "      <td>142</td>\n",
       "      <td>(1000 MT)</td>\n",
       "    </tr>\n",
       "    <tr>\n",
       "      <th>8</th>\n",
       "      <td>1973</td>\n",
       "      <td>138</td>\n",
       "      <td>(1000 MT)</td>\n",
       "    </tr>\n",
       "    <tr>\n",
       "      <th>9</th>\n",
       "      <td>1974</td>\n",
       "      <td>171</td>\n",
       "      <td>(1000 MT)</td>\n",
       "    </tr>\n",
       "    <tr>\n",
       "      <th>10</th>\n",
       "      <td>1975</td>\n",
       "      <td>166</td>\n",
       "      <td>(1000 MT)</td>\n",
       "    </tr>\n",
       "    <tr>\n",
       "      <th>11</th>\n",
       "      <td>1976</td>\n",
       "      <td>184</td>\n",
       "      <td>(1000 MT)</td>\n",
       "    </tr>\n",
       "    <tr>\n",
       "      <th>12</th>\n",
       "      <td>1977</td>\n",
       "      <td>196</td>\n",
       "      <td>(1000 MT)</td>\n",
       "    </tr>\n",
       "    <tr>\n",
       "      <th>13</th>\n",
       "      <td>1978</td>\n",
       "      <td>220</td>\n",
       "      <td>(1000 MT)</td>\n",
       "    </tr>\n",
       "    <tr>\n",
       "      <th>14</th>\n",
       "      <td>1979</td>\n",
       "      <td>244</td>\n",
       "      <td>(1000 MT)</td>\n",
       "    </tr>\n",
       "    <tr>\n",
       "      <th>15</th>\n",
       "      <td>1980</td>\n",
       "      <td>282</td>\n",
       "      <td>(1000 MT)</td>\n",
       "    </tr>\n",
       "    <tr>\n",
       "      <th>16</th>\n",
       "      <td>1981</td>\n",
       "      <td>276</td>\n",
       "      <td>(1000 MT)</td>\n",
       "    </tr>\n",
       "    <tr>\n",
       "      <th>17</th>\n",
       "      <td>1982</td>\n",
       "      <td>259</td>\n",
       "      <td>(1000 MT)</td>\n",
       "    </tr>\n",
       "    <tr>\n",
       "      <th>18</th>\n",
       "      <td>1983</td>\n",
       "      <td>283</td>\n",
       "      <td>(1000 MT)</td>\n",
       "    </tr>\n",
       "    <tr>\n",
       "      <th>19</th>\n",
       "      <td>1984</td>\n",
       "      <td>272</td>\n",
       "      <td>(1000 MT)</td>\n",
       "    </tr>\n",
       "    <tr>\n",
       "      <th>20</th>\n",
       "      <td>1985</td>\n",
       "      <td>315</td>\n",
       "      <td>(1000 MT)</td>\n",
       "    </tr>\n",
       "    <tr>\n",
       "      <th>21</th>\n",
       "      <td>1986</td>\n",
       "      <td>334</td>\n",
       "      <td>(1000 MT)</td>\n",
       "    </tr>\n",
       "    <tr>\n",
       "      <th>22</th>\n",
       "      <td>1987</td>\n",
       "      <td>349</td>\n",
       "      <td>(1000 MT)</td>\n",
       "    </tr>\n",
       "    <tr>\n",
       "      <th>23</th>\n",
       "      <td>1988</td>\n",
       "      <td>360</td>\n",
       "      <td>(1000 MT)</td>\n",
       "    </tr>\n",
       "    <tr>\n",
       "      <th>24</th>\n",
       "      <td>1989</td>\n",
       "      <td>365</td>\n",
       "      <td>(1000 MT)</td>\n",
       "    </tr>\n",
       "    <tr>\n",
       "      <th>25</th>\n",
       "      <td>1990</td>\n",
       "      <td>377</td>\n",
       "      <td>(1000 MT)</td>\n",
       "    </tr>\n",
       "    <tr>\n",
       "      <th>26</th>\n",
       "      <td>1991</td>\n",
       "      <td>383</td>\n",
       "      <td>(1000 MT)</td>\n",
       "    </tr>\n",
       "    <tr>\n",
       "      <th>27</th>\n",
       "      <td>1992</td>\n",
       "      <td>410</td>\n",
       "      <td>(1000 MT)</td>\n",
       "    </tr>\n",
       "    <tr>\n",
       "      <th>28</th>\n",
       "      <td>1993</td>\n",
       "      <td>420</td>\n",
       "      <td>(1000 MT)</td>\n",
       "    </tr>\n",
       "    <tr>\n",
       "      <th>29</th>\n",
       "      <td>1994</td>\n",
       "      <td>448</td>\n",
       "      <td>(1000 MT)</td>\n",
       "    </tr>\n",
       "    <tr>\n",
       "      <th>30</th>\n",
       "      <td>1995</td>\n",
       "      <td>450</td>\n",
       "      <td>(1000 MT)</td>\n",
       "    </tr>\n",
       "    <tr>\n",
       "      <th>31</th>\n",
       "      <td>1996</td>\n",
       "      <td>453</td>\n",
       "      <td>(1000 MT)</td>\n",
       "    </tr>\n",
       "    <tr>\n",
       "      <th>32</th>\n",
       "      <td>1997</td>\n",
       "      <td>480</td>\n",
       "      <td>(1000 MT)</td>\n",
       "    </tr>\n",
       "    <tr>\n",
       "      <th>33</th>\n",
       "      <td>1998</td>\n",
       "      <td>527</td>\n",
       "      <td>(1000 MT)</td>\n",
       "    </tr>\n",
       "    <tr>\n",
       "      <th>34</th>\n",
       "      <td>1999</td>\n",
       "      <td>550</td>\n",
       "      <td>(1000 MT)</td>\n",
       "    </tr>\n",
       "    <tr>\n",
       "      <th>35</th>\n",
       "      <td>2000</td>\n",
       "      <td>586</td>\n",
       "      <td>(1000 MT)</td>\n",
       "    </tr>\n",
       "    <tr>\n",
       "      <th>36</th>\n",
       "      <td>2001</td>\n",
       "      <td>596</td>\n",
       "      <td>(1000 MT)</td>\n",
       "    </tr>\n",
       "    <tr>\n",
       "      <th>37</th>\n",
       "      <td>2002</td>\n",
       "      <td>665</td>\n",
       "      <td>(1000 MT)</td>\n",
       "    </tr>\n",
       "    <tr>\n",
       "      <th>38</th>\n",
       "      <td>2003</td>\n",
       "      <td>647</td>\n",
       "      <td>(1000 MT)</td>\n",
       "    </tr>\n",
       "    <tr>\n",
       "      <th>39</th>\n",
       "      <td>2004</td>\n",
       "      <td>686</td>\n",
       "      <td>(1000 MT)</td>\n",
       "    </tr>\n",
       "    <tr>\n",
       "      <th>40</th>\n",
       "      <td>2005</td>\n",
       "      <td>717</td>\n",
       "      <td>(1000 MT)</td>\n",
       "    </tr>\n",
       "    <tr>\n",
       "      <th>41</th>\n",
       "      <td>2006</td>\n",
       "      <td>758</td>\n",
       "      <td>(1000 MT)</td>\n",
       "    </tr>\n",
       "    <tr>\n",
       "      <th>42</th>\n",
       "      <td>2007</td>\n",
       "      <td>772</td>\n",
       "      <td>(1000 MT)</td>\n",
       "    </tr>\n",
       "    <tr>\n",
       "      <th>43</th>\n",
       "      <td>2008</td>\n",
       "      <td>765</td>\n",
       "      <td>(1000 MT)</td>\n",
       "    </tr>\n",
       "    <tr>\n",
       "      <th>44</th>\n",
       "      <td>2009</td>\n",
       "      <td>787</td>\n",
       "      <td>(1000 MT)</td>\n",
       "    </tr>\n",
       "    <tr>\n",
       "      <th>45</th>\n",
       "      <td>2010</td>\n",
       "      <td>888</td>\n",
       "      <td>(1000 MT)</td>\n",
       "    </tr>\n",
       "    <tr>\n",
       "      <th>46</th>\n",
       "      <td>2011</td>\n",
       "      <td>962</td>\n",
       "      <td>(1000 MT)</td>\n",
       "    </tr>\n",
       "    <tr>\n",
       "      <th>47</th>\n",
       "      <td>2012</td>\n",
       "      <td>994</td>\n",
       "      <td>(1000 MT)</td>\n",
       "    </tr>\n",
       "    <tr>\n",
       "      <th>48</th>\n",
       "      <td>2013</td>\n",
       "      <td>1013</td>\n",
       "      <td>(1000 MT)</td>\n",
       "    </tr>\n",
       "    <tr>\n",
       "      <th>49</th>\n",
       "      <td>2014</td>\n",
       "      <td>1048</td>\n",
       "      <td>(1000 MT)</td>\n",
       "    </tr>\n",
       "    <tr>\n",
       "      <th>50</th>\n",
       "      <td>2015</td>\n",
       "      <td>1080</td>\n",
       "      <td>(1000 MT)</td>\n",
       "    </tr>\n",
       "    <tr>\n",
       "      <th>51</th>\n",
       "      <td>2016</td>\n",
       "      <td>1164</td>\n",
       "      <td>(1000 MT)</td>\n",
       "    </tr>\n",
       "  </tbody>\n",
       "</table>\n",
       "</div>"
      ],
      "text/plain": [
       "    Market Year   Value  Unit Description\n",
       "0          1965      45         (1000 MT)\n",
       "1          1966      56         (1000 MT)\n",
       "2          1967      76         (1000 MT)\n",
       "3          1968      89         (1000 MT)\n",
       "4          1969      94         (1000 MT)\n",
       "5          1970     105         (1000 MT)\n",
       "6          1971     131         (1000 MT)\n",
       "7          1972     142         (1000 MT)\n",
       "8          1973     138         (1000 MT)\n",
       "9          1974     171         (1000 MT)\n",
       "10         1975     166         (1000 MT)\n",
       "11         1976     184         (1000 MT)\n",
       "12         1977     196         (1000 MT)\n",
       "13         1978     220         (1000 MT)\n",
       "14         1979     244         (1000 MT)\n",
       "15         1980     282         (1000 MT)\n",
       "16         1981     276         (1000 MT)\n",
       "17         1982     259         (1000 MT)\n",
       "18         1983     283         (1000 MT)\n",
       "19         1984     272         (1000 MT)\n",
       "20         1985     315         (1000 MT)\n",
       "21         1986     334         (1000 MT)\n",
       "22         1987     349         (1000 MT)\n",
       "23         1988     360         (1000 MT)\n",
       "24         1989     365         (1000 MT)\n",
       "25         1990     377         (1000 MT)\n",
       "26         1991     383         (1000 MT)\n",
       "27         1992     410         (1000 MT)\n",
       "28         1993     420         (1000 MT)\n",
       "29         1994     448         (1000 MT)\n",
       "30         1995     450         (1000 MT)\n",
       "31         1996     453         (1000 MT)\n",
       "32         1997     480         (1000 MT)\n",
       "33         1998     527         (1000 MT)\n",
       "34         1999     550         (1000 MT)\n",
       "35         2000     586         (1000 MT)\n",
       "36         2001     596         (1000 MT)\n",
       "37         2002     665         (1000 MT)\n",
       "38         2003     647         (1000 MT)\n",
       "39         2004     686         (1000 MT)\n",
       "40         2005     717         (1000 MT)\n",
       "41         2006     758         (1000 MT)\n",
       "42         2007     772         (1000 MT)\n",
       "43         2008     765         (1000 MT)\n",
       "44         2009     787         (1000 MT)\n",
       "45         2010     888         (1000 MT)\n",
       "46         2011     962         (1000 MT)\n",
       "47         2012     994         (1000 MT)\n",
       "48         2013    1013         (1000 MT)\n",
       "49         2014    1048         (1000 MT)\n",
       "50         2015    1080         (1000 MT)\n",
       "51         2016    1164         (1000 MT)"
      ]
     },
     "execution_count": 86,
     "metadata": {},
     "output_type": "execute_result"
    }
   ],
   "source": [
    "df_poultry_production_aus"
   ]
  },
  {
   "cell_type": "code",
   "execution_count": 87,
   "id": "225b7675",
   "metadata": {},
   "outputs": [],
   "source": [
    "df_poultry_production_aus_M = transform_indexmundi_yearly_data(df_poultry_production_aus, \"poultry_production\")"
   ]
  },
  {
   "cell_type": "code",
   "execution_count": 88,
   "id": "fcb04516",
   "metadata": {},
   "outputs": [
    {
     "data": {
      "text/plain": [
       "poultry_production    0\n",
       "dtype: int64"
      ]
     },
     "execution_count": 88,
     "metadata": {},
     "output_type": "execute_result"
    }
   ],
   "source": [
    "df_poultry_production_aus_M.isnull().sum()"
   ]
  },
  {
   "cell_type": "code",
   "execution_count": 89,
   "id": "c7692063",
   "metadata": {},
   "outputs": [
    {
     "name": "stdout",
     "output_type": "stream",
     "text": [
      "<class 'pandas.core.frame.DataFrame'>\n",
      "DatetimeIndex: 324 entries, 1990-01-31 to 2016-12-31\n",
      "Freq: M\n",
      "Data columns (total 1 columns):\n",
      " #   Column              Non-Null Count  Dtype  \n",
      "---  ------              --------------  -----  \n",
      " 0   poultry_production  324 non-null    float64\n",
      "dtypes: float64(1)\n",
      "memory usage: 5.1 KB\n"
     ]
    }
   ],
   "source": [
    "df_poultry_production_aus_M.info()"
   ]
  },
  {
   "cell_type": "code",
   "execution_count": 90,
   "id": "a9852655",
   "metadata": {},
   "outputs": [
    {
     "data": {
      "text/html": [
       "<div>\n",
       "<style scoped>\n",
       "    .dataframe tbody tr th:only-of-type {\n",
       "        vertical-align: middle;\n",
       "    }\n",
       "\n",
       "    .dataframe tbody tr th {\n",
       "        vertical-align: top;\n",
       "    }\n",
       "\n",
       "    .dataframe thead th {\n",
       "        text-align: right;\n",
       "    }\n",
       "</style>\n",
       "<table border=\"1\" class=\"dataframe\">\n",
       "  <thead>\n",
       "    <tr style=\"text-align: right;\">\n",
       "      <th></th>\n",
       "      <th>poultry_production</th>\n",
       "    </tr>\n",
       "    <tr>\n",
       "      <th>month</th>\n",
       "      <th></th>\n",
       "    </tr>\n",
       "  </thead>\n",
       "  <tbody>\n",
       "    <tr>\n",
       "      <th>1990-01-31</th>\n",
       "      <td>31.416667</td>\n",
       "    </tr>\n",
       "    <tr>\n",
       "      <th>1990-02-28</th>\n",
       "      <td>31.416667</td>\n",
       "    </tr>\n",
       "    <tr>\n",
       "      <th>1990-03-31</th>\n",
       "      <td>31.416667</td>\n",
       "    </tr>\n",
       "    <tr>\n",
       "      <th>1990-04-30</th>\n",
       "      <td>31.416667</td>\n",
       "    </tr>\n",
       "    <tr>\n",
       "      <th>1990-05-31</th>\n",
       "      <td>31.416667</td>\n",
       "    </tr>\n",
       "    <tr>\n",
       "      <th>...</th>\n",
       "      <td>...</td>\n",
       "    </tr>\n",
       "    <tr>\n",
       "      <th>2016-08-31</th>\n",
       "      <td>97.000000</td>\n",
       "    </tr>\n",
       "    <tr>\n",
       "      <th>2016-09-30</th>\n",
       "      <td>97.000000</td>\n",
       "    </tr>\n",
       "    <tr>\n",
       "      <th>2016-10-31</th>\n",
       "      <td>97.000000</td>\n",
       "    </tr>\n",
       "    <tr>\n",
       "      <th>2016-11-30</th>\n",
       "      <td>97.000000</td>\n",
       "    </tr>\n",
       "    <tr>\n",
       "      <th>2016-12-31</th>\n",
       "      <td>97.000000</td>\n",
       "    </tr>\n",
       "  </tbody>\n",
       "</table>\n",
       "<p>324 rows × 1 columns</p>\n",
       "</div>"
      ],
      "text/plain": [
       "            poultry_production\n",
       "month                         \n",
       "1990-01-31           31.416667\n",
       "1990-02-28           31.416667\n",
       "1990-03-31           31.416667\n",
       "1990-04-30           31.416667\n",
       "1990-05-31           31.416667\n",
       "...                        ...\n",
       "2016-08-31           97.000000\n",
       "2016-09-30           97.000000\n",
       "2016-10-31           97.000000\n",
       "2016-11-30           97.000000\n",
       "2016-12-31           97.000000\n",
       "\n",
       "[324 rows x 1 columns]"
      ]
     },
     "execution_count": 90,
     "metadata": {},
     "output_type": "execute_result"
    }
   ],
   "source": [
    "df_poultry_production_aus_M"
   ]
  },
  {
   "cell_type": "code",
   "execution_count": 91,
   "id": "a36b0963",
   "metadata": {},
   "outputs": [
    {
     "name": "stdout",
     "output_type": "stream",
     "text": [
      "<class 'pandas.core.frame.DataFrame'>\n",
      "DatetimeIndex: 48 entries, 2017-01-31 to 2020-12-31\n",
      "Freq: M\n",
      "Data columns (total 1 columns):\n",
      " #   Column              Non-Null Count  Dtype  \n",
      "---  ------              --------------  -----  \n",
      " 0   poultry_production  0 non-null      float64\n",
      "dtypes: float64(1)\n",
      "memory usage: 768.0 bytes\n"
     ]
    }
   ],
   "source": [
    "# https://stackoverflow.com/questions/34915828/pandas-date-range-to-generate-monthly-data-at-beginning-of-the-month\n",
    "# https://pandas.pydata.org/docs/reference/api/pandas.Index.to_frame.html\n",
    "df_poultry_missing_months = pd.date_range(start='31-JAN-2017', end='31-DEC-2020', freq='M').to_frame(index=True, name='month').drop([\"month\"],axis=1)\n",
    "df_poultry_missing_months[\"poultry_production\"] = np.nan\n",
    "df_poultry_missing_months.index.rename('month', inplace=True)\n",
    "df_poultry_missing_months.info()"
   ]
  },
  {
   "cell_type": "code",
   "execution_count": 92,
   "id": "febf061b",
   "metadata": {},
   "outputs": [],
   "source": [
    "df_poultry_production_aus_M = df_poultry_production_aus_M.append(df_poultry_missing_months)"
   ]
  },
  {
   "cell_type": "code",
   "execution_count": 93,
   "id": "6f8dc936",
   "metadata": {},
   "outputs": [
    {
     "name": "stdout",
     "output_type": "stream",
     "text": [
      "<class 'pandas.core.frame.DataFrame'>\n",
      "DatetimeIndex: 372 entries, 1990-01-31 to 2020-12-31\n",
      "Freq: M\n",
      "Data columns (total 1 columns):\n",
      " #   Column              Non-Null Count  Dtype  \n",
      "---  ------              --------------  -----  \n",
      " 0   poultry_production  324 non-null    float64\n",
      "dtypes: float64(1)\n",
      "memory usage: 5.8 KB\n"
     ]
    }
   ],
   "source": [
    "df_poultry_production_aus_M.info()"
   ]
  },
  {
   "cell_type": "code",
   "execution_count": 94,
   "id": "0be866ad",
   "metadata": {},
   "outputs": [],
   "source": [
    "df_poultry_production_aus_M[\"poultry_production\"] = df_poultry_production_aus_M[\"poultry_production\"].interpolate(method='linear')"
   ]
  },
  {
   "cell_type": "code",
   "execution_count": 95,
   "id": "8fce55b3",
   "metadata": {},
   "outputs": [
    {
     "data": {
      "text/html": [
       "<div>\n",
       "<style scoped>\n",
       "    .dataframe tbody tr th:only-of-type {\n",
       "        vertical-align: middle;\n",
       "    }\n",
       "\n",
       "    .dataframe tbody tr th {\n",
       "        vertical-align: top;\n",
       "    }\n",
       "\n",
       "    .dataframe thead th {\n",
       "        text-align: right;\n",
       "    }\n",
       "</style>\n",
       "<table border=\"1\" class=\"dataframe\">\n",
       "  <thead>\n",
       "    <tr style=\"text-align: right;\">\n",
       "      <th></th>\n",
       "      <th>poultry_production</th>\n",
       "    </tr>\n",
       "    <tr>\n",
       "      <th>month</th>\n",
       "      <th></th>\n",
       "    </tr>\n",
       "  </thead>\n",
       "  <tbody>\n",
       "    <tr>\n",
       "      <th>2020-01-31</th>\n",
       "      <td>97.0</td>\n",
       "    </tr>\n",
       "    <tr>\n",
       "      <th>2020-02-29</th>\n",
       "      <td>97.0</td>\n",
       "    </tr>\n",
       "    <tr>\n",
       "      <th>2020-03-31</th>\n",
       "      <td>97.0</td>\n",
       "    </tr>\n",
       "    <tr>\n",
       "      <th>2020-04-30</th>\n",
       "      <td>97.0</td>\n",
       "    </tr>\n",
       "    <tr>\n",
       "      <th>2020-05-31</th>\n",
       "      <td>97.0</td>\n",
       "    </tr>\n",
       "    <tr>\n",
       "      <th>2020-06-30</th>\n",
       "      <td>97.0</td>\n",
       "    </tr>\n",
       "    <tr>\n",
       "      <th>2020-07-31</th>\n",
       "      <td>97.0</td>\n",
       "    </tr>\n",
       "    <tr>\n",
       "      <th>2020-08-31</th>\n",
       "      <td>97.0</td>\n",
       "    </tr>\n",
       "    <tr>\n",
       "      <th>2020-09-30</th>\n",
       "      <td>97.0</td>\n",
       "    </tr>\n",
       "    <tr>\n",
       "      <th>2020-10-31</th>\n",
       "      <td>97.0</td>\n",
       "    </tr>\n",
       "    <tr>\n",
       "      <th>2020-11-30</th>\n",
       "      <td>97.0</td>\n",
       "    </tr>\n",
       "    <tr>\n",
       "      <th>2020-12-31</th>\n",
       "      <td>97.0</td>\n",
       "    </tr>\n",
       "  </tbody>\n",
       "</table>\n",
       "</div>"
      ],
      "text/plain": [
       "            poultry_production\n",
       "month                         \n",
       "2020-01-31                97.0\n",
       "2020-02-29                97.0\n",
       "2020-03-31                97.0\n",
       "2020-04-30                97.0\n",
       "2020-05-31                97.0\n",
       "2020-06-30                97.0\n",
       "2020-07-31                97.0\n",
       "2020-08-31                97.0\n",
       "2020-09-30                97.0\n",
       "2020-10-31                97.0\n",
       "2020-11-30                97.0\n",
       "2020-12-31                97.0"
      ]
     },
     "execution_count": 95,
     "metadata": {},
     "output_type": "execute_result"
    }
   ],
   "source": [
    "df_poultry_production_aus_M[df_poultry_production_aus_M.index.year > 2019] ## ugh it'll have to do"
   ]
  },
  {
   "cell_type": "code",
   "execution_count": 96,
   "id": "83f90949",
   "metadata": {},
   "outputs": [
    {
     "data": {
      "text/plain": [
       "DatetimeIndex([], dtype='datetime64[ns]', freq=None)"
      ]
     },
     "execution_count": 96,
     "metadata": {},
     "output_type": "execute_result"
    }
   ],
   "source": [
    "pd.date_range(start = '1999-01-01', end = '2020-12-31', freq='M' ).difference(df_poultry_production_aus_M.index)"
   ]
  },
  {
   "cell_type": "code",
   "execution_count": 97,
   "id": "38a7e7de",
   "metadata": {},
   "outputs": [],
   "source": [
    "df_poultry_production_aus_M = df_poultry_production_aus_M[df_poultry_production_aus_M.index.year > 1998]"
   ]
  },
  {
   "cell_type": "code",
   "execution_count": 98,
   "id": "7fd905f3",
   "metadata": {},
   "outputs": [
    {
     "data": {
      "text/plain": [
       "DatetimeIndex([], dtype='datetime64[ns]', freq='M')"
      ]
     },
     "execution_count": 98,
     "metadata": {},
     "output_type": "execute_result"
    }
   ],
   "source": [
    "pd.date_range(start = '1999-01-01', end = '2020-12-31', freq='M' ).difference(df_poultry_production_aus_M.index)"
   ]
  },
  {
   "cell_type": "markdown",
   "id": "696114d8",
   "metadata": {},
   "source": [
    "## final output"
   ]
  },
  {
   "cell_type": "code",
   "execution_count": 99,
   "id": "66c7d733",
   "metadata": {},
   "outputs": [
    {
     "data": {
      "text/html": [
       "<div>\n",
       "<style scoped>\n",
       "    .dataframe tbody tr th:only-of-type {\n",
       "        vertical-align: middle;\n",
       "    }\n",
       "\n",
       "    .dataframe tbody tr th {\n",
       "        vertical-align: top;\n",
       "    }\n",
       "\n",
       "    .dataframe thead th {\n",
       "        text-align: right;\n",
       "    }\n",
       "</style>\n",
       "<table border=\"1\" class=\"dataframe\">\n",
       "  <thead>\n",
       "    <tr style=\"text-align: right;\">\n",
       "      <th></th>\n",
       "      <th>poultry_production</th>\n",
       "    </tr>\n",
       "    <tr>\n",
       "      <th>month</th>\n",
       "      <th></th>\n",
       "    </tr>\n",
       "  </thead>\n",
       "  <tbody>\n",
       "    <tr>\n",
       "      <th>1999-01-31</th>\n",
       "      <td>45.833333</td>\n",
       "    </tr>\n",
       "    <tr>\n",
       "      <th>1999-02-28</th>\n",
       "      <td>45.833333</td>\n",
       "    </tr>\n",
       "    <tr>\n",
       "      <th>1999-03-31</th>\n",
       "      <td>45.833333</td>\n",
       "    </tr>\n",
       "    <tr>\n",
       "      <th>1999-04-30</th>\n",
       "      <td>45.833333</td>\n",
       "    </tr>\n",
       "    <tr>\n",
       "      <th>1999-05-31</th>\n",
       "      <td>45.833333</td>\n",
       "    </tr>\n",
       "    <tr>\n",
       "      <th>...</th>\n",
       "      <td>...</td>\n",
       "    </tr>\n",
       "    <tr>\n",
       "      <th>2020-08-31</th>\n",
       "      <td>97.000000</td>\n",
       "    </tr>\n",
       "    <tr>\n",
       "      <th>2020-09-30</th>\n",
       "      <td>97.000000</td>\n",
       "    </tr>\n",
       "    <tr>\n",
       "      <th>2020-10-31</th>\n",
       "      <td>97.000000</td>\n",
       "    </tr>\n",
       "    <tr>\n",
       "      <th>2020-11-30</th>\n",
       "      <td>97.000000</td>\n",
       "    </tr>\n",
       "    <tr>\n",
       "      <th>2020-12-31</th>\n",
       "      <td>97.000000</td>\n",
       "    </tr>\n",
       "  </tbody>\n",
       "</table>\n",
       "<p>264 rows × 1 columns</p>\n",
       "</div>"
      ],
      "text/plain": [
       "            poultry_production\n",
       "month                         \n",
       "1999-01-31           45.833333\n",
       "1999-02-28           45.833333\n",
       "1999-03-31           45.833333\n",
       "1999-04-30           45.833333\n",
       "1999-05-31           45.833333\n",
       "...                        ...\n",
       "2020-08-31           97.000000\n",
       "2020-09-30           97.000000\n",
       "2020-10-31           97.000000\n",
       "2020-11-30           97.000000\n",
       "2020-12-31           97.000000\n",
       "\n",
       "[264 rows x 1 columns]"
      ]
     },
     "execution_count": 99,
     "metadata": {},
     "output_type": "execute_result"
    }
   ],
   "source": [
    "df_poultry_production_aus_M"
   ]
  },
  {
   "cell_type": "markdown",
   "id": "bd723b43",
   "metadata": {},
   "source": [
    "# Australia Corn Production by Year\n",
    "\n",
    "https://www.indexmundi.com/agriculture/?country=au&commodity=corn&graph=production"
   ]
  },
  {
   "cell_type": "code",
   "execution_count": 100,
   "id": "eac15a4f",
   "metadata": {},
   "outputs": [],
   "source": [
    "df_corn_production_aus = pd.read_csv(\"data/aus/au-corn-production.csv\")"
   ]
  },
  {
   "cell_type": "code",
   "execution_count": 101,
   "id": "e83ab0b7",
   "metadata": {},
   "outputs": [
    {
     "data": {
      "text/html": [
       "<div>\n",
       "<style scoped>\n",
       "    .dataframe tbody tr th:only-of-type {\n",
       "        vertical-align: middle;\n",
       "    }\n",
       "\n",
       "    .dataframe tbody tr th {\n",
       "        vertical-align: top;\n",
       "    }\n",
       "\n",
       "    .dataframe thead th {\n",
       "        text-align: right;\n",
       "    }\n",
       "</style>\n",
       "<table border=\"1\" class=\"dataframe\">\n",
       "  <thead>\n",
       "    <tr style=\"text-align: right;\">\n",
       "      <th></th>\n",
       "      <th>Market Year</th>\n",
       "      <th>Value</th>\n",
       "      <th>Unit Description</th>\n",
       "    </tr>\n",
       "  </thead>\n",
       "  <tbody>\n",
       "    <tr>\n",
       "      <th>0</th>\n",
       "      <td>1960</td>\n",
       "      <td>159</td>\n",
       "      <td>(1000 MT)</td>\n",
       "    </tr>\n",
       "    <tr>\n",
       "      <th>1</th>\n",
       "      <td>1961</td>\n",
       "      <td>186</td>\n",
       "      <td>(1000 MT)</td>\n",
       "    </tr>\n",
       "    <tr>\n",
       "      <th>2</th>\n",
       "      <td>1962</td>\n",
       "      <td>189</td>\n",
       "      <td>(1000 MT)</td>\n",
       "    </tr>\n",
       "    <tr>\n",
       "      <th>3</th>\n",
       "      <td>1963</td>\n",
       "      <td>171</td>\n",
       "      <td>(1000 MT)</td>\n",
       "    </tr>\n",
       "    <tr>\n",
       "      <th>4</th>\n",
       "      <td>1964</td>\n",
       "      <td>175</td>\n",
       "      <td>(1000 MT)</td>\n",
       "    </tr>\n",
       "    <tr>\n",
       "      <th>...</th>\n",
       "      <td>...</td>\n",
       "      <td>...</td>\n",
       "      <td>...</td>\n",
       "    </tr>\n",
       "    <tr>\n",
       "      <th>57</th>\n",
       "      <td>2017</td>\n",
       "      <td>387</td>\n",
       "      <td>(1000 MT)</td>\n",
       "    </tr>\n",
       "    <tr>\n",
       "      <th>58</th>\n",
       "      <td>2018</td>\n",
       "      <td>327</td>\n",
       "      <td>(1000 MT)</td>\n",
       "    </tr>\n",
       "    <tr>\n",
       "      <th>59</th>\n",
       "      <td>2019</td>\n",
       "      <td>268</td>\n",
       "      <td>(1000 MT)</td>\n",
       "    </tr>\n",
       "    <tr>\n",
       "      <th>60</th>\n",
       "      <td>2020</td>\n",
       "      <td>356</td>\n",
       "      <td>(1000 MT)</td>\n",
       "    </tr>\n",
       "    <tr>\n",
       "      <th>61</th>\n",
       "      <td>2021</td>\n",
       "      <td>430</td>\n",
       "      <td>(1000 MT)</td>\n",
       "    </tr>\n",
       "  </tbody>\n",
       "</table>\n",
       "<p>62 rows × 3 columns</p>\n",
       "</div>"
      ],
      "text/plain": [
       "    Market Year   Value  Unit Description\n",
       "0          1960     159         (1000 MT)\n",
       "1          1961     186         (1000 MT)\n",
       "2          1962     189         (1000 MT)\n",
       "3          1963     171         (1000 MT)\n",
       "4          1964     175         (1000 MT)\n",
       "..          ...     ...               ...\n",
       "57         2017     387         (1000 MT)\n",
       "58         2018     327         (1000 MT)\n",
       "59         2019     268         (1000 MT)\n",
       "60         2020     356         (1000 MT)\n",
       "61         2021     430         (1000 MT)\n",
       "\n",
       "[62 rows x 3 columns]"
      ]
     },
     "execution_count": 101,
     "metadata": {},
     "output_type": "execute_result"
    }
   ],
   "source": [
    "df_corn_production_aus"
   ]
  },
  {
   "cell_type": "code",
   "execution_count": 102,
   "id": "79e8467c",
   "metadata": {},
   "outputs": [],
   "source": [
    "df_corn_production_aus_M = transform_indexmundi_yearly_data(df_corn_production_aus, \"corn_production\")"
   ]
  },
  {
   "cell_type": "code",
   "execution_count": 103,
   "id": "3b62cdf7",
   "metadata": {},
   "outputs": [
    {
     "data": {
      "text/plain": [
       "corn_production    0\n",
       "dtype: int64"
      ]
     },
     "execution_count": 103,
     "metadata": {},
     "output_type": "execute_result"
    }
   ],
   "source": [
    "df_corn_production_aus_M.isnull().sum()"
   ]
  },
  {
   "cell_type": "code",
   "execution_count": 104,
   "id": "42d12724",
   "metadata": {},
   "outputs": [
    {
     "name": "stdout",
     "output_type": "stream",
     "text": [
      "<class 'pandas.core.frame.DataFrame'>\n",
      "DatetimeIndex: 384 entries, 1990-01-31 to 2021-12-31\n",
      "Freq: M\n",
      "Data columns (total 1 columns):\n",
      " #   Column           Non-Null Count  Dtype  \n",
      "---  ------           --------------  -----  \n",
      " 0   corn_production  384 non-null    float64\n",
      "dtypes: float64(1)\n",
      "memory usage: 6.0 KB\n"
     ]
    }
   ],
   "source": [
    "df_corn_production_aus_M.info()"
   ]
  },
  {
   "cell_type": "markdown",
   "id": "1b812147",
   "metadata": {},
   "source": [
    "## final output"
   ]
  },
  {
   "cell_type": "code",
   "execution_count": 105,
   "id": "adbdbe74",
   "metadata": {},
   "outputs": [
    {
     "data": {
      "text/html": [
       "<div>\n",
       "<style scoped>\n",
       "    .dataframe tbody tr th:only-of-type {\n",
       "        vertical-align: middle;\n",
       "    }\n",
       "\n",
       "    .dataframe tbody tr th {\n",
       "        vertical-align: top;\n",
       "    }\n",
       "\n",
       "    .dataframe thead th {\n",
       "        text-align: right;\n",
       "    }\n",
       "</style>\n",
       "<table border=\"1\" class=\"dataframe\">\n",
       "  <thead>\n",
       "    <tr style=\"text-align: right;\">\n",
       "      <th></th>\n",
       "      <th>corn_production</th>\n",
       "    </tr>\n",
       "    <tr>\n",
       "      <th>month</th>\n",
       "      <th></th>\n",
       "    </tr>\n",
       "  </thead>\n",
       "  <tbody>\n",
       "    <tr>\n",
       "      <th>1990-01-31</th>\n",
       "      <td>17.083333</td>\n",
       "    </tr>\n",
       "    <tr>\n",
       "      <th>1990-02-28</th>\n",
       "      <td>17.083333</td>\n",
       "    </tr>\n",
       "    <tr>\n",
       "      <th>1990-03-31</th>\n",
       "      <td>17.083333</td>\n",
       "    </tr>\n",
       "    <tr>\n",
       "      <th>1990-04-30</th>\n",
       "      <td>17.083333</td>\n",
       "    </tr>\n",
       "    <tr>\n",
       "      <th>1990-05-31</th>\n",
       "      <td>17.083333</td>\n",
       "    </tr>\n",
       "    <tr>\n",
       "      <th>...</th>\n",
       "      <td>...</td>\n",
       "    </tr>\n",
       "    <tr>\n",
       "      <th>2021-08-31</th>\n",
       "      <td>35.833333</td>\n",
       "    </tr>\n",
       "    <tr>\n",
       "      <th>2021-09-30</th>\n",
       "      <td>35.833333</td>\n",
       "    </tr>\n",
       "    <tr>\n",
       "      <th>2021-10-31</th>\n",
       "      <td>35.833333</td>\n",
       "    </tr>\n",
       "    <tr>\n",
       "      <th>2021-11-30</th>\n",
       "      <td>35.833333</td>\n",
       "    </tr>\n",
       "    <tr>\n",
       "      <th>2021-12-31</th>\n",
       "      <td>35.833333</td>\n",
       "    </tr>\n",
       "  </tbody>\n",
       "</table>\n",
       "<p>384 rows × 1 columns</p>\n",
       "</div>"
      ],
      "text/plain": [
       "            corn_production\n",
       "month                      \n",
       "1990-01-31        17.083333\n",
       "1990-02-28        17.083333\n",
       "1990-03-31        17.083333\n",
       "1990-04-30        17.083333\n",
       "1990-05-31        17.083333\n",
       "...                     ...\n",
       "2021-08-31        35.833333\n",
       "2021-09-30        35.833333\n",
       "2021-10-31        35.833333\n",
       "2021-11-30        35.833333\n",
       "2021-12-31        35.833333\n",
       "\n",
       "[384 rows x 1 columns]"
      ]
     },
     "execution_count": 105,
     "metadata": {},
     "output_type": "execute_result"
    }
   ],
   "source": [
    "df_corn_production_aus_M"
   ]
  },
  {
   "cell_type": "markdown",
   "id": "797579cb",
   "metadata": {},
   "source": [
    "# Australia Cotton Production by Year\n",
    "\n",
    "https://www.indexmundi.com/agriculture/?country=au&commodity=cotton&graph=production"
   ]
  },
  {
   "cell_type": "code",
   "execution_count": 106,
   "id": "2913fdf5",
   "metadata": {},
   "outputs": [],
   "source": [
    "df_cotton_production_aus = pd.read_csv(\"data/aus/au-cotton-production.csv\")"
   ]
  },
  {
   "cell_type": "code",
   "execution_count": 107,
   "id": "8f439afe",
   "metadata": {},
   "outputs": [
    {
     "data": {
      "text/html": [
       "<div>\n",
       "<style scoped>\n",
       "    .dataframe tbody tr th:only-of-type {\n",
       "        vertical-align: middle;\n",
       "    }\n",
       "\n",
       "    .dataframe tbody tr th {\n",
       "        vertical-align: top;\n",
       "    }\n",
       "\n",
       "    .dataframe thead th {\n",
       "        text-align: right;\n",
       "    }\n",
       "</style>\n",
       "<table border=\"1\" class=\"dataframe\">\n",
       "  <thead>\n",
       "    <tr style=\"text-align: right;\">\n",
       "      <th></th>\n",
       "      <th>Market Year</th>\n",
       "      <th>Value</th>\n",
       "      <th>Unit Description</th>\n",
       "    </tr>\n",
       "  </thead>\n",
       "  <tbody>\n",
       "    <tr>\n",
       "      <th>0</th>\n",
       "      <td>1960</td>\n",
       "      <td>8</td>\n",
       "      <td>1000 480 lb. Bales</td>\n",
       "    </tr>\n",
       "    <tr>\n",
       "      <th>1</th>\n",
       "      <td>1961</td>\n",
       "      <td>8</td>\n",
       "      <td>1000 480 lb. Bales</td>\n",
       "    </tr>\n",
       "    <tr>\n",
       "      <th>2</th>\n",
       "      <td>1962</td>\n",
       "      <td>10</td>\n",
       "      <td>1000 480 lb. Bales</td>\n",
       "    </tr>\n",
       "    <tr>\n",
       "      <th>3</th>\n",
       "      <td>1963</td>\n",
       "      <td>16</td>\n",
       "      <td>1000 480 lb. Bales</td>\n",
       "    </tr>\n",
       "    <tr>\n",
       "      <th>4</th>\n",
       "      <td>1964</td>\n",
       "      <td>45</td>\n",
       "      <td>1000 480 lb. Bales</td>\n",
       "    </tr>\n",
       "    <tr>\n",
       "      <th>...</th>\n",
       "      <td>...</td>\n",
       "      <td>...</td>\n",
       "      <td>...</td>\n",
       "    </tr>\n",
       "    <tr>\n",
       "      <th>57</th>\n",
       "      <td>2017</td>\n",
       "      <td>4800</td>\n",
       "      <td>1000 480 lb. Bales</td>\n",
       "    </tr>\n",
       "    <tr>\n",
       "      <th>58</th>\n",
       "      <td>2018</td>\n",
       "      <td>2200</td>\n",
       "      <td>1000 480 lb. Bales</td>\n",
       "    </tr>\n",
       "    <tr>\n",
       "      <th>59</th>\n",
       "      <td>2019</td>\n",
       "      <td>625</td>\n",
       "      <td>1000 480 lb. Bales</td>\n",
       "    </tr>\n",
       "    <tr>\n",
       "      <th>60</th>\n",
       "      <td>2020</td>\n",
       "      <td>2800</td>\n",
       "      <td>1000 480 lb. Bales</td>\n",
       "    </tr>\n",
       "    <tr>\n",
       "      <th>61</th>\n",
       "      <td>2021</td>\n",
       "      <td>5500</td>\n",
       "      <td>1000 480 lb. Bales</td>\n",
       "    </tr>\n",
       "  </tbody>\n",
       "</table>\n",
       "<p>62 rows × 3 columns</p>\n",
       "</div>"
      ],
      "text/plain": [
       "    Market Year   Value    Unit Description\n",
       "0          1960       8  1000 480 lb. Bales\n",
       "1          1961       8  1000 480 lb. Bales\n",
       "2          1962      10  1000 480 lb. Bales\n",
       "3          1963      16  1000 480 lb. Bales\n",
       "4          1964      45  1000 480 lb. Bales\n",
       "..          ...     ...                 ...\n",
       "57         2017    4800  1000 480 lb. Bales\n",
       "58         2018    2200  1000 480 lb. Bales\n",
       "59         2019     625  1000 480 lb. Bales\n",
       "60         2020    2800  1000 480 lb. Bales\n",
       "61         2021    5500  1000 480 lb. Bales\n",
       "\n",
       "[62 rows x 3 columns]"
      ]
     },
     "execution_count": 107,
     "metadata": {},
     "output_type": "execute_result"
    }
   ],
   "source": [
    "df_cotton_production_aus"
   ]
  },
  {
   "cell_type": "code",
   "execution_count": 108,
   "id": "c9ae7337",
   "metadata": {},
   "outputs": [],
   "source": [
    "df_cotton_production_aus_M = transform_indexmundi_yearly_data(df_cotton_production_aus, \"cotton_production\")"
   ]
  },
  {
   "cell_type": "code",
   "execution_count": 109,
   "id": "afcd5a53",
   "metadata": {},
   "outputs": [
    {
     "data": {
      "text/plain": [
       "cotton_production    0\n",
       "dtype: int64"
      ]
     },
     "execution_count": 109,
     "metadata": {},
     "output_type": "execute_result"
    }
   ],
   "source": [
    "df_cotton_production_aus_M.isnull().sum()"
   ]
  },
  {
   "cell_type": "code",
   "execution_count": 110,
   "id": "ca61f061",
   "metadata": {},
   "outputs": [
    {
     "name": "stdout",
     "output_type": "stream",
     "text": [
      "<class 'pandas.core.frame.DataFrame'>\n",
      "DatetimeIndex: 384 entries, 1990-01-31 to 2021-12-31\n",
      "Freq: M\n",
      "Data columns (total 1 columns):\n",
      " #   Column             Non-Null Count  Dtype  \n",
      "---  ------             --------------  -----  \n",
      " 0   cotton_production  384 non-null    float64\n",
      "dtypes: float64(1)\n",
      "memory usage: 6.0 KB\n"
     ]
    }
   ],
   "source": [
    "df_cotton_production_aus_M.info()"
   ]
  },
  {
   "cell_type": "markdown",
   "id": "e139caef",
   "metadata": {},
   "source": [
    "## final output"
   ]
  },
  {
   "cell_type": "code",
   "execution_count": 111,
   "id": "e2254cdb",
   "metadata": {},
   "outputs": [
    {
     "data": {
      "text/html": [
       "<div>\n",
       "<style scoped>\n",
       "    .dataframe tbody tr th:only-of-type {\n",
       "        vertical-align: middle;\n",
       "    }\n",
       "\n",
       "    .dataframe tbody tr th {\n",
       "        vertical-align: top;\n",
       "    }\n",
       "\n",
       "    .dataframe thead th {\n",
       "        text-align: right;\n",
       "    }\n",
       "</style>\n",
       "<table border=\"1\" class=\"dataframe\">\n",
       "  <thead>\n",
       "    <tr style=\"text-align: right;\">\n",
       "      <th></th>\n",
       "      <th>cotton_production</th>\n",
       "    </tr>\n",
       "    <tr>\n",
       "      <th>month</th>\n",
       "      <th></th>\n",
       "    </tr>\n",
       "  </thead>\n",
       "  <tbody>\n",
       "    <tr>\n",
       "      <th>1990-01-31</th>\n",
       "      <td>165.750000</td>\n",
       "    </tr>\n",
       "    <tr>\n",
       "      <th>1990-02-28</th>\n",
       "      <td>165.750000</td>\n",
       "    </tr>\n",
       "    <tr>\n",
       "      <th>1990-03-31</th>\n",
       "      <td>165.750000</td>\n",
       "    </tr>\n",
       "    <tr>\n",
       "      <th>1990-04-30</th>\n",
       "      <td>165.750000</td>\n",
       "    </tr>\n",
       "    <tr>\n",
       "      <th>1990-05-31</th>\n",
       "      <td>165.750000</td>\n",
       "    </tr>\n",
       "    <tr>\n",
       "      <th>...</th>\n",
       "      <td>...</td>\n",
       "    </tr>\n",
       "    <tr>\n",
       "      <th>2021-08-31</th>\n",
       "      <td>458.333333</td>\n",
       "    </tr>\n",
       "    <tr>\n",
       "      <th>2021-09-30</th>\n",
       "      <td>458.333333</td>\n",
       "    </tr>\n",
       "    <tr>\n",
       "      <th>2021-10-31</th>\n",
       "      <td>458.333333</td>\n",
       "    </tr>\n",
       "    <tr>\n",
       "      <th>2021-11-30</th>\n",
       "      <td>458.333333</td>\n",
       "    </tr>\n",
       "    <tr>\n",
       "      <th>2021-12-31</th>\n",
       "      <td>458.333333</td>\n",
       "    </tr>\n",
       "  </tbody>\n",
       "</table>\n",
       "<p>384 rows × 1 columns</p>\n",
       "</div>"
      ],
      "text/plain": [
       "            cotton_production\n",
       "month                        \n",
       "1990-01-31         165.750000\n",
       "1990-02-28         165.750000\n",
       "1990-03-31         165.750000\n",
       "1990-04-30         165.750000\n",
       "1990-05-31         165.750000\n",
       "...                       ...\n",
       "2021-08-31         458.333333\n",
       "2021-09-30         458.333333\n",
       "2021-10-31         458.333333\n",
       "2021-11-30         458.333333\n",
       "2021-12-31         458.333333\n",
       "\n",
       "[384 rows x 1 columns]"
      ]
     },
     "execution_count": 111,
     "metadata": {},
     "output_type": "execute_result"
    }
   ],
   "source": [
    "df_cotton_production_aus_M"
   ]
  },
  {
   "cell_type": "markdown",
   "id": "9bee15c1",
   "metadata": {},
   "source": [
    "# Australia Dairy, Butter Production by Year\n",
    "\n",
    "https://www.indexmundi.com/agriculture/?country=au&commodity=butter&graph=production"
   ]
  },
  {
   "cell_type": "code",
   "execution_count": 112,
   "id": "421fda34",
   "metadata": {},
   "outputs": [],
   "source": [
    "df_butter_production_aus = pd.read_csv(\"data/aus/au-butter-production.csv\")"
   ]
  },
  {
   "cell_type": "code",
   "execution_count": 113,
   "id": "500d54dd",
   "metadata": {},
   "outputs": [
    {
     "data": {
      "text/html": [
       "<div>\n",
       "<style scoped>\n",
       "    .dataframe tbody tr th:only-of-type {\n",
       "        vertical-align: middle;\n",
       "    }\n",
       "\n",
       "    .dataframe tbody tr th {\n",
       "        vertical-align: top;\n",
       "    }\n",
       "\n",
       "    .dataframe thead th {\n",
       "        text-align: right;\n",
       "    }\n",
       "</style>\n",
       "<table border=\"1\" class=\"dataframe\">\n",
       "  <thead>\n",
       "    <tr style=\"text-align: right;\">\n",
       "      <th></th>\n",
       "      <th>Market Year</th>\n",
       "      <th>Value</th>\n",
       "      <th>Unit Description</th>\n",
       "    </tr>\n",
       "  </thead>\n",
       "  <tbody>\n",
       "    <tr>\n",
       "      <th>0</th>\n",
       "      <td>1964</td>\n",
       "      <td>206</td>\n",
       "      <td>(1000 MT)</td>\n",
       "    </tr>\n",
       "    <tr>\n",
       "      <th>1</th>\n",
       "      <td>1965</td>\n",
       "      <td>206</td>\n",
       "      <td>(1000 MT)</td>\n",
       "    </tr>\n",
       "    <tr>\n",
       "      <th>2</th>\n",
       "      <td>1966</td>\n",
       "      <td>209</td>\n",
       "      <td>(1000 MT)</td>\n",
       "    </tr>\n",
       "    <tr>\n",
       "      <th>3</th>\n",
       "      <td>1967</td>\n",
       "      <td>222</td>\n",
       "      <td>(1000 MT)</td>\n",
       "    </tr>\n",
       "    <tr>\n",
       "      <th>4</th>\n",
       "      <td>1968</td>\n",
       "      <td>196</td>\n",
       "      <td>(1000 MT)</td>\n",
       "    </tr>\n",
       "    <tr>\n",
       "      <th>5</th>\n",
       "      <td>1969</td>\n",
       "      <td>198</td>\n",
       "      <td>(1000 MT)</td>\n",
       "    </tr>\n",
       "    <tr>\n",
       "      <th>6</th>\n",
       "      <td>1970</td>\n",
       "      <td>223</td>\n",
       "      <td>(1000 MT)</td>\n",
       "    </tr>\n",
       "    <tr>\n",
       "      <th>7</th>\n",
       "      <td>1971</td>\n",
       "      <td>203</td>\n",
       "      <td>(1000 MT)</td>\n",
       "    </tr>\n",
       "    <tr>\n",
       "      <th>8</th>\n",
       "      <td>1972</td>\n",
       "      <td>196</td>\n",
       "      <td>(1000 MT)</td>\n",
       "    </tr>\n",
       "    <tr>\n",
       "      <th>9</th>\n",
       "      <td>1973</td>\n",
       "      <td>185</td>\n",
       "      <td>(1000 MT)</td>\n",
       "    </tr>\n",
       "    <tr>\n",
       "      <th>10</th>\n",
       "      <td>1974</td>\n",
       "      <td>175</td>\n",
       "      <td>(1000 MT)</td>\n",
       "    </tr>\n",
       "    <tr>\n",
       "      <th>11</th>\n",
       "      <td>1975</td>\n",
       "      <td>161</td>\n",
       "      <td>(1000 MT)</td>\n",
       "    </tr>\n",
       "    <tr>\n",
       "      <th>12</th>\n",
       "      <td>1976</td>\n",
       "      <td>148</td>\n",
       "      <td>(1000 MT)</td>\n",
       "    </tr>\n",
       "    <tr>\n",
       "      <th>13</th>\n",
       "      <td>1977</td>\n",
       "      <td>118</td>\n",
       "      <td>(1000 MT)</td>\n",
       "    </tr>\n",
       "    <tr>\n",
       "      <th>14</th>\n",
       "      <td>1978</td>\n",
       "      <td>112</td>\n",
       "      <td>(1000 MT)</td>\n",
       "    </tr>\n",
       "    <tr>\n",
       "      <th>15</th>\n",
       "      <td>1979</td>\n",
       "      <td>105</td>\n",
       "      <td>(1000 MT)</td>\n",
       "    </tr>\n",
       "    <tr>\n",
       "      <th>16</th>\n",
       "      <td>1980</td>\n",
       "      <td>84</td>\n",
       "      <td>(1000 MT)</td>\n",
       "    </tr>\n",
       "    <tr>\n",
       "      <th>17</th>\n",
       "      <td>1981</td>\n",
       "      <td>79</td>\n",
       "      <td>(1000 MT)</td>\n",
       "    </tr>\n",
       "    <tr>\n",
       "      <th>18</th>\n",
       "      <td>1982</td>\n",
       "      <td>76</td>\n",
       "      <td>(1000 MT)</td>\n",
       "    </tr>\n",
       "    <tr>\n",
       "      <th>19</th>\n",
       "      <td>1983</td>\n",
       "      <td>88</td>\n",
       "      <td>(1000 MT)</td>\n",
       "    </tr>\n",
       "    <tr>\n",
       "      <th>20</th>\n",
       "      <td>1984</td>\n",
       "      <td>111</td>\n",
       "      <td>(1000 MT)</td>\n",
       "    </tr>\n",
       "    <tr>\n",
       "      <th>21</th>\n",
       "      <td>1985</td>\n",
       "      <td>114</td>\n",
       "      <td>(1000 MT)</td>\n",
       "    </tr>\n",
       "    <tr>\n",
       "      <th>22</th>\n",
       "      <td>1986</td>\n",
       "      <td>105</td>\n",
       "      <td>(1000 MT)</td>\n",
       "    </tr>\n",
       "    <tr>\n",
       "      <th>23</th>\n",
       "      <td>1987</td>\n",
       "      <td>104</td>\n",
       "      <td>(1000 MT)</td>\n",
       "    </tr>\n",
       "    <tr>\n",
       "      <th>24</th>\n",
       "      <td>1988</td>\n",
       "      <td>98</td>\n",
       "      <td>(1000 MT)</td>\n",
       "    </tr>\n",
       "    <tr>\n",
       "      <th>25</th>\n",
       "      <td>1989</td>\n",
       "      <td>96</td>\n",
       "      <td>(1000 MT)</td>\n",
       "    </tr>\n",
       "    <tr>\n",
       "      <th>26</th>\n",
       "      <td>1990</td>\n",
       "      <td>111</td>\n",
       "      <td>(1000 MT)</td>\n",
       "    </tr>\n",
       "    <tr>\n",
       "      <th>27</th>\n",
       "      <td>1991</td>\n",
       "      <td>111</td>\n",
       "      <td>(1000 MT)</td>\n",
       "    </tr>\n",
       "    <tr>\n",
       "      <th>28</th>\n",
       "      <td>1992</td>\n",
       "      <td>116</td>\n",
       "      <td>(1000 MT)</td>\n",
       "    </tr>\n",
       "    <tr>\n",
       "      <th>29</th>\n",
       "      <td>1993</td>\n",
       "      <td>131</td>\n",
       "      <td>(1000 MT)</td>\n",
       "    </tr>\n",
       "    <tr>\n",
       "      <th>30</th>\n",
       "      <td>1994</td>\n",
       "      <td>147</td>\n",
       "      <td>(1000 MT)</td>\n",
       "    </tr>\n",
       "    <tr>\n",
       "      <th>31</th>\n",
       "      <td>1995</td>\n",
       "      <td>138</td>\n",
       "      <td>(1000 MT)</td>\n",
       "    </tr>\n",
       "    <tr>\n",
       "      <th>32</th>\n",
       "      <td>1996</td>\n",
       "      <td>153</td>\n",
       "      <td>(1000 MT)</td>\n",
       "    </tr>\n",
       "    <tr>\n",
       "      <th>33</th>\n",
       "      <td>1997</td>\n",
       "      <td>147</td>\n",
       "      <td>(1000 MT)</td>\n",
       "    </tr>\n",
       "    <tr>\n",
       "      <th>34</th>\n",
       "      <td>1998</td>\n",
       "      <td>154</td>\n",
       "      <td>(1000 MT)</td>\n",
       "    </tr>\n",
       "    <tr>\n",
       "      <th>35</th>\n",
       "      <td>1999</td>\n",
       "      <td>176</td>\n",
       "      <td>(1000 MT)</td>\n",
       "    </tr>\n",
       "    <tr>\n",
       "      <th>36</th>\n",
       "      <td>2000</td>\n",
       "      <td>180</td>\n",
       "      <td>(1000 MT)</td>\n",
       "    </tr>\n",
       "    <tr>\n",
       "      <th>37</th>\n",
       "      <td>2001</td>\n",
       "      <td>160</td>\n",
       "      <td>(1000 MT)</td>\n",
       "    </tr>\n",
       "    <tr>\n",
       "      <th>38</th>\n",
       "      <td>2002</td>\n",
       "      <td>164</td>\n",
       "      <td>(1000 MT)</td>\n",
       "    </tr>\n",
       "    <tr>\n",
       "      <th>39</th>\n",
       "      <td>2003</td>\n",
       "      <td>163</td>\n",
       "      <td>(1000 MT)</td>\n",
       "    </tr>\n",
       "    <tr>\n",
       "      <th>40</th>\n",
       "      <td>2004</td>\n",
       "      <td>132</td>\n",
       "      <td>(1000 MT)</td>\n",
       "    </tr>\n",
       "    <tr>\n",
       "      <th>41</th>\n",
       "      <td>2005</td>\n",
       "      <td>131</td>\n",
       "      <td>(1000 MT)</td>\n",
       "    </tr>\n",
       "    <tr>\n",
       "      <th>42</th>\n",
       "      <td>2006</td>\n",
       "      <td>129</td>\n",
       "      <td>(1000 MT)</td>\n",
       "    </tr>\n",
       "    <tr>\n",
       "      <th>43</th>\n",
       "      <td>2007</td>\n",
       "      <td>117</td>\n",
       "      <td>(1000 MT)</td>\n",
       "    </tr>\n",
       "    <tr>\n",
       "      <th>44</th>\n",
       "      <td>2008</td>\n",
       "      <td>111</td>\n",
       "      <td>(1000 MT)</td>\n",
       "    </tr>\n",
       "    <tr>\n",
       "      <th>45</th>\n",
       "      <td>2009</td>\n",
       "      <td>118</td>\n",
       "      <td>(1000 MT)</td>\n",
       "    </tr>\n",
       "    <tr>\n",
       "      <th>46</th>\n",
       "      <td>2010</td>\n",
       "      <td>132</td>\n",
       "      <td>(1000 MT)</td>\n",
       "    </tr>\n",
       "    <tr>\n",
       "      <th>47</th>\n",
       "      <td>2011</td>\n",
       "      <td>121</td>\n",
       "      <td>(1000 MT)</td>\n",
       "    </tr>\n",
       "    <tr>\n",
       "      <th>48</th>\n",
       "      <td>2012</td>\n",
       "      <td>119</td>\n",
       "      <td>(1000 MT)</td>\n",
       "    </tr>\n",
       "    <tr>\n",
       "      <th>49</th>\n",
       "      <td>2013</td>\n",
       "      <td>117</td>\n",
       "      <td>(1000 MT)</td>\n",
       "    </tr>\n",
       "    <tr>\n",
       "      <th>50</th>\n",
       "      <td>2014</td>\n",
       "      <td>125</td>\n",
       "      <td>(1000 MT)</td>\n",
       "    </tr>\n",
       "    <tr>\n",
       "      <th>51</th>\n",
       "      <td>2015</td>\n",
       "      <td>120</td>\n",
       "      <td>(1000 MT)</td>\n",
       "    </tr>\n",
       "    <tr>\n",
       "      <th>52</th>\n",
       "      <td>2016</td>\n",
       "      <td>110</td>\n",
       "      <td>(1000 MT)</td>\n",
       "    </tr>\n",
       "    <tr>\n",
       "      <th>53</th>\n",
       "      <td>2017</td>\n",
       "      <td>103</td>\n",
       "      <td>(1000 MT)</td>\n",
       "    </tr>\n",
       "    <tr>\n",
       "      <th>54</th>\n",
       "      <td>2018</td>\n",
       "      <td>93</td>\n",
       "      <td>(1000 MT)</td>\n",
       "    </tr>\n",
       "    <tr>\n",
       "      <th>55</th>\n",
       "      <td>2019</td>\n",
       "      <td>70</td>\n",
       "      <td>(1000 MT)</td>\n",
       "    </tr>\n",
       "    <tr>\n",
       "      <th>56</th>\n",
       "      <td>2020</td>\n",
       "      <td>75</td>\n",
       "      <td>(1000 MT)</td>\n",
       "    </tr>\n",
       "    <tr>\n",
       "      <th>57</th>\n",
       "      <td>2021</td>\n",
       "      <td>80</td>\n",
       "      <td>(1000 MT)</td>\n",
       "    </tr>\n",
       "    <tr>\n",
       "      <th>58</th>\n",
       "      <td>2022</td>\n",
       "      <td>75</td>\n",
       "      <td>(1000 MT)</td>\n",
       "    </tr>\n",
       "  </tbody>\n",
       "</table>\n",
       "</div>"
      ],
      "text/plain": [
       "    Market Year   Value  Unit Description\n",
       "0          1964     206         (1000 MT)\n",
       "1          1965     206         (1000 MT)\n",
       "2          1966     209         (1000 MT)\n",
       "3          1967     222         (1000 MT)\n",
       "4          1968     196         (1000 MT)\n",
       "5          1969     198         (1000 MT)\n",
       "6          1970     223         (1000 MT)\n",
       "7          1971     203         (1000 MT)\n",
       "8          1972     196         (1000 MT)\n",
       "9          1973     185         (1000 MT)\n",
       "10         1974     175         (1000 MT)\n",
       "11         1975     161         (1000 MT)\n",
       "12         1976     148         (1000 MT)\n",
       "13         1977     118         (1000 MT)\n",
       "14         1978     112         (1000 MT)\n",
       "15         1979     105         (1000 MT)\n",
       "16         1980      84         (1000 MT)\n",
       "17         1981      79         (1000 MT)\n",
       "18         1982      76         (1000 MT)\n",
       "19         1983      88         (1000 MT)\n",
       "20         1984     111         (1000 MT)\n",
       "21         1985     114         (1000 MT)\n",
       "22         1986     105         (1000 MT)\n",
       "23         1987     104         (1000 MT)\n",
       "24         1988      98         (1000 MT)\n",
       "25         1989      96         (1000 MT)\n",
       "26         1990     111         (1000 MT)\n",
       "27         1991     111         (1000 MT)\n",
       "28         1992     116         (1000 MT)\n",
       "29         1993     131         (1000 MT)\n",
       "30         1994     147         (1000 MT)\n",
       "31         1995     138         (1000 MT)\n",
       "32         1996     153         (1000 MT)\n",
       "33         1997     147         (1000 MT)\n",
       "34         1998     154         (1000 MT)\n",
       "35         1999     176         (1000 MT)\n",
       "36         2000     180         (1000 MT)\n",
       "37         2001     160         (1000 MT)\n",
       "38         2002     164         (1000 MT)\n",
       "39         2003     163         (1000 MT)\n",
       "40         2004     132         (1000 MT)\n",
       "41         2005     131         (1000 MT)\n",
       "42         2006     129         (1000 MT)\n",
       "43         2007     117         (1000 MT)\n",
       "44         2008     111         (1000 MT)\n",
       "45         2009     118         (1000 MT)\n",
       "46         2010     132         (1000 MT)\n",
       "47         2011     121         (1000 MT)\n",
       "48         2012     119         (1000 MT)\n",
       "49         2013     117         (1000 MT)\n",
       "50         2014     125         (1000 MT)\n",
       "51         2015     120         (1000 MT)\n",
       "52         2016     110         (1000 MT)\n",
       "53         2017     103         (1000 MT)\n",
       "54         2018      93         (1000 MT)\n",
       "55         2019      70         (1000 MT)\n",
       "56         2020      75         (1000 MT)\n",
       "57         2021      80         (1000 MT)\n",
       "58         2022      75         (1000 MT)"
      ]
     },
     "execution_count": 113,
     "metadata": {},
     "output_type": "execute_result"
    }
   ],
   "source": [
    "df_butter_production_aus"
   ]
  },
  {
   "cell_type": "code",
   "execution_count": 114,
   "id": "243222b3",
   "metadata": {},
   "outputs": [],
   "source": [
    "df_butter_production_aus_M = transform_indexmundi_yearly_data(df_butter_production_aus, \"butter_production\")"
   ]
  },
  {
   "cell_type": "code",
   "execution_count": 115,
   "id": "27719eaf",
   "metadata": {},
   "outputs": [
    {
     "data": {
      "text/plain": [
       "butter_production    0\n",
       "dtype: int64"
      ]
     },
     "execution_count": 115,
     "metadata": {},
     "output_type": "execute_result"
    }
   ],
   "source": [
    "df_butter_production_aus_M.isnull().sum()"
   ]
  },
  {
   "cell_type": "code",
   "execution_count": 116,
   "id": "ff91862b",
   "metadata": {},
   "outputs": [
    {
     "name": "stdout",
     "output_type": "stream",
     "text": [
      "<class 'pandas.core.frame.DataFrame'>\n",
      "DatetimeIndex: 384 entries, 1990-01-31 to 2021-12-31\n",
      "Freq: M\n",
      "Data columns (total 1 columns):\n",
      " #   Column             Non-Null Count  Dtype  \n",
      "---  ------             --------------  -----  \n",
      " 0   butter_production  384 non-null    float64\n",
      "dtypes: float64(1)\n",
      "memory usage: 6.0 KB\n"
     ]
    }
   ],
   "source": [
    "df_butter_production_aus_M.info()"
   ]
  },
  {
   "cell_type": "markdown",
   "id": "fae1e8fe",
   "metadata": {},
   "source": [
    "## final output"
   ]
  },
  {
   "cell_type": "code",
   "execution_count": 117,
   "id": "d08d92ec",
   "metadata": {},
   "outputs": [
    {
     "data": {
      "text/html": [
       "<div>\n",
       "<style scoped>\n",
       "    .dataframe tbody tr th:only-of-type {\n",
       "        vertical-align: middle;\n",
       "    }\n",
       "\n",
       "    .dataframe tbody tr th {\n",
       "        vertical-align: top;\n",
       "    }\n",
       "\n",
       "    .dataframe thead th {\n",
       "        text-align: right;\n",
       "    }\n",
       "</style>\n",
       "<table border=\"1\" class=\"dataframe\">\n",
       "  <thead>\n",
       "    <tr style=\"text-align: right;\">\n",
       "      <th></th>\n",
       "      <th>butter_production</th>\n",
       "    </tr>\n",
       "    <tr>\n",
       "      <th>month</th>\n",
       "      <th></th>\n",
       "    </tr>\n",
       "  </thead>\n",
       "  <tbody>\n",
       "    <tr>\n",
       "      <th>1990-01-31</th>\n",
       "      <td>9.250000</td>\n",
       "    </tr>\n",
       "    <tr>\n",
       "      <th>1990-02-28</th>\n",
       "      <td>9.250000</td>\n",
       "    </tr>\n",
       "    <tr>\n",
       "      <th>1990-03-31</th>\n",
       "      <td>9.250000</td>\n",
       "    </tr>\n",
       "    <tr>\n",
       "      <th>1990-04-30</th>\n",
       "      <td>9.250000</td>\n",
       "    </tr>\n",
       "    <tr>\n",
       "      <th>1990-05-31</th>\n",
       "      <td>9.250000</td>\n",
       "    </tr>\n",
       "    <tr>\n",
       "      <th>...</th>\n",
       "      <td>...</td>\n",
       "    </tr>\n",
       "    <tr>\n",
       "      <th>2021-08-31</th>\n",
       "      <td>6.666667</td>\n",
       "    </tr>\n",
       "    <tr>\n",
       "      <th>2021-09-30</th>\n",
       "      <td>6.666667</td>\n",
       "    </tr>\n",
       "    <tr>\n",
       "      <th>2021-10-31</th>\n",
       "      <td>6.666667</td>\n",
       "    </tr>\n",
       "    <tr>\n",
       "      <th>2021-11-30</th>\n",
       "      <td>6.666667</td>\n",
       "    </tr>\n",
       "    <tr>\n",
       "      <th>2021-12-31</th>\n",
       "      <td>6.666667</td>\n",
       "    </tr>\n",
       "  </tbody>\n",
       "</table>\n",
       "<p>384 rows × 1 columns</p>\n",
       "</div>"
      ],
      "text/plain": [
       "            butter_production\n",
       "month                        \n",
       "1990-01-31           9.250000\n",
       "1990-02-28           9.250000\n",
       "1990-03-31           9.250000\n",
       "1990-04-30           9.250000\n",
       "1990-05-31           9.250000\n",
       "...                       ...\n",
       "2021-08-31           6.666667\n",
       "2021-09-30           6.666667\n",
       "2021-10-31           6.666667\n",
       "2021-11-30           6.666667\n",
       "2021-12-31           6.666667\n",
       "\n",
       "[384 rows x 1 columns]"
      ]
     },
     "execution_count": 117,
     "metadata": {},
     "output_type": "execute_result"
    }
   ],
   "source": [
    "df_butter_production_aus_M"
   ]
  },
  {
   "cell_type": "markdown",
   "id": "fcc7932b",
   "metadata": {},
   "source": [
    "# Australia Dairy, Cheese Production by Year\n",
    "\n",
    "https://www.indexmundi.com/agriculture/?country=au&commodity=cheese&graph=production"
   ]
  },
  {
   "cell_type": "code",
   "execution_count": 118,
   "id": "659e37ca",
   "metadata": {},
   "outputs": [],
   "source": [
    "df_cheese_production_aus = pd.read_csv(\"data/aus/au-cheese-production.csv\")"
   ]
  },
  {
   "cell_type": "code",
   "execution_count": 119,
   "id": "019233eb",
   "metadata": {},
   "outputs": [
    {
     "data": {
      "text/html": [
       "<div>\n",
       "<style scoped>\n",
       "    .dataframe tbody tr th:only-of-type {\n",
       "        vertical-align: middle;\n",
       "    }\n",
       "\n",
       "    .dataframe tbody tr th {\n",
       "        vertical-align: top;\n",
       "    }\n",
       "\n",
       "    .dataframe thead th {\n",
       "        text-align: right;\n",
       "    }\n",
       "</style>\n",
       "<table border=\"1\" class=\"dataframe\">\n",
       "  <thead>\n",
       "    <tr style=\"text-align: right;\">\n",
       "      <th></th>\n",
       "      <th>Market Year</th>\n",
       "      <th>Value</th>\n",
       "      <th>Unit Description</th>\n",
       "    </tr>\n",
       "  </thead>\n",
       "  <tbody>\n",
       "    <tr>\n",
       "      <th>0</th>\n",
       "      <td>1964</td>\n",
       "      <td>59</td>\n",
       "      <td>(1000 MT)</td>\n",
       "    </tr>\n",
       "    <tr>\n",
       "      <th>1</th>\n",
       "      <td>1965</td>\n",
       "      <td>63</td>\n",
       "      <td>(1000 MT)</td>\n",
       "    </tr>\n",
       "    <tr>\n",
       "      <th>2</th>\n",
       "      <td>1966</td>\n",
       "      <td>60</td>\n",
       "      <td>(1000 MT)</td>\n",
       "    </tr>\n",
       "    <tr>\n",
       "      <th>3</th>\n",
       "      <td>1967</td>\n",
       "      <td>70</td>\n",
       "      <td>(1000 MT)</td>\n",
       "    </tr>\n",
       "    <tr>\n",
       "      <th>4</th>\n",
       "      <td>1968</td>\n",
       "      <td>71</td>\n",
       "      <td>(1000 MT)</td>\n",
       "    </tr>\n",
       "    <tr>\n",
       "      <th>5</th>\n",
       "      <td>1969</td>\n",
       "      <td>75</td>\n",
       "      <td>(1000 MT)</td>\n",
       "    </tr>\n",
       "    <tr>\n",
       "      <th>6</th>\n",
       "      <td>1970</td>\n",
       "      <td>76</td>\n",
       "      <td>(1000 MT)</td>\n",
       "    </tr>\n",
       "    <tr>\n",
       "      <th>7</th>\n",
       "      <td>1971</td>\n",
       "      <td>78</td>\n",
       "      <td>(1000 MT)</td>\n",
       "    </tr>\n",
       "    <tr>\n",
       "      <th>8</th>\n",
       "      <td>1972</td>\n",
       "      <td>81</td>\n",
       "      <td>(1000 MT)</td>\n",
       "    </tr>\n",
       "    <tr>\n",
       "      <th>9</th>\n",
       "      <td>1973</td>\n",
       "      <td>93</td>\n",
       "      <td>(1000 MT)</td>\n",
       "    </tr>\n",
       "    <tr>\n",
       "      <th>10</th>\n",
       "      <td>1974</td>\n",
       "      <td>96</td>\n",
       "      <td>(1000 MT)</td>\n",
       "    </tr>\n",
       "    <tr>\n",
       "      <th>11</th>\n",
       "      <td>1975</td>\n",
       "      <td>99</td>\n",
       "      <td>(1000 MT)</td>\n",
       "    </tr>\n",
       "    <tr>\n",
       "      <th>12</th>\n",
       "      <td>1976</td>\n",
       "      <td>113</td>\n",
       "      <td>(1000 MT)</td>\n",
       "    </tr>\n",
       "    <tr>\n",
       "      <th>13</th>\n",
       "      <td>1977</td>\n",
       "      <td>104</td>\n",
       "      <td>(1000 MT)</td>\n",
       "    </tr>\n",
       "    <tr>\n",
       "      <th>14</th>\n",
       "      <td>1978</td>\n",
       "      <td>114</td>\n",
       "      <td>(1000 MT)</td>\n",
       "    </tr>\n",
       "    <tr>\n",
       "      <th>15</th>\n",
       "      <td>1979</td>\n",
       "      <td>139</td>\n",
       "      <td>(1000 MT)</td>\n",
       "    </tr>\n",
       "    <tr>\n",
       "      <th>16</th>\n",
       "      <td>1980</td>\n",
       "      <td>151</td>\n",
       "      <td>(1000 MT)</td>\n",
       "    </tr>\n",
       "    <tr>\n",
       "      <th>17</th>\n",
       "      <td>1981</td>\n",
       "      <td>135</td>\n",
       "      <td>(1000 MT)</td>\n",
       "    </tr>\n",
       "    <tr>\n",
       "      <th>18</th>\n",
       "      <td>1982</td>\n",
       "      <td>153</td>\n",
       "      <td>(1000 MT)</td>\n",
       "    </tr>\n",
       "    <tr>\n",
       "      <th>19</th>\n",
       "      <td>1983</td>\n",
       "      <td>158</td>\n",
       "      <td>(1000 MT)</td>\n",
       "    </tr>\n",
       "    <tr>\n",
       "      <th>20</th>\n",
       "      <td>1984</td>\n",
       "      <td>161</td>\n",
       "      <td>(1000 MT)</td>\n",
       "    </tr>\n",
       "    <tr>\n",
       "      <th>21</th>\n",
       "      <td>1985</td>\n",
       "      <td>160</td>\n",
       "      <td>(1000 MT)</td>\n",
       "    </tr>\n",
       "    <tr>\n",
       "      <th>22</th>\n",
       "      <td>1986</td>\n",
       "      <td>170</td>\n",
       "      <td>(1000 MT)</td>\n",
       "    </tr>\n",
       "    <tr>\n",
       "      <th>23</th>\n",
       "      <td>1987</td>\n",
       "      <td>177</td>\n",
       "      <td>(1000 MT)</td>\n",
       "    </tr>\n",
       "    <tr>\n",
       "      <th>24</th>\n",
       "      <td>1988</td>\n",
       "      <td>176</td>\n",
       "      <td>(1000 MT)</td>\n",
       "    </tr>\n",
       "    <tr>\n",
       "      <th>25</th>\n",
       "      <td>1989</td>\n",
       "      <td>190</td>\n",
       "      <td>(1000 MT)</td>\n",
       "    </tr>\n",
       "    <tr>\n",
       "      <th>26</th>\n",
       "      <td>1990</td>\n",
       "      <td>175</td>\n",
       "      <td>(1000 MT)</td>\n",
       "    </tr>\n",
       "    <tr>\n",
       "      <th>27</th>\n",
       "      <td>1991</td>\n",
       "      <td>178</td>\n",
       "      <td>(1000 MT)</td>\n",
       "    </tr>\n",
       "    <tr>\n",
       "      <th>28</th>\n",
       "      <td>1992</td>\n",
       "      <td>197</td>\n",
       "      <td>(1000 MT)</td>\n",
       "    </tr>\n",
       "    <tr>\n",
       "      <th>29</th>\n",
       "      <td>1993</td>\n",
       "      <td>211</td>\n",
       "      <td>(1000 MT)</td>\n",
       "    </tr>\n",
       "    <tr>\n",
       "      <th>30</th>\n",
       "      <td>1994</td>\n",
       "      <td>234</td>\n",
       "      <td>(1000 MT)</td>\n",
       "    </tr>\n",
       "    <tr>\n",
       "      <th>31</th>\n",
       "      <td>1995</td>\n",
       "      <td>241</td>\n",
       "      <td>(1000 MT)</td>\n",
       "    </tr>\n",
       "    <tr>\n",
       "      <th>32</th>\n",
       "      <td>1996</td>\n",
       "      <td>268</td>\n",
       "      <td>(1000 MT)</td>\n",
       "    </tr>\n",
       "    <tr>\n",
       "      <th>33</th>\n",
       "      <td>1997</td>\n",
       "      <td>285</td>\n",
       "      <td>(1000 MT)</td>\n",
       "    </tr>\n",
       "    <tr>\n",
       "      <th>34</th>\n",
       "      <td>1998</td>\n",
       "      <td>305</td>\n",
       "      <td>(1000 MT)</td>\n",
       "    </tr>\n",
       "    <tr>\n",
       "      <th>35</th>\n",
       "      <td>1999</td>\n",
       "      <td>320</td>\n",
       "      <td>(1000 MT)</td>\n",
       "    </tr>\n",
       "    <tr>\n",
       "      <th>36</th>\n",
       "      <td>2000</td>\n",
       "      <td>373</td>\n",
       "      <td>(1000 MT)</td>\n",
       "    </tr>\n",
       "    <tr>\n",
       "      <th>37</th>\n",
       "      <td>2001</td>\n",
       "      <td>374</td>\n",
       "      <td>(1000 MT)</td>\n",
       "    </tr>\n",
       "    <tr>\n",
       "      <th>38</th>\n",
       "      <td>2002</td>\n",
       "      <td>413</td>\n",
       "      <td>(1000 MT)</td>\n",
       "    </tr>\n",
       "    <tr>\n",
       "      <th>39</th>\n",
       "      <td>2003</td>\n",
       "      <td>368</td>\n",
       "      <td>(1000 MT)</td>\n",
       "    </tr>\n",
       "    <tr>\n",
       "      <th>40</th>\n",
       "      <td>2004</td>\n",
       "      <td>389</td>\n",
       "      <td>(1000 MT)</td>\n",
       "    </tr>\n",
       "    <tr>\n",
       "      <th>41</th>\n",
       "      <td>2005</td>\n",
       "      <td>375</td>\n",
       "      <td>(1000 MT)</td>\n",
       "    </tr>\n",
       "    <tr>\n",
       "      <th>42</th>\n",
       "      <td>2006</td>\n",
       "      <td>362</td>\n",
       "      <td>(1000 MT)</td>\n",
       "    </tr>\n",
       "    <tr>\n",
       "      <th>43</th>\n",
       "      <td>2007</td>\n",
       "      <td>345</td>\n",
       "      <td>(1000 MT)</td>\n",
       "    </tr>\n",
       "    <tr>\n",
       "      <th>44</th>\n",
       "      <td>2008</td>\n",
       "      <td>344</td>\n",
       "      <td>(1000 MT)</td>\n",
       "    </tr>\n",
       "    <tr>\n",
       "      <th>45</th>\n",
       "      <td>2009</td>\n",
       "      <td>341</td>\n",
       "      <td>(1000 MT)</td>\n",
       "    </tr>\n",
       "    <tr>\n",
       "      <th>46</th>\n",
       "      <td>2010</td>\n",
       "      <td>343</td>\n",
       "      <td>(1000 MT)</td>\n",
       "    </tr>\n",
       "    <tr>\n",
       "      <th>47</th>\n",
       "      <td>2011</td>\n",
       "      <td>337</td>\n",
       "      <td>(1000 MT)</td>\n",
       "    </tr>\n",
       "    <tr>\n",
       "      <th>48</th>\n",
       "      <td>2012</td>\n",
       "      <td>352</td>\n",
       "      <td>(1000 MT)</td>\n",
       "    </tr>\n",
       "    <tr>\n",
       "      <th>49</th>\n",
       "      <td>2013</td>\n",
       "      <td>318</td>\n",
       "      <td>(1000 MT)</td>\n",
       "    </tr>\n",
       "    <tr>\n",
       "      <th>50</th>\n",
       "      <td>2014</td>\n",
       "      <td>328</td>\n",
       "      <td>(1000 MT)</td>\n",
       "    </tr>\n",
       "    <tr>\n",
       "      <th>51</th>\n",
       "      <td>2015</td>\n",
       "      <td>343</td>\n",
       "      <td>(1000 MT)</td>\n",
       "    </tr>\n",
       "    <tr>\n",
       "      <th>52</th>\n",
       "      <td>2016</td>\n",
       "      <td>344</td>\n",
       "      <td>(1000 MT)</td>\n",
       "    </tr>\n",
       "    <tr>\n",
       "      <th>53</th>\n",
       "      <td>2017</td>\n",
       "      <td>348</td>\n",
       "      <td>(1000 MT)</td>\n",
       "    </tr>\n",
       "    <tr>\n",
       "      <th>54</th>\n",
       "      <td>2018</td>\n",
       "      <td>366</td>\n",
       "      <td>(1000 MT)</td>\n",
       "    </tr>\n",
       "    <tr>\n",
       "      <th>55</th>\n",
       "      <td>2019</td>\n",
       "      <td>364</td>\n",
       "      <td>(1000 MT)</td>\n",
       "    </tr>\n",
       "    <tr>\n",
       "      <th>56</th>\n",
       "      <td>2020</td>\n",
       "      <td>373</td>\n",
       "      <td>(1000 MT)</td>\n",
       "    </tr>\n",
       "    <tr>\n",
       "      <th>57</th>\n",
       "      <td>2021</td>\n",
       "      <td>360</td>\n",
       "      <td>(1000 MT)</td>\n",
       "    </tr>\n",
       "    <tr>\n",
       "      <th>58</th>\n",
       "      <td>2022</td>\n",
       "      <td>370</td>\n",
       "      <td>(1000 MT)</td>\n",
       "    </tr>\n",
       "  </tbody>\n",
       "</table>\n",
       "</div>"
      ],
      "text/plain": [
       "    Market Year   Value  Unit Description\n",
       "0          1964      59         (1000 MT)\n",
       "1          1965      63         (1000 MT)\n",
       "2          1966      60         (1000 MT)\n",
       "3          1967      70         (1000 MT)\n",
       "4          1968      71         (1000 MT)\n",
       "5          1969      75         (1000 MT)\n",
       "6          1970      76         (1000 MT)\n",
       "7          1971      78         (1000 MT)\n",
       "8          1972      81         (1000 MT)\n",
       "9          1973      93         (1000 MT)\n",
       "10         1974      96         (1000 MT)\n",
       "11         1975      99         (1000 MT)\n",
       "12         1976     113         (1000 MT)\n",
       "13         1977     104         (1000 MT)\n",
       "14         1978     114         (1000 MT)\n",
       "15         1979     139         (1000 MT)\n",
       "16         1980     151         (1000 MT)\n",
       "17         1981     135         (1000 MT)\n",
       "18         1982     153         (1000 MT)\n",
       "19         1983     158         (1000 MT)\n",
       "20         1984     161         (1000 MT)\n",
       "21         1985     160         (1000 MT)\n",
       "22         1986     170         (1000 MT)\n",
       "23         1987     177         (1000 MT)\n",
       "24         1988     176         (1000 MT)\n",
       "25         1989     190         (1000 MT)\n",
       "26         1990     175         (1000 MT)\n",
       "27         1991     178         (1000 MT)\n",
       "28         1992     197         (1000 MT)\n",
       "29         1993     211         (1000 MT)\n",
       "30         1994     234         (1000 MT)\n",
       "31         1995     241         (1000 MT)\n",
       "32         1996     268         (1000 MT)\n",
       "33         1997     285         (1000 MT)\n",
       "34         1998     305         (1000 MT)\n",
       "35         1999     320         (1000 MT)\n",
       "36         2000     373         (1000 MT)\n",
       "37         2001     374         (1000 MT)\n",
       "38         2002     413         (1000 MT)\n",
       "39         2003     368         (1000 MT)\n",
       "40         2004     389         (1000 MT)\n",
       "41         2005     375         (1000 MT)\n",
       "42         2006     362         (1000 MT)\n",
       "43         2007     345         (1000 MT)\n",
       "44         2008     344         (1000 MT)\n",
       "45         2009     341         (1000 MT)\n",
       "46         2010     343         (1000 MT)\n",
       "47         2011     337         (1000 MT)\n",
       "48         2012     352         (1000 MT)\n",
       "49         2013     318         (1000 MT)\n",
       "50         2014     328         (1000 MT)\n",
       "51         2015     343         (1000 MT)\n",
       "52         2016     344         (1000 MT)\n",
       "53         2017     348         (1000 MT)\n",
       "54         2018     366         (1000 MT)\n",
       "55         2019     364         (1000 MT)\n",
       "56         2020     373         (1000 MT)\n",
       "57         2021     360         (1000 MT)\n",
       "58         2022     370         (1000 MT)"
      ]
     },
     "execution_count": 119,
     "metadata": {},
     "output_type": "execute_result"
    }
   ],
   "source": [
    "df_cheese_production_aus"
   ]
  },
  {
   "cell_type": "code",
   "execution_count": 120,
   "id": "7f14f684",
   "metadata": {},
   "outputs": [],
   "source": [
    "df_cheese_production_aus_M = transform_indexmundi_yearly_data(df_cheese_production_aus, \"cheese_production\")"
   ]
  },
  {
   "cell_type": "code",
   "execution_count": 121,
   "id": "f17b95e1",
   "metadata": {},
   "outputs": [
    {
     "data": {
      "text/plain": [
       "cheese_production    0\n",
       "dtype: int64"
      ]
     },
     "execution_count": 121,
     "metadata": {},
     "output_type": "execute_result"
    }
   ],
   "source": [
    "df_cheese_production_aus_M.isnull().sum()"
   ]
  },
  {
   "cell_type": "code",
   "execution_count": 122,
   "id": "dcafd339",
   "metadata": {},
   "outputs": [
    {
     "name": "stdout",
     "output_type": "stream",
     "text": [
      "<class 'pandas.core.frame.DataFrame'>\n",
      "DatetimeIndex: 384 entries, 1990-01-31 to 2021-12-31\n",
      "Freq: M\n",
      "Data columns (total 1 columns):\n",
      " #   Column             Non-Null Count  Dtype  \n",
      "---  ------             --------------  -----  \n",
      " 0   cheese_production  384 non-null    float64\n",
      "dtypes: float64(1)\n",
      "memory usage: 6.0 KB\n"
     ]
    }
   ],
   "source": [
    "df_cheese_production_aus_M.info()"
   ]
  },
  {
   "cell_type": "markdown",
   "id": "1153a237",
   "metadata": {},
   "source": [
    "## final output"
   ]
  },
  {
   "cell_type": "code",
   "execution_count": 123,
   "id": "21ea575d",
   "metadata": {},
   "outputs": [
    {
     "data": {
      "text/html": [
       "<div>\n",
       "<style scoped>\n",
       "    .dataframe tbody tr th:only-of-type {\n",
       "        vertical-align: middle;\n",
       "    }\n",
       "\n",
       "    .dataframe tbody tr th {\n",
       "        vertical-align: top;\n",
       "    }\n",
       "\n",
       "    .dataframe thead th {\n",
       "        text-align: right;\n",
       "    }\n",
       "</style>\n",
       "<table border=\"1\" class=\"dataframe\">\n",
       "  <thead>\n",
       "    <tr style=\"text-align: right;\">\n",
       "      <th></th>\n",
       "      <th>cheese_production</th>\n",
       "    </tr>\n",
       "    <tr>\n",
       "      <th>month</th>\n",
       "      <th></th>\n",
       "    </tr>\n",
       "  </thead>\n",
       "  <tbody>\n",
       "    <tr>\n",
       "      <th>1990-01-31</th>\n",
       "      <td>14.583333</td>\n",
       "    </tr>\n",
       "    <tr>\n",
       "      <th>1990-02-28</th>\n",
       "      <td>14.583333</td>\n",
       "    </tr>\n",
       "    <tr>\n",
       "      <th>1990-03-31</th>\n",
       "      <td>14.583333</td>\n",
       "    </tr>\n",
       "    <tr>\n",
       "      <th>1990-04-30</th>\n",
       "      <td>14.583333</td>\n",
       "    </tr>\n",
       "    <tr>\n",
       "      <th>1990-05-31</th>\n",
       "      <td>14.583333</td>\n",
       "    </tr>\n",
       "    <tr>\n",
       "      <th>...</th>\n",
       "      <td>...</td>\n",
       "    </tr>\n",
       "    <tr>\n",
       "      <th>2021-08-31</th>\n",
       "      <td>30.000000</td>\n",
       "    </tr>\n",
       "    <tr>\n",
       "      <th>2021-09-30</th>\n",
       "      <td>30.000000</td>\n",
       "    </tr>\n",
       "    <tr>\n",
       "      <th>2021-10-31</th>\n",
       "      <td>30.000000</td>\n",
       "    </tr>\n",
       "    <tr>\n",
       "      <th>2021-11-30</th>\n",
       "      <td>30.000000</td>\n",
       "    </tr>\n",
       "    <tr>\n",
       "      <th>2021-12-31</th>\n",
       "      <td>30.000000</td>\n",
       "    </tr>\n",
       "  </tbody>\n",
       "</table>\n",
       "<p>384 rows × 1 columns</p>\n",
       "</div>"
      ],
      "text/plain": [
       "            cheese_production\n",
       "month                        \n",
       "1990-01-31          14.583333\n",
       "1990-02-28          14.583333\n",
       "1990-03-31          14.583333\n",
       "1990-04-30          14.583333\n",
       "1990-05-31          14.583333\n",
       "...                       ...\n",
       "2021-08-31          30.000000\n",
       "2021-09-30          30.000000\n",
       "2021-10-31          30.000000\n",
       "2021-11-30          30.000000\n",
       "2021-12-31          30.000000\n",
       "\n",
       "[384 rows x 1 columns]"
      ]
     },
     "execution_count": 123,
     "metadata": {},
     "output_type": "execute_result"
    }
   ],
   "source": [
    "df_cheese_production_aus_M"
   ]
  },
  {
   "cell_type": "markdown",
   "id": "92bb2403",
   "metadata": {},
   "source": [
    "# Australia Dairy, Dry Whole Milk Powder Production by Year\n",
    "\n",
    "https://www.indexmundi.com/agriculture/?country=au&commodity=powdered-whole-milk&graph=production"
   ]
  },
  {
   "cell_type": "code",
   "execution_count": 124,
   "id": "272b7f07",
   "metadata": {},
   "outputs": [],
   "source": [
    "df_powdered_milk_production_aus = pd.read_csv(\"data/aus/au-powdered-whole-milk-production.csv\")"
   ]
  },
  {
   "cell_type": "code",
   "execution_count": 125,
   "id": "d5cb7de6",
   "metadata": {},
   "outputs": [
    {
     "data": {
      "text/html": [
       "<div>\n",
       "<style scoped>\n",
       "    .dataframe tbody tr th:only-of-type {\n",
       "        vertical-align: middle;\n",
       "    }\n",
       "\n",
       "    .dataframe tbody tr th {\n",
       "        vertical-align: top;\n",
       "    }\n",
       "\n",
       "    .dataframe thead th {\n",
       "        text-align: right;\n",
       "    }\n",
       "</style>\n",
       "<table border=\"1\" class=\"dataframe\">\n",
       "  <thead>\n",
       "    <tr style=\"text-align: right;\">\n",
       "      <th></th>\n",
       "      <th>Market Year</th>\n",
       "      <th>Value</th>\n",
       "      <th>Unit Description</th>\n",
       "    </tr>\n",
       "  </thead>\n",
       "  <tbody>\n",
       "    <tr>\n",
       "      <th>0</th>\n",
       "      <td>1982</td>\n",
       "      <td>171</td>\n",
       "      <td>(1000 MT)</td>\n",
       "    </tr>\n",
       "    <tr>\n",
       "      <th>1</th>\n",
       "      <td>1983</td>\n",
       "      <td>176</td>\n",
       "      <td>(1000 MT)</td>\n",
       "    </tr>\n",
       "    <tr>\n",
       "      <th>2</th>\n",
       "      <td>1984</td>\n",
       "      <td>174</td>\n",
       "      <td>(1000 MT)</td>\n",
       "    </tr>\n",
       "    <tr>\n",
       "      <th>3</th>\n",
       "      <td>1985</td>\n",
       "      <td>195</td>\n",
       "      <td>(1000 MT)</td>\n",
       "    </tr>\n",
       "    <tr>\n",
       "      <th>4</th>\n",
       "      <td>1986</td>\n",
       "      <td>177</td>\n",
       "      <td>(1000 MT)</td>\n",
       "    </tr>\n",
       "    <tr>\n",
       "      <th>5</th>\n",
       "      <td>1987</td>\n",
       "      <td>194</td>\n",
       "      <td>(1000 MT)</td>\n",
       "    </tr>\n",
       "    <tr>\n",
       "      <th>6</th>\n",
       "      <td>1988</td>\n",
       "      <td>184</td>\n",
       "      <td>(1000 MT)</td>\n",
       "    </tr>\n",
       "    <tr>\n",
       "      <th>7</th>\n",
       "      <td>1989</td>\n",
       "      <td>187</td>\n",
       "      <td>(1000 MT)</td>\n",
       "    </tr>\n",
       "    <tr>\n",
       "      <th>8</th>\n",
       "      <td>1990</td>\n",
       "      <td>200</td>\n",
       "      <td>(1000 MT)</td>\n",
       "    </tr>\n",
       "    <tr>\n",
       "      <th>9</th>\n",
       "      <td>1991</td>\n",
       "      <td>58</td>\n",
       "      <td>(1000 MT)</td>\n",
       "    </tr>\n",
       "    <tr>\n",
       "      <th>10</th>\n",
       "      <td>1992</td>\n",
       "      <td>67</td>\n",
       "      <td>(1000 MT)</td>\n",
       "    </tr>\n",
       "    <tr>\n",
       "      <th>11</th>\n",
       "      <td>1993</td>\n",
       "      <td>80</td>\n",
       "      <td>(1000 MT)</td>\n",
       "    </tr>\n",
       "    <tr>\n",
       "      <th>12</th>\n",
       "      <td>1994</td>\n",
       "      <td>93</td>\n",
       "      <td>(1000 MT)</td>\n",
       "    </tr>\n",
       "    <tr>\n",
       "      <th>13</th>\n",
       "      <td>1995</td>\n",
       "      <td>104</td>\n",
       "      <td>(1000 MT)</td>\n",
       "    </tr>\n",
       "    <tr>\n",
       "      <th>14</th>\n",
       "      <td>1996</td>\n",
       "      <td>113</td>\n",
       "      <td>(1000 MT)</td>\n",
       "    </tr>\n",
       "    <tr>\n",
       "      <th>15</th>\n",
       "      <td>1997</td>\n",
       "      <td>134</td>\n",
       "      <td>(1000 MT)</td>\n",
       "    </tr>\n",
       "    <tr>\n",
       "      <th>16</th>\n",
       "      <td>1998</td>\n",
       "      <td>127</td>\n",
       "      <td>(1000 MT)</td>\n",
       "    </tr>\n",
       "    <tr>\n",
       "      <th>17</th>\n",
       "      <td>1999</td>\n",
       "      <td>145</td>\n",
       "      <td>(1000 MT)</td>\n",
       "    </tr>\n",
       "    <tr>\n",
       "      <th>18</th>\n",
       "      <td>2000</td>\n",
       "      <td>187</td>\n",
       "      <td>(1000 MT)</td>\n",
       "    </tr>\n",
       "    <tr>\n",
       "      <th>19</th>\n",
       "      <td>2001</td>\n",
       "      <td>205</td>\n",
       "      <td>(1000 MT)</td>\n",
       "    </tr>\n",
       "    <tr>\n",
       "      <th>20</th>\n",
       "      <td>2002</td>\n",
       "      <td>239</td>\n",
       "      <td>(1000 MT)</td>\n",
       "    </tr>\n",
       "    <tr>\n",
       "      <th>21</th>\n",
       "      <td>2003</td>\n",
       "      <td>170</td>\n",
       "      <td>(1000 MT)</td>\n",
       "    </tr>\n",
       "    <tr>\n",
       "      <th>22</th>\n",
       "      <td>2004</td>\n",
       "      <td>187</td>\n",
       "      <td>(1000 MT)</td>\n",
       "    </tr>\n",
       "    <tr>\n",
       "      <th>23</th>\n",
       "      <td>2005</td>\n",
       "      <td>189</td>\n",
       "      <td>(1000 MT)</td>\n",
       "    </tr>\n",
       "    <tr>\n",
       "      <th>24</th>\n",
       "      <td>2006</td>\n",
       "      <td>152</td>\n",
       "      <td>(1000 MT)</td>\n",
       "    </tr>\n",
       "    <tr>\n",
       "      <th>25</th>\n",
       "      <td>2007</td>\n",
       "      <td>135</td>\n",
       "      <td>(1000 MT)</td>\n",
       "    </tr>\n",
       "    <tr>\n",
       "      <th>26</th>\n",
       "      <td>2008</td>\n",
       "      <td>142</td>\n",
       "      <td>(1000 MT)</td>\n",
       "    </tr>\n",
       "    <tr>\n",
       "      <th>27</th>\n",
       "      <td>2009</td>\n",
       "      <td>137</td>\n",
       "      <td>(1000 MT)</td>\n",
       "    </tr>\n",
       "    <tr>\n",
       "      <th>28</th>\n",
       "      <td>2010</td>\n",
       "      <td>147</td>\n",
       "      <td>(1000 MT)</td>\n",
       "    </tr>\n",
       "    <tr>\n",
       "      <th>29</th>\n",
       "      <td>2011</td>\n",
       "      <td>148</td>\n",
       "      <td>(1000 MT)</td>\n",
       "    </tr>\n",
       "    <tr>\n",
       "      <th>30</th>\n",
       "      <td>2012</td>\n",
       "      <td>120</td>\n",
       "      <td>(1000 MT)</td>\n",
       "    </tr>\n",
       "    <tr>\n",
       "      <th>31</th>\n",
       "      <td>2013</td>\n",
       "      <td>120</td>\n",
       "      <td>(1000 MT)</td>\n",
       "    </tr>\n",
       "    <tr>\n",
       "      <th>32</th>\n",
       "      <td>2014</td>\n",
       "      <td>105</td>\n",
       "      <td>(1000 MT)</td>\n",
       "    </tr>\n",
       "    <tr>\n",
       "      <th>33</th>\n",
       "      <td>2015</td>\n",
       "      <td>85</td>\n",
       "      <td>(1000 MT)</td>\n",
       "    </tr>\n",
       "    <tr>\n",
       "      <th>34</th>\n",
       "      <td>2016</td>\n",
       "      <td>56</td>\n",
       "      <td>(1000 MT)</td>\n",
       "    </tr>\n",
       "    <tr>\n",
       "      <th>35</th>\n",
       "      <td>2017</td>\n",
       "      <td>77</td>\n",
       "      <td>(1000 MT)</td>\n",
       "    </tr>\n",
       "    <tr>\n",
       "      <th>36</th>\n",
       "      <td>2018</td>\n",
       "      <td>63</td>\n",
       "      <td>(1000 MT)</td>\n",
       "    </tr>\n",
       "    <tr>\n",
       "      <th>37</th>\n",
       "      <td>2019</td>\n",
       "      <td>37</td>\n",
       "      <td>(1000 MT)</td>\n",
       "    </tr>\n",
       "    <tr>\n",
       "      <th>38</th>\n",
       "      <td>2020</td>\n",
       "      <td>47</td>\n",
       "      <td>(1000 MT)</td>\n",
       "    </tr>\n",
       "    <tr>\n",
       "      <th>39</th>\n",
       "      <td>2021</td>\n",
       "      <td>55</td>\n",
       "      <td>(1000 MT)</td>\n",
       "    </tr>\n",
       "    <tr>\n",
       "      <th>40</th>\n",
       "      <td>2022</td>\n",
       "      <td>50</td>\n",
       "      <td>(1000 MT)</td>\n",
       "    </tr>\n",
       "  </tbody>\n",
       "</table>\n",
       "</div>"
      ],
      "text/plain": [
       "    Market Year   Value  Unit Description\n",
       "0          1982     171         (1000 MT)\n",
       "1          1983     176         (1000 MT)\n",
       "2          1984     174         (1000 MT)\n",
       "3          1985     195         (1000 MT)\n",
       "4          1986     177         (1000 MT)\n",
       "5          1987     194         (1000 MT)\n",
       "6          1988     184         (1000 MT)\n",
       "7          1989     187         (1000 MT)\n",
       "8          1990     200         (1000 MT)\n",
       "9          1991      58         (1000 MT)\n",
       "10         1992      67         (1000 MT)\n",
       "11         1993      80         (1000 MT)\n",
       "12         1994      93         (1000 MT)\n",
       "13         1995     104         (1000 MT)\n",
       "14         1996     113         (1000 MT)\n",
       "15         1997     134         (1000 MT)\n",
       "16         1998     127         (1000 MT)\n",
       "17         1999     145         (1000 MT)\n",
       "18         2000     187         (1000 MT)\n",
       "19         2001     205         (1000 MT)\n",
       "20         2002     239         (1000 MT)\n",
       "21         2003     170         (1000 MT)\n",
       "22         2004     187         (1000 MT)\n",
       "23         2005     189         (1000 MT)\n",
       "24         2006     152         (1000 MT)\n",
       "25         2007     135         (1000 MT)\n",
       "26         2008     142         (1000 MT)\n",
       "27         2009     137         (1000 MT)\n",
       "28         2010     147         (1000 MT)\n",
       "29         2011     148         (1000 MT)\n",
       "30         2012     120         (1000 MT)\n",
       "31         2013     120         (1000 MT)\n",
       "32         2014     105         (1000 MT)\n",
       "33         2015      85         (1000 MT)\n",
       "34         2016      56         (1000 MT)\n",
       "35         2017      77         (1000 MT)\n",
       "36         2018      63         (1000 MT)\n",
       "37         2019      37         (1000 MT)\n",
       "38         2020      47         (1000 MT)\n",
       "39         2021      55         (1000 MT)\n",
       "40         2022      50         (1000 MT)"
      ]
     },
     "execution_count": 125,
     "metadata": {},
     "output_type": "execute_result"
    }
   ],
   "source": [
    "df_powdered_milk_production_aus"
   ]
  },
  {
   "cell_type": "code",
   "execution_count": 126,
   "id": "c188aa58",
   "metadata": {},
   "outputs": [],
   "source": [
    "df_powdered_milk_production_aus_M = transform_indexmundi_yearly_data(df_powdered_milk_production_aus, \"milk_powder_production\")"
   ]
  },
  {
   "cell_type": "code",
   "execution_count": 127,
   "id": "bd711024",
   "metadata": {},
   "outputs": [
    {
     "data": {
      "text/plain": [
       "milk_powder_production    0\n",
       "dtype: int64"
      ]
     },
     "execution_count": 127,
     "metadata": {},
     "output_type": "execute_result"
    }
   ],
   "source": [
    "df_powdered_milk_production_aus_M.isnull().sum()"
   ]
  },
  {
   "cell_type": "code",
   "execution_count": 128,
   "id": "792d20e6",
   "metadata": {},
   "outputs": [
    {
     "name": "stdout",
     "output_type": "stream",
     "text": [
      "<class 'pandas.core.frame.DataFrame'>\n",
      "DatetimeIndex: 384 entries, 1990-01-31 to 2021-12-31\n",
      "Freq: M\n",
      "Data columns (total 1 columns):\n",
      " #   Column                  Non-Null Count  Dtype  \n",
      "---  ------                  --------------  -----  \n",
      " 0   milk_powder_production  384 non-null    float64\n",
      "dtypes: float64(1)\n",
      "memory usage: 6.0 KB\n"
     ]
    }
   ],
   "source": [
    "df_powdered_milk_production_aus_M.info()"
   ]
  },
  {
   "cell_type": "markdown",
   "id": "44c1a98d",
   "metadata": {},
   "source": [
    "## final output"
   ]
  },
  {
   "cell_type": "code",
   "execution_count": 129,
   "id": "ca32ed0e",
   "metadata": {},
   "outputs": [
    {
     "data": {
      "text/html": [
       "<div>\n",
       "<style scoped>\n",
       "    .dataframe tbody tr th:only-of-type {\n",
       "        vertical-align: middle;\n",
       "    }\n",
       "\n",
       "    .dataframe tbody tr th {\n",
       "        vertical-align: top;\n",
       "    }\n",
       "\n",
       "    .dataframe thead th {\n",
       "        text-align: right;\n",
       "    }\n",
       "</style>\n",
       "<table border=\"1\" class=\"dataframe\">\n",
       "  <thead>\n",
       "    <tr style=\"text-align: right;\">\n",
       "      <th></th>\n",
       "      <th>milk_powder_production</th>\n",
       "    </tr>\n",
       "    <tr>\n",
       "      <th>month</th>\n",
       "      <th></th>\n",
       "    </tr>\n",
       "  </thead>\n",
       "  <tbody>\n",
       "    <tr>\n",
       "      <th>1990-01-31</th>\n",
       "      <td>16.666667</td>\n",
       "    </tr>\n",
       "    <tr>\n",
       "      <th>1990-02-28</th>\n",
       "      <td>16.666667</td>\n",
       "    </tr>\n",
       "    <tr>\n",
       "      <th>1990-03-31</th>\n",
       "      <td>16.666667</td>\n",
       "    </tr>\n",
       "    <tr>\n",
       "      <th>1990-04-30</th>\n",
       "      <td>16.666667</td>\n",
       "    </tr>\n",
       "    <tr>\n",
       "      <th>1990-05-31</th>\n",
       "      <td>16.666667</td>\n",
       "    </tr>\n",
       "    <tr>\n",
       "      <th>...</th>\n",
       "      <td>...</td>\n",
       "    </tr>\n",
       "    <tr>\n",
       "      <th>2021-08-31</th>\n",
       "      <td>4.583333</td>\n",
       "    </tr>\n",
       "    <tr>\n",
       "      <th>2021-09-30</th>\n",
       "      <td>4.583333</td>\n",
       "    </tr>\n",
       "    <tr>\n",
       "      <th>2021-10-31</th>\n",
       "      <td>4.583333</td>\n",
       "    </tr>\n",
       "    <tr>\n",
       "      <th>2021-11-30</th>\n",
       "      <td>4.583333</td>\n",
       "    </tr>\n",
       "    <tr>\n",
       "      <th>2021-12-31</th>\n",
       "      <td>4.583333</td>\n",
       "    </tr>\n",
       "  </tbody>\n",
       "</table>\n",
       "<p>384 rows × 1 columns</p>\n",
       "</div>"
      ],
      "text/plain": [
       "            milk_powder_production\n",
       "month                             \n",
       "1990-01-31               16.666667\n",
       "1990-02-28               16.666667\n",
       "1990-03-31               16.666667\n",
       "1990-04-30               16.666667\n",
       "1990-05-31               16.666667\n",
       "...                            ...\n",
       "2021-08-31                4.583333\n",
       "2021-09-30                4.583333\n",
       "2021-10-31                4.583333\n",
       "2021-11-30                4.583333\n",
       "2021-12-31                4.583333\n",
       "\n",
       "[384 rows x 1 columns]"
      ]
     },
     "execution_count": 129,
     "metadata": {},
     "output_type": "execute_result"
    }
   ],
   "source": [
    "df_powdered_milk_production_aus_M"
   ]
  },
  {
   "cell_type": "markdown",
   "id": "d0a1c5da",
   "metadata": {},
   "source": [
    "# Australia Dairy, Milk, Fluid Production by Year\n",
    "\n",
    "https://www.indexmundi.com/agriculture/?country=au&commodity=milk&graph=production"
   ]
  },
  {
   "cell_type": "code",
   "execution_count": 130,
   "id": "38125840",
   "metadata": {},
   "outputs": [],
   "source": [
    "df_milk_production_aus = pd.read_csv(\"data/aus/au-milk-production.csv\")"
   ]
  },
  {
   "cell_type": "code",
   "execution_count": 131,
   "id": "c71ac8a4",
   "metadata": {},
   "outputs": [
    {
     "data": {
      "text/html": [
       "<div>\n",
       "<style scoped>\n",
       "    .dataframe tbody tr th:only-of-type {\n",
       "        vertical-align: middle;\n",
       "    }\n",
       "\n",
       "    .dataframe tbody tr th {\n",
       "        vertical-align: top;\n",
       "    }\n",
       "\n",
       "    .dataframe thead th {\n",
       "        text-align: right;\n",
       "    }\n",
       "</style>\n",
       "<table border=\"1\" class=\"dataframe\">\n",
       "  <thead>\n",
       "    <tr style=\"text-align: right;\">\n",
       "      <th></th>\n",
       "      <th>Market Year</th>\n",
       "      <th>Value</th>\n",
       "      <th>Unit Description</th>\n",
       "    </tr>\n",
       "  </thead>\n",
       "  <tbody>\n",
       "    <tr>\n",
       "      <th>0</th>\n",
       "      <td>1964</td>\n",
       "      <td>6991</td>\n",
       "      <td>(1000 MT)</td>\n",
       "    </tr>\n",
       "    <tr>\n",
       "      <th>1</th>\n",
       "      <td>1965</td>\n",
       "      <td>7105</td>\n",
       "      <td>(1000 MT)</td>\n",
       "    </tr>\n",
       "    <tr>\n",
       "      <th>2</th>\n",
       "      <td>1966</td>\n",
       "      <td>7111</td>\n",
       "      <td>(1000 MT)</td>\n",
       "    </tr>\n",
       "    <tr>\n",
       "      <th>3</th>\n",
       "      <td>1967</td>\n",
       "      <td>7497</td>\n",
       "      <td>(1000 MT)</td>\n",
       "    </tr>\n",
       "    <tr>\n",
       "      <th>4</th>\n",
       "      <td>1968</td>\n",
       "      <td>6996</td>\n",
       "      <td>(1000 MT)</td>\n",
       "    </tr>\n",
       "    <tr>\n",
       "      <th>5</th>\n",
       "      <td>1969</td>\n",
       "      <td>7158</td>\n",
       "      <td>(1000 MT)</td>\n",
       "    </tr>\n",
       "    <tr>\n",
       "      <th>6</th>\n",
       "      <td>1970</td>\n",
       "      <td>7731</td>\n",
       "      <td>(1000 MT)</td>\n",
       "    </tr>\n",
       "    <tr>\n",
       "      <th>7</th>\n",
       "      <td>1971</td>\n",
       "      <td>7450</td>\n",
       "      <td>(1000 MT)</td>\n",
       "    </tr>\n",
       "    <tr>\n",
       "      <th>8</th>\n",
       "      <td>1972</td>\n",
       "      <td>7275</td>\n",
       "      <td>(1000 MT)</td>\n",
       "    </tr>\n",
       "    <tr>\n",
       "      <th>9</th>\n",
       "      <td>1973</td>\n",
       "      <td>7145</td>\n",
       "      <td>(1000 MT)</td>\n",
       "    </tr>\n",
       "    <tr>\n",
       "      <th>10</th>\n",
       "      <td>1974</td>\n",
       "      <td>6943</td>\n",
       "      <td>(1000 MT)</td>\n",
       "    </tr>\n",
       "    <tr>\n",
       "      <th>11</th>\n",
       "      <td>1975</td>\n",
       "      <td>6677</td>\n",
       "      <td>(1000 MT)</td>\n",
       "    </tr>\n",
       "    <tr>\n",
       "      <th>12</th>\n",
       "      <td>1976</td>\n",
       "      <td>6421</td>\n",
       "      <td>(1000 MT)</td>\n",
       "    </tr>\n",
       "    <tr>\n",
       "      <th>13</th>\n",
       "      <td>1977</td>\n",
       "      <td>5933</td>\n",
       "      <td>(1000 MT)</td>\n",
       "    </tr>\n",
       "    <tr>\n",
       "      <th>14</th>\n",
       "      <td>1978</td>\n",
       "      <td>5777</td>\n",
       "      <td>(1000 MT)</td>\n",
       "    </tr>\n",
       "    <tr>\n",
       "      <th>15</th>\n",
       "      <td>1979</td>\n",
       "      <td>5828</td>\n",
       "      <td>(1000 MT)</td>\n",
       "    </tr>\n",
       "    <tr>\n",
       "      <th>16</th>\n",
       "      <td>1980</td>\n",
       "      <td>5447</td>\n",
       "      <td>(1000 MT)</td>\n",
       "    </tr>\n",
       "    <tr>\n",
       "      <th>17</th>\n",
       "      <td>1981</td>\n",
       "      <td>5324</td>\n",
       "      <td>(1000 MT)</td>\n",
       "    </tr>\n",
       "    <tr>\n",
       "      <th>18</th>\n",
       "      <td>1982</td>\n",
       "      <td>5415</td>\n",
       "      <td>(1000 MT)</td>\n",
       "    </tr>\n",
       "    <tr>\n",
       "      <th>19</th>\n",
       "      <td>1983</td>\n",
       "      <td>5676</td>\n",
       "      <td>(1000 MT)</td>\n",
       "    </tr>\n",
       "    <tr>\n",
       "      <th>20</th>\n",
       "      <td>1984</td>\n",
       "      <td>6087</td>\n",
       "      <td>(1000 MT)</td>\n",
       "    </tr>\n",
       "    <tr>\n",
       "      <th>21</th>\n",
       "      <td>1985</td>\n",
       "      <td>6265</td>\n",
       "      <td>(1000 MT)</td>\n",
       "    </tr>\n",
       "    <tr>\n",
       "      <th>22</th>\n",
       "      <td>1986</td>\n",
       "      <td>6205</td>\n",
       "      <td>(1000 MT)</td>\n",
       "    </tr>\n",
       "    <tr>\n",
       "      <th>23</th>\n",
       "      <td>1987</td>\n",
       "      <td>6367</td>\n",
       "      <td>(1000 MT)</td>\n",
       "    </tr>\n",
       "    <tr>\n",
       "      <th>24</th>\n",
       "      <td>1988</td>\n",
       "      <td>6297</td>\n",
       "      <td>(1000 MT)</td>\n",
       "    </tr>\n",
       "    <tr>\n",
       "      <th>25</th>\n",
       "      <td>1989</td>\n",
       "      <td>6465</td>\n",
       "      <td>(1000 MT)</td>\n",
       "    </tr>\n",
       "    <tr>\n",
       "      <th>26</th>\n",
       "      <td>1990</td>\n",
       "      <td>6435</td>\n",
       "      <td>(1000 MT)</td>\n",
       "    </tr>\n",
       "    <tr>\n",
       "      <th>27</th>\n",
       "      <td>1991</td>\n",
       "      <td>6578</td>\n",
       "      <td>(1000 MT)</td>\n",
       "    </tr>\n",
       "    <tr>\n",
       "      <th>28</th>\n",
       "      <td>1992</td>\n",
       "      <td>6918</td>\n",
       "      <td>(1000 MT)</td>\n",
       "    </tr>\n",
       "    <tr>\n",
       "      <th>29</th>\n",
       "      <td>1993</td>\n",
       "      <td>7530</td>\n",
       "      <td>(1000 MT)</td>\n",
       "    </tr>\n",
       "    <tr>\n",
       "      <th>30</th>\n",
       "      <td>1994</td>\n",
       "      <td>8300</td>\n",
       "      <td>(1000 MT)</td>\n",
       "    </tr>\n",
       "    <tr>\n",
       "      <th>31</th>\n",
       "      <td>1995</td>\n",
       "      <td>8433</td>\n",
       "      <td>(1000 MT)</td>\n",
       "    </tr>\n",
       "    <tr>\n",
       "      <th>32</th>\n",
       "      <td>1996</td>\n",
       "      <td>8957</td>\n",
       "      <td>(1000 MT)</td>\n",
       "    </tr>\n",
       "    <tr>\n",
       "      <th>33</th>\n",
       "      <td>1997</td>\n",
       "      <td>9274</td>\n",
       "      <td>(1000 MT)</td>\n",
       "    </tr>\n",
       "    <tr>\n",
       "      <th>34</th>\n",
       "      <td>1998</td>\n",
       "      <td>9722</td>\n",
       "      <td>(1000 MT)</td>\n",
       "    </tr>\n",
       "    <tr>\n",
       "      <th>35</th>\n",
       "      <td>1999</td>\n",
       "      <td>10483</td>\n",
       "      <td>(1000 MT)</td>\n",
       "    </tr>\n",
       "    <tr>\n",
       "      <th>36</th>\n",
       "      <td>2000</td>\n",
       "      <td>11172</td>\n",
       "      <td>(1000 MT)</td>\n",
       "    </tr>\n",
       "    <tr>\n",
       "      <th>37</th>\n",
       "      <td>2001</td>\n",
       "      <td>10864</td>\n",
       "      <td>(1000 MT)</td>\n",
       "    </tr>\n",
       "    <tr>\n",
       "      <th>38</th>\n",
       "      <td>2002</td>\n",
       "      <td>11608</td>\n",
       "      <td>(1000 MT)</td>\n",
       "    </tr>\n",
       "    <tr>\n",
       "      <th>39</th>\n",
       "      <td>2003</td>\n",
       "      <td>10636</td>\n",
       "      <td>(1000 MT)</td>\n",
       "    </tr>\n",
       "    <tr>\n",
       "      <th>40</th>\n",
       "      <td>2004</td>\n",
       "      <td>10377</td>\n",
       "      <td>(1000 MT)</td>\n",
       "    </tr>\n",
       "    <tr>\n",
       "      <th>41</th>\n",
       "      <td>2005</td>\n",
       "      <td>10429</td>\n",
       "      <td>(1000 MT)</td>\n",
       "    </tr>\n",
       "    <tr>\n",
       "      <th>42</th>\n",
       "      <td>2006</td>\n",
       "      <td>10395</td>\n",
       "      <td>(1000 MT)</td>\n",
       "    </tr>\n",
       "    <tr>\n",
       "      <th>43</th>\n",
       "      <td>2007</td>\n",
       "      <td>9500</td>\n",
       "      <td>(1000 MT)</td>\n",
       "    </tr>\n",
       "    <tr>\n",
       "      <th>44</th>\n",
       "      <td>2008</td>\n",
       "      <td>9500</td>\n",
       "      <td>(1000 MT)</td>\n",
       "    </tr>\n",
       "    <tr>\n",
       "      <th>45</th>\n",
       "      <td>2009</td>\n",
       "      <td>9326</td>\n",
       "      <td>(1000 MT)</td>\n",
       "    </tr>\n",
       "    <tr>\n",
       "      <th>46</th>\n",
       "      <td>2010</td>\n",
       "      <td>9339</td>\n",
       "      <td>(1000 MT)</td>\n",
       "    </tr>\n",
       "    <tr>\n",
       "      <th>47</th>\n",
       "      <td>2011</td>\n",
       "      <td>9551</td>\n",
       "      <td>(1000 MT)</td>\n",
       "    </tr>\n",
       "    <tr>\n",
       "      <th>48</th>\n",
       "      <td>2012</td>\n",
       "      <td>9794</td>\n",
       "      <td>(1000 MT)</td>\n",
       "    </tr>\n",
       "    <tr>\n",
       "      <th>49</th>\n",
       "      <td>2013</td>\n",
       "      <td>9309</td>\n",
       "      <td>(1000 MT)</td>\n",
       "    </tr>\n",
       "    <tr>\n",
       "      <th>50</th>\n",
       "      <td>2014</td>\n",
       "      <td>9798</td>\n",
       "      <td>(1000 MT)</td>\n",
       "    </tr>\n",
       "    <tr>\n",
       "      <th>51</th>\n",
       "      <td>2015</td>\n",
       "      <td>10091</td>\n",
       "      <td>(1000 MT)</td>\n",
       "    </tr>\n",
       "    <tr>\n",
       "      <th>52</th>\n",
       "      <td>2016</td>\n",
       "      <td>9486</td>\n",
       "      <td>(1000 MT)</td>\n",
       "    </tr>\n",
       "    <tr>\n",
       "      <th>53</th>\n",
       "      <td>2017</td>\n",
       "      <td>9462</td>\n",
       "      <td>(1000 MT)</td>\n",
       "    </tr>\n",
       "    <tr>\n",
       "      <th>54</th>\n",
       "      <td>2018</td>\n",
       "      <td>9451</td>\n",
       "      <td>(1000 MT)</td>\n",
       "    </tr>\n",
       "    <tr>\n",
       "      <th>55</th>\n",
       "      <td>2019</td>\n",
       "      <td>8832</td>\n",
       "      <td>(1000 MT)</td>\n",
       "    </tr>\n",
       "    <tr>\n",
       "      <th>56</th>\n",
       "      <td>2020</td>\n",
       "      <td>9099</td>\n",
       "      <td>(1000 MT)</td>\n",
       "    </tr>\n",
       "    <tr>\n",
       "      <th>57</th>\n",
       "      <td>2021</td>\n",
       "      <td>9000</td>\n",
       "      <td>(1000 MT)</td>\n",
       "    </tr>\n",
       "    <tr>\n",
       "      <th>58</th>\n",
       "      <td>2022</td>\n",
       "      <td>9100</td>\n",
       "      <td>(1000 MT)</td>\n",
       "    </tr>\n",
       "  </tbody>\n",
       "</table>\n",
       "</div>"
      ],
      "text/plain": [
       "    Market Year   Value  Unit Description\n",
       "0          1964    6991         (1000 MT)\n",
       "1          1965    7105         (1000 MT)\n",
       "2          1966    7111         (1000 MT)\n",
       "3          1967    7497         (1000 MT)\n",
       "4          1968    6996         (1000 MT)\n",
       "5          1969    7158         (1000 MT)\n",
       "6          1970    7731         (1000 MT)\n",
       "7          1971    7450         (1000 MT)\n",
       "8          1972    7275         (1000 MT)\n",
       "9          1973    7145         (1000 MT)\n",
       "10         1974    6943         (1000 MT)\n",
       "11         1975    6677         (1000 MT)\n",
       "12         1976    6421         (1000 MT)\n",
       "13         1977    5933         (1000 MT)\n",
       "14         1978    5777         (1000 MT)\n",
       "15         1979    5828         (1000 MT)\n",
       "16         1980    5447         (1000 MT)\n",
       "17         1981    5324         (1000 MT)\n",
       "18         1982    5415         (1000 MT)\n",
       "19         1983    5676         (1000 MT)\n",
       "20         1984    6087         (1000 MT)\n",
       "21         1985    6265         (1000 MT)\n",
       "22         1986    6205         (1000 MT)\n",
       "23         1987    6367         (1000 MT)\n",
       "24         1988    6297         (1000 MT)\n",
       "25         1989    6465         (1000 MT)\n",
       "26         1990    6435         (1000 MT)\n",
       "27         1991    6578         (1000 MT)\n",
       "28         1992    6918         (1000 MT)\n",
       "29         1993    7530         (1000 MT)\n",
       "30         1994    8300         (1000 MT)\n",
       "31         1995    8433         (1000 MT)\n",
       "32         1996    8957         (1000 MT)\n",
       "33         1997    9274         (1000 MT)\n",
       "34         1998    9722         (1000 MT)\n",
       "35         1999   10483         (1000 MT)\n",
       "36         2000   11172         (1000 MT)\n",
       "37         2001   10864         (1000 MT)\n",
       "38         2002   11608         (1000 MT)\n",
       "39         2003   10636         (1000 MT)\n",
       "40         2004   10377         (1000 MT)\n",
       "41         2005   10429         (1000 MT)\n",
       "42         2006   10395         (1000 MT)\n",
       "43         2007    9500         (1000 MT)\n",
       "44         2008    9500         (1000 MT)\n",
       "45         2009    9326         (1000 MT)\n",
       "46         2010    9339         (1000 MT)\n",
       "47         2011    9551         (1000 MT)\n",
       "48         2012    9794         (1000 MT)\n",
       "49         2013    9309         (1000 MT)\n",
       "50         2014    9798         (1000 MT)\n",
       "51         2015   10091         (1000 MT)\n",
       "52         2016    9486         (1000 MT)\n",
       "53         2017    9462         (1000 MT)\n",
       "54         2018    9451         (1000 MT)\n",
       "55         2019    8832         (1000 MT)\n",
       "56         2020    9099         (1000 MT)\n",
       "57         2021    9000         (1000 MT)\n",
       "58         2022    9100         (1000 MT)"
      ]
     },
     "execution_count": 131,
     "metadata": {},
     "output_type": "execute_result"
    }
   ],
   "source": [
    "df_milk_production_aus"
   ]
  },
  {
   "cell_type": "code",
   "execution_count": 132,
   "id": "14b3c171",
   "metadata": {},
   "outputs": [],
   "source": [
    "df_milk_production_aus_M = transform_indexmundi_yearly_data(df_milk_production_aus, \"milk_production\")"
   ]
  },
  {
   "cell_type": "code",
   "execution_count": 133,
   "id": "0c8faeed",
   "metadata": {},
   "outputs": [
    {
     "data": {
      "text/plain": [
       "milk_production    0\n",
       "dtype: int64"
      ]
     },
     "execution_count": 133,
     "metadata": {},
     "output_type": "execute_result"
    }
   ],
   "source": [
    "df_milk_production_aus_M.isnull().sum()"
   ]
  },
  {
   "cell_type": "code",
   "execution_count": 134,
   "id": "dcabf40e",
   "metadata": {},
   "outputs": [
    {
     "name": "stdout",
     "output_type": "stream",
     "text": [
      "<class 'pandas.core.frame.DataFrame'>\n",
      "DatetimeIndex: 384 entries, 1990-01-31 to 2021-12-31\n",
      "Freq: M\n",
      "Data columns (total 1 columns):\n",
      " #   Column           Non-Null Count  Dtype  \n",
      "---  ------           --------------  -----  \n",
      " 0   milk_production  384 non-null    float64\n",
      "dtypes: float64(1)\n",
      "memory usage: 6.0 KB\n"
     ]
    }
   ],
   "source": [
    "df_milk_production_aus_M.info()"
   ]
  },
  {
   "cell_type": "markdown",
   "id": "9fb0263e",
   "metadata": {},
   "source": [
    "## final output"
   ]
  },
  {
   "cell_type": "code",
   "execution_count": 135,
   "id": "c8053dba",
   "metadata": {},
   "outputs": [
    {
     "data": {
      "text/html": [
       "<div>\n",
       "<style scoped>\n",
       "    .dataframe tbody tr th:only-of-type {\n",
       "        vertical-align: middle;\n",
       "    }\n",
       "\n",
       "    .dataframe tbody tr th {\n",
       "        vertical-align: top;\n",
       "    }\n",
       "\n",
       "    .dataframe thead th {\n",
       "        text-align: right;\n",
       "    }\n",
       "</style>\n",
       "<table border=\"1\" class=\"dataframe\">\n",
       "  <thead>\n",
       "    <tr style=\"text-align: right;\">\n",
       "      <th></th>\n",
       "      <th>milk_production</th>\n",
       "    </tr>\n",
       "    <tr>\n",
       "      <th>month</th>\n",
       "      <th></th>\n",
       "    </tr>\n",
       "  </thead>\n",
       "  <tbody>\n",
       "    <tr>\n",
       "      <th>1990-01-31</th>\n",
       "      <td>536.25</td>\n",
       "    </tr>\n",
       "    <tr>\n",
       "      <th>1990-02-28</th>\n",
       "      <td>536.25</td>\n",
       "    </tr>\n",
       "    <tr>\n",
       "      <th>1990-03-31</th>\n",
       "      <td>536.25</td>\n",
       "    </tr>\n",
       "    <tr>\n",
       "      <th>1990-04-30</th>\n",
       "      <td>536.25</td>\n",
       "    </tr>\n",
       "    <tr>\n",
       "      <th>1990-05-31</th>\n",
       "      <td>536.25</td>\n",
       "    </tr>\n",
       "    <tr>\n",
       "      <th>...</th>\n",
       "      <td>...</td>\n",
       "    </tr>\n",
       "    <tr>\n",
       "      <th>2021-08-31</th>\n",
       "      <td>750.00</td>\n",
       "    </tr>\n",
       "    <tr>\n",
       "      <th>2021-09-30</th>\n",
       "      <td>750.00</td>\n",
       "    </tr>\n",
       "    <tr>\n",
       "      <th>2021-10-31</th>\n",
       "      <td>750.00</td>\n",
       "    </tr>\n",
       "    <tr>\n",
       "      <th>2021-11-30</th>\n",
       "      <td>750.00</td>\n",
       "    </tr>\n",
       "    <tr>\n",
       "      <th>2021-12-31</th>\n",
       "      <td>750.00</td>\n",
       "    </tr>\n",
       "  </tbody>\n",
       "</table>\n",
       "<p>384 rows × 1 columns</p>\n",
       "</div>"
      ],
      "text/plain": [
       "            milk_production\n",
       "month                      \n",
       "1990-01-31           536.25\n",
       "1990-02-28           536.25\n",
       "1990-03-31           536.25\n",
       "1990-04-30           536.25\n",
       "1990-05-31           536.25\n",
       "...                     ...\n",
       "2021-08-31           750.00\n",
       "2021-09-30           750.00\n",
       "2021-10-31           750.00\n",
       "2021-11-30           750.00\n",
       "2021-12-31           750.00\n",
       "\n",
       "[384 rows x 1 columns]"
      ]
     },
     "execution_count": 135,
     "metadata": {},
     "output_type": "execute_result"
    }
   ],
   "source": [
    "df_milk_production_aus_M"
   ]
  },
  {
   "cell_type": "markdown",
   "id": "fdf3675a",
   "metadata": {},
   "source": [
    "# Australia Dairy, Milk, Nonfat Dry Production by Year\n",
    "\n",
    "https://www.indexmundi.com/agriculture/?country=au&commodity=nonfat-dry-milk&graph=production"
   ]
  },
  {
   "cell_type": "code",
   "execution_count": 136,
   "id": "57833c65",
   "metadata": {},
   "outputs": [],
   "source": [
    "df_nonfatmilk_production_aus = pd.read_csv(\"data/aus/au-nonfat-dry-milk-production.csv\")"
   ]
  },
  {
   "cell_type": "code",
   "execution_count": 137,
   "id": "d77b6ce2",
   "metadata": {},
   "outputs": [
    {
     "data": {
      "text/html": [
       "<div>\n",
       "<style scoped>\n",
       "    .dataframe tbody tr th:only-of-type {\n",
       "        vertical-align: middle;\n",
       "    }\n",
       "\n",
       "    .dataframe tbody tr th {\n",
       "        vertical-align: top;\n",
       "    }\n",
       "\n",
       "    .dataframe thead th {\n",
       "        text-align: right;\n",
       "    }\n",
       "</style>\n",
       "<table border=\"1\" class=\"dataframe\">\n",
       "  <thead>\n",
       "    <tr style=\"text-align: right;\">\n",
       "      <th></th>\n",
       "      <th>Market Year</th>\n",
       "      <th>Value</th>\n",
       "      <th>Unit Description</th>\n",
       "    </tr>\n",
       "  </thead>\n",
       "  <tbody>\n",
       "    <tr>\n",
       "      <th>0</th>\n",
       "      <td>1964</td>\n",
       "      <td>52</td>\n",
       "      <td>(1000 MT)</td>\n",
       "    </tr>\n",
       "    <tr>\n",
       "      <th>1</th>\n",
       "      <td>1965</td>\n",
       "      <td>58</td>\n",
       "      <td>(1000 MT)</td>\n",
       "    </tr>\n",
       "    <tr>\n",
       "      <th>2</th>\n",
       "      <td>1966</td>\n",
       "      <td>63</td>\n",
       "      <td>(1000 MT)</td>\n",
       "    </tr>\n",
       "    <tr>\n",
       "      <th>3</th>\n",
       "      <td>1967</td>\n",
       "      <td>100</td>\n",
       "      <td>(1000 MT)</td>\n",
       "    </tr>\n",
       "    <tr>\n",
       "      <th>4</th>\n",
       "      <td>1968</td>\n",
       "      <td>104</td>\n",
       "      <td>(1000 MT)</td>\n",
       "    </tr>\n",
       "    <tr>\n",
       "      <th>5</th>\n",
       "      <td>1969</td>\n",
       "      <td>87</td>\n",
       "      <td>(1000 MT)</td>\n",
       "    </tr>\n",
       "    <tr>\n",
       "      <th>6</th>\n",
       "      <td>1970</td>\n",
       "      <td>112</td>\n",
       "      <td>(1000 MT)</td>\n",
       "    </tr>\n",
       "    <tr>\n",
       "      <th>7</th>\n",
       "      <td>1971</td>\n",
       "      <td>109</td>\n",
       "      <td>(1000 MT)</td>\n",
       "    </tr>\n",
       "    <tr>\n",
       "      <th>8</th>\n",
       "      <td>1972</td>\n",
       "      <td>107</td>\n",
       "      <td>(1000 MT)</td>\n",
       "    </tr>\n",
       "    <tr>\n",
       "      <th>9</th>\n",
       "      <td>1973</td>\n",
       "      <td>134</td>\n",
       "      <td>(1000 MT)</td>\n",
       "    </tr>\n",
       "    <tr>\n",
       "      <th>10</th>\n",
       "      <td>1974</td>\n",
       "      <td>157</td>\n",
       "      <td>(1000 MT)</td>\n",
       "    </tr>\n",
       "    <tr>\n",
       "      <th>11</th>\n",
       "      <td>1975</td>\n",
       "      <td>169</td>\n",
       "      <td>(1000 MT)</td>\n",
       "    </tr>\n",
       "    <tr>\n",
       "      <th>12</th>\n",
       "      <td>1976</td>\n",
       "      <td>160</td>\n",
       "      <td>(1000 MT)</td>\n",
       "    </tr>\n",
       "    <tr>\n",
       "      <th>13</th>\n",
       "      <td>1977</td>\n",
       "      <td>104</td>\n",
       "      <td>(1000 MT)</td>\n",
       "    </tr>\n",
       "    <tr>\n",
       "      <th>14</th>\n",
       "      <td>1978</td>\n",
       "      <td>91</td>\n",
       "      <td>(1000 MT)</td>\n",
       "    </tr>\n",
       "    <tr>\n",
       "      <th>15</th>\n",
       "      <td>1979</td>\n",
       "      <td>83</td>\n",
       "      <td>(1000 MT)</td>\n",
       "    </tr>\n",
       "    <tr>\n",
       "      <th>16</th>\n",
       "      <td>1980</td>\n",
       "      <td>60</td>\n",
       "      <td>(1000 MT)</td>\n",
       "    </tr>\n",
       "    <tr>\n",
       "      <th>17</th>\n",
       "      <td>1981</td>\n",
       "      <td>61</td>\n",
       "      <td>(1000 MT)</td>\n",
       "    </tr>\n",
       "    <tr>\n",
       "      <th>18</th>\n",
       "      <td>1982</td>\n",
       "      <td>82</td>\n",
       "      <td>(1000 MT)</td>\n",
       "    </tr>\n",
       "    <tr>\n",
       "      <th>19</th>\n",
       "      <td>1983</td>\n",
       "      <td>98</td>\n",
       "      <td>(1000 MT)</td>\n",
       "    </tr>\n",
       "    <tr>\n",
       "      <th>20</th>\n",
       "      <td>1984</td>\n",
       "      <td>123</td>\n",
       "      <td>(1000 MT)</td>\n",
       "    </tr>\n",
       "    <tr>\n",
       "      <th>21</th>\n",
       "      <td>1985</td>\n",
       "      <td>148</td>\n",
       "      <td>(1000 MT)</td>\n",
       "    </tr>\n",
       "    <tr>\n",
       "      <th>22</th>\n",
       "      <td>1986</td>\n",
       "      <td>124</td>\n",
       "      <td>(1000 MT)</td>\n",
       "    </tr>\n",
       "    <tr>\n",
       "      <th>23</th>\n",
       "      <td>1987</td>\n",
       "      <td>128</td>\n",
       "      <td>(1000 MT)</td>\n",
       "    </tr>\n",
       "    <tr>\n",
       "      <th>24</th>\n",
       "      <td>1988</td>\n",
       "      <td>120</td>\n",
       "      <td>(1000 MT)</td>\n",
       "    </tr>\n",
       "    <tr>\n",
       "      <th>25</th>\n",
       "      <td>1989</td>\n",
       "      <td>127</td>\n",
       "      <td>(1000 MT)</td>\n",
       "    </tr>\n",
       "    <tr>\n",
       "      <th>26</th>\n",
       "      <td>1990</td>\n",
       "      <td>144</td>\n",
       "      <td>(1000 MT)</td>\n",
       "    </tr>\n",
       "    <tr>\n",
       "      <th>27</th>\n",
       "      <td>1991</td>\n",
       "      <td>156</td>\n",
       "      <td>(1000 MT)</td>\n",
       "    </tr>\n",
       "    <tr>\n",
       "      <th>28</th>\n",
       "      <td>1992</td>\n",
       "      <td>160</td>\n",
       "      <td>(1000 MT)</td>\n",
       "    </tr>\n",
       "    <tr>\n",
       "      <th>29</th>\n",
       "      <td>1993</td>\n",
       "      <td>179</td>\n",
       "      <td>(1000 MT)</td>\n",
       "    </tr>\n",
       "    <tr>\n",
       "      <th>30</th>\n",
       "      <td>1994</td>\n",
       "      <td>221</td>\n",
       "      <td>(1000 MT)</td>\n",
       "    </tr>\n",
       "    <tr>\n",
       "      <th>31</th>\n",
       "      <td>1995</td>\n",
       "      <td>210</td>\n",
       "      <td>(1000 MT)</td>\n",
       "    </tr>\n",
       "    <tr>\n",
       "      <th>32</th>\n",
       "      <td>1996</td>\n",
       "      <td>229</td>\n",
       "      <td>(1000 MT)</td>\n",
       "    </tr>\n",
       "    <tr>\n",
       "      <th>33</th>\n",
       "      <td>1997</td>\n",
       "      <td>238</td>\n",
       "      <td>(1000 MT)</td>\n",
       "    </tr>\n",
       "    <tr>\n",
       "      <th>34</th>\n",
       "      <td>1998</td>\n",
       "      <td>231</td>\n",
       "      <td>(1000 MT)</td>\n",
       "    </tr>\n",
       "    <tr>\n",
       "      <th>35</th>\n",
       "      <td>1999</td>\n",
       "      <td>265</td>\n",
       "      <td>(1000 MT)</td>\n",
       "    </tr>\n",
       "    <tr>\n",
       "      <th>36</th>\n",
       "      <td>2000</td>\n",
       "      <td>264</td>\n",
       "      <td>(1000 MT)</td>\n",
       "    </tr>\n",
       "    <tr>\n",
       "      <th>37</th>\n",
       "      <td>2001</td>\n",
       "      <td>265</td>\n",
       "      <td>(1000 MT)</td>\n",
       "    </tr>\n",
       "    <tr>\n",
       "      <th>38</th>\n",
       "      <td>2002</td>\n",
       "      <td>261</td>\n",
       "      <td>(1000 MT)</td>\n",
       "    </tr>\n",
       "    <tr>\n",
       "      <th>39</th>\n",
       "      <td>2003</td>\n",
       "      <td>215</td>\n",
       "      <td>(1000 MT)</td>\n",
       "    </tr>\n",
       "    <tr>\n",
       "      <th>40</th>\n",
       "      <td>2004</td>\n",
       "      <td>203</td>\n",
       "      <td>(1000 MT)</td>\n",
       "    </tr>\n",
       "    <tr>\n",
       "      <th>41</th>\n",
       "      <td>2005</td>\n",
       "      <td>206</td>\n",
       "      <td>(1000 MT)</td>\n",
       "    </tr>\n",
       "    <tr>\n",
       "      <th>42</th>\n",
       "      <td>2006</td>\n",
       "      <td>221</td>\n",
       "      <td>(1000 MT)</td>\n",
       "    </tr>\n",
       "    <tr>\n",
       "      <th>43</th>\n",
       "      <td>2007</td>\n",
       "      <td>205</td>\n",
       "      <td>(1000 MT)</td>\n",
       "    </tr>\n",
       "    <tr>\n",
       "      <th>44</th>\n",
       "      <td>2008</td>\n",
       "      <td>177</td>\n",
       "      <td>(1000 MT)</td>\n",
       "    </tr>\n",
       "    <tr>\n",
       "      <th>45</th>\n",
       "      <td>2009</td>\n",
       "      <td>185</td>\n",
       "      <td>(1000 MT)</td>\n",
       "    </tr>\n",
       "    <tr>\n",
       "      <th>46</th>\n",
       "      <td>2010</td>\n",
       "      <td>209</td>\n",
       "      <td>(1000 MT)</td>\n",
       "    </tr>\n",
       "    <tr>\n",
       "      <th>47</th>\n",
       "      <td>2011</td>\n",
       "      <td>230</td>\n",
       "      <td>(1000 MT)</td>\n",
       "    </tr>\n",
       "    <tr>\n",
       "      <th>48</th>\n",
       "      <td>2012</td>\n",
       "      <td>235</td>\n",
       "      <td>(1000 MT)</td>\n",
       "    </tr>\n",
       "    <tr>\n",
       "      <th>49</th>\n",
       "      <td>2013</td>\n",
       "      <td>208</td>\n",
       "      <td>(1000 MT)</td>\n",
       "    </tr>\n",
       "    <tr>\n",
       "      <th>50</th>\n",
       "      <td>2014</td>\n",
       "      <td>228</td>\n",
       "      <td>(1000 MT)</td>\n",
       "    </tr>\n",
       "    <tr>\n",
       "      <th>51</th>\n",
       "      <td>2015</td>\n",
       "      <td>266</td>\n",
       "      <td>(1000 MT)</td>\n",
       "    </tr>\n",
       "    <tr>\n",
       "      <th>52</th>\n",
       "      <td>2016</td>\n",
       "      <td>238</td>\n",
       "      <td>(1000 MT)</td>\n",
       "    </tr>\n",
       "    <tr>\n",
       "      <th>53</th>\n",
       "      <td>2017</td>\n",
       "      <td>187</td>\n",
       "      <td>(1000 MT)</td>\n",
       "    </tr>\n",
       "    <tr>\n",
       "      <th>54</th>\n",
       "      <td>2018</td>\n",
       "      <td>201</td>\n",
       "      <td>(1000 MT)</td>\n",
       "    </tr>\n",
       "    <tr>\n",
       "      <th>55</th>\n",
       "      <td>2019</td>\n",
       "      <td>150</td>\n",
       "      <td>(1000 MT)</td>\n",
       "    </tr>\n",
       "    <tr>\n",
       "      <th>56</th>\n",
       "      <td>2020</td>\n",
       "      <td>154</td>\n",
       "      <td>(1000 MT)</td>\n",
       "    </tr>\n",
       "    <tr>\n",
       "      <th>57</th>\n",
       "      <td>2021</td>\n",
       "      <td>150</td>\n",
       "      <td>(1000 MT)</td>\n",
       "    </tr>\n",
       "    <tr>\n",
       "      <th>58</th>\n",
       "      <td>2022</td>\n",
       "      <td>150</td>\n",
       "      <td>(1000 MT)</td>\n",
       "    </tr>\n",
       "  </tbody>\n",
       "</table>\n",
       "</div>"
      ],
      "text/plain": [
       "    Market Year   Value  Unit Description\n",
       "0          1964      52         (1000 MT)\n",
       "1          1965      58         (1000 MT)\n",
       "2          1966      63         (1000 MT)\n",
       "3          1967     100         (1000 MT)\n",
       "4          1968     104         (1000 MT)\n",
       "5          1969      87         (1000 MT)\n",
       "6          1970     112         (1000 MT)\n",
       "7          1971     109         (1000 MT)\n",
       "8          1972     107         (1000 MT)\n",
       "9          1973     134         (1000 MT)\n",
       "10         1974     157         (1000 MT)\n",
       "11         1975     169         (1000 MT)\n",
       "12         1976     160         (1000 MT)\n",
       "13         1977     104         (1000 MT)\n",
       "14         1978      91         (1000 MT)\n",
       "15         1979      83         (1000 MT)\n",
       "16         1980      60         (1000 MT)\n",
       "17         1981      61         (1000 MT)\n",
       "18         1982      82         (1000 MT)\n",
       "19         1983      98         (1000 MT)\n",
       "20         1984     123         (1000 MT)\n",
       "21         1985     148         (1000 MT)\n",
       "22         1986     124         (1000 MT)\n",
       "23         1987     128         (1000 MT)\n",
       "24         1988     120         (1000 MT)\n",
       "25         1989     127         (1000 MT)\n",
       "26         1990     144         (1000 MT)\n",
       "27         1991     156         (1000 MT)\n",
       "28         1992     160         (1000 MT)\n",
       "29         1993     179         (1000 MT)\n",
       "30         1994     221         (1000 MT)\n",
       "31         1995     210         (1000 MT)\n",
       "32         1996     229         (1000 MT)\n",
       "33         1997     238         (1000 MT)\n",
       "34         1998     231         (1000 MT)\n",
       "35         1999     265         (1000 MT)\n",
       "36         2000     264         (1000 MT)\n",
       "37         2001     265         (1000 MT)\n",
       "38         2002     261         (1000 MT)\n",
       "39         2003     215         (1000 MT)\n",
       "40         2004     203         (1000 MT)\n",
       "41         2005     206         (1000 MT)\n",
       "42         2006     221         (1000 MT)\n",
       "43         2007     205         (1000 MT)\n",
       "44         2008     177         (1000 MT)\n",
       "45         2009     185         (1000 MT)\n",
       "46         2010     209         (1000 MT)\n",
       "47         2011     230         (1000 MT)\n",
       "48         2012     235         (1000 MT)\n",
       "49         2013     208         (1000 MT)\n",
       "50         2014     228         (1000 MT)\n",
       "51         2015     266         (1000 MT)\n",
       "52         2016     238         (1000 MT)\n",
       "53         2017     187         (1000 MT)\n",
       "54         2018     201         (1000 MT)\n",
       "55         2019     150         (1000 MT)\n",
       "56         2020     154         (1000 MT)\n",
       "57         2021     150         (1000 MT)\n",
       "58         2022     150         (1000 MT)"
      ]
     },
     "execution_count": 137,
     "metadata": {},
     "output_type": "execute_result"
    }
   ],
   "source": [
    "df_nonfatmilk_production_aus"
   ]
  },
  {
   "cell_type": "code",
   "execution_count": 138,
   "id": "806a6f00",
   "metadata": {},
   "outputs": [],
   "source": [
    "df_nonfatmilk_production_aus_M = transform_indexmundi_yearly_data(df_nonfatmilk_production_aus, \"nonfatmilk_production\")"
   ]
  },
  {
   "cell_type": "code",
   "execution_count": 139,
   "id": "2ea766f5",
   "metadata": {},
   "outputs": [
    {
     "data": {
      "text/plain": [
       "nonfatmilk_production    0\n",
       "dtype: int64"
      ]
     },
     "execution_count": 139,
     "metadata": {},
     "output_type": "execute_result"
    }
   ],
   "source": [
    "df_nonfatmilk_production_aus_M.isnull().sum()"
   ]
  },
  {
   "cell_type": "code",
   "execution_count": 140,
   "id": "0e79afd5",
   "metadata": {},
   "outputs": [
    {
     "name": "stdout",
     "output_type": "stream",
     "text": [
      "<class 'pandas.core.frame.DataFrame'>\n",
      "DatetimeIndex: 384 entries, 1990-01-31 to 2021-12-31\n",
      "Freq: M\n",
      "Data columns (total 1 columns):\n",
      " #   Column                 Non-Null Count  Dtype  \n",
      "---  ------                 --------------  -----  \n",
      " 0   nonfatmilk_production  384 non-null    float64\n",
      "dtypes: float64(1)\n",
      "memory usage: 6.0 KB\n"
     ]
    }
   ],
   "source": [
    "df_nonfatmilk_production_aus_M.info()"
   ]
  },
  {
   "cell_type": "markdown",
   "id": "dcf7ebc4",
   "metadata": {},
   "source": [
    "## final output"
   ]
  },
  {
   "cell_type": "code",
   "execution_count": 141,
   "id": "cf4ca547",
   "metadata": {},
   "outputs": [
    {
     "data": {
      "text/html": [
       "<div>\n",
       "<style scoped>\n",
       "    .dataframe tbody tr th:only-of-type {\n",
       "        vertical-align: middle;\n",
       "    }\n",
       "\n",
       "    .dataframe tbody tr th {\n",
       "        vertical-align: top;\n",
       "    }\n",
       "\n",
       "    .dataframe thead th {\n",
       "        text-align: right;\n",
       "    }\n",
       "</style>\n",
       "<table border=\"1\" class=\"dataframe\">\n",
       "  <thead>\n",
       "    <tr style=\"text-align: right;\">\n",
       "      <th></th>\n",
       "      <th>nonfatmilk_production</th>\n",
       "    </tr>\n",
       "    <tr>\n",
       "      <th>month</th>\n",
       "      <th></th>\n",
       "    </tr>\n",
       "  </thead>\n",
       "  <tbody>\n",
       "    <tr>\n",
       "      <th>1990-01-31</th>\n",
       "      <td>12.0</td>\n",
       "    </tr>\n",
       "    <tr>\n",
       "      <th>1990-02-28</th>\n",
       "      <td>12.0</td>\n",
       "    </tr>\n",
       "    <tr>\n",
       "      <th>1990-03-31</th>\n",
       "      <td>12.0</td>\n",
       "    </tr>\n",
       "    <tr>\n",
       "      <th>1990-04-30</th>\n",
       "      <td>12.0</td>\n",
       "    </tr>\n",
       "    <tr>\n",
       "      <th>1990-05-31</th>\n",
       "      <td>12.0</td>\n",
       "    </tr>\n",
       "    <tr>\n",
       "      <th>...</th>\n",
       "      <td>...</td>\n",
       "    </tr>\n",
       "    <tr>\n",
       "      <th>2021-08-31</th>\n",
       "      <td>12.5</td>\n",
       "    </tr>\n",
       "    <tr>\n",
       "      <th>2021-09-30</th>\n",
       "      <td>12.5</td>\n",
       "    </tr>\n",
       "    <tr>\n",
       "      <th>2021-10-31</th>\n",
       "      <td>12.5</td>\n",
       "    </tr>\n",
       "    <tr>\n",
       "      <th>2021-11-30</th>\n",
       "      <td>12.5</td>\n",
       "    </tr>\n",
       "    <tr>\n",
       "      <th>2021-12-31</th>\n",
       "      <td>12.5</td>\n",
       "    </tr>\n",
       "  </tbody>\n",
       "</table>\n",
       "<p>384 rows × 1 columns</p>\n",
       "</div>"
      ],
      "text/plain": [
       "            nonfatmilk_production\n",
       "month                            \n",
       "1990-01-31                   12.0\n",
       "1990-02-28                   12.0\n",
       "1990-03-31                   12.0\n",
       "1990-04-30                   12.0\n",
       "1990-05-31                   12.0\n",
       "...                           ...\n",
       "2021-08-31                   12.5\n",
       "2021-09-30                   12.5\n",
       "2021-10-31                   12.5\n",
       "2021-11-30                   12.5\n",
       "2021-12-31                   12.5\n",
       "\n",
       "[384 rows x 1 columns]"
      ]
     },
     "execution_count": 141,
     "metadata": {},
     "output_type": "execute_result"
    }
   ],
   "source": [
    "df_nonfatmilk_production_aus_M"
   ]
  },
  {
   "cell_type": "markdown",
   "id": "ab6f25c7",
   "metadata": {},
   "source": [
    "# Australia Fish Meal Production by Year\n",
    "\n",
    "https://www.indexmundi.com/agriculture/?country=au&commodity=fish-meal&graph=production"
   ]
  },
  {
   "cell_type": "code",
   "execution_count": 142,
   "id": "5935e08d",
   "metadata": {},
   "outputs": [],
   "source": [
    "df_fishmeal_production_aus = pd.read_csv(\"data/aus/au-fish-meal-production.csv\")"
   ]
  },
  {
   "cell_type": "code",
   "execution_count": 143,
   "id": "d90fa106",
   "metadata": {},
   "outputs": [
    {
     "data": {
      "text/html": [
       "<div>\n",
       "<style scoped>\n",
       "    .dataframe tbody tr th:only-of-type {\n",
       "        vertical-align: middle;\n",
       "    }\n",
       "\n",
       "    .dataframe tbody tr th {\n",
       "        vertical-align: top;\n",
       "    }\n",
       "\n",
       "    .dataframe thead th {\n",
       "        text-align: right;\n",
       "    }\n",
       "</style>\n",
       "<table border=\"1\" class=\"dataframe\">\n",
       "  <thead>\n",
       "    <tr style=\"text-align: right;\">\n",
       "      <th></th>\n",
       "      <th>Market Year</th>\n",
       "      <th>Value</th>\n",
       "      <th>Unit Description</th>\n",
       "    </tr>\n",
       "  </thead>\n",
       "  <tbody>\n",
       "    <tr>\n",
       "      <th>0</th>\n",
       "      <td>2005</td>\n",
       "      <td>0</td>\n",
       "      <td>(1000 MT)</td>\n",
       "    </tr>\n",
       "    <tr>\n",
       "      <th>1</th>\n",
       "      <td>2006</td>\n",
       "      <td>0</td>\n",
       "      <td>(1000 MT)</td>\n",
       "    </tr>\n",
       "    <tr>\n",
       "      <th>2</th>\n",
       "      <td>2007</td>\n",
       "      <td>0</td>\n",
       "      <td>(1000 MT)</td>\n",
       "    </tr>\n",
       "    <tr>\n",
       "      <th>3</th>\n",
       "      <td>2008</td>\n",
       "      <td>0</td>\n",
       "      <td>(1000 MT)</td>\n",
       "    </tr>\n",
       "    <tr>\n",
       "      <th>4</th>\n",
       "      <td>2009</td>\n",
       "      <td>0</td>\n",
       "      <td>(1000 MT)</td>\n",
       "    </tr>\n",
       "    <tr>\n",
       "      <th>5</th>\n",
       "      <td>2010</td>\n",
       "      <td>0</td>\n",
       "      <td>(1000 MT)</td>\n",
       "    </tr>\n",
       "    <tr>\n",
       "      <th>6</th>\n",
       "      <td>2011</td>\n",
       "      <td>0</td>\n",
       "      <td>(1000 MT)</td>\n",
       "    </tr>\n",
       "    <tr>\n",
       "      <th>7</th>\n",
       "      <td>2012</td>\n",
       "      <td>0</td>\n",
       "      <td>(1000 MT)</td>\n",
       "    </tr>\n",
       "    <tr>\n",
       "      <th>8</th>\n",
       "      <td>2013</td>\n",
       "      <td>0</td>\n",
       "      <td>(1000 MT)</td>\n",
       "    </tr>\n",
       "    <tr>\n",
       "      <th>9</th>\n",
       "      <td>2014</td>\n",
       "      <td>0</td>\n",
       "      <td>(1000 MT)</td>\n",
       "    </tr>\n",
       "    <tr>\n",
       "      <th>10</th>\n",
       "      <td>2015</td>\n",
       "      <td>0</td>\n",
       "      <td>(1000 MT)</td>\n",
       "    </tr>\n",
       "    <tr>\n",
       "      <th>11</th>\n",
       "      <td>2016</td>\n",
       "      <td>0</td>\n",
       "      <td>(1000 MT)</td>\n",
       "    </tr>\n",
       "    <tr>\n",
       "      <th>12</th>\n",
       "      <td>2017</td>\n",
       "      <td>0</td>\n",
       "      <td>(1000 MT)</td>\n",
       "    </tr>\n",
       "    <tr>\n",
       "      <th>13</th>\n",
       "      <td>2018</td>\n",
       "      <td>0</td>\n",
       "      <td>(1000 MT)</td>\n",
       "    </tr>\n",
       "    <tr>\n",
       "      <th>14</th>\n",
       "      <td>2019</td>\n",
       "      <td>0</td>\n",
       "      <td>(1000 MT)</td>\n",
       "    </tr>\n",
       "    <tr>\n",
       "      <th>15</th>\n",
       "      <td>2020</td>\n",
       "      <td>0</td>\n",
       "      <td>(1000 MT)</td>\n",
       "    </tr>\n",
       "    <tr>\n",
       "      <th>16</th>\n",
       "      <td>2021</td>\n",
       "      <td>0</td>\n",
       "      <td>(1000 MT)</td>\n",
       "    </tr>\n",
       "  </tbody>\n",
       "</table>\n",
       "</div>"
      ],
      "text/plain": [
       "    Market Year   Value  Unit Description\n",
       "0          2005       0         (1000 MT)\n",
       "1          2006       0         (1000 MT)\n",
       "2          2007       0         (1000 MT)\n",
       "3          2008       0         (1000 MT)\n",
       "4          2009       0         (1000 MT)\n",
       "5          2010       0         (1000 MT)\n",
       "6          2011       0         (1000 MT)\n",
       "7          2012       0         (1000 MT)\n",
       "8          2013       0         (1000 MT)\n",
       "9          2014       0         (1000 MT)\n",
       "10         2015       0         (1000 MT)\n",
       "11         2016       0         (1000 MT)\n",
       "12         2017       0         (1000 MT)\n",
       "13         2018       0         (1000 MT)\n",
       "14         2019       0         (1000 MT)\n",
       "15         2020       0         (1000 MT)\n",
       "16         2021       0         (1000 MT)"
      ]
     },
     "execution_count": 143,
     "metadata": {},
     "output_type": "execute_result"
    }
   ],
   "source": [
    "df_fishmeal_production_aus"
   ]
  },
  {
   "cell_type": "code",
   "execution_count": 144,
   "id": "fc052378",
   "metadata": {},
   "outputs": [],
   "source": [
    "df_fishmeal_production_aus_M = transform_indexmundi_yearly_data(df_fishmeal_production_aus, \"fishmeal_production\")"
   ]
  },
  {
   "cell_type": "code",
   "execution_count": 145,
   "id": "322935e8",
   "metadata": {},
   "outputs": [
    {
     "data": {
      "text/plain": [
       "fishmeal_production    0\n",
       "dtype: int64"
      ]
     },
     "execution_count": 145,
     "metadata": {},
     "output_type": "execute_result"
    }
   ],
   "source": [
    "df_fishmeal_production_aus_M.isnull().sum()"
   ]
  },
  {
   "cell_type": "code",
   "execution_count": 146,
   "id": "36af395d",
   "metadata": {},
   "outputs": [
    {
     "name": "stdout",
     "output_type": "stream",
     "text": [
      "<class 'pandas.core.frame.DataFrame'>\n",
      "DatetimeIndex: 193 entries, 2005-12-31 to 2021-12-31\n",
      "Freq: M\n",
      "Data columns (total 1 columns):\n",
      " #   Column               Non-Null Count  Dtype  \n",
      "---  ------               --------------  -----  \n",
      " 0   fishmeal_production  193 non-null    float64\n",
      "dtypes: float64(1)\n",
      "memory usage: 3.0 KB\n"
     ]
    }
   ],
   "source": [
    "df_fishmeal_production_aus_M.info()"
   ]
  },
  {
   "cell_type": "markdown",
   "id": "bf04fc56",
   "metadata": {},
   "source": [
    "## final output\n",
    "\n",
    "won't include this as all values are zero.."
   ]
  },
  {
   "cell_type": "code",
   "execution_count": 147,
   "id": "fdf6c251",
   "metadata": {},
   "outputs": [
    {
     "data": {
      "text/html": [
       "<div>\n",
       "<style scoped>\n",
       "    .dataframe tbody tr th:only-of-type {\n",
       "        vertical-align: middle;\n",
       "    }\n",
       "\n",
       "    .dataframe tbody tr th {\n",
       "        vertical-align: top;\n",
       "    }\n",
       "\n",
       "    .dataframe thead th {\n",
       "        text-align: right;\n",
       "    }\n",
       "</style>\n",
       "<table border=\"1\" class=\"dataframe\">\n",
       "  <thead>\n",
       "    <tr style=\"text-align: right;\">\n",
       "      <th></th>\n",
       "      <th>fishmeal_production</th>\n",
       "    </tr>\n",
       "    <tr>\n",
       "      <th>month</th>\n",
       "      <th></th>\n",
       "    </tr>\n",
       "  </thead>\n",
       "  <tbody>\n",
       "    <tr>\n",
       "      <th>2005-12-31</th>\n",
       "      <td>0.0</td>\n",
       "    </tr>\n",
       "    <tr>\n",
       "      <th>2006-01-31</th>\n",
       "      <td>0.0</td>\n",
       "    </tr>\n",
       "    <tr>\n",
       "      <th>2006-02-28</th>\n",
       "      <td>0.0</td>\n",
       "    </tr>\n",
       "    <tr>\n",
       "      <th>2006-03-31</th>\n",
       "      <td>0.0</td>\n",
       "    </tr>\n",
       "    <tr>\n",
       "      <th>2006-04-30</th>\n",
       "      <td>0.0</td>\n",
       "    </tr>\n",
       "    <tr>\n",
       "      <th>...</th>\n",
       "      <td>...</td>\n",
       "    </tr>\n",
       "    <tr>\n",
       "      <th>2021-08-31</th>\n",
       "      <td>0.0</td>\n",
       "    </tr>\n",
       "    <tr>\n",
       "      <th>2021-09-30</th>\n",
       "      <td>0.0</td>\n",
       "    </tr>\n",
       "    <tr>\n",
       "      <th>2021-10-31</th>\n",
       "      <td>0.0</td>\n",
       "    </tr>\n",
       "    <tr>\n",
       "      <th>2021-11-30</th>\n",
       "      <td>0.0</td>\n",
       "    </tr>\n",
       "    <tr>\n",
       "      <th>2021-12-31</th>\n",
       "      <td>0.0</td>\n",
       "    </tr>\n",
       "  </tbody>\n",
       "</table>\n",
       "<p>193 rows × 1 columns</p>\n",
       "</div>"
      ],
      "text/plain": [
       "            fishmeal_production\n",
       "month                          \n",
       "2005-12-31                  0.0\n",
       "2006-01-31                  0.0\n",
       "2006-02-28                  0.0\n",
       "2006-03-31                  0.0\n",
       "2006-04-30                  0.0\n",
       "...                         ...\n",
       "2021-08-31                  0.0\n",
       "2021-09-30                  0.0\n",
       "2021-10-31                  0.0\n",
       "2021-11-30                  0.0\n",
       "2021-12-31                  0.0\n",
       "\n",
       "[193 rows x 1 columns]"
      ]
     },
     "execution_count": 147,
     "metadata": {},
     "output_type": "execute_result"
    }
   ],
   "source": [
    "df_fishmeal_production_aus_M"
   ]
  },
  {
   "cell_type": "markdown",
   "id": "b5a935b6",
   "metadata": {},
   "source": [
    "# Australia Milled Rice Production by Year\n",
    "\n",
    "https://www.indexmundi.com/agriculture/?country=au&commodity=milled-rice&graph=production"
   ]
  },
  {
   "cell_type": "code",
   "execution_count": 148,
   "id": "630015cf",
   "metadata": {},
   "outputs": [],
   "source": [
    "df_rice_production_aus = pd.read_csv(\"data/aus/au-milled-rice-production.csv\")"
   ]
  },
  {
   "cell_type": "code",
   "execution_count": 149,
   "id": "bc76ddbc",
   "metadata": {},
   "outputs": [
    {
     "data": {
      "text/html": [
       "<div>\n",
       "<style scoped>\n",
       "    .dataframe tbody tr th:only-of-type {\n",
       "        vertical-align: middle;\n",
       "    }\n",
       "\n",
       "    .dataframe tbody tr th {\n",
       "        vertical-align: top;\n",
       "    }\n",
       "\n",
       "    .dataframe thead th {\n",
       "        text-align: right;\n",
       "    }\n",
       "</style>\n",
       "<table border=\"1\" class=\"dataframe\">\n",
       "  <thead>\n",
       "    <tr style=\"text-align: right;\">\n",
       "      <th></th>\n",
       "      <th>Market Year</th>\n",
       "      <th>Value</th>\n",
       "      <th>Unit Description</th>\n",
       "    </tr>\n",
       "  </thead>\n",
       "  <tbody>\n",
       "    <tr>\n",
       "      <th>0</th>\n",
       "      <td>1960</td>\n",
       "      <td>82</td>\n",
       "      <td>(1000 MT)</td>\n",
       "    </tr>\n",
       "    <tr>\n",
       "      <th>1</th>\n",
       "      <td>1961</td>\n",
       "      <td>96</td>\n",
       "      <td>(1000 MT)</td>\n",
       "    </tr>\n",
       "    <tr>\n",
       "      <th>2</th>\n",
       "      <td>1962</td>\n",
       "      <td>97</td>\n",
       "      <td>(1000 MT)</td>\n",
       "    </tr>\n",
       "    <tr>\n",
       "      <th>3</th>\n",
       "      <td>1963</td>\n",
       "      <td>102</td>\n",
       "      <td>(1000 MT)</td>\n",
       "    </tr>\n",
       "    <tr>\n",
       "      <th>4</th>\n",
       "      <td>1964</td>\n",
       "      <td>109</td>\n",
       "      <td>(1000 MT)</td>\n",
       "    </tr>\n",
       "    <tr>\n",
       "      <th>...</th>\n",
       "      <td>...</td>\n",
       "      <td>...</td>\n",
       "      <td>...</td>\n",
       "    </tr>\n",
       "    <tr>\n",
       "      <th>57</th>\n",
       "      <td>2017</td>\n",
       "      <td>457</td>\n",
       "      <td>(1000 MT)</td>\n",
       "    </tr>\n",
       "    <tr>\n",
       "      <th>58</th>\n",
       "      <td>2018</td>\n",
       "      <td>48</td>\n",
       "      <td>(1000 MT)</td>\n",
       "    </tr>\n",
       "    <tr>\n",
       "      <th>59</th>\n",
       "      <td>2019</td>\n",
       "      <td>36</td>\n",
       "      <td>(1000 MT)</td>\n",
       "    </tr>\n",
       "    <tr>\n",
       "      <th>60</th>\n",
       "      <td>2020</td>\n",
       "      <td>330</td>\n",
       "      <td>(1000 MT)</td>\n",
       "    </tr>\n",
       "    <tr>\n",
       "      <th>61</th>\n",
       "      <td>2021</td>\n",
       "      <td>650</td>\n",
       "      <td>(1000 MT)</td>\n",
       "    </tr>\n",
       "  </tbody>\n",
       "</table>\n",
       "<p>62 rows × 3 columns</p>\n",
       "</div>"
      ],
      "text/plain": [
       "    Market Year   Value  Unit Description\n",
       "0          1960      82         (1000 MT)\n",
       "1          1961      96         (1000 MT)\n",
       "2          1962      97         (1000 MT)\n",
       "3          1963     102         (1000 MT)\n",
       "4          1964     109         (1000 MT)\n",
       "..          ...     ...               ...\n",
       "57         2017     457         (1000 MT)\n",
       "58         2018      48         (1000 MT)\n",
       "59         2019      36         (1000 MT)\n",
       "60         2020     330         (1000 MT)\n",
       "61         2021     650         (1000 MT)\n",
       "\n",
       "[62 rows x 3 columns]"
      ]
     },
     "execution_count": 149,
     "metadata": {},
     "output_type": "execute_result"
    }
   ],
   "source": [
    "df_rice_production_aus"
   ]
  },
  {
   "cell_type": "code",
   "execution_count": 150,
   "id": "d74eccf8",
   "metadata": {},
   "outputs": [],
   "source": [
    "df_rice_production_aus_M = transform_indexmundi_yearly_data(df_rice_production_aus, \"rice_production\")"
   ]
  },
  {
   "cell_type": "code",
   "execution_count": 151,
   "id": "897c3db9",
   "metadata": {},
   "outputs": [
    {
     "data": {
      "text/plain": [
       "rice_production    0\n",
       "dtype: int64"
      ]
     },
     "execution_count": 151,
     "metadata": {},
     "output_type": "execute_result"
    }
   ],
   "source": [
    "df_rice_production_aus_M.isnull().sum()"
   ]
  },
  {
   "cell_type": "code",
   "execution_count": 152,
   "id": "30676e1b",
   "metadata": {},
   "outputs": [
    {
     "name": "stdout",
     "output_type": "stream",
     "text": [
      "<class 'pandas.core.frame.DataFrame'>\n",
      "DatetimeIndex: 384 entries, 1990-01-31 to 2021-12-31\n",
      "Freq: M\n",
      "Data columns (total 1 columns):\n",
      " #   Column           Non-Null Count  Dtype  \n",
      "---  ------           --------------  -----  \n",
      " 0   rice_production  384 non-null    float64\n",
      "dtypes: float64(1)\n",
      "memory usage: 6.0 KB\n"
     ]
    }
   ],
   "source": [
    "df_rice_production_aus_M.info()"
   ]
  },
  {
   "cell_type": "markdown",
   "id": "f8fb5877",
   "metadata": {},
   "source": [
    "## final output"
   ]
  },
  {
   "cell_type": "code",
   "execution_count": 153,
   "id": "ff3c8f54",
   "metadata": {},
   "outputs": [
    {
     "data": {
      "text/html": [
       "<div>\n",
       "<style scoped>\n",
       "    .dataframe tbody tr th:only-of-type {\n",
       "        vertical-align: middle;\n",
       "    }\n",
       "\n",
       "    .dataframe tbody tr th {\n",
       "        vertical-align: top;\n",
       "    }\n",
       "\n",
       "    .dataframe thead th {\n",
       "        text-align: right;\n",
       "    }\n",
       "</style>\n",
       "<table border=\"1\" class=\"dataframe\">\n",
       "  <thead>\n",
       "    <tr style=\"text-align: right;\">\n",
       "      <th></th>\n",
       "      <th>rice_production</th>\n",
       "    </tr>\n",
       "    <tr>\n",
       "      <th>month</th>\n",
       "      <th></th>\n",
       "    </tr>\n",
       "  </thead>\n",
       "  <tbody>\n",
       "    <tr>\n",
       "      <th>1990-01-31</th>\n",
       "      <td>46.916667</td>\n",
       "    </tr>\n",
       "    <tr>\n",
       "      <th>1990-02-28</th>\n",
       "      <td>46.916667</td>\n",
       "    </tr>\n",
       "    <tr>\n",
       "      <th>1990-03-31</th>\n",
       "      <td>46.916667</td>\n",
       "    </tr>\n",
       "    <tr>\n",
       "      <th>1990-04-30</th>\n",
       "      <td>46.916667</td>\n",
       "    </tr>\n",
       "    <tr>\n",
       "      <th>1990-05-31</th>\n",
       "      <td>46.916667</td>\n",
       "    </tr>\n",
       "    <tr>\n",
       "      <th>...</th>\n",
       "      <td>...</td>\n",
       "    </tr>\n",
       "    <tr>\n",
       "      <th>2021-08-31</th>\n",
       "      <td>54.166667</td>\n",
       "    </tr>\n",
       "    <tr>\n",
       "      <th>2021-09-30</th>\n",
       "      <td>54.166667</td>\n",
       "    </tr>\n",
       "    <tr>\n",
       "      <th>2021-10-31</th>\n",
       "      <td>54.166667</td>\n",
       "    </tr>\n",
       "    <tr>\n",
       "      <th>2021-11-30</th>\n",
       "      <td>54.166667</td>\n",
       "    </tr>\n",
       "    <tr>\n",
       "      <th>2021-12-31</th>\n",
       "      <td>54.166667</td>\n",
       "    </tr>\n",
       "  </tbody>\n",
       "</table>\n",
       "<p>384 rows × 1 columns</p>\n",
       "</div>"
      ],
      "text/plain": [
       "            rice_production\n",
       "month                      \n",
       "1990-01-31        46.916667\n",
       "1990-02-28        46.916667\n",
       "1990-03-31        46.916667\n",
       "1990-04-30        46.916667\n",
       "1990-05-31        46.916667\n",
       "...                     ...\n",
       "2021-08-31        54.166667\n",
       "2021-09-30        54.166667\n",
       "2021-10-31        54.166667\n",
       "2021-11-30        54.166667\n",
       "2021-12-31        54.166667\n",
       "\n",
       "[384 rows x 1 columns]"
      ]
     },
     "execution_count": 153,
     "metadata": {},
     "output_type": "execute_result"
    }
   ],
   "source": [
    "df_rice_production_aus_M"
   ]
  },
  {
   "cell_type": "markdown",
   "id": "73898108",
   "metadata": {},
   "source": [
    "# Australia Millet Production by Year\n",
    "\n",
    "https://www.indexmundi.com/agriculture/?country=au&commodity=millet&graph=production"
   ]
  },
  {
   "cell_type": "code",
   "execution_count": 154,
   "id": "7a3d29a1",
   "metadata": {},
   "outputs": [],
   "source": [
    "df_millet_production_aus = pd.read_csv(\"data/aus/au-millet-production.csv\")"
   ]
  },
  {
   "cell_type": "code",
   "execution_count": 155,
   "id": "113ecaaa",
   "metadata": {},
   "outputs": [
    {
     "data": {
      "text/html": [
       "<div>\n",
       "<style scoped>\n",
       "    .dataframe tbody tr th:only-of-type {\n",
       "        vertical-align: middle;\n",
       "    }\n",
       "\n",
       "    .dataframe tbody tr th {\n",
       "        vertical-align: top;\n",
       "    }\n",
       "\n",
       "    .dataframe thead th {\n",
       "        text-align: right;\n",
       "    }\n",
       "</style>\n",
       "<table border=\"1\" class=\"dataframe\">\n",
       "  <thead>\n",
       "    <tr style=\"text-align: right;\">\n",
       "      <th></th>\n",
       "      <th>Market Year</th>\n",
       "      <th>Value</th>\n",
       "      <th>Unit Description</th>\n",
       "    </tr>\n",
       "  </thead>\n",
       "  <tbody>\n",
       "    <tr>\n",
       "      <th>0</th>\n",
       "      <td>1960</td>\n",
       "      <td>22</td>\n",
       "      <td>(1000 MT)</td>\n",
       "    </tr>\n",
       "    <tr>\n",
       "      <th>1</th>\n",
       "      <td>1961</td>\n",
       "      <td>37</td>\n",
       "      <td>(1000 MT)</td>\n",
       "    </tr>\n",
       "    <tr>\n",
       "      <th>2</th>\n",
       "      <td>1962</td>\n",
       "      <td>38</td>\n",
       "      <td>(1000 MT)</td>\n",
       "    </tr>\n",
       "    <tr>\n",
       "      <th>3</th>\n",
       "      <td>1963</td>\n",
       "      <td>26</td>\n",
       "      <td>(1000 MT)</td>\n",
       "    </tr>\n",
       "    <tr>\n",
       "      <th>4</th>\n",
       "      <td>1964</td>\n",
       "      <td>24</td>\n",
       "      <td>(1000 MT)</td>\n",
       "    </tr>\n",
       "    <tr>\n",
       "      <th>...</th>\n",
       "      <td>...</td>\n",
       "      <td>...</td>\n",
       "      <td>...</td>\n",
       "    </tr>\n",
       "    <tr>\n",
       "      <th>57</th>\n",
       "      <td>2017</td>\n",
       "      <td>36</td>\n",
       "      <td>(1000 MT)</td>\n",
       "    </tr>\n",
       "    <tr>\n",
       "      <th>58</th>\n",
       "      <td>2018</td>\n",
       "      <td>36</td>\n",
       "      <td>(1000 MT)</td>\n",
       "    </tr>\n",
       "    <tr>\n",
       "      <th>59</th>\n",
       "      <td>2019</td>\n",
       "      <td>36</td>\n",
       "      <td>(1000 MT)</td>\n",
       "    </tr>\n",
       "    <tr>\n",
       "      <th>60</th>\n",
       "      <td>2020</td>\n",
       "      <td>36</td>\n",
       "      <td>(1000 MT)</td>\n",
       "    </tr>\n",
       "    <tr>\n",
       "      <th>61</th>\n",
       "      <td>2021</td>\n",
       "      <td>37</td>\n",
       "      <td>(1000 MT)</td>\n",
       "    </tr>\n",
       "  </tbody>\n",
       "</table>\n",
       "<p>62 rows × 3 columns</p>\n",
       "</div>"
      ],
      "text/plain": [
       "    Market Year   Value  Unit Description\n",
       "0          1960      22         (1000 MT)\n",
       "1          1961      37         (1000 MT)\n",
       "2          1962      38         (1000 MT)\n",
       "3          1963      26         (1000 MT)\n",
       "4          1964      24         (1000 MT)\n",
       "..          ...     ...               ...\n",
       "57         2017      36         (1000 MT)\n",
       "58         2018      36         (1000 MT)\n",
       "59         2019      36         (1000 MT)\n",
       "60         2020      36         (1000 MT)\n",
       "61         2021      37         (1000 MT)\n",
       "\n",
       "[62 rows x 3 columns]"
      ]
     },
     "execution_count": 155,
     "metadata": {},
     "output_type": "execute_result"
    }
   ],
   "source": [
    "df_millet_production_aus"
   ]
  },
  {
   "cell_type": "code",
   "execution_count": 156,
   "id": "9b6b4f5d",
   "metadata": {},
   "outputs": [],
   "source": [
    "df_millet_production_aus_M = transform_indexmundi_yearly_data(df_millet_production_aus, \"millet_production\")"
   ]
  },
  {
   "cell_type": "code",
   "execution_count": 157,
   "id": "723d3410",
   "metadata": {},
   "outputs": [
    {
     "data": {
      "text/plain": [
       "millet_production    0\n",
       "dtype: int64"
      ]
     },
     "execution_count": 157,
     "metadata": {},
     "output_type": "execute_result"
    }
   ],
   "source": [
    "df_millet_production_aus_M.isnull().sum()"
   ]
  },
  {
   "cell_type": "code",
   "execution_count": 158,
   "id": "041bf0cd",
   "metadata": {},
   "outputs": [
    {
     "name": "stdout",
     "output_type": "stream",
     "text": [
      "<class 'pandas.core.frame.DataFrame'>\n",
      "DatetimeIndex: 384 entries, 1990-01-31 to 2021-12-31\n",
      "Freq: M\n",
      "Data columns (total 1 columns):\n",
      " #   Column             Non-Null Count  Dtype  \n",
      "---  ------             --------------  -----  \n",
      " 0   millet_production  384 non-null    float64\n",
      "dtypes: float64(1)\n",
      "memory usage: 6.0 KB\n"
     ]
    }
   ],
   "source": [
    "df_millet_production_aus_M.info()"
   ]
  },
  {
   "cell_type": "markdown",
   "id": "a2845960",
   "metadata": {},
   "source": [
    "## final output"
   ]
  },
  {
   "cell_type": "code",
   "execution_count": 159,
   "id": "ca187c4e",
   "metadata": {},
   "outputs": [
    {
     "data": {
      "text/html": [
       "<div>\n",
       "<style scoped>\n",
       "    .dataframe tbody tr th:only-of-type {\n",
       "        vertical-align: middle;\n",
       "    }\n",
       "\n",
       "    .dataframe tbody tr th {\n",
       "        vertical-align: top;\n",
       "    }\n",
       "\n",
       "    .dataframe thead th {\n",
       "        text-align: right;\n",
       "    }\n",
       "</style>\n",
       "<table border=\"1\" class=\"dataframe\">\n",
       "  <thead>\n",
       "    <tr style=\"text-align: right;\">\n",
       "      <th></th>\n",
       "      <th>millet_production</th>\n",
       "    </tr>\n",
       "    <tr>\n",
       "      <th>month</th>\n",
       "      <th></th>\n",
       "    </tr>\n",
       "  </thead>\n",
       "  <tbody>\n",
       "    <tr>\n",
       "      <th>1990-01-31</th>\n",
       "      <td>3.166667</td>\n",
       "    </tr>\n",
       "    <tr>\n",
       "      <th>1990-02-28</th>\n",
       "      <td>3.166667</td>\n",
       "    </tr>\n",
       "    <tr>\n",
       "      <th>1990-03-31</th>\n",
       "      <td>3.166667</td>\n",
       "    </tr>\n",
       "    <tr>\n",
       "      <th>1990-04-30</th>\n",
       "      <td>3.166667</td>\n",
       "    </tr>\n",
       "    <tr>\n",
       "      <th>1990-05-31</th>\n",
       "      <td>3.166667</td>\n",
       "    </tr>\n",
       "    <tr>\n",
       "      <th>...</th>\n",
       "      <td>...</td>\n",
       "    </tr>\n",
       "    <tr>\n",
       "      <th>2021-08-31</th>\n",
       "      <td>3.083333</td>\n",
       "    </tr>\n",
       "    <tr>\n",
       "      <th>2021-09-30</th>\n",
       "      <td>3.083333</td>\n",
       "    </tr>\n",
       "    <tr>\n",
       "      <th>2021-10-31</th>\n",
       "      <td>3.083333</td>\n",
       "    </tr>\n",
       "    <tr>\n",
       "      <th>2021-11-30</th>\n",
       "      <td>3.083333</td>\n",
       "    </tr>\n",
       "    <tr>\n",
       "      <th>2021-12-31</th>\n",
       "      <td>3.083333</td>\n",
       "    </tr>\n",
       "  </tbody>\n",
       "</table>\n",
       "<p>384 rows × 1 columns</p>\n",
       "</div>"
      ],
      "text/plain": [
       "            millet_production\n",
       "month                        \n",
       "1990-01-31           3.166667\n",
       "1990-02-28           3.166667\n",
       "1990-03-31           3.166667\n",
       "1990-04-30           3.166667\n",
       "1990-05-31           3.166667\n",
       "...                       ...\n",
       "2021-08-31           3.083333\n",
       "2021-09-30           3.083333\n",
       "2021-10-31           3.083333\n",
       "2021-11-30           3.083333\n",
       "2021-12-31           3.083333\n",
       "\n",
       "[384 rows x 1 columns]"
      ]
     },
     "execution_count": 159,
     "metadata": {},
     "output_type": "execute_result"
    }
   ],
   "source": [
    "df_millet_production_aus_M"
   ]
  },
  {
   "cell_type": "markdown",
   "id": "6320fb39",
   "metadata": {},
   "source": [
    "# Australia Oats Production by Year\n",
    "\n",
    "https://www.indexmundi.com/agriculture/?country=au&commodity=oats&graph=production"
   ]
  },
  {
   "cell_type": "code",
   "execution_count": 160,
   "id": "645346a7",
   "metadata": {},
   "outputs": [],
   "source": [
    "df_oats_production_aus = pd.read_csv(\"data/aus/au-oats-production.csv\")"
   ]
  },
  {
   "cell_type": "code",
   "execution_count": 161,
   "id": "1bfb2eb1",
   "metadata": {},
   "outputs": [
    {
     "data": {
      "text/html": [
       "<div>\n",
       "<style scoped>\n",
       "    .dataframe tbody tr th:only-of-type {\n",
       "        vertical-align: middle;\n",
       "    }\n",
       "\n",
       "    .dataframe tbody tr th {\n",
       "        vertical-align: top;\n",
       "    }\n",
       "\n",
       "    .dataframe thead th {\n",
       "        text-align: right;\n",
       "    }\n",
       "</style>\n",
       "<table border=\"1\" class=\"dataframe\">\n",
       "  <thead>\n",
       "    <tr style=\"text-align: right;\">\n",
       "      <th></th>\n",
       "      <th>Market Year</th>\n",
       "      <th>Value</th>\n",
       "      <th>Unit Description</th>\n",
       "    </tr>\n",
       "  </thead>\n",
       "  <tbody>\n",
       "    <tr>\n",
       "      <th>0</th>\n",
       "      <td>1960</td>\n",
       "      <td>1381</td>\n",
       "      <td>(1000 MT)</td>\n",
       "    </tr>\n",
       "    <tr>\n",
       "      <th>1</th>\n",
       "      <td>1961</td>\n",
       "      <td>1000</td>\n",
       "      <td>(1000 MT)</td>\n",
       "    </tr>\n",
       "    <tr>\n",
       "      <th>2</th>\n",
       "      <td>1962</td>\n",
       "      <td>1248</td>\n",
       "      <td>(1000 MT)</td>\n",
       "    </tr>\n",
       "    <tr>\n",
       "      <th>3</th>\n",
       "      <td>1963</td>\n",
       "      <td>1238</td>\n",
       "      <td>(1000 MT)</td>\n",
       "    </tr>\n",
       "    <tr>\n",
       "      <th>4</th>\n",
       "      <td>1964</td>\n",
       "      <td>1271</td>\n",
       "      <td>(1000 MT)</td>\n",
       "    </tr>\n",
       "    <tr>\n",
       "      <th>...</th>\n",
       "      <td>...</td>\n",
       "      <td>...</td>\n",
       "      <td>...</td>\n",
       "    </tr>\n",
       "    <tr>\n",
       "      <th>57</th>\n",
       "      <td>2017</td>\n",
       "      <td>1227</td>\n",
       "      <td>(1000 MT)</td>\n",
       "    </tr>\n",
       "    <tr>\n",
       "      <th>58</th>\n",
       "      <td>2018</td>\n",
       "      <td>1135</td>\n",
       "      <td>(1000 MT)</td>\n",
       "    </tr>\n",
       "    <tr>\n",
       "      <th>59</th>\n",
       "      <td>2019</td>\n",
       "      <td>1143</td>\n",
       "      <td>(1000 MT)</td>\n",
       "    </tr>\n",
       "    <tr>\n",
       "      <th>60</th>\n",
       "      <td>2020</td>\n",
       "      <td>1675</td>\n",
       "      <td>(1000 MT)</td>\n",
       "    </tr>\n",
       "    <tr>\n",
       "      <th>61</th>\n",
       "      <td>2021</td>\n",
       "      <td>1550</td>\n",
       "      <td>(1000 MT)</td>\n",
       "    </tr>\n",
       "  </tbody>\n",
       "</table>\n",
       "<p>62 rows × 3 columns</p>\n",
       "</div>"
      ],
      "text/plain": [
       "    Market Year   Value  Unit Description\n",
       "0          1960    1381         (1000 MT)\n",
       "1          1961    1000         (1000 MT)\n",
       "2          1962    1248         (1000 MT)\n",
       "3          1963    1238         (1000 MT)\n",
       "4          1964    1271         (1000 MT)\n",
       "..          ...     ...               ...\n",
       "57         2017    1227         (1000 MT)\n",
       "58         2018    1135         (1000 MT)\n",
       "59         2019    1143         (1000 MT)\n",
       "60         2020    1675         (1000 MT)\n",
       "61         2021    1550         (1000 MT)\n",
       "\n",
       "[62 rows x 3 columns]"
      ]
     },
     "execution_count": 161,
     "metadata": {},
     "output_type": "execute_result"
    }
   ],
   "source": [
    "df_oats_production_aus"
   ]
  },
  {
   "cell_type": "code",
   "execution_count": 162,
   "id": "5db4a0b0",
   "metadata": {},
   "outputs": [],
   "source": [
    "df_oats_production_aus_M = transform_indexmundi_yearly_data(df_oats_production_aus, \"oats_production\")"
   ]
  },
  {
   "cell_type": "code",
   "execution_count": 163,
   "id": "0389e94d",
   "metadata": {},
   "outputs": [
    {
     "data": {
      "text/plain": [
       "oats_production    0\n",
       "dtype: int64"
      ]
     },
     "execution_count": 163,
     "metadata": {},
     "output_type": "execute_result"
    }
   ],
   "source": [
    "df_oats_production_aus_M.isnull().sum()"
   ]
  },
  {
   "cell_type": "code",
   "execution_count": 164,
   "id": "7cf9a3aa",
   "metadata": {},
   "outputs": [
    {
     "name": "stdout",
     "output_type": "stream",
     "text": [
      "<class 'pandas.core.frame.DataFrame'>\n",
      "DatetimeIndex: 384 entries, 1990-01-31 to 2021-12-31\n",
      "Freq: M\n",
      "Data columns (total 1 columns):\n",
      " #   Column           Non-Null Count  Dtype  \n",
      "---  ------           --------------  -----  \n",
      " 0   oats_production  384 non-null    float64\n",
      "dtypes: float64(1)\n",
      "memory usage: 6.0 KB\n"
     ]
    }
   ],
   "source": [
    "df_oats_production_aus_M.info()"
   ]
  },
  {
   "cell_type": "markdown",
   "id": "c001ba62",
   "metadata": {},
   "source": [
    "## final output"
   ]
  },
  {
   "cell_type": "code",
   "execution_count": 165,
   "id": "0a0951dd",
   "metadata": {},
   "outputs": [
    {
     "data": {
      "text/html": [
       "<div>\n",
       "<style scoped>\n",
       "    .dataframe tbody tr th:only-of-type {\n",
       "        vertical-align: middle;\n",
       "    }\n",
       "\n",
       "    .dataframe tbody tr th {\n",
       "        vertical-align: top;\n",
       "    }\n",
       "\n",
       "    .dataframe thead th {\n",
       "        text-align: right;\n",
       "    }\n",
       "</style>\n",
       "<table border=\"1\" class=\"dataframe\">\n",
       "  <thead>\n",
       "    <tr style=\"text-align: right;\">\n",
       "      <th></th>\n",
       "      <th>oats_production</th>\n",
       "    </tr>\n",
       "    <tr>\n",
       "      <th>month</th>\n",
       "      <th></th>\n",
       "    </tr>\n",
       "  </thead>\n",
       "  <tbody>\n",
       "    <tr>\n",
       "      <th>1990-01-31</th>\n",
       "      <td>129.500000</td>\n",
       "    </tr>\n",
       "    <tr>\n",
       "      <th>1990-02-28</th>\n",
       "      <td>129.500000</td>\n",
       "    </tr>\n",
       "    <tr>\n",
       "      <th>1990-03-31</th>\n",
       "      <td>129.500000</td>\n",
       "    </tr>\n",
       "    <tr>\n",
       "      <th>1990-04-30</th>\n",
       "      <td>129.500000</td>\n",
       "    </tr>\n",
       "    <tr>\n",
       "      <th>1990-05-31</th>\n",
       "      <td>129.500000</td>\n",
       "    </tr>\n",
       "    <tr>\n",
       "      <th>...</th>\n",
       "      <td>...</td>\n",
       "    </tr>\n",
       "    <tr>\n",
       "      <th>2021-08-31</th>\n",
       "      <td>129.166667</td>\n",
       "    </tr>\n",
       "    <tr>\n",
       "      <th>2021-09-30</th>\n",
       "      <td>129.166667</td>\n",
       "    </tr>\n",
       "    <tr>\n",
       "      <th>2021-10-31</th>\n",
       "      <td>129.166667</td>\n",
       "    </tr>\n",
       "    <tr>\n",
       "      <th>2021-11-30</th>\n",
       "      <td>129.166667</td>\n",
       "    </tr>\n",
       "    <tr>\n",
       "      <th>2021-12-31</th>\n",
       "      <td>129.166667</td>\n",
       "    </tr>\n",
       "  </tbody>\n",
       "</table>\n",
       "<p>384 rows × 1 columns</p>\n",
       "</div>"
      ],
      "text/plain": [
       "            oats_production\n",
       "month                      \n",
       "1990-01-31       129.500000\n",
       "1990-02-28       129.500000\n",
       "1990-03-31       129.500000\n",
       "1990-04-30       129.500000\n",
       "1990-05-31       129.500000\n",
       "...                     ...\n",
       "2021-08-31       129.166667\n",
       "2021-09-30       129.166667\n",
       "2021-10-31       129.166667\n",
       "2021-11-30       129.166667\n",
       "2021-12-31       129.166667\n",
       "\n",
       "[384 rows x 1 columns]"
      ]
     },
     "execution_count": 165,
     "metadata": {},
     "output_type": "execute_result"
    }
   ],
   "source": [
    "df_oats_production_aus_M"
   ]
  },
  {
   "cell_type": "markdown",
   "id": "f17b3a1d",
   "metadata": {},
   "source": [
    "# Australia Swine Meat Production by Year\n",
    "\n",
    "\n",
    "https://www.indexmundi.com/agriculture/?country=au&commodity=swine-meat&graph=production"
   ]
  },
  {
   "cell_type": "code",
   "execution_count": 166,
   "id": "bdb8ba5a",
   "metadata": {},
   "outputs": [],
   "source": [
    "df_swine_production_aus = pd.read_csv(\"data/aus/au-swine-meat-production.csv\")"
   ]
  },
  {
   "cell_type": "code",
   "execution_count": 167,
   "id": "950faf5a",
   "metadata": {},
   "outputs": [
    {
     "data": {
      "text/html": [
       "<div>\n",
       "<style scoped>\n",
       "    .dataframe tbody tr th:only-of-type {\n",
       "        vertical-align: middle;\n",
       "    }\n",
       "\n",
       "    .dataframe tbody tr th {\n",
       "        vertical-align: top;\n",
       "    }\n",
       "\n",
       "    .dataframe thead th {\n",
       "        text-align: right;\n",
       "    }\n",
       "</style>\n",
       "<table border=\"1\" class=\"dataframe\">\n",
       "  <thead>\n",
       "    <tr style=\"text-align: right;\">\n",
       "      <th></th>\n",
       "      <th>Market Year</th>\n",
       "      <th>Value</th>\n",
       "      <th>Unit Description</th>\n",
       "    </tr>\n",
       "  </thead>\n",
       "  <tbody>\n",
       "    <tr>\n",
       "      <th>0</th>\n",
       "      <td>1960</td>\n",
       "      <td>107</td>\n",
       "      <td>(1000 MT CWE)</td>\n",
       "    </tr>\n",
       "    <tr>\n",
       "      <th>1</th>\n",
       "      <td>1961</td>\n",
       "      <td>114</td>\n",
       "      <td>(1000 MT CWE)</td>\n",
       "    </tr>\n",
       "    <tr>\n",
       "      <th>2</th>\n",
       "      <td>1962</td>\n",
       "      <td>122</td>\n",
       "      <td>(1000 MT CWE)</td>\n",
       "    </tr>\n",
       "    <tr>\n",
       "      <th>3</th>\n",
       "      <td>1963</td>\n",
       "      <td>111</td>\n",
       "      <td>(1000 MT CWE)</td>\n",
       "    </tr>\n",
       "    <tr>\n",
       "      <th>4</th>\n",
       "      <td>1964</td>\n",
       "      <td>118</td>\n",
       "      <td>(1000 MT CWE)</td>\n",
       "    </tr>\n",
       "    <tr>\n",
       "      <th>...</th>\n",
       "      <td>...</td>\n",
       "      <td>...</td>\n",
       "      <td>...</td>\n",
       "    </tr>\n",
       "    <tr>\n",
       "      <th>58</th>\n",
       "      <td>2018</td>\n",
       "      <td>424</td>\n",
       "      <td>(1000 MT CWE)</td>\n",
       "    </tr>\n",
       "    <tr>\n",
       "      <th>59</th>\n",
       "      <td>2019</td>\n",
       "      <td>398</td>\n",
       "      <td>(1000 MT CWE)</td>\n",
       "    </tr>\n",
       "    <tr>\n",
       "      <th>60</th>\n",
       "      <td>2020</td>\n",
       "      <td>419</td>\n",
       "      <td>(1000 MT CWE)</td>\n",
       "    </tr>\n",
       "    <tr>\n",
       "      <th>61</th>\n",
       "      <td>2021</td>\n",
       "      <td>440</td>\n",
       "      <td>(1000 MT CWE)</td>\n",
       "    </tr>\n",
       "    <tr>\n",
       "      <th>62</th>\n",
       "      <td>2022</td>\n",
       "      <td>450</td>\n",
       "      <td>(1000 MT CWE)</td>\n",
       "    </tr>\n",
       "  </tbody>\n",
       "</table>\n",
       "<p>63 rows × 3 columns</p>\n",
       "</div>"
      ],
      "text/plain": [
       "    Market Year   Value  Unit Description\n",
       "0          1960     107     (1000 MT CWE)\n",
       "1          1961     114     (1000 MT CWE)\n",
       "2          1962     122     (1000 MT CWE)\n",
       "3          1963     111     (1000 MT CWE)\n",
       "4          1964     118     (1000 MT CWE)\n",
       "..          ...     ...               ...\n",
       "58         2018     424     (1000 MT CWE)\n",
       "59         2019     398     (1000 MT CWE)\n",
       "60         2020     419     (1000 MT CWE)\n",
       "61         2021     440     (1000 MT CWE)\n",
       "62         2022     450     (1000 MT CWE)\n",
       "\n",
       "[63 rows x 3 columns]"
      ]
     },
     "execution_count": 167,
     "metadata": {},
     "output_type": "execute_result"
    }
   ],
   "source": [
    "df_swine_production_aus"
   ]
  },
  {
   "cell_type": "code",
   "execution_count": 168,
   "id": "297a8e69",
   "metadata": {},
   "outputs": [],
   "source": [
    "df_swine_production_aus_M = transform_indexmundi_yearly_data(df_swine_production_aus, \"swine_production\")"
   ]
  },
  {
   "cell_type": "code",
   "execution_count": 169,
   "id": "1dcef855",
   "metadata": {},
   "outputs": [
    {
     "data": {
      "text/plain": [
       "swine_production    0\n",
       "dtype: int64"
      ]
     },
     "execution_count": 169,
     "metadata": {},
     "output_type": "execute_result"
    }
   ],
   "source": [
    "df_swine_production_aus_M.isnull().sum()"
   ]
  },
  {
   "cell_type": "code",
   "execution_count": 170,
   "id": "77fa86db",
   "metadata": {},
   "outputs": [
    {
     "name": "stdout",
     "output_type": "stream",
     "text": [
      "<class 'pandas.core.frame.DataFrame'>\n",
      "DatetimeIndex: 384 entries, 1990-01-31 to 2021-12-31\n",
      "Freq: M\n",
      "Data columns (total 1 columns):\n",
      " #   Column            Non-Null Count  Dtype  \n",
      "---  ------            --------------  -----  \n",
      " 0   swine_production  384 non-null    float64\n",
      "dtypes: float64(1)\n",
      "memory usage: 6.0 KB\n"
     ]
    }
   ],
   "source": [
    "df_swine_production_aus_M.info()"
   ]
  },
  {
   "cell_type": "markdown",
   "id": "5126c06a",
   "metadata": {},
   "source": [
    "## final output"
   ]
  },
  {
   "cell_type": "code",
   "execution_count": 171,
   "id": "b3c3821c",
   "metadata": {},
   "outputs": [
    {
     "data": {
      "text/html": [
       "<div>\n",
       "<style scoped>\n",
       "    .dataframe tbody tr th:only-of-type {\n",
       "        vertical-align: middle;\n",
       "    }\n",
       "\n",
       "    .dataframe tbody tr th {\n",
       "        vertical-align: top;\n",
       "    }\n",
       "\n",
       "    .dataframe thead th {\n",
       "        text-align: right;\n",
       "    }\n",
       "</style>\n",
       "<table border=\"1\" class=\"dataframe\">\n",
       "  <thead>\n",
       "    <tr style=\"text-align: right;\">\n",
       "      <th></th>\n",
       "      <th>swine_production</th>\n",
       "    </tr>\n",
       "    <tr>\n",
       "      <th>month</th>\n",
       "      <th></th>\n",
       "    </tr>\n",
       "  </thead>\n",
       "  <tbody>\n",
       "    <tr>\n",
       "      <th>1990-01-31</th>\n",
       "      <td>26.583333</td>\n",
       "    </tr>\n",
       "    <tr>\n",
       "      <th>1990-02-28</th>\n",
       "      <td>26.583333</td>\n",
       "    </tr>\n",
       "    <tr>\n",
       "      <th>1990-03-31</th>\n",
       "      <td>26.583333</td>\n",
       "    </tr>\n",
       "    <tr>\n",
       "      <th>1990-04-30</th>\n",
       "      <td>26.583333</td>\n",
       "    </tr>\n",
       "    <tr>\n",
       "      <th>1990-05-31</th>\n",
       "      <td>26.583333</td>\n",
       "    </tr>\n",
       "    <tr>\n",
       "      <th>...</th>\n",
       "      <td>...</td>\n",
       "    </tr>\n",
       "    <tr>\n",
       "      <th>2021-08-31</th>\n",
       "      <td>36.666667</td>\n",
       "    </tr>\n",
       "    <tr>\n",
       "      <th>2021-09-30</th>\n",
       "      <td>36.666667</td>\n",
       "    </tr>\n",
       "    <tr>\n",
       "      <th>2021-10-31</th>\n",
       "      <td>36.666667</td>\n",
       "    </tr>\n",
       "    <tr>\n",
       "      <th>2021-11-30</th>\n",
       "      <td>36.666667</td>\n",
       "    </tr>\n",
       "    <tr>\n",
       "      <th>2021-12-31</th>\n",
       "      <td>36.666667</td>\n",
       "    </tr>\n",
       "  </tbody>\n",
       "</table>\n",
       "<p>384 rows × 1 columns</p>\n",
       "</div>"
      ],
      "text/plain": [
       "            swine_production\n",
       "month                       \n",
       "1990-01-31         26.583333\n",
       "1990-02-28         26.583333\n",
       "1990-03-31         26.583333\n",
       "1990-04-30         26.583333\n",
       "1990-05-31         26.583333\n",
       "...                      ...\n",
       "2021-08-31         36.666667\n",
       "2021-09-30         36.666667\n",
       "2021-10-31         36.666667\n",
       "2021-11-30         36.666667\n",
       "2021-12-31         36.666667\n",
       "\n",
       "[384 rows x 1 columns]"
      ]
     },
     "execution_count": 171,
     "metadata": {},
     "output_type": "execute_result"
    }
   ],
   "source": [
    "df_swine_production_aus_M"
   ]
  },
  {
   "cell_type": "markdown",
   "id": "65e8dec9",
   "metadata": {},
   "source": [
    "# Australia Wheat Production by Year\n",
    "\n",
    "https://www.indexmundi.com/agriculture/?country=au&commodity=wheat&graph=production"
   ]
  },
  {
   "cell_type": "code",
   "execution_count": 172,
   "id": "ca6d2edf",
   "metadata": {},
   "outputs": [],
   "source": [
    "df_wheat_production_aus = pd.read_csv(\"data/aus/au-wheat-production.csv\")"
   ]
  },
  {
   "cell_type": "code",
   "execution_count": 173,
   "id": "bf2a04fc",
   "metadata": {},
   "outputs": [
    {
     "data": {
      "text/html": [
       "<div>\n",
       "<style scoped>\n",
       "    .dataframe tbody tr th:only-of-type {\n",
       "        vertical-align: middle;\n",
       "    }\n",
       "\n",
       "    .dataframe tbody tr th {\n",
       "        vertical-align: top;\n",
       "    }\n",
       "\n",
       "    .dataframe thead th {\n",
       "        text-align: right;\n",
       "    }\n",
       "</style>\n",
       "<table border=\"1\" class=\"dataframe\">\n",
       "  <thead>\n",
       "    <tr style=\"text-align: right;\">\n",
       "      <th></th>\n",
       "      <th>Market Year</th>\n",
       "      <th>Value</th>\n",
       "      <th>Unit Description</th>\n",
       "    </tr>\n",
       "  </thead>\n",
       "  <tbody>\n",
       "    <tr>\n",
       "      <th>0</th>\n",
       "      <td>1960</td>\n",
       "      <td>7450</td>\n",
       "      <td>(1000 MT)</td>\n",
       "    </tr>\n",
       "    <tr>\n",
       "      <th>1</th>\n",
       "      <td>1961</td>\n",
       "      <td>6727</td>\n",
       "      <td>(1000 MT)</td>\n",
       "    </tr>\n",
       "    <tr>\n",
       "      <th>2</th>\n",
       "      <td>1962</td>\n",
       "      <td>8353</td>\n",
       "      <td>(1000 MT)</td>\n",
       "    </tr>\n",
       "    <tr>\n",
       "      <th>3</th>\n",
       "      <td>1963</td>\n",
       "      <td>8925</td>\n",
       "      <td>(1000 MT)</td>\n",
       "    </tr>\n",
       "    <tr>\n",
       "      <th>4</th>\n",
       "      <td>1964</td>\n",
       "      <td>10037</td>\n",
       "      <td>(1000 MT)</td>\n",
       "    </tr>\n",
       "    <tr>\n",
       "      <th>...</th>\n",
       "      <td>...</td>\n",
       "      <td>...</td>\n",
       "      <td>...</td>\n",
       "    </tr>\n",
       "    <tr>\n",
       "      <th>57</th>\n",
       "      <td>2017</td>\n",
       "      <td>20941</td>\n",
       "      <td>(1000 MT)</td>\n",
       "    </tr>\n",
       "    <tr>\n",
       "      <th>58</th>\n",
       "      <td>2018</td>\n",
       "      <td>17598</td>\n",
       "      <td>(1000 MT)</td>\n",
       "    </tr>\n",
       "    <tr>\n",
       "      <th>59</th>\n",
       "      <td>2019</td>\n",
       "      <td>14480</td>\n",
       "      <td>(1000 MT)</td>\n",
       "    </tr>\n",
       "    <tr>\n",
       "      <th>60</th>\n",
       "      <td>2020</td>\n",
       "      <td>33300</td>\n",
       "      <td>(1000 MT)</td>\n",
       "    </tr>\n",
       "    <tr>\n",
       "      <th>61</th>\n",
       "      <td>2021</td>\n",
       "      <td>34000</td>\n",
       "      <td>(1000 MT)</td>\n",
       "    </tr>\n",
       "  </tbody>\n",
       "</table>\n",
       "<p>62 rows × 3 columns</p>\n",
       "</div>"
      ],
      "text/plain": [
       "    Market Year   Value  Unit Description\n",
       "0          1960    7450         (1000 MT)\n",
       "1          1961    6727         (1000 MT)\n",
       "2          1962    8353         (1000 MT)\n",
       "3          1963    8925         (1000 MT)\n",
       "4          1964   10037         (1000 MT)\n",
       "..          ...     ...               ...\n",
       "57         2017   20941         (1000 MT)\n",
       "58         2018   17598         (1000 MT)\n",
       "59         2019   14480         (1000 MT)\n",
       "60         2020   33300         (1000 MT)\n",
       "61         2021   34000         (1000 MT)\n",
       "\n",
       "[62 rows x 3 columns]"
      ]
     },
     "execution_count": 173,
     "metadata": {},
     "output_type": "execute_result"
    }
   ],
   "source": [
    "df_wheat_production_aus"
   ]
  },
  {
   "cell_type": "code",
   "execution_count": 174,
   "id": "dc73e39d",
   "metadata": {},
   "outputs": [],
   "source": [
    "df_wheat_production_aus_M = transform_indexmundi_yearly_data(df_wheat_production_aus, \"wheat_production\")"
   ]
  },
  {
   "cell_type": "code",
   "execution_count": 175,
   "id": "ff28a280",
   "metadata": {},
   "outputs": [
    {
     "data": {
      "text/plain": [
       "wheat_production    0\n",
       "dtype: int64"
      ]
     },
     "execution_count": 175,
     "metadata": {},
     "output_type": "execute_result"
    }
   ],
   "source": [
    "df_wheat_production_aus_M.isnull().sum()"
   ]
  },
  {
   "cell_type": "code",
   "execution_count": 176,
   "id": "47f869e6",
   "metadata": {},
   "outputs": [
    {
     "name": "stdout",
     "output_type": "stream",
     "text": [
      "<class 'pandas.core.frame.DataFrame'>\n",
      "DatetimeIndex: 384 entries, 1990-01-31 to 2021-12-31\n",
      "Freq: M\n",
      "Data columns (total 1 columns):\n",
      " #   Column            Non-Null Count  Dtype  \n",
      "---  ------            --------------  -----  \n",
      " 0   wheat_production  384 non-null    float64\n",
      "dtypes: float64(1)\n",
      "memory usage: 6.0 KB\n"
     ]
    }
   ],
   "source": [
    "df_wheat_production_aus_M.info()"
   ]
  },
  {
   "cell_type": "markdown",
   "id": "8f7843f8",
   "metadata": {},
   "source": [
    "## final output"
   ]
  },
  {
   "cell_type": "code",
   "execution_count": 177,
   "id": "e492d8a4",
   "metadata": {},
   "outputs": [
    {
     "data": {
      "text/html": [
       "<div>\n",
       "<style scoped>\n",
       "    .dataframe tbody tr th:only-of-type {\n",
       "        vertical-align: middle;\n",
       "    }\n",
       "\n",
       "    .dataframe tbody tr th {\n",
       "        vertical-align: top;\n",
       "    }\n",
       "\n",
       "    .dataframe thead th {\n",
       "        text-align: right;\n",
       "    }\n",
       "</style>\n",
       "<table border=\"1\" class=\"dataframe\">\n",
       "  <thead>\n",
       "    <tr style=\"text-align: right;\">\n",
       "      <th></th>\n",
       "      <th>wheat_production</th>\n",
       "    </tr>\n",
       "    <tr>\n",
       "      <th>month</th>\n",
       "      <th></th>\n",
       "    </tr>\n",
       "  </thead>\n",
       "  <tbody>\n",
       "    <tr>\n",
       "      <th>1990-01-31</th>\n",
       "      <td>1255.500000</td>\n",
       "    </tr>\n",
       "    <tr>\n",
       "      <th>1990-02-28</th>\n",
       "      <td>1255.500000</td>\n",
       "    </tr>\n",
       "    <tr>\n",
       "      <th>1990-03-31</th>\n",
       "      <td>1255.500000</td>\n",
       "    </tr>\n",
       "    <tr>\n",
       "      <th>1990-04-30</th>\n",
       "      <td>1255.500000</td>\n",
       "    </tr>\n",
       "    <tr>\n",
       "      <th>1990-05-31</th>\n",
       "      <td>1255.500000</td>\n",
       "    </tr>\n",
       "    <tr>\n",
       "      <th>...</th>\n",
       "      <td>...</td>\n",
       "    </tr>\n",
       "    <tr>\n",
       "      <th>2021-08-31</th>\n",
       "      <td>2833.333333</td>\n",
       "    </tr>\n",
       "    <tr>\n",
       "      <th>2021-09-30</th>\n",
       "      <td>2833.333333</td>\n",
       "    </tr>\n",
       "    <tr>\n",
       "      <th>2021-10-31</th>\n",
       "      <td>2833.333333</td>\n",
       "    </tr>\n",
       "    <tr>\n",
       "      <th>2021-11-30</th>\n",
       "      <td>2833.333333</td>\n",
       "    </tr>\n",
       "    <tr>\n",
       "      <th>2021-12-31</th>\n",
       "      <td>2833.333333</td>\n",
       "    </tr>\n",
       "  </tbody>\n",
       "</table>\n",
       "<p>384 rows × 1 columns</p>\n",
       "</div>"
      ],
      "text/plain": [
       "            wheat_production\n",
       "month                       \n",
       "1990-01-31       1255.500000\n",
       "1990-02-28       1255.500000\n",
       "1990-03-31       1255.500000\n",
       "1990-04-30       1255.500000\n",
       "1990-05-31       1255.500000\n",
       "...                      ...\n",
       "2021-08-31       2833.333333\n",
       "2021-09-30       2833.333333\n",
       "2021-10-31       2833.333333\n",
       "2021-11-30       2833.333333\n",
       "2021-12-31       2833.333333\n",
       "\n",
       "[384 rows x 1 columns]"
      ]
     },
     "execution_count": 177,
     "metadata": {},
     "output_type": "execute_result"
    }
   ],
   "source": [
    "df_wheat_production_aus_M"
   ]
  },
  {
   "cell_type": "markdown",
   "id": "d726b968",
   "metadata": {},
   "source": [
    "# AUD/NZD\n",
    "\n",
    "https://www.investing.com/currencies/aud-nzd-historical-data"
   ]
  },
  {
   "cell_type": "code",
   "execution_count": 178,
   "id": "0601fcd4",
   "metadata": {},
   "outputs": [],
   "source": [
    "df_audnzd = prepare_forex_data(\"data/aus/AUD_NZD Historical Data.csv\")"
   ]
  },
  {
   "cell_type": "code",
   "execution_count": 179,
   "id": "274f691c",
   "metadata": {},
   "outputs": [],
   "source": [
    "df_audnzd.rename(columns={'price': 'audnzd'}, inplace=True)"
   ]
  },
  {
   "cell_type": "code",
   "execution_count": 180,
   "id": "21f1a0d0",
   "metadata": {},
   "outputs": [
    {
     "data": {
      "text/plain": [
       "audnzd    0\n",
       "dtype: int64"
      ]
     },
     "execution_count": 180,
     "metadata": {},
     "output_type": "execute_result"
    }
   ],
   "source": [
    "df_audnzd.isnull().sum()"
   ]
  },
  {
   "cell_type": "markdown",
   "id": "fd420831",
   "metadata": {},
   "source": [
    "## final output"
   ]
  },
  {
   "cell_type": "code",
   "execution_count": 181,
   "id": "041d488d",
   "metadata": {},
   "outputs": [
    {
     "data": {
      "text/html": [
       "<div>\n",
       "<style scoped>\n",
       "    .dataframe tbody tr th:only-of-type {\n",
       "        vertical-align: middle;\n",
       "    }\n",
       "\n",
       "    .dataframe tbody tr th {\n",
       "        vertical-align: top;\n",
       "    }\n",
       "\n",
       "    .dataframe thead th {\n",
       "        text-align: right;\n",
       "    }\n",
       "</style>\n",
       "<table border=\"1\" class=\"dataframe\">\n",
       "  <thead>\n",
       "    <tr style=\"text-align: right;\">\n",
       "      <th></th>\n",
       "      <th>audnzd</th>\n",
       "    </tr>\n",
       "    <tr>\n",
       "      <th>date</th>\n",
       "      <th></th>\n",
       "    </tr>\n",
       "  </thead>\n",
       "  <tbody>\n",
       "    <tr>\n",
       "      <th>1990-01-31</th>\n",
       "      <td>1.2843</td>\n",
       "    </tr>\n",
       "    <tr>\n",
       "      <th>1990-02-28</th>\n",
       "      <td>1.2939</td>\n",
       "    </tr>\n",
       "    <tr>\n",
       "      <th>1990-03-31</th>\n",
       "      <td>1.3016</td>\n",
       "    </tr>\n",
       "    <tr>\n",
       "      <th>1990-04-30</th>\n",
       "      <td>1.3059</td>\n",
       "    </tr>\n",
       "    <tr>\n",
       "      <th>1990-05-31</th>\n",
       "      <td>1.3310</td>\n",
       "    </tr>\n",
       "    <tr>\n",
       "      <th>...</th>\n",
       "      <td>...</td>\n",
       "    </tr>\n",
       "    <tr>\n",
       "      <th>2022-01-31</th>\n",
       "      <td>1.0739</td>\n",
       "    </tr>\n",
       "    <tr>\n",
       "      <th>2022-02-28</th>\n",
       "      <td>1.0738</td>\n",
       "    </tr>\n",
       "    <tr>\n",
       "      <th>2022-03-31</th>\n",
       "      <td>1.0780</td>\n",
       "    </tr>\n",
       "    <tr>\n",
       "      <th>2022-04-30</th>\n",
       "      <td>1.0933</td>\n",
       "    </tr>\n",
       "    <tr>\n",
       "      <th>2022-05-31</th>\n",
       "      <td>1.1082</td>\n",
       "    </tr>\n",
       "  </tbody>\n",
       "</table>\n",
       "<p>389 rows × 1 columns</p>\n",
       "</div>"
      ],
      "text/plain": [
       "            audnzd\n",
       "date              \n",
       "1990-01-31  1.2843\n",
       "1990-02-28  1.2939\n",
       "1990-03-31  1.3016\n",
       "1990-04-30  1.3059\n",
       "1990-05-31  1.3310\n",
       "...            ...\n",
       "2022-01-31  1.0739\n",
       "2022-02-28  1.0738\n",
       "2022-03-31  1.0780\n",
       "2022-04-30  1.0933\n",
       "2022-05-31  1.1082\n",
       "\n",
       "[389 rows x 1 columns]"
      ]
     },
     "execution_count": 181,
     "metadata": {},
     "output_type": "execute_result"
    }
   ],
   "source": [
    "df_audnzd"
   ]
  },
  {
   "cell_type": "markdown",
   "id": "423455db",
   "metadata": {},
   "source": [
    "# AUD/CNY\n",
    "\n",
    "https://www.investing.com/currencies/aud-cny-historical-data"
   ]
  },
  {
   "cell_type": "code",
   "execution_count": 182,
   "id": "de215aca",
   "metadata": {},
   "outputs": [],
   "source": [
    "df_audcny = prepare_forex_data(\"data/aus/AUD_CNY Historical Data.csv\")"
   ]
  },
  {
   "cell_type": "code",
   "execution_count": 183,
   "id": "91991611",
   "metadata": {},
   "outputs": [],
   "source": [
    "df_audcny.rename(columns={'price': 'audcny'}, inplace=True)"
   ]
  },
  {
   "cell_type": "code",
   "execution_count": 184,
   "id": "0b08ca51",
   "metadata": {},
   "outputs": [
    {
     "data": {
      "text/plain": [
       "audcny    0\n",
       "dtype: int64"
      ]
     },
     "execution_count": 184,
     "metadata": {},
     "output_type": "execute_result"
    }
   ],
   "source": [
    "df_audcny.isnull().sum()"
   ]
  },
  {
   "cell_type": "markdown",
   "id": "5952fe86",
   "metadata": {},
   "source": [
    "## final output"
   ]
  },
  {
   "cell_type": "code",
   "execution_count": 185,
   "id": "fcb90d5d",
   "metadata": {},
   "outputs": [
    {
     "data": {
      "text/html": [
       "<div>\n",
       "<style scoped>\n",
       "    .dataframe tbody tr th:only-of-type {\n",
       "        vertical-align: middle;\n",
       "    }\n",
       "\n",
       "    .dataframe tbody tr th {\n",
       "        vertical-align: top;\n",
       "    }\n",
       "\n",
       "    .dataframe thead th {\n",
       "        text-align: right;\n",
       "    }\n",
       "</style>\n",
       "<table border=\"1\" class=\"dataframe\">\n",
       "  <thead>\n",
       "    <tr style=\"text-align: right;\">\n",
       "      <th></th>\n",
       "      <th>audcny</th>\n",
       "    </tr>\n",
       "    <tr>\n",
       "      <th>date</th>\n",
       "      <th></th>\n",
       "    </tr>\n",
       "  </thead>\n",
       "  <tbody>\n",
       "    <tr>\n",
       "      <th>1990-01-31</th>\n",
       "      <td>3.6494</td>\n",
       "    </tr>\n",
       "    <tr>\n",
       "      <th>1990-02-28</th>\n",
       "      <td>3.5968</td>\n",
       "    </tr>\n",
       "    <tr>\n",
       "      <th>1990-03-31</th>\n",
       "      <td>3.5731</td>\n",
       "    </tr>\n",
       "    <tr>\n",
       "      <th>1990-04-30</th>\n",
       "      <td>3.5566</td>\n",
       "    </tr>\n",
       "    <tr>\n",
       "      <th>1990-05-31</th>\n",
       "      <td>3.6328</td>\n",
       "    </tr>\n",
       "    <tr>\n",
       "      <th>...</th>\n",
       "      <td>...</td>\n",
       "    </tr>\n",
       "    <tr>\n",
       "      <th>2022-01-31</th>\n",
       "      <td>4.4931</td>\n",
       "    </tr>\n",
       "    <tr>\n",
       "      <th>2022-02-28</th>\n",
       "      <td>4.5812</td>\n",
       "    </tr>\n",
       "    <tr>\n",
       "      <th>2022-03-31</th>\n",
       "      <td>4.7418</td>\n",
       "    </tr>\n",
       "    <tr>\n",
       "      <th>2022-04-30</th>\n",
       "      <td>4.6672</td>\n",
       "    </tr>\n",
       "    <tr>\n",
       "      <th>2022-05-31</th>\n",
       "      <td>4.7944</td>\n",
       "    </tr>\n",
       "  </tbody>\n",
       "</table>\n",
       "<p>389 rows × 1 columns</p>\n",
       "</div>"
      ],
      "text/plain": [
       "            audcny\n",
       "date              \n",
       "1990-01-31  3.6494\n",
       "1990-02-28  3.5968\n",
       "1990-03-31  3.5731\n",
       "1990-04-30  3.5566\n",
       "1990-05-31  3.6328\n",
       "...            ...\n",
       "2022-01-31  4.4931\n",
       "2022-02-28  4.5812\n",
       "2022-03-31  4.7418\n",
       "2022-04-30  4.6672\n",
       "2022-05-31  4.7944\n",
       "\n",
       "[389 rows x 1 columns]"
      ]
     },
     "execution_count": 185,
     "metadata": {},
     "output_type": "execute_result"
    }
   ],
   "source": [
    "df_audcny"
   ]
  },
  {
   "cell_type": "markdown",
   "id": "4303c64b",
   "metadata": {},
   "source": [
    "# AUD/USD\n",
    "\n",
    "https://www.investing.com/currencies/aud-usd-historical-data"
   ]
  },
  {
   "cell_type": "code",
   "execution_count": 186,
   "id": "81557091",
   "metadata": {},
   "outputs": [],
   "source": [
    "df_audusd = prepare_forex_data(\"data/aus/AUD_USD Historical Data.csv\")"
   ]
  },
  {
   "cell_type": "code",
   "execution_count": 187,
   "id": "62ad8211",
   "metadata": {},
   "outputs": [],
   "source": [
    "df_audusd.rename(columns={'price': 'audusd'}, inplace=True)"
   ]
  },
  {
   "cell_type": "code",
   "execution_count": 188,
   "id": "38caa103",
   "metadata": {},
   "outputs": [
    {
     "data": {
      "text/plain": [
       "audusd    0\n",
       "dtype: int64"
      ]
     },
     "execution_count": 188,
     "metadata": {},
     "output_type": "execute_result"
    }
   ],
   "source": [
    "df_audusd.isnull().sum()"
   ]
  },
  {
   "cell_type": "markdown",
   "id": "67831b0e",
   "metadata": {},
   "source": [
    "## final output"
   ]
  },
  {
   "cell_type": "code",
   "execution_count": 189,
   "id": "ff5ede2e",
   "metadata": {},
   "outputs": [
    {
     "data": {
      "text/html": [
       "<div>\n",
       "<style scoped>\n",
       "    .dataframe tbody tr th:only-of-type {\n",
       "        vertical-align: middle;\n",
       "    }\n",
       "\n",
       "    .dataframe tbody tr th {\n",
       "        vertical-align: top;\n",
       "    }\n",
       "\n",
       "    .dataframe thead th {\n",
       "        text-align: right;\n",
       "    }\n",
       "</style>\n",
       "<table border=\"1\" class=\"dataframe\">\n",
       "  <thead>\n",
       "    <tr style=\"text-align: right;\">\n",
       "      <th></th>\n",
       "      <th>audusd</th>\n",
       "    </tr>\n",
       "    <tr>\n",
       "      <th>date</th>\n",
       "      <th></th>\n",
       "    </tr>\n",
       "  </thead>\n",
       "  <tbody>\n",
       "    <tr>\n",
       "      <th>1990-01-31</th>\n",
       "      <td>0.7712</td>\n",
       "    </tr>\n",
       "    <tr>\n",
       "      <th>1990-02-28</th>\n",
       "      <td>0.7601</td>\n",
       "    </tr>\n",
       "    <tr>\n",
       "      <th>1990-03-31</th>\n",
       "      <td>0.7553</td>\n",
       "    </tr>\n",
       "    <tr>\n",
       "      <th>1990-04-30</th>\n",
       "      <td>0.7515</td>\n",
       "    </tr>\n",
       "    <tr>\n",
       "      <th>1990-05-31</th>\n",
       "      <td>0.7677</td>\n",
       "    </tr>\n",
       "    <tr>\n",
       "      <th>...</th>\n",
       "      <td>...</td>\n",
       "    </tr>\n",
       "    <tr>\n",
       "      <th>2022-01-31</th>\n",
       "      <td>0.7064</td>\n",
       "    </tr>\n",
       "    <tr>\n",
       "      <th>2022-02-28</th>\n",
       "      <td>0.7262</td>\n",
       "    </tr>\n",
       "    <tr>\n",
       "      <th>2022-03-31</th>\n",
       "      <td>0.7480</td>\n",
       "    </tr>\n",
       "    <tr>\n",
       "      <th>2022-04-30</th>\n",
       "      <td>0.7063</td>\n",
       "    </tr>\n",
       "    <tr>\n",
       "      <th>2022-05-31</th>\n",
       "      <td>0.7261</td>\n",
       "    </tr>\n",
       "  </tbody>\n",
       "</table>\n",
       "<p>389 rows × 1 columns</p>\n",
       "</div>"
      ],
      "text/plain": [
       "            audusd\n",
       "date              \n",
       "1990-01-31  0.7712\n",
       "1990-02-28  0.7601\n",
       "1990-03-31  0.7553\n",
       "1990-04-30  0.7515\n",
       "1990-05-31  0.7677\n",
       "...            ...\n",
       "2022-01-31  0.7064\n",
       "2022-02-28  0.7262\n",
       "2022-03-31  0.7480\n",
       "2022-04-30  0.7063\n",
       "2022-05-31  0.7261\n",
       "\n",
       "[389 rows x 1 columns]"
      ]
     },
     "execution_count": 189,
     "metadata": {},
     "output_type": "execute_result"
    }
   ],
   "source": [
    "df_audusd"
   ]
  },
  {
   "cell_type": "markdown",
   "id": "85d10f99",
   "metadata": {},
   "source": [
    "# Australian rain\n",
    "\n",
    "http://www.bom.gov.au/jsp/ncc/cdio/weatherData/av?p_nccObsCode=139&p_display_type=dataFile&p_startYear=&p_c=&p_stn_num=042027\n",
    "\n",
    "Weather station is in Queensland because most of the cattle production happens there:\n",
    "\n",
    "https://www.beefcentral.com/production/australias-20-largest-regions-for-cattle-population/"
   ]
  },
  {
   "cell_type": "code",
   "execution_count": 190,
   "id": "94e43fb2",
   "metadata": {},
   "outputs": [],
   "source": [
    "df_rain_aus = pd.read_csv(\"data/aus/weather/rain/queensland_rain.csv\")"
   ]
  },
  {
   "cell_type": "code",
   "execution_count": 191,
   "id": "8fc4d3c7",
   "metadata": {},
   "outputs": [
    {
     "data": {
      "text/html": [
       "<div>\n",
       "<style scoped>\n",
       "    .dataframe tbody tr th:only-of-type {\n",
       "        vertical-align: middle;\n",
       "    }\n",
       "\n",
       "    .dataframe tbody tr th {\n",
       "        vertical-align: top;\n",
       "    }\n",
       "\n",
       "    .dataframe thead th {\n",
       "        text-align: right;\n",
       "    }\n",
       "</style>\n",
       "<table border=\"1\" class=\"dataframe\">\n",
       "  <thead>\n",
       "    <tr style=\"text-align: right;\">\n",
       "      <th></th>\n",
       "      <th>Product code</th>\n",
       "      <th>Station number</th>\n",
       "      <th>Year</th>\n",
       "      <th>Month</th>\n",
       "      <th>Monthly Precipitation Total (millimetres)</th>\n",
       "      <th>Quality</th>\n",
       "    </tr>\n",
       "  </thead>\n",
       "  <tbody>\n",
       "    <tr>\n",
       "      <th>0</th>\n",
       "      <td>IDCJAC0001</td>\n",
       "      <td>42027</td>\n",
       "      <td>1912</td>\n",
       "      <td>12</td>\n",
       "      <td>6.4</td>\n",
       "      <td>Y</td>\n",
       "    </tr>\n",
       "    <tr>\n",
       "      <th>1</th>\n",
       "      <td>IDCJAC0001</td>\n",
       "      <td>42027</td>\n",
       "      <td>1912</td>\n",
       "      <td>11</td>\n",
       "      <td>51.8</td>\n",
       "      <td>Y</td>\n",
       "    </tr>\n",
       "    <tr>\n",
       "      <th>2</th>\n",
       "      <td>IDCJAC0001</td>\n",
       "      <td>42027</td>\n",
       "      <td>1912</td>\n",
       "      <td>10</td>\n",
       "      <td>44.1</td>\n",
       "      <td>Y</td>\n",
       "    </tr>\n",
       "    <tr>\n",
       "      <th>3</th>\n",
       "      <td>IDCJAC0001</td>\n",
       "      <td>42027</td>\n",
       "      <td>1912</td>\n",
       "      <td>9</td>\n",
       "      <td>12.7</td>\n",
       "      <td>Y</td>\n",
       "    </tr>\n",
       "    <tr>\n",
       "      <th>4</th>\n",
       "      <td>IDCJAC0001</td>\n",
       "      <td>42027</td>\n",
       "      <td>1912</td>\n",
       "      <td>8</td>\n",
       "      <td>25.7</td>\n",
       "      <td>Y</td>\n",
       "    </tr>\n",
       "    <tr>\n",
       "      <th>...</th>\n",
       "      <td>...</td>\n",
       "      <td>...</td>\n",
       "      <td>...</td>\n",
       "      <td>...</td>\n",
       "      <td>...</td>\n",
       "      <td>...</td>\n",
       "    </tr>\n",
       "    <tr>\n",
       "      <th>1269</th>\n",
       "      <td>IDCJAC0001</td>\n",
       "      <td>42027</td>\n",
       "      <td>2021</td>\n",
       "      <td>5</td>\n",
       "      <td>24.0</td>\n",
       "      <td>N</td>\n",
       "    </tr>\n",
       "    <tr>\n",
       "      <th>1270</th>\n",
       "      <td>IDCJAC0001</td>\n",
       "      <td>42027</td>\n",
       "      <td>2021</td>\n",
       "      <td>4</td>\n",
       "      <td>20.0</td>\n",
       "      <td>N</td>\n",
       "    </tr>\n",
       "    <tr>\n",
       "      <th>1271</th>\n",
       "      <td>IDCJAC0001</td>\n",
       "      <td>42027</td>\n",
       "      <td>2021</td>\n",
       "      <td>3</td>\n",
       "      <td>243.3</td>\n",
       "      <td>N</td>\n",
       "    </tr>\n",
       "    <tr>\n",
       "      <th>1272</th>\n",
       "      <td>IDCJAC0001</td>\n",
       "      <td>42027</td>\n",
       "      <td>2021</td>\n",
       "      <td>2</td>\n",
       "      <td>106.0</td>\n",
       "      <td>N</td>\n",
       "    </tr>\n",
       "    <tr>\n",
       "      <th>1273</th>\n",
       "      <td>IDCJAC0001</td>\n",
       "      <td>42027</td>\n",
       "      <td>2021</td>\n",
       "      <td>1</td>\n",
       "      <td>16.8</td>\n",
       "      <td>N</td>\n",
       "    </tr>\n",
       "  </tbody>\n",
       "</table>\n",
       "<p>1274 rows × 6 columns</p>\n",
       "</div>"
      ],
      "text/plain": [
       "     Product code  Station number  Year  Month  \\\n",
       "0      IDCJAC0001           42027  1912     12   \n",
       "1      IDCJAC0001           42027  1912     11   \n",
       "2      IDCJAC0001           42027  1912     10   \n",
       "3      IDCJAC0001           42027  1912      9   \n",
       "4      IDCJAC0001           42027  1912      8   \n",
       "...           ...             ...   ...    ...   \n",
       "1269   IDCJAC0001           42027  2021      5   \n",
       "1270   IDCJAC0001           42027  2021      4   \n",
       "1271   IDCJAC0001           42027  2021      3   \n",
       "1272   IDCJAC0001           42027  2021      2   \n",
       "1273   IDCJAC0001           42027  2021      1   \n",
       "\n",
       "      Monthly Precipitation Total (millimetres) Quality  \n",
       "0                                           6.4       Y  \n",
       "1                                          51.8       Y  \n",
       "2                                          44.1       Y  \n",
       "3                                          12.7       Y  \n",
       "4                                          25.7       Y  \n",
       "...                                         ...     ...  \n",
       "1269                                       24.0       N  \n",
       "1270                                       20.0       N  \n",
       "1271                                      243.3       N  \n",
       "1272                                      106.0       N  \n",
       "1273                                       16.8       N  \n",
       "\n",
       "[1274 rows x 6 columns]"
      ]
     },
     "execution_count": 191,
     "metadata": {},
     "output_type": "execute_result"
    }
   ],
   "source": [
    "df_rain_aus"
   ]
  },
  {
   "cell_type": "code",
   "execution_count": 192,
   "id": "c938a9c6",
   "metadata": {},
   "outputs": [],
   "source": [
    "df_rain_aus = df_rain_aus.drop([\"Product code\",\"Station number\",\"Quality\"], axis=1)"
   ]
  },
  {
   "cell_type": "code",
   "execution_count": 193,
   "id": "717c7c9b",
   "metadata": {},
   "outputs": [],
   "source": [
    "df_rain_aus = df_rain_aus.rename(columns={\"Monthly Precipitation Total (millimetres)\" : \"rain\"})"
   ]
  },
  {
   "cell_type": "code",
   "execution_count": 194,
   "id": "ef9c2e5a",
   "metadata": {},
   "outputs": [],
   "source": [
    "df_rain_aus[\"date\"] = df_rain_aus.apply(lambda row : \"01/\" + str(int(row[1])) + \"/\" + str(int(row[0]))  , axis=1)"
   ]
  },
  {
   "cell_type": "code",
   "execution_count": 195,
   "id": "c180df88",
   "metadata": {},
   "outputs": [],
   "source": [
    "df_rain_aus = df_rain_aus.drop([\"Year\",\"Month\"], axis=1)"
   ]
  },
  {
   "cell_type": "code",
   "execution_count": 196,
   "id": "f7ecb589",
   "metadata": {},
   "outputs": [
    {
     "data": {
      "text/html": [
       "<div>\n",
       "<style scoped>\n",
       "    .dataframe tbody tr th:only-of-type {\n",
       "        vertical-align: middle;\n",
       "    }\n",
       "\n",
       "    .dataframe tbody tr th {\n",
       "        vertical-align: top;\n",
       "    }\n",
       "\n",
       "    .dataframe thead th {\n",
       "        text-align: right;\n",
       "    }\n",
       "</style>\n",
       "<table border=\"1\" class=\"dataframe\">\n",
       "  <thead>\n",
       "    <tr style=\"text-align: right;\">\n",
       "      <th></th>\n",
       "      <th>rain</th>\n",
       "      <th>date</th>\n",
       "    </tr>\n",
       "  </thead>\n",
       "  <tbody>\n",
       "    <tr>\n",
       "      <th>0</th>\n",
       "      <td>6.4</td>\n",
       "      <td>01/12/1912</td>\n",
       "    </tr>\n",
       "    <tr>\n",
       "      <th>1</th>\n",
       "      <td>51.8</td>\n",
       "      <td>01/11/1912</td>\n",
       "    </tr>\n",
       "    <tr>\n",
       "      <th>2</th>\n",
       "      <td>44.1</td>\n",
       "      <td>01/10/1912</td>\n",
       "    </tr>\n",
       "    <tr>\n",
       "      <th>3</th>\n",
       "      <td>12.7</td>\n",
       "      <td>01/9/1912</td>\n",
       "    </tr>\n",
       "    <tr>\n",
       "      <th>4</th>\n",
       "      <td>25.7</td>\n",
       "      <td>01/8/1912</td>\n",
       "    </tr>\n",
       "    <tr>\n",
       "      <th>...</th>\n",
       "      <td>...</td>\n",
       "      <td>...</td>\n",
       "    </tr>\n",
       "    <tr>\n",
       "      <th>1269</th>\n",
       "      <td>24.0</td>\n",
       "      <td>01/5/2021</td>\n",
       "    </tr>\n",
       "    <tr>\n",
       "      <th>1270</th>\n",
       "      <td>20.0</td>\n",
       "      <td>01/4/2021</td>\n",
       "    </tr>\n",
       "    <tr>\n",
       "      <th>1271</th>\n",
       "      <td>243.3</td>\n",
       "      <td>01/3/2021</td>\n",
       "    </tr>\n",
       "    <tr>\n",
       "      <th>1272</th>\n",
       "      <td>106.0</td>\n",
       "      <td>01/2/2021</td>\n",
       "    </tr>\n",
       "    <tr>\n",
       "      <th>1273</th>\n",
       "      <td>16.8</td>\n",
       "      <td>01/1/2021</td>\n",
       "    </tr>\n",
       "  </tbody>\n",
       "</table>\n",
       "<p>1274 rows × 2 columns</p>\n",
       "</div>"
      ],
      "text/plain": [
       "       rain        date\n",
       "0       6.4  01/12/1912\n",
       "1      51.8  01/11/1912\n",
       "2      44.1  01/10/1912\n",
       "3      12.7   01/9/1912\n",
       "4      25.7   01/8/1912\n",
       "...     ...         ...\n",
       "1269   24.0   01/5/2021\n",
       "1270   20.0   01/4/2021\n",
       "1271  243.3   01/3/2021\n",
       "1272  106.0   01/2/2021\n",
       "1273   16.8   01/1/2021\n",
       "\n",
       "[1274 rows x 2 columns]"
      ]
     },
     "execution_count": 196,
     "metadata": {},
     "output_type": "execute_result"
    }
   ],
   "source": [
    "df_rain_aus"
   ]
  },
  {
   "cell_type": "code",
   "execution_count": 197,
   "id": "60196732",
   "metadata": {},
   "outputs": [],
   "source": [
    "# hash works on windos only for date format month wihtout padding\n",
    "# https://stackoverflow.com/questions/9525944/python-datetime-formatting-without-zero-padding\n",
    "# linux uses a -\n",
    "df_rain_aus[\"date\"] = pd.to_datetime(df_rain_aus[\"date\"], format='%d/%m/%Y') + MonthEnd(1)"
   ]
  },
  {
   "cell_type": "code",
   "execution_count": 198,
   "id": "5a51d7a2",
   "metadata": {},
   "outputs": [],
   "source": [
    "df_rain_aus.sort_values(by=['date'], inplace=True, ascending=True)"
   ]
  },
  {
   "cell_type": "code",
   "execution_count": 199,
   "id": "8d0a592c",
   "metadata": {},
   "outputs": [],
   "source": [
    "df_rain_aus = df_rain_aus.set_index(\"date\")"
   ]
  },
  {
   "cell_type": "code",
   "execution_count": 200,
   "id": "111a0343",
   "metadata": {},
   "outputs": [],
   "source": [
    "df_rain_aus = df_rain_aus[df_rain_aus.index.year > 1998]"
   ]
  },
  {
   "cell_type": "code",
   "execution_count": 201,
   "id": "f04d8369",
   "metadata": {},
   "outputs": [
    {
     "data": {
      "text/plain": [
       "rain    0\n",
       "dtype: int64"
      ]
     },
     "execution_count": 201,
     "metadata": {},
     "output_type": "execute_result"
    }
   ],
   "source": [
    "df_rain_aus.isnull().sum()"
   ]
  },
  {
   "cell_type": "code",
   "execution_count": 202,
   "id": "c6172985",
   "metadata": {},
   "outputs": [
    {
     "data": {
      "text/plain": [
       "DatetimeIndex(['1999-09-30', '2000-07-31', '2001-02-28', '2001-06-30',\n",
       "               '2004-01-31', '2005-06-30', '2007-12-31', '2009-04-30',\n",
       "               '2010-10-31', '2012-02-29', '2014-10-31', '2014-12-31',\n",
       "               '2015-07-31', '2015-09-30', '2015-12-31', '2016-11-30',\n",
       "               '2016-12-31', '2017-09-30', '2018-05-31', '2018-07-31',\n",
       "               '2019-01-31', '2019-04-30', '2019-05-31', '2019-06-30',\n",
       "               '2019-07-31', '2019-08-31', '2019-09-30', '2019-10-31',\n",
       "               '2019-11-30', '2019-12-31'],\n",
       "              dtype='datetime64[ns]', freq=None)"
      ]
     },
     "execution_count": 202,
     "metadata": {},
     "output_type": "execute_result"
    }
   ],
   "source": [
    "pd.date_range(start = '1999-01-01', end = '2020-12-31', freq='M' ).difference(df_rain_aus.index)"
   ]
  },
  {
   "cell_type": "code",
   "execution_count": 203,
   "id": "95127381",
   "metadata": {},
   "outputs": [],
   "source": [
    "df_rain_aus = df_rain_aus.resample('M').last().ffill()"
   ]
  },
  {
   "cell_type": "code",
   "execution_count": 204,
   "id": "e042c580",
   "metadata": {},
   "outputs": [
    {
     "data": {
      "text/plain": [
       "DatetimeIndex([], dtype='datetime64[ns]', freq=None)"
      ]
     },
     "execution_count": 204,
     "metadata": {},
     "output_type": "execute_result"
    }
   ],
   "source": [
    "pd.date_range(start = '1999-01-01', end = '2020-12-31', freq='M' ).difference(df_rain_aus.index)"
   ]
  },
  {
   "cell_type": "markdown",
   "id": "788907d0",
   "metadata": {},
   "source": [
    "## final output"
   ]
  },
  {
   "cell_type": "code",
   "execution_count": 205,
   "id": "49548adb",
   "metadata": {},
   "outputs": [
    {
     "data": {
      "text/html": [
       "<div>\n",
       "<style scoped>\n",
       "    .dataframe tbody tr th:only-of-type {\n",
       "        vertical-align: middle;\n",
       "    }\n",
       "\n",
       "    .dataframe tbody tr th {\n",
       "        vertical-align: top;\n",
       "    }\n",
       "\n",
       "    .dataframe thead th {\n",
       "        text-align: right;\n",
       "    }\n",
       "</style>\n",
       "<table border=\"1\" class=\"dataframe\">\n",
       "  <thead>\n",
       "    <tr style=\"text-align: right;\">\n",
       "      <th></th>\n",
       "      <th>rain</th>\n",
       "    </tr>\n",
       "    <tr>\n",
       "      <th>date</th>\n",
       "      <th></th>\n",
       "    </tr>\n",
       "  </thead>\n",
       "  <tbody>\n",
       "    <tr>\n",
       "      <th>1999-01-31</th>\n",
       "      <td>147.6</td>\n",
       "    </tr>\n",
       "    <tr>\n",
       "      <th>1999-02-28</th>\n",
       "      <td>21.4</td>\n",
       "    </tr>\n",
       "    <tr>\n",
       "      <th>1999-03-31</th>\n",
       "      <td>116.8</td>\n",
       "    </tr>\n",
       "    <tr>\n",
       "      <th>1999-04-30</th>\n",
       "      <td>22.9</td>\n",
       "    </tr>\n",
       "    <tr>\n",
       "      <th>1999-05-31</th>\n",
       "      <td>2.4</td>\n",
       "    </tr>\n",
       "    <tr>\n",
       "      <th>...</th>\n",
       "      <td>...</td>\n",
       "    </tr>\n",
       "    <tr>\n",
       "      <th>2021-08-31</th>\n",
       "      <td>16.0</td>\n",
       "    </tr>\n",
       "    <tr>\n",
       "      <th>2021-09-30</th>\n",
       "      <td>7.0</td>\n",
       "    </tr>\n",
       "    <tr>\n",
       "      <th>2021-10-31</th>\n",
       "      <td>25.0</td>\n",
       "    </tr>\n",
       "    <tr>\n",
       "      <th>2021-11-30</th>\n",
       "      <td>67.1</td>\n",
       "    </tr>\n",
       "    <tr>\n",
       "      <th>2021-12-31</th>\n",
       "      <td>60.3</td>\n",
       "    </tr>\n",
       "  </tbody>\n",
       "</table>\n",
       "<p>276 rows × 1 columns</p>\n",
       "</div>"
      ],
      "text/plain": [
       "             rain\n",
       "date             \n",
       "1999-01-31  147.6\n",
       "1999-02-28   21.4\n",
       "1999-03-31  116.8\n",
       "1999-04-30   22.9\n",
       "1999-05-31    2.4\n",
       "...           ...\n",
       "2021-08-31   16.0\n",
       "2021-09-30    7.0\n",
       "2021-10-31   25.0\n",
       "2021-11-30   67.1\n",
       "2021-12-31   60.3\n",
       "\n",
       "[276 rows x 1 columns]"
      ]
     },
     "execution_count": 205,
     "metadata": {},
     "output_type": "execute_result"
    }
   ],
   "source": [
    "df_rain_aus"
   ]
  },
  {
   "cell_type": "markdown",
   "id": "f4ba4a4f",
   "metadata": {},
   "source": [
    "# Australian sunshine\n",
    "\n",
    "http://www.bom.gov.au/jsp/ncc/cdio/weatherData/av?p_nccObsCode=203&p_display_type=dataFile&p_startYear=&p_c=&p_stn_num=042027\n",
    "\n",
    "Weather station is in Queensland because most of the cattle production happens there:\n",
    "\n",
    "https://www.beefcentral.com/production/australias-20-largest-regions-for-cattle-population/"
   ]
  },
  {
   "cell_type": "code",
   "execution_count": 206,
   "id": "9b790f1a",
   "metadata": {},
   "outputs": [],
   "source": [
    "df_sun_aus = pd.read_csv(\"data/aus/weather/sunshine/queensland_sunshine.csv\")"
   ]
  },
  {
   "cell_type": "code",
   "execution_count": 207,
   "id": "e1540b02",
   "metadata": {},
   "outputs": [
    {
     "data": {
      "text/html": [
       "<div>\n",
       "<style scoped>\n",
       "    .dataframe tbody tr th:only-of-type {\n",
       "        vertical-align: middle;\n",
       "    }\n",
       "\n",
       "    .dataframe tbody tr th {\n",
       "        vertical-align: top;\n",
       "    }\n",
       "\n",
       "    .dataframe thead th {\n",
       "        text-align: right;\n",
       "    }\n",
       "</style>\n",
       "<table border=\"1\" class=\"dataframe\">\n",
       "  <thead>\n",
       "    <tr style=\"text-align: right;\">\n",
       "      <th></th>\n",
       "      <th>Product code</th>\n",
       "      <th>Station number</th>\n",
       "      <th>Year</th>\n",
       "      <th>Month</th>\n",
       "      <th>Monthly mean daily global solar exposure (MJ/m*m)</th>\n",
       "    </tr>\n",
       "  </thead>\n",
       "  <tbody>\n",
       "    <tr>\n",
       "      <th>0</th>\n",
       "      <td>IDCJAC0003</td>\n",
       "      <td>42027</td>\n",
       "      <td>1990</td>\n",
       "      <td>1</td>\n",
       "      <td>27.9</td>\n",
       "    </tr>\n",
       "    <tr>\n",
       "      <th>1</th>\n",
       "      <td>IDCJAC0003</td>\n",
       "      <td>42027</td>\n",
       "      <td>1990</td>\n",
       "      <td>2</td>\n",
       "      <td>26.0</td>\n",
       "    </tr>\n",
       "    <tr>\n",
       "      <th>2</th>\n",
       "      <td>IDCJAC0003</td>\n",
       "      <td>42027</td>\n",
       "      <td>1990</td>\n",
       "      <td>3</td>\n",
       "      <td>19.0</td>\n",
       "    </tr>\n",
       "    <tr>\n",
       "      <th>3</th>\n",
       "      <td>IDCJAC0003</td>\n",
       "      <td>42027</td>\n",
       "      <td>1990</td>\n",
       "      <td>4</td>\n",
       "      <td>11.9</td>\n",
       "    </tr>\n",
       "    <tr>\n",
       "      <th>4</th>\n",
       "      <td>IDCJAC0003</td>\n",
       "      <td>42027</td>\n",
       "      <td>1990</td>\n",
       "      <td>5</td>\n",
       "      <td>13.3</td>\n",
       "    </tr>\n",
       "    <tr>\n",
       "      <th>...</th>\n",
       "      <td>...</td>\n",
       "      <td>...</td>\n",
       "      <td>...</td>\n",
       "      <td>...</td>\n",
       "      <td>...</td>\n",
       "    </tr>\n",
       "    <tr>\n",
       "      <th>383</th>\n",
       "      <td>IDCJAC0003</td>\n",
       "      <td>42027</td>\n",
       "      <td>2022</td>\n",
       "      <td>1</td>\n",
       "      <td>26.0</td>\n",
       "    </tr>\n",
       "    <tr>\n",
       "      <th>384</th>\n",
       "      <td>IDCJAC0003</td>\n",
       "      <td>42027</td>\n",
       "      <td>2022</td>\n",
       "      <td>2</td>\n",
       "      <td>21.5</td>\n",
       "    </tr>\n",
       "    <tr>\n",
       "      <th>385</th>\n",
       "      <td>IDCJAC0003</td>\n",
       "      <td>42027</td>\n",
       "      <td>2022</td>\n",
       "      <td>3</td>\n",
       "      <td>20.9</td>\n",
       "    </tr>\n",
       "    <tr>\n",
       "      <th>386</th>\n",
       "      <td>IDCJAC0003</td>\n",
       "      <td>42027</td>\n",
       "      <td>2022</td>\n",
       "      <td>4</td>\n",
       "      <td>16.9</td>\n",
       "    </tr>\n",
       "    <tr>\n",
       "      <th>387</th>\n",
       "      <td>IDCJAC0003</td>\n",
       "      <td>42027</td>\n",
       "      <td>2022</td>\n",
       "      <td>5</td>\n",
       "      <td>16.2</td>\n",
       "    </tr>\n",
       "  </tbody>\n",
       "</table>\n",
       "<p>388 rows × 5 columns</p>\n",
       "</div>"
      ],
      "text/plain": [
       "    Product code  Station number  Year  Month  \\\n",
       "0     IDCJAC0003           42027  1990      1   \n",
       "1     IDCJAC0003           42027  1990      2   \n",
       "2     IDCJAC0003           42027  1990      3   \n",
       "3     IDCJAC0003           42027  1990      4   \n",
       "4     IDCJAC0003           42027  1990      5   \n",
       "..           ...             ...   ...    ...   \n",
       "383   IDCJAC0003           42027  2022      1   \n",
       "384   IDCJAC0003           42027  2022      2   \n",
       "385   IDCJAC0003           42027  2022      3   \n",
       "386   IDCJAC0003           42027  2022      4   \n",
       "387   IDCJAC0003           42027  2022      5   \n",
       "\n",
       "     Monthly mean daily global solar exposure (MJ/m*m)  \n",
       "0                                                 27.9  \n",
       "1                                                 26.0  \n",
       "2                                                 19.0  \n",
       "3                                                 11.9  \n",
       "4                                                 13.3  \n",
       "..                                                 ...  \n",
       "383                                               26.0  \n",
       "384                                               21.5  \n",
       "385                                               20.9  \n",
       "386                                               16.9  \n",
       "387                                               16.2  \n",
       "\n",
       "[388 rows x 5 columns]"
      ]
     },
     "execution_count": 207,
     "metadata": {},
     "output_type": "execute_result"
    }
   ],
   "source": [
    "df_sun_aus"
   ]
  },
  {
   "cell_type": "code",
   "execution_count": 208,
   "id": "335100de",
   "metadata": {},
   "outputs": [],
   "source": [
    "df_sun_aus = df_sun_aus.drop([\"Product code\",\"Station number\"], axis=1)"
   ]
  },
  {
   "cell_type": "code",
   "execution_count": 209,
   "id": "fc37952a",
   "metadata": {},
   "outputs": [],
   "source": [
    "df_sun_aus = df_sun_aus.rename(columns={\"Monthly mean daily global solar exposure (MJ/m*m)\" : \"sunshine\"})"
   ]
  },
  {
   "cell_type": "code",
   "execution_count": 210,
   "id": "83f35379",
   "metadata": {},
   "outputs": [],
   "source": [
    "df_sun_aus[\"date\"] = df_sun_aus.apply(lambda row : \"01/\" + str(int(row[1])) + \"/\" + str(int(row[0]))  , axis=1)"
   ]
  },
  {
   "cell_type": "code",
   "execution_count": 211,
   "id": "5cff2dba",
   "metadata": {},
   "outputs": [],
   "source": [
    "df_sun_aus = df_sun_aus.drop([\"Year\",\"Month\"], axis=1)"
   ]
  },
  {
   "cell_type": "code",
   "execution_count": 212,
   "id": "945ac162",
   "metadata": {},
   "outputs": [
    {
     "data": {
      "text/html": [
       "<div>\n",
       "<style scoped>\n",
       "    .dataframe tbody tr th:only-of-type {\n",
       "        vertical-align: middle;\n",
       "    }\n",
       "\n",
       "    .dataframe tbody tr th {\n",
       "        vertical-align: top;\n",
       "    }\n",
       "\n",
       "    .dataframe thead th {\n",
       "        text-align: right;\n",
       "    }\n",
       "</style>\n",
       "<table border=\"1\" class=\"dataframe\">\n",
       "  <thead>\n",
       "    <tr style=\"text-align: right;\">\n",
       "      <th></th>\n",
       "      <th>sunshine</th>\n",
       "      <th>date</th>\n",
       "    </tr>\n",
       "  </thead>\n",
       "  <tbody>\n",
       "    <tr>\n",
       "      <th>0</th>\n",
       "      <td>27.9</td>\n",
       "      <td>01/1/1990</td>\n",
       "    </tr>\n",
       "    <tr>\n",
       "      <th>1</th>\n",
       "      <td>26.0</td>\n",
       "      <td>01/2/1990</td>\n",
       "    </tr>\n",
       "    <tr>\n",
       "      <th>2</th>\n",
       "      <td>19.0</td>\n",
       "      <td>01/3/1990</td>\n",
       "    </tr>\n",
       "    <tr>\n",
       "      <th>3</th>\n",
       "      <td>11.9</td>\n",
       "      <td>01/4/1990</td>\n",
       "    </tr>\n",
       "    <tr>\n",
       "      <th>4</th>\n",
       "      <td>13.3</td>\n",
       "      <td>01/5/1990</td>\n",
       "    </tr>\n",
       "    <tr>\n",
       "      <th>...</th>\n",
       "      <td>...</td>\n",
       "      <td>...</td>\n",
       "    </tr>\n",
       "    <tr>\n",
       "      <th>383</th>\n",
       "      <td>26.0</td>\n",
       "      <td>01/1/2022</td>\n",
       "    </tr>\n",
       "    <tr>\n",
       "      <th>384</th>\n",
       "      <td>21.5</td>\n",
       "      <td>01/2/2022</td>\n",
       "    </tr>\n",
       "    <tr>\n",
       "      <th>385</th>\n",
       "      <td>20.9</td>\n",
       "      <td>01/3/2022</td>\n",
       "    </tr>\n",
       "    <tr>\n",
       "      <th>386</th>\n",
       "      <td>16.9</td>\n",
       "      <td>01/4/2022</td>\n",
       "    </tr>\n",
       "    <tr>\n",
       "      <th>387</th>\n",
       "      <td>16.2</td>\n",
       "      <td>01/5/2022</td>\n",
       "    </tr>\n",
       "  </tbody>\n",
       "</table>\n",
       "<p>388 rows × 2 columns</p>\n",
       "</div>"
      ],
      "text/plain": [
       "     sunshine       date\n",
       "0        27.9  01/1/1990\n",
       "1        26.0  01/2/1990\n",
       "2        19.0  01/3/1990\n",
       "3        11.9  01/4/1990\n",
       "4        13.3  01/5/1990\n",
       "..        ...        ...\n",
       "383      26.0  01/1/2022\n",
       "384      21.5  01/2/2022\n",
       "385      20.9  01/3/2022\n",
       "386      16.9  01/4/2022\n",
       "387      16.2  01/5/2022\n",
       "\n",
       "[388 rows x 2 columns]"
      ]
     },
     "execution_count": 212,
     "metadata": {},
     "output_type": "execute_result"
    }
   ],
   "source": [
    "df_sun_aus"
   ]
  },
  {
   "cell_type": "code",
   "execution_count": 213,
   "id": "aa0d4d50",
   "metadata": {},
   "outputs": [],
   "source": [
    "# hash works on windos only for date format month wihtout padding\n",
    "# https://stackoverflow.com/questions/9525944/python-datetime-formatting-without-zero-padding\n",
    "# linux uses a -\n",
    "df_sun_aus[\"date\"] = pd.to_datetime(df_sun_aus[\"date\"], format='%d/%m/%Y') + MonthEnd(1)"
   ]
  },
  {
   "cell_type": "code",
   "execution_count": 214,
   "id": "a318539f",
   "metadata": {},
   "outputs": [],
   "source": [
    "df_sun_aus.sort_values(by=['date'], inplace=True, ascending=True)"
   ]
  },
  {
   "cell_type": "code",
   "execution_count": 215,
   "id": "cdce287d",
   "metadata": {},
   "outputs": [],
   "source": [
    "df_sun_aus = df_sun_aus.set_index(\"date\")"
   ]
  },
  {
   "cell_type": "code",
   "execution_count": 216,
   "id": "63fe7f80",
   "metadata": {},
   "outputs": [],
   "source": [
    "df_sun_aus = df_sun_aus[df_sun_aus.index.year > 1998]"
   ]
  },
  {
   "cell_type": "code",
   "execution_count": 217,
   "id": "a54d3880",
   "metadata": {},
   "outputs": [
    {
     "data": {
      "text/plain": [
       "sunshine    0\n",
       "dtype: int64"
      ]
     },
     "execution_count": 217,
     "metadata": {},
     "output_type": "execute_result"
    }
   ],
   "source": [
    "df_sun_aus.isnull().sum()"
   ]
  },
  {
   "cell_type": "code",
   "execution_count": 218,
   "id": "1ee7161f",
   "metadata": {},
   "outputs": [
    {
     "data": {
      "text/plain": [
       "DatetimeIndex(['2005-12-31'], dtype='datetime64[ns]', freq=None)"
      ]
     },
     "execution_count": 218,
     "metadata": {},
     "output_type": "execute_result"
    }
   ],
   "source": [
    "pd.date_range(start = '1999-01-01', end = '2020-12-31', freq='M' ).difference(df_sun_aus.index)"
   ]
  },
  {
   "cell_type": "code",
   "execution_count": 219,
   "id": "221cc1dd",
   "metadata": {},
   "outputs": [],
   "source": [
    "df_sun_aus = df_sun_aus.resample('M').last().ffill()"
   ]
  },
  {
   "cell_type": "code",
   "execution_count": 220,
   "id": "45acf409",
   "metadata": {},
   "outputs": [
    {
     "data": {
      "text/plain": [
       "DatetimeIndex([], dtype='datetime64[ns]', freq=None)"
      ]
     },
     "execution_count": 220,
     "metadata": {},
     "output_type": "execute_result"
    }
   ],
   "source": [
    "pd.date_range(start = '1999-01-01', end = '2020-12-31', freq='M' ).difference(df_sun_aus.index)"
   ]
  },
  {
   "cell_type": "markdown",
   "id": "1a028e93",
   "metadata": {},
   "source": [
    "## final output"
   ]
  },
  {
   "cell_type": "code",
   "execution_count": 221,
   "id": "b8804ab9",
   "metadata": {},
   "outputs": [
    {
     "data": {
      "text/html": [
       "<div>\n",
       "<style scoped>\n",
       "    .dataframe tbody tr th:only-of-type {\n",
       "        vertical-align: middle;\n",
       "    }\n",
       "\n",
       "    .dataframe tbody tr th {\n",
       "        vertical-align: top;\n",
       "    }\n",
       "\n",
       "    .dataframe thead th {\n",
       "        text-align: right;\n",
       "    }\n",
       "</style>\n",
       "<table border=\"1\" class=\"dataframe\">\n",
       "  <thead>\n",
       "    <tr style=\"text-align: right;\">\n",
       "      <th></th>\n",
       "      <th>sunshine</th>\n",
       "    </tr>\n",
       "    <tr>\n",
       "      <th>date</th>\n",
       "      <th></th>\n",
       "    </tr>\n",
       "  </thead>\n",
       "  <tbody>\n",
       "    <tr>\n",
       "      <th>1999-01-31</th>\n",
       "      <td>27.0</td>\n",
       "    </tr>\n",
       "    <tr>\n",
       "      <th>1999-02-28</th>\n",
       "      <td>23.8</td>\n",
       "    </tr>\n",
       "    <tr>\n",
       "      <th>1999-03-31</th>\n",
       "      <td>21.3</td>\n",
       "    </tr>\n",
       "    <tr>\n",
       "      <th>1999-04-30</th>\n",
       "      <td>18.0</td>\n",
       "    </tr>\n",
       "    <tr>\n",
       "      <th>1999-05-31</th>\n",
       "      <td>13.5</td>\n",
       "    </tr>\n",
       "    <tr>\n",
       "      <th>...</th>\n",
       "      <td>...</td>\n",
       "    </tr>\n",
       "    <tr>\n",
       "      <th>2022-01-31</th>\n",
       "      <td>26.0</td>\n",
       "    </tr>\n",
       "    <tr>\n",
       "      <th>2022-02-28</th>\n",
       "      <td>21.5</td>\n",
       "    </tr>\n",
       "    <tr>\n",
       "      <th>2022-03-31</th>\n",
       "      <td>20.9</td>\n",
       "    </tr>\n",
       "    <tr>\n",
       "      <th>2022-04-30</th>\n",
       "      <td>16.9</td>\n",
       "    </tr>\n",
       "    <tr>\n",
       "      <th>2022-05-31</th>\n",
       "      <td>16.2</td>\n",
       "    </tr>\n",
       "  </tbody>\n",
       "</table>\n",
       "<p>281 rows × 1 columns</p>\n",
       "</div>"
      ],
      "text/plain": [
       "            sunshine\n",
       "date                \n",
       "1999-01-31      27.0\n",
       "1999-02-28      23.8\n",
       "1999-03-31      21.3\n",
       "1999-04-30      18.0\n",
       "1999-05-31      13.5\n",
       "...              ...\n",
       "2022-01-31      26.0\n",
       "2022-02-28      21.5\n",
       "2022-03-31      20.9\n",
       "2022-04-30      16.9\n",
       "2022-05-31      16.2\n",
       "\n",
       "[281 rows x 1 columns]"
      ]
     },
     "execution_count": 221,
     "metadata": {},
     "output_type": "execute_result"
    }
   ],
   "source": [
    "df_sun_aus"
   ]
  },
  {
   "cell_type": "markdown",
   "id": "9f65dc5c",
   "metadata": {},
   "source": [
    "# Australian temperature\n",
    "\n",
    "http://www.bom.gov.au/jsp/ncc/cdio/weatherData/av?p_nccObsCode=36&p_display_type=dataFile&p_startYear=&p_c=&p_stn_num=053115\n",
    "\n",
    "Weather station is in Queensland because most of the cattle production happens there:\n",
    "\n",
    "https://www.beefcentral.com/production/australias-20-largest-regions-for-cattle-population/"
   ]
  },
  {
   "cell_type": "code",
   "execution_count": 222,
   "id": "9905201b",
   "metadata": {},
   "outputs": [],
   "source": [
    "df_temp_aus = pd.read_csv(\"data/aus/weather/temperature/queensland_temperature.csv\")"
   ]
  },
  {
   "cell_type": "code",
   "execution_count": 223,
   "id": "79569756",
   "metadata": {},
   "outputs": [
    {
     "data": {
      "text/html": [
       "<div>\n",
       "<style scoped>\n",
       "    .dataframe tbody tr th:only-of-type {\n",
       "        vertical-align: middle;\n",
       "    }\n",
       "\n",
       "    .dataframe tbody tr th {\n",
       "        vertical-align: top;\n",
       "    }\n",
       "\n",
       "    .dataframe thead th {\n",
       "        text-align: right;\n",
       "    }\n",
       "</style>\n",
       "<table border=\"1\" class=\"dataframe\">\n",
       "  <thead>\n",
       "    <tr style=\"text-align: right;\">\n",
       "      <th></th>\n",
       "      <th>Product code</th>\n",
       "      <th>Bureau of Meteorology station number</th>\n",
       "      <th>Year</th>\n",
       "      <th>Month</th>\n",
       "      <th>Mean maximum temperature (°C)</th>\n",
       "      <th>Quality</th>\n",
       "    </tr>\n",
       "  </thead>\n",
       "  <tbody>\n",
       "    <tr>\n",
       "      <th>0</th>\n",
       "      <td>IDCJAC0002</td>\n",
       "      <td>53115</td>\n",
       "      <td>1995</td>\n",
       "      <td>5</td>\n",
       "      <td>20.4</td>\n",
       "      <td>Y</td>\n",
       "    </tr>\n",
       "    <tr>\n",
       "      <th>1</th>\n",
       "      <td>IDCJAC0002</td>\n",
       "      <td>53115</td>\n",
       "      <td>1995</td>\n",
       "      <td>6</td>\n",
       "      <td>17.7</td>\n",
       "      <td>Y</td>\n",
       "    </tr>\n",
       "    <tr>\n",
       "      <th>2</th>\n",
       "      <td>IDCJAC0002</td>\n",
       "      <td>53115</td>\n",
       "      <td>1995</td>\n",
       "      <td>7</td>\n",
       "      <td>17.2</td>\n",
       "      <td>Y</td>\n",
       "    </tr>\n",
       "    <tr>\n",
       "      <th>3</th>\n",
       "      <td>IDCJAC0002</td>\n",
       "      <td>53115</td>\n",
       "      <td>1995</td>\n",
       "      <td>8</td>\n",
       "      <td>22.5</td>\n",
       "      <td>Y</td>\n",
       "    </tr>\n",
       "    <tr>\n",
       "      <th>4</th>\n",
       "      <td>IDCJAC0002</td>\n",
       "      <td>53115</td>\n",
       "      <td>1995</td>\n",
       "      <td>9</td>\n",
       "      <td>23.9</td>\n",
       "      <td>Y</td>\n",
       "    </tr>\n",
       "    <tr>\n",
       "      <th>...</th>\n",
       "      <td>...</td>\n",
       "      <td>...</td>\n",
       "      <td>...</td>\n",
       "      <td>...</td>\n",
       "      <td>...</td>\n",
       "      <td>...</td>\n",
       "    </tr>\n",
       "    <tr>\n",
       "      <th>318</th>\n",
       "      <td>IDCJAC0002</td>\n",
       "      <td>53115</td>\n",
       "      <td>2021</td>\n",
       "      <td>11</td>\n",
       "      <td>28.9</td>\n",
       "      <td>Y</td>\n",
       "    </tr>\n",
       "    <tr>\n",
       "      <th>319</th>\n",
       "      <td>IDCJAC0002</td>\n",
       "      <td>53115</td>\n",
       "      <td>2021</td>\n",
       "      <td>12</td>\n",
       "      <td>33.1</td>\n",
       "      <td>Y</td>\n",
       "    </tr>\n",
       "    <tr>\n",
       "      <th>320</th>\n",
       "      <td>IDCJAC0002</td>\n",
       "      <td>53115</td>\n",
       "      <td>2022</td>\n",
       "      <td>1</td>\n",
       "      <td>34.8</td>\n",
       "      <td>Y</td>\n",
       "    </tr>\n",
       "    <tr>\n",
       "      <th>321</th>\n",
       "      <td>IDCJAC0002</td>\n",
       "      <td>53115</td>\n",
       "      <td>2022</td>\n",
       "      <td>2</td>\n",
       "      <td>32.8</td>\n",
       "      <td>Y</td>\n",
       "    </tr>\n",
       "    <tr>\n",
       "      <th>322</th>\n",
       "      <td>IDCJAC0002</td>\n",
       "      <td>53115</td>\n",
       "      <td>2022</td>\n",
       "      <td>3</td>\n",
       "      <td>31.3</td>\n",
       "      <td>Y</td>\n",
       "    </tr>\n",
       "  </tbody>\n",
       "</table>\n",
       "<p>323 rows × 6 columns</p>\n",
       "</div>"
      ],
      "text/plain": [
       "    Product code  Bureau of Meteorology station number  Year  Month  \\\n",
       "0     IDCJAC0002                                 53115  1995      5   \n",
       "1     IDCJAC0002                                 53115  1995      6   \n",
       "2     IDCJAC0002                                 53115  1995      7   \n",
       "3     IDCJAC0002                                 53115  1995      8   \n",
       "4     IDCJAC0002                                 53115  1995      9   \n",
       "..           ...                                   ...   ...    ...   \n",
       "318   IDCJAC0002                                 53115  2021     11   \n",
       "319   IDCJAC0002                                 53115  2021     12   \n",
       "320   IDCJAC0002                                 53115  2022      1   \n",
       "321   IDCJAC0002                                 53115  2022      2   \n",
       "322   IDCJAC0002                                 53115  2022      3   \n",
       "\n",
       "     Mean maximum temperature (°C) Quality  \n",
       "0                             20.4       Y  \n",
       "1                             17.7       Y  \n",
       "2                             17.2       Y  \n",
       "3                             22.5       Y  \n",
       "4                             23.9       Y  \n",
       "..                             ...     ...  \n",
       "318                           28.9       Y  \n",
       "319                           33.1       Y  \n",
       "320                           34.8       Y  \n",
       "321                           32.8       Y  \n",
       "322                           31.3       Y  \n",
       "\n",
       "[323 rows x 6 columns]"
      ]
     },
     "execution_count": 223,
     "metadata": {},
     "output_type": "execute_result"
    }
   ],
   "source": [
    "df_temp_aus"
   ]
  },
  {
   "cell_type": "code",
   "execution_count": 224,
   "id": "15832b36",
   "metadata": {},
   "outputs": [],
   "source": [
    "df_temp_aus = df_temp_aus.drop([\"Product code\",\"Bureau of Meteorology station number\", \"Quality\"], axis=1)"
   ]
  },
  {
   "cell_type": "code",
   "execution_count": 225,
   "id": "5020d773",
   "metadata": {},
   "outputs": [],
   "source": [
    "df_temp_aus = df_temp_aus.rename(columns={\"Mean maximum temperature (°C)\" : \"temp_cel\"})"
   ]
  },
  {
   "cell_type": "code",
   "execution_count": 226,
   "id": "9b52ff20",
   "metadata": {},
   "outputs": [],
   "source": [
    "df_temp_aus[\"date\"] = df_temp_aus.apply(lambda row : \"01/\" + str(int(row[1])) + \"/\" + str(int(row[0]))  , axis=1)"
   ]
  },
  {
   "cell_type": "code",
   "execution_count": 227,
   "id": "738a1807",
   "metadata": {},
   "outputs": [],
   "source": [
    "df_temp_aus = df_temp_aus.drop([\"Year\",\"Month\"], axis=1)"
   ]
  },
  {
   "cell_type": "code",
   "execution_count": 228,
   "id": "52c199b9",
   "metadata": {},
   "outputs": [
    {
     "data": {
      "text/html": [
       "<div>\n",
       "<style scoped>\n",
       "    .dataframe tbody tr th:only-of-type {\n",
       "        vertical-align: middle;\n",
       "    }\n",
       "\n",
       "    .dataframe tbody tr th {\n",
       "        vertical-align: top;\n",
       "    }\n",
       "\n",
       "    .dataframe thead th {\n",
       "        text-align: right;\n",
       "    }\n",
       "</style>\n",
       "<table border=\"1\" class=\"dataframe\">\n",
       "  <thead>\n",
       "    <tr style=\"text-align: right;\">\n",
       "      <th></th>\n",
       "      <th>temp_cel</th>\n",
       "      <th>date</th>\n",
       "    </tr>\n",
       "  </thead>\n",
       "  <tbody>\n",
       "    <tr>\n",
       "      <th>0</th>\n",
       "      <td>20.4</td>\n",
       "      <td>01/5/1995</td>\n",
       "    </tr>\n",
       "    <tr>\n",
       "      <th>1</th>\n",
       "      <td>17.7</td>\n",
       "      <td>01/6/1995</td>\n",
       "    </tr>\n",
       "    <tr>\n",
       "      <th>2</th>\n",
       "      <td>17.2</td>\n",
       "      <td>01/7/1995</td>\n",
       "    </tr>\n",
       "    <tr>\n",
       "      <th>3</th>\n",
       "      <td>22.5</td>\n",
       "      <td>01/8/1995</td>\n",
       "    </tr>\n",
       "    <tr>\n",
       "      <th>4</th>\n",
       "      <td>23.9</td>\n",
       "      <td>01/9/1995</td>\n",
       "    </tr>\n",
       "    <tr>\n",
       "      <th>...</th>\n",
       "      <td>...</td>\n",
       "      <td>...</td>\n",
       "    </tr>\n",
       "    <tr>\n",
       "      <th>318</th>\n",
       "      <td>28.9</td>\n",
       "      <td>01/11/2021</td>\n",
       "    </tr>\n",
       "    <tr>\n",
       "      <th>319</th>\n",
       "      <td>33.1</td>\n",
       "      <td>01/12/2021</td>\n",
       "    </tr>\n",
       "    <tr>\n",
       "      <th>320</th>\n",
       "      <td>34.8</td>\n",
       "      <td>01/1/2022</td>\n",
       "    </tr>\n",
       "    <tr>\n",
       "      <th>321</th>\n",
       "      <td>32.8</td>\n",
       "      <td>01/2/2022</td>\n",
       "    </tr>\n",
       "    <tr>\n",
       "      <th>322</th>\n",
       "      <td>31.3</td>\n",
       "      <td>01/3/2022</td>\n",
       "    </tr>\n",
       "  </tbody>\n",
       "</table>\n",
       "<p>323 rows × 2 columns</p>\n",
       "</div>"
      ],
      "text/plain": [
       "     temp_cel        date\n",
       "0        20.4   01/5/1995\n",
       "1        17.7   01/6/1995\n",
       "2        17.2   01/7/1995\n",
       "3        22.5   01/8/1995\n",
       "4        23.9   01/9/1995\n",
       "..        ...         ...\n",
       "318      28.9  01/11/2021\n",
       "319      33.1  01/12/2021\n",
       "320      34.8   01/1/2022\n",
       "321      32.8   01/2/2022\n",
       "322      31.3   01/3/2022\n",
       "\n",
       "[323 rows x 2 columns]"
      ]
     },
     "execution_count": 228,
     "metadata": {},
     "output_type": "execute_result"
    }
   ],
   "source": [
    "df_temp_aus"
   ]
  },
  {
   "cell_type": "code",
   "execution_count": 229,
   "id": "14c4d2d4",
   "metadata": {},
   "outputs": [],
   "source": [
    "# hash works on windos only for date format month wihtout padding\n",
    "# https://stackoverflow.com/questions/9525944/python-datetime-formatting-without-zero-padding\n",
    "# linux uses a -\n",
    "df_temp_aus[\"date\"] = pd.to_datetime(df_temp_aus[\"date\"], format='%d/%m/%Y') + MonthEnd(1)"
   ]
  },
  {
   "cell_type": "code",
   "execution_count": 230,
   "id": "4c43cac3",
   "metadata": {},
   "outputs": [],
   "source": [
    "df_temp_aus.sort_values(by=['date'], inplace=True, ascending=True)"
   ]
  },
  {
   "cell_type": "code",
   "execution_count": 231,
   "id": "14bf67e4",
   "metadata": {},
   "outputs": [],
   "source": [
    "df_temp_aus = df_temp_aus.set_index(\"date\")"
   ]
  },
  {
   "cell_type": "code",
   "execution_count": 232,
   "id": "20a62e0d",
   "metadata": {},
   "outputs": [],
   "source": [
    "df_temp_aus = df_temp_aus[df_temp_aus.index.year > 1998]"
   ]
  },
  {
   "cell_type": "code",
   "execution_count": 233,
   "id": "6f73e1c3",
   "metadata": {},
   "outputs": [
    {
     "data": {
      "text/plain": [
       "temp_cel    0\n",
       "dtype: int64"
      ]
     },
     "execution_count": 233,
     "metadata": {},
     "output_type": "execute_result"
    }
   ],
   "source": [
    "df_temp_aus.isnull().sum()"
   ]
  },
  {
   "cell_type": "code",
   "execution_count": 234,
   "id": "38d3b32c",
   "metadata": {},
   "outputs": [],
   "source": [
    "df_temp_aus = df_temp_aus[df_temp_aus.index.year > 1998]"
   ]
  },
  {
   "cell_type": "code",
   "execution_count": 235,
   "id": "bd2689c0",
   "metadata": {},
   "outputs": [
    {
     "data": {
      "text/plain": [
       "DatetimeIndex([], dtype='datetime64[ns]', freq=None)"
      ]
     },
     "execution_count": 235,
     "metadata": {},
     "output_type": "execute_result"
    }
   ],
   "source": [
    "pd.date_range(start = '1999-01-01', end = '2020-12-31', freq='M' ).difference(df_temp_aus.index)"
   ]
  },
  {
   "cell_type": "code",
   "execution_count": 236,
   "id": "8d68f07c",
   "metadata": {},
   "outputs": [],
   "source": [
    "df_temp_aus = df_temp_aus.resample('M').last().ffill()"
   ]
  },
  {
   "cell_type": "code",
   "execution_count": 237,
   "id": "ef985eb6",
   "metadata": {},
   "outputs": [
    {
     "data": {
      "text/plain": [
       "DatetimeIndex([], dtype='datetime64[ns]', freq=None)"
      ]
     },
     "execution_count": 237,
     "metadata": {},
     "output_type": "execute_result"
    }
   ],
   "source": [
    "pd.date_range(start = '1999-01-01', end = '2020-12-31', freq='M' ).difference(df_temp_aus.index)"
   ]
  },
  {
   "cell_type": "markdown",
   "id": "d890c8e3",
   "metadata": {},
   "source": [
    "## final output"
   ]
  },
  {
   "cell_type": "code",
   "execution_count": 238,
   "id": "cb97fdf9",
   "metadata": {},
   "outputs": [
    {
     "data": {
      "text/html": [
       "<div>\n",
       "<style scoped>\n",
       "    .dataframe tbody tr th:only-of-type {\n",
       "        vertical-align: middle;\n",
       "    }\n",
       "\n",
       "    .dataframe tbody tr th {\n",
       "        vertical-align: top;\n",
       "    }\n",
       "\n",
       "    .dataframe thead th {\n",
       "        text-align: right;\n",
       "    }\n",
       "</style>\n",
       "<table border=\"1\" class=\"dataframe\">\n",
       "  <thead>\n",
       "    <tr style=\"text-align: right;\">\n",
       "      <th></th>\n",
       "      <th>temp_cel</th>\n",
       "    </tr>\n",
       "    <tr>\n",
       "      <th>date</th>\n",
       "      <th></th>\n",
       "    </tr>\n",
       "  </thead>\n",
       "  <tbody>\n",
       "    <tr>\n",
       "      <th>1999-01-31</th>\n",
       "      <td>33.0</td>\n",
       "    </tr>\n",
       "    <tr>\n",
       "      <th>1999-02-28</th>\n",
       "      <td>32.1</td>\n",
       "    </tr>\n",
       "    <tr>\n",
       "      <th>1999-03-31</th>\n",
       "      <td>30.0</td>\n",
       "    </tr>\n",
       "    <tr>\n",
       "      <th>1999-04-30</th>\n",
       "      <td>25.3</td>\n",
       "    </tr>\n",
       "    <tr>\n",
       "      <th>1999-05-31</th>\n",
       "      <td>23.7</td>\n",
       "    </tr>\n",
       "    <tr>\n",
       "      <th>...</th>\n",
       "      <td>...</td>\n",
       "    </tr>\n",
       "    <tr>\n",
       "      <th>2021-11-30</th>\n",
       "      <td>28.9</td>\n",
       "    </tr>\n",
       "    <tr>\n",
       "      <th>2021-12-31</th>\n",
       "      <td>33.1</td>\n",
       "    </tr>\n",
       "    <tr>\n",
       "      <th>2022-01-31</th>\n",
       "      <td>34.8</td>\n",
       "    </tr>\n",
       "    <tr>\n",
       "      <th>2022-02-28</th>\n",
       "      <td>32.8</td>\n",
       "    </tr>\n",
       "    <tr>\n",
       "      <th>2022-03-31</th>\n",
       "      <td>31.3</td>\n",
       "    </tr>\n",
       "  </tbody>\n",
       "</table>\n",
       "<p>279 rows × 1 columns</p>\n",
       "</div>"
      ],
      "text/plain": [
       "            temp_cel\n",
       "date                \n",
       "1999-01-31      33.0\n",
       "1999-02-28      32.1\n",
       "1999-03-31      30.0\n",
       "1999-04-30      25.3\n",
       "1999-05-31      23.7\n",
       "...              ...\n",
       "2021-11-30      28.9\n",
       "2021-12-31      33.1\n",
       "2022-01-31      34.8\n",
       "2022-02-28      32.8\n",
       "2022-03-31      31.3\n",
       "\n",
       "[279 rows x 1 columns]"
      ]
     },
     "execution_count": 238,
     "metadata": {},
     "output_type": "execute_result"
    }
   ],
   "source": [
    "df_temp_aus"
   ]
  },
  {
   "cell_type": "markdown",
   "id": "ce7b0cdb",
   "metadata": {},
   "source": [
    "# Australian meat slaughterings and production\n",
    "\n",
    "https://www.abs.gov.au/statistics/industry/agriculture/livestock-and-meat-australia/latest-release#data-download"
   ]
  },
  {
   "cell_type": "code",
   "execution_count": 239,
   "id": "631d21a8",
   "metadata": {},
   "outputs": [],
   "source": [
    "# I downloaded 15 different excel sheets and took the total for australia (the whole state) figures to use \n",
    "# and pasted them into the csv file below\n",
    "# all figures are in tonnes\n",
    "df_meat_slau_prod = pd.read_csv(\"data/aus/slaughterings_and_production/aus_total_meat_slaughter_and_production.csv\")"
   ]
  },
  {
   "cell_type": "code",
   "execution_count": 240,
   "id": "2112f77e",
   "metadata": {},
   "outputs": [
    {
     "data": {
      "text/html": [
       "<div>\n",
       "<style scoped>\n",
       "    .dataframe tbody tr th:only-of-type {\n",
       "        vertical-align: middle;\n",
       "    }\n",
       "\n",
       "    .dataframe tbody tr th {\n",
       "        vertical-align: top;\n",
       "    }\n",
       "\n",
       "    .dataframe thead th {\n",
       "        text-align: right;\n",
       "    }\n",
       "</style>\n",
       "<table border=\"1\" class=\"dataframe\">\n",
       "  <thead>\n",
       "    <tr style=\"text-align: right;\">\n",
       "      <th></th>\n",
       "      <th>date</th>\n",
       "      <th>cattle_exclud_calves_prod</th>\n",
       "      <th>lambs_prod</th>\n",
       "      <th>sheep_prod</th>\n",
       "      <th>pigs_prod</th>\n",
       "      <th>total_beef_prod</th>\n",
       "      <th>veel_prod</th>\n",
       "      <th>bulls_bullocks_steers_slaughterings</th>\n",
       "      <th>calves_slaughterings</th>\n",
       "      <th>cattle_exclu_calves_slaughterings</th>\n",
       "      <th>cows_heifers_slaughterings</th>\n",
       "      <th>lamb_slaughterings</th>\n",
       "      <th>pig_slaughterings</th>\n",
       "      <th>sheep_slaughterings</th>\n",
       "    </tr>\n",
       "  </thead>\n",
       "  <tbody>\n",
       "    <tr>\n",
       "      <th>0</th>\n",
       "      <td>Jul-1972</td>\n",
       "      <td>121000</td>\n",
       "      <td>25184</td>\n",
       "      <td>39814</td>\n",
       "      <td>18028</td>\n",
       "      <td>209456</td>\n",
       "      <td>5430</td>\n",
       "      <td>NaN</td>\n",
       "      <td>196</td>\n",
       "      <td>567</td>\n",
       "      <td>NaN</td>\n",
       "      <td>1593</td>\n",
       "      <td>365</td>\n",
       "      <td>2117</td>\n",
       "    </tr>\n",
       "    <tr>\n",
       "      <th>1</th>\n",
       "      <td>Aug-1972</td>\n",
       "      <td>127842</td>\n",
       "      <td>24196</td>\n",
       "      <td>37682</td>\n",
       "      <td>20091</td>\n",
       "      <td>216225</td>\n",
       "      <td>6414</td>\n",
       "      <td>NaN</td>\n",
       "      <td>251</td>\n",
       "      <td>605</td>\n",
       "      <td>NaN</td>\n",
       "      <td>1600</td>\n",
       "      <td>409</td>\n",
       "      <td>2017</td>\n",
       "    </tr>\n",
       "    <tr>\n",
       "      <th>2</th>\n",
       "      <td>Sep-1972</td>\n",
       "      <td>111796</td>\n",
       "      <td>22955</td>\n",
       "      <td>33739</td>\n",
       "      <td>18718</td>\n",
       "      <td>192245</td>\n",
       "      <td>5037</td>\n",
       "      <td>NaN</td>\n",
       "      <td>170</td>\n",
       "      <td>541</td>\n",
       "      <td>NaN</td>\n",
       "      <td>1535</td>\n",
       "      <td>380</td>\n",
       "      <td>1814</td>\n",
       "    </tr>\n",
       "    <tr>\n",
       "      <th>3</th>\n",
       "      <td>Oct-1972</td>\n",
       "      <td>110565</td>\n",
       "      <td>27916</td>\n",
       "      <td>41975</td>\n",
       "      <td>20007</td>\n",
       "      <td>204724</td>\n",
       "      <td>4261</td>\n",
       "      <td>NaN</td>\n",
       "      <td>129</td>\n",
       "      <td>537</td>\n",
       "      <td>NaN</td>\n",
       "      <td>1904</td>\n",
       "      <td>408</td>\n",
       "      <td>2213</td>\n",
       "    </tr>\n",
       "    <tr>\n",
       "      <th>4</th>\n",
       "      <td>Nov-1972</td>\n",
       "      <td>109471</td>\n",
       "      <td>30101</td>\n",
       "      <td>48027</td>\n",
       "      <td>20629</td>\n",
       "      <td>212670</td>\n",
       "      <td>4442</td>\n",
       "      <td>NaN</td>\n",
       "      <td>104</td>\n",
       "      <td>538</td>\n",
       "      <td>NaN</td>\n",
       "      <td>1956</td>\n",
       "      <td>420</td>\n",
       "      <td>2480</td>\n",
       "    </tr>\n",
       "    <tr>\n",
       "      <th>...</th>\n",
       "      <td>...</td>\n",
       "      <td>...</td>\n",
       "      <td>...</td>\n",
       "      <td>...</td>\n",
       "      <td>...</td>\n",
       "      <td>...</td>\n",
       "      <td>...</td>\n",
       "      <td>...</td>\n",
       "      <td>...</td>\n",
       "      <td>...</td>\n",
       "      <td>...</td>\n",
       "      <td>...</td>\n",
       "      <td>...</td>\n",
       "      <td>...</td>\n",
       "    </tr>\n",
       "    <tr>\n",
       "      <th>571</th>\n",
       "      <td>Feb-2020</td>\n",
       "      <td>186445</td>\n",
       "      <td>44383</td>\n",
       "      <td>17844</td>\n",
       "      <td>31154</td>\n",
       "      <td>281399</td>\n",
       "      <td>1574</td>\n",
       "      <td>305.0</td>\n",
       "      <td>22</td>\n",
       "      <td>634</td>\n",
       "      <td>329.0</td>\n",
       "      <td>1809</td>\n",
       "      <td>402</td>\n",
       "      <td>736</td>\n",
       "    </tr>\n",
       "    <tr>\n",
       "      <th>572</th>\n",
       "      <td>Mar-2020</td>\n",
       "      <td>192183</td>\n",
       "      <td>44660</td>\n",
       "      <td>13962</td>\n",
       "      <td>37411</td>\n",
       "      <td>290281</td>\n",
       "      <td>2064</td>\n",
       "      <td>314.0</td>\n",
       "      <td>40</td>\n",
       "      <td>659</td>\n",
       "      <td>345.0</td>\n",
       "      <td>1833</td>\n",
       "      <td>475</td>\n",
       "      <td>572</td>\n",
       "    </tr>\n",
       "    <tr>\n",
       "      <th>573</th>\n",
       "      <td>Apr-2020</td>\n",
       "      <td>180626</td>\n",
       "      <td>38763</td>\n",
       "      <td>10135</td>\n",
       "      <td>33195</td>\n",
       "      <td>264617</td>\n",
       "      <td>1899</td>\n",
       "      <td>285.0</td>\n",
       "      <td>38</td>\n",
       "      <td>631</td>\n",
       "      <td>345.0</td>\n",
       "      <td>1583</td>\n",
       "      <td>416</td>\n",
       "      <td>411</td>\n",
       "    </tr>\n",
       "    <tr>\n",
       "      <th>574</th>\n",
       "      <td>May-2020</td>\n",
       "      <td>183105</td>\n",
       "      <td>36075</td>\n",
       "      <td>8161</td>\n",
       "      <td>35647</td>\n",
       "      <td>264540</td>\n",
       "      <td>1553</td>\n",
       "      <td>277.0</td>\n",
       "      <td>38</td>\n",
       "      <td>643</td>\n",
       "      <td>366.0</td>\n",
       "      <td>1450</td>\n",
       "      <td>443</td>\n",
       "      <td>326</td>\n",
       "    </tr>\n",
       "    <tr>\n",
       "      <th>575</th>\n",
       "      <td>Jun-2020</td>\n",
       "      <td>176712</td>\n",
       "      <td>37388</td>\n",
       "      <td>7983</td>\n",
       "      <td>38969</td>\n",
       "      <td>262689</td>\n",
       "      <td>1636</td>\n",
       "      <td>272.0</td>\n",
       "      <td>38</td>\n",
       "      <td>612</td>\n",
       "      <td>340.0</td>\n",
       "      <td>1487</td>\n",
       "      <td>486</td>\n",
       "      <td>301</td>\n",
       "    </tr>\n",
       "  </tbody>\n",
       "</table>\n",
       "<p>576 rows × 14 columns</p>\n",
       "</div>"
      ],
      "text/plain": [
       "         date  cattle_exclud_calves_prod  lambs_prod  sheep_prod  pigs_prod  \\\n",
       "0    Jul-1972                     121000       25184       39814      18028   \n",
       "1    Aug-1972                     127842       24196       37682      20091   \n",
       "2    Sep-1972                     111796       22955       33739      18718   \n",
       "3    Oct-1972                     110565       27916       41975      20007   \n",
       "4    Nov-1972                     109471       30101       48027      20629   \n",
       "..        ...                        ...         ...         ...        ...   \n",
       "571  Feb-2020                     186445       44383       17844      31154   \n",
       "572  Mar-2020                     192183       44660       13962      37411   \n",
       "573  Apr-2020                     180626       38763       10135      33195   \n",
       "574  May-2020                     183105       36075        8161      35647   \n",
       "575  Jun-2020                     176712       37388        7983      38969   \n",
       "\n",
       "     total_beef_prod  veel_prod  bulls_bullocks_steers_slaughterings  \\\n",
       "0             209456       5430                                  NaN   \n",
       "1             216225       6414                                  NaN   \n",
       "2             192245       5037                                  NaN   \n",
       "3             204724       4261                                  NaN   \n",
       "4             212670       4442                                  NaN   \n",
       "..               ...        ...                                  ...   \n",
       "571           281399       1574                                305.0   \n",
       "572           290281       2064                                314.0   \n",
       "573           264617       1899                                285.0   \n",
       "574           264540       1553                                277.0   \n",
       "575           262689       1636                                272.0   \n",
       "\n",
       "     calves_slaughterings  cattle_exclu_calves_slaughterings  \\\n",
       "0                     196                                567   \n",
       "1                     251                                605   \n",
       "2                     170                                541   \n",
       "3                     129                                537   \n",
       "4                     104                                538   \n",
       "..                    ...                                ...   \n",
       "571                    22                                634   \n",
       "572                    40                                659   \n",
       "573                    38                                631   \n",
       "574                    38                                643   \n",
       "575                    38                                612   \n",
       "\n",
       "     cows_heifers_slaughterings  lamb_slaughterings  pig_slaughterings  \\\n",
       "0                           NaN                1593                365   \n",
       "1                           NaN                1600                409   \n",
       "2                           NaN                1535                380   \n",
       "3                           NaN                1904                408   \n",
       "4                           NaN                1956                420   \n",
       "..                          ...                 ...                ...   \n",
       "571                       329.0                1809                402   \n",
       "572                       345.0                1833                475   \n",
       "573                       345.0                1583                416   \n",
       "574                       366.0                1450                443   \n",
       "575                       340.0                1487                486   \n",
       "\n",
       "     sheep_slaughterings  \n",
       "0                   2117  \n",
       "1                   2017  \n",
       "2                   1814  \n",
       "3                   2213  \n",
       "4                   2480  \n",
       "..                   ...  \n",
       "571                  736  \n",
       "572                  572  \n",
       "573                  411  \n",
       "574                  326  \n",
       "575                  301  \n",
       "\n",
       "[576 rows x 14 columns]"
      ]
     },
     "execution_count": 240,
     "metadata": {},
     "output_type": "execute_result"
    }
   ],
   "source": [
    "df_meat_slau_prod"
   ]
  },
  {
   "cell_type": "code",
   "execution_count": 241,
   "id": "6e826ae9",
   "metadata": {},
   "outputs": [
    {
     "name": "stdout",
     "output_type": "stream",
     "text": [
      "<class 'pandas.core.frame.DataFrame'>\n",
      "RangeIndex: 576 entries, 0 to 575\n",
      "Data columns (total 14 columns):\n",
      " #   Column                               Non-Null Count  Dtype  \n",
      "---  ------                               --------------  -----  \n",
      " 0   date                                 576 non-null    object \n",
      " 1   cattle_exclud_calves_prod            576 non-null    int64  \n",
      " 2   lambs_prod                           576 non-null    int64  \n",
      " 3   sheep_prod                           576 non-null    int64  \n",
      " 4   pigs_prod                            576 non-null    int64  \n",
      " 5   total_beef_prod                      576 non-null    int64  \n",
      " 6   veel_prod                            576 non-null    int64  \n",
      " 7   bulls_bullocks_steers_slaughterings  528 non-null    float64\n",
      " 8   calves_slaughterings                 576 non-null    int64  \n",
      " 9   cattle_exclu_calves_slaughterings    576 non-null    int64  \n",
      " 10  cows_heifers_slaughterings           528 non-null    float64\n",
      " 11  lamb_slaughterings                   576 non-null    int64  \n",
      " 12  pig_slaughterings                    576 non-null    int64  \n",
      " 13  sheep_slaughterings                  576 non-null    int64  \n",
      "dtypes: float64(2), int64(11), object(1)\n",
      "memory usage: 63.1+ KB\n"
     ]
    }
   ],
   "source": [
    "df_meat_slau_prod.info()"
   ]
  },
  {
   "cell_type": "code",
   "execution_count": 242,
   "id": "31e5d9a8",
   "metadata": {},
   "outputs": [],
   "source": [
    "df_meat_slau_prod[\"date\"] = pd.to_datetime(df_meat_slau_prod[\"date\"], format='%b-%Y') + MonthEnd(1)"
   ]
  },
  {
   "cell_type": "code",
   "execution_count": 243,
   "id": "483f3641",
   "metadata": {},
   "outputs": [],
   "source": [
    "df_meat_slau_prod = df_meat_slau_prod.set_index(\"date\")"
   ]
  },
  {
   "cell_type": "code",
   "execution_count": 244,
   "id": "76fd125c",
   "metadata": {},
   "outputs": [],
   "source": [
    "df_meat_slau_prod = df_meat_slau_prod[df_meat_slau_prod.index.year > 1998]"
   ]
  },
  {
   "cell_type": "code",
   "execution_count": 245,
   "id": "a4905eeb",
   "metadata": {},
   "outputs": [
    {
     "data": {
      "text/plain": [
       "cattle_exclud_calves_prod              0\n",
       "lambs_prod                             0\n",
       "sheep_prod                             0\n",
       "pigs_prod                              0\n",
       "total_beef_prod                        0\n",
       "veel_prod                              0\n",
       "bulls_bullocks_steers_slaughterings    0\n",
       "calves_slaughterings                   0\n",
       "cattle_exclu_calves_slaughterings      0\n",
       "cows_heifers_slaughterings             0\n",
       "lamb_slaughterings                     0\n",
       "pig_slaughterings                      0\n",
       "sheep_slaughterings                    0\n",
       "dtype: int64"
      ]
     },
     "execution_count": 245,
     "metadata": {},
     "output_type": "execute_result"
    }
   ],
   "source": [
    "df_meat_slau_prod.isnull().sum()"
   ]
  },
  {
   "cell_type": "code",
   "execution_count": 246,
   "id": "f8211f46",
   "metadata": {},
   "outputs": [],
   "source": [
    "df_missing = pd.date_range(start=df_meat_slau_prod.tail(1).index[0], end='31-DEC-2021', freq='M').to_frame(index=False, name='date')[1:]"
   ]
  },
  {
   "cell_type": "code",
   "execution_count": 247,
   "id": "2c184817",
   "metadata": {},
   "outputs": [],
   "source": [
    "for column_index_name in df_meat_slau_prod:\n",
    "    df_missing[column_index_name] = np.nan"
   ]
  },
  {
   "cell_type": "code",
   "execution_count": 248,
   "id": "8c4ae184",
   "metadata": {},
   "outputs": [],
   "source": [
    "df_missing = df_missing.set_index(\"date\")"
   ]
  },
  {
   "cell_type": "code",
   "execution_count": 249,
   "id": "85dc5ce4",
   "metadata": {},
   "outputs": [
    {
     "data": {
      "text/html": [
       "<div>\n",
       "<style scoped>\n",
       "    .dataframe tbody tr th:only-of-type {\n",
       "        vertical-align: middle;\n",
       "    }\n",
       "\n",
       "    .dataframe tbody tr th {\n",
       "        vertical-align: top;\n",
       "    }\n",
       "\n",
       "    .dataframe thead th {\n",
       "        text-align: right;\n",
       "    }\n",
       "</style>\n",
       "<table border=\"1\" class=\"dataframe\">\n",
       "  <thead>\n",
       "    <tr style=\"text-align: right;\">\n",
       "      <th></th>\n",
       "      <th>cattle_exclud_calves_prod</th>\n",
       "      <th>lambs_prod</th>\n",
       "      <th>sheep_prod</th>\n",
       "      <th>pigs_prod</th>\n",
       "      <th>total_beef_prod</th>\n",
       "      <th>veel_prod</th>\n",
       "      <th>bulls_bullocks_steers_slaughterings</th>\n",
       "      <th>calves_slaughterings</th>\n",
       "      <th>cattle_exclu_calves_slaughterings</th>\n",
       "      <th>cows_heifers_slaughterings</th>\n",
       "      <th>lamb_slaughterings</th>\n",
       "      <th>pig_slaughterings</th>\n",
       "      <th>sheep_slaughterings</th>\n",
       "    </tr>\n",
       "    <tr>\n",
       "      <th>date</th>\n",
       "      <th></th>\n",
       "      <th></th>\n",
       "      <th></th>\n",
       "      <th></th>\n",
       "      <th></th>\n",
       "      <th></th>\n",
       "      <th></th>\n",
       "      <th></th>\n",
       "      <th></th>\n",
       "      <th></th>\n",
       "      <th></th>\n",
       "      <th></th>\n",
       "      <th></th>\n",
       "    </tr>\n",
       "  </thead>\n",
       "  <tbody>\n",
       "    <tr>\n",
       "      <th>2020-07-31</th>\n",
       "      <td>NaN</td>\n",
       "      <td>NaN</td>\n",
       "      <td>NaN</td>\n",
       "      <td>NaN</td>\n",
       "      <td>NaN</td>\n",
       "      <td>NaN</td>\n",
       "      <td>NaN</td>\n",
       "      <td>NaN</td>\n",
       "      <td>NaN</td>\n",
       "      <td>NaN</td>\n",
       "      <td>NaN</td>\n",
       "      <td>NaN</td>\n",
       "      <td>NaN</td>\n",
       "    </tr>\n",
       "    <tr>\n",
       "      <th>2020-08-31</th>\n",
       "      <td>NaN</td>\n",
       "      <td>NaN</td>\n",
       "      <td>NaN</td>\n",
       "      <td>NaN</td>\n",
       "      <td>NaN</td>\n",
       "      <td>NaN</td>\n",
       "      <td>NaN</td>\n",
       "      <td>NaN</td>\n",
       "      <td>NaN</td>\n",
       "      <td>NaN</td>\n",
       "      <td>NaN</td>\n",
       "      <td>NaN</td>\n",
       "      <td>NaN</td>\n",
       "    </tr>\n",
       "    <tr>\n",
       "      <th>2020-09-30</th>\n",
       "      <td>NaN</td>\n",
       "      <td>NaN</td>\n",
       "      <td>NaN</td>\n",
       "      <td>NaN</td>\n",
       "      <td>NaN</td>\n",
       "      <td>NaN</td>\n",
       "      <td>NaN</td>\n",
       "      <td>NaN</td>\n",
       "      <td>NaN</td>\n",
       "      <td>NaN</td>\n",
       "      <td>NaN</td>\n",
       "      <td>NaN</td>\n",
       "      <td>NaN</td>\n",
       "    </tr>\n",
       "    <tr>\n",
       "      <th>2020-10-31</th>\n",
       "      <td>NaN</td>\n",
       "      <td>NaN</td>\n",
       "      <td>NaN</td>\n",
       "      <td>NaN</td>\n",
       "      <td>NaN</td>\n",
       "      <td>NaN</td>\n",
       "      <td>NaN</td>\n",
       "      <td>NaN</td>\n",
       "      <td>NaN</td>\n",
       "      <td>NaN</td>\n",
       "      <td>NaN</td>\n",
       "      <td>NaN</td>\n",
       "      <td>NaN</td>\n",
       "    </tr>\n",
       "    <tr>\n",
       "      <th>2020-11-30</th>\n",
       "      <td>NaN</td>\n",
       "      <td>NaN</td>\n",
       "      <td>NaN</td>\n",
       "      <td>NaN</td>\n",
       "      <td>NaN</td>\n",
       "      <td>NaN</td>\n",
       "      <td>NaN</td>\n",
       "      <td>NaN</td>\n",
       "      <td>NaN</td>\n",
       "      <td>NaN</td>\n",
       "      <td>NaN</td>\n",
       "      <td>NaN</td>\n",
       "      <td>NaN</td>\n",
       "    </tr>\n",
       "    <tr>\n",
       "      <th>2020-12-31</th>\n",
       "      <td>NaN</td>\n",
       "      <td>NaN</td>\n",
       "      <td>NaN</td>\n",
       "      <td>NaN</td>\n",
       "      <td>NaN</td>\n",
       "      <td>NaN</td>\n",
       "      <td>NaN</td>\n",
       "      <td>NaN</td>\n",
       "      <td>NaN</td>\n",
       "      <td>NaN</td>\n",
       "      <td>NaN</td>\n",
       "      <td>NaN</td>\n",
       "      <td>NaN</td>\n",
       "    </tr>\n",
       "    <tr>\n",
       "      <th>2021-01-31</th>\n",
       "      <td>NaN</td>\n",
       "      <td>NaN</td>\n",
       "      <td>NaN</td>\n",
       "      <td>NaN</td>\n",
       "      <td>NaN</td>\n",
       "      <td>NaN</td>\n",
       "      <td>NaN</td>\n",
       "      <td>NaN</td>\n",
       "      <td>NaN</td>\n",
       "      <td>NaN</td>\n",
       "      <td>NaN</td>\n",
       "      <td>NaN</td>\n",
       "      <td>NaN</td>\n",
       "    </tr>\n",
       "    <tr>\n",
       "      <th>2021-02-28</th>\n",
       "      <td>NaN</td>\n",
       "      <td>NaN</td>\n",
       "      <td>NaN</td>\n",
       "      <td>NaN</td>\n",
       "      <td>NaN</td>\n",
       "      <td>NaN</td>\n",
       "      <td>NaN</td>\n",
       "      <td>NaN</td>\n",
       "      <td>NaN</td>\n",
       "      <td>NaN</td>\n",
       "      <td>NaN</td>\n",
       "      <td>NaN</td>\n",
       "      <td>NaN</td>\n",
       "    </tr>\n",
       "    <tr>\n",
       "      <th>2021-03-31</th>\n",
       "      <td>NaN</td>\n",
       "      <td>NaN</td>\n",
       "      <td>NaN</td>\n",
       "      <td>NaN</td>\n",
       "      <td>NaN</td>\n",
       "      <td>NaN</td>\n",
       "      <td>NaN</td>\n",
       "      <td>NaN</td>\n",
       "      <td>NaN</td>\n",
       "      <td>NaN</td>\n",
       "      <td>NaN</td>\n",
       "      <td>NaN</td>\n",
       "      <td>NaN</td>\n",
       "    </tr>\n",
       "    <tr>\n",
       "      <th>2021-04-30</th>\n",
       "      <td>NaN</td>\n",
       "      <td>NaN</td>\n",
       "      <td>NaN</td>\n",
       "      <td>NaN</td>\n",
       "      <td>NaN</td>\n",
       "      <td>NaN</td>\n",
       "      <td>NaN</td>\n",
       "      <td>NaN</td>\n",
       "      <td>NaN</td>\n",
       "      <td>NaN</td>\n",
       "      <td>NaN</td>\n",
       "      <td>NaN</td>\n",
       "      <td>NaN</td>\n",
       "    </tr>\n",
       "    <tr>\n",
       "      <th>2021-05-31</th>\n",
       "      <td>NaN</td>\n",
       "      <td>NaN</td>\n",
       "      <td>NaN</td>\n",
       "      <td>NaN</td>\n",
       "      <td>NaN</td>\n",
       "      <td>NaN</td>\n",
       "      <td>NaN</td>\n",
       "      <td>NaN</td>\n",
       "      <td>NaN</td>\n",
       "      <td>NaN</td>\n",
       "      <td>NaN</td>\n",
       "      <td>NaN</td>\n",
       "      <td>NaN</td>\n",
       "    </tr>\n",
       "    <tr>\n",
       "      <th>2021-06-30</th>\n",
       "      <td>NaN</td>\n",
       "      <td>NaN</td>\n",
       "      <td>NaN</td>\n",
       "      <td>NaN</td>\n",
       "      <td>NaN</td>\n",
       "      <td>NaN</td>\n",
       "      <td>NaN</td>\n",
       "      <td>NaN</td>\n",
       "      <td>NaN</td>\n",
       "      <td>NaN</td>\n",
       "      <td>NaN</td>\n",
       "      <td>NaN</td>\n",
       "      <td>NaN</td>\n",
       "    </tr>\n",
       "    <tr>\n",
       "      <th>2021-07-31</th>\n",
       "      <td>NaN</td>\n",
       "      <td>NaN</td>\n",
       "      <td>NaN</td>\n",
       "      <td>NaN</td>\n",
       "      <td>NaN</td>\n",
       "      <td>NaN</td>\n",
       "      <td>NaN</td>\n",
       "      <td>NaN</td>\n",
       "      <td>NaN</td>\n",
       "      <td>NaN</td>\n",
       "      <td>NaN</td>\n",
       "      <td>NaN</td>\n",
       "      <td>NaN</td>\n",
       "    </tr>\n",
       "    <tr>\n",
       "      <th>2021-08-31</th>\n",
       "      <td>NaN</td>\n",
       "      <td>NaN</td>\n",
       "      <td>NaN</td>\n",
       "      <td>NaN</td>\n",
       "      <td>NaN</td>\n",
       "      <td>NaN</td>\n",
       "      <td>NaN</td>\n",
       "      <td>NaN</td>\n",
       "      <td>NaN</td>\n",
       "      <td>NaN</td>\n",
       "      <td>NaN</td>\n",
       "      <td>NaN</td>\n",
       "      <td>NaN</td>\n",
       "    </tr>\n",
       "    <tr>\n",
       "      <th>2021-09-30</th>\n",
       "      <td>NaN</td>\n",
       "      <td>NaN</td>\n",
       "      <td>NaN</td>\n",
       "      <td>NaN</td>\n",
       "      <td>NaN</td>\n",
       "      <td>NaN</td>\n",
       "      <td>NaN</td>\n",
       "      <td>NaN</td>\n",
       "      <td>NaN</td>\n",
       "      <td>NaN</td>\n",
       "      <td>NaN</td>\n",
       "      <td>NaN</td>\n",
       "      <td>NaN</td>\n",
       "    </tr>\n",
       "    <tr>\n",
       "      <th>2021-10-31</th>\n",
       "      <td>NaN</td>\n",
       "      <td>NaN</td>\n",
       "      <td>NaN</td>\n",
       "      <td>NaN</td>\n",
       "      <td>NaN</td>\n",
       "      <td>NaN</td>\n",
       "      <td>NaN</td>\n",
       "      <td>NaN</td>\n",
       "      <td>NaN</td>\n",
       "      <td>NaN</td>\n",
       "      <td>NaN</td>\n",
       "      <td>NaN</td>\n",
       "      <td>NaN</td>\n",
       "    </tr>\n",
       "    <tr>\n",
       "      <th>2021-11-30</th>\n",
       "      <td>NaN</td>\n",
       "      <td>NaN</td>\n",
       "      <td>NaN</td>\n",
       "      <td>NaN</td>\n",
       "      <td>NaN</td>\n",
       "      <td>NaN</td>\n",
       "      <td>NaN</td>\n",
       "      <td>NaN</td>\n",
       "      <td>NaN</td>\n",
       "      <td>NaN</td>\n",
       "      <td>NaN</td>\n",
       "      <td>NaN</td>\n",
       "      <td>NaN</td>\n",
       "    </tr>\n",
       "    <tr>\n",
       "      <th>2021-12-31</th>\n",
       "      <td>NaN</td>\n",
       "      <td>NaN</td>\n",
       "      <td>NaN</td>\n",
       "      <td>NaN</td>\n",
       "      <td>NaN</td>\n",
       "      <td>NaN</td>\n",
       "      <td>NaN</td>\n",
       "      <td>NaN</td>\n",
       "      <td>NaN</td>\n",
       "      <td>NaN</td>\n",
       "      <td>NaN</td>\n",
       "      <td>NaN</td>\n",
       "      <td>NaN</td>\n",
       "    </tr>\n",
       "  </tbody>\n",
       "</table>\n",
       "</div>"
      ],
      "text/plain": [
       "            cattle_exclud_calves_prod  lambs_prod  sheep_prod  pigs_prod  \\\n",
       "date                                                                       \n",
       "2020-07-31                        NaN         NaN         NaN        NaN   \n",
       "2020-08-31                        NaN         NaN         NaN        NaN   \n",
       "2020-09-30                        NaN         NaN         NaN        NaN   \n",
       "2020-10-31                        NaN         NaN         NaN        NaN   \n",
       "2020-11-30                        NaN         NaN         NaN        NaN   \n",
       "2020-12-31                        NaN         NaN         NaN        NaN   \n",
       "2021-01-31                        NaN         NaN         NaN        NaN   \n",
       "2021-02-28                        NaN         NaN         NaN        NaN   \n",
       "2021-03-31                        NaN         NaN         NaN        NaN   \n",
       "2021-04-30                        NaN         NaN         NaN        NaN   \n",
       "2021-05-31                        NaN         NaN         NaN        NaN   \n",
       "2021-06-30                        NaN         NaN         NaN        NaN   \n",
       "2021-07-31                        NaN         NaN         NaN        NaN   \n",
       "2021-08-31                        NaN         NaN         NaN        NaN   \n",
       "2021-09-30                        NaN         NaN         NaN        NaN   \n",
       "2021-10-31                        NaN         NaN         NaN        NaN   \n",
       "2021-11-30                        NaN         NaN         NaN        NaN   \n",
       "2021-12-31                        NaN         NaN         NaN        NaN   \n",
       "\n",
       "            total_beef_prod  veel_prod  bulls_bullocks_steers_slaughterings  \\\n",
       "date                                                                          \n",
       "2020-07-31              NaN        NaN                                  NaN   \n",
       "2020-08-31              NaN        NaN                                  NaN   \n",
       "2020-09-30              NaN        NaN                                  NaN   \n",
       "2020-10-31              NaN        NaN                                  NaN   \n",
       "2020-11-30              NaN        NaN                                  NaN   \n",
       "2020-12-31              NaN        NaN                                  NaN   \n",
       "2021-01-31              NaN        NaN                                  NaN   \n",
       "2021-02-28              NaN        NaN                                  NaN   \n",
       "2021-03-31              NaN        NaN                                  NaN   \n",
       "2021-04-30              NaN        NaN                                  NaN   \n",
       "2021-05-31              NaN        NaN                                  NaN   \n",
       "2021-06-30              NaN        NaN                                  NaN   \n",
       "2021-07-31              NaN        NaN                                  NaN   \n",
       "2021-08-31              NaN        NaN                                  NaN   \n",
       "2021-09-30              NaN        NaN                                  NaN   \n",
       "2021-10-31              NaN        NaN                                  NaN   \n",
       "2021-11-30              NaN        NaN                                  NaN   \n",
       "2021-12-31              NaN        NaN                                  NaN   \n",
       "\n",
       "            calves_slaughterings  cattle_exclu_calves_slaughterings  \\\n",
       "date                                                                  \n",
       "2020-07-31                   NaN                                NaN   \n",
       "2020-08-31                   NaN                                NaN   \n",
       "2020-09-30                   NaN                                NaN   \n",
       "2020-10-31                   NaN                                NaN   \n",
       "2020-11-30                   NaN                                NaN   \n",
       "2020-12-31                   NaN                                NaN   \n",
       "2021-01-31                   NaN                                NaN   \n",
       "2021-02-28                   NaN                                NaN   \n",
       "2021-03-31                   NaN                                NaN   \n",
       "2021-04-30                   NaN                                NaN   \n",
       "2021-05-31                   NaN                                NaN   \n",
       "2021-06-30                   NaN                                NaN   \n",
       "2021-07-31                   NaN                                NaN   \n",
       "2021-08-31                   NaN                                NaN   \n",
       "2021-09-30                   NaN                                NaN   \n",
       "2021-10-31                   NaN                                NaN   \n",
       "2021-11-30                   NaN                                NaN   \n",
       "2021-12-31                   NaN                                NaN   \n",
       "\n",
       "            cows_heifers_slaughterings  lamb_slaughterings  pig_slaughterings  \\\n",
       "date                                                                            \n",
       "2020-07-31                         NaN                 NaN                NaN   \n",
       "2020-08-31                         NaN                 NaN                NaN   \n",
       "2020-09-30                         NaN                 NaN                NaN   \n",
       "2020-10-31                         NaN                 NaN                NaN   \n",
       "2020-11-30                         NaN                 NaN                NaN   \n",
       "2020-12-31                         NaN                 NaN                NaN   \n",
       "2021-01-31                         NaN                 NaN                NaN   \n",
       "2021-02-28                         NaN                 NaN                NaN   \n",
       "2021-03-31                         NaN                 NaN                NaN   \n",
       "2021-04-30                         NaN                 NaN                NaN   \n",
       "2021-05-31                         NaN                 NaN                NaN   \n",
       "2021-06-30                         NaN                 NaN                NaN   \n",
       "2021-07-31                         NaN                 NaN                NaN   \n",
       "2021-08-31                         NaN                 NaN                NaN   \n",
       "2021-09-30                         NaN                 NaN                NaN   \n",
       "2021-10-31                         NaN                 NaN                NaN   \n",
       "2021-11-30                         NaN                 NaN                NaN   \n",
       "2021-12-31                         NaN                 NaN                NaN   \n",
       "\n",
       "            sheep_slaughterings  \n",
       "date                             \n",
       "2020-07-31                  NaN  \n",
       "2020-08-31                  NaN  \n",
       "2020-09-30                  NaN  \n",
       "2020-10-31                  NaN  \n",
       "2020-11-30                  NaN  \n",
       "2020-12-31                  NaN  \n",
       "2021-01-31                  NaN  \n",
       "2021-02-28                  NaN  \n",
       "2021-03-31                  NaN  \n",
       "2021-04-30                  NaN  \n",
       "2021-05-31                  NaN  \n",
       "2021-06-30                  NaN  \n",
       "2021-07-31                  NaN  \n",
       "2021-08-31                  NaN  \n",
       "2021-09-30                  NaN  \n",
       "2021-10-31                  NaN  \n",
       "2021-11-30                  NaN  \n",
       "2021-12-31                  NaN  "
      ]
     },
     "execution_count": 249,
     "metadata": {},
     "output_type": "execute_result"
    }
   ],
   "source": [
    "df_missing"
   ]
  },
  {
   "cell_type": "code",
   "execution_count": 250,
   "id": "a90a1b60",
   "metadata": {},
   "outputs": [],
   "source": [
    "df_meat_slau_prod = pd.concat([df_meat_slau_prod, df_missing])"
   ]
  },
  {
   "cell_type": "code",
   "execution_count": 251,
   "id": "f4b97e90",
   "metadata": {},
   "outputs": [],
   "source": [
    "df_meat_slau_prod = df_meat_slau_prod.interpolate(method='linear', limit_direction='both')"
   ]
  },
  {
   "cell_type": "markdown",
   "id": "ce0bb9ad",
   "metadata": {},
   "source": [
    "## final output"
   ]
  },
  {
   "cell_type": "code",
   "execution_count": 252,
   "id": "54cc942a",
   "metadata": {},
   "outputs": [
    {
     "data": {
      "text/html": [
       "<div>\n",
       "<style scoped>\n",
       "    .dataframe tbody tr th:only-of-type {\n",
       "        vertical-align: middle;\n",
       "    }\n",
       "\n",
       "    .dataframe tbody tr th {\n",
       "        vertical-align: top;\n",
       "    }\n",
       "\n",
       "    .dataframe thead th {\n",
       "        text-align: right;\n",
       "    }\n",
       "</style>\n",
       "<table border=\"1\" class=\"dataframe\">\n",
       "  <thead>\n",
       "    <tr style=\"text-align: right;\">\n",
       "      <th></th>\n",
       "      <th>cattle_exclud_calves_prod</th>\n",
       "      <th>lambs_prod</th>\n",
       "      <th>sheep_prod</th>\n",
       "      <th>pigs_prod</th>\n",
       "      <th>total_beef_prod</th>\n",
       "      <th>veel_prod</th>\n",
       "      <th>bulls_bullocks_steers_slaughterings</th>\n",
       "      <th>calves_slaughterings</th>\n",
       "      <th>cattle_exclu_calves_slaughterings</th>\n",
       "      <th>cows_heifers_slaughterings</th>\n",
       "      <th>lamb_slaughterings</th>\n",
       "      <th>pig_slaughterings</th>\n",
       "      <th>sheep_slaughterings</th>\n",
       "    </tr>\n",
       "    <tr>\n",
       "      <th>date</th>\n",
       "      <th></th>\n",
       "      <th></th>\n",
       "      <th></th>\n",
       "      <th></th>\n",
       "      <th></th>\n",
       "      <th></th>\n",
       "      <th></th>\n",
       "      <th></th>\n",
       "      <th></th>\n",
       "      <th></th>\n",
       "      <th></th>\n",
       "      <th></th>\n",
       "      <th></th>\n",
       "    </tr>\n",
       "  </thead>\n",
       "  <tbody>\n",
       "    <tr>\n",
       "      <th>1999-01-31</th>\n",
       "      <td>138508.0</td>\n",
       "      <td>23845.0</td>\n",
       "      <td>27998.0</td>\n",
       "      <td>25360.0</td>\n",
       "      <td>217522.0</td>\n",
       "      <td>1812.0</td>\n",
       "      <td>269.0</td>\n",
       "      <td>35.0</td>\n",
       "      <td>558.0</td>\n",
       "      <td>288.0</td>\n",
       "      <td>1228.0</td>\n",
       "      <td>360.0</td>\n",
       "      <td>1326.0</td>\n",
       "    </tr>\n",
       "    <tr>\n",
       "      <th>1999-02-28</th>\n",
       "      <td>172214.0</td>\n",
       "      <td>24371.0</td>\n",
       "      <td>30591.0</td>\n",
       "      <td>29348.0</td>\n",
       "      <td>258415.0</td>\n",
       "      <td>1892.0</td>\n",
       "      <td>335.0</td>\n",
       "      <td>36.0</td>\n",
       "      <td>677.0</td>\n",
       "      <td>343.0</td>\n",
       "      <td>1252.0</td>\n",
       "      <td>423.0</td>\n",
       "      <td>1467.0</td>\n",
       "    </tr>\n",
       "    <tr>\n",
       "      <th>1999-03-31</th>\n",
       "      <td>180539.0</td>\n",
       "      <td>27027.0</td>\n",
       "      <td>29581.0</td>\n",
       "      <td>32240.0</td>\n",
       "      <td>271377.0</td>\n",
       "      <td>1990.0</td>\n",
       "      <td>364.0</td>\n",
       "      <td>46.0</td>\n",
       "      <td>705.0</td>\n",
       "      <td>341.0</td>\n",
       "      <td>1392.0</td>\n",
       "      <td>455.0</td>\n",
       "      <td>1464.0</td>\n",
       "    </tr>\n",
       "    <tr>\n",
       "      <th>1999-04-30</th>\n",
       "      <td>160523.0</td>\n",
       "      <td>24327.0</td>\n",
       "      <td>25038.0</td>\n",
       "      <td>30218.0</td>\n",
       "      <td>242372.0</td>\n",
       "      <td>2267.0</td>\n",
       "      <td>304.0</td>\n",
       "      <td>57.0</td>\n",
       "      <td>632.0</td>\n",
       "      <td>327.0</td>\n",
       "      <td>1250.0</td>\n",
       "      <td>415.0</td>\n",
       "      <td>1235.0</td>\n",
       "    </tr>\n",
       "    <tr>\n",
       "      <th>1999-05-31</th>\n",
       "      <td>166786.0</td>\n",
       "      <td>24496.0</td>\n",
       "      <td>25315.0</td>\n",
       "      <td>33312.0</td>\n",
       "      <td>252699.0</td>\n",
       "      <td>2790.0</td>\n",
       "      <td>314.0</td>\n",
       "      <td>80.0</td>\n",
       "      <td>665.0</td>\n",
       "      <td>351.0</td>\n",
       "      <td>1246.0</td>\n",
       "      <td>449.0</td>\n",
       "      <td>1239.0</td>\n",
       "    </tr>\n",
       "    <tr>\n",
       "      <th>...</th>\n",
       "      <td>...</td>\n",
       "      <td>...</td>\n",
       "      <td>...</td>\n",
       "      <td>...</td>\n",
       "      <td>...</td>\n",
       "      <td>...</td>\n",
       "      <td>...</td>\n",
       "      <td>...</td>\n",
       "      <td>...</td>\n",
       "      <td>...</td>\n",
       "      <td>...</td>\n",
       "      <td>...</td>\n",
       "      <td>...</td>\n",
       "    </tr>\n",
       "    <tr>\n",
       "      <th>2021-08-31</th>\n",
       "      <td>176712.0</td>\n",
       "      <td>37388.0</td>\n",
       "      <td>7983.0</td>\n",
       "      <td>38969.0</td>\n",
       "      <td>262689.0</td>\n",
       "      <td>1636.0</td>\n",
       "      <td>272.0</td>\n",
       "      <td>38.0</td>\n",
       "      <td>612.0</td>\n",
       "      <td>340.0</td>\n",
       "      <td>1487.0</td>\n",
       "      <td>486.0</td>\n",
       "      <td>301.0</td>\n",
       "    </tr>\n",
       "    <tr>\n",
       "      <th>2021-09-30</th>\n",
       "      <td>176712.0</td>\n",
       "      <td>37388.0</td>\n",
       "      <td>7983.0</td>\n",
       "      <td>38969.0</td>\n",
       "      <td>262689.0</td>\n",
       "      <td>1636.0</td>\n",
       "      <td>272.0</td>\n",
       "      <td>38.0</td>\n",
       "      <td>612.0</td>\n",
       "      <td>340.0</td>\n",
       "      <td>1487.0</td>\n",
       "      <td>486.0</td>\n",
       "      <td>301.0</td>\n",
       "    </tr>\n",
       "    <tr>\n",
       "      <th>2021-10-31</th>\n",
       "      <td>176712.0</td>\n",
       "      <td>37388.0</td>\n",
       "      <td>7983.0</td>\n",
       "      <td>38969.0</td>\n",
       "      <td>262689.0</td>\n",
       "      <td>1636.0</td>\n",
       "      <td>272.0</td>\n",
       "      <td>38.0</td>\n",
       "      <td>612.0</td>\n",
       "      <td>340.0</td>\n",
       "      <td>1487.0</td>\n",
       "      <td>486.0</td>\n",
       "      <td>301.0</td>\n",
       "    </tr>\n",
       "    <tr>\n",
       "      <th>2021-11-30</th>\n",
       "      <td>176712.0</td>\n",
       "      <td>37388.0</td>\n",
       "      <td>7983.0</td>\n",
       "      <td>38969.0</td>\n",
       "      <td>262689.0</td>\n",
       "      <td>1636.0</td>\n",
       "      <td>272.0</td>\n",
       "      <td>38.0</td>\n",
       "      <td>612.0</td>\n",
       "      <td>340.0</td>\n",
       "      <td>1487.0</td>\n",
       "      <td>486.0</td>\n",
       "      <td>301.0</td>\n",
       "    </tr>\n",
       "    <tr>\n",
       "      <th>2021-12-31</th>\n",
       "      <td>176712.0</td>\n",
       "      <td>37388.0</td>\n",
       "      <td>7983.0</td>\n",
       "      <td>38969.0</td>\n",
       "      <td>262689.0</td>\n",
       "      <td>1636.0</td>\n",
       "      <td>272.0</td>\n",
       "      <td>38.0</td>\n",
       "      <td>612.0</td>\n",
       "      <td>340.0</td>\n",
       "      <td>1487.0</td>\n",
       "      <td>486.0</td>\n",
       "      <td>301.0</td>\n",
       "    </tr>\n",
       "  </tbody>\n",
       "</table>\n",
       "<p>276 rows × 13 columns</p>\n",
       "</div>"
      ],
      "text/plain": [
       "            cattle_exclud_calves_prod  lambs_prod  sheep_prod  pigs_prod  \\\n",
       "date                                                                       \n",
       "1999-01-31                   138508.0     23845.0     27998.0    25360.0   \n",
       "1999-02-28                   172214.0     24371.0     30591.0    29348.0   \n",
       "1999-03-31                   180539.0     27027.0     29581.0    32240.0   \n",
       "1999-04-30                   160523.0     24327.0     25038.0    30218.0   \n",
       "1999-05-31                   166786.0     24496.0     25315.0    33312.0   \n",
       "...                               ...         ...         ...        ...   \n",
       "2021-08-31                   176712.0     37388.0      7983.0    38969.0   \n",
       "2021-09-30                   176712.0     37388.0      7983.0    38969.0   \n",
       "2021-10-31                   176712.0     37388.0      7983.0    38969.0   \n",
       "2021-11-30                   176712.0     37388.0      7983.0    38969.0   \n",
       "2021-12-31                   176712.0     37388.0      7983.0    38969.0   \n",
       "\n",
       "            total_beef_prod  veel_prod  bulls_bullocks_steers_slaughterings  \\\n",
       "date                                                                          \n",
       "1999-01-31         217522.0     1812.0                                269.0   \n",
       "1999-02-28         258415.0     1892.0                                335.0   \n",
       "1999-03-31         271377.0     1990.0                                364.0   \n",
       "1999-04-30         242372.0     2267.0                                304.0   \n",
       "1999-05-31         252699.0     2790.0                                314.0   \n",
       "...                     ...        ...                                  ...   \n",
       "2021-08-31         262689.0     1636.0                                272.0   \n",
       "2021-09-30         262689.0     1636.0                                272.0   \n",
       "2021-10-31         262689.0     1636.0                                272.0   \n",
       "2021-11-30         262689.0     1636.0                                272.0   \n",
       "2021-12-31         262689.0     1636.0                                272.0   \n",
       "\n",
       "            calves_slaughterings  cattle_exclu_calves_slaughterings  \\\n",
       "date                                                                  \n",
       "1999-01-31                  35.0                              558.0   \n",
       "1999-02-28                  36.0                              677.0   \n",
       "1999-03-31                  46.0                              705.0   \n",
       "1999-04-30                  57.0                              632.0   \n",
       "1999-05-31                  80.0                              665.0   \n",
       "...                          ...                                ...   \n",
       "2021-08-31                  38.0                              612.0   \n",
       "2021-09-30                  38.0                              612.0   \n",
       "2021-10-31                  38.0                              612.0   \n",
       "2021-11-30                  38.0                              612.0   \n",
       "2021-12-31                  38.0                              612.0   \n",
       "\n",
       "            cows_heifers_slaughterings  lamb_slaughterings  pig_slaughterings  \\\n",
       "date                                                                            \n",
       "1999-01-31                       288.0              1228.0              360.0   \n",
       "1999-02-28                       343.0              1252.0              423.0   \n",
       "1999-03-31                       341.0              1392.0              455.0   \n",
       "1999-04-30                       327.0              1250.0              415.0   \n",
       "1999-05-31                       351.0              1246.0              449.0   \n",
       "...                                ...                 ...                ...   \n",
       "2021-08-31                       340.0              1487.0              486.0   \n",
       "2021-09-30                       340.0              1487.0              486.0   \n",
       "2021-10-31                       340.0              1487.0              486.0   \n",
       "2021-11-30                       340.0              1487.0              486.0   \n",
       "2021-12-31                       340.0              1487.0              486.0   \n",
       "\n",
       "            sheep_slaughterings  \n",
       "date                             \n",
       "1999-01-31               1326.0  \n",
       "1999-02-28               1467.0  \n",
       "1999-03-31               1464.0  \n",
       "1999-04-30               1235.0  \n",
       "1999-05-31               1239.0  \n",
       "...                         ...  \n",
       "2021-08-31                301.0  \n",
       "2021-09-30                301.0  \n",
       "2021-10-31                301.0  \n",
       "2021-11-30                301.0  \n",
       "2021-12-31                301.0  \n",
       "\n",
       "[276 rows x 13 columns]"
      ]
     },
     "execution_count": 252,
     "metadata": {},
     "output_type": "execute_result"
    }
   ],
   "source": [
    "df_meat_slau_prod"
   ]
  },
  {
   "cell_type": "markdown",
   "id": "daa76887",
   "metadata": {},
   "source": [
    "#  Consumer Price Index of All Items in Australia\n",
    "\n",
    "https://fred.stlouisfed.org/series/AUSCPIALLQINMEI"
   ]
  },
  {
   "cell_type": "code",
   "execution_count": 253,
   "id": "a896b339",
   "metadata": {},
   "outputs": [],
   "source": [
    "df_cpi_all = pd.read_csv(\"data/aus/cpi/Consumer Price Index of All Items in Australia.csv\")"
   ]
  },
  {
   "cell_type": "code",
   "execution_count": 254,
   "id": "3ea3daa6",
   "metadata": {},
   "outputs": [
    {
     "data": {
      "text/html": [
       "<div>\n",
       "<style scoped>\n",
       "    .dataframe tbody tr th:only-of-type {\n",
       "        vertical-align: middle;\n",
       "    }\n",
       "\n",
       "    .dataframe tbody tr th {\n",
       "        vertical-align: top;\n",
       "    }\n",
       "\n",
       "    .dataframe thead th {\n",
       "        text-align: right;\n",
       "    }\n",
       "</style>\n",
       "<table border=\"1\" class=\"dataframe\">\n",
       "  <thead>\n",
       "    <tr style=\"text-align: right;\">\n",
       "      <th></th>\n",
       "      <th>DATE</th>\n",
       "      <th>AUSCPIALLQINMEI</th>\n",
       "    </tr>\n",
       "  </thead>\n",
       "  <tbody>\n",
       "    <tr>\n",
       "      <th>0</th>\n",
       "      <td>1960-01-01</td>\n",
       "      <td>6.965405</td>\n",
       "    </tr>\n",
       "    <tr>\n",
       "      <th>1</th>\n",
       "      <td>1960-04-01</td>\n",
       "      <td>7.058277</td>\n",
       "    </tr>\n",
       "    <tr>\n",
       "      <th>2</th>\n",
       "      <td>1960-07-01</td>\n",
       "      <td>7.151149</td>\n",
       "    </tr>\n",
       "    <tr>\n",
       "      <th>3</th>\n",
       "      <td>1960-10-01</td>\n",
       "      <td>7.244021</td>\n",
       "    </tr>\n",
       "    <tr>\n",
       "      <th>4</th>\n",
       "      <td>1961-01-01</td>\n",
       "      <td>7.244021</td>\n",
       "    </tr>\n",
       "    <tr>\n",
       "      <th>...</th>\n",
       "      <td>...</td>\n",
       "      <td>...</td>\n",
       "    </tr>\n",
       "    <tr>\n",
       "      <th>243</th>\n",
       "      <td>2020-10-01</td>\n",
       "      <td>108.846065</td>\n",
       "    </tr>\n",
       "    <tr>\n",
       "      <th>244</th>\n",
       "      <td>2021-01-01</td>\n",
       "      <td>109.496169</td>\n",
       "    </tr>\n",
       "    <tr>\n",
       "      <th>245</th>\n",
       "      <td>2021-04-01</td>\n",
       "      <td>110.332018</td>\n",
       "    </tr>\n",
       "    <tr>\n",
       "      <th>246</th>\n",
       "      <td>2021-07-01</td>\n",
       "      <td>111.167866</td>\n",
       "    </tr>\n",
       "    <tr>\n",
       "      <th>247</th>\n",
       "      <td>2021-10-01</td>\n",
       "      <td>112.653819</td>\n",
       "    </tr>\n",
       "  </tbody>\n",
       "</table>\n",
       "<p>248 rows × 2 columns</p>\n",
       "</div>"
      ],
      "text/plain": [
       "           DATE  AUSCPIALLQINMEI\n",
       "0    1960-01-01         6.965405\n",
       "1    1960-04-01         7.058277\n",
       "2    1960-07-01         7.151149\n",
       "3    1960-10-01         7.244021\n",
       "4    1961-01-01         7.244021\n",
       "..          ...              ...\n",
       "243  2020-10-01       108.846065\n",
       "244  2021-01-01       109.496169\n",
       "245  2021-04-01       110.332018\n",
       "246  2021-07-01       111.167866\n",
       "247  2021-10-01       112.653819\n",
       "\n",
       "[248 rows x 2 columns]"
      ]
     },
     "execution_count": 254,
     "metadata": {},
     "output_type": "execute_result"
    }
   ],
   "source": [
    "df_cpi_all"
   ]
  },
  {
   "cell_type": "code",
   "execution_count": 255,
   "id": "5492231a",
   "metadata": {},
   "outputs": [
    {
     "name": "stdout",
     "output_type": "stream",
     "text": [
      "<class 'pandas.core.frame.DataFrame'>\n",
      "RangeIndex: 248 entries, 0 to 247\n",
      "Data columns (total 2 columns):\n",
      " #   Column           Non-Null Count  Dtype  \n",
      "---  ------           --------------  -----  \n",
      " 0   DATE             248 non-null    object \n",
      " 1   AUSCPIALLQINMEI  248 non-null    float64\n",
      "dtypes: float64(1), object(1)\n",
      "memory usage: 4.0+ KB\n"
     ]
    }
   ],
   "source": [
    "df_cpi_all.info()"
   ]
  },
  {
   "cell_type": "code",
   "execution_count": 256,
   "id": "48189e98",
   "metadata": {},
   "outputs": [],
   "source": [
    "df_cpi_all = transform_fred_stlouisfed_quarterlydata(df_cpi_all, \"cpi_all\")"
   ]
  },
  {
   "cell_type": "code",
   "execution_count": 257,
   "id": "4b2f6c91",
   "metadata": {},
   "outputs": [
    {
     "data": {
      "text/plain": [
       "cpi_all    0\n",
       "dtype: int64"
      ]
     },
     "execution_count": 257,
     "metadata": {},
     "output_type": "execute_result"
    }
   ],
   "source": [
    "df_cpi_all.isnull().sum()"
   ]
  },
  {
   "cell_type": "markdown",
   "id": "56c30c22",
   "metadata": {},
   "source": [
    "## final output"
   ]
  },
  {
   "cell_type": "code",
   "execution_count": 258,
   "id": "71bd41d5",
   "metadata": {},
   "outputs": [
    {
     "data": {
      "text/html": [
       "<div>\n",
       "<style scoped>\n",
       "    .dataframe tbody tr th:only-of-type {\n",
       "        vertical-align: middle;\n",
       "    }\n",
       "\n",
       "    .dataframe tbody tr th {\n",
       "        vertical-align: top;\n",
       "    }\n",
       "\n",
       "    .dataframe thead th {\n",
       "        text-align: right;\n",
       "    }\n",
       "</style>\n",
       "<table border=\"1\" class=\"dataframe\">\n",
       "  <thead>\n",
       "    <tr style=\"text-align: right;\">\n",
       "      <th></th>\n",
       "      <th>cpi_all</th>\n",
       "    </tr>\n",
       "    <tr>\n",
       "      <th>date</th>\n",
       "      <th></th>\n",
       "    </tr>\n",
       "  </thead>\n",
       "  <tbody>\n",
       "    <tr>\n",
       "      <th>1990-01-31</th>\n",
       "      <td>52.194103</td>\n",
       "    </tr>\n",
       "    <tr>\n",
       "      <th>1990-02-28</th>\n",
       "      <td>53.029951</td>\n",
       "    </tr>\n",
       "    <tr>\n",
       "      <th>1990-03-31</th>\n",
       "      <td>53.029951</td>\n",
       "    </tr>\n",
       "    <tr>\n",
       "      <th>1990-04-30</th>\n",
       "      <td>53.029951</td>\n",
       "    </tr>\n",
       "    <tr>\n",
       "      <th>1990-05-31</th>\n",
       "      <td>53.401440</td>\n",
       "    </tr>\n",
       "    <tr>\n",
       "      <th>...</th>\n",
       "      <td>...</td>\n",
       "    </tr>\n",
       "    <tr>\n",
       "      <th>2021-08-31</th>\n",
       "      <td>112.653819</td>\n",
       "    </tr>\n",
       "    <tr>\n",
       "      <th>2021-09-30</th>\n",
       "      <td>112.653819</td>\n",
       "    </tr>\n",
       "    <tr>\n",
       "      <th>2021-10-31</th>\n",
       "      <td>112.653819</td>\n",
       "    </tr>\n",
       "    <tr>\n",
       "      <th>2021-11-30</th>\n",
       "      <td>112.653819</td>\n",
       "    </tr>\n",
       "    <tr>\n",
       "      <th>2021-12-31</th>\n",
       "      <td>112.653819</td>\n",
       "    </tr>\n",
       "  </tbody>\n",
       "</table>\n",
       "<p>384 rows × 1 columns</p>\n",
       "</div>"
      ],
      "text/plain": [
       "               cpi_all\n",
       "date                  \n",
       "1990-01-31   52.194103\n",
       "1990-02-28   53.029951\n",
       "1990-03-31   53.029951\n",
       "1990-04-30   53.029951\n",
       "1990-05-31   53.401440\n",
       "...                ...\n",
       "2021-08-31  112.653819\n",
       "2021-09-30  112.653819\n",
       "2021-10-31  112.653819\n",
       "2021-11-30  112.653819\n",
       "2021-12-31  112.653819\n",
       "\n",
       "[384 rows x 1 columns]"
      ]
     },
     "execution_count": 258,
     "metadata": {},
     "output_type": "execute_result"
    }
   ],
   "source": [
    "df_cpi_all"
   ]
  },
  {
   "cell_type": "markdown",
   "id": "4b4367a1",
   "metadata": {},
   "source": [
    "#  Real Residential Property Prices for Australia\n",
    "\n",
    "https://fred.stlouisfed.org/series/QAUR628BIS"
   ]
  },
  {
   "cell_type": "code",
   "execution_count": 259,
   "id": "59f7fd01",
   "metadata": {},
   "outputs": [],
   "source": [
    "df_cpi_residential = pd.read_csv(\"data/aus/cpi/Real Residential Property Prices for Australia.csv\")"
   ]
  },
  {
   "cell_type": "code",
   "execution_count": 260,
   "id": "300ac63d",
   "metadata": {},
   "outputs": [],
   "source": [
    "df_cpi_residential = transform_fred_stlouisfed_quarterlydata(df_cpi_residential, \"cpi_residential\")"
   ]
  },
  {
   "cell_type": "code",
   "execution_count": 261,
   "id": "d3cc9428",
   "metadata": {},
   "outputs": [
    {
     "data": {
      "text/plain": [
       "cpi_residential    0\n",
       "dtype: int64"
      ]
     },
     "execution_count": 261,
     "metadata": {},
     "output_type": "execute_result"
    }
   ],
   "source": [
    "df_cpi_residential.isnull().sum()"
   ]
  },
  {
   "cell_type": "markdown",
   "id": "fda1c73e",
   "metadata": {},
   "source": [
    "## final output"
   ]
  },
  {
   "cell_type": "code",
   "execution_count": 262,
   "id": "b4b22556",
   "metadata": {},
   "outputs": [
    {
     "data": {
      "text/html": [
       "<div>\n",
       "<style scoped>\n",
       "    .dataframe tbody tr th:only-of-type {\n",
       "        vertical-align: middle;\n",
       "    }\n",
       "\n",
       "    .dataframe tbody tr th {\n",
       "        vertical-align: top;\n",
       "    }\n",
       "\n",
       "    .dataframe thead th {\n",
       "        text-align: right;\n",
       "    }\n",
       "</style>\n",
       "<table border=\"1\" class=\"dataframe\">\n",
       "  <thead>\n",
       "    <tr style=\"text-align: right;\">\n",
       "      <th></th>\n",
       "      <th>cpi_residential</th>\n",
       "    </tr>\n",
       "    <tr>\n",
       "      <th>date</th>\n",
       "      <th></th>\n",
       "    </tr>\n",
       "  </thead>\n",
       "  <tbody>\n",
       "    <tr>\n",
       "      <th>1990-01-31</th>\n",
       "      <td>48.2928</td>\n",
       "    </tr>\n",
       "    <tr>\n",
       "      <th>1990-02-28</th>\n",
       "      <td>47.9595</td>\n",
       "    </tr>\n",
       "    <tr>\n",
       "      <th>1990-03-31</th>\n",
       "      <td>47.9595</td>\n",
       "    </tr>\n",
       "    <tr>\n",
       "      <th>1990-04-30</th>\n",
       "      <td>47.9595</td>\n",
       "    </tr>\n",
       "    <tr>\n",
       "      <th>1990-05-31</th>\n",
       "      <td>47.2009</td>\n",
       "    </tr>\n",
       "    <tr>\n",
       "      <th>...</th>\n",
       "      <td>...</td>\n",
       "    </tr>\n",
       "    <tr>\n",
       "      <th>2021-08-31</th>\n",
       "      <td>141.0406</td>\n",
       "    </tr>\n",
       "    <tr>\n",
       "      <th>2021-09-30</th>\n",
       "      <td>141.0406</td>\n",
       "    </tr>\n",
       "    <tr>\n",
       "      <th>2021-10-31</th>\n",
       "      <td>141.0406</td>\n",
       "    </tr>\n",
       "    <tr>\n",
       "      <th>2021-11-30</th>\n",
       "      <td>141.0406</td>\n",
       "    </tr>\n",
       "    <tr>\n",
       "      <th>2021-12-31</th>\n",
       "      <td>141.0406</td>\n",
       "    </tr>\n",
       "  </tbody>\n",
       "</table>\n",
       "<p>384 rows × 1 columns</p>\n",
       "</div>"
      ],
      "text/plain": [
       "            cpi_residential\n",
       "date                       \n",
       "1990-01-31          48.2928\n",
       "1990-02-28          47.9595\n",
       "1990-03-31          47.9595\n",
       "1990-04-30          47.9595\n",
       "1990-05-31          47.2009\n",
       "...                     ...\n",
       "2021-08-31         141.0406\n",
       "2021-09-30         141.0406\n",
       "2021-10-31         141.0406\n",
       "2021-11-30         141.0406\n",
       "2021-12-31         141.0406\n",
       "\n",
       "[384 rows x 1 columns]"
      ]
     },
     "execution_count": 262,
     "metadata": {},
     "output_type": "execute_result"
    }
   ],
   "source": [
    "df_cpi_residential"
   ]
  },
  {
   "cell_type": "markdown",
   "id": "f47d0a61",
   "metadata": {},
   "source": [
    "# Consumer Price Index: All Items Excluding Food and Energy for Australia \n",
    "\n",
    "https://fred.stlouisfed.org/series/AUSCPICORQINMEI"
   ]
  },
  {
   "cell_type": "code",
   "execution_count": 263,
   "id": "d0c21988",
   "metadata": {},
   "outputs": [],
   "source": [
    "df_cpi_all_ex_food_energy = pd.read_csv(\"data/aus/cpi/Consumer Price Index All Items Excluding Food and Energy for Australia.csv\")"
   ]
  },
  {
   "cell_type": "code",
   "execution_count": 264,
   "id": "37bda1af",
   "metadata": {},
   "outputs": [
    {
     "data": {
      "text/html": [
       "<div>\n",
       "<style scoped>\n",
       "    .dataframe tbody tr th:only-of-type {\n",
       "        vertical-align: middle;\n",
       "    }\n",
       "\n",
       "    .dataframe tbody tr th {\n",
       "        vertical-align: top;\n",
       "    }\n",
       "\n",
       "    .dataframe thead th {\n",
       "        text-align: right;\n",
       "    }\n",
       "</style>\n",
       "<table border=\"1\" class=\"dataframe\">\n",
       "  <thead>\n",
       "    <tr style=\"text-align: right;\">\n",
       "      <th></th>\n",
       "      <th>DATE</th>\n",
       "      <th>AUSCPICORQINMEI</th>\n",
       "    </tr>\n",
       "  </thead>\n",
       "  <tbody>\n",
       "    <tr>\n",
       "      <th>0</th>\n",
       "      <td>1971-04-01</td>\n",
       "      <td>9.657205</td>\n",
       "    </tr>\n",
       "    <tr>\n",
       "      <th>1</th>\n",
       "      <td>1971-07-01</td>\n",
       "      <td>9.976837</td>\n",
       "    </tr>\n",
       "    <tr>\n",
       "      <th>2</th>\n",
       "      <td>1971-10-01</td>\n",
       "      <td>10.165847</td>\n",
       "    </tr>\n",
       "    <tr>\n",
       "      <th>3</th>\n",
       "      <td>1972-01-01</td>\n",
       "      <td>10.264859</td>\n",
       "    </tr>\n",
       "    <tr>\n",
       "      <th>4</th>\n",
       "      <td>1972-04-01</td>\n",
       "      <td>10.376892</td>\n",
       "    </tr>\n",
       "    <tr>\n",
       "      <th>...</th>\n",
       "      <td>...</td>\n",
       "      <td>...</td>\n",
       "    </tr>\n",
       "    <tr>\n",
       "      <th>198</th>\n",
       "      <td>2020-10-01</td>\n",
       "      <td>107.521068</td>\n",
       "    </tr>\n",
       "    <tr>\n",
       "      <th>199</th>\n",
       "      <td>2021-01-01</td>\n",
       "      <td>107.958167</td>\n",
       "    </tr>\n",
       "    <tr>\n",
       "      <th>200</th>\n",
       "      <td>2021-04-01</td>\n",
       "      <td>108.441248</td>\n",
       "    </tr>\n",
       "    <tr>\n",
       "      <th>201</th>\n",
       "      <td>2021-07-01</td>\n",
       "      <td>109.197185</td>\n",
       "    </tr>\n",
       "    <tr>\n",
       "      <th>202</th>\n",
       "      <td>2021-10-01</td>\n",
       "      <td>110.687578</td>\n",
       "    </tr>\n",
       "  </tbody>\n",
       "</table>\n",
       "<p>203 rows × 2 columns</p>\n",
       "</div>"
      ],
      "text/plain": [
       "           DATE  AUSCPICORQINMEI\n",
       "0    1971-04-01         9.657205\n",
       "1    1971-07-01         9.976837\n",
       "2    1971-10-01        10.165847\n",
       "3    1972-01-01        10.264859\n",
       "4    1972-04-01        10.376892\n",
       "..          ...              ...\n",
       "198  2020-10-01       107.521068\n",
       "199  2021-01-01       107.958167\n",
       "200  2021-04-01       108.441248\n",
       "201  2021-07-01       109.197185\n",
       "202  2021-10-01       110.687578\n",
       "\n",
       "[203 rows x 2 columns]"
      ]
     },
     "execution_count": 264,
     "metadata": {},
     "output_type": "execute_result"
    }
   ],
   "source": [
    "df_cpi_all_ex_food_energy"
   ]
  },
  {
   "cell_type": "code",
   "execution_count": 265,
   "id": "c1f95628",
   "metadata": {},
   "outputs": [],
   "source": [
    "df_cpi_all_ex_food_energy = transform_fred_stlouisfed_quarterlydata(df_cpi_all_ex_food_energy, \"cpi_all_ex_food_energy\")"
   ]
  },
  {
   "cell_type": "code",
   "execution_count": 266,
   "id": "c6e6c5d7",
   "metadata": {},
   "outputs": [
    {
     "data": {
      "text/plain": [
       "cpi_all_ex_food_energy    0\n",
       "dtype: int64"
      ]
     },
     "execution_count": 266,
     "metadata": {},
     "output_type": "execute_result"
    }
   ],
   "source": [
    "df_cpi_all_ex_food_energy.isnull().sum()"
   ]
  },
  {
   "cell_type": "markdown",
   "id": "627f2e75",
   "metadata": {},
   "source": [
    "## final output"
   ]
  },
  {
   "cell_type": "code",
   "execution_count": 267,
   "id": "dad1407b",
   "metadata": {},
   "outputs": [
    {
     "data": {
      "text/html": [
       "<div>\n",
       "<style scoped>\n",
       "    .dataframe tbody tr th:only-of-type {\n",
       "        vertical-align: middle;\n",
       "    }\n",
       "\n",
       "    .dataframe tbody tr th {\n",
       "        vertical-align: top;\n",
       "    }\n",
       "\n",
       "    .dataframe thead th {\n",
       "        text-align: right;\n",
       "    }\n",
       "</style>\n",
       "<table border=\"1\" class=\"dataframe\">\n",
       "  <thead>\n",
       "    <tr style=\"text-align: right;\">\n",
       "      <th></th>\n",
       "      <th>cpi_all_ex_food_energy</th>\n",
       "    </tr>\n",
       "    <tr>\n",
       "      <th>date</th>\n",
       "      <th></th>\n",
       "    </tr>\n",
       "  </thead>\n",
       "  <tbody>\n",
       "    <tr>\n",
       "      <th>1990-01-31</th>\n",
       "      <td>53.434080</td>\n",
       "    </tr>\n",
       "    <tr>\n",
       "      <th>1990-02-28</th>\n",
       "      <td>54.245145</td>\n",
       "    </tr>\n",
       "    <tr>\n",
       "      <th>1990-03-31</th>\n",
       "      <td>54.245145</td>\n",
       "    </tr>\n",
       "    <tr>\n",
       "      <th>1990-04-30</th>\n",
       "      <td>54.245145</td>\n",
       "    </tr>\n",
       "    <tr>\n",
       "      <th>1990-05-31</th>\n",
       "      <td>54.712763</td>\n",
       "    </tr>\n",
       "    <tr>\n",
       "      <th>...</th>\n",
       "      <td>...</td>\n",
       "    </tr>\n",
       "    <tr>\n",
       "      <th>2021-08-31</th>\n",
       "      <td>110.687578</td>\n",
       "    </tr>\n",
       "    <tr>\n",
       "      <th>2021-09-30</th>\n",
       "      <td>110.687578</td>\n",
       "    </tr>\n",
       "    <tr>\n",
       "      <th>2021-10-31</th>\n",
       "      <td>110.687578</td>\n",
       "    </tr>\n",
       "    <tr>\n",
       "      <th>2021-11-30</th>\n",
       "      <td>110.687578</td>\n",
       "    </tr>\n",
       "    <tr>\n",
       "      <th>2021-12-31</th>\n",
       "      <td>110.687578</td>\n",
       "    </tr>\n",
       "  </tbody>\n",
       "</table>\n",
       "<p>384 rows × 1 columns</p>\n",
       "</div>"
      ],
      "text/plain": [
       "            cpi_all_ex_food_energy\n",
       "date                              \n",
       "1990-01-31               53.434080\n",
       "1990-02-28               54.245145\n",
       "1990-03-31               54.245145\n",
       "1990-04-30               54.245145\n",
       "1990-05-31               54.712763\n",
       "...                            ...\n",
       "2021-08-31              110.687578\n",
       "2021-09-30              110.687578\n",
       "2021-10-31              110.687578\n",
       "2021-11-30              110.687578\n",
       "2021-12-31              110.687578\n",
       "\n",
       "[384 rows x 1 columns]"
      ]
     },
     "execution_count": 267,
     "metadata": {},
     "output_type": "execute_result"
    }
   ],
   "source": [
    "df_cpi_all_ex_food_energy"
   ]
  },
  {
   "cell_type": "markdown",
   "id": "58a94d26",
   "metadata": {},
   "source": [
    "# Consumer Price Index: Food for Australia\n",
    "\n",
    "https://fred.stlouisfed.org/series/AUSCPIFODQINMEI"
   ]
  },
  {
   "cell_type": "code",
   "execution_count": 268,
   "id": "35256e76",
   "metadata": {},
   "outputs": [],
   "source": [
    "df_cpi_food = pd.read_csv(\"data/aus/cpi/Consumer Price Index Food for Australia.csv\")"
   ]
  },
  {
   "cell_type": "code",
   "execution_count": 269,
   "id": "11c003d8",
   "metadata": {},
   "outputs": [
    {
     "data": {
      "text/html": [
       "<div>\n",
       "<style scoped>\n",
       "    .dataframe tbody tr th:only-of-type {\n",
       "        vertical-align: middle;\n",
       "    }\n",
       "\n",
       "    .dataframe tbody tr th {\n",
       "        vertical-align: top;\n",
       "    }\n",
       "\n",
       "    .dataframe thead th {\n",
       "        text-align: right;\n",
       "    }\n",
       "</style>\n",
       "<table border=\"1\" class=\"dataframe\">\n",
       "  <thead>\n",
       "    <tr style=\"text-align: right;\">\n",
       "      <th></th>\n",
       "      <th>DATE</th>\n",
       "      <th>AUSCPIFODQINMEI</th>\n",
       "    </tr>\n",
       "  </thead>\n",
       "  <tbody>\n",
       "    <tr>\n",
       "      <th>0</th>\n",
       "      <td>1976-07-01</td>\n",
       "      <td>17.208328</td>\n",
       "    </tr>\n",
       "    <tr>\n",
       "      <th>1</th>\n",
       "      <td>1976-10-01</td>\n",
       "      <td>17.972852</td>\n",
       "    </tr>\n",
       "    <tr>\n",
       "      <th>2</th>\n",
       "      <td>1977-01-01</td>\n",
       "      <td>18.183672</td>\n",
       "    </tr>\n",
       "    <tr>\n",
       "      <th>3</th>\n",
       "      <td>1977-04-01</td>\n",
       "      <td>18.649332</td>\n",
       "    </tr>\n",
       "    <tr>\n",
       "      <th>4</th>\n",
       "      <td>1977-07-01</td>\n",
       "      <td>19.467801</td>\n",
       "    </tr>\n",
       "    <tr>\n",
       "      <th>...</th>\n",
       "      <td>...</td>\n",
       "      <td>...</td>\n",
       "    </tr>\n",
       "    <tr>\n",
       "      <th>162</th>\n",
       "      <td>2017-01-01</td>\n",
       "      <td>106.900291</td>\n",
       "    </tr>\n",
       "    <tr>\n",
       "      <th>163</th>\n",
       "      <td>2017-04-01</td>\n",
       "      <td>106.204597</td>\n",
       "    </tr>\n",
       "    <tr>\n",
       "      <th>164</th>\n",
       "      <td>2017-07-01</td>\n",
       "      <td>104.641450</td>\n",
       "    </tr>\n",
       "    <tr>\n",
       "      <th>165</th>\n",
       "      <td>2017-10-01</td>\n",
       "      <td>106.116552</td>\n",
       "    </tr>\n",
       "    <tr>\n",
       "      <th>166</th>\n",
       "      <td>2018-01-01</td>\n",
       "      <td>106.631196</td>\n",
       "    </tr>\n",
       "  </tbody>\n",
       "</table>\n",
       "<p>167 rows × 2 columns</p>\n",
       "</div>"
      ],
      "text/plain": [
       "           DATE  AUSCPIFODQINMEI\n",
       "0    1976-07-01        17.208328\n",
       "1    1976-10-01        17.972852\n",
       "2    1977-01-01        18.183672\n",
       "3    1977-04-01        18.649332\n",
       "4    1977-07-01        19.467801\n",
       "..          ...              ...\n",
       "162  2017-01-01       106.900291\n",
       "163  2017-04-01       106.204597\n",
       "164  2017-07-01       104.641450\n",
       "165  2017-10-01       106.116552\n",
       "166  2018-01-01       106.631196\n",
       "\n",
       "[167 rows x 2 columns]"
      ]
     },
     "execution_count": 269,
     "metadata": {},
     "output_type": "execute_result"
    }
   ],
   "source": [
    "df_cpi_food"
   ]
  },
  {
   "cell_type": "code",
   "execution_count": 270,
   "id": "e978febc",
   "metadata": {},
   "outputs": [],
   "source": [
    "df_cpi_food = transform_fred_stlouisfed_quarterlydata(df_cpi_food, \"cpi_food\")"
   ]
  },
  {
   "cell_type": "code",
   "execution_count": 271,
   "id": "d25e0dc8",
   "metadata": {},
   "outputs": [
    {
     "data": {
      "text/plain": [
       "cpi_food    0\n",
       "dtype: int64"
      ]
     },
     "execution_count": 271,
     "metadata": {},
     "output_type": "execute_result"
    }
   ],
   "source": [
    "df_cpi_food.isnull().sum()"
   ]
  },
  {
   "cell_type": "markdown",
   "id": "50c700cf",
   "metadata": {},
   "source": [
    "## final output"
   ]
  },
  {
   "cell_type": "code",
   "execution_count": 272,
   "id": "490a84bf",
   "metadata": {},
   "outputs": [
    {
     "data": {
      "text/html": [
       "<div>\n",
       "<style scoped>\n",
       "    .dataframe tbody tr th:only-of-type {\n",
       "        vertical-align: middle;\n",
       "    }\n",
       "\n",
       "    .dataframe tbody tr th {\n",
       "        vertical-align: top;\n",
       "    }\n",
       "\n",
       "    .dataframe thead th {\n",
       "        text-align: right;\n",
       "    }\n",
       "</style>\n",
       "<table border=\"1\" class=\"dataframe\">\n",
       "  <thead>\n",
       "    <tr style=\"text-align: right;\">\n",
       "      <th></th>\n",
       "      <th>cpi_food</th>\n",
       "    </tr>\n",
       "    <tr>\n",
       "      <th>date</th>\n",
       "      <th></th>\n",
       "    </tr>\n",
       "  </thead>\n",
       "  <tbody>\n",
       "    <tr>\n",
       "      <th>1990-01-31</th>\n",
       "      <td>52.899823</td>\n",
       "    </tr>\n",
       "    <tr>\n",
       "      <th>1990-02-28</th>\n",
       "      <td>54.487778</td>\n",
       "    </tr>\n",
       "    <tr>\n",
       "      <th>1990-03-31</th>\n",
       "      <td>54.487778</td>\n",
       "    </tr>\n",
       "    <tr>\n",
       "      <th>1990-04-30</th>\n",
       "      <td>54.487778</td>\n",
       "    </tr>\n",
       "    <tr>\n",
       "      <th>1990-05-31</th>\n",
       "      <td>53.684193</td>\n",
       "    </tr>\n",
       "    <tr>\n",
       "      <th>...</th>\n",
       "      <td>...</td>\n",
       "    </tr>\n",
       "    <tr>\n",
       "      <th>2021-08-31</th>\n",
       "      <td>106.631196</td>\n",
       "    </tr>\n",
       "    <tr>\n",
       "      <th>2021-09-30</th>\n",
       "      <td>106.631196</td>\n",
       "    </tr>\n",
       "    <tr>\n",
       "      <th>2021-10-31</th>\n",
       "      <td>106.631196</td>\n",
       "    </tr>\n",
       "    <tr>\n",
       "      <th>2021-11-30</th>\n",
       "      <td>106.631196</td>\n",
       "    </tr>\n",
       "    <tr>\n",
       "      <th>2021-12-31</th>\n",
       "      <td>106.631196</td>\n",
       "    </tr>\n",
       "  </tbody>\n",
       "</table>\n",
       "<p>384 rows × 1 columns</p>\n",
       "</div>"
      ],
      "text/plain": [
       "              cpi_food\n",
       "date                  \n",
       "1990-01-31   52.899823\n",
       "1990-02-28   54.487778\n",
       "1990-03-31   54.487778\n",
       "1990-04-30   54.487778\n",
       "1990-05-31   53.684193\n",
       "...                ...\n",
       "2021-08-31  106.631196\n",
       "2021-09-30  106.631196\n",
       "2021-10-31  106.631196\n",
       "2021-11-30  106.631196\n",
       "2021-12-31  106.631196\n",
       "\n",
       "[384 rows x 1 columns]"
      ]
     },
     "execution_count": 272,
     "metadata": {},
     "output_type": "execute_result"
    }
   ],
   "source": [
    "df_cpi_food"
   ]
  },
  {
   "cell_type": "markdown",
   "id": "31412b21",
   "metadata": {},
   "source": [
    "# Producer Prices Index: Economic Activities: Total Manufacturing for Australia\n",
    "\n",
    "https://fred.stlouisfed.org/series/PIEAMP01AUQ661N"
   ]
  },
  {
   "cell_type": "code",
   "execution_count": 273,
   "id": "f43b59d6",
   "metadata": {},
   "outputs": [],
   "source": [
    "df_prod_index = pd.read_csv(\"data/aus/cpi/Producer Prices Index Economic Activities Total Manufacturing for Australia.csv\")"
   ]
  },
  {
   "cell_type": "code",
   "execution_count": 274,
   "id": "745074e6",
   "metadata": {},
   "outputs": [],
   "source": [
    "df_prod_index = transform_fred_stlouisfed_quarterlydata(df_prod_index, \"cpi_prod_index\")"
   ]
  },
  {
   "cell_type": "code",
   "execution_count": 275,
   "id": "598574e0",
   "metadata": {},
   "outputs": [
    {
     "data": {
      "text/plain": [
       "cpi_prod_index    0\n",
       "dtype: int64"
      ]
     },
     "execution_count": 275,
     "metadata": {},
     "output_type": "execute_result"
    }
   ],
   "source": [
    "df_prod_index.isnull().sum()"
   ]
  },
  {
   "cell_type": "markdown",
   "id": "911d9cca",
   "metadata": {},
   "source": [
    "## final output"
   ]
  },
  {
   "cell_type": "code",
   "execution_count": 276,
   "id": "c2374d17",
   "metadata": {},
   "outputs": [
    {
     "data": {
      "text/html": [
       "<div>\n",
       "<style scoped>\n",
       "    .dataframe tbody tr th:only-of-type {\n",
       "        vertical-align: middle;\n",
       "    }\n",
       "\n",
       "    .dataframe tbody tr th {\n",
       "        vertical-align: top;\n",
       "    }\n",
       "\n",
       "    .dataframe thead th {\n",
       "        text-align: right;\n",
       "    }\n",
       "</style>\n",
       "<table border=\"1\" class=\"dataframe\">\n",
       "  <thead>\n",
       "    <tr style=\"text-align: right;\">\n",
       "      <th></th>\n",
       "      <th>cpi_prod_index</th>\n",
       "    </tr>\n",
       "    <tr>\n",
       "      <th>date</th>\n",
       "      <th></th>\n",
       "    </tr>\n",
       "  </thead>\n",
       "  <tbody>\n",
       "    <tr>\n",
       "      <th>1990-01-31</th>\n",
       "      <td>56.813266</td>\n",
       "    </tr>\n",
       "    <tr>\n",
       "      <th>1990-02-28</th>\n",
       "      <td>57.486181</td>\n",
       "    </tr>\n",
       "    <tr>\n",
       "      <th>1990-03-31</th>\n",
       "      <td>57.486181</td>\n",
       "    </tr>\n",
       "    <tr>\n",
       "      <th>1990-04-30</th>\n",
       "      <td>57.486181</td>\n",
       "    </tr>\n",
       "    <tr>\n",
       "      <th>1990-05-31</th>\n",
       "      <td>58.159096</td>\n",
       "    </tr>\n",
       "    <tr>\n",
       "      <th>...</th>\n",
       "      <td>...</td>\n",
       "    </tr>\n",
       "    <tr>\n",
       "      <th>2021-08-31</th>\n",
       "      <td>125.642874</td>\n",
       "    </tr>\n",
       "    <tr>\n",
       "      <th>2021-09-30</th>\n",
       "      <td>125.642874</td>\n",
       "    </tr>\n",
       "    <tr>\n",
       "      <th>2021-10-31</th>\n",
       "      <td>125.642874</td>\n",
       "    </tr>\n",
       "    <tr>\n",
       "      <th>2021-11-30</th>\n",
       "      <td>125.642874</td>\n",
       "    </tr>\n",
       "    <tr>\n",
       "      <th>2021-12-31</th>\n",
       "      <td>125.642874</td>\n",
       "    </tr>\n",
       "  </tbody>\n",
       "</table>\n",
       "<p>384 rows × 1 columns</p>\n",
       "</div>"
      ],
      "text/plain": [
       "            cpi_prod_index\n",
       "date                      \n",
       "1990-01-31       56.813266\n",
       "1990-02-28       57.486181\n",
       "1990-03-31       57.486181\n",
       "1990-04-30       57.486181\n",
       "1990-05-31       58.159096\n",
       "...                    ...\n",
       "2021-08-31      125.642874\n",
       "2021-09-30      125.642874\n",
       "2021-10-31      125.642874\n",
       "2021-11-30      125.642874\n",
       "2021-12-31      125.642874\n",
       "\n",
       "[384 rows x 1 columns]"
      ]
     },
     "execution_count": 276,
     "metadata": {},
     "output_type": "execute_result"
    }
   ],
   "source": [
    "df_prod_index"
   ]
  },
  {
   "cell_type": "markdown",
   "id": "841c0e2f",
   "metadata": {},
   "source": [
    "# Australian petrol and diesel\n",
    "\n",
    "\n",
    "https://www.fuelwatch.wa.gov.au/retail/monthly"
   ]
  },
  {
   "cell_type": "code",
   "execution_count": 277,
   "id": "1afecb6f",
   "metadata": {},
   "outputs": [],
   "source": [
    "# This  csv file was manually preprocessed from two xlsx files from fuel watch that contained the \n",
    "# historical petrol and diesel prices for Australia\n",
    "# Monthly-Diesel-prices-Metro-199901-202205.csv & Monthly-ULP-prices-Metro-199901-202205.csv\n",
    "df_aus_fuel = pd.read_csv(\"data/aus/fuel/aus_petrol_diesel_prices_2001-2022.csv\")"
   ]
  },
  {
   "cell_type": "code",
   "execution_count": 278,
   "id": "afb5d5f3",
   "metadata": {},
   "outputs": [
    {
     "data": {
      "text/html": [
       "<div>\n",
       "<style scoped>\n",
       "    .dataframe tbody tr th:only-of-type {\n",
       "        vertical-align: middle;\n",
       "    }\n",
       "\n",
       "    .dataframe tbody tr th {\n",
       "        vertical-align: top;\n",
       "    }\n",
       "\n",
       "    .dataframe thead th {\n",
       "        text-align: right;\n",
       "    }\n",
       "</style>\n",
       "<table border=\"1\" class=\"dataframe\">\n",
       "  <thead>\n",
       "    <tr style=\"text-align: right;\">\n",
       "      <th></th>\n",
       "      <th>month</th>\n",
       "      <th>diesel</th>\n",
       "      <th>petrol</th>\n",
       "    </tr>\n",
       "  </thead>\n",
       "  <tbody>\n",
       "    <tr>\n",
       "      <th>0</th>\n",
       "      <td>May-22</td>\n",
       "      <td>194.5</td>\n",
       "      <td>173.2</td>\n",
       "    </tr>\n",
       "    <tr>\n",
       "      <th>1</th>\n",
       "      <td>Apr-22</td>\n",
       "      <td>192.7</td>\n",
       "      <td>168.8</td>\n",
       "    </tr>\n",
       "    <tr>\n",
       "      <th>2</th>\n",
       "      <td>Mar-22</td>\n",
       "      <td>207.4</td>\n",
       "      <td>198.2</td>\n",
       "    </tr>\n",
       "    <tr>\n",
       "      <th>3</th>\n",
       "      <td>Feb-22</td>\n",
       "      <td>176.5</td>\n",
       "      <td>178.6</td>\n",
       "    </tr>\n",
       "    <tr>\n",
       "      <th>4</th>\n",
       "      <td>Jan-22</td>\n",
       "      <td>164.6</td>\n",
       "      <td>167.0</td>\n",
       "    </tr>\n",
       "    <tr>\n",
       "      <th>...</th>\n",
       "      <td>...</td>\n",
       "      <td>...</td>\n",
       "      <td>...</td>\n",
       "    </tr>\n",
       "    <tr>\n",
       "      <th>276</th>\n",
       "      <td>May-99</td>\n",
       "      <td>NaN</td>\n",
       "      <td>NaN</td>\n",
       "    </tr>\n",
       "    <tr>\n",
       "      <th>277</th>\n",
       "      <td>Apr-99</td>\n",
       "      <td>NaN</td>\n",
       "      <td>NaN</td>\n",
       "    </tr>\n",
       "    <tr>\n",
       "      <th>278</th>\n",
       "      <td>Mar-99</td>\n",
       "      <td>NaN</td>\n",
       "      <td>NaN</td>\n",
       "    </tr>\n",
       "    <tr>\n",
       "      <th>279</th>\n",
       "      <td>Feb-99</td>\n",
       "      <td>NaN</td>\n",
       "      <td>NaN</td>\n",
       "    </tr>\n",
       "    <tr>\n",
       "      <th>280</th>\n",
       "      <td>Jan-99</td>\n",
       "      <td>NaN</td>\n",
       "      <td>NaN</td>\n",
       "    </tr>\n",
       "  </tbody>\n",
       "</table>\n",
       "<p>281 rows × 3 columns</p>\n",
       "</div>"
      ],
      "text/plain": [
       "      month  diesel  petrol\n",
       "0    May-22   194.5   173.2\n",
       "1    Apr-22   192.7   168.8\n",
       "2    Mar-22   207.4   198.2\n",
       "3    Feb-22   176.5   178.6\n",
       "4    Jan-22   164.6   167.0\n",
       "..      ...     ...     ...\n",
       "276  May-99     NaN     NaN\n",
       "277  Apr-99     NaN     NaN\n",
       "278  Mar-99     NaN     NaN\n",
       "279  Feb-99     NaN     NaN\n",
       "280  Jan-99     NaN     NaN\n",
       "\n",
       "[281 rows x 3 columns]"
      ]
     },
     "execution_count": 278,
     "metadata": {},
     "output_type": "execute_result"
    }
   ],
   "source": [
    "# prices are AUD and cost per litre\n",
    "df_aus_fuel"
   ]
  },
  {
   "cell_type": "code",
   "execution_count": 279,
   "id": "04d276ec",
   "metadata": {},
   "outputs": [
    {
     "name": "stdout",
     "output_type": "stream",
     "text": [
      "<class 'pandas.core.frame.DataFrame'>\n",
      "RangeIndex: 281 entries, 0 to 280\n",
      "Data columns (total 3 columns):\n",
      " #   Column  Non-Null Count  Dtype  \n",
      "---  ------  --------------  -----  \n",
      " 0   month   281 non-null    object \n",
      " 1   diesel  257 non-null    float64\n",
      " 2   petrol  257 non-null    float64\n",
      "dtypes: float64(2), object(1)\n",
      "memory usage: 6.7+ KB\n"
     ]
    }
   ],
   "source": [
    "df_aus_fuel.info()"
   ]
  },
  {
   "cell_type": "code",
   "execution_count": 280,
   "id": "13f378f8",
   "metadata": {},
   "outputs": [],
   "source": [
    "df_aus_fuel[\"month\"] = pd.to_datetime(df_aus_fuel[\"month\"], format='%b-%y') + MonthEnd(1)"
   ]
  },
  {
   "cell_type": "code",
   "execution_count": 281,
   "id": "6c341f82",
   "metadata": {},
   "outputs": [
    {
     "data": {
      "text/html": [
       "<div>\n",
       "<style scoped>\n",
       "    .dataframe tbody tr th:only-of-type {\n",
       "        vertical-align: middle;\n",
       "    }\n",
       "\n",
       "    .dataframe tbody tr th {\n",
       "        vertical-align: top;\n",
       "    }\n",
       "\n",
       "    .dataframe thead th {\n",
       "        text-align: right;\n",
       "    }\n",
       "</style>\n",
       "<table border=\"1\" class=\"dataframe\">\n",
       "  <thead>\n",
       "    <tr style=\"text-align: right;\">\n",
       "      <th></th>\n",
       "      <th>month</th>\n",
       "      <th>diesel</th>\n",
       "      <th>petrol</th>\n",
       "    </tr>\n",
       "  </thead>\n",
       "  <tbody>\n",
       "    <tr>\n",
       "      <th>0</th>\n",
       "      <td>2022-05-31</td>\n",
       "      <td>194.5</td>\n",
       "      <td>173.2</td>\n",
       "    </tr>\n",
       "    <tr>\n",
       "      <th>1</th>\n",
       "      <td>2022-04-30</td>\n",
       "      <td>192.7</td>\n",
       "      <td>168.8</td>\n",
       "    </tr>\n",
       "    <tr>\n",
       "      <th>2</th>\n",
       "      <td>2022-03-31</td>\n",
       "      <td>207.4</td>\n",
       "      <td>198.2</td>\n",
       "    </tr>\n",
       "    <tr>\n",
       "      <th>3</th>\n",
       "      <td>2022-02-28</td>\n",
       "      <td>176.5</td>\n",
       "      <td>178.6</td>\n",
       "    </tr>\n",
       "    <tr>\n",
       "      <th>4</th>\n",
       "      <td>2022-01-31</td>\n",
       "      <td>164.6</td>\n",
       "      <td>167.0</td>\n",
       "    </tr>\n",
       "    <tr>\n",
       "      <th>...</th>\n",
       "      <td>...</td>\n",
       "      <td>...</td>\n",
       "      <td>...</td>\n",
       "    </tr>\n",
       "    <tr>\n",
       "      <th>276</th>\n",
       "      <td>1999-05-31</td>\n",
       "      <td>NaN</td>\n",
       "      <td>NaN</td>\n",
       "    </tr>\n",
       "    <tr>\n",
       "      <th>277</th>\n",
       "      <td>1999-04-30</td>\n",
       "      <td>NaN</td>\n",
       "      <td>NaN</td>\n",
       "    </tr>\n",
       "    <tr>\n",
       "      <th>278</th>\n",
       "      <td>1999-03-31</td>\n",
       "      <td>NaN</td>\n",
       "      <td>NaN</td>\n",
       "    </tr>\n",
       "    <tr>\n",
       "      <th>279</th>\n",
       "      <td>1999-02-28</td>\n",
       "      <td>NaN</td>\n",
       "      <td>NaN</td>\n",
       "    </tr>\n",
       "    <tr>\n",
       "      <th>280</th>\n",
       "      <td>1999-01-31</td>\n",
       "      <td>NaN</td>\n",
       "      <td>NaN</td>\n",
       "    </tr>\n",
       "  </tbody>\n",
       "</table>\n",
       "<p>281 rows × 3 columns</p>\n",
       "</div>"
      ],
      "text/plain": [
       "         month  diesel  petrol\n",
       "0   2022-05-31   194.5   173.2\n",
       "1   2022-04-30   192.7   168.8\n",
       "2   2022-03-31   207.4   198.2\n",
       "3   2022-02-28   176.5   178.6\n",
       "4   2022-01-31   164.6   167.0\n",
       "..         ...     ...     ...\n",
       "276 1999-05-31     NaN     NaN\n",
       "277 1999-04-30     NaN     NaN\n",
       "278 1999-03-31     NaN     NaN\n",
       "279 1999-02-28     NaN     NaN\n",
       "280 1999-01-31     NaN     NaN\n",
       "\n",
       "[281 rows x 3 columns]"
      ]
     },
     "execution_count": 281,
     "metadata": {},
     "output_type": "execute_result"
    }
   ],
   "source": [
    "df_aus_fuel"
   ]
  },
  {
   "cell_type": "code",
   "execution_count": 282,
   "id": "f3ff7932",
   "metadata": {},
   "outputs": [],
   "source": [
    "df_aus_fuel = df_aus_fuel.set_index(\"month\")"
   ]
  },
  {
   "cell_type": "code",
   "execution_count": 283,
   "id": "75051093",
   "metadata": {},
   "outputs": [
    {
     "data": {
      "text/html": [
       "<div>\n",
       "<style scoped>\n",
       "    .dataframe tbody tr th:only-of-type {\n",
       "        vertical-align: middle;\n",
       "    }\n",
       "\n",
       "    .dataframe tbody tr th {\n",
       "        vertical-align: top;\n",
       "    }\n",
       "\n",
       "    .dataframe thead th {\n",
       "        text-align: right;\n",
       "    }\n",
       "</style>\n",
       "<table border=\"1\" class=\"dataframe\">\n",
       "  <thead>\n",
       "    <tr style=\"text-align: right;\">\n",
       "      <th></th>\n",
       "      <th>diesel</th>\n",
       "      <th>petrol</th>\n",
       "    </tr>\n",
       "    <tr>\n",
       "      <th>month</th>\n",
       "      <th></th>\n",
       "      <th></th>\n",
       "    </tr>\n",
       "  </thead>\n",
       "  <tbody>\n",
       "    <tr>\n",
       "      <th>2022-05-31</th>\n",
       "      <td>194.5</td>\n",
       "      <td>173.2</td>\n",
       "    </tr>\n",
       "    <tr>\n",
       "      <th>2022-04-30</th>\n",
       "      <td>192.7</td>\n",
       "      <td>168.8</td>\n",
       "    </tr>\n",
       "    <tr>\n",
       "      <th>2022-03-31</th>\n",
       "      <td>207.4</td>\n",
       "      <td>198.2</td>\n",
       "    </tr>\n",
       "    <tr>\n",
       "      <th>2022-02-28</th>\n",
       "      <td>176.5</td>\n",
       "      <td>178.6</td>\n",
       "    </tr>\n",
       "    <tr>\n",
       "      <th>2022-01-31</th>\n",
       "      <td>164.6</td>\n",
       "      <td>167.0</td>\n",
       "    </tr>\n",
       "    <tr>\n",
       "      <th>...</th>\n",
       "      <td>...</td>\n",
       "      <td>...</td>\n",
       "    </tr>\n",
       "    <tr>\n",
       "      <th>1999-05-31</th>\n",
       "      <td>NaN</td>\n",
       "      <td>NaN</td>\n",
       "    </tr>\n",
       "    <tr>\n",
       "      <th>1999-04-30</th>\n",
       "      <td>NaN</td>\n",
       "      <td>NaN</td>\n",
       "    </tr>\n",
       "    <tr>\n",
       "      <th>1999-03-31</th>\n",
       "      <td>NaN</td>\n",
       "      <td>NaN</td>\n",
       "    </tr>\n",
       "    <tr>\n",
       "      <th>1999-02-28</th>\n",
       "      <td>NaN</td>\n",
       "      <td>NaN</td>\n",
       "    </tr>\n",
       "    <tr>\n",
       "      <th>1999-01-31</th>\n",
       "      <td>NaN</td>\n",
       "      <td>NaN</td>\n",
       "    </tr>\n",
       "  </tbody>\n",
       "</table>\n",
       "<p>281 rows × 2 columns</p>\n",
       "</div>"
      ],
      "text/plain": [
       "            diesel  petrol\n",
       "month                     \n",
       "2022-05-31   194.5   173.2\n",
       "2022-04-30   192.7   168.8\n",
       "2022-03-31   207.4   198.2\n",
       "2022-02-28   176.5   178.6\n",
       "2022-01-31   164.6   167.0\n",
       "...            ...     ...\n",
       "1999-05-31     NaN     NaN\n",
       "1999-04-30     NaN     NaN\n",
       "1999-03-31     NaN     NaN\n",
       "1999-02-28     NaN     NaN\n",
       "1999-01-31     NaN     NaN\n",
       "\n",
       "[281 rows x 2 columns]"
      ]
     },
     "execution_count": 283,
     "metadata": {},
     "output_type": "execute_result"
    }
   ],
   "source": [
    "df_aus_fuel"
   ]
  },
  {
   "cell_type": "code",
   "execution_count": 284,
   "id": "71c67b42",
   "metadata": {},
   "outputs": [],
   "source": [
    "df_aus_fuel['diesel'] = df_aus_fuel['diesel'].interpolate(method='linear')"
   ]
  },
  {
   "cell_type": "code",
   "execution_count": 285,
   "id": "ef2f5353",
   "metadata": {},
   "outputs": [],
   "source": [
    "df_aus_fuel['petrol'] = df_aus_fuel['petrol'].interpolate(method='linear')"
   ]
  },
  {
   "cell_type": "code",
   "execution_count": 286,
   "id": "aff618c4",
   "metadata": {},
   "outputs": [
    {
     "data": {
      "text/html": [
       "<div>\n",
       "<style scoped>\n",
       "    .dataframe tbody tr th:only-of-type {\n",
       "        vertical-align: middle;\n",
       "    }\n",
       "\n",
       "    .dataframe tbody tr th {\n",
       "        vertical-align: top;\n",
       "    }\n",
       "\n",
       "    .dataframe thead th {\n",
       "        text-align: right;\n",
       "    }\n",
       "</style>\n",
       "<table border=\"1\" class=\"dataframe\">\n",
       "  <thead>\n",
       "    <tr style=\"text-align: right;\">\n",
       "      <th></th>\n",
       "      <th>diesel</th>\n",
       "      <th>petrol</th>\n",
       "    </tr>\n",
       "    <tr>\n",
       "      <th>month</th>\n",
       "      <th></th>\n",
       "      <th></th>\n",
       "    </tr>\n",
       "  </thead>\n",
       "  <tbody>\n",
       "    <tr>\n",
       "      <th>2022-05-31</th>\n",
       "      <td>194.5</td>\n",
       "      <td>173.2</td>\n",
       "    </tr>\n",
       "    <tr>\n",
       "      <th>2022-04-30</th>\n",
       "      <td>192.7</td>\n",
       "      <td>168.8</td>\n",
       "    </tr>\n",
       "    <tr>\n",
       "      <th>2022-03-31</th>\n",
       "      <td>207.4</td>\n",
       "      <td>198.2</td>\n",
       "    </tr>\n",
       "    <tr>\n",
       "      <th>2022-02-28</th>\n",
       "      <td>176.5</td>\n",
       "      <td>178.6</td>\n",
       "    </tr>\n",
       "    <tr>\n",
       "      <th>2022-01-31</th>\n",
       "      <td>164.6</td>\n",
       "      <td>167.0</td>\n",
       "    </tr>\n",
       "    <tr>\n",
       "      <th>...</th>\n",
       "      <td>...</td>\n",
       "      <td>...</td>\n",
       "    </tr>\n",
       "    <tr>\n",
       "      <th>1999-05-31</th>\n",
       "      <td>93.8</td>\n",
       "      <td>85.0</td>\n",
       "    </tr>\n",
       "    <tr>\n",
       "      <th>1999-04-30</th>\n",
       "      <td>93.8</td>\n",
       "      <td>85.0</td>\n",
       "    </tr>\n",
       "    <tr>\n",
       "      <th>1999-03-31</th>\n",
       "      <td>93.8</td>\n",
       "      <td>85.0</td>\n",
       "    </tr>\n",
       "    <tr>\n",
       "      <th>1999-02-28</th>\n",
       "      <td>93.8</td>\n",
       "      <td>85.0</td>\n",
       "    </tr>\n",
       "    <tr>\n",
       "      <th>1999-01-31</th>\n",
       "      <td>93.8</td>\n",
       "      <td>85.0</td>\n",
       "    </tr>\n",
       "  </tbody>\n",
       "</table>\n",
       "<p>281 rows × 2 columns</p>\n",
       "</div>"
      ],
      "text/plain": [
       "            diesel  petrol\n",
       "month                     \n",
       "2022-05-31   194.5   173.2\n",
       "2022-04-30   192.7   168.8\n",
       "2022-03-31   207.4   198.2\n",
       "2022-02-28   176.5   178.6\n",
       "2022-01-31   164.6   167.0\n",
       "...            ...     ...\n",
       "1999-05-31    93.8    85.0\n",
       "1999-04-30    93.8    85.0\n",
       "1999-03-31    93.8    85.0\n",
       "1999-02-28    93.8    85.0\n",
       "1999-01-31    93.8    85.0\n",
       "\n",
       "[281 rows x 2 columns]"
      ]
     },
     "execution_count": 286,
     "metadata": {},
     "output_type": "execute_result"
    }
   ],
   "source": [
    "df_aus_fuel"
   ]
  },
  {
   "cell_type": "code",
   "execution_count": 287,
   "id": "7298b680",
   "metadata": {},
   "outputs": [
    {
     "data": {
      "text/plain": [
       "diesel    0\n",
       "petrol    0\n",
       "dtype: int64"
      ]
     },
     "execution_count": 287,
     "metadata": {},
     "output_type": "execute_result"
    }
   ],
   "source": [
    "df_aus_fuel.isnull().sum()"
   ]
  },
  {
   "cell_type": "code",
   "execution_count": 288,
   "id": "2e1232ee",
   "metadata": {},
   "outputs": [],
   "source": [
    "df_aus_fuel.sort_values(by=['month'], inplace=True, ascending=True)"
   ]
  },
  {
   "cell_type": "markdown",
   "id": "260087a6",
   "metadata": {},
   "source": [
    "## final output"
   ]
  },
  {
   "cell_type": "code",
   "execution_count": 289,
   "id": "01cce3f8",
   "metadata": {},
   "outputs": [
    {
     "data": {
      "text/html": [
       "<div>\n",
       "<style scoped>\n",
       "    .dataframe tbody tr th:only-of-type {\n",
       "        vertical-align: middle;\n",
       "    }\n",
       "\n",
       "    .dataframe tbody tr th {\n",
       "        vertical-align: top;\n",
       "    }\n",
       "\n",
       "    .dataframe thead th {\n",
       "        text-align: right;\n",
       "    }\n",
       "</style>\n",
       "<table border=\"1\" class=\"dataframe\">\n",
       "  <thead>\n",
       "    <tr style=\"text-align: right;\">\n",
       "      <th></th>\n",
       "      <th>diesel</th>\n",
       "      <th>petrol</th>\n",
       "    </tr>\n",
       "    <tr>\n",
       "      <th>month</th>\n",
       "      <th></th>\n",
       "      <th></th>\n",
       "    </tr>\n",
       "  </thead>\n",
       "  <tbody>\n",
       "    <tr>\n",
       "      <th>1999-01-31</th>\n",
       "      <td>93.8</td>\n",
       "      <td>85.0</td>\n",
       "    </tr>\n",
       "    <tr>\n",
       "      <th>1999-02-28</th>\n",
       "      <td>93.8</td>\n",
       "      <td>85.0</td>\n",
       "    </tr>\n",
       "    <tr>\n",
       "      <th>1999-03-31</th>\n",
       "      <td>93.8</td>\n",
       "      <td>85.0</td>\n",
       "    </tr>\n",
       "    <tr>\n",
       "      <th>1999-04-30</th>\n",
       "      <td>93.8</td>\n",
       "      <td>85.0</td>\n",
       "    </tr>\n",
       "    <tr>\n",
       "      <th>1999-05-31</th>\n",
       "      <td>93.8</td>\n",
       "      <td>85.0</td>\n",
       "    </tr>\n",
       "    <tr>\n",
       "      <th>...</th>\n",
       "      <td>...</td>\n",
       "      <td>...</td>\n",
       "    </tr>\n",
       "    <tr>\n",
       "      <th>2022-01-31</th>\n",
       "      <td>164.6</td>\n",
       "      <td>167.0</td>\n",
       "    </tr>\n",
       "    <tr>\n",
       "      <th>2022-02-28</th>\n",
       "      <td>176.5</td>\n",
       "      <td>178.6</td>\n",
       "    </tr>\n",
       "    <tr>\n",
       "      <th>2022-03-31</th>\n",
       "      <td>207.4</td>\n",
       "      <td>198.2</td>\n",
       "    </tr>\n",
       "    <tr>\n",
       "      <th>2022-04-30</th>\n",
       "      <td>192.7</td>\n",
       "      <td>168.8</td>\n",
       "    </tr>\n",
       "    <tr>\n",
       "      <th>2022-05-31</th>\n",
       "      <td>194.5</td>\n",
       "      <td>173.2</td>\n",
       "    </tr>\n",
       "  </tbody>\n",
       "</table>\n",
       "<p>281 rows × 2 columns</p>\n",
       "</div>"
      ],
      "text/plain": [
       "            diesel  petrol\n",
       "month                     \n",
       "1999-01-31    93.8    85.0\n",
       "1999-02-28    93.8    85.0\n",
       "1999-03-31    93.8    85.0\n",
       "1999-04-30    93.8    85.0\n",
       "1999-05-31    93.8    85.0\n",
       "...            ...     ...\n",
       "2022-01-31   164.6   167.0\n",
       "2022-02-28   176.5   178.6\n",
       "2022-03-31   207.4   198.2\n",
       "2022-04-30   192.7   168.8\n",
       "2022-05-31   194.5   173.2\n",
       "\n",
       "[281 rows x 2 columns]"
      ]
     },
     "execution_count": 289,
     "metadata": {},
     "output_type": "execute_result"
    }
   ],
   "source": [
    "df_aus_fuel"
   ]
  },
  {
   "cell_type": "markdown",
   "id": "e02ae3d9",
   "metadata": {},
   "source": [
    "# COLLATE ALL DATAFRAMES TOGETHER"
   ]
  },
  {
   "cell_type": "markdown",
   "id": "675e2d2f",
   "metadata": {},
   "source": [
    "## merge Australian beef and meat consumption"
   ]
  },
  {
   "cell_type": "code",
   "execution_count": 290,
   "id": "db37b11c",
   "metadata": {},
   "outputs": [],
   "source": [
    "df_final= pd.merge(df_beef_aus, df_meat_consumption_aus_monthly, how='inner', left_index=True, right_index=True)"
   ]
  },
  {
   "cell_type": "code",
   "execution_count": 291,
   "id": "ea0afaa8",
   "metadata": {},
   "outputs": [
    {
     "data": {
      "text/plain": [
       "0"
      ]
     },
     "execution_count": 291,
     "metadata": {},
     "output_type": "execute_result"
    }
   ],
   "source": [
    "df_final.isnull().sum().sum()"
   ]
  },
  {
   "cell_type": "code",
   "execution_count": 292,
   "id": "5b0088af",
   "metadata": {},
   "outputs": [
    {
     "data": {
      "text/plain": [
       "(276, 2)"
      ]
     },
     "execution_count": 292,
     "metadata": {},
     "output_type": "execute_result"
    }
   ],
   "source": [
    "df_final.shape"
   ]
  },
  {
   "cell_type": "code",
   "execution_count": 293,
   "id": "dacdfb6a",
   "metadata": {},
   "outputs": [
    {
     "data": {
      "text/html": [
       "<div>\n",
       "<style scoped>\n",
       "    .dataframe tbody tr th:only-of-type {\n",
       "        vertical-align: middle;\n",
       "    }\n",
       "\n",
       "    .dataframe tbody tr th {\n",
       "        vertical-align: top;\n",
       "    }\n",
       "\n",
       "    .dataframe thead th {\n",
       "        text-align: right;\n",
       "    }\n",
       "</style>\n",
       "<table border=\"1\" class=\"dataframe\">\n",
       "  <thead>\n",
       "    <tr style=\"text-align: right;\">\n",
       "      <th></th>\n",
       "      <th>beef_per_kg</th>\n",
       "      <th>meat_consumption</th>\n",
       "    </tr>\n",
       "    <tr>\n",
       "      <th>month</th>\n",
       "      <th></th>\n",
       "      <th></th>\n",
       "    </tr>\n",
       "  </thead>\n",
       "  <tbody>\n",
       "    <tr>\n",
       "      <th>1999-01-31</th>\n",
       "      <td>2.71</td>\n",
       "      <td>61.833333</td>\n",
       "    </tr>\n",
       "    <tr>\n",
       "      <th>1999-02-28</th>\n",
       "      <td>2.80</td>\n",
       "      <td>61.833333</td>\n",
       "    </tr>\n",
       "    <tr>\n",
       "      <th>1999-03-31</th>\n",
       "      <td>2.79</td>\n",
       "      <td>61.833333</td>\n",
       "    </tr>\n",
       "    <tr>\n",
       "      <th>1999-04-30</th>\n",
       "      <td>2.68</td>\n",
       "      <td>61.833333</td>\n",
       "    </tr>\n",
       "    <tr>\n",
       "      <th>1999-05-31</th>\n",
       "      <td>2.61</td>\n",
       "      <td>61.833333</td>\n",
       "    </tr>\n",
       "    <tr>\n",
       "      <th>...</th>\n",
       "      <td>...</td>\n",
       "      <td>...</td>\n",
       "    </tr>\n",
       "    <tr>\n",
       "      <th>2021-08-31</th>\n",
       "      <td>7.69</td>\n",
       "      <td>50.416667</td>\n",
       "    </tr>\n",
       "    <tr>\n",
       "      <th>2021-09-30</th>\n",
       "      <td>7.75</td>\n",
       "      <td>50.416667</td>\n",
       "    </tr>\n",
       "    <tr>\n",
       "      <th>2021-10-31</th>\n",
       "      <td>7.70</td>\n",
       "      <td>50.416667</td>\n",
       "    </tr>\n",
       "    <tr>\n",
       "      <th>2021-11-30</th>\n",
       "      <td>8.12</td>\n",
       "      <td>50.416667</td>\n",
       "    </tr>\n",
       "    <tr>\n",
       "      <th>2021-12-31</th>\n",
       "      <td>8.35</td>\n",
       "      <td>50.416667</td>\n",
       "    </tr>\n",
       "  </tbody>\n",
       "</table>\n",
       "<p>276 rows × 2 columns</p>\n",
       "</div>"
      ],
      "text/plain": [
       "            beef_per_kg  meat_consumption\n",
       "month                                    \n",
       "1999-01-31         2.71         61.833333\n",
       "1999-02-28         2.80         61.833333\n",
       "1999-03-31         2.79         61.833333\n",
       "1999-04-30         2.68         61.833333\n",
       "1999-05-31         2.61         61.833333\n",
       "...                 ...               ...\n",
       "2021-08-31         7.69         50.416667\n",
       "2021-09-30         7.75         50.416667\n",
       "2021-10-31         7.70         50.416667\n",
       "2021-11-30         8.12         50.416667\n",
       "2021-12-31         8.35         50.416667\n",
       "\n",
       "[276 rows x 2 columns]"
      ]
     },
     "execution_count": 293,
     "metadata": {},
     "output_type": "execute_result"
    }
   ],
   "source": [
    "df_final"
   ]
  },
  {
   "cell_type": "markdown",
   "id": "8695e736",
   "metadata": {},
   "source": [
    "## merge Australian beef and meat exports"
   ]
  },
  {
   "cell_type": "code",
   "execution_count": 294,
   "id": "ad3df9fa",
   "metadata": {},
   "outputs": [],
   "source": [
    "df_final= pd.merge(df_final, df_exports_aus_M, how='inner', left_index=True, right_index=True)"
   ]
  },
  {
   "cell_type": "code",
   "execution_count": 295,
   "id": "af5650ca",
   "metadata": {},
   "outputs": [
    {
     "data": {
      "text/plain": [
       "0"
      ]
     },
     "execution_count": 295,
     "metadata": {},
     "output_type": "execute_result"
    }
   ],
   "source": [
    "df_final.isnull().sum().sum()"
   ]
  },
  {
   "cell_type": "code",
   "execution_count": 296,
   "id": "a0b47db2",
   "metadata": {},
   "outputs": [
    {
     "data": {
      "text/plain": [
       "(276, 3)"
      ]
     },
     "execution_count": 296,
     "metadata": {},
     "output_type": "execute_result"
    }
   ],
   "source": [
    "df_final.shape"
   ]
  },
  {
   "cell_type": "markdown",
   "id": "ead70a4b",
   "metadata": {},
   "source": [
    "## merge in meat imports"
   ]
  },
  {
   "cell_type": "code",
   "execution_count": 297,
   "id": "18fc3bf5",
   "metadata": {},
   "outputs": [],
   "source": [
    "df_final= pd.merge(df_final, df_imports_aus_M, how='inner', left_index=True, right_index=True)"
   ]
  },
  {
   "cell_type": "code",
   "execution_count": 298,
   "id": "9c07725a",
   "metadata": {},
   "outputs": [
    {
     "data": {
      "text/plain": [
       "0"
      ]
     },
     "execution_count": 298,
     "metadata": {},
     "output_type": "execute_result"
    }
   ],
   "source": [
    "df_final.isnull().sum().sum()"
   ]
  },
  {
   "cell_type": "code",
   "execution_count": 299,
   "id": "c0c7b555",
   "metadata": {},
   "outputs": [
    {
     "data": {
      "text/plain": [
       "(276, 4)"
      ]
     },
     "execution_count": 299,
     "metadata": {},
     "output_type": "execute_result"
    }
   ],
   "source": [
    "df_final.shape"
   ]
  },
  {
   "cell_type": "markdown",
   "id": "60f6c340",
   "metadata": {},
   "source": [
    "## merge in total distribution"
   ]
  },
  {
   "cell_type": "code",
   "execution_count": 300,
   "id": "33994fa5",
   "metadata": {},
   "outputs": [],
   "source": [
    "df_final= pd.merge(df_final, df_meat_dist_aus_M, how='inner', left_index=True, right_index=True)"
   ]
  },
  {
   "cell_type": "code",
   "execution_count": 301,
   "id": "94cb7572",
   "metadata": {},
   "outputs": [
    {
     "data": {
      "text/plain": [
       "0"
      ]
     },
     "execution_count": 301,
     "metadata": {},
     "output_type": "execute_result"
    }
   ],
   "source": [
    "df_final.isnull().sum().sum()"
   ]
  },
  {
   "cell_type": "code",
   "execution_count": 302,
   "id": "ed071923",
   "metadata": {},
   "outputs": [
    {
     "data": {
      "text/plain": [
       "(276, 5)"
      ]
     },
     "execution_count": 302,
     "metadata": {},
     "output_type": "execute_result"
    }
   ],
   "source": [
    "df_final.shape"
   ]
  },
  {
   "cell_type": "markdown",
   "id": "d484b194",
   "metadata": {},
   "source": [
    "## merge in meat supply"
   ]
  },
  {
   "cell_type": "code",
   "execution_count": 303,
   "id": "0f55d73e",
   "metadata": {},
   "outputs": [],
   "source": [
    "df_final= pd.merge(df_final, df_beef_supply_aus_M, how='inner', left_index=True, right_index=True)"
   ]
  },
  {
   "cell_type": "code",
   "execution_count": 304,
   "id": "aeeccb3a",
   "metadata": {},
   "outputs": [
    {
     "data": {
      "text/plain": [
       "0"
      ]
     },
     "execution_count": 304,
     "metadata": {},
     "output_type": "execute_result"
    }
   ],
   "source": [
    "df_final.isnull().sum().sum()"
   ]
  },
  {
   "cell_type": "code",
   "execution_count": 305,
   "id": "b29d1606",
   "metadata": {},
   "outputs": [
    {
     "data": {
      "text/plain": [
       "(276, 6)"
      ]
     },
     "execution_count": 305,
     "metadata": {},
     "output_type": "execute_result"
    }
   ],
   "source": [
    "df_final.shape"
   ]
  },
  {
   "cell_type": "markdown",
   "id": "58b58ddd",
   "metadata": {},
   "source": [
    "## merge in cattle production"
   ]
  },
  {
   "cell_type": "code",
   "execution_count": 306,
   "id": "6534aab6",
   "metadata": {},
   "outputs": [],
   "source": [
    "df_final= pd.merge(df_final, df_cattle_production_aus_M, how='inner', left_index=True, right_index=True)"
   ]
  },
  {
   "cell_type": "code",
   "execution_count": 307,
   "id": "d705b4d2",
   "metadata": {},
   "outputs": [
    {
     "data": {
      "text/plain": [
       "0"
      ]
     },
     "execution_count": 307,
     "metadata": {},
     "output_type": "execute_result"
    }
   ],
   "source": [
    "df_final.isnull().sum().sum()"
   ]
  },
  {
   "cell_type": "code",
   "execution_count": 308,
   "id": "c07ea5c4",
   "metadata": {},
   "outputs": [
    {
     "data": {
      "text/plain": [
       "(276, 7)"
      ]
     },
     "execution_count": 308,
     "metadata": {},
     "output_type": "execute_result"
    }
   ],
   "source": [
    "df_final.shape"
   ]
  },
  {
   "cell_type": "markdown",
   "id": "5f7d6449",
   "metadata": {},
   "source": [
    "## merge in swine animal count production"
   ]
  },
  {
   "cell_type": "code",
   "execution_count": 309,
   "id": "02908017",
   "metadata": {},
   "outputs": [],
   "source": [
    "df_final= pd.merge(df_final, df_swine_production_aus_M, how='inner', left_index=True, right_index=True)"
   ]
  },
  {
   "cell_type": "code",
   "execution_count": 310,
   "id": "a52d723c",
   "metadata": {},
   "outputs": [
    {
     "data": {
      "text/plain": [
       "0"
      ]
     },
     "execution_count": 310,
     "metadata": {},
     "output_type": "execute_result"
    }
   ],
   "source": [
    "df_final.isnull().sum().sum()"
   ]
  },
  {
   "cell_type": "code",
   "execution_count": 311,
   "id": "96899d7c",
   "metadata": {},
   "outputs": [
    {
     "data": {
      "text/plain": [
       "(276, 8)"
      ]
     },
     "execution_count": 311,
     "metadata": {},
     "output_type": "execute_result"
    }
   ],
   "source": [
    "df_final.shape"
   ]
  },
  {
   "cell_type": "markdown",
   "id": "d2858eed",
   "metadata": {},
   "source": [
    "## merge in barley production"
   ]
  },
  {
   "cell_type": "code",
   "execution_count": 312,
   "id": "c5fa827f",
   "metadata": {},
   "outputs": [],
   "source": [
    "df_final= pd.merge(df_final, df_barley_production_aus_M, how='inner', left_index=True, right_index=True)"
   ]
  },
  {
   "cell_type": "code",
   "execution_count": 313,
   "id": "5196d322",
   "metadata": {},
   "outputs": [
    {
     "data": {
      "text/plain": [
       "0"
      ]
     },
     "execution_count": 313,
     "metadata": {},
     "output_type": "execute_result"
    }
   ],
   "source": [
    "df_final.isnull().sum().sum()"
   ]
  },
  {
   "cell_type": "code",
   "execution_count": 314,
   "id": "d2de3ff6",
   "metadata": {},
   "outputs": [
    {
     "data": {
      "text/plain": [
       "(276, 9)"
      ]
     },
     "execution_count": 314,
     "metadata": {},
     "output_type": "execute_result"
    }
   ],
   "source": [
    "df_final.shape"
   ]
  },
  {
   "cell_type": "markdown",
   "id": "b86fd816",
   "metadata": {},
   "source": [
    "## merge in meat and veal production"
   ]
  },
  {
   "cell_type": "code",
   "execution_count": 315,
   "id": "fa1f827a",
   "metadata": {},
   "outputs": [],
   "source": [
    "df_final= pd.merge(df_final, df_beef_and_veal_production_aus_M, how='inner', left_index=True, right_index=True)"
   ]
  },
  {
   "cell_type": "code",
   "execution_count": 316,
   "id": "0f9a7c86",
   "metadata": {},
   "outputs": [
    {
     "data": {
      "text/plain": [
       "0"
      ]
     },
     "execution_count": 316,
     "metadata": {},
     "output_type": "execute_result"
    }
   ],
   "source": [
    "df_final.isnull().sum().sum()"
   ]
  },
  {
   "cell_type": "code",
   "execution_count": 317,
   "id": "d5e7e57a",
   "metadata": {},
   "outputs": [
    {
     "data": {
      "text/plain": [
       "(276, 10)"
      ]
     },
     "execution_count": 317,
     "metadata": {},
     "output_type": "execute_result"
    }
   ],
   "source": [
    "df_final.shape"
   ]
  },
  {
   "cell_type": "markdown",
   "id": "385dac25",
   "metadata": {},
   "source": [
    "## merge in poultry production"
   ]
  },
  {
   "cell_type": "code",
   "execution_count": 318,
   "id": "76b82bc1",
   "metadata": {},
   "outputs": [],
   "source": [
    "df_final= pd.merge(df_final, df_poultry_production_aus_M, how='inner', left_index=True, right_index=True)"
   ]
  },
  {
   "cell_type": "code",
   "execution_count": 319,
   "id": "c395b6ac",
   "metadata": {},
   "outputs": [
    {
     "data": {
      "text/plain": [
       "0"
      ]
     },
     "execution_count": 319,
     "metadata": {},
     "output_type": "execute_result"
    }
   ],
   "source": [
    "df_final.isnull().sum().sum()"
   ]
  },
  {
   "cell_type": "code",
   "execution_count": 320,
   "id": "e794e28c",
   "metadata": {},
   "outputs": [
    {
     "data": {
      "text/plain": [
       "(264, 11)"
      ]
     },
     "execution_count": 320,
     "metadata": {},
     "output_type": "execute_result"
    }
   ],
   "source": [
    "df_final.shape"
   ]
  },
  {
   "cell_type": "markdown",
   "id": "e2fb9cc8",
   "metadata": {},
   "source": [
    "## merge in corn production"
   ]
  },
  {
   "cell_type": "code",
   "execution_count": 321,
   "id": "e0c02f67",
   "metadata": {},
   "outputs": [],
   "source": [
    "df_final= pd.merge(df_final, df_corn_production_aus_M, how='inner', left_index=True, right_index=True)"
   ]
  },
  {
   "cell_type": "code",
   "execution_count": 322,
   "id": "4fa6a6d4",
   "metadata": {},
   "outputs": [
    {
     "data": {
      "text/plain": [
       "0"
      ]
     },
     "execution_count": 322,
     "metadata": {},
     "output_type": "execute_result"
    }
   ],
   "source": [
    "df_final.isnull().sum().sum()"
   ]
  },
  {
   "cell_type": "code",
   "execution_count": 323,
   "id": "7d5a4b43",
   "metadata": {},
   "outputs": [
    {
     "data": {
      "text/plain": [
       "(264, 12)"
      ]
     },
     "execution_count": 323,
     "metadata": {},
     "output_type": "execute_result"
    }
   ],
   "source": [
    "df_final.shape"
   ]
  },
  {
   "cell_type": "markdown",
   "id": "f915e11d",
   "metadata": {},
   "source": [
    "## merge cotton production"
   ]
  },
  {
   "cell_type": "code",
   "execution_count": 324,
   "id": "767753bc",
   "metadata": {},
   "outputs": [],
   "source": [
    "df_final= pd.merge(df_final, df_cotton_production_aus_M, how='inner', left_index=True, right_index=True)"
   ]
  },
  {
   "cell_type": "code",
   "execution_count": 325,
   "id": "d305af71",
   "metadata": {},
   "outputs": [
    {
     "data": {
      "text/plain": [
       "0"
      ]
     },
     "execution_count": 325,
     "metadata": {},
     "output_type": "execute_result"
    }
   ],
   "source": [
    "df_final.isnull().sum().sum()"
   ]
  },
  {
   "cell_type": "code",
   "execution_count": 326,
   "id": "3a4f1d24",
   "metadata": {},
   "outputs": [
    {
     "data": {
      "text/plain": [
       "(264, 13)"
      ]
     },
     "execution_count": 326,
     "metadata": {},
     "output_type": "execute_result"
    }
   ],
   "source": [
    "df_final.shape"
   ]
  },
  {
   "cell_type": "markdown",
   "id": "6a9e16dd",
   "metadata": {},
   "source": [
    "## merge in butter production"
   ]
  },
  {
   "cell_type": "code",
   "execution_count": 327,
   "id": "1b1d9027",
   "metadata": {},
   "outputs": [],
   "source": [
    "df_final= pd.merge(df_final, df_butter_production_aus_M, how='inner', left_index=True, right_index=True)"
   ]
  },
  {
   "cell_type": "code",
   "execution_count": 328,
   "id": "528e16bb",
   "metadata": {},
   "outputs": [
    {
     "data": {
      "text/plain": [
       "0"
      ]
     },
     "execution_count": 328,
     "metadata": {},
     "output_type": "execute_result"
    }
   ],
   "source": [
    "df_final.isnull().sum().sum()"
   ]
  },
  {
   "cell_type": "code",
   "execution_count": 329,
   "id": "976cc00d",
   "metadata": {},
   "outputs": [
    {
     "data": {
      "text/plain": [
       "(264, 14)"
      ]
     },
     "execution_count": 329,
     "metadata": {},
     "output_type": "execute_result"
    }
   ],
   "source": [
    "df_final.shape"
   ]
  },
  {
   "cell_type": "markdown",
   "id": "44fec8bd",
   "metadata": {},
   "source": [
    "## merge in cheese production"
   ]
  },
  {
   "cell_type": "code",
   "execution_count": 330,
   "id": "645c0ddd",
   "metadata": {},
   "outputs": [],
   "source": [
    "df_final= pd.merge(df_final, df_cheese_production_aus_M, how='inner', left_index=True, right_index=True)"
   ]
  },
  {
   "cell_type": "code",
   "execution_count": 331,
   "id": "7bcdb493",
   "metadata": {},
   "outputs": [
    {
     "data": {
      "text/plain": [
       "0"
      ]
     },
     "execution_count": 331,
     "metadata": {},
     "output_type": "execute_result"
    }
   ],
   "source": [
    "df_final.isnull().sum().sum()"
   ]
  },
  {
   "cell_type": "code",
   "execution_count": 332,
   "id": "ff3be963",
   "metadata": {},
   "outputs": [
    {
     "data": {
      "text/plain": [
       "(264, 15)"
      ]
     },
     "execution_count": 332,
     "metadata": {},
     "output_type": "execute_result"
    }
   ],
   "source": [
    "df_final.shape"
   ]
  },
  {
   "cell_type": "markdown",
   "id": "a0ccf409",
   "metadata": {},
   "source": [
    "## merge in milk powder production"
   ]
  },
  {
   "cell_type": "code",
   "execution_count": 333,
   "id": "ea7055e7",
   "metadata": {},
   "outputs": [],
   "source": [
    "df_final= pd.merge(df_final, df_powdered_milk_production_aus_M, how='inner', left_index=True, right_index=True)"
   ]
  },
  {
   "cell_type": "code",
   "execution_count": 334,
   "id": "0c3478ba",
   "metadata": {},
   "outputs": [
    {
     "data": {
      "text/plain": [
       "0"
      ]
     },
     "execution_count": 334,
     "metadata": {},
     "output_type": "execute_result"
    }
   ],
   "source": [
    "df_final.isnull().sum().sum()"
   ]
  },
  {
   "cell_type": "code",
   "execution_count": 335,
   "id": "ab046d79",
   "metadata": {},
   "outputs": [
    {
     "data": {
      "text/plain": [
       "(264, 16)"
      ]
     },
     "execution_count": 335,
     "metadata": {},
     "output_type": "execute_result"
    }
   ],
   "source": [
    "df_final.shape"
   ]
  },
  {
   "cell_type": "markdown",
   "id": "b449bf78",
   "metadata": {},
   "source": [
    "## merge in milk production"
   ]
  },
  {
   "cell_type": "code",
   "execution_count": 336,
   "id": "2ba3bb3e",
   "metadata": {},
   "outputs": [],
   "source": [
    "df_final= pd.merge(df_final, df_milk_production_aus_M, how='inner', left_index=True, right_index=True)"
   ]
  },
  {
   "cell_type": "code",
   "execution_count": 337,
   "id": "c94e739e",
   "metadata": {},
   "outputs": [
    {
     "data": {
      "text/plain": [
       "0"
      ]
     },
     "execution_count": 337,
     "metadata": {},
     "output_type": "execute_result"
    }
   ],
   "source": [
    "df_final.isnull().sum().sum()"
   ]
  },
  {
   "cell_type": "code",
   "execution_count": 338,
   "id": "74301057",
   "metadata": {},
   "outputs": [
    {
     "data": {
      "text/plain": [
       "(264, 17)"
      ]
     },
     "execution_count": 338,
     "metadata": {},
     "output_type": "execute_result"
    }
   ],
   "source": [
    "df_final.shape"
   ]
  },
  {
   "cell_type": "markdown",
   "id": "41937709",
   "metadata": {},
   "source": [
    "## merge in dry milk production"
   ]
  },
  {
   "cell_type": "code",
   "execution_count": 339,
   "id": "995fd9ee",
   "metadata": {},
   "outputs": [],
   "source": [
    "df_final= pd.merge(df_final, df_nonfatmilk_production_aus_M, how='inner', left_index=True, right_index=True)"
   ]
  },
  {
   "cell_type": "code",
   "execution_count": 340,
   "id": "af5c3cf5",
   "metadata": {},
   "outputs": [
    {
     "data": {
      "text/plain": [
       "0"
      ]
     },
     "execution_count": 340,
     "metadata": {},
     "output_type": "execute_result"
    }
   ],
   "source": [
    "df_final.isnull().sum().sum()"
   ]
  },
  {
   "cell_type": "code",
   "execution_count": 341,
   "id": "83b86b63",
   "metadata": {},
   "outputs": [
    {
     "data": {
      "text/plain": [
       "(264, 18)"
      ]
     },
     "execution_count": 341,
     "metadata": {},
     "output_type": "execute_result"
    }
   ],
   "source": [
    "df_final.shape"
   ]
  },
  {
   "cell_type": "markdown",
   "id": "f6e2e2ba",
   "metadata": {},
   "source": [
    "## merge in milled rice production"
   ]
  },
  {
   "cell_type": "code",
   "execution_count": 342,
   "id": "2bfc961e",
   "metadata": {},
   "outputs": [],
   "source": [
    "df_final= pd.merge(df_final, df_rice_production_aus_M, how='inner', left_index=True, right_index=True)"
   ]
  },
  {
   "cell_type": "code",
   "execution_count": 343,
   "id": "603e3861",
   "metadata": {},
   "outputs": [
    {
     "data": {
      "text/plain": [
       "0"
      ]
     },
     "execution_count": 343,
     "metadata": {},
     "output_type": "execute_result"
    }
   ],
   "source": [
    "df_final.isnull().sum().sum()"
   ]
  },
  {
   "cell_type": "code",
   "execution_count": 344,
   "id": "06165ba9",
   "metadata": {},
   "outputs": [
    {
     "data": {
      "text/plain": [
       "(264, 19)"
      ]
     },
     "execution_count": 344,
     "metadata": {},
     "output_type": "execute_result"
    }
   ],
   "source": [
    "df_final.shape"
   ]
  },
  {
   "cell_type": "markdown",
   "id": "b6a2619f",
   "metadata": {},
   "source": [
    "## merge in millet production"
   ]
  },
  {
   "cell_type": "code",
   "execution_count": 345,
   "id": "58b5bead",
   "metadata": {},
   "outputs": [],
   "source": [
    "df_final= pd.merge(df_final, df_millet_production_aus_M, how='inner', left_index=True, right_index=True)"
   ]
  },
  {
   "cell_type": "code",
   "execution_count": 346,
   "id": "c2c20382",
   "metadata": {},
   "outputs": [
    {
     "data": {
      "text/plain": [
       "0"
      ]
     },
     "execution_count": 346,
     "metadata": {},
     "output_type": "execute_result"
    }
   ],
   "source": [
    "df_final.isnull().sum().sum()"
   ]
  },
  {
   "cell_type": "code",
   "execution_count": 347,
   "id": "389b3679",
   "metadata": {},
   "outputs": [
    {
     "data": {
      "text/plain": [
       "(264, 20)"
      ]
     },
     "execution_count": 347,
     "metadata": {},
     "output_type": "execute_result"
    }
   ],
   "source": [
    "df_final.shape"
   ]
  },
  {
   "cell_type": "markdown",
   "id": "3e752666",
   "metadata": {},
   "source": [
    "## merge in oats production"
   ]
  },
  {
   "cell_type": "code",
   "execution_count": 348,
   "id": "122d4787",
   "metadata": {},
   "outputs": [],
   "source": [
    "df_final= pd.merge(df_final, df_oats_production_aus_M, how='inner', left_index=True, right_index=True)"
   ]
  },
  {
   "cell_type": "code",
   "execution_count": 349,
   "id": "f196b22d",
   "metadata": {},
   "outputs": [
    {
     "data": {
      "text/plain": [
       "0"
      ]
     },
     "execution_count": 349,
     "metadata": {},
     "output_type": "execute_result"
    }
   ],
   "source": [
    "df_final.isnull().sum().sum()"
   ]
  },
  {
   "cell_type": "code",
   "execution_count": 350,
   "id": "dc377027",
   "metadata": {},
   "outputs": [
    {
     "data": {
      "text/plain": [
       "(264, 21)"
      ]
     },
     "execution_count": 350,
     "metadata": {},
     "output_type": "execute_result"
    }
   ],
   "source": [
    "df_final.shape"
   ]
  },
  {
   "cell_type": "markdown",
   "id": "56b1471f",
   "metadata": {},
   "source": [
    "## merge in swine production"
   ]
  },
  {
   "cell_type": "code",
   "execution_count": 351,
   "id": "9a4e9b3d",
   "metadata": {},
   "outputs": [],
   "source": [
    "df_final= pd.merge(df_final, df_swine_production_aus_M, how='inner', left_index=True, right_index=True)"
   ]
  },
  {
   "cell_type": "code",
   "execution_count": 352,
   "id": "5422ae95",
   "metadata": {},
   "outputs": [
    {
     "data": {
      "text/plain": [
       "0"
      ]
     },
     "execution_count": 352,
     "metadata": {},
     "output_type": "execute_result"
    }
   ],
   "source": [
    "df_final.isnull().sum().sum()"
   ]
  },
  {
   "cell_type": "code",
   "execution_count": 353,
   "id": "7df677ce",
   "metadata": {},
   "outputs": [
    {
     "data": {
      "text/plain": [
       "(264, 22)"
      ]
     },
     "execution_count": 353,
     "metadata": {},
     "output_type": "execute_result"
    }
   ],
   "source": [
    "df_final.shape"
   ]
  },
  {
   "cell_type": "markdown",
   "id": "46204efb",
   "metadata": {},
   "source": [
    "## merge in wheat production"
   ]
  },
  {
   "cell_type": "code",
   "execution_count": 354,
   "id": "6604defc",
   "metadata": {},
   "outputs": [],
   "source": [
    "df_final= pd.merge(df_final, df_wheat_production_aus_M, how='inner', left_index=True, right_index=True)"
   ]
  },
  {
   "cell_type": "code",
   "execution_count": 355,
   "id": "7d4ca2bf",
   "metadata": {},
   "outputs": [
    {
     "data": {
      "text/plain": [
       "0"
      ]
     },
     "execution_count": 355,
     "metadata": {},
     "output_type": "execute_result"
    }
   ],
   "source": [
    "df_final.isnull().sum().sum()"
   ]
  },
  {
   "cell_type": "code",
   "execution_count": 356,
   "id": "1762a28e",
   "metadata": {},
   "outputs": [
    {
     "data": {
      "text/plain": [
       "(264, 23)"
      ]
     },
     "execution_count": 356,
     "metadata": {},
     "output_type": "execute_result"
    }
   ],
   "source": [
    "df_final.shape"
   ]
  },
  {
   "cell_type": "markdown",
   "id": "bbaa4468",
   "metadata": {},
   "source": [
    "## merge in AUDNZD production"
   ]
  },
  {
   "cell_type": "code",
   "execution_count": 357,
   "id": "eef37717",
   "metadata": {},
   "outputs": [],
   "source": [
    "df_final= pd.merge(df_final, df_audnzd, how='inner', left_index=True, right_index=True)"
   ]
  },
  {
   "cell_type": "code",
   "execution_count": 358,
   "id": "953bb0b6",
   "metadata": {},
   "outputs": [
    {
     "data": {
      "text/plain": [
       "0"
      ]
     },
     "execution_count": 358,
     "metadata": {},
     "output_type": "execute_result"
    }
   ],
   "source": [
    "df_final.isnull().sum().sum()"
   ]
  },
  {
   "cell_type": "code",
   "execution_count": 359,
   "id": "aa828835",
   "metadata": {},
   "outputs": [
    {
     "data": {
      "text/plain": [
       "(264, 24)"
      ]
     },
     "execution_count": 359,
     "metadata": {},
     "output_type": "execute_result"
    }
   ],
   "source": [
    "df_final.shape"
   ]
  },
  {
   "cell_type": "markdown",
   "id": "721e5c4d",
   "metadata": {},
   "source": [
    "## merge in AUDCNY production"
   ]
  },
  {
   "cell_type": "code",
   "execution_count": 360,
   "id": "1769de0e",
   "metadata": {},
   "outputs": [],
   "source": [
    "df_final= pd.merge(df_final, df_audcny, how='inner', left_index=True, right_index=True)"
   ]
  },
  {
   "cell_type": "code",
   "execution_count": 361,
   "id": "8e1a277a",
   "metadata": {},
   "outputs": [
    {
     "data": {
      "text/plain": [
       "0"
      ]
     },
     "execution_count": 361,
     "metadata": {},
     "output_type": "execute_result"
    }
   ],
   "source": [
    "df_final.isnull().sum().sum()"
   ]
  },
  {
   "cell_type": "code",
   "execution_count": 362,
   "id": "b3ce8d8d",
   "metadata": {},
   "outputs": [
    {
     "data": {
      "text/plain": [
       "(264, 25)"
      ]
     },
     "execution_count": 362,
     "metadata": {},
     "output_type": "execute_result"
    }
   ],
   "source": [
    "df_final.shape"
   ]
  },
  {
   "cell_type": "markdown",
   "id": "32ef07ab",
   "metadata": {},
   "source": [
    "## merge in AUDUSD production"
   ]
  },
  {
   "cell_type": "code",
   "execution_count": 363,
   "id": "8e3736ae",
   "metadata": {},
   "outputs": [],
   "source": [
    "df_final= pd.merge(df_final, df_audusd, how='inner', left_index=True, right_index=True)"
   ]
  },
  {
   "cell_type": "code",
   "execution_count": 364,
   "id": "5e681b37",
   "metadata": {},
   "outputs": [
    {
     "data": {
      "text/plain": [
       "0"
      ]
     },
     "execution_count": 364,
     "metadata": {},
     "output_type": "execute_result"
    }
   ],
   "source": [
    "df_final.isnull().sum().sum()"
   ]
  },
  {
   "cell_type": "code",
   "execution_count": 365,
   "id": "f381d18e",
   "metadata": {},
   "outputs": [
    {
     "data": {
      "text/plain": [
       "(264, 26)"
      ]
     },
     "execution_count": 365,
     "metadata": {},
     "output_type": "execute_result"
    }
   ],
   "source": [
    "df_final.shape"
   ]
  },
  {
   "cell_type": "markdown",
   "id": "eebc7771",
   "metadata": {},
   "source": [
    "## merge in Australian rain"
   ]
  },
  {
   "cell_type": "code",
   "execution_count": 366,
   "id": "d3d942cb",
   "metadata": {},
   "outputs": [],
   "source": [
    "df_final= pd.merge(df_final, df_rain_aus, how='inner', left_index=True, right_index=True)"
   ]
  },
  {
   "cell_type": "code",
   "execution_count": 367,
   "id": "6b4d41ee",
   "metadata": {},
   "outputs": [
    {
     "data": {
      "text/plain": [
       "0"
      ]
     },
     "execution_count": 367,
     "metadata": {},
     "output_type": "execute_result"
    }
   ],
   "source": [
    "df_final.isnull().sum().sum()"
   ]
  },
  {
   "cell_type": "code",
   "execution_count": 368,
   "id": "5eb31474",
   "metadata": {},
   "outputs": [
    {
     "data": {
      "text/plain": [
       "(264, 27)"
      ]
     },
     "execution_count": 368,
     "metadata": {},
     "output_type": "execute_result"
    }
   ],
   "source": [
    "df_final.shape"
   ]
  },
  {
   "cell_type": "markdown",
   "id": "435a378f",
   "metadata": {},
   "source": [
    "## merge in Australian sunshine"
   ]
  },
  {
   "cell_type": "code",
   "execution_count": 369,
   "id": "c9cf6f02",
   "metadata": {},
   "outputs": [],
   "source": [
    "df_final= pd.merge(df_final, df_sun_aus, how='inner', left_index=True, right_index=True)"
   ]
  },
  {
   "cell_type": "code",
   "execution_count": 370,
   "id": "405627e9",
   "metadata": {},
   "outputs": [
    {
     "data": {
      "text/plain": [
       "0"
      ]
     },
     "execution_count": 370,
     "metadata": {},
     "output_type": "execute_result"
    }
   ],
   "source": [
    "df_final.isnull().sum().sum()"
   ]
  },
  {
   "cell_type": "code",
   "execution_count": 371,
   "id": "e97527aa",
   "metadata": {},
   "outputs": [
    {
     "data": {
      "text/plain": [
       "(264, 28)"
      ]
     },
     "execution_count": 371,
     "metadata": {},
     "output_type": "execute_result"
    }
   ],
   "source": [
    "df_final.shape"
   ]
  },
  {
   "cell_type": "markdown",
   "id": "54a52fd8",
   "metadata": {},
   "source": [
    "## merge in Australian temperature"
   ]
  },
  {
   "cell_type": "code",
   "execution_count": 372,
   "id": "9af1b799",
   "metadata": {},
   "outputs": [],
   "source": [
    "df_final= pd.merge(df_final, df_temp_aus, how='inner', left_index=True, right_index=True)"
   ]
  },
  {
   "cell_type": "code",
   "execution_count": 373,
   "id": "fb3ce8c9",
   "metadata": {},
   "outputs": [
    {
     "data": {
      "text/plain": [
       "0"
      ]
     },
     "execution_count": 373,
     "metadata": {},
     "output_type": "execute_result"
    }
   ],
   "source": [
    "df_final.isnull().sum().sum()"
   ]
  },
  {
   "cell_type": "code",
   "execution_count": 374,
   "id": "541f6a8a",
   "metadata": {},
   "outputs": [
    {
     "data": {
      "text/plain": [
       "(264, 29)"
      ]
     },
     "execution_count": 374,
     "metadata": {},
     "output_type": "execute_result"
    }
   ],
   "source": [
    "df_final.shape"
   ]
  },
  {
   "cell_type": "markdown",
   "id": "c80be146",
   "metadata": {},
   "source": [
    "## merge in Australian meat slaughterings and production"
   ]
  },
  {
   "cell_type": "code",
   "execution_count": 376,
   "id": "f93cf69c",
   "metadata": {},
   "outputs": [],
   "source": [
    "df_final= pd.merge(df_final, df_meat_slau_prod, how='inner', left_index=True, right_index=True)"
   ]
  },
  {
   "cell_type": "code",
   "execution_count": 377,
   "id": "872cbeba",
   "metadata": {},
   "outputs": [
    {
     "data": {
      "text/plain": [
       "0"
      ]
     },
     "execution_count": 377,
     "metadata": {},
     "output_type": "execute_result"
    }
   ],
   "source": [
    "df_final.isnull().sum().sum()"
   ]
  },
  {
   "cell_type": "code",
   "execution_count": 378,
   "id": "70907550",
   "metadata": {},
   "outputs": [
    {
     "data": {
      "text/plain": [
       "(264, 42)"
      ]
     },
     "execution_count": 378,
     "metadata": {},
     "output_type": "execute_result"
    }
   ],
   "source": [
    "df_final.shape"
   ]
  },
  {
   "cell_type": "markdown",
   "id": "781f734a",
   "metadata": {},
   "source": [
    "## merge in Australian consumer price index"
   ]
  },
  {
   "cell_type": "code",
   "execution_count": 379,
   "id": "e3dd1d70",
   "metadata": {},
   "outputs": [],
   "source": [
    "df_final= pd.merge(df_final, df_cpi_all, how='inner', left_index=True, right_index=True)"
   ]
  },
  {
   "cell_type": "code",
   "execution_count": 380,
   "id": "e68a1aec",
   "metadata": {},
   "outputs": [
    {
     "data": {
      "text/plain": [
       "0"
      ]
     },
     "execution_count": 380,
     "metadata": {},
     "output_type": "execute_result"
    }
   ],
   "source": [
    "df_final.isnull().sum().sum()"
   ]
  },
  {
   "cell_type": "code",
   "execution_count": 381,
   "id": "60aac368",
   "metadata": {},
   "outputs": [
    {
     "data": {
      "text/plain": [
       "(264, 43)"
      ]
     },
     "execution_count": 381,
     "metadata": {},
     "output_type": "execute_result"
    }
   ],
   "source": [
    "df_final.shape"
   ]
  },
  {
   "cell_type": "markdown",
   "id": "7a8abd4a",
   "metadata": {},
   "source": [
    "## merge in Australian residential property prices"
   ]
  },
  {
   "cell_type": "code",
   "execution_count": 382,
   "id": "b1053528",
   "metadata": {},
   "outputs": [],
   "source": [
    "df_final= pd.merge(df_final, df_cpi_residential, how='inner', left_index=True, right_index=True)"
   ]
  },
  {
   "cell_type": "code",
   "execution_count": 383,
   "id": "053af479",
   "metadata": {},
   "outputs": [
    {
     "data": {
      "text/plain": [
       "0"
      ]
     },
     "execution_count": 383,
     "metadata": {},
     "output_type": "execute_result"
    }
   ],
   "source": [
    "df_final.isnull().sum().sum()"
   ]
  },
  {
   "cell_type": "code",
   "execution_count": 384,
   "id": "70b5f1fb",
   "metadata": {},
   "outputs": [
    {
     "data": {
      "text/plain": [
       "(264, 44)"
      ]
     },
     "execution_count": 384,
     "metadata": {},
     "output_type": "execute_result"
    }
   ],
   "source": [
    "df_final.shape"
   ]
  },
  {
   "cell_type": "markdown",
   "id": "16effc71",
   "metadata": {},
   "source": [
    "## merge in Australian cpi excluding food and energy"
   ]
  },
  {
   "cell_type": "code",
   "execution_count": 385,
   "id": "bcb0d57c",
   "metadata": {},
   "outputs": [],
   "source": [
    "df_final= pd.merge(df_final, df_cpi_all_ex_food_energy, how='inner', left_index=True, right_index=True)"
   ]
  },
  {
   "cell_type": "code",
   "execution_count": 386,
   "id": "12c96c74",
   "metadata": {},
   "outputs": [
    {
     "data": {
      "text/plain": [
       "0"
      ]
     },
     "execution_count": 386,
     "metadata": {},
     "output_type": "execute_result"
    }
   ],
   "source": [
    "df_final.isnull().sum().sum()"
   ]
  },
  {
   "cell_type": "code",
   "execution_count": 387,
   "id": "09bb7b56",
   "metadata": {},
   "outputs": [
    {
     "data": {
      "text/plain": [
       "(264, 45)"
      ]
     },
     "execution_count": 387,
     "metadata": {},
     "output_type": "execute_result"
    }
   ],
   "source": [
    "df_final.shape"
   ]
  },
  {
   "cell_type": "markdown",
   "id": "31d3cf1c",
   "metadata": {},
   "source": [
    "## merge in Australian CPI Food"
   ]
  },
  {
   "cell_type": "code",
   "execution_count": 388,
   "id": "9dcee861",
   "metadata": {},
   "outputs": [],
   "source": [
    "df_final= pd.merge(df_final, df_cpi_food, how='inner', left_index=True, right_index=True)"
   ]
  },
  {
   "cell_type": "code",
   "execution_count": 389,
   "id": "7f17d184",
   "metadata": {},
   "outputs": [
    {
     "data": {
      "text/plain": [
       "0"
      ]
     },
     "execution_count": 389,
     "metadata": {},
     "output_type": "execute_result"
    }
   ],
   "source": [
    "df_final.isnull().sum().sum()"
   ]
  },
  {
   "cell_type": "code",
   "execution_count": 390,
   "id": "286ebd75",
   "metadata": {},
   "outputs": [
    {
     "data": {
      "text/plain": [
       "(264, 46)"
      ]
     },
     "execution_count": 390,
     "metadata": {},
     "output_type": "execute_result"
    }
   ],
   "source": [
    "df_final.shape"
   ]
  },
  {
   "cell_type": "markdown",
   "id": "06599b73",
   "metadata": {},
   "source": [
    "## merge in Australian Producer Price Index"
   ]
  },
  {
   "cell_type": "code",
   "execution_count": 391,
   "id": "30cef215",
   "metadata": {},
   "outputs": [],
   "source": [
    "df_final= pd.merge(df_final, df_prod_index, how='inner', left_index=True, right_index=True)"
   ]
  },
  {
   "cell_type": "code",
   "execution_count": 392,
   "id": "3c30b388",
   "metadata": {},
   "outputs": [
    {
     "data": {
      "text/plain": [
       "0"
      ]
     },
     "execution_count": 392,
     "metadata": {},
     "output_type": "execute_result"
    }
   ],
   "source": [
    "df_final.isnull().sum().sum()"
   ]
  },
  {
   "cell_type": "code",
   "execution_count": 393,
   "id": "2b236e29",
   "metadata": {},
   "outputs": [
    {
     "data": {
      "text/plain": [
       "(264, 47)"
      ]
     },
     "execution_count": 393,
     "metadata": {},
     "output_type": "execute_result"
    }
   ],
   "source": [
    "df_final.shape"
   ]
  },
  {
   "cell_type": "markdown",
   "id": "a3341135",
   "metadata": {},
   "source": [
    "## merge in Australian Petrol and Diesel"
   ]
  },
  {
   "cell_type": "code",
   "execution_count": 394,
   "id": "0f18d09e",
   "metadata": {},
   "outputs": [],
   "source": [
    "df_final= pd.merge(df_final, df_aus_fuel, how='inner', left_index=True, right_index=True)"
   ]
  },
  {
   "cell_type": "code",
   "execution_count": 395,
   "id": "4c2f7e32",
   "metadata": {},
   "outputs": [
    {
     "data": {
      "text/plain": [
       "0"
      ]
     },
     "execution_count": 395,
     "metadata": {},
     "output_type": "execute_result"
    }
   ],
   "source": [
    "df_final.isnull().sum().sum()"
   ]
  },
  {
   "cell_type": "code",
   "execution_count": 396,
   "id": "bf42c61f",
   "metadata": {},
   "outputs": [
    {
     "data": {
      "text/plain": [
       "(264, 49)"
      ]
     },
     "execution_count": 396,
     "metadata": {},
     "output_type": "execute_result"
    }
   ],
   "source": [
    "df_final.shape"
   ]
  },
  {
   "cell_type": "markdown",
   "id": "a2653b5d",
   "metadata": {},
   "source": [
    "# Save collated dataframe to csv"
   ]
  },
  {
   "cell_type": "code",
   "execution_count": 399,
   "id": "12cc8d3a",
   "metadata": {},
   "outputs": [],
   "source": [
    "df_final.to_csv(\"df_final_australian_beef_feat_cols_and_target_values_1999-2020.csv\", encoding='utf-8')"
   ]
  },
  {
   "cell_type": "code",
   "execution_count": 400,
   "id": "7bc63f68",
   "metadata": {},
   "outputs": [
    {
     "data": {
      "text/html": [
       "<div>\n",
       "<style scoped>\n",
       "    .dataframe tbody tr th:only-of-type {\n",
       "        vertical-align: middle;\n",
       "    }\n",
       "\n",
       "    .dataframe tbody tr th {\n",
       "        vertical-align: top;\n",
       "    }\n",
       "\n",
       "    .dataframe thead th {\n",
       "        text-align: right;\n",
       "    }\n",
       "</style>\n",
       "<table border=\"1\" class=\"dataframe\">\n",
       "  <thead>\n",
       "    <tr style=\"text-align: right;\">\n",
       "      <th></th>\n",
       "      <th>beef_per_kg</th>\n",
       "      <th>meat_consumption</th>\n",
       "      <th>meat_exports</th>\n",
       "      <th>meat_imports</th>\n",
       "      <th>meat_distribution</th>\n",
       "      <th>meat_supply</th>\n",
       "      <th>cattle_production</th>\n",
       "      <th>swine_production_x</th>\n",
       "      <th>barley_production</th>\n",
       "      <th>beef_and_veal_production</th>\n",
       "      <th>...</th>\n",
       "      <th>lamb_slaughterings</th>\n",
       "      <th>pig_slaughterings</th>\n",
       "      <th>sheep_slaughterings</th>\n",
       "      <th>cpi_all</th>\n",
       "      <th>cpi_residential</th>\n",
       "      <th>cpi_all_ex_food_energy</th>\n",
       "      <th>cpi_food</th>\n",
       "      <th>cpi_prod_index</th>\n",
       "      <th>diesel</th>\n",
       "      <th>petrol</th>\n",
       "    </tr>\n",
       "  </thead>\n",
       "  <tbody>\n",
       "    <tr>\n",
       "      <th>1999-01-31</th>\n",
       "      <td>2.71</td>\n",
       "      <td>61.833333</td>\n",
       "      <td>104.083333</td>\n",
       "      <td>0.333333</td>\n",
       "      <td>168.083333</td>\n",
       "      <td>168.083333</td>\n",
       "      <td>879.416667</td>\n",
       "      <td>30.166667</td>\n",
       "      <td>419.333333</td>\n",
       "      <td>163.000000</td>\n",
       "      <td>...</td>\n",
       "      <td>1228.0</td>\n",
       "      <td>360.0</td>\n",
       "      <td>1326.0</td>\n",
       "      <td>62.967263</td>\n",
       "      <td>52.5088</td>\n",
       "      <td>64.117489</td>\n",
       "      <td>68.833314</td>\n",
       "      <td>64.792117</td>\n",
       "      <td>93.8</td>\n",
       "      <td>85.0</td>\n",
       "    </tr>\n",
       "    <tr>\n",
       "      <th>1999-02-28</th>\n",
       "      <td>2.80</td>\n",
       "      <td>61.833333</td>\n",
       "      <td>104.083333</td>\n",
       "      <td>0.333333</td>\n",
       "      <td>168.083333</td>\n",
       "      <td>168.083333</td>\n",
       "      <td>879.416667</td>\n",
       "      <td>30.166667</td>\n",
       "      <td>419.333333</td>\n",
       "      <td>163.000000</td>\n",
       "      <td>...</td>\n",
       "      <td>1252.0</td>\n",
       "      <td>423.0</td>\n",
       "      <td>1467.0</td>\n",
       "      <td>63.245879</td>\n",
       "      <td>53.4705</td>\n",
       "      <td>64.354054</td>\n",
       "      <td>68.941204</td>\n",
       "      <td>64.984379</td>\n",
       "      <td>93.8</td>\n",
       "      <td>85.0</td>\n",
       "    </tr>\n",
       "    <tr>\n",
       "      <th>1999-03-31</th>\n",
       "      <td>2.79</td>\n",
       "      <td>61.833333</td>\n",
       "      <td>104.083333</td>\n",
       "      <td>0.333333</td>\n",
       "      <td>168.083333</td>\n",
       "      <td>168.083333</td>\n",
       "      <td>879.416667</td>\n",
       "      <td>30.166667</td>\n",
       "      <td>419.333333</td>\n",
       "      <td>163.000000</td>\n",
       "      <td>...</td>\n",
       "      <td>1392.0</td>\n",
       "      <td>455.0</td>\n",
       "      <td>1464.0</td>\n",
       "      <td>63.245879</td>\n",
       "      <td>53.4705</td>\n",
       "      <td>64.354054</td>\n",
       "      <td>68.941204</td>\n",
       "      <td>64.984379</td>\n",
       "      <td>93.8</td>\n",
       "      <td>85.0</td>\n",
       "    </tr>\n",
       "    <tr>\n",
       "      <th>1999-04-30</th>\n",
       "      <td>2.68</td>\n",
       "      <td>61.833333</td>\n",
       "      <td>104.083333</td>\n",
       "      <td>0.333333</td>\n",
       "      <td>168.083333</td>\n",
       "      <td>168.083333</td>\n",
       "      <td>879.416667</td>\n",
       "      <td>30.166667</td>\n",
       "      <td>419.333333</td>\n",
       "      <td>163.000000</td>\n",
       "      <td>...</td>\n",
       "      <td>1250.0</td>\n",
       "      <td>415.0</td>\n",
       "      <td>1235.0</td>\n",
       "      <td>63.245879</td>\n",
       "      <td>53.4705</td>\n",
       "      <td>64.354054</td>\n",
       "      <td>68.941204</td>\n",
       "      <td>64.984379</td>\n",
       "      <td>93.8</td>\n",
       "      <td>85.0</td>\n",
       "    </tr>\n",
       "    <tr>\n",
       "      <th>1999-05-31</th>\n",
       "      <td>2.61</td>\n",
       "      <td>61.833333</td>\n",
       "      <td>104.083333</td>\n",
       "      <td>0.333333</td>\n",
       "      <td>168.083333</td>\n",
       "      <td>168.083333</td>\n",
       "      <td>879.416667</td>\n",
       "      <td>30.166667</td>\n",
       "      <td>419.333333</td>\n",
       "      <td>163.000000</td>\n",
       "      <td>...</td>\n",
       "      <td>1246.0</td>\n",
       "      <td>449.0</td>\n",
       "      <td>1239.0</td>\n",
       "      <td>63.803111</td>\n",
       "      <td>53.9905</td>\n",
       "      <td>64.836722</td>\n",
       "      <td>69.152023</td>\n",
       "      <td>66.330209</td>\n",
       "      <td>93.8</td>\n",
       "      <td>85.0</td>\n",
       "    </tr>\n",
       "    <tr>\n",
       "      <th>...</th>\n",
       "      <td>...</td>\n",
       "      <td>...</td>\n",
       "      <td>...</td>\n",
       "      <td>...</td>\n",
       "      <td>...</td>\n",
       "      <td>...</td>\n",
       "      <td>...</td>\n",
       "      <td>...</td>\n",
       "      <td>...</td>\n",
       "      <td>...</td>\n",
       "      <td>...</td>\n",
       "      <td>...</td>\n",
       "      <td>...</td>\n",
       "      <td>...</td>\n",
       "      <td>...</td>\n",
       "      <td>...</td>\n",
       "      <td>...</td>\n",
       "      <td>...</td>\n",
       "      <td>...</td>\n",
       "      <td>...</td>\n",
       "      <td>...</td>\n",
       "    </tr>\n",
       "    <tr>\n",
       "      <th>2020-08-31</th>\n",
       "      <td>6.43</td>\n",
       "      <td>55.750000</td>\n",
       "      <td>122.750000</td>\n",
       "      <td>1.416667</td>\n",
       "      <td>178.500000</td>\n",
       "      <td>178.500000</td>\n",
       "      <td>691.666667</td>\n",
       "      <td>34.916667</td>\n",
       "      <td>1091.666667</td>\n",
       "      <td>177.083333</td>\n",
       "      <td>...</td>\n",
       "      <td>1487.0</td>\n",
       "      <td>486.0</td>\n",
       "      <td>301.0</td>\n",
       "      <td>108.846065</td>\n",
       "      <td>118.0338</td>\n",
       "      <td>107.521068</td>\n",
       "      <td>106.631196</td>\n",
       "      <td>112.472963</td>\n",
       "      <td>120.3</td>\n",
       "      <td>117.3</td>\n",
       "    </tr>\n",
       "    <tr>\n",
       "      <th>2020-09-30</th>\n",
       "      <td>6.36</td>\n",
       "      <td>55.750000</td>\n",
       "      <td>122.750000</td>\n",
       "      <td>1.416667</td>\n",
       "      <td>178.500000</td>\n",
       "      <td>178.500000</td>\n",
       "      <td>691.666667</td>\n",
       "      <td>34.916667</td>\n",
       "      <td>1091.666667</td>\n",
       "      <td>177.083333</td>\n",
       "      <td>...</td>\n",
       "      <td>1487.0</td>\n",
       "      <td>486.0</td>\n",
       "      <td>301.0</td>\n",
       "      <td>108.846065</td>\n",
       "      <td>118.0338</td>\n",
       "      <td>107.521068</td>\n",
       "      <td>106.631196</td>\n",
       "      <td>112.472963</td>\n",
       "      <td>119.6</td>\n",
       "      <td>117.1</td>\n",
       "    </tr>\n",
       "    <tr>\n",
       "      <th>2020-10-31</th>\n",
       "      <td>6.21</td>\n",
       "      <td>55.750000</td>\n",
       "      <td>122.750000</td>\n",
       "      <td>1.416667</td>\n",
       "      <td>178.500000</td>\n",
       "      <td>178.500000</td>\n",
       "      <td>691.666667</td>\n",
       "      <td>34.916667</td>\n",
       "      <td>1091.666667</td>\n",
       "      <td>177.083333</td>\n",
       "      <td>...</td>\n",
       "      <td>1487.0</td>\n",
       "      <td>486.0</td>\n",
       "      <td>301.0</td>\n",
       "      <td>108.846065</td>\n",
       "      <td>118.0338</td>\n",
       "      <td>107.521068</td>\n",
       "      <td>106.631196</td>\n",
       "      <td>112.472963</td>\n",
       "      <td>118.9</td>\n",
       "      <td>117.8</td>\n",
       "    </tr>\n",
       "    <tr>\n",
       "      <th>2020-11-30</th>\n",
       "      <td>6.07</td>\n",
       "      <td>55.750000</td>\n",
       "      <td>122.750000</td>\n",
       "      <td>1.416667</td>\n",
       "      <td>178.500000</td>\n",
       "      <td>178.500000</td>\n",
       "      <td>691.666667</td>\n",
       "      <td>34.916667</td>\n",
       "      <td>1091.666667</td>\n",
       "      <td>177.083333</td>\n",
       "      <td>...</td>\n",
       "      <td>1487.0</td>\n",
       "      <td>486.0</td>\n",
       "      <td>301.0</td>\n",
       "      <td>109.496169</td>\n",
       "      <td>123.6455</td>\n",
       "      <td>107.958167</td>\n",
       "      <td>106.631196</td>\n",
       "      <td>113.626532</td>\n",
       "      <td>118.2</td>\n",
       "      <td>115.6</td>\n",
       "    </tr>\n",
       "    <tr>\n",
       "      <th>2020-12-31</th>\n",
       "      <td>5.87</td>\n",
       "      <td>55.750000</td>\n",
       "      <td>122.750000</td>\n",
       "      <td>1.416667</td>\n",
       "      <td>178.500000</td>\n",
       "      <td>178.500000</td>\n",
       "      <td>691.666667</td>\n",
       "      <td>34.916667</td>\n",
       "      <td>1091.666667</td>\n",
       "      <td>177.083333</td>\n",
       "      <td>...</td>\n",
       "      <td>1487.0</td>\n",
       "      <td>486.0</td>\n",
       "      <td>301.0</td>\n",
       "      <td>109.496169</td>\n",
       "      <td>123.6455</td>\n",
       "      <td>107.958167</td>\n",
       "      <td>106.631196</td>\n",
       "      <td>113.626532</td>\n",
       "      <td>118.9</td>\n",
       "      <td>118.9</td>\n",
       "    </tr>\n",
       "  </tbody>\n",
       "</table>\n",
       "<p>264 rows × 49 columns</p>\n",
       "</div>"
      ],
      "text/plain": [
       "            beef_per_kg  meat_consumption  meat_exports  meat_imports  \\\n",
       "1999-01-31         2.71         61.833333    104.083333      0.333333   \n",
       "1999-02-28         2.80         61.833333    104.083333      0.333333   \n",
       "1999-03-31         2.79         61.833333    104.083333      0.333333   \n",
       "1999-04-30         2.68         61.833333    104.083333      0.333333   \n",
       "1999-05-31         2.61         61.833333    104.083333      0.333333   \n",
       "...                 ...               ...           ...           ...   \n",
       "2020-08-31         6.43         55.750000    122.750000      1.416667   \n",
       "2020-09-30         6.36         55.750000    122.750000      1.416667   \n",
       "2020-10-31         6.21         55.750000    122.750000      1.416667   \n",
       "2020-11-30         6.07         55.750000    122.750000      1.416667   \n",
       "2020-12-31         5.87         55.750000    122.750000      1.416667   \n",
       "\n",
       "            meat_distribution  meat_supply  cattle_production  \\\n",
       "1999-01-31         168.083333   168.083333         879.416667   \n",
       "1999-02-28         168.083333   168.083333         879.416667   \n",
       "1999-03-31         168.083333   168.083333         879.416667   \n",
       "1999-04-30         168.083333   168.083333         879.416667   \n",
       "1999-05-31         168.083333   168.083333         879.416667   \n",
       "...                       ...          ...                ...   \n",
       "2020-08-31         178.500000   178.500000         691.666667   \n",
       "2020-09-30         178.500000   178.500000         691.666667   \n",
       "2020-10-31         178.500000   178.500000         691.666667   \n",
       "2020-11-30         178.500000   178.500000         691.666667   \n",
       "2020-12-31         178.500000   178.500000         691.666667   \n",
       "\n",
       "            swine_production_x  barley_production  beef_and_veal_production  \\\n",
       "1999-01-31           30.166667         419.333333                163.000000   \n",
       "1999-02-28           30.166667         419.333333                163.000000   \n",
       "1999-03-31           30.166667         419.333333                163.000000   \n",
       "1999-04-30           30.166667         419.333333                163.000000   \n",
       "1999-05-31           30.166667         419.333333                163.000000   \n",
       "...                        ...                ...                       ...   \n",
       "2020-08-31           34.916667        1091.666667                177.083333   \n",
       "2020-09-30           34.916667        1091.666667                177.083333   \n",
       "2020-10-31           34.916667        1091.666667                177.083333   \n",
       "2020-11-30           34.916667        1091.666667                177.083333   \n",
       "2020-12-31           34.916667        1091.666667                177.083333   \n",
       "\n",
       "            ...  lamb_slaughterings  pig_slaughterings  sheep_slaughterings  \\\n",
       "1999-01-31  ...              1228.0              360.0               1326.0   \n",
       "1999-02-28  ...              1252.0              423.0               1467.0   \n",
       "1999-03-31  ...              1392.0              455.0               1464.0   \n",
       "1999-04-30  ...              1250.0              415.0               1235.0   \n",
       "1999-05-31  ...              1246.0              449.0               1239.0   \n",
       "...         ...                 ...                ...                  ...   \n",
       "2020-08-31  ...              1487.0              486.0                301.0   \n",
       "2020-09-30  ...              1487.0              486.0                301.0   \n",
       "2020-10-31  ...              1487.0              486.0                301.0   \n",
       "2020-11-30  ...              1487.0              486.0                301.0   \n",
       "2020-12-31  ...              1487.0              486.0                301.0   \n",
       "\n",
       "               cpi_all  cpi_residential  cpi_all_ex_food_energy    cpi_food  \\\n",
       "1999-01-31   62.967263          52.5088               64.117489   68.833314   \n",
       "1999-02-28   63.245879          53.4705               64.354054   68.941204   \n",
       "1999-03-31   63.245879          53.4705               64.354054   68.941204   \n",
       "1999-04-30   63.245879          53.4705               64.354054   68.941204   \n",
       "1999-05-31   63.803111          53.9905               64.836722   69.152023   \n",
       "...                ...              ...                     ...         ...   \n",
       "2020-08-31  108.846065         118.0338              107.521068  106.631196   \n",
       "2020-09-30  108.846065         118.0338              107.521068  106.631196   \n",
       "2020-10-31  108.846065         118.0338              107.521068  106.631196   \n",
       "2020-11-30  109.496169         123.6455              107.958167  106.631196   \n",
       "2020-12-31  109.496169         123.6455              107.958167  106.631196   \n",
       "\n",
       "            cpi_prod_index  diesel  petrol  \n",
       "1999-01-31       64.792117    93.8    85.0  \n",
       "1999-02-28       64.984379    93.8    85.0  \n",
       "1999-03-31       64.984379    93.8    85.0  \n",
       "1999-04-30       64.984379    93.8    85.0  \n",
       "1999-05-31       66.330209    93.8    85.0  \n",
       "...                    ...     ...     ...  \n",
       "2020-08-31      112.472963   120.3   117.3  \n",
       "2020-09-30      112.472963   119.6   117.1  \n",
       "2020-10-31      112.472963   118.9   117.8  \n",
       "2020-11-30      113.626532   118.2   115.6  \n",
       "2020-12-31      113.626532   118.9   118.9  \n",
       "\n",
       "[264 rows x 49 columns]"
      ]
     },
     "execution_count": 400,
     "metadata": {},
     "output_type": "execute_result"
    }
   ],
   "source": [
    "df_final"
   ]
  },
  {
   "cell_type": "code",
   "execution_count": null,
   "id": "3e7f6f3a",
   "metadata": {},
   "outputs": [],
   "source": []
  }
 ],
 "metadata": {
  "kernelspec": {
   "display_name": "Python [conda env:dataprep]",
   "language": "python",
   "name": "conda-env-dataprep-py"
  },
  "language_info": {
   "codemirror_mode": {
    "name": "ipython",
    "version": 3
   },
   "file_extension": ".py",
   "mimetype": "text/x-python",
   "name": "python",
   "nbconvert_exporter": "python",
   "pygments_lexer": "ipython3",
   "version": "3.7.12"
  },
  "toc": {
   "base_numbering": 1,
   "nav_menu": {},
   "number_sections": true,
   "sideBar": true,
   "skip_h1_title": false,
   "title_cell": "Table of Contents",
   "title_sidebar": "Contents",
   "toc_cell": false,
   "toc_position": {
    "height": "calc(100% - 180px)",
    "left": "10px",
    "top": "150px",
    "width": "516.465px"
   },
   "toc_section_display": true,
   "toc_window_display": true
  }
 },
 "nbformat": 4,
 "nbformat_minor": 5
}
