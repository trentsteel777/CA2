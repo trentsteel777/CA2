{
 "cells": [
  {
   "cell_type": "code",
   "execution_count": 1,
   "id": "76de323e",
   "metadata": {},
   "outputs": [],
   "source": [
    "import pandas as pd\n",
    "import seaborn as sns\n",
    "import matplotlib.pyplot as plt\n",
    "import matplotlib.ticker as ticker\n",
    "import matplotlib.dates as mdates\n",
    "import numpy as np\n",
    "from pandas.tseries.offsets import MonthEnd, YearEnd\n",
    "\n",
    "\n",
    "# user defined - see utils.py\n",
    "from utils import snake_case_columns, beef_price_lineplot, cso_date_to_datetime\n",
    "from utils import transform_indexmundi_yearly_data, prepare_forex_data, transform_fred_stlouisfed_quarterlydata"
   ]
  },
  {
   "cell_type": "markdown",
   "id": "d1d8087d",
   "metadata": {},
   "source": [
    "# Australian Beef prices\n",
    "\n",
    "https://www.indexmundi.com/commodities/?commodity=beef&months=360&currency=aud"
   ]
  },
  {
   "cell_type": "code",
   "execution_count": null,
   "id": "43fc7ec4",
   "metadata": {},
   "outputs": [],
   "source": [
    "df_beef_aus = pd.read_csv(\"data/aus/beef_aus_1995-2022.csv\")"
   ]
  },
  {
   "cell_type": "code",
   "execution_count": null,
   "id": "edaa61ee",
   "metadata": {},
   "outputs": [],
   "source": [
    "df_beef_aus"
   ]
  },
  {
   "cell_type": "code",
   "execution_count": null,
   "id": "2bd011b3",
   "metadata": {},
   "outputs": [],
   "source": [
    "df_beef_aus.info()"
   ]
  },
  {
   "cell_type": "code",
   "execution_count": null,
   "id": "7170b21c",
   "metadata": {},
   "outputs": [],
   "source": [
    "snake_case_columns(df_beef_aus)"
   ]
  },
  {
   "cell_type": "code",
   "execution_count": null,
   "id": "8f614617",
   "metadata": {},
   "outputs": [],
   "source": [
    "df_beef_aus = df_beef_aus.rename(columns = {\"price\":\"beef_per_kg\"})"
   ]
  },
  {
   "cell_type": "code",
   "execution_count": null,
   "id": "3505b4c8",
   "metadata": {},
   "outputs": [],
   "source": [
    "df_beef_aus[\"month\"] = pd.to_datetime(df_beef_aus[\"month\"], format='%b-%y') + MonthEnd(1)"
   ]
  },
  {
   "cell_type": "code",
   "execution_count": null,
   "id": "b2fb2dce",
   "metadata": {},
   "outputs": [],
   "source": [
    "df_beef_aus.info()"
   ]
  },
  {
   "cell_type": "code",
   "execution_count": null,
   "id": "7e29b171",
   "metadata": {},
   "outputs": [],
   "source": [
    "df_beef_aus = df_beef_aus.drop([\"change\"], axis=1)"
   ]
  },
  {
   "cell_type": "code",
   "execution_count": null,
   "id": "7ed94d2b",
   "metadata": {},
   "outputs": [],
   "source": [
    "df_beef_aus = df_beef_aus.set_index(\"month\")"
   ]
  },
  {
   "cell_type": "markdown",
   "id": "05d1b7b9",
   "metadata": {},
   "source": [
    "## final output"
   ]
  },
  {
   "cell_type": "code",
   "execution_count": null,
   "id": "42b64064",
   "metadata": {},
   "outputs": [],
   "source": [
    "df_beef_aus"
   ]
  },
  {
   "cell_type": "markdown",
   "id": "f459ae3f",
   "metadata": {},
   "source": [
    "# Australia Beef and Veal Meat Domestic Consumption by Year\n",
    "\n",
    "https://www.indexmundi.com/agriculture/?country=au&commodity=beef-and-veal-meat&graph=domestic-consumption"
   ]
  },
  {
   "cell_type": "code",
   "execution_count": null,
   "id": "6fc19c08",
   "metadata": {},
   "outputs": [],
   "source": [
    "df_meat_consumption_aus = pd.read_csv(\"data/aus/au-beef-and-veal-meat-domestic-consumption.csv\")"
   ]
  },
  {
   "cell_type": "code",
   "execution_count": null,
   "id": "c0413fda",
   "metadata": {},
   "outputs": [],
   "source": [
    "df_meat_consumption_aus.columns"
   ]
  },
  {
   "cell_type": "code",
   "execution_count": null,
   "id": "af2d1c59",
   "metadata": {},
   "outputs": [],
   "source": [
    "df_meat_consumption_aus"
   ]
  },
  {
   "cell_type": "code",
   "execution_count": null,
   "id": "d04d7fc5",
   "metadata": {},
   "outputs": [],
   "source": [
    "df_meat_consumption_aus.info()"
   ]
  },
  {
   "cell_type": "code",
   "execution_count": null,
   "id": "ca812e3d",
   "metadata": {},
   "outputs": [],
   "source": [
    "snake_case_columns(df_meat_consumption_aus)"
   ]
  },
  {
   "cell_type": "code",
   "execution_count": null,
   "id": "be309992",
   "metadata": {},
   "outputs": [],
   "source": [
    "df_meat_consumption_aus[\"market_year\"] = pd.to_datetime(df_meat_consumption_aus[\"market_year\"], format='%Y') + YearEnd(1)"
   ]
  },
  {
   "cell_type": "code",
   "execution_count": null,
   "id": "ca26f9fa",
   "metadata": {},
   "outputs": [],
   "source": [
    "df_meat_consumption_aus"
   ]
  },
  {
   "cell_type": "code",
   "execution_count": null,
   "id": "21b8b736",
   "metadata": {},
   "outputs": [],
   "source": [
    "df_meat_consumption_aus = df_meat_consumption_aus.rename(columns={\"market_year\" : \"month\", \"_value\" : \"meat_consumption\" })"
   ]
  },
  {
   "cell_type": "code",
   "execution_count": null,
   "id": "ea8aec7f",
   "metadata": {},
   "outputs": [],
   "source": [
    "df_meat_consumption_aus = df_meat_consumption_aus.drop([\"_unit_description\"], axis=1)"
   ]
  },
  {
   "cell_type": "code",
   "execution_count": null,
   "id": "2ec8354b",
   "metadata": {},
   "outputs": [],
   "source": [
    "df_meat_consumption_aus = df_meat_consumption_aus.set_index(\"month\")"
   ]
  },
  {
   "cell_type": "code",
   "execution_count": null,
   "id": "7378ba1e",
   "metadata": {},
   "outputs": [],
   "source": [
    "df_meat_consumption_aus.isnull().sum()"
   ]
  },
  {
   "cell_type": "code",
   "execution_count": null,
   "id": "fc166fc5",
   "metadata": {},
   "outputs": [],
   "source": [
    "df_meat_consumption_aus"
   ]
  },
  {
   "cell_type": "code",
   "execution_count": null,
   "id": "26396371",
   "metadata": {},
   "outputs": [],
   "source": [
    "df_meat_consumption_aus_monthly = df_meat_consumption_aus.resample('M').last()"
   ]
  },
  {
   "cell_type": "code",
   "execution_count": null,
   "id": "66bcd0b2",
   "metadata": {},
   "outputs": [],
   "source": [
    "df_meat_consumption_aus_monthly.head(20)"
   ]
  },
  {
   "cell_type": "code",
   "execution_count": null,
   "id": "d305ee37",
   "metadata": {},
   "outputs": [],
   "source": [
    "df_meat_consumption_aus_monthly = df_meat_consumption_aus.resample('M').last().bfill() / 12"
   ]
  },
  {
   "cell_type": "code",
   "execution_count": null,
   "id": "e9b452fe",
   "metadata": {},
   "outputs": [],
   "source": [
    "df_meat_consumption_aus_monthly[df_meat_consumption_aus_monthly.index.year==1961].sum()"
   ]
  },
  {
   "cell_type": "code",
   "execution_count": null,
   "id": "09482322",
   "metadata": {},
   "outputs": [],
   "source": [
    "# 1960 shows only one row but it won't be used anyway\n",
    "df_meat_consumption_aus_monthly[(df_meat_consumption_aus_monthly.index.year == 1960) ]"
   ]
  },
  {
   "cell_type": "code",
   "execution_count": null,
   "id": "6454781d",
   "metadata": {},
   "outputs": [],
   "source": [
    "df_meat_consumption_aus_monthly[(df_meat_consumption_aus_monthly.index.year >= 1960) & (df_meat_consumption_aus_monthly.index.year < 1963)]"
   ]
  },
  {
   "cell_type": "code",
   "execution_count": null,
   "id": "b02a53ed",
   "metadata": {},
   "outputs": [],
   "source": [
    "df_meat_consumption_aus_monthly[(df_meat_consumption_aus_monthly.index.year > 2000) & (df_meat_consumption_aus_monthly.index.year < 2003)]"
   ]
  },
  {
   "cell_type": "code",
   "execution_count": null,
   "id": "89def7e6",
   "metadata": {},
   "outputs": [],
   "source": [
    "df_meat_consumption_aus_monthly.info()"
   ]
  },
  {
   "cell_type": "code",
   "execution_count": null,
   "id": "6c7b3a45",
   "metadata": {},
   "outputs": [],
   "source": [
    "df_meat_consumption_aus_monthly = df_meat_consumption_aus_monthly[df_meat_consumption_aus_monthly.index.year > 1989]"
   ]
  },
  {
   "cell_type": "code",
   "execution_count": null,
   "id": "d5532320",
   "metadata": {},
   "outputs": [],
   "source": [
    "df_meat_consumption_aus_monthly = df_meat_consumption_aus_monthly[df_meat_consumption_aus_monthly.index.year < 2022]"
   ]
  },
  {
   "cell_type": "markdown",
   "id": "1f105a73",
   "metadata": {},
   "source": [
    "## final outoput"
   ]
  },
  {
   "cell_type": "code",
   "execution_count": null,
   "id": "2320355e",
   "metadata": {},
   "outputs": [],
   "source": [
    "df_meat_consumption_aus_monthly"
   ]
  },
  {
   "cell_type": "markdown",
   "id": "d9f3a1db",
   "metadata": {},
   "source": [
    "# Australia Beef and Veal Meat Exports by Year"
   ]
  },
  {
   "cell_type": "code",
   "execution_count": null,
   "id": "ae5ba936",
   "metadata": {},
   "outputs": [],
   "source": [
    "df_exports_aus = pd.read_csv(\"data/aus/au-beef-and-veal-meat-exports.csv\")"
   ]
  },
  {
   "cell_type": "code",
   "execution_count": null,
   "id": "66e86c58",
   "metadata": {},
   "outputs": [],
   "source": [
    "df_exports_aus"
   ]
  },
  {
   "cell_type": "code",
   "execution_count": null,
   "id": "8d50622e",
   "metadata": {},
   "outputs": [],
   "source": [
    "# just use the user-defined fucntion from my utils.py this time\n",
    "df_exports_aus_M = transform_indexmundi_yearly_data(df_exports_aus, \"meat_exports\")"
   ]
  },
  {
   "cell_type": "code",
   "execution_count": null,
   "id": "1ec6d346",
   "metadata": {},
   "outputs": [],
   "source": [
    "df_exports_aus_M.isnull().sum()"
   ]
  },
  {
   "cell_type": "code",
   "execution_count": null,
   "id": "d30b6319",
   "metadata": {},
   "outputs": [],
   "source": [
    "df_exports_aus_M.info()"
   ]
  },
  {
   "cell_type": "markdown",
   "id": "61bc7488",
   "metadata": {},
   "source": [
    "## final output"
   ]
  },
  {
   "cell_type": "code",
   "execution_count": null,
   "id": "84919569",
   "metadata": {},
   "outputs": [],
   "source": [
    "df_exports_aus_M"
   ]
  },
  {
   "cell_type": "markdown",
   "id": "ce098209",
   "metadata": {},
   "source": [
    "# Australia Beef and Veal Meat Imports by Year"
   ]
  },
  {
   "cell_type": "code",
   "execution_count": null,
   "id": "74acb37a",
   "metadata": {},
   "outputs": [],
   "source": [
    "df_imports_aus = pd.read_csv(\"data/aus/au-beef-and-veal-meat-imports.csv\")"
   ]
  },
  {
   "cell_type": "code",
   "execution_count": null,
   "id": "54ddae8b",
   "metadata": {},
   "outputs": [],
   "source": [
    "df_imports_aus"
   ]
  },
  {
   "cell_type": "code",
   "execution_count": null,
   "id": "121d3499",
   "metadata": {},
   "outputs": [],
   "source": [
    "df_imports_aus_M = transform_indexmundi_yearly_data(df_imports_aus, \"meat_imports\")"
   ]
  },
  {
   "cell_type": "code",
   "execution_count": null,
   "id": "4d41e09e",
   "metadata": {},
   "outputs": [],
   "source": [
    "df_imports_aus_M.isnull().sum()"
   ]
  },
  {
   "cell_type": "code",
   "execution_count": null,
   "id": "55c9dd5b",
   "metadata": {},
   "outputs": [],
   "source": [
    "df_imports_aus_M.info()"
   ]
  },
  {
   "cell_type": "markdown",
   "id": "75cc7605",
   "metadata": {},
   "source": [
    "## final output"
   ]
  },
  {
   "cell_type": "code",
   "execution_count": null,
   "id": "4f296e86",
   "metadata": {},
   "outputs": [],
   "source": [
    "df_imports_aus_M"
   ]
  },
  {
   "cell_type": "markdown",
   "id": "5d96efe9",
   "metadata": {},
   "source": [
    "# Australia Beef and Veal Meat Production by Year\n",
    "\n",
    "https://www.indexmundi.com/agriculture/?country=au&commodity=beef-and-veal-meat&graph=production"
   ]
  },
  {
   "cell_type": "code",
   "execution_count": null,
   "id": "e2ba9795",
   "metadata": {},
   "outputs": [],
   "source": [
    "df_meat_prod_aus = pd.read_csv(\"data/aus/au-beef-and-veal-meat-production.csv\")"
   ]
  },
  {
   "cell_type": "code",
   "execution_count": null,
   "id": "3c773ee7",
   "metadata": {},
   "outputs": [],
   "source": [
    "df_meat_prod_aus"
   ]
  },
  {
   "cell_type": "code",
   "execution_count": null,
   "id": "5d764369",
   "metadata": {},
   "outputs": [],
   "source": [
    "df_meat_prod_aus_M = transform_indexmundi_yearly_data(df_meat_prod_aus, \"meat_production\")"
   ]
  },
  {
   "cell_type": "code",
   "execution_count": null,
   "id": "ab2d9ebf",
   "metadata": {},
   "outputs": [],
   "source": [
    "df_meat_prod_aus_M.isnull().sum()"
   ]
  },
  {
   "cell_type": "code",
   "execution_count": null,
   "id": "01d1dba7",
   "metadata": {},
   "outputs": [],
   "source": [
    "df_meat_prod_aus_M.info()"
   ]
  },
  {
   "cell_type": "markdown",
   "id": "c47eb722",
   "metadata": {},
   "source": [
    "## final output"
   ]
  },
  {
   "cell_type": "code",
   "execution_count": null,
   "id": "27407138",
   "metadata": {},
   "outputs": [],
   "source": [
    "df_meat_prod_aus_M"
   ]
  },
  {
   "cell_type": "markdown",
   "id": "cb9f2296",
   "metadata": {},
   "source": [
    "# Australia Beef and Veal Meat Total Distribution by Year\n",
    "\n",
    "https://www.indexmundi.com/agriculture/?country=au&commodity=beef-and-veal-meat&graph=total-distribution"
   ]
  },
  {
   "cell_type": "code",
   "execution_count": null,
   "id": "44171132",
   "metadata": {},
   "outputs": [],
   "source": [
    "df_meat_dist_aus = pd.read_csv(\"data/aus/au-beef-and-veal-meat-total-distribution.csv\")"
   ]
  },
  {
   "cell_type": "code",
   "execution_count": null,
   "id": "5c770884",
   "metadata": {},
   "outputs": [],
   "source": [
    "df_meat_dist_aus"
   ]
  },
  {
   "cell_type": "code",
   "execution_count": null,
   "id": "cae9345f",
   "metadata": {},
   "outputs": [],
   "source": [
    "df_meat_dist_aus_M = transform_indexmundi_yearly_data(df_meat_dist_aus, \"meat_distribution\")"
   ]
  },
  {
   "cell_type": "code",
   "execution_count": null,
   "id": "eb12ffa2",
   "metadata": {},
   "outputs": [],
   "source": [
    "df_meat_dist_aus_M.isnull().sum()"
   ]
  },
  {
   "cell_type": "code",
   "execution_count": null,
   "id": "6dd7fb66",
   "metadata": {},
   "outputs": [],
   "source": [
    "df_meat_dist_aus_M.info()"
   ]
  },
  {
   "cell_type": "markdown",
   "id": "dbcedf78",
   "metadata": {},
   "source": [
    "## final output"
   ]
  },
  {
   "cell_type": "code",
   "execution_count": null,
   "id": "a44508c3",
   "metadata": {},
   "outputs": [],
   "source": [
    "df_meat_dist_aus_M"
   ]
  },
  {
   "cell_type": "markdown",
   "id": "e69980c2",
   "metadata": {},
   "source": [
    "# Australia Beef and Veal Meat Total Supply by Year\n",
    "\n",
    "https://www.indexmundi.com/agriculture/?country=au&commodity=beef-and-veal-meat&graph=total-supply"
   ]
  },
  {
   "cell_type": "code",
   "execution_count": null,
   "id": "639b6a93",
   "metadata": {},
   "outputs": [],
   "source": [
    "df_beef_supply_aus = pd.read_csv(\"data/aus/au-beef-and-veal-meat-total-supply.csv\")"
   ]
  },
  {
   "cell_type": "code",
   "execution_count": null,
   "id": "01a91ba5",
   "metadata": {},
   "outputs": [],
   "source": [
    "df_beef_supply_aus"
   ]
  },
  {
   "cell_type": "code",
   "execution_count": null,
   "id": "52c610ff",
   "metadata": {},
   "outputs": [],
   "source": [
    "df_beef_supply_aus_M = transform_indexmundi_yearly_data(df_beef_supply_aus, \"meat_supply\")"
   ]
  },
  {
   "cell_type": "code",
   "execution_count": null,
   "id": "213c1993",
   "metadata": {},
   "outputs": [],
   "source": [
    "df_beef_supply_aus_M.isnull().sum()"
   ]
  },
  {
   "cell_type": "code",
   "execution_count": null,
   "id": "4d59f84d",
   "metadata": {},
   "outputs": [],
   "source": [
    "df_beef_supply_aus_M.info()"
   ]
  },
  {
   "cell_type": "markdown",
   "id": "941ef0ed",
   "metadata": {},
   "source": [
    "## final output"
   ]
  },
  {
   "cell_type": "code",
   "execution_count": null,
   "id": "60ca0de7",
   "metadata": {},
   "outputs": [],
   "source": [
    "df_beef_supply_aus_M"
   ]
  },
  {
   "cell_type": "markdown",
   "id": "531f20c9",
   "metadata": {},
   "source": [
    "# Australia Animal Numbers, Cattle Production by Year\n",
    "\n",
    "https://www.indexmundi.com/agriculture/?country=au&commodity=cattle&graph=production"
   ]
  },
  {
   "cell_type": "code",
   "execution_count": null,
   "id": "0582601b",
   "metadata": {},
   "outputs": [],
   "source": [
    "df_cattle_production_aus = pd.read_csv(\"data/aus/au-cattle-production.csv\")"
   ]
  },
  {
   "cell_type": "code",
   "execution_count": null,
   "id": "9fe17ce8",
   "metadata": {},
   "outputs": [],
   "source": [
    "df_cattle_production_aus"
   ]
  },
  {
   "cell_type": "code",
   "execution_count": null,
   "id": "ca808c6e",
   "metadata": {},
   "outputs": [],
   "source": [
    "df_cattle_production_aus_M = transform_indexmundi_yearly_data(df_cattle_production_aus, \"cattle_production\" )"
   ]
  },
  {
   "cell_type": "code",
   "execution_count": null,
   "id": "85f09e5b",
   "metadata": {},
   "outputs": [],
   "source": [
    "df_cattle_production_aus_M.isnull().sum()"
   ]
  },
  {
   "cell_type": "code",
   "execution_count": null,
   "id": "a04c4f77",
   "metadata": {},
   "outputs": [],
   "source": [
    "df_cattle_production_aus_M.info()"
   ]
  },
  {
   "cell_type": "markdown",
   "id": "b9681c7d",
   "metadata": {},
   "source": [
    "## final output"
   ]
  },
  {
   "cell_type": "code",
   "execution_count": null,
   "id": "9195baef",
   "metadata": {},
   "outputs": [],
   "source": [
    "df_cattle_production_aus_M"
   ]
  },
  {
   "cell_type": "markdown",
   "id": "5e8fb7db",
   "metadata": {},
   "source": [
    "# Australia Animal Numbers, Swine Production by Year\n",
    "\n",
    "https://www.indexmundi.com/agriculture/?country=au&commodity=swine&graph=production"
   ]
  },
  {
   "cell_type": "code",
   "execution_count": null,
   "id": "7b830293",
   "metadata": {},
   "outputs": [],
   "source": [
    "df_swine_production_aus = pd.read_csv(\"data/aus/au-swine-production.csv\")"
   ]
  },
  {
   "cell_type": "code",
   "execution_count": null,
   "id": "ca207571",
   "metadata": {},
   "outputs": [],
   "source": [
    "df_swine_production_aus"
   ]
  },
  {
   "cell_type": "code",
   "execution_count": null,
   "id": "19cd99ba",
   "metadata": {},
   "outputs": [],
   "source": [
    "df_swine_production_aus_M = transform_indexmundi_yearly_data(df_swine_production_aus, \"swine_production\")"
   ]
  },
  {
   "cell_type": "code",
   "execution_count": null,
   "id": "4d8144ba",
   "metadata": {},
   "outputs": [],
   "source": [
    "df_swine_production_aus_M.isnull().sum()"
   ]
  },
  {
   "cell_type": "code",
   "execution_count": null,
   "id": "72af46bd",
   "metadata": {},
   "outputs": [],
   "source": [
    "df_swine_production_aus_M.info()"
   ]
  },
  {
   "cell_type": "markdown",
   "id": "17de0051",
   "metadata": {},
   "source": [
    "## final output"
   ]
  },
  {
   "cell_type": "code",
   "execution_count": null,
   "id": "501055dd",
   "metadata": {},
   "outputs": [],
   "source": [
    "df_swine_production_aus_M"
   ]
  },
  {
   "cell_type": "markdown",
   "id": "3876fc50",
   "metadata": {},
   "source": [
    "# Australia Barley Production by Year\n",
    "\n",
    "https://www.indexmundi.com/agriculture/?country=au&commodity=barley&graph=production"
   ]
  },
  {
   "cell_type": "code",
   "execution_count": null,
   "id": "2f6c89be",
   "metadata": {},
   "outputs": [],
   "source": [
    "df_barley_production_aus = pd.read_csv(\"data/aus/au-barley-production.csv\")"
   ]
  },
  {
   "cell_type": "code",
   "execution_count": null,
   "id": "a0cd995c",
   "metadata": {},
   "outputs": [],
   "source": [
    "df_barley_production_aus"
   ]
  },
  {
   "cell_type": "code",
   "execution_count": null,
   "id": "63d72a64",
   "metadata": {},
   "outputs": [],
   "source": [
    "df_barley_production_aus_M = transform_indexmundi_yearly_data(df_barley_production_aus, \"barley_production\")"
   ]
  },
  {
   "cell_type": "code",
   "execution_count": null,
   "id": "56a66c6a",
   "metadata": {},
   "outputs": [],
   "source": [
    "df_barley_production_aus_M.isnull().sum()"
   ]
  },
  {
   "cell_type": "code",
   "execution_count": null,
   "id": "cf5cd023",
   "metadata": {},
   "outputs": [],
   "source": [
    "df_barley_production_aus_M.info()"
   ]
  },
  {
   "cell_type": "markdown",
   "id": "3b35868b",
   "metadata": {},
   "source": [
    "## final output"
   ]
  },
  {
   "cell_type": "code",
   "execution_count": null,
   "id": "754093f3",
   "metadata": {},
   "outputs": [],
   "source": [
    "df_barley_production_aus_M"
   ]
  },
  {
   "cell_type": "markdown",
   "id": "4d3f08e1",
   "metadata": {},
   "source": [
    "# Australia Beef and Veal Meat Production by Year\n",
    "\n",
    "https://www.indexmundi.com/agriculture/?country=au&commodity=beef-and-veal-meat&graph=production"
   ]
  },
  {
   "cell_type": "code",
   "execution_count": null,
   "id": "151eeaba",
   "metadata": {},
   "outputs": [],
   "source": [
    "df_beef_and_veal_production_aus = pd.read_csv(\"data/aus/au-beef-and-veal-meat-production.csv\")"
   ]
  },
  {
   "cell_type": "code",
   "execution_count": null,
   "id": "c39743d7",
   "metadata": {},
   "outputs": [],
   "source": [
    "df_beef_and_veal_production_aus"
   ]
  },
  {
   "cell_type": "code",
   "execution_count": null,
   "id": "fcc8357e",
   "metadata": {},
   "outputs": [],
   "source": [
    "df_beef_and_veal_production_aus_M = transform_indexmundi_yearly_data(df_beef_and_veal_production_aus, \"beef_and_veal_production\")"
   ]
  },
  {
   "cell_type": "code",
   "execution_count": null,
   "id": "29b3744f",
   "metadata": {},
   "outputs": [],
   "source": [
    "df_beef_and_veal_production_aus_M.isnull().sum()"
   ]
  },
  {
   "cell_type": "code",
   "execution_count": null,
   "id": "7c3ecd23",
   "metadata": {},
   "outputs": [],
   "source": [
    "df_beef_and_veal_production_aus_M.info()"
   ]
  },
  {
   "cell_type": "markdown",
   "id": "b372f5fb",
   "metadata": {},
   "source": [
    "## final output"
   ]
  },
  {
   "cell_type": "code",
   "execution_count": null,
   "id": "7cf4f576",
   "metadata": {},
   "outputs": [],
   "source": [
    "df_beef_and_veal_production_aus_M"
   ]
  },
  {
   "cell_type": "markdown",
   "id": "095a990e",
   "metadata": {},
   "source": [
    "# Australia Broiler Meat (Poultry) Production by Year\n",
    "\n",
    "https://www.indexmundi.com/agriculture/?country=au&commodity=broiler-meat&graph=production"
   ]
  },
  {
   "cell_type": "code",
   "execution_count": null,
   "id": "af58420e",
   "metadata": {},
   "outputs": [],
   "source": [
    "df_poultry_production_aus = pd.read_csv(\"data/aus/au-broiler-meat-production.csv\")"
   ]
  },
  {
   "cell_type": "code",
   "execution_count": null,
   "id": "13c71a67",
   "metadata": {},
   "outputs": [],
   "source": [
    "df_poultry_production_aus"
   ]
  },
  {
   "cell_type": "code",
   "execution_count": null,
   "id": "225b7675",
   "metadata": {},
   "outputs": [],
   "source": [
    "df_poultry_production_aus_M = transform_indexmundi_yearly_data(df_poultry_production_aus, \"poultry_production\")"
   ]
  },
  {
   "cell_type": "code",
   "execution_count": null,
   "id": "fcb04516",
   "metadata": {},
   "outputs": [],
   "source": [
    "df_poultry_production_aus_M.isnull().sum()"
   ]
  },
  {
   "cell_type": "code",
   "execution_count": null,
   "id": "c7692063",
   "metadata": {},
   "outputs": [],
   "source": [
    "df_poultry_production_aus_M.info()"
   ]
  },
  {
   "cell_type": "code",
   "execution_count": null,
   "id": "a9852655",
   "metadata": {},
   "outputs": [],
   "source": [
    "df_poultry_production_aus_M"
   ]
  },
  {
   "cell_type": "code",
   "execution_count": null,
   "id": "a36b0963",
   "metadata": {},
   "outputs": [],
   "source": [
    "# https://stackoverflow.com/questions/34915828/pandas-date-range-to-generate-monthly-data-at-beginning-of-the-month\n",
    "# https://pandas.pydata.org/docs/reference/api/pandas.Index.to_frame.html\n",
    "df_poultry_missing_months = pd.date_range(start='31-JAN-2017', end='31-DEC-2020', freq='M').to_frame(index=True, name='month').drop([\"month\"],axis=1)\n",
    "df_poultry_missing_months[\"poultry_production\"] = np.nan\n",
    "df_poultry_missing_months.index.rename('month', inplace=True)\n",
    "df_poultry_missing_months.info()"
   ]
  },
  {
   "cell_type": "code",
   "execution_count": null,
   "id": "febf061b",
   "metadata": {},
   "outputs": [],
   "source": [
    "df_poultry_production_aus_M = df_poultry_production_aus_M.append(df_poultry_missing_months)"
   ]
  },
  {
   "cell_type": "code",
   "execution_count": null,
   "id": "6f8dc936",
   "metadata": {},
   "outputs": [],
   "source": [
    "df_poultry_production_aus_M.info()"
   ]
  },
  {
   "cell_type": "code",
   "execution_count": null,
   "id": "0be866ad",
   "metadata": {},
   "outputs": [],
   "source": [
    "df_poultry_production_aus_M[\"poultry_production\"] = df_poultry_production_aus_M[\"poultry_production\"].interpolate(method='linear')"
   ]
  },
  {
   "cell_type": "code",
   "execution_count": null,
   "id": "8fce55b3",
   "metadata": {},
   "outputs": [],
   "source": [
    "df_poultry_production_aus_M[df_poultry_production_aus_M.index.year > 2019] ## ugh it'll have to do"
   ]
  },
  {
   "cell_type": "markdown",
   "id": "696114d8",
   "metadata": {},
   "source": [
    "## final output"
   ]
  },
  {
   "cell_type": "code",
   "execution_count": null,
   "id": "66c7d733",
   "metadata": {},
   "outputs": [],
   "source": [
    "df_poultry_production_aus_M"
   ]
  },
  {
   "cell_type": "markdown",
   "id": "bd723b43",
   "metadata": {},
   "source": [
    "# Australia Corn Production by Year\n",
    "\n",
    "https://www.indexmundi.com/agriculture/?country=au&commodity=corn&graph=production"
   ]
  },
  {
   "cell_type": "code",
   "execution_count": null,
   "id": "eac15a4f",
   "metadata": {},
   "outputs": [],
   "source": [
    "df_corn_production_aus = pd.read_csv(\"data/aus/au-corn-production.csv\")"
   ]
  },
  {
   "cell_type": "code",
   "execution_count": null,
   "id": "e83ab0b7",
   "metadata": {},
   "outputs": [],
   "source": [
    "df_corn_production_aus"
   ]
  },
  {
   "cell_type": "code",
   "execution_count": null,
   "id": "79e8467c",
   "metadata": {},
   "outputs": [],
   "source": [
    "df_corn_production_aus_M = transform_indexmundi_yearly_data(df_corn_production_aus, \"barley_production\")"
   ]
  },
  {
   "cell_type": "code",
   "execution_count": null,
   "id": "3b62cdf7",
   "metadata": {},
   "outputs": [],
   "source": [
    "df_corn_production_aus_M.isnull().sum()"
   ]
  },
  {
   "cell_type": "code",
   "execution_count": null,
   "id": "42d12724",
   "metadata": {},
   "outputs": [],
   "source": [
    "df_corn_production_aus_M.info()"
   ]
  },
  {
   "cell_type": "markdown",
   "id": "1b812147",
   "metadata": {},
   "source": [
    "## final output"
   ]
  },
  {
   "cell_type": "code",
   "execution_count": null,
   "id": "adbdbe74",
   "metadata": {},
   "outputs": [],
   "source": [
    "df_corn_production_aus_M"
   ]
  },
  {
   "cell_type": "markdown",
   "id": "797579cb",
   "metadata": {},
   "source": [
    "# Australia Cotton Production by Year\n",
    "\n",
    "https://www.indexmundi.com/agriculture/?country=au&commodity=cotton&graph=production"
   ]
  },
  {
   "cell_type": "code",
   "execution_count": null,
   "id": "2913fdf5",
   "metadata": {},
   "outputs": [],
   "source": [
    "df_cotton_production_aus = pd.read_csv(\"data/aus/au-cotton-production.csv\")"
   ]
  },
  {
   "cell_type": "code",
   "execution_count": null,
   "id": "8f439afe",
   "metadata": {},
   "outputs": [],
   "source": [
    "df_cotton_production_aus"
   ]
  },
  {
   "cell_type": "code",
   "execution_count": null,
   "id": "c9ae7337",
   "metadata": {},
   "outputs": [],
   "source": [
    "df_cotton_production_aus_M = transform_indexmundi_yearly_data(df_cotton_production_aus, \"barley_production\")"
   ]
  },
  {
   "cell_type": "code",
   "execution_count": null,
   "id": "afcd5a53",
   "metadata": {},
   "outputs": [],
   "source": [
    "df_cotton_production_aus_M.isnull().sum()"
   ]
  },
  {
   "cell_type": "code",
   "execution_count": null,
   "id": "ca61f061",
   "metadata": {},
   "outputs": [],
   "source": [
    "df_cotton_production_aus_M.info()"
   ]
  },
  {
   "cell_type": "markdown",
   "id": "e139caef",
   "metadata": {},
   "source": [
    "## final output"
   ]
  },
  {
   "cell_type": "code",
   "execution_count": null,
   "id": "e2254cdb",
   "metadata": {},
   "outputs": [],
   "source": [
    "df_cotton_production_aus_M"
   ]
  },
  {
   "cell_type": "markdown",
   "id": "9bee15c1",
   "metadata": {},
   "source": [
    "# Australia Dairy, Butter Production by Year\n",
    "\n",
    "https://www.indexmundi.com/agriculture/?country=au&commodity=butter&graph=production"
   ]
  },
  {
   "cell_type": "code",
   "execution_count": null,
   "id": "421fda34",
   "metadata": {},
   "outputs": [],
   "source": [
    "df_butter_production_aus = pd.read_csv(\"data/aus/au-butter-production.csv\")"
   ]
  },
  {
   "cell_type": "code",
   "execution_count": null,
   "id": "500d54dd",
   "metadata": {},
   "outputs": [],
   "source": [
    "df_butter_production_aus"
   ]
  },
  {
   "cell_type": "code",
   "execution_count": null,
   "id": "243222b3",
   "metadata": {},
   "outputs": [],
   "source": [
    "df_butter_production_aus_M = transform_indexmundi_yearly_data(df_butter_production_aus, \"barley_production\")"
   ]
  },
  {
   "cell_type": "code",
   "execution_count": null,
   "id": "27719eaf",
   "metadata": {},
   "outputs": [],
   "source": [
    "df_butter_production_aus_M.isnull().sum()"
   ]
  },
  {
   "cell_type": "code",
   "execution_count": null,
   "id": "ff91862b",
   "metadata": {},
   "outputs": [],
   "source": [
    "df_butter_production_aus_M.info()"
   ]
  },
  {
   "cell_type": "markdown",
   "id": "fae1e8fe",
   "metadata": {},
   "source": [
    "## final output"
   ]
  },
  {
   "cell_type": "code",
   "execution_count": null,
   "id": "d08d92ec",
   "metadata": {},
   "outputs": [],
   "source": [
    "df_butter_production_aus_M"
   ]
  },
  {
   "cell_type": "markdown",
   "id": "fcc7932b",
   "metadata": {},
   "source": [
    "# Australia Dairy, Cheese Production by Year\n",
    "\n",
    "https://www.indexmundi.com/agriculture/?country=au&commodity=cheese&graph=production"
   ]
  },
  {
   "cell_type": "code",
   "execution_count": null,
   "id": "659e37ca",
   "metadata": {},
   "outputs": [],
   "source": [
    "df_cheese_production_aus = pd.read_csv(\"data/aus/au-cheese-production.csv\")"
   ]
  },
  {
   "cell_type": "code",
   "execution_count": null,
   "id": "019233eb",
   "metadata": {},
   "outputs": [],
   "source": [
    "df_cheese_production_aus"
   ]
  },
  {
   "cell_type": "code",
   "execution_count": null,
   "id": "7f14f684",
   "metadata": {},
   "outputs": [],
   "source": [
    "df_cheese_production_aus_M = transform_indexmundi_yearly_data(df_cheese_production_aus, \"barley_production\")"
   ]
  },
  {
   "cell_type": "code",
   "execution_count": null,
   "id": "f17b95e1",
   "metadata": {},
   "outputs": [],
   "source": [
    "df_cheese_production_aus_M.isnull().sum()"
   ]
  },
  {
   "cell_type": "code",
   "execution_count": null,
   "id": "dcafd339",
   "metadata": {},
   "outputs": [],
   "source": [
    "df_cheese_production_aus_M.info()"
   ]
  },
  {
   "cell_type": "markdown",
   "id": "1153a237",
   "metadata": {},
   "source": [
    "## final output"
   ]
  },
  {
   "cell_type": "code",
   "execution_count": null,
   "id": "21ea575d",
   "metadata": {},
   "outputs": [],
   "source": [
    "df_cheese_production_aus_M"
   ]
  },
  {
   "cell_type": "markdown",
   "id": "92bb2403",
   "metadata": {},
   "source": [
    "# Australia Dairy, Dry Whole Milk Powder Production by Year\n",
    "\n",
    "https://www.indexmundi.com/agriculture/?country=au&commodity=powdered-whole-milk&graph=production"
   ]
  },
  {
   "cell_type": "code",
   "execution_count": null,
   "id": "272b7f07",
   "metadata": {},
   "outputs": [],
   "source": [
    "df_powdered_milk_production_aus = pd.read_csv(\"data/aus/au-powdered-whole-milk-production.csv\")"
   ]
  },
  {
   "cell_type": "code",
   "execution_count": null,
   "id": "d5cb7de6",
   "metadata": {},
   "outputs": [],
   "source": [
    "df_powdered_milk_production_aus"
   ]
  },
  {
   "cell_type": "code",
   "execution_count": null,
   "id": "c188aa58",
   "metadata": {},
   "outputs": [],
   "source": [
    "df_powdered_milk_production_aus_M = transform_indexmundi_yearly_data(df_powdered_milk_production_aus, \"barley_production\")"
   ]
  },
  {
   "cell_type": "code",
   "execution_count": null,
   "id": "bd711024",
   "metadata": {},
   "outputs": [],
   "source": [
    "df_powdered_milk_production_aus_M.isnull().sum()"
   ]
  },
  {
   "cell_type": "code",
   "execution_count": null,
   "id": "792d20e6",
   "metadata": {},
   "outputs": [],
   "source": [
    "df_powdered_milk_production_aus_M.info()"
   ]
  },
  {
   "cell_type": "markdown",
   "id": "44c1a98d",
   "metadata": {},
   "source": [
    "## final output"
   ]
  },
  {
   "cell_type": "code",
   "execution_count": null,
   "id": "ca32ed0e",
   "metadata": {},
   "outputs": [],
   "source": [
    "df_powdered_milk_production_aus_M"
   ]
  },
  {
   "cell_type": "markdown",
   "id": "d0a1c5da",
   "metadata": {},
   "source": [
    "# Australia Dairy, Milk, Fluid Production by Year\n",
    "\n",
    "https://www.indexmundi.com/agriculture/?country=au&commodity=milk&graph=production"
   ]
  },
  {
   "cell_type": "code",
   "execution_count": null,
   "id": "38125840",
   "metadata": {},
   "outputs": [],
   "source": [
    "df_milk_production_aus = pd.read_csv(\"data/aus/au-milk-production.csv\")"
   ]
  },
  {
   "cell_type": "code",
   "execution_count": null,
   "id": "c71ac8a4",
   "metadata": {},
   "outputs": [],
   "source": [
    "df_milk_production_aus"
   ]
  },
  {
   "cell_type": "code",
   "execution_count": null,
   "id": "14b3c171",
   "metadata": {},
   "outputs": [],
   "source": [
    "df_milk_production_aus_M = transform_indexmundi_yearly_data(df_milk_production_aus, \"barley_production\")"
   ]
  },
  {
   "cell_type": "code",
   "execution_count": null,
   "id": "0c8faeed",
   "metadata": {},
   "outputs": [],
   "source": [
    "df_milk_production_aus_M.isnull().sum()"
   ]
  },
  {
   "cell_type": "code",
   "execution_count": null,
   "id": "dcabf40e",
   "metadata": {},
   "outputs": [],
   "source": [
    "df_milk_production_aus_M.info()"
   ]
  },
  {
   "cell_type": "markdown",
   "id": "9fb0263e",
   "metadata": {},
   "source": [
    "## final output"
   ]
  },
  {
   "cell_type": "code",
   "execution_count": null,
   "id": "c8053dba",
   "metadata": {},
   "outputs": [],
   "source": [
    "df_milk_production_aus_M"
   ]
  },
  {
   "cell_type": "markdown",
   "id": "fdf3675a",
   "metadata": {},
   "source": [
    "# Australia Dairy, Milk, Nonfat Dry Production by Year\n",
    "\n",
    "https://www.indexmundi.com/agriculture/?country=au&commodity=nonfat-dry-milk&graph=production"
   ]
  },
  {
   "cell_type": "code",
   "execution_count": null,
   "id": "57833c65",
   "metadata": {},
   "outputs": [],
   "source": [
    "df_nonfatmilk_production_aus = pd.read_csv(\"data/aus/au-nonfat-dry-milk-production.csv\")"
   ]
  },
  {
   "cell_type": "code",
   "execution_count": null,
   "id": "d77b6ce2",
   "metadata": {},
   "outputs": [],
   "source": [
    "df_nonfatmilk_production_aus"
   ]
  },
  {
   "cell_type": "code",
   "execution_count": null,
   "id": "806a6f00",
   "metadata": {},
   "outputs": [],
   "source": [
    "df_nonfatmilk_production_aus_M = transform_indexmundi_yearly_data(df_nonfatmilk_production_aus, \"barley_production\")"
   ]
  },
  {
   "cell_type": "code",
   "execution_count": null,
   "id": "2ea766f5",
   "metadata": {},
   "outputs": [],
   "source": [
    "df_nonfatmilk_production_aus_M.isnull().sum()"
   ]
  },
  {
   "cell_type": "code",
   "execution_count": null,
   "id": "0e79afd5",
   "metadata": {},
   "outputs": [],
   "source": [
    "df_nonfatmilk_production_aus_M.info()"
   ]
  },
  {
   "cell_type": "markdown",
   "id": "dcf7ebc4",
   "metadata": {},
   "source": [
    "## final output"
   ]
  },
  {
   "cell_type": "code",
   "execution_count": null,
   "id": "cf4ca547",
   "metadata": {},
   "outputs": [],
   "source": [
    "df_nonfatmilk_production_aus_M"
   ]
  },
  {
   "cell_type": "markdown",
   "id": "ab6f25c7",
   "metadata": {},
   "source": [
    "# Australia Fish Meal Production by Year\n",
    "\n",
    "https://www.indexmundi.com/agriculture/?country=au&commodity=fish-meal&graph=production"
   ]
  },
  {
   "cell_type": "code",
   "execution_count": null,
   "id": "5935e08d",
   "metadata": {},
   "outputs": [],
   "source": [
    "df_fishmeal_production_aus = pd.read_csv(\"data/aus/au-fish-meal-production.csv\")"
   ]
  },
  {
   "cell_type": "code",
   "execution_count": null,
   "id": "d90fa106",
   "metadata": {},
   "outputs": [],
   "source": [
    "df_fishmeal_production_aus"
   ]
  },
  {
   "cell_type": "code",
   "execution_count": null,
   "id": "fc052378",
   "metadata": {},
   "outputs": [],
   "source": [
    "df_fishmeal_production_aus_M = transform_indexmundi_yearly_data(df_fishmeal_production_aus, \"barley_production\")"
   ]
  },
  {
   "cell_type": "code",
   "execution_count": null,
   "id": "322935e8",
   "metadata": {},
   "outputs": [],
   "source": [
    "df_fishmeal_production_aus_M.isnull().sum()"
   ]
  },
  {
   "cell_type": "code",
   "execution_count": null,
   "id": "36af395d",
   "metadata": {},
   "outputs": [],
   "source": [
    "df_fishmeal_production_aus_M.info()"
   ]
  },
  {
   "cell_type": "markdown",
   "id": "bf04fc56",
   "metadata": {},
   "source": [
    "## final output\n",
    "\n",
    "won't include this as all values are zero.."
   ]
  },
  {
   "cell_type": "code",
   "execution_count": null,
   "id": "fdf6c251",
   "metadata": {},
   "outputs": [],
   "source": [
    "df_fishmeal_production_aus_M"
   ]
  },
  {
   "cell_type": "markdown",
   "id": "b5a935b6",
   "metadata": {},
   "source": [
    "# Australia Milled Rice Production by Year\n",
    "\n",
    "https://www.indexmundi.com/agriculture/?country=au&commodity=milled-rice&graph=production"
   ]
  },
  {
   "cell_type": "code",
   "execution_count": null,
   "id": "630015cf",
   "metadata": {},
   "outputs": [],
   "source": [
    "df_rice_production_aus = pd.read_csv(\"data/aus/au-milled-rice-production.csv\")"
   ]
  },
  {
   "cell_type": "code",
   "execution_count": null,
   "id": "bc76ddbc",
   "metadata": {},
   "outputs": [],
   "source": [
    "df_rice_production_aus"
   ]
  },
  {
   "cell_type": "code",
   "execution_count": null,
   "id": "d74eccf8",
   "metadata": {},
   "outputs": [],
   "source": [
    "df_rice_production_aus_M = transform_indexmundi_yearly_data(df_rice_production_aus, \"barley_production\")"
   ]
  },
  {
   "cell_type": "code",
   "execution_count": null,
   "id": "897c3db9",
   "metadata": {},
   "outputs": [],
   "source": [
    "df_rice_production_aus_M.isnull().sum()"
   ]
  },
  {
   "cell_type": "code",
   "execution_count": null,
   "id": "30676e1b",
   "metadata": {},
   "outputs": [],
   "source": [
    "df_rice_production_aus_M.info()"
   ]
  },
  {
   "cell_type": "markdown",
   "id": "f8fb5877",
   "metadata": {},
   "source": [
    "## final output"
   ]
  },
  {
   "cell_type": "code",
   "execution_count": null,
   "id": "ff3c8f54",
   "metadata": {},
   "outputs": [],
   "source": [
    "df_rice_production_aus_M"
   ]
  },
  {
   "cell_type": "markdown",
   "id": "73898108",
   "metadata": {},
   "source": [
    "# Australia Millet Production by Year\n",
    "\n",
    "https://www.indexmundi.com/agriculture/?country=au&commodity=millet&graph=production"
   ]
  },
  {
   "cell_type": "code",
   "execution_count": null,
   "id": "7a3d29a1",
   "metadata": {},
   "outputs": [],
   "source": [
    "df_millet_production_aus = pd.read_csv(\"data/aus/au-millet-production.csv\")"
   ]
  },
  {
   "cell_type": "code",
   "execution_count": null,
   "id": "113ecaaa",
   "metadata": {},
   "outputs": [],
   "source": [
    "df_millet_production_aus"
   ]
  },
  {
   "cell_type": "code",
   "execution_count": null,
   "id": "9b6b4f5d",
   "metadata": {},
   "outputs": [],
   "source": [
    "df_millet_production_aus_M = transform_indexmundi_yearly_data(df_millet_production_aus, \"barley_production\")"
   ]
  },
  {
   "cell_type": "code",
   "execution_count": null,
   "id": "723d3410",
   "metadata": {},
   "outputs": [],
   "source": [
    "df_millet_production_aus_M.isnull().sum()"
   ]
  },
  {
   "cell_type": "code",
   "execution_count": null,
   "id": "041bf0cd",
   "metadata": {},
   "outputs": [],
   "source": [
    "df_millet_production_aus_M.info()"
   ]
  },
  {
   "cell_type": "markdown",
   "id": "a2845960",
   "metadata": {},
   "source": [
    "## final output"
   ]
  },
  {
   "cell_type": "code",
   "execution_count": null,
   "id": "ca187c4e",
   "metadata": {},
   "outputs": [],
   "source": [
    "df_millet_production_aus_M"
   ]
  },
  {
   "cell_type": "markdown",
   "id": "6320fb39",
   "metadata": {},
   "source": [
    "# Australia Oats Production by Year\n",
    "\n",
    "https://www.indexmundi.com/agriculture/?country=au&commodity=oats&graph=production"
   ]
  },
  {
   "cell_type": "code",
   "execution_count": null,
   "id": "645346a7",
   "metadata": {},
   "outputs": [],
   "source": [
    "df_oats_production_aus = pd.read_csv(\"data/aus/au-oats-production.csv\")"
   ]
  },
  {
   "cell_type": "code",
   "execution_count": null,
   "id": "1bfb2eb1",
   "metadata": {},
   "outputs": [],
   "source": [
    "df_oats_production_aus"
   ]
  },
  {
   "cell_type": "code",
   "execution_count": null,
   "id": "5db4a0b0",
   "metadata": {},
   "outputs": [],
   "source": [
    "df_oats_production_aus_M = transform_indexmundi_yearly_data(df_oats_production_aus, \"barley_production\")"
   ]
  },
  {
   "cell_type": "code",
   "execution_count": null,
   "id": "0389e94d",
   "metadata": {},
   "outputs": [],
   "source": [
    "df_oats_production_aus_M.isnull().sum()"
   ]
  },
  {
   "cell_type": "code",
   "execution_count": null,
   "id": "7cf9a3aa",
   "metadata": {},
   "outputs": [],
   "source": [
    "df_oats_production_aus_M.info()"
   ]
  },
  {
   "cell_type": "markdown",
   "id": "c001ba62",
   "metadata": {},
   "source": [
    "## final output"
   ]
  },
  {
   "cell_type": "code",
   "execution_count": null,
   "id": "0a0951dd",
   "metadata": {},
   "outputs": [],
   "source": [
    "df_oats_production_aus_M"
   ]
  },
  {
   "cell_type": "markdown",
   "id": "f17b3a1d",
   "metadata": {},
   "source": [
    "# Australia Swine Meat Production by Year\n",
    "\n",
    "\n",
    "https://www.indexmundi.com/agriculture/?country=au&commodity=swine-meat&graph=production"
   ]
  },
  {
   "cell_type": "code",
   "execution_count": null,
   "id": "bdb8ba5a",
   "metadata": {},
   "outputs": [],
   "source": [
    "df_swine_production_aus = pd.read_csv(\"data/aus/au-swine-meat-production.csv\")"
   ]
  },
  {
   "cell_type": "code",
   "execution_count": null,
   "id": "950faf5a",
   "metadata": {},
   "outputs": [],
   "source": [
    "df_swine_production_aus"
   ]
  },
  {
   "cell_type": "code",
   "execution_count": null,
   "id": "297a8e69",
   "metadata": {},
   "outputs": [],
   "source": [
    "df_swine_production_aus_M = transform_indexmundi_yearly_data(df_swine_production_aus, \"barley_production\")"
   ]
  },
  {
   "cell_type": "code",
   "execution_count": null,
   "id": "1dcef855",
   "metadata": {},
   "outputs": [],
   "source": [
    "df_swine_production_aus_M.isnull().sum()"
   ]
  },
  {
   "cell_type": "code",
   "execution_count": null,
   "id": "77fa86db",
   "metadata": {},
   "outputs": [],
   "source": [
    "df_swine_production_aus_M.info()"
   ]
  },
  {
   "cell_type": "markdown",
   "id": "5126c06a",
   "metadata": {},
   "source": [
    "## final output"
   ]
  },
  {
   "cell_type": "code",
   "execution_count": null,
   "id": "b3c3821c",
   "metadata": {},
   "outputs": [],
   "source": [
    "df_swine_production_aus_M"
   ]
  },
  {
   "cell_type": "markdown",
   "id": "65e8dec9",
   "metadata": {},
   "source": [
    "# Australia Wheat Production by Year\n",
    "\n",
    "https://www.indexmundi.com/agriculture/?country=au&commodity=wheat&graph=production"
   ]
  },
  {
   "cell_type": "code",
   "execution_count": null,
   "id": "ca6d2edf",
   "metadata": {},
   "outputs": [],
   "source": [
    "df_wheat_production_aus = pd.read_csv(\"data/aus/au-wheat-production.csv\")"
   ]
  },
  {
   "cell_type": "code",
   "execution_count": null,
   "id": "bf2a04fc",
   "metadata": {},
   "outputs": [],
   "source": [
    "df_wheat_production_aus"
   ]
  },
  {
   "cell_type": "code",
   "execution_count": null,
   "id": "dc73e39d",
   "metadata": {},
   "outputs": [],
   "source": [
    "df_wheat_production_aus_M = transform_indexmundi_yearly_data(df_wheat_production_aus, \"barley_production\")"
   ]
  },
  {
   "cell_type": "code",
   "execution_count": null,
   "id": "ff28a280",
   "metadata": {},
   "outputs": [],
   "source": [
    "df_wheat_production_aus_M.isnull().sum()"
   ]
  },
  {
   "cell_type": "code",
   "execution_count": null,
   "id": "47f869e6",
   "metadata": {},
   "outputs": [],
   "source": [
    "df_wheat_production_aus_M.info()"
   ]
  },
  {
   "cell_type": "markdown",
   "id": "8f7843f8",
   "metadata": {},
   "source": [
    "## final output"
   ]
  },
  {
   "cell_type": "code",
   "execution_count": null,
   "id": "e492d8a4",
   "metadata": {},
   "outputs": [],
   "source": [
    "df_wheat_production_aus_M"
   ]
  },
  {
   "cell_type": "markdown",
   "id": "d726b968",
   "metadata": {},
   "source": [
    "# AUD/NZD\n",
    "\n",
    "https://www.investing.com/currencies/aud-nzd-historical-data"
   ]
  },
  {
   "cell_type": "code",
   "execution_count": null,
   "id": "0601fcd4",
   "metadata": {},
   "outputs": [],
   "source": [
    "df_audnzd = prepare_forex_data(\"data/aus/AUD_NZD Historical Data.csv\")"
   ]
  },
  {
   "cell_type": "code",
   "execution_count": null,
   "id": "274f691c",
   "metadata": {},
   "outputs": [],
   "source": [
    "df_audnzd.rename(columns={'price': 'audnzd'}, inplace=True)"
   ]
  },
  {
   "cell_type": "code",
   "execution_count": null,
   "id": "21f1a0d0",
   "metadata": {},
   "outputs": [],
   "source": [
    "df_audnzd.isnull().sum()"
   ]
  },
  {
   "cell_type": "markdown",
   "id": "fd420831",
   "metadata": {},
   "source": [
    "## final output"
   ]
  },
  {
   "cell_type": "code",
   "execution_count": null,
   "id": "041d488d",
   "metadata": {},
   "outputs": [],
   "source": [
    "df_audnzd"
   ]
  },
  {
   "cell_type": "markdown",
   "id": "423455db",
   "metadata": {},
   "source": [
    "# AUD/CNY\n",
    "\n",
    "https://www.investing.com/currencies/aud-cny-historical-data"
   ]
  },
  {
   "cell_type": "code",
   "execution_count": null,
   "id": "de215aca",
   "metadata": {},
   "outputs": [],
   "source": [
    "df_audcny = prepare_forex_data(\"data/aus/AUD_CNY Historical Data.csv\")"
   ]
  },
  {
   "cell_type": "code",
   "execution_count": null,
   "id": "91991611",
   "metadata": {},
   "outputs": [],
   "source": [
    "df_audcny.rename(columns={'price': 'audcny'}, inplace=True)"
   ]
  },
  {
   "cell_type": "code",
   "execution_count": null,
   "id": "0b08ca51",
   "metadata": {},
   "outputs": [],
   "source": [
    "df_audcny.isnull().sum()"
   ]
  },
  {
   "cell_type": "markdown",
   "id": "5952fe86",
   "metadata": {},
   "source": [
    "## final output"
   ]
  },
  {
   "cell_type": "code",
   "execution_count": null,
   "id": "fcb90d5d",
   "metadata": {},
   "outputs": [],
   "source": [
    "df_audcny"
   ]
  },
  {
   "cell_type": "markdown",
   "id": "4303c64b",
   "metadata": {},
   "source": [
    "# AUD/USD\n",
    "\n",
    "https://www.investing.com/currencies/aud-usd-historical-data"
   ]
  },
  {
   "cell_type": "code",
   "execution_count": null,
   "id": "81557091",
   "metadata": {},
   "outputs": [],
   "source": [
    "df_audusd = prepare_forex_data(\"data/aus/AUD_USD Historical Data.csv\")"
   ]
  },
  {
   "cell_type": "code",
   "execution_count": null,
   "id": "62ad8211",
   "metadata": {},
   "outputs": [],
   "source": [
    "df_audusd.rename(columns={'price': 'audusd'}, inplace=True)"
   ]
  },
  {
   "cell_type": "code",
   "execution_count": null,
   "id": "38caa103",
   "metadata": {},
   "outputs": [],
   "source": [
    "df_audusd.isnull().sum()"
   ]
  },
  {
   "cell_type": "markdown",
   "id": "67831b0e",
   "metadata": {},
   "source": [
    "## final output"
   ]
  },
  {
   "cell_type": "code",
   "execution_count": null,
   "id": "ff5ede2e",
   "metadata": {},
   "outputs": [],
   "source": [
    "df_audusd"
   ]
  },
  {
   "cell_type": "markdown",
   "id": "85d10f99",
   "metadata": {},
   "source": [
    "# Australian rain\n",
    "\n",
    "http://www.bom.gov.au/jsp/ncc/cdio/weatherData/av?p_nccObsCode=139&p_display_type=dataFile&p_startYear=&p_c=&p_stn_num=042027\n",
    "\n",
    "Weather station is in Queensland because most of the cattle production happens there:\n",
    "\n",
    "https://www.beefcentral.com/production/australias-20-largest-regions-for-cattle-population/"
   ]
  },
  {
   "cell_type": "code",
   "execution_count": null,
   "id": "94e43fb2",
   "metadata": {},
   "outputs": [],
   "source": [
    "df_rain_aus = pd.read_csv(\"data/aus/weather/rain/queensland_rain.csv\")"
   ]
  },
  {
   "cell_type": "code",
   "execution_count": null,
   "id": "8fc4d3c7",
   "metadata": {},
   "outputs": [],
   "source": [
    "df_rain_aus"
   ]
  },
  {
   "cell_type": "code",
   "execution_count": null,
   "id": "c938a9c6",
   "metadata": {},
   "outputs": [],
   "source": [
    "df_rain_aus = df_rain_aus.drop([\"Product code\",\"Station number\",\"Quality\"], axis=1)"
   ]
  },
  {
   "cell_type": "code",
   "execution_count": null,
   "id": "717c7c9b",
   "metadata": {},
   "outputs": [],
   "source": [
    "df_rain_aus = df_rain_aus.rename(columns={\"Monthly Precipitation Total (millimetres)\" : \"rain\"})"
   ]
  },
  {
   "cell_type": "code",
   "execution_count": null,
   "id": "ef9c2e5a",
   "metadata": {},
   "outputs": [],
   "source": [
    "df_rain_aus[\"date\"] = df_rain_aus.apply(lambda row : \"01/\" + str(int(row[1])) + \"/\" + str(int(row[0]))  , axis=1)"
   ]
  },
  {
   "cell_type": "code",
   "execution_count": null,
   "id": "c180df88",
   "metadata": {},
   "outputs": [],
   "source": [
    "df_rain_aus = df_rain_aus.drop([\"Year\",\"Month\"], axis=1)"
   ]
  },
  {
   "cell_type": "code",
   "execution_count": null,
   "id": "f7ecb589",
   "metadata": {},
   "outputs": [],
   "source": [
    "df_rain_aus"
   ]
  },
  {
   "cell_type": "code",
   "execution_count": null,
   "id": "60196732",
   "metadata": {},
   "outputs": [],
   "source": [
    "# hash works on windos only for date format month wihtout padding\n",
    "# https://stackoverflow.com/questions/9525944/python-datetime-formatting-without-zero-padding\n",
    "# linux uses a -\n",
    "df_rain_aus[\"date\"] = pd.to_datetime(df_rain_aus[\"date\"], format='%d/%m/%Y') + MonthEnd(1)"
   ]
  },
  {
   "cell_type": "code",
   "execution_count": null,
   "id": "5a51d7a2",
   "metadata": {},
   "outputs": [],
   "source": [
    "df_rain_aus.sort_values(by=['date'], inplace=True, ascending=True)"
   ]
  },
  {
   "cell_type": "code",
   "execution_count": null,
   "id": "8d0a592c",
   "metadata": {},
   "outputs": [],
   "source": [
    "df_rain_aus = df_rain_aus.set_index(\"date\")"
   ]
  },
  {
   "cell_type": "code",
   "execution_count": null,
   "id": "f04d8369",
   "metadata": {},
   "outputs": [],
   "source": [
    "df_rain_aus.isnull().sum()"
   ]
  },
  {
   "cell_type": "markdown",
   "id": "788907d0",
   "metadata": {},
   "source": [
    "## final output"
   ]
  },
  {
   "cell_type": "code",
   "execution_count": null,
   "id": "49548adb",
   "metadata": {},
   "outputs": [],
   "source": [
    "df_rain_aus"
   ]
  },
  {
   "cell_type": "markdown",
   "id": "f4ba4a4f",
   "metadata": {},
   "source": [
    "# Australian sunshine\n",
    "\n",
    "http://www.bom.gov.au/jsp/ncc/cdio/weatherData/av?p_nccObsCode=203&p_display_type=dataFile&p_startYear=&p_c=&p_stn_num=042027\n",
    "\n",
    "Weather station is in Queensland because most of the cattle production happens there:\n",
    "\n",
    "https://www.beefcentral.com/production/australias-20-largest-regions-for-cattle-population/"
   ]
  },
  {
   "cell_type": "code",
   "execution_count": null,
   "id": "9b790f1a",
   "metadata": {},
   "outputs": [],
   "source": [
    "df_sun_aus = pd.read_csv(\"data/aus/weather/sunshine/queensland_sunshine.csv\")"
   ]
  },
  {
   "cell_type": "code",
   "execution_count": null,
   "id": "e1540b02",
   "metadata": {},
   "outputs": [],
   "source": [
    "df_sun_aus"
   ]
  },
  {
   "cell_type": "code",
   "execution_count": null,
   "id": "335100de",
   "metadata": {},
   "outputs": [],
   "source": [
    "df_sun_aus = df_sun_aus.drop([\"Product code\",\"Station number\"], axis=1)"
   ]
  },
  {
   "cell_type": "code",
   "execution_count": null,
   "id": "fc37952a",
   "metadata": {},
   "outputs": [],
   "source": [
    "df_sun_aus = df_sun_aus.rename(columns={\"Monthly mean daily global solar exposure (MJ/m*m)\" : \"sunshine\"})"
   ]
  },
  {
   "cell_type": "code",
   "execution_count": null,
   "id": "83f35379",
   "metadata": {},
   "outputs": [],
   "source": [
    "df_sun_aus[\"date\"] = df_sun_aus.apply(lambda row : \"01/\" + str(int(row[1])) + \"/\" + str(int(row[0]))  , axis=1)"
   ]
  },
  {
   "cell_type": "code",
   "execution_count": null,
   "id": "5cff2dba",
   "metadata": {},
   "outputs": [],
   "source": [
    "df_sun_aus = df_sun_aus.drop([\"Year\",\"Month\"], axis=1)"
   ]
  },
  {
   "cell_type": "code",
   "execution_count": null,
   "id": "945ac162",
   "metadata": {},
   "outputs": [],
   "source": [
    "df_sun_aus"
   ]
  },
  {
   "cell_type": "code",
   "execution_count": null,
   "id": "aa0d4d50",
   "metadata": {},
   "outputs": [],
   "source": [
    "# hash works on windos only for date format month wihtout padding\n",
    "# https://stackoverflow.com/questions/9525944/python-datetime-formatting-without-zero-padding\n",
    "# linux uses a -\n",
    "df_sun_aus[\"date\"] = pd.to_datetime(df_sun_aus[\"date\"], format='%d/%m/%Y') + MonthEnd(1)"
   ]
  },
  {
   "cell_type": "code",
   "execution_count": null,
   "id": "a318539f",
   "metadata": {},
   "outputs": [],
   "source": [
    "df_sun_aus.sort_values(by=['date'], inplace=True, ascending=True)"
   ]
  },
  {
   "cell_type": "code",
   "execution_count": null,
   "id": "cdce287d",
   "metadata": {},
   "outputs": [],
   "source": [
    "df_sun_aus = df_sun_aus.set_index(\"date\")"
   ]
  },
  {
   "cell_type": "code",
   "execution_count": null,
   "id": "a54d3880",
   "metadata": {},
   "outputs": [],
   "source": [
    "df_sun_aus.isnull().sum()"
   ]
  },
  {
   "cell_type": "markdown",
   "id": "1a028e93",
   "metadata": {},
   "source": [
    "## final output"
   ]
  },
  {
   "cell_type": "code",
   "execution_count": null,
   "id": "b8804ab9",
   "metadata": {},
   "outputs": [],
   "source": [
    "df_sun_aus"
   ]
  },
  {
   "cell_type": "markdown",
   "id": "9f65dc5c",
   "metadata": {},
   "source": [
    "# Australian temperature\n",
    "\n",
    "http://www.bom.gov.au/jsp/ncc/cdio/weatherData/av?p_nccObsCode=36&p_display_type=dataFile&p_startYear=&p_c=&p_stn_num=053115\n",
    "\n",
    "Weather station is in Queensland because most of the cattle production happens there:\n",
    "\n",
    "https://www.beefcentral.com/production/australias-20-largest-regions-for-cattle-population/"
   ]
  },
  {
   "cell_type": "code",
   "execution_count": null,
   "id": "9905201b",
   "metadata": {},
   "outputs": [],
   "source": [
    "df_temp_aus = pd.read_csv(\"data/aus/weather/temperature/queensland_temperature.csv\")"
   ]
  },
  {
   "cell_type": "code",
   "execution_count": null,
   "id": "79569756",
   "metadata": {},
   "outputs": [],
   "source": [
    "df_temp_aus"
   ]
  },
  {
   "cell_type": "code",
   "execution_count": null,
   "id": "15832b36",
   "metadata": {},
   "outputs": [],
   "source": [
    "df_temp_aus = df_temp_aus.drop([\"Product code\",\"Bureau of Meteorology station number\", \"Quality\"], axis=1)"
   ]
  },
  {
   "cell_type": "code",
   "execution_count": null,
   "id": "5020d773",
   "metadata": {},
   "outputs": [],
   "source": [
    "df_temp_aus = df_temp_aus.rename(columns={\"Mean maximum temperature (°C)\" : \"temp_cel\"})"
   ]
  },
  {
   "cell_type": "code",
   "execution_count": null,
   "id": "9b52ff20",
   "metadata": {},
   "outputs": [],
   "source": [
    "df_temp_aus[\"date\"] = df_temp_aus.apply(lambda row : \"01/\" + str(int(row[1])) + \"/\" + str(int(row[0]))  , axis=1)"
   ]
  },
  {
   "cell_type": "code",
   "execution_count": null,
   "id": "738a1807",
   "metadata": {},
   "outputs": [],
   "source": [
    "df_temp_aus = df_temp_aus.drop([\"Year\",\"Month\"], axis=1)"
   ]
  },
  {
   "cell_type": "code",
   "execution_count": null,
   "id": "52c199b9",
   "metadata": {},
   "outputs": [],
   "source": [
    "df_temp_aus"
   ]
  },
  {
   "cell_type": "code",
   "execution_count": null,
   "id": "14c4d2d4",
   "metadata": {},
   "outputs": [],
   "source": [
    "# hash works on windos only for date format month wihtout padding\n",
    "# https://stackoverflow.com/questions/9525944/python-datetime-formatting-without-zero-padding\n",
    "# linux uses a -\n",
    "df_temp_aus[\"date\"] = pd.to_datetime(df_temp_aus[\"date\"], format='%d/%m/%Y') + MonthEnd(1)"
   ]
  },
  {
   "cell_type": "code",
   "execution_count": null,
   "id": "4c43cac3",
   "metadata": {},
   "outputs": [],
   "source": [
    "df_temp_aus.sort_values(by=['date'], inplace=True, ascending=True)"
   ]
  },
  {
   "cell_type": "code",
   "execution_count": null,
   "id": "14bf67e4",
   "metadata": {},
   "outputs": [],
   "source": [
    "df_temp_aus = df_temp_aus.set_index(\"date\")"
   ]
  },
  {
   "cell_type": "code",
   "execution_count": null,
   "id": "6f73e1c3",
   "metadata": {},
   "outputs": [],
   "source": [
    "df_temp_aus.isnull().sum()"
   ]
  },
  {
   "cell_type": "markdown",
   "id": "d890c8e3",
   "metadata": {},
   "source": [
    "## final output"
   ]
  },
  {
   "cell_type": "code",
   "execution_count": null,
   "id": "cb97fdf9",
   "metadata": {},
   "outputs": [],
   "source": [
    "df_temp_aus"
   ]
  },
  {
   "cell_type": "markdown",
   "id": "ce7b0cdb",
   "metadata": {},
   "source": [
    "# Australian meat slaughterings and production\n",
    "\n",
    "https://www.abs.gov.au/statistics/industry/agriculture/livestock-and-meat-australia/latest-release#data-download"
   ]
  },
  {
   "cell_type": "code",
   "execution_count": null,
   "id": "631d21a8",
   "metadata": {},
   "outputs": [],
   "source": [
    "# I downloaded 15 different excel sheets and took the total for australia (the whole state) figures to use \n",
    "# and pasted them into the csv file below\n",
    "# all figures are in tonnes\n",
    "df_meat_slau_prod = pd.read_csv(\"data/aus/slaughterings_and_production/aus_total_meat_slaughter_and_production.csv\")"
   ]
  },
  {
   "cell_type": "code",
   "execution_count": null,
   "id": "2112f77e",
   "metadata": {},
   "outputs": [],
   "source": [
    "df_meat_slau_prod"
   ]
  },
  {
   "cell_type": "code",
   "execution_count": null,
   "id": "6e826ae9",
   "metadata": {},
   "outputs": [],
   "source": [
    "df_meat_slau_prod.info()"
   ]
  },
  {
   "cell_type": "code",
   "execution_count": null,
   "id": "31e5d9a8",
   "metadata": {},
   "outputs": [],
   "source": [
    "df_meat_slau_prod[\"date\"] = pd.to_datetime(df_meat_slau_prod[\"date\"], format='%b-%Y') + MonthEnd(1)"
   ]
  },
  {
   "cell_type": "code",
   "execution_count": null,
   "id": "483f3641",
   "metadata": {},
   "outputs": [],
   "source": [
    "df_meat_slau_prod = df_meat_slau_prod.set_index(\"date\")"
   ]
  },
  {
   "cell_type": "code",
   "execution_count": null,
   "id": "76fd125c",
   "metadata": {},
   "outputs": [],
   "source": [
    "df_meat_slau_prod = df_meat_slau_prod[df_meat_slau_prod.index.year > 1989]"
   ]
  },
  {
   "cell_type": "code",
   "execution_count": null,
   "id": "a4905eeb",
   "metadata": {},
   "outputs": [],
   "source": [
    "df_meat_slau_prod.isnull().sum()"
   ]
  },
  {
   "cell_type": "markdown",
   "id": "ce0bb9ad",
   "metadata": {},
   "source": [
    "## final output"
   ]
  },
  {
   "cell_type": "code",
   "execution_count": null,
   "id": "54cc942a",
   "metadata": {},
   "outputs": [],
   "source": [
    "df_meat_slau_prod"
   ]
  },
  {
   "cell_type": "markdown",
   "id": "daa76887",
   "metadata": {},
   "source": [
    "#  Consumer Price Index of All Items in Australia\n",
    "\n",
    "https://fred.stlouisfed.org/series/AUSCPIALLQINMEI"
   ]
  },
  {
   "cell_type": "code",
   "execution_count": 4,
   "id": "a896b339",
   "metadata": {},
   "outputs": [],
   "source": [
    "df_cpi_all = pd.read_csv(\"data/aus/cpi/Consumer Price Index of All Items in Australia.csv\")"
   ]
  },
  {
   "cell_type": "code",
   "execution_count": 7,
   "id": "3ea3daa6",
   "metadata": {},
   "outputs": [
    {
     "data": {
      "text/html": [
       "<div>\n",
       "<style scoped>\n",
       "    .dataframe tbody tr th:only-of-type {\n",
       "        vertical-align: middle;\n",
       "    }\n",
       "\n",
       "    .dataframe tbody tr th {\n",
       "        vertical-align: top;\n",
       "    }\n",
       "\n",
       "    .dataframe thead th {\n",
       "        text-align: right;\n",
       "    }\n",
       "</style>\n",
       "<table border=\"1\" class=\"dataframe\">\n",
       "  <thead>\n",
       "    <tr style=\"text-align: right;\">\n",
       "      <th></th>\n",
       "      <th>cpi_all</th>\n",
       "    </tr>\n",
       "    <tr>\n",
       "      <th>date</th>\n",
       "      <th></th>\n",
       "    </tr>\n",
       "  </thead>\n",
       "  <tbody>\n",
       "    <tr>\n",
       "      <th>1960-01-31</th>\n",
       "      <td>6.965405</td>\n",
       "    </tr>\n",
       "    <tr>\n",
       "      <th>1960-02-29</th>\n",
       "      <td>7.058277</td>\n",
       "    </tr>\n",
       "    <tr>\n",
       "      <th>1960-03-31</th>\n",
       "      <td>7.058277</td>\n",
       "    </tr>\n",
       "    <tr>\n",
       "      <th>1960-04-30</th>\n",
       "      <td>7.058277</td>\n",
       "    </tr>\n",
       "    <tr>\n",
       "      <th>1960-05-31</th>\n",
       "      <td>7.151149</td>\n",
       "    </tr>\n",
       "    <tr>\n",
       "      <th>...</th>\n",
       "      <td>...</td>\n",
       "    </tr>\n",
       "    <tr>\n",
       "      <th>2021-08-31</th>\n",
       "      <td>112.653819</td>\n",
       "    </tr>\n",
       "    <tr>\n",
       "      <th>2021-09-30</th>\n",
       "      <td>112.653819</td>\n",
       "    </tr>\n",
       "    <tr>\n",
       "      <th>2021-10-31</th>\n",
       "      <td>112.653819</td>\n",
       "    </tr>\n",
       "    <tr>\n",
       "      <th>2021-11-30</th>\n",
       "      <td>112.653819</td>\n",
       "    </tr>\n",
       "    <tr>\n",
       "      <th>2021-12-31</th>\n",
       "      <td>112.653819</td>\n",
       "    </tr>\n",
       "  </tbody>\n",
       "</table>\n",
       "<p>744 rows × 1 columns</p>\n",
       "</div>"
      ],
      "text/plain": [
       "               cpi_all\n",
       "date                  \n",
       "1960-01-31    6.965405\n",
       "1960-02-29    7.058277\n",
       "1960-03-31    7.058277\n",
       "1960-04-30    7.058277\n",
       "1960-05-31    7.151149\n",
       "...                ...\n",
       "2021-08-31  112.653819\n",
       "2021-09-30  112.653819\n",
       "2021-10-31  112.653819\n",
       "2021-11-30  112.653819\n",
       "2021-12-31  112.653819\n",
       "\n",
       "[744 rows x 1 columns]"
      ]
     },
     "execution_count": 7,
     "metadata": {},
     "output_type": "execute_result"
    }
   ],
   "source": [
    "df_cpi_all"
   ]
  },
  {
   "cell_type": "code",
   "execution_count": 8,
   "id": "5492231a",
   "metadata": {},
   "outputs": [
    {
     "name": "stdout",
     "output_type": "stream",
     "text": [
      "<class 'pandas.core.frame.DataFrame'>\n",
      "DatetimeIndex: 744 entries, 1960-01-31 to 2021-12-31\n",
      "Data columns (total 1 columns):\n",
      " #   Column   Non-Null Count  Dtype  \n",
      "---  ------   --------------  -----  \n",
      " 0   cpi_all  744 non-null    float64\n",
      "dtypes: float64(1)\n",
      "memory usage: 11.6 KB\n"
     ]
    }
   ],
   "source": [
    "df_cpi_all.info()"
   ]
  },
  {
   "cell_type": "code",
   "execution_count": 6,
   "id": "5633e306",
   "metadata": {},
   "outputs": [],
   "source": [
    "df_cpi_all = transform_fred_stlouisfed_quarterlydata(df_cpi_all, \"cpi_all\")"
   ]
  },
  {
   "cell_type": "code",
   "execution_count": null,
   "id": "539e43db",
   "metadata": {},
   "outputs": [],
   "source": [
    "snake_case_columns(df_cpi_all)"
   ]
  },
  {
   "cell_type": "code",
   "execution_count": null,
   "id": "c25be768",
   "metadata": {},
   "outputs": [],
   "source": [
    "df_cpi_all = df_cpi_all.rename(columns={\"auscpiallqinmei\": \"cpi_all\"})"
   ]
  },
  {
   "cell_type": "code",
   "execution_count": null,
   "id": "30496925",
   "metadata": {},
   "outputs": [],
   "source": [
    "df_cpi_all = df_cpi_all.set_index(\"date\")"
   ]
  },
  {
   "cell_type": "code",
   "execution_count": null,
   "id": "ae60c625",
   "metadata": {},
   "outputs": [],
   "source": [
    "df_cpi_all"
   ]
  },
  {
   "cell_type": "code",
   "execution_count": null,
   "id": "c7cb2aea",
   "metadata": {},
   "outputs": [],
   "source": [
    "df_cpi_all = df_cpi_all.resample('M').last().bfill()"
   ]
  },
  {
   "cell_type": "code",
   "execution_count": null,
   "id": "6d24a1dd",
   "metadata": {},
   "outputs": [],
   "source": [
    "df_cpi_all = df_cpi_all[df_cpi_all.index.year > 1989]"
   ]
  },
  {
   "cell_type": "code",
   "execution_count": null,
   "id": "4b2f6c91",
   "metadata": {},
   "outputs": [],
   "source": [
    "df_cpi_all.isnull().sum()"
   ]
  },
  {
   "cell_type": "markdown",
   "id": "56c30c22",
   "metadata": {},
   "source": [
    "## final output"
   ]
  },
  {
   "cell_type": "code",
   "execution_count": null,
   "id": "71bd41d5",
   "metadata": {},
   "outputs": [],
   "source": [
    "df_cpi_all"
   ]
  },
  {
   "cell_type": "markdown",
   "id": "4b4367a1",
   "metadata": {},
   "source": [
    "#  Real Residential Property Prices for Australia\n",
    "\n",
    "https://fred.stlouisfed.org/series/QAUR628BIS"
   ]
  },
  {
   "cell_type": "code",
   "execution_count": null,
   "id": "59f7fd01",
   "metadata": {},
   "outputs": [],
   "source": [
    "df_cpi_residential = pd.read_csv(\"data/aus/cpi/Real Residential Property Prices for Australia.csv\")"
   ]
  },
  {
   "cell_type": "code",
   "execution_count": null,
   "id": "300ac63d",
   "metadata": {},
   "outputs": [],
   "source": [
    "df_cpi_residential = transform_fred_stlouisfed_quarterlydata(df_cpi_residential, \"cpi_residential\")"
   ]
  },
  {
   "cell_type": "code",
   "execution_count": null,
   "id": "6a563891",
   "metadata": {},
   "outputs": [],
   "source": [
    "df_cpi_residential.columns"
   ]
  },
  {
   "cell_type": "code",
   "execution_count": null,
   "id": "165a418e",
   "metadata": {},
   "outputs": [],
   "source": [
    "#df_cpi_residential = df_cpi_residential.rename(columns={\"qaur628bis\":\"cpi_residential\"})"
   ]
  },
  {
   "cell_type": "code",
   "execution_count": null,
   "id": "d3cc9428",
   "metadata": {},
   "outputs": [],
   "source": [
    "df_cpi_residential.isnull().sum()"
   ]
  },
  {
   "cell_type": "markdown",
   "id": "fda1c73e",
   "metadata": {},
   "source": [
    "## final output"
   ]
  },
  {
   "cell_type": "code",
   "execution_count": null,
   "id": "b4b22556",
   "metadata": {},
   "outputs": [],
   "source": [
    "df_cpi_residential"
   ]
  },
  {
   "cell_type": "markdown",
   "id": "f47d0a61",
   "metadata": {},
   "source": [
    "# Consumer Price Index: All Items Excluding Food and Energy for Australia \n",
    "\n",
    "https://fred.stlouisfed.org/series/AUSCPICORQINMEI"
   ]
  },
  {
   "cell_type": "code",
   "execution_count": null,
   "id": "d0c21988",
   "metadata": {},
   "outputs": [],
   "source": [
    "df_cpi_all_ex_food_energy = pd.read_csv(\"data/aus/cpi/Consumer Price Index All Items Excluding Food and Energy for Australia.csv\")"
   ]
  },
  {
   "cell_type": "code",
   "execution_count": null,
   "id": "e308c8d4",
   "metadata": {},
   "outputs": [],
   "source": [
    "df_cpi_all_ex_food_energy"
   ]
  },
  {
   "cell_type": "code",
   "execution_count": null,
   "id": "44f1fc4f",
   "metadata": {},
   "outputs": [],
   "source": [
    "df_cpi_all_ex_food_energy[\"DATE\"] = pd.to_datetime(df_cpi_all_ex_food_energy[\"DATE\"], format='%Y-%m-%d') + MonthEnd(1)"
   ]
  },
  {
   "cell_type": "code",
   "execution_count": null,
   "id": "35bc6dc3",
   "metadata": {},
   "outputs": [],
   "source": [
    "column_index_name=\"cpi_all_ex_food_energy\""
   ]
  },
  {
   "cell_type": "code",
   "execution_count": null,
   "id": "e4c7e836",
   "metadata": {},
   "outputs": [],
   "source": [
    "df_cpi_all_ex_food_energy.rename(columns= { df_cpi_all_ex_food_energy.columns[1] : column_index_name })"
   ]
  },
  {
   "cell_type": "code",
   "execution_count": null,
   "id": "fffcc08c",
   "metadata": {},
   "outputs": [],
   "source": []
  },
  {
   "cell_type": "code",
   "execution_count": null,
   "id": "05a06d69",
   "metadata": {},
   "outputs": [],
   "source": []
  },
  {
   "cell_type": "code",
   "execution_count": null,
   "id": "8fb8711f",
   "metadata": {},
   "outputs": [],
   "source": []
  },
  {
   "cell_type": "code",
   "execution_count": null,
   "id": "e9031f29",
   "metadata": {},
   "outputs": [],
   "source": []
  },
  {
   "cell_type": "code",
   "execution_count": null,
   "id": "c1f95628",
   "metadata": {},
   "outputs": [],
   "source": [
    "df_cpi_all_ex_food_energy = transform_fred_stlouisfed_quarterlydata(df_cpi_all_ex_food_energy, \"cpi_all_ex_food_energy\")"
   ]
  },
  {
   "cell_type": "code",
   "execution_count": null,
   "id": "1c311679",
   "metadata": {},
   "outputs": [],
   "source": [
    "df_cpi_all_ex_food_energy.columns"
   ]
  },
  {
   "cell_type": "code",
   "execution_count": null,
   "id": "8da32284",
   "metadata": {},
   "outputs": [],
   "source": [
    "df_cpi_all_ex_food_energy = df_cpi_all_ex_food_energy.rename(columns={\"auscpicorqinmei\":\"cpi_all_ex_food_energy\"})"
   ]
  },
  {
   "cell_type": "code",
   "execution_count": null,
   "id": "c6e6c5d7",
   "metadata": {},
   "outputs": [],
   "source": [
    "df_cpi_all_ex_food_energy.isnull().sum()"
   ]
  },
  {
   "cell_type": "markdown",
   "id": "627f2e75",
   "metadata": {},
   "source": [
    "## final output"
   ]
  },
  {
   "cell_type": "code",
   "execution_count": null,
   "id": "dad1407b",
   "metadata": {},
   "outputs": [],
   "source": [
    "df_cpi_all_ex_food_energy"
   ]
  },
  {
   "cell_type": "markdown",
   "id": "58a94d26",
   "metadata": {},
   "source": [
    "# Consumer Price Index: Food for Australia\n",
    "\n",
    "https://fred.stlouisfed.org/series/AUSCPIFODQINMEI"
   ]
  },
  {
   "cell_type": "code",
   "execution_count": null,
   "id": "35256e76",
   "metadata": {},
   "outputs": [],
   "source": [
    "df_cpi_food = pd.read_csv(\"data/aus/cpi/Consumer Price Index Food for Australia.csv\")"
   ]
  },
  {
   "cell_type": "code",
   "execution_count": null,
   "id": "5d11e8d8",
   "metadata": {},
   "outputs": [],
   "source": []
  },
  {
   "cell_type": "code",
   "execution_count": null,
   "id": "11c003d8",
   "metadata": {},
   "outputs": [],
   "source": [
    "df_cpi_food"
   ]
  },
  {
   "cell_type": "code",
   "execution_count": null,
   "id": "e978febc",
   "metadata": {},
   "outputs": [],
   "source": [
    "df_cpi_food = transform_fred_stlouisfed_quarterlydata(df_cpi_food, \"cpi_food\")"
   ]
  },
  {
   "cell_type": "code",
   "execution_count": null,
   "id": "88da73c8",
   "metadata": {},
   "outputs": [],
   "source": [
    "df_cpi_food.columns"
   ]
  },
  {
   "cell_type": "code",
   "execution_count": null,
   "id": "f7e6fb48",
   "metadata": {},
   "outputs": [],
   "source": [
    "df_cpi_food = df_cpi_food.rename(columns={\"auscpifodqinmei\":\"cpi_food\"})"
   ]
  },
  {
   "cell_type": "code",
   "execution_count": null,
   "id": "d25e0dc8",
   "metadata": {},
   "outputs": [],
   "source": [
    "df_cpi_food.isnull().sum()"
   ]
  },
  {
   "cell_type": "markdown",
   "id": "50c700cf",
   "metadata": {},
   "source": [
    "## final output"
   ]
  },
  {
   "cell_type": "code",
   "execution_count": null,
   "id": "3b4cb416",
   "metadata": {},
   "outputs": [],
   "source": [
    "df_cpi_food.tail(1)"
   ]
  },
  {
   "cell_type": "code",
   "execution_count": null,
   "id": "f13fc872",
   "metadata": {},
   "outputs": [],
   "source": [
    "df_cpi_food.tail(1).index[0]"
   ]
  },
  {
   "cell_type": "code",
   "execution_count": null,
   "id": "a74abc16",
   "metadata": {},
   "outputs": [],
   "source": [
    "df_cpi_food.columns[1]"
   ]
  },
  {
   "cell_type": "code",
   "execution_count": null,
   "id": "6c76431f",
   "metadata": {},
   "outputs": [],
   "source": [
    "miss = pd.date_range(start=df_cpi_food.tail(1).index[0], end='31-DEC-2021', freq='M').to_frame(index=False, name='date')[1:]"
   ]
  },
  {
   "cell_type": "code",
   "execution_count": null,
   "id": "359e66b6",
   "metadata": {},
   "outputs": [],
   "source": [
    "#miss"
   ]
  },
  {
   "cell_type": "code",
   "execution_count": null,
   "id": "1fa142c8",
   "metadata": {},
   "outputs": [],
   "source": [
    "miss[\"cpi_food\"] = np.nan"
   ]
  },
  {
   "cell_type": "code",
   "execution_count": null,
   "id": "f150cf7a",
   "metadata": {},
   "outputs": [],
   "source": [
    "miss = miss.set_index(\"date\")"
   ]
  },
  {
   "cell_type": "code",
   "execution_count": null,
   "id": "40a69597",
   "metadata": {},
   "outputs": [],
   "source": [
    "pd.concat([df_cpi_food, miss]).interpolate(method='linear')#.reset_index(drop=True)"
   ]
  },
  {
   "cell_type": "code",
   "execution_count": null,
   "id": "490a84bf",
   "metadata": {},
   "outputs": [],
   "source": [
    "df_cpi_food"
   ]
  },
  {
   "cell_type": "markdown",
   "id": "31412b21",
   "metadata": {},
   "source": [
    "# Producer Prices Index: Economic Activities: Total Manufacturing for Australia\n",
    "\n",
    "https://fred.stlouisfed.org/series/PIEAMP01AUQ661N"
   ]
  },
  {
   "cell_type": "code",
   "execution_count": null,
   "id": "f43b59d6",
   "metadata": {},
   "outputs": [],
   "source": [
    "df_prod_index = pd.read_csv(\"data/aus/cpi/Producer Prices Index Economic Activities Total Manufacturing for Australia.csv\")"
   ]
  },
  {
   "cell_type": "code",
   "execution_count": null,
   "id": "745074e6",
   "metadata": {},
   "outputs": [],
   "source": [
    "df_prod_index = transform_fred_stlouisfed_quarterlydata(df_prod_index)"
   ]
  },
  {
   "cell_type": "code",
   "execution_count": null,
   "id": "1baa33a1",
   "metadata": {},
   "outputs": [],
   "source": [
    "df_prod_index.columns"
   ]
  },
  {
   "cell_type": "code",
   "execution_count": null,
   "id": "27d85955",
   "metadata": {},
   "outputs": [],
   "source": [
    "df_prod_index = df_prod_index.rename(columns={\"pieamp01auq661n\":\"cpi_prod_index\"})"
   ]
  },
  {
   "cell_type": "code",
   "execution_count": null,
   "id": "598574e0",
   "metadata": {},
   "outputs": [],
   "source": [
    "df_prod_index.isnull().sum()"
   ]
  },
  {
   "cell_type": "markdown",
   "id": "911d9cca",
   "metadata": {},
   "source": [
    "## final output"
   ]
  },
  {
   "cell_type": "code",
   "execution_count": null,
   "id": "c2374d17",
   "metadata": {},
   "outputs": [],
   "source": [
    "df_prod_index"
   ]
  },
  {
   "cell_type": "markdown",
   "id": "841c0e2f",
   "metadata": {},
   "source": [
    "# Australian petrol and diesel\n",
    "\n",
    "\n",
    "https://www.fuelwatch.wa.gov.au/retail/monthly"
   ]
  },
  {
   "cell_type": "code",
   "execution_count": null,
   "id": "1afecb6f",
   "metadata": {},
   "outputs": [],
   "source": [
    "# This  csv file was manually preprocessed from two xlsx files from fuel watch that contained the \n",
    "# historical petrol and diesel prices for Australia\n",
    "# Monthly-Diesel-prices-Metro-199901-202205.csv & Monthly-ULP-prices-Metro-199901-202205.csv\n",
    "df_aus_fuel = pd.read_csv(\"data/aus/fuel/aus_petrol_diesel_prices_2001-2022.csv\")"
   ]
  },
  {
   "cell_type": "code",
   "execution_count": null,
   "id": "afb5d5f3",
   "metadata": {},
   "outputs": [],
   "source": [
    "# prices are AUD and cost per litre\n",
    "df_aus_fuel"
   ]
  },
  {
   "cell_type": "code",
   "execution_count": null,
   "id": "04d276ec",
   "metadata": {},
   "outputs": [],
   "source": [
    "df_aus_fuel.info()"
   ]
  },
  {
   "cell_type": "code",
   "execution_count": null,
   "id": "13f378f8",
   "metadata": {},
   "outputs": [],
   "source": [
    "df_aus_fuel[\"month\"] = pd.to_datetime(df_aus_fuel[\"month\"], format='%b-%y') + MonthEnd(1)"
   ]
  },
  {
   "cell_type": "code",
   "execution_count": null,
   "id": "6c341f82",
   "metadata": {},
   "outputs": [],
   "source": [
    "df_aus_fuel"
   ]
  },
  {
   "cell_type": "code",
   "execution_count": null,
   "id": "f3ff7932",
   "metadata": {},
   "outputs": [],
   "source": [
    "df_aus_fuel = df_aus_fuel.set_index(\"month\")"
   ]
  },
  {
   "cell_type": "code",
   "execution_count": null,
   "id": "75051093",
   "metadata": {},
   "outputs": [],
   "source": [
    "df_aus_fuel"
   ]
  },
  {
   "cell_type": "code",
   "execution_count": null,
   "id": "71c67b42",
   "metadata": {},
   "outputs": [],
   "source": [
    "df_aus_fuel['diesel'] = df_aus_fuel['diesel'].interpolate(method='linear')"
   ]
  },
  {
   "cell_type": "code",
   "execution_count": null,
   "id": "ef2f5353",
   "metadata": {},
   "outputs": [],
   "source": [
    "df_aus_fuel['petrol'] = df_aus_fuel['petrol'].interpolate(method='linear')"
   ]
  },
  {
   "cell_type": "code",
   "execution_count": null,
   "id": "aff618c4",
   "metadata": {},
   "outputs": [],
   "source": [
    "df_aus_fuel"
   ]
  },
  {
   "cell_type": "code",
   "execution_count": null,
   "id": "7298b680",
   "metadata": {},
   "outputs": [],
   "source": [
    "df_aus_fuel.isnull().sum()"
   ]
  },
  {
   "cell_type": "markdown",
   "id": "260087a6",
   "metadata": {},
   "source": [
    "## final output"
   ]
  },
  {
   "cell_type": "code",
   "execution_count": null,
   "id": "01cce3f8",
   "metadata": {},
   "outputs": [],
   "source": [
    "df_aus_fuel"
   ]
  },
  {
   "cell_type": "code",
   "execution_count": null,
   "id": "98f59430",
   "metadata": {},
   "outputs": [],
   "source": []
  }
 ],
 "metadata": {
  "kernelspec": {
   "display_name": "Python [conda env:dataprep]",
   "language": "python",
   "name": "conda-env-dataprep-py"
  },
  "language_info": {
   "codemirror_mode": {
    "name": "ipython",
    "version": 3
   },
   "file_extension": ".py",
   "mimetype": "text/x-python",
   "name": "python",
   "nbconvert_exporter": "python",
   "pygments_lexer": "ipython3",
   "version": "3.7.12"
  },
  "toc": {
   "base_numbering": 1,
   "nav_menu": {},
   "number_sections": true,
   "sideBar": true,
   "skip_h1_title": false,
   "title_cell": "Table of Contents",
   "title_sidebar": "Contents",
   "toc_cell": false,
   "toc_position": {
    "height": "calc(100% - 180px)",
    "left": "10px",
    "top": "150px",
    "width": "516.484px"
   },
   "toc_section_display": true,
   "toc_window_display": true
  }
 },
 "nbformat": 4,
 "nbformat_minor": 5
}
