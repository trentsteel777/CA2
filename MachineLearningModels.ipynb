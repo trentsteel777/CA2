{
 "cells": [
  {
   "cell_type": "code",
   "execution_count": 1,
   "id": "3afc67f9",
   "metadata": {},
   "outputs": [
    {
     "data": {
      "text/html": [
       "<style type='text/css'>\n",
       ".datatable table.frame { margin-bottom: 0; }\n",
       ".datatable table.frame thead { border-bottom: none; }\n",
       ".datatable table.frame tr.coltypes td {  color: #FFFFFF;  line-height: 6px;  padding: 0 0.5em;}\n",
       ".datatable .bool    { background: #DDDD99; }\n",
       ".datatable .object  { background: #565656; }\n",
       ".datatable .int     { background: #5D9E5D; }\n",
       ".datatable .float   { background: #4040CC; }\n",
       ".datatable .str     { background: #CC4040; }\n",
       ".datatable .time    { background: #40CC40; }\n",
       ".datatable .row_index {  background: var(--jp-border-color3);  border-right: 1px solid var(--jp-border-color0);  color: var(--jp-ui-font-color3);  font-size: 9px;}\n",
       ".datatable .frame tbody td { text-align: left; }\n",
       ".datatable .frame tr.coltypes .row_index {  background: var(--jp-border-color0);}\n",
       ".datatable th:nth-child(2) { padding-left: 12px; }\n",
       ".datatable .hellipsis {  color: var(--jp-cell-editor-border-color);}\n",
       ".datatable .vellipsis {  background: var(--jp-layout-color0);  color: var(--jp-cell-editor-border-color);}\n",
       ".datatable .na {  color: var(--jp-cell-editor-border-color);  font-size: 80%;}\n",
       ".datatable .sp {  opacity: 0.25;}\n",
       ".datatable .footer { font-size: 9px; }\n",
       ".datatable .frame_dimensions {  background: var(--jp-border-color3);  border-top: 1px solid var(--jp-border-color0);  color: var(--jp-ui-font-color3);  display: inline-block;  opacity: 0.6;  padding: 1px 10px 1px 5px;}\n",
       "</style>\n"
      ],
      "text/plain": [
       "<IPython.core.display.HTML object>"
      ]
     },
     "metadata": {},
     "output_type": "display_data"
    }
   ],
   "source": [
    "import pandas as pd\n",
    "import seaborn as sns\n",
    "import matplotlib.pyplot as plt\n",
    "import matplotlib.ticker as ticker\n",
    "import matplotlib.dates as mdates\n",
    "import numpy as np\n",
    "\n",
    "from sklearn import model_selection\n",
    "from sklearn.dummy import DummyClassifier, DummyRegressor\n",
    "from sklearn.linear_model import (LogisticRegression, LinearRegression)\n",
    "from sklearn.tree import DecisionTreeClassifier, DecisionTreeRegressor\n",
    "from sklearn.neighbors import (KNeighborsClassifier, KNeighborsRegressor)\n",
    "# https://stackoverflow.com/questions/25336176/does-scikit-learn-include-a-naive-bayes-classifier-with-continuous-inputs\n",
    "from sklearn.naive_bayes import GaussianNB\n",
    "# https://scikit-learn.org/stable/modules/generated/sklearn.linear_model.BayesianRidge.html#sklearn.linear_model.BayesianRidge\n",
    "from sklearn.linear_model import BayesianRidge\n",
    "from sklearn.svm import SVC, SVR\n",
    "from sklearn.ensemble import (RandomForestClassifier, RandomForestRegressor)\n",
    "import xgboost\n",
    "from sklearn.dummy import DummyClassifier\n",
    "from sklearn import metrics\n",
    "from sklearn.metrics import accuracy_score, make_scorer\n",
    "from sklearn.model_selection import cross_validate\n",
    "from tabulate import tabulate\n",
    "from operator import itemgetter\n",
    "\n",
    "# https://www.educative.io/blog/scikit-learn-cheat-sheet-classification-regression-methods\n",
    "from lightgbm import LGBMRegressor\n",
    "from catboost import CatBoostRegressor\n",
    "from sklearn.linear_model import SGDRegressor\n",
    "from sklearn.kernel_ridge import KernelRidge\n",
    "from sklearn.linear_model import ElasticNet\n",
    "from sklearn.ensemble import GradientBoostingRegressor\n",
    "from sklearn.model_selection import TimeSeriesSplit\n",
    "from sklearn.model_selection import GridSearchCV\n",
    "import ast\n",
    "from lightgbm import LGBMRegressor\n",
    "from xgboost import XGBRegressor\n",
    "from sklearn.model_selection import train_test_split    \n",
    "from funcs_ml import model_using_train_test_split, model_using_kfold, model_using_time_series_split, model_using_grid_search_cv_with_timeseriessplit\n",
    "from funcs_ml import feature_selection_by_extra_tree_regressor, feature_selection_by_xgb, xgb_gridsearch_cv, lightgbm_gridsearch_cv\n",
    "from funcs_ml import test_model_iteratively_with_most_important_features, train_best_model"
   ]
  },
  {
   "cell_type": "markdown",
   "id": "6090dc11",
   "metadata": {},
   "source": [
    "# Read Data"
   ]
  },
  {
   "cell_type": "markdown",
   "id": "aacd5ba4",
   "metadata": {},
   "source": [
    "## Ireland"
   ]
  },
  {
   "cell_type": "code",
   "execution_count": 2,
   "id": "3b2be0a6",
   "metadata": {},
   "outputs": [],
   "source": [
    "df_ireland = pd.read_csv(\"data/final/df_final_irish_beef_feat_cols_and_target_values_1999-2022.csv\")"
   ]
  },
  {
   "cell_type": "code",
   "execution_count": 3,
   "id": "2c42ec2e",
   "metadata": {},
   "outputs": [
    {
     "data": {
      "text/html": [
       "<div>\n",
       "<style scoped>\n",
       "    .dataframe tbody tr th:only-of-type {\n",
       "        vertical-align: middle;\n",
       "    }\n",
       "\n",
       "    .dataframe tbody tr th {\n",
       "        vertical-align: top;\n",
       "    }\n",
       "\n",
       "    .dataframe thead th {\n",
       "        text-align: right;\n",
       "    }\n",
       "</style>\n",
       "<table border=\"1\" class=\"dataframe\">\n",
       "  <thead>\n",
       "    <tr style=\"text-align: right;\">\n",
       "      <th></th>\n",
       "      <th>Unnamed: 0</th>\n",
       "      <th>bullocks_200-249kg</th>\n",
       "      <th>bullocks_250-299kg</th>\n",
       "      <th>bullocks_300-349kg</th>\n",
       "      <th>bullocks_350-399kg</th>\n",
       "      <th>bullocks_400-449kg</th>\n",
       "      <th>bullocks_450-499kg</th>\n",
       "      <th>bullocks_500-549kg</th>\n",
       "      <th>bullocks_550kg+</th>\n",
       "      <th>heifers_200-249kg</th>\n",
       "      <th>...</th>\n",
       "      <th>pork_loin_chops_per_kg</th>\n",
       "      <th>pork_sausages_per_kg</th>\n",
       "      <th>pork_steak_per_kg</th>\n",
       "      <th>potatoes_10_kg</th>\n",
       "      <th>sherry_take_home_75cl_bottle</th>\n",
       "      <th>sirloin_steak_per_kg</th>\n",
       "      <th>stout_draught_bar_1_pint</th>\n",
       "      <th>tomatoes_per_kg</th>\n",
       "      <th>vodka_take_home_70cl_bottle</th>\n",
       "      <th>whiskey_take_home_70cl_bottle</th>\n",
       "    </tr>\n",
       "  </thead>\n",
       "  <tbody>\n",
       "    <tr>\n",
       "      <th>0</th>\n",
       "      <td>1999-01-31</td>\n",
       "      <td>136.83</td>\n",
       "      <td>139.73</td>\n",
       "      <td>133.33</td>\n",
       "      <td>131.07</td>\n",
       "      <td>127.16</td>\n",
       "      <td>120.83</td>\n",
       "      <td>121.28</td>\n",
       "      <td>119.78</td>\n",
       "      <td>83.25</td>\n",
       "      <td>...</td>\n",
       "      <td>6.83387</td>\n",
       "      <td>3.92049</td>\n",
       "      <td>10.11682</td>\n",
       "      <td>6.99516</td>\n",
       "      <td>10.01776</td>\n",
       "      <td>10.42162</td>\n",
       "      <td>2.66192</td>\n",
       "      <td>2.36474</td>\n",
       "      <td>15.45209</td>\n",
       "      <td>17.31772</td>\n",
       "    </tr>\n",
       "    <tr>\n",
       "      <th>1</th>\n",
       "      <td>1999-02-28</td>\n",
       "      <td>143.80</td>\n",
       "      <td>140.10</td>\n",
       "      <td>130.93</td>\n",
       "      <td>126.85</td>\n",
       "      <td>122.36</td>\n",
       "      <td>121.99</td>\n",
       "      <td>118.89</td>\n",
       "      <td>122.60</td>\n",
       "      <td>72.94</td>\n",
       "      <td>...</td>\n",
       "      <td>6.92023</td>\n",
       "      <td>3.88620</td>\n",
       "      <td>10.05459</td>\n",
       "      <td>7.10311</td>\n",
       "      <td>10.18159</td>\n",
       "      <td>10.53465</td>\n",
       "      <td>2.66192</td>\n",
       "      <td>2.29743</td>\n",
       "      <td>15.46860</td>\n",
       "      <td>17.31645</td>\n",
       "    </tr>\n",
       "    <tr>\n",
       "      <th>2</th>\n",
       "      <td>1999-03-31</td>\n",
       "      <td>146.38</td>\n",
       "      <td>133.37</td>\n",
       "      <td>126.74</td>\n",
       "      <td>121.88</td>\n",
       "      <td>121.34</td>\n",
       "      <td>120.37</td>\n",
       "      <td>123.38</td>\n",
       "      <td>120.78</td>\n",
       "      <td>88.66</td>\n",
       "      <td>...</td>\n",
       "      <td>7.21741</td>\n",
       "      <td>3.89382</td>\n",
       "      <td>9.99236</td>\n",
       "      <td>7.06755</td>\n",
       "      <td>10.20953</td>\n",
       "      <td>10.41908</td>\n",
       "      <td>2.66192</td>\n",
       "      <td>2.10820</td>\n",
       "      <td>15.46098</td>\n",
       "      <td>17.31645</td>\n",
       "    </tr>\n",
       "    <tr>\n",
       "      <th>3</th>\n",
       "      <td>1999-04-30</td>\n",
       "      <td>141.20</td>\n",
       "      <td>131.58</td>\n",
       "      <td>121.23</td>\n",
       "      <td>119.14</td>\n",
       "      <td>120.69</td>\n",
       "      <td>124.75</td>\n",
       "      <td>122.41</td>\n",
       "      <td>122.15</td>\n",
       "      <td>76.94</td>\n",
       "      <td>...</td>\n",
       "      <td>7.18693</td>\n",
       "      <td>3.90017</td>\n",
       "      <td>9.81202</td>\n",
       "      <td>6.92150</td>\n",
       "      <td>10.24001</td>\n",
       "      <td>10.65911</td>\n",
       "      <td>2.69240</td>\n",
       "      <td>2.35077</td>\n",
       "      <td>15.42796</td>\n",
       "      <td>17.32788</td>\n",
       "    </tr>\n",
       "    <tr>\n",
       "      <th>4</th>\n",
       "      <td>1999-05-31</td>\n",
       "      <td>136.09</td>\n",
       "      <td>122.94</td>\n",
       "      <td>116.59</td>\n",
       "      <td>121.77</td>\n",
       "      <td>123.92</td>\n",
       "      <td>122.61</td>\n",
       "      <td>124.88</td>\n",
       "      <td>121.30</td>\n",
       "      <td>114.15</td>\n",
       "      <td>...</td>\n",
       "      <td>7.30631</td>\n",
       "      <td>3.92303</td>\n",
       "      <td>10.02411</td>\n",
       "      <td>6.83387</td>\n",
       "      <td>10.21715</td>\n",
       "      <td>10.78738</td>\n",
       "      <td>2.73558</td>\n",
       "      <td>2.13360</td>\n",
       "      <td>15.54480</td>\n",
       "      <td>17.63776</td>\n",
       "    </tr>\n",
       "    <tr>\n",
       "      <th>...</th>\n",
       "      <td>...</td>\n",
       "      <td>...</td>\n",
       "      <td>...</td>\n",
       "      <td>...</td>\n",
       "      <td>...</td>\n",
       "      <td>...</td>\n",
       "      <td>...</td>\n",
       "      <td>...</td>\n",
       "      <td>...</td>\n",
       "      <td>...</td>\n",
       "      <td>...</td>\n",
       "      <td>...</td>\n",
       "      <td>...</td>\n",
       "      <td>...</td>\n",
       "      <td>...</td>\n",
       "      <td>...</td>\n",
       "      <td>...</td>\n",
       "      <td>...</td>\n",
       "      <td>...</td>\n",
       "      <td>...</td>\n",
       "      <td>...</td>\n",
       "    </tr>\n",
       "    <tr>\n",
       "      <th>273</th>\n",
       "      <td>2021-10-31</td>\n",
       "      <td>172.03</td>\n",
       "      <td>196.88</td>\n",
       "      <td>185.30</td>\n",
       "      <td>198.15</td>\n",
       "      <td>203.87</td>\n",
       "      <td>201.15</td>\n",
       "      <td>203.94</td>\n",
       "      <td>199.58</td>\n",
       "      <td>222.61</td>\n",
       "      <td>...</td>\n",
       "      <td>7.54300</td>\n",
       "      <td>6.22100</td>\n",
       "      <td>7.84500</td>\n",
       "      <td>7.63800</td>\n",
       "      <td>14.04300</td>\n",
       "      <td>14.20900</td>\n",
       "      <td>4.95000</td>\n",
       "      <td>3.36400</td>\n",
       "      <td>20.49700</td>\n",
       "      <td>25.05500</td>\n",
       "    </tr>\n",
       "    <tr>\n",
       "      <th>274</th>\n",
       "      <td>2021-11-30</td>\n",
       "      <td>169.93</td>\n",
       "      <td>174.18</td>\n",
       "      <td>196.74</td>\n",
       "      <td>203.66</td>\n",
       "      <td>199.36</td>\n",
       "      <td>197.53</td>\n",
       "      <td>205.40</td>\n",
       "      <td>204.63</td>\n",
       "      <td>194.16</td>\n",
       "      <td>...</td>\n",
       "      <td>7.39400</td>\n",
       "      <td>6.18800</td>\n",
       "      <td>8.72500</td>\n",
       "      <td>7.63800</td>\n",
       "      <td>14.04300</td>\n",
       "      <td>14.20900</td>\n",
       "      <td>4.94800</td>\n",
       "      <td>3.36800</td>\n",
       "      <td>19.40400</td>\n",
       "      <td>22.93100</td>\n",
       "    </tr>\n",
       "    <tr>\n",
       "      <th>275</th>\n",
       "      <td>2021-12-31</td>\n",
       "      <td>210.53</td>\n",
       "      <td>200.10</td>\n",
       "      <td>191.37</td>\n",
       "      <td>208.82</td>\n",
       "      <td>204.46</td>\n",
       "      <td>203.70</td>\n",
       "      <td>201.86</td>\n",
       "      <td>207.42</td>\n",
       "      <td>211.98</td>\n",
       "      <td>...</td>\n",
       "      <td>7.56400</td>\n",
       "      <td>6.22100</td>\n",
       "      <td>7.40200</td>\n",
       "      <td>7.63800</td>\n",
       "      <td>14.04300</td>\n",
       "      <td>14.25800</td>\n",
       "      <td>4.94300</td>\n",
       "      <td>3.37600</td>\n",
       "      <td>18.68800</td>\n",
       "      <td>22.37900</td>\n",
       "    </tr>\n",
       "    <tr>\n",
       "      <th>276</th>\n",
       "      <td>2022-01-31</td>\n",
       "      <td>204.89</td>\n",
       "      <td>215.17</td>\n",
       "      <td>221.32</td>\n",
       "      <td>225.42</td>\n",
       "      <td>212.41</td>\n",
       "      <td>223.02</td>\n",
       "      <td>224.50</td>\n",
       "      <td>214.11</td>\n",
       "      <td>245.92</td>\n",
       "      <td>...</td>\n",
       "      <td>7.46200</td>\n",
       "      <td>6.20800</td>\n",
       "      <td>8.37200</td>\n",
       "      <td>7.63800</td>\n",
       "      <td>14.04300</td>\n",
       "      <td>14.25800</td>\n",
       "      <td>4.94600</td>\n",
       "      <td>3.22800</td>\n",
       "      <td>24.54400</td>\n",
       "      <td>27.65700</td>\n",
       "    </tr>\n",
       "    <tr>\n",
       "      <th>277</th>\n",
       "      <td>2022-02-28</td>\n",
       "      <td>238.18</td>\n",
       "      <td>211.81</td>\n",
       "      <td>220.02</td>\n",
       "      <td>234.75</td>\n",
       "      <td>231.47</td>\n",
       "      <td>229.55</td>\n",
       "      <td>235.88</td>\n",
       "      <td>225.72</td>\n",
       "      <td>256.63</td>\n",
       "      <td>...</td>\n",
       "      <td>7.39900</td>\n",
       "      <td>6.32600</td>\n",
       "      <td>8.54800</td>\n",
       "      <td>7.63800</td>\n",
       "      <td>14.04300</td>\n",
       "      <td>14.25400</td>\n",
       "      <td>4.94600</td>\n",
       "      <td>3.36100</td>\n",
       "      <td>24.32400</td>\n",
       "      <td>27.21400</td>\n",
       "    </tr>\n",
       "  </tbody>\n",
       "</table>\n",
       "<p>278 rows × 80 columns</p>\n",
       "</div>"
      ],
      "text/plain": [
       "     Unnamed: 0  bullocks_200-249kg  bullocks_250-299kg  bullocks_300-349kg  \\\n",
       "0    1999-01-31              136.83              139.73              133.33   \n",
       "1    1999-02-28              143.80              140.10              130.93   \n",
       "2    1999-03-31              146.38              133.37              126.74   \n",
       "3    1999-04-30              141.20              131.58              121.23   \n",
       "4    1999-05-31              136.09              122.94              116.59   \n",
       "..          ...                 ...                 ...                 ...   \n",
       "273  2021-10-31              172.03              196.88              185.30   \n",
       "274  2021-11-30              169.93              174.18              196.74   \n",
       "275  2021-12-31              210.53              200.10              191.37   \n",
       "276  2022-01-31              204.89              215.17              221.32   \n",
       "277  2022-02-28              238.18              211.81              220.02   \n",
       "\n",
       "     bullocks_350-399kg  bullocks_400-449kg  bullocks_450-499kg  \\\n",
       "0                131.07              127.16              120.83   \n",
       "1                126.85              122.36              121.99   \n",
       "2                121.88              121.34              120.37   \n",
       "3                119.14              120.69              124.75   \n",
       "4                121.77              123.92              122.61   \n",
       "..                  ...                 ...                 ...   \n",
       "273              198.15              203.87              201.15   \n",
       "274              203.66              199.36              197.53   \n",
       "275              208.82              204.46              203.70   \n",
       "276              225.42              212.41              223.02   \n",
       "277              234.75              231.47              229.55   \n",
       "\n",
       "     bullocks_500-549kg  bullocks_550kg+  heifers_200-249kg  ...  \\\n",
       "0                121.28           119.78              83.25  ...   \n",
       "1                118.89           122.60              72.94  ...   \n",
       "2                123.38           120.78              88.66  ...   \n",
       "3                122.41           122.15              76.94  ...   \n",
       "4                124.88           121.30             114.15  ...   \n",
       "..                  ...              ...                ...  ...   \n",
       "273              203.94           199.58             222.61  ...   \n",
       "274              205.40           204.63             194.16  ...   \n",
       "275              201.86           207.42             211.98  ...   \n",
       "276              224.50           214.11             245.92  ...   \n",
       "277              235.88           225.72             256.63  ...   \n",
       "\n",
       "     pork_loin_chops_per_kg  pork_sausages_per_kg  pork_steak_per_kg  \\\n",
       "0                   6.83387               3.92049           10.11682   \n",
       "1                   6.92023               3.88620           10.05459   \n",
       "2                   7.21741               3.89382            9.99236   \n",
       "3                   7.18693               3.90017            9.81202   \n",
       "4                   7.30631               3.92303           10.02411   \n",
       "..                      ...                   ...                ...   \n",
       "273                 7.54300               6.22100            7.84500   \n",
       "274                 7.39400               6.18800            8.72500   \n",
       "275                 7.56400               6.22100            7.40200   \n",
       "276                 7.46200               6.20800            8.37200   \n",
       "277                 7.39900               6.32600            8.54800   \n",
       "\n",
       "     potatoes_10_kg  sherry_take_home_75cl_bottle  sirloin_steak_per_kg  \\\n",
       "0           6.99516                      10.01776              10.42162   \n",
       "1           7.10311                      10.18159              10.53465   \n",
       "2           7.06755                      10.20953              10.41908   \n",
       "3           6.92150                      10.24001              10.65911   \n",
       "4           6.83387                      10.21715              10.78738   \n",
       "..              ...                           ...                   ...   \n",
       "273         7.63800                      14.04300              14.20900   \n",
       "274         7.63800                      14.04300              14.20900   \n",
       "275         7.63800                      14.04300              14.25800   \n",
       "276         7.63800                      14.04300              14.25800   \n",
       "277         7.63800                      14.04300              14.25400   \n",
       "\n",
       "     stout_draught_bar_1_pint  tomatoes_per_kg  vodka_take_home_70cl_bottle  \\\n",
       "0                     2.66192          2.36474                     15.45209   \n",
       "1                     2.66192          2.29743                     15.46860   \n",
       "2                     2.66192          2.10820                     15.46098   \n",
       "3                     2.69240          2.35077                     15.42796   \n",
       "4                     2.73558          2.13360                     15.54480   \n",
       "..                        ...              ...                          ...   \n",
       "273                   4.95000          3.36400                     20.49700   \n",
       "274                   4.94800          3.36800                     19.40400   \n",
       "275                   4.94300          3.37600                     18.68800   \n",
       "276                   4.94600          3.22800                     24.54400   \n",
       "277                   4.94600          3.36100                     24.32400   \n",
       "\n",
       "     whiskey_take_home_70cl_bottle  \n",
       "0                         17.31772  \n",
       "1                         17.31645  \n",
       "2                         17.31645  \n",
       "3                         17.32788  \n",
       "4                         17.63776  \n",
       "..                             ...  \n",
       "273                       25.05500  \n",
       "274                       22.93100  \n",
       "275                       22.37900  \n",
       "276                       27.65700  \n",
       "277                       27.21400  \n",
       "\n",
       "[278 rows x 80 columns]"
      ]
     },
     "execution_count": 3,
     "metadata": {},
     "output_type": "execute_result"
    }
   ],
   "source": [
    "df_ireland"
   ]
  },
  {
   "cell_type": "code",
   "execution_count": 4,
   "id": "16d05f5a",
   "metadata": {},
   "outputs": [],
   "source": [
    "df_ireland = df_ireland.rename(columns={'Unnamed: 0':\"date\"})"
   ]
  },
  {
   "cell_type": "code",
   "execution_count": 5,
   "id": "d8d7ad7c",
   "metadata": {},
   "outputs": [],
   "source": [
    "df_ireland = df_ireland.set_index(\"date\")"
   ]
  },
  {
   "cell_type": "code",
   "execution_count": 6,
   "id": "1261d81c",
   "metadata": {},
   "outputs": [
    {
     "data": {
      "text/plain": [
       "Index(['ale_draught_bar_1_pint', 'all_items', 'best_back_rashers_per_kg',\n",
       "       'brandy_take_home_70cl_bottle', 'brent_price', 'broccoli_per_kg',\n",
       "       'bullocks_200-249kg', 'bullocks_250-299kg', 'bullocks_300-349kg',\n",
       "       'bullocks_350-399kg', 'bullocks_400-449kg', 'bullocks_450-499kg',\n",
       "       'bullocks_500-549kg', 'bullocks_550kg+', 'butter_per_lb',\n",
       "       'carrots_per_kg', 'cattle', 'cents_per_kg', 'cereals',\n",
       "       'compound_feeding_stuffs_for_cattle_excluding_calves',\n",
       "       'compound_feeding_stuffs_for_pigs',\n",
       "       'compound_feeding_stuffs_for_poultry', 'cooked_ham_per_kg',\n",
       "       'crop_output', 'crude_price', 'diesel', 'diesel_per_ltr', 'electricity',\n",
       "       'eurgbp', 'eurusd', 'feeding_stuffs', 'fertilisers',\n",
       "       'food_and_non-alcoholic_beverages', 'ham_fillet_per_kg',\n",
       "       'heifers_200-249kg', 'heifers_250-299kg', 'heifers_300-349kg',\n",
       "       'heifers_350-399kg', 'heifers_400-449kg', 'irish_cheddar_per_kg',\n",
       "       'jam_per_lb', 'lamb_gigot_chops_per_kg', 'lamb_loin_chops_per_kg',\n",
       "       'lambs_liver_per_kg', 'marmalade_per_lb', 'milk', 'motor_fuel',\n",
       "       'mushrooms_per_kg', 'npk_fertilisers', 'onions_per_kg',\n",
       "       'other_goods_and_services', 'pbeefusdm', 'petrol',\n",
       "       'petrol_unleaded_per_ltr', 'pigs', 'pk_fertilisers',\n",
       "       'plant_protection_products', 'pork_loin_chops_per_kg',\n",
       "       'pork_sausages_per_kg', 'pork_steak_per_kg', 'potatoes',\n",
       "       'potatoes_10_kg', 'poultry', 'rain', 'seeds', 'sheep',\n",
       "       'sherry_take_home_75cl_bottle', 'sirloin_steak_per_kg',\n",
       "       'stout_draught_bar_1_pint', 'straight_feeding_stuffs',\n",
       "       'straight_fertilisers', 'sunshine', 'target_cattle', 'temp',\n",
       "       'tomatoes_per_kg', 'vegetables', 'veterinary_expenses',\n",
       "       'vodka_take_home_70cl_bottle', 'whiskey_take_home_70cl_bottle'],\n",
       "      dtype='object')"
      ]
     },
     "execution_count": 6,
     "metadata": {},
     "output_type": "execute_result"
    }
   ],
   "source": [
    "df_ireland.columns.sort_values()"
   ]
  },
  {
   "cell_type": "code",
   "execution_count": 7,
   "id": "28eb9b48",
   "metadata": {},
   "outputs": [],
   "source": [
    "# these features combind make up the target_cattle target value so they are leaky features\n",
    "# this basically means including them in the model training would be giving the model future information\n",
    "# which we couldn't expect to have at the testing phase or whenver we try to do a prediction on new data\n",
    "leakey_features=[\n",
    "    'bullocks_200-249kg', 'bullocks_250-299kg', 'bullocks_300-349kg',\n",
    "    'bullocks_350-399kg', 'bullocks_400-449kg', 'bullocks_450-499kg',\n",
    "    'bullocks_500-549kg', 'bullocks_550kg+',\n",
    "    'heifers_200-249kg', 'heifers_250-299kg', 'heifers_300-349kg',\n",
    "    'heifers_350-399kg', 'heifers_400-449kg']"
   ]
  },
  {
   "cell_type": "code",
   "execution_count": 8,
   "id": "67e9f8c8",
   "metadata": {},
   "outputs": [],
   "source": [
    "y_col=\"target_cattle\""
   ]
  },
  {
   "cell_type": "code",
   "execution_count": 9,
   "id": "b54da264",
   "metadata": {},
   "outputs": [
    {
     "name": "stdout",
     "output_type": "stream",
     "text": [
      "['ale_draught_bar_1_pint', 'all_items', 'best_back_rashers_per_kg', 'brandy_take_home_70cl_bottle', 'brent_price', 'broccoli_per_kg', 'butter_per_lb', 'carrots_per_kg', 'cattle', 'cents_per_kg', 'cereals', 'compound_feeding_stuffs_for_cattle_excluding_calves', 'compound_feeding_stuffs_for_pigs', 'compound_feeding_stuffs_for_poultry', 'cooked_ham_per_kg', 'crop_output', 'crude_price', 'diesel', 'diesel_per_ltr', 'electricity', 'eurgbp', 'eurusd', 'feeding_stuffs', 'fertilisers', 'food_and_non-alcoholic_beverages', 'ham_fillet_per_kg', 'irish_cheddar_per_kg', 'jam_per_lb', 'lamb_gigot_chops_per_kg', 'lamb_loin_chops_per_kg', 'lambs_liver_per_kg', 'marmalade_per_lb', 'milk', 'motor_fuel', 'mushrooms_per_kg', 'npk_fertilisers', 'onions_per_kg', 'other_goods_and_services', 'pbeefusdm', 'petrol', 'petrol_unleaded_per_ltr', 'pigs', 'pk_fertilisers', 'plant_protection_products', 'pork_loin_chops_per_kg', 'pork_sausages_per_kg', 'pork_steak_per_kg', 'potatoes', 'potatoes_10_kg', 'poultry', 'rain', 'seeds', 'sheep', 'sherry_take_home_75cl_bottle', 'sirloin_steak_per_kg', 'stout_draught_bar_1_pint', 'straight_feeding_stuffs', 'straight_fertilisers', 'sunshine', 'target_cattle', 'temp', 'tomatoes_per_kg', 'vegetables', 'veterinary_expenses', 'vodka_take_home_70cl_bottle', 'whiskey_take_home_70cl_bottle']\n"
     ]
    }
   ],
   "source": [
    "feature_cols = []\n",
    "for col in df_ireland.columns:\n",
    "    if col not in leakey_features:\n",
    "        feature_cols.append(col)\n",
    "feature_cols = sorted(feature_cols)\n",
    "print(feature_cols)"
   ]
  },
  {
   "cell_type": "code",
   "execution_count": 10,
   "id": "dbe2f0d1",
   "metadata": {},
   "outputs": [],
   "source": [
    "feature_cols.remove(y_col)"
   ]
  },
  {
   "cell_type": "code",
   "execution_count": 11,
   "id": "a4a60329",
   "metadata": {},
   "outputs": [],
   "source": [
    "X_ie = df_ireland[feature_cols]\n",
    "y_ie = df_ireland[y_col]"
   ]
  },
  {
   "attachments": {
    "sklearn_scoring_regression.png": {
     "image/png": "[encoded data removed]"
    }
   },
   "cell_type": "markdown",
   "id": "83392132",
   "metadata": {},
   "source": [
    "https://scikit-learn.org/stable/modules/model_evaluation.html\n",
    "![sklearn_scoring_regression.png](attachment:sklearn_scoring_regression.png)"
   ]
  },
  {
   "cell_type": "markdown",
   "id": "0b572f94",
   "metadata": {},
   "source": [
    "## Australia"
   ]
  },
  {
   "cell_type": "code",
   "execution_count": 12,
   "id": "b588dd74",
   "metadata": {},
   "outputs": [],
   "source": [
    "df_australia = pd.read_csv(\"data/final/df_final_australian_beef_feat_cols_and_target_values_1999-2020.csv\")"
   ]
  },
  {
   "cell_type": "code",
   "execution_count": 13,
   "id": "009da396",
   "metadata": {},
   "outputs": [
    {
     "data": {
      "text/html": [
       "<div>\n",
       "<style scoped>\n",
       "    .dataframe tbody tr th:only-of-type {\n",
       "        vertical-align: middle;\n",
       "    }\n",
       "\n",
       "    .dataframe tbody tr th {\n",
       "        vertical-align: top;\n",
       "    }\n",
       "\n",
       "    .dataframe thead th {\n",
       "        text-align: right;\n",
       "    }\n",
       "</style>\n",
       "<table border=\"1\" class=\"dataframe\">\n",
       "  <thead>\n",
       "    <tr style=\"text-align: right;\">\n",
       "      <th></th>\n",
       "      <th>Unnamed: 0</th>\n",
       "      <th>beef_per_kg</th>\n",
       "      <th>meat_consumption</th>\n",
       "      <th>meat_exports</th>\n",
       "      <th>meat_imports</th>\n",
       "      <th>meat_distribution</th>\n",
       "      <th>meat_supply</th>\n",
       "      <th>cattle_production</th>\n",
       "      <th>swine_production_x</th>\n",
       "      <th>barley_production</th>\n",
       "      <th>...</th>\n",
       "      <th>sheep_slaughterings</th>\n",
       "      <th>cpi_all</th>\n",
       "      <th>cpi_residential</th>\n",
       "      <th>cpi_all_ex_food_energy</th>\n",
       "      <th>cpi_food</th>\n",
       "      <th>cpi_prod_index</th>\n",
       "      <th>diesel</th>\n",
       "      <th>petrol</th>\n",
       "      <th>pbeefusdm</th>\n",
       "      <th>crude_price</th>\n",
       "    </tr>\n",
       "  </thead>\n",
       "  <tbody>\n",
       "    <tr>\n",
       "      <th>0</th>\n",
       "      <td>1999-01-31</td>\n",
       "      <td>2.71</td>\n",
       "      <td>61.833333</td>\n",
       "      <td>104.083333</td>\n",
       "      <td>0.333333</td>\n",
       "      <td>168.083333</td>\n",
       "      <td>168.083333</td>\n",
       "      <td>879.416667</td>\n",
       "      <td>30.166667</td>\n",
       "      <td>419.333333</td>\n",
       "      <td>...</td>\n",
       "      <td>1326.0</td>\n",
       "      <td>62.967263</td>\n",
       "      <td>52.5088</td>\n",
       "      <td>64.117489</td>\n",
       "      <td>68.833314</td>\n",
       "      <td>64.792117</td>\n",
       "      <td>93.8</td>\n",
       "      <td>85.0</td>\n",
       "      <td>77.599998</td>\n",
       "      <td>12.49</td>\n",
       "    </tr>\n",
       "    <tr>\n",
       "      <th>1</th>\n",
       "      <td>1999-02-28</td>\n",
       "      <td>2.80</td>\n",
       "      <td>61.833333</td>\n",
       "      <td>104.083333</td>\n",
       "      <td>0.333333</td>\n",
       "      <td>168.083333</td>\n",
       "      <td>168.083333</td>\n",
       "      <td>879.416667</td>\n",
       "      <td>30.166667</td>\n",
       "      <td>419.333333</td>\n",
       "      <td>...</td>\n",
       "      <td>1467.0</td>\n",
       "      <td>63.245879</td>\n",
       "      <td>53.4705</td>\n",
       "      <td>64.354054</td>\n",
       "      <td>68.941204</td>\n",
       "      <td>64.984379</td>\n",
       "      <td>93.8</td>\n",
       "      <td>85.0</td>\n",
       "      <td>81.825000</td>\n",
       "      <td>12.02</td>\n",
       "    </tr>\n",
       "    <tr>\n",
       "      <th>2</th>\n",
       "      <td>1999-03-31</td>\n",
       "      <td>2.79</td>\n",
       "      <td>61.833333</td>\n",
       "      <td>104.083333</td>\n",
       "      <td>0.333333</td>\n",
       "      <td>168.083333</td>\n",
       "      <td>168.083333</td>\n",
       "      <td>879.416667</td>\n",
       "      <td>30.166667</td>\n",
       "      <td>419.333333</td>\n",
       "      <td>...</td>\n",
       "      <td>1464.0</td>\n",
       "      <td>63.245879</td>\n",
       "      <td>53.4705</td>\n",
       "      <td>64.354054</td>\n",
       "      <td>68.941204</td>\n",
       "      <td>64.984379</td>\n",
       "      <td>93.8</td>\n",
       "      <td>85.0</td>\n",
       "      <td>81.500000</td>\n",
       "      <td>14.68</td>\n",
       "    </tr>\n",
       "    <tr>\n",
       "      <th>3</th>\n",
       "      <td>1999-04-30</td>\n",
       "      <td>2.68</td>\n",
       "      <td>61.833333</td>\n",
       "      <td>104.083333</td>\n",
       "      <td>0.333333</td>\n",
       "      <td>168.083333</td>\n",
       "      <td>168.083333</td>\n",
       "      <td>879.416667</td>\n",
       "      <td>30.166667</td>\n",
       "      <td>419.333333</td>\n",
       "      <td>...</td>\n",
       "      <td>1235.0</td>\n",
       "      <td>63.245879</td>\n",
       "      <td>53.4705</td>\n",
       "      <td>64.354054</td>\n",
       "      <td>68.941204</td>\n",
       "      <td>64.984379</td>\n",
       "      <td>93.8</td>\n",
       "      <td>85.0</td>\n",
       "      <td>79.111111</td>\n",
       "      <td>17.30</td>\n",
       "    </tr>\n",
       "    <tr>\n",
       "      <th>4</th>\n",
       "      <td>1999-05-31</td>\n",
       "      <td>2.61</td>\n",
       "      <td>61.833333</td>\n",
       "      <td>104.083333</td>\n",
       "      <td>0.333333</td>\n",
       "      <td>168.083333</td>\n",
       "      <td>168.083333</td>\n",
       "      <td>879.416667</td>\n",
       "      <td>30.166667</td>\n",
       "      <td>419.333333</td>\n",
       "      <td>...</td>\n",
       "      <td>1239.0</td>\n",
       "      <td>63.803111</td>\n",
       "      <td>53.9905</td>\n",
       "      <td>64.836722</td>\n",
       "      <td>69.152023</td>\n",
       "      <td>66.330209</td>\n",
       "      <td>93.8</td>\n",
       "      <td>85.0</td>\n",
       "      <td>79.850000</td>\n",
       "      <td>17.77</td>\n",
       "    </tr>\n",
       "    <tr>\n",
       "      <th>...</th>\n",
       "      <td>...</td>\n",
       "      <td>...</td>\n",
       "      <td>...</td>\n",
       "      <td>...</td>\n",
       "      <td>...</td>\n",
       "      <td>...</td>\n",
       "      <td>...</td>\n",
       "      <td>...</td>\n",
       "      <td>...</td>\n",
       "      <td>...</td>\n",
       "      <td>...</td>\n",
       "      <td>...</td>\n",
       "      <td>...</td>\n",
       "      <td>...</td>\n",
       "      <td>...</td>\n",
       "      <td>...</td>\n",
       "      <td>...</td>\n",
       "      <td>...</td>\n",
       "      <td>...</td>\n",
       "      <td>...</td>\n",
       "      <td>...</td>\n",
       "    </tr>\n",
       "    <tr>\n",
       "      <th>259</th>\n",
       "      <td>2020-08-31</td>\n",
       "      <td>6.43</td>\n",
       "      <td>55.750000</td>\n",
       "      <td>122.750000</td>\n",
       "      <td>1.416667</td>\n",
       "      <td>178.500000</td>\n",
       "      <td>178.500000</td>\n",
       "      <td>691.666667</td>\n",
       "      <td>34.916667</td>\n",
       "      <td>1091.666667</td>\n",
       "      <td>...</td>\n",
       "      <td>301.0</td>\n",
       "      <td>108.846065</td>\n",
       "      <td>118.0338</td>\n",
       "      <td>107.521068</td>\n",
       "      <td>106.631196</td>\n",
       "      <td>112.472963</td>\n",
       "      <td>120.3</td>\n",
       "      <td>117.3</td>\n",
       "      <td>200.428571</td>\n",
       "      <td>42.39</td>\n",
       "    </tr>\n",
       "    <tr>\n",
       "      <th>260</th>\n",
       "      <td>2020-09-30</td>\n",
       "      <td>6.36</td>\n",
       "      <td>55.750000</td>\n",
       "      <td>122.750000</td>\n",
       "      <td>1.416667</td>\n",
       "      <td>178.500000</td>\n",
       "      <td>178.500000</td>\n",
       "      <td>691.666667</td>\n",
       "      <td>34.916667</td>\n",
       "      <td>1091.666667</td>\n",
       "      <td>...</td>\n",
       "      <td>301.0</td>\n",
       "      <td>108.846065</td>\n",
       "      <td>118.0338</td>\n",
       "      <td>107.521068</td>\n",
       "      <td>106.631196</td>\n",
       "      <td>112.472963</td>\n",
       "      <td>119.6</td>\n",
       "      <td>117.1</td>\n",
       "      <td>197.727273</td>\n",
       "      <td>39.63</td>\n",
       "    </tr>\n",
       "    <tr>\n",
       "      <th>261</th>\n",
       "      <td>2020-10-31</td>\n",
       "      <td>6.21</td>\n",
       "      <td>55.750000</td>\n",
       "      <td>122.750000</td>\n",
       "      <td>1.416667</td>\n",
       "      <td>178.500000</td>\n",
       "      <td>178.500000</td>\n",
       "      <td>691.666667</td>\n",
       "      <td>34.916667</td>\n",
       "      <td>1091.666667</td>\n",
       "      <td>...</td>\n",
       "      <td>301.0</td>\n",
       "      <td>108.846065</td>\n",
       "      <td>118.0338</td>\n",
       "      <td>107.521068</td>\n",
       "      <td>106.631196</td>\n",
       "      <td>112.472963</td>\n",
       "      <td>118.9</td>\n",
       "      <td>117.8</td>\n",
       "      <td>190.045455</td>\n",
       "      <td>39.56</td>\n",
       "    </tr>\n",
       "    <tr>\n",
       "      <th>262</th>\n",
       "      <td>2020-11-30</td>\n",
       "      <td>6.07</td>\n",
       "      <td>55.750000</td>\n",
       "      <td>122.750000</td>\n",
       "      <td>1.416667</td>\n",
       "      <td>178.500000</td>\n",
       "      <td>178.500000</td>\n",
       "      <td>691.666667</td>\n",
       "      <td>34.916667</td>\n",
       "      <td>1091.666667</td>\n",
       "      <td>...</td>\n",
       "      <td>301.0</td>\n",
       "      <td>109.496169</td>\n",
       "      <td>123.6455</td>\n",
       "      <td>107.958167</td>\n",
       "      <td>106.631196</td>\n",
       "      <td>113.626532</td>\n",
       "      <td>118.2</td>\n",
       "      <td>115.6</td>\n",
       "      <td>190.785714</td>\n",
       "      <td>41.13</td>\n",
       "    </tr>\n",
       "    <tr>\n",
       "      <th>263</th>\n",
       "      <td>2020-12-31</td>\n",
       "      <td>5.87</td>\n",
       "      <td>55.750000</td>\n",
       "      <td>122.750000</td>\n",
       "      <td>1.416667</td>\n",
       "      <td>178.500000</td>\n",
       "      <td>178.500000</td>\n",
       "      <td>691.666667</td>\n",
       "      <td>34.916667</td>\n",
       "      <td>1091.666667</td>\n",
       "      <td>...</td>\n",
       "      <td>301.0</td>\n",
       "      <td>109.496169</td>\n",
       "      <td>123.6455</td>\n",
       "      <td>107.958167</td>\n",
       "      <td>106.631196</td>\n",
       "      <td>113.626532</td>\n",
       "      <td>118.9</td>\n",
       "      <td>118.9</td>\n",
       "      <td>189.108696</td>\n",
       "      <td>47.07</td>\n",
       "    </tr>\n",
       "  </tbody>\n",
       "</table>\n",
       "<p>264 rows × 52 columns</p>\n",
       "</div>"
      ],
      "text/plain": [
       "     Unnamed: 0  beef_per_kg  meat_consumption  meat_exports  meat_imports  \\\n",
       "0    1999-01-31         2.71         61.833333    104.083333      0.333333   \n",
       "1    1999-02-28         2.80         61.833333    104.083333      0.333333   \n",
       "2    1999-03-31         2.79         61.833333    104.083333      0.333333   \n",
       "3    1999-04-30         2.68         61.833333    104.083333      0.333333   \n",
       "4    1999-05-31         2.61         61.833333    104.083333      0.333333   \n",
       "..          ...          ...               ...           ...           ...   \n",
       "259  2020-08-31         6.43         55.750000    122.750000      1.416667   \n",
       "260  2020-09-30         6.36         55.750000    122.750000      1.416667   \n",
       "261  2020-10-31         6.21         55.750000    122.750000      1.416667   \n",
       "262  2020-11-30         6.07         55.750000    122.750000      1.416667   \n",
       "263  2020-12-31         5.87         55.750000    122.750000      1.416667   \n",
       "\n",
       "     meat_distribution  meat_supply  cattle_production  swine_production_x  \\\n",
       "0           168.083333   168.083333         879.416667           30.166667   \n",
       "1           168.083333   168.083333         879.416667           30.166667   \n",
       "2           168.083333   168.083333         879.416667           30.166667   \n",
       "3           168.083333   168.083333         879.416667           30.166667   \n",
       "4           168.083333   168.083333         879.416667           30.166667   \n",
       "..                 ...          ...                ...                 ...   \n",
       "259         178.500000   178.500000         691.666667           34.916667   \n",
       "260         178.500000   178.500000         691.666667           34.916667   \n",
       "261         178.500000   178.500000         691.666667           34.916667   \n",
       "262         178.500000   178.500000         691.666667           34.916667   \n",
       "263         178.500000   178.500000         691.666667           34.916667   \n",
       "\n",
       "     barley_production  ...  sheep_slaughterings     cpi_all  cpi_residential  \\\n",
       "0           419.333333  ...               1326.0   62.967263          52.5088   \n",
       "1           419.333333  ...               1467.0   63.245879          53.4705   \n",
       "2           419.333333  ...               1464.0   63.245879          53.4705   \n",
       "3           419.333333  ...               1235.0   63.245879          53.4705   \n",
       "4           419.333333  ...               1239.0   63.803111          53.9905   \n",
       "..                 ...  ...                  ...         ...              ...   \n",
       "259        1091.666667  ...                301.0  108.846065         118.0338   \n",
       "260        1091.666667  ...                301.0  108.846065         118.0338   \n",
       "261        1091.666667  ...                301.0  108.846065         118.0338   \n",
       "262        1091.666667  ...                301.0  109.496169         123.6455   \n",
       "263        1091.666667  ...                301.0  109.496169         123.6455   \n",
       "\n",
       "     cpi_all_ex_food_energy    cpi_food  cpi_prod_index  diesel  petrol  \\\n",
       "0                 64.117489   68.833314       64.792117    93.8    85.0   \n",
       "1                 64.354054   68.941204       64.984379    93.8    85.0   \n",
       "2                 64.354054   68.941204       64.984379    93.8    85.0   \n",
       "3                 64.354054   68.941204       64.984379    93.8    85.0   \n",
       "4                 64.836722   69.152023       66.330209    93.8    85.0   \n",
       "..                      ...         ...             ...     ...     ...   \n",
       "259              107.521068  106.631196      112.472963   120.3   117.3   \n",
       "260              107.521068  106.631196      112.472963   119.6   117.1   \n",
       "261              107.521068  106.631196      112.472963   118.9   117.8   \n",
       "262              107.958167  106.631196      113.626532   118.2   115.6   \n",
       "263              107.958167  106.631196      113.626532   118.9   118.9   \n",
       "\n",
       "      pbeefusdm  crude_price  \n",
       "0     77.599998        12.49  \n",
       "1     81.825000        12.02  \n",
       "2     81.500000        14.68  \n",
       "3     79.111111        17.30  \n",
       "4     79.850000        17.77  \n",
       "..          ...          ...  \n",
       "259  200.428571        42.39  \n",
       "260  197.727273        39.63  \n",
       "261  190.045455        39.56  \n",
       "262  190.785714        41.13  \n",
       "263  189.108696        47.07  \n",
       "\n",
       "[264 rows x 52 columns]"
      ]
     },
     "execution_count": 13,
     "metadata": {},
     "output_type": "execute_result"
    }
   ],
   "source": [
    "df_australia"
   ]
  },
  {
   "cell_type": "code",
   "execution_count": 14,
   "id": "5b0395e0",
   "metadata": {},
   "outputs": [],
   "source": [
    "df_australia = df_australia.rename(columns={'Unnamed: 0':\"date\"})"
   ]
  },
  {
   "cell_type": "code",
   "execution_count": 15,
   "id": "99f94203",
   "metadata": {},
   "outputs": [],
   "source": [
    "df_australia = df_australia.set_index(\"date\")"
   ]
  },
  {
   "cell_type": "code",
   "execution_count": 16,
   "id": "bfc1b50f",
   "metadata": {},
   "outputs": [],
   "source": [
    "y_col_au=\"beef_per_kg\""
   ]
  },
  {
   "cell_type": "code",
   "execution_count": 17,
   "id": "15f91f3d",
   "metadata": {},
   "outputs": [
    {
     "name": "stdout",
     "output_type": "stream",
     "text": [
      "['audcny', 'audnzd', 'audusd', 'barley_production', 'beef_and_veal_production', 'bulls_bullocks_steers_slaughterings', 'butter_production', 'calves_slaughterings', 'cattle_exclu_calves_slaughterings', 'cattle_exclud_calves_prod', 'cattle_production', 'cheese_production', 'corn_production', 'cotton_production', 'cows_heifers_slaughterings', 'cpi_all', 'cpi_all_ex_food_energy', 'cpi_food', 'cpi_prod_index', 'cpi_residential', 'crude_price', 'diesel', 'lamb_slaughterings', 'lambs_prod', 'meat_consumption', 'meat_distribution', 'meat_exports', 'meat_imports', 'meat_supply', 'milk_powder_production', 'milk_production', 'millet_production', 'nonfatmilk_production', 'oats_production', 'pbeefusdm', 'petrol', 'pig_slaughterings', 'pigs_prod', 'poultry_production', 'rain', 'rice_production', 'sheep_prod', 'sheep_slaughterings', 'sunshine', 'swine_production_x', 'swine_production_y', 'temp_cel', 'total_beef_prod', 'veel_prod', 'wheat_production']\n"
     ]
    }
   ],
   "source": [
    "feature_cols_au = []\n",
    "for col in df_australia.columns:\n",
    "    feature_cols_au.append(col)\n",
    "feature_cols_au = sorted(feature_cols_au)\n",
    "feature_cols_au.remove(y_col_au)\n",
    "print(feature_cols_au)"
   ]
  },
  {
   "cell_type": "code",
   "execution_count": 18,
   "id": "6e3670ae",
   "metadata": {},
   "outputs": [],
   "source": [
    "X_au = df_australia[feature_cols_au]\n",
    "y_au = df_australia[y_col_au]"
   ]
  },
  {
   "cell_type": "markdown",
   "id": "e50a9e50",
   "metadata": {},
   "source": [
    "# Model training"
   ]
  },
  {
   "cell_type": "markdown",
   "id": "9fbf2b03",
   "metadata": {},
   "source": [
    "## Normal Train-Test Split"
   ]
  },
  {
   "cell_type": "code",
   "execution_count": null,
   "id": "56ea076b",
   "metadata": {},
   "outputs": [],
   "source": [
    "results_ie = model_using_train_test_split(X_ie, y_ie) # uses 70 30 split"
   ]
  },
  {
   "cell_type": "code",
   "execution_count": null,
   "id": "79ccfe14",
   "metadata": {},
   "outputs": [],
   "source": [
    "print(tabulate(results_ie, headers=[\"model\", \"r2\", \"mae\", \"mse\"]))"
   ]
  },
  {
   "cell_type": "code",
   "execution_count": null,
   "id": "4ce594d1",
   "metadata": {},
   "outputs": [],
   "source": [
    "results_au = model_using_train_test_split(X_au, y_au) # uses 70 30 split"
   ]
  },
  {
   "cell_type": "code",
   "execution_count": null,
   "id": "8d14721a",
   "metadata": {},
   "outputs": [],
   "source": [
    "print(tabulate(results_au, headers=[\"model\", \"r2\", \"mae\", \"mse\"]))"
   ]
  },
  {
   "cell_type": "markdown",
   "id": "7c53d69c",
   "metadata": {},
   "source": [
    "## K-fold Cross-Validation"
   ]
  },
  {
   "cell_type": "code",
   "execution_count": null,
   "id": "dbafb526",
   "metadata": {},
   "outputs": [],
   "source": [
    "# at the beginning I naively used model_selection.train_test_split() with my time series data\n",
    "# I then fed this to a standard k-fold cross validator and the prediction results were spectacular\n",
    "# as can be seen below, the problem is it doesn't make sense to shuffle the time series data..\n",
    "# and then take random folds of that shuffled data.\n",
    "# I speculate the reason this naive approach was so accurate in its predictions\n",
    "# is that gradually over the last twenty years the price of everything has gone up\n",
    "# so higher prices of other products most likely correlated with higher beef prices\n",
    "\n",
    "model_using_kfold(X_ie, y_ie)"
   ]
  },
  {
   "cell_type": "code",
   "execution_count": null,
   "id": "ad5c1b01",
   "metadata": {},
   "outputs": [],
   "source": [
    "model_using_kfold(X_au, y_au)"
   ]
  },
  {
   "cell_type": "markdown",
   "id": "683d7307",
   "metadata": {},
   "source": [
    "## TimeSeriesSplit Cross-Validation"
   ]
  },
  {
   "cell_type": "code",
   "execution_count": 19,
   "id": "7318b117",
   "metadata": {},
   "outputs": [],
   "source": [
    "results_ie = model_using_time_series_split(X_ie, y_ie)"
   ]
  },
  {
   "cell_type": "code",
   "execution_count": 20,
   "id": "c68ed1ea",
   "metadata": {},
   "outputs": [
    {
     "name": "stdout",
     "output_type": "stream",
     "text": [
      "model                             tr_r2             r2        tr_mae           mae         tr_mse             mse\n",
      "-------------------------  ------------  -------------  ------------  ------------  -------------  --------------\n",
      "SVR                         0.245         -8.656        10.961        20.79         262.896         768.983\n",
      "BayesianRidge               0.946         -5.638         3.381        12.63          20.821         360.367\n",
      "LGBMRegressor               0.887         -5.363         2.051        12.962         15.557         302.244\n",
      "KNeighborsRegressor         0.911         -4.852         3.825        13.144         32.878         314.725\n",
      "SGDRegressor               -1.70234e+26   -3.34806e+27   1.58825e+14   1.82158e+14    3.28112e+28     4.48497e+28\n",
      "DecisionTreeRegressor       1             -3.802         0            14.013          0             449.952\n",
      "LinearRegression            0.981        -29.788         2.075        20.038         10.01         1068.88\n",
      "GradientBoostingRegressor   0.999         -2.826         0.42         11.762          0.489         305.488\n",
      "RandomForestRegressor       0.993         -2.781         1.129        12.116          2.859         311.494\n",
      "XGBRegressor                1             -2.153         0.001        10.042          0             195.74\n",
      "KernelRidge                 0.971        -14.277         2.539        16.694         12.985         761.969\n",
      "DummyRegressor              0            -13.233        15.141        24.556        426.764         983.855\n"
     ]
    }
   ],
   "source": [
    "print(tabulate(results_ie, headers=[\"model\", \"tr_r2\", \"r2\", \"tr_mae\", \"mae\", \"tr_mse\", \"mse\"]))"
   ]
  },
  {
   "cell_type": "code",
   "execution_count": 21,
   "id": "37894ceb",
   "metadata": {},
   "outputs": [],
   "source": [
    "results_au = model_using_time_series_split(X_au, y_au)"
   ]
  },
  {
   "cell_type": "code",
   "execution_count": 22,
   "id": "25fcd762",
   "metadata": {},
   "outputs": [
    {
     "name": "stdout",
     "output_type": "stream",
     "text": [
      "model                             tr_r2             r2       tr_mae          mae       tr_mse          mse\n",
      "-------------------------  ------------  -------------  -----------  -----------  -----------  -----------\n",
      "LinearRegression            0.979         -5.918        0.059        0.445        0.006        0.358\n",
      "DecisionTreeRegressor       1             -5.416        0            0.483        0            0.462\n",
      "KernelRidge                 0.975         -5.313        0.066        0.441        0.008        0.384\n",
      "LGBMRegressor               0.882         -3.88         0.086        0.454        0.027        0.399\n",
      "SVR                         0.099        -20.56         0.428        0.961        0.35         1.73\n",
      "DummyRegressor              0            -20.497        0.472        0.975        0.418        1.797\n",
      "XGBRegressor                1             -2.915        0            0.4          0            0.356\n",
      "RandomForestRegressor       0.986         -2.258        0.047        0.385        0.004        0.332\n",
      "GradientBoostingRegressor   0.998         -2.168        0.019        0.369        0.001        0.3\n",
      "SGDRegressor               -1.62151e+40   -1.54306e+41  5.21073e+19  5.28469e+19  3.95231e+39  4.04754e+39\n",
      "BayesianRidge               0.941        -15.242        0.091        0.651        0.014        0.597\n",
      "KNeighborsRegressor         0.415        -12.976        0.328        0.77         0.203        1.22\n"
     ]
    }
   ],
   "source": [
    "print(tabulate(results_au, headers=[\"model\", \"tr_r2\", \"r2\", \"tr_mae\", \"mae\", \"tr_mse\", \"mse\"]))"
   ]
  },
  {
   "cell_type": "markdown",
   "id": "622e5cf8",
   "metadata": {},
   "source": [
    "I changed the code from something like:\n",
    "\n",
    "tscv = TimeSeriesSplit(n_splits=cv_splits)\n",
    "\n",
    "scores = cross_validate(cls, X, y, cv=tscv, scoring=scoring, return_train_score=True)\n",
    "\n",
    "to a manual implementation:\n",
    "\n",
    "for train_index, test_index in tscv.split(X):\n",
    "\n",
    "            X_train, X_test = X.iloc[train_index], X.iloc[test_index]\n",
    "            y_train, y_test = y.iloc[train_index], y.iloc[test_index]\n",
    "            \n",
    "\n",
    "And the results are equally as terrible.\n",
    "\n",
    "\n",
    "cross_validate attempt is below and manual iteration is currently above (what's in the code)."
   ]
  },
  {
   "attachments": {
    "TimeSeriesSplit%20Cross-Validation.png": {
     "image/png": "[encoded data removed]"
    }
   },
   "cell_type": "markdown",
   "id": "6a47c3e9",
   "metadata": {},
   "source": [
    "![TimeSeriesSplit%20Cross-Validation.png](attachment:TimeSeriesSplit%20Cross-Validation.png)"
   ]
  },
  {
   "cell_type": "markdown",
   "id": "ba1a7950",
   "metadata": {},
   "source": [
    "## GridSearchCV"
   ]
  },
  {
   "cell_type": "code",
   "execution_count": null,
   "id": "b3688ed6",
   "metadata": {},
   "outputs": [],
   "source": [
    "results_ie = model_using_grid_search_cv_with_timeseriessplit(X_ie, y_ie)"
   ]
  },
  {
   "cell_type": "code",
   "execution_count": null,
   "id": "789c7d02",
   "metadata": {},
   "outputs": [],
   "source": [
    "print(tabulate(results_ie, headers=[\"model\", \"r2\", \"mae\", \"mse\"]))"
   ]
  },
  {
   "cell_type": "code",
   "execution_count": null,
   "id": "59b7ecc8",
   "metadata": {},
   "outputs": [],
   "source": [
    "results_au = model_using_grid_search_cv_with_timeseriessplit(X_au, y_au)"
   ]
  },
  {
   "cell_type": "code",
   "execution_count": null,
   "id": "35b32a66",
   "metadata": {},
   "outputs": [],
   "source": [
    "print(tabulate(results_au, headers=[\"model\", \"r2\", \"mae\", \"mse\"]))"
   ]
  },
  {
   "cell_type": "markdown",
   "id": "d95fa765",
   "metadata": {},
   "source": [
    "# Optimize Gradient Boosting methods"
   ]
  },
  {
   "cell_type": "markdown",
   "id": "0d5ba62a",
   "metadata": {},
   "source": [
    "## Ireland Gradient Boosters"
   ]
  },
  {
   "cell_type": "code",
   "execution_count": null,
   "id": "ea7bb155",
   "metadata": {},
   "outputs": [],
   "source": [
    "results_xgb_ie = test_model_iteratively_with_most_important_features(X_ie, y_ie, xgb_gridsearch_cv)"
   ]
  },
  {
   "cell_type": "code",
   "execution_count": null,
   "id": "6f4f572f",
   "metadata": {},
   "outputs": [],
   "source": [
    "results_lightgbm_ie = test_model_iteratively_with_most_important_features(X_ie, y_ie, lightgbm_gridsearch_cv)"
   ]
  },
  {
   "cell_type": "code",
   "execution_count": null,
   "id": "87940aec",
   "metadata": {},
   "outputs": [],
   "source": [
    "selected_features = ast.literal_eval(results_xgb_ie['selected_features'].values[0])\n",
    "_, _, _, y_test_ie = train_test_split(X_ie[selected_features], y_ie, test_size=0.2, random_state=42)"
   ]
  },
  {
   "cell_type": "code",
   "execution_count": null,
   "id": "00ac2431",
   "metadata": {},
   "outputs": [],
   "source": [
    "train_best_model\n"
   ]
  },
  {
   "cell_type": "code",
   "execution_count": null,
   "id": "37dcb682",
   "metadata": {},
   "outputs": [],
   "source": [
    "y_pred_xgb_ie = train_best_model(X_ie, y_ie, results_xgb_ie, XGBRegressor)"
   ]
  },
  {
   "cell_type": "code",
   "execution_count": null,
   "id": "d858db54",
   "metadata": {},
   "outputs": [],
   "source": [
    "y_pred_lightgbm_ie = train_best_model(X_ie, y_ie, results_lightgbm_ie, LGBMRegressor)"
   ]
  },
  {
   "cell_type": "markdown",
   "id": "93830318",
   "metadata": {},
   "source": [
    "### Plotting"
   ]
  },
  {
   "cell_type": "code",
   "execution_count": null,
   "id": "69b212fe",
   "metadata": {},
   "outputs": [],
   "source": [
    "# Line plot\n",
    "import matplotlib.pyplot as plt\n",
    "plt.figure(figsize=(20,10))\n",
    "plt.plot(y_test_ie.values, label='Actual')\n",
    "plt.plot(y_pred_xgb_ie, label='Predictions using XGB')\n",
    "plt.plot(y_pred_lightgbm_ie, label='Predictions using LightGBM')\n",
    "plt.legend()"
   ]
  },
  {
   "cell_type": "code",
   "execution_count": null,
   "id": "9a162610",
   "metadata": {},
   "outputs": [],
   "source": [
    "scores = pd.concat([results_lightgbm_ie.iloc[:1], results_xgb_ie.iloc[:1]], axis=0).loc[:,'split0_test_score':'mean_test_score']*-100\n",
    "scores"
   ]
  },
  {
   "cell_type": "code",
   "execution_count": null,
   "id": "5d1bf6b1",
   "metadata": {},
   "outputs": [],
   "source": [
    "# barchart - k-fold\n",
    "scores['model'] = ['LightGBM', 'XGBoost']\n",
    "scores.set_index('model', inplace=True)\n",
    "scores.T.plot(kind='bar', figsize=(20,10))\n",
    "plt.title('Mean absolute percentage for all k-fold CV ')\n",
    "plt.xlabel('Model')\n",
    "plt.ylabel('Mean absolute percentage')"
   ]
  },
  {
   "cell_type": "markdown",
   "id": "a8cff9ff",
   "metadata": {},
   "source": [
    "## Australia Gradient Boosters"
   ]
  },
  {
   "cell_type": "code",
   "execution_count": null,
   "id": "30e70554",
   "metadata": {},
   "outputs": [],
   "source": [
    "results_xgb_au = test_model_iteratively_with_most_important_features(X_au, y_au, xgb_gridsearch_cv)"
   ]
  },
  {
   "cell_type": "code",
   "execution_count": null,
   "id": "d05ed365",
   "metadata": {},
   "outputs": [],
   "source": [
    "results_lightgbm_au = test_model_iteratively_with_most_important_features(X_au, y_au, lightgbm_gridsearch_cv)"
   ]
  },
  {
   "cell_type": "code",
   "execution_count": null,
   "id": "4e349f1f",
   "metadata": {},
   "outputs": [],
   "source": [
    "selected_features = ast.literal_eval(results_xgb_au['selected_features'].values[0])\n",
    "_, _, _, y_test_au = train_test_split(X_au[selected_features], y_au, test_size=0.2, random_state=42)"
   ]
  },
  {
   "cell_type": "code",
   "execution_count": null,
   "id": "428f88b0",
   "metadata": {},
   "outputs": [],
   "source": [
    "y_pred_xgb_au = train_best_model(X_au, y_au, results_xgb_au, XGBRegressor)"
   ]
  },
  {
   "cell_type": "code",
   "execution_count": null,
   "id": "7a2cc296",
   "metadata": {},
   "outputs": [],
   "source": [
    "y_pred_lightgbm_au = train_best_model(X_au, y_au, results_lightgbm_au, LGBMRegressor)"
   ]
  },
  {
   "cell_type": "markdown",
   "id": "4153f85e",
   "metadata": {},
   "source": [
    "### Plotting"
   ]
  },
  {
   "cell_type": "code",
   "execution_count": null,
   "id": "6b031cff",
   "metadata": {},
   "outputs": [],
   "source": [
    "# Line plot\n",
    "import matplotlib.pyplot as plt\n",
    "plt.figure(figsize=(20,10))\n",
    "plt.plot(y_test_au.values, label='Actual')\n",
    "plt.plot(y_pred_xgb_au, label='Predictions using XGB')\n",
    "plt.plot(y_pred_lightgbm_au, label='Predictions using LightGBM')\n",
    "plt.legend()"
   ]
  },
  {
   "cell_type": "code",
   "execution_count": null,
   "id": "6ae209d0",
   "metadata": {},
   "outputs": [],
   "source": [
    "scores = pd.concat([results_lightgbm_au.iloc[:1], results_xgb_au.iloc[:1]], axis=0).loc[:,'split0_test_score':'mean_test_score']*-100\n",
    "scores"
   ]
  },
  {
   "cell_type": "code",
   "execution_count": null,
   "id": "ada36a8f",
   "metadata": {},
   "outputs": [],
   "source": [
    "# barchart - k-fold\n",
    "scores['model'] = ['LightGBM', 'XGBoost']\n",
    "scores.set_index('model', inplace=True)\n",
    "scores.T.plot(kind='bar', figsize=(20,10))\n",
    "plt.title('Mean absolute percentage for all k-fold CV ')\n",
    "plt.xlabel('Model')\n",
    "plt.ylabel('Mean absolute percentage')"
   ]
  },
  {
   "cell_type": "code",
   "execution_count": null,
   "id": "5f7fcf84",
   "metadata": {},
   "outputs": [],
   "source": [
    "import numpy as np\n",
    "from sklearn.model_selection import TimeSeriesSplit\n",
    "X = np.array([[1, 2], [3, 4], [1, 2], [3, 4], [1, 2], [3, 4]])\n",
    "y = np.array([1, 2, 3, 4, 5, 6])\n",
    "tscv = TimeSeriesSplit()\n",
    "print(tscv)\n",
    "TimeSeriesSplit(max_train_size=None, n_splits=3)\n",
    "for train_index, test_index in tscv.split(X):\n",
    "    print(\"TRAIN:\", train_index, \"TEST:\", test_index) \n",
    "    X_train, X_test = X[train_index], X[test_index]\n",
    "    y_train, y_test = y[train_index], y[test_index]"
   ]
  },
  {
   "cell_type": "code",
   "execution_count": null,
   "id": "89771602",
   "metadata": {},
   "outputs": [],
   "source": [
    "X_ie"
   ]
  },
  {
   "cell_type": "code",
   "execution_count": null,
   "id": "81a6de84",
   "metadata": {},
   "outputs": [],
   "source": [
    "import numpy as np\n",
    "from sklearn.model_selection import TimeSeriesSplit\n",
    "X = X_ie\n",
    "y = y_ie\n",
    "tscv = TimeSeriesSplit(n_splits=20)\n",
    "#print(tscv)\n",
    "TimeSeriesSplit(max_train_size=None, n_splits=20)\n",
    "for train_index, test_index in tscv.split(X):\n",
    "    #print(\"TRAIN:\", train_index) \n",
    "    #print(\"TEST:\", test_index)\n",
    "    X_train, X_test = X.iloc[train_index], X.iloc[test_index]\n",
    "    y_train, y_test = y.iloc[train_index], y.iloc[test_index]\n",
    "    print(X_train.shape, X_train.index.min(), X_train.index.max())"
   ]
  },
  {
   "cell_type": "code",
   "execution_count": null,
   "id": "a153f41e",
   "metadata": {},
   "outputs": [],
   "source": [
    "X.shape"
   ]
  },
  {
   "cell_type": "code",
   "execution_count": null,
   "id": "5035c9a4",
   "metadata": {},
   "outputs": [],
   "source": [
    " X.iloc[train_index].shape"
   ]
  },
  {
   "cell_type": "code",
   "execution_count": null,
   "id": "c501449d",
   "metadata": {},
   "outputs": [],
   "source": [
    " X.iloc[train_index].columns"
   ]
  },
  {
   "cell_type": "code",
   "execution_count": null,
   "id": "dbebd0d7",
   "metadata": {},
   "outputs": [],
   "source": [
    "s1 = pd.Series([1, 2, 3])"
   ]
  },
  {
   "cell_type": "code",
   "execution_count": null,
   "id": "1b8f4cdd",
   "metadata": {},
   "outputs": [],
   "source": [
    "s1"
   ]
  },
  {
   "cell_type": "code",
   "execution_count": null,
   "id": "5eeb9410",
   "metadata": {},
   "outputs": [],
   "source": [
    "s1.mean()"
   ]
  },
  {
   "cell_type": "code",
   "execution_count": null,
   "id": "e978ab1a",
   "metadata": {},
   "outputs": [],
   "source": [
    "s1.append(pd.Series(4))"
   ]
  },
  {
   "cell_type": "code",
   "execution_count": null,
   "id": "52279ddc",
   "metadata": {},
   "outputs": [],
   "source": [
    "s1.mean()"
   ]
  },
  {
   "cell_type": "code",
   "execution_count": null,
   "id": "0b09a271",
   "metadata": {},
   "outputs": [],
   "source": []
  }
 ],
 "metadata": {
  "kernelspec": {
   "display_name": "Python [conda env:dataprep]",
   "language": "python",
   "name": "conda-env-dataprep-py"
  },
  "language_info": {
   "codemirror_mode": {
    "name": "ipython",
    "version": 3
   },
   "file_extension": ".py",
   "mimetype": "text/x-python",
   "name": "python",
   "nbconvert_exporter": "python",
   "pygments_lexer": "ipython3",
   "version": "3.7.12"
  },
  "toc": {
   "base_numbering": 1,
   "nav_menu": {},
   "number_sections": true,
   "sideBar": true,
   "skip_h1_title": false,
   "title_cell": "Table of Contents",
   "title_sidebar": "Contents",
   "toc_cell": false,
   "toc_position": {},
   "toc_section_display": true,
   "toc_window_display": true
  }
 },
 "nbformat": 4,
 "nbformat_minor": 5
}
