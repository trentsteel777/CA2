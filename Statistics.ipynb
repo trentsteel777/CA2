{
 "cells": [
  {
   "cell_type": "code",
   "execution_count": 1,
   "id": "fb4fb6b9",
   "metadata": {},
   "outputs": [],
   "source": [
    "import pandas as pd\n",
    "import scipy\n",
    "from scipy import stats\n",
    "import statsmodels.api as sm\n",
    "import pylab\n",
    "from sklearn.preprocessing import MinMaxScaler, scale\n",
    "from cProfile import label\n",
    "import matplotlib.pyplot as plt\n",
    "from matplotlib.pyplot import figure\n",
    "import numpy as np"
   ]
  },
  {
   "cell_type": "markdown",
   "id": "9a21ea55",
   "metadata": {},
   "source": [
    "# Read in Irish  and Australian data"
   ]
  },
  {
   "cell_type": "code",
   "execution_count": 2,
   "id": "79f48d5f",
   "metadata": {},
   "outputs": [],
   "source": [
    "irish = pd.read_csv('data/final/df_final_irish_beef_feat_cols_and_target_values_1999-2022.csv')"
   ]
  },
  {
   "cell_type": "code",
   "execution_count": 3,
   "id": "bb9ca745",
   "metadata": {},
   "outputs": [
    {
     "data": {
      "text/html": [
       "<div>\n",
       "<style scoped>\n",
       "    .dataframe tbody tr th:only-of-type {\n",
       "        vertical-align: middle;\n",
       "    }\n",
       "\n",
       "    .dataframe tbody tr th {\n",
       "        vertical-align: top;\n",
       "    }\n",
       "\n",
       "    .dataframe thead th {\n",
       "        text-align: right;\n",
       "    }\n",
       "</style>\n",
       "<table border=\"1\" class=\"dataframe\">\n",
       "  <thead>\n",
       "    <tr style=\"text-align: right;\">\n",
       "      <th></th>\n",
       "      <th>Unnamed: 0</th>\n",
       "      <th>bullocks_200-249kg</th>\n",
       "      <th>bullocks_250-299kg</th>\n",
       "      <th>bullocks_300-349kg</th>\n",
       "      <th>bullocks_350-399kg</th>\n",
       "      <th>bullocks_400-449kg</th>\n",
       "      <th>bullocks_450-499kg</th>\n",
       "      <th>bullocks_500-549kg</th>\n",
       "      <th>bullocks_550kg+</th>\n",
       "      <th>heifers_200-249kg</th>\n",
       "      <th>...</th>\n",
       "      <th>pork_loin_chops_per_kg</th>\n",
       "      <th>pork_sausages_per_kg</th>\n",
       "      <th>pork_steak_per_kg</th>\n",
       "      <th>potatoes_10_kg</th>\n",
       "      <th>sherry_take_home_75cl_bottle</th>\n",
       "      <th>sirloin_steak_per_kg</th>\n",
       "      <th>stout_draught_bar_1_pint</th>\n",
       "      <th>tomatoes_per_kg</th>\n",
       "      <th>vodka_take_home_70cl_bottle</th>\n",
       "      <th>whiskey_take_home_70cl_bottle</th>\n",
       "    </tr>\n",
       "  </thead>\n",
       "  <tbody>\n",
       "    <tr>\n",
       "      <th>0</th>\n",
       "      <td>1999-01-31</td>\n",
       "      <td>136.83</td>\n",
       "      <td>139.73</td>\n",
       "      <td>133.33</td>\n",
       "      <td>131.07</td>\n",
       "      <td>127.16</td>\n",
       "      <td>120.83</td>\n",
       "      <td>121.28</td>\n",
       "      <td>119.78</td>\n",
       "      <td>83.25</td>\n",
       "      <td>...</td>\n",
       "      <td>6.83387</td>\n",
       "      <td>3.92049</td>\n",
       "      <td>10.11682</td>\n",
       "      <td>6.99516</td>\n",
       "      <td>10.01776</td>\n",
       "      <td>10.42162</td>\n",
       "      <td>2.66192</td>\n",
       "      <td>2.36474</td>\n",
       "      <td>15.45209</td>\n",
       "      <td>17.31772</td>\n",
       "    </tr>\n",
       "    <tr>\n",
       "      <th>1</th>\n",
       "      <td>1999-02-28</td>\n",
       "      <td>143.80</td>\n",
       "      <td>140.10</td>\n",
       "      <td>130.93</td>\n",
       "      <td>126.85</td>\n",
       "      <td>122.36</td>\n",
       "      <td>121.99</td>\n",
       "      <td>118.89</td>\n",
       "      <td>122.60</td>\n",
       "      <td>72.94</td>\n",
       "      <td>...</td>\n",
       "      <td>6.92023</td>\n",
       "      <td>3.88620</td>\n",
       "      <td>10.05459</td>\n",
       "      <td>7.10311</td>\n",
       "      <td>10.18159</td>\n",
       "      <td>10.53465</td>\n",
       "      <td>2.66192</td>\n",
       "      <td>2.29743</td>\n",
       "      <td>15.46860</td>\n",
       "      <td>17.31645</td>\n",
       "    </tr>\n",
       "    <tr>\n",
       "      <th>2</th>\n",
       "      <td>1999-03-31</td>\n",
       "      <td>146.38</td>\n",
       "      <td>133.37</td>\n",
       "      <td>126.74</td>\n",
       "      <td>121.88</td>\n",
       "      <td>121.34</td>\n",
       "      <td>120.37</td>\n",
       "      <td>123.38</td>\n",
       "      <td>120.78</td>\n",
       "      <td>88.66</td>\n",
       "      <td>...</td>\n",
       "      <td>7.21741</td>\n",
       "      <td>3.89382</td>\n",
       "      <td>9.99236</td>\n",
       "      <td>7.06755</td>\n",
       "      <td>10.20953</td>\n",
       "      <td>10.41908</td>\n",
       "      <td>2.66192</td>\n",
       "      <td>2.10820</td>\n",
       "      <td>15.46098</td>\n",
       "      <td>17.31645</td>\n",
       "    </tr>\n",
       "    <tr>\n",
       "      <th>3</th>\n",
       "      <td>1999-04-30</td>\n",
       "      <td>141.20</td>\n",
       "      <td>131.58</td>\n",
       "      <td>121.23</td>\n",
       "      <td>119.14</td>\n",
       "      <td>120.69</td>\n",
       "      <td>124.75</td>\n",
       "      <td>122.41</td>\n",
       "      <td>122.15</td>\n",
       "      <td>76.94</td>\n",
       "      <td>...</td>\n",
       "      <td>7.18693</td>\n",
       "      <td>3.90017</td>\n",
       "      <td>9.81202</td>\n",
       "      <td>6.92150</td>\n",
       "      <td>10.24001</td>\n",
       "      <td>10.65911</td>\n",
       "      <td>2.69240</td>\n",
       "      <td>2.35077</td>\n",
       "      <td>15.42796</td>\n",
       "      <td>17.32788</td>\n",
       "    </tr>\n",
       "    <tr>\n",
       "      <th>4</th>\n",
       "      <td>1999-05-31</td>\n",
       "      <td>136.09</td>\n",
       "      <td>122.94</td>\n",
       "      <td>116.59</td>\n",
       "      <td>121.77</td>\n",
       "      <td>123.92</td>\n",
       "      <td>122.61</td>\n",
       "      <td>124.88</td>\n",
       "      <td>121.30</td>\n",
       "      <td>114.15</td>\n",
       "      <td>...</td>\n",
       "      <td>7.30631</td>\n",
       "      <td>3.92303</td>\n",
       "      <td>10.02411</td>\n",
       "      <td>6.83387</td>\n",
       "      <td>10.21715</td>\n",
       "      <td>10.78738</td>\n",
       "      <td>2.73558</td>\n",
       "      <td>2.13360</td>\n",
       "      <td>15.54480</td>\n",
       "      <td>17.63776</td>\n",
       "    </tr>\n",
       "  </tbody>\n",
       "</table>\n",
       "<p>5 rows × 80 columns</p>\n",
       "</div>"
      ],
      "text/plain": [
       "   Unnamed: 0  bullocks_200-249kg  bullocks_250-299kg  bullocks_300-349kg  \\\n",
       "0  1999-01-31              136.83              139.73              133.33   \n",
       "1  1999-02-28              143.80              140.10              130.93   \n",
       "2  1999-03-31              146.38              133.37              126.74   \n",
       "3  1999-04-30              141.20              131.58              121.23   \n",
       "4  1999-05-31              136.09              122.94              116.59   \n",
       "\n",
       "   bullocks_350-399kg  bullocks_400-449kg  bullocks_450-499kg  \\\n",
       "0              131.07              127.16              120.83   \n",
       "1              126.85              122.36              121.99   \n",
       "2              121.88              121.34              120.37   \n",
       "3              119.14              120.69              124.75   \n",
       "4              121.77              123.92              122.61   \n",
       "\n",
       "   bullocks_500-549kg  bullocks_550kg+  heifers_200-249kg  ...  \\\n",
       "0              121.28           119.78              83.25  ...   \n",
       "1              118.89           122.60              72.94  ...   \n",
       "2              123.38           120.78              88.66  ...   \n",
       "3              122.41           122.15              76.94  ...   \n",
       "4              124.88           121.30             114.15  ...   \n",
       "\n",
       "   pork_loin_chops_per_kg  pork_sausages_per_kg  pork_steak_per_kg  \\\n",
       "0                 6.83387               3.92049           10.11682   \n",
       "1                 6.92023               3.88620           10.05459   \n",
       "2                 7.21741               3.89382            9.99236   \n",
       "3                 7.18693               3.90017            9.81202   \n",
       "4                 7.30631               3.92303           10.02411   \n",
       "\n",
       "   potatoes_10_kg  sherry_take_home_75cl_bottle  sirloin_steak_per_kg  \\\n",
       "0         6.99516                      10.01776              10.42162   \n",
       "1         7.10311                      10.18159              10.53465   \n",
       "2         7.06755                      10.20953              10.41908   \n",
       "3         6.92150                      10.24001              10.65911   \n",
       "4         6.83387                      10.21715              10.78738   \n",
       "\n",
       "   stout_draught_bar_1_pint  tomatoes_per_kg  vodka_take_home_70cl_bottle  \\\n",
       "0                   2.66192          2.36474                     15.45209   \n",
       "1                   2.66192          2.29743                     15.46860   \n",
       "2                   2.66192          2.10820                     15.46098   \n",
       "3                   2.69240          2.35077                     15.42796   \n",
       "4                   2.73558          2.13360                     15.54480   \n",
       "\n",
       "   whiskey_take_home_70cl_bottle  \n",
       "0                       17.31772  \n",
       "1                       17.31645  \n",
       "2                       17.31645  \n",
       "3                       17.32788  \n",
       "4                       17.63776  \n",
       "\n",
       "[5 rows x 80 columns]"
      ]
     },
     "execution_count": 3,
     "metadata": {},
     "output_type": "execute_result"
    }
   ],
   "source": [
    "irish.head()"
   ]
  },
  {
   "cell_type": "code",
   "execution_count": 4,
   "id": "beb4e497",
   "metadata": {},
   "outputs": [],
   "source": [
    "australian = pd.read_csv('data/final/df_final_australian_beef_feat_cols_and_target_values_1999-2020.csv')"
   ]
  },
  {
   "cell_type": "code",
   "execution_count": 5,
   "id": "46ef85a9",
   "metadata": {},
   "outputs": [
    {
     "data": {
      "text/html": [
       "<div>\n",
       "<style scoped>\n",
       "    .dataframe tbody tr th:only-of-type {\n",
       "        vertical-align: middle;\n",
       "    }\n",
       "\n",
       "    .dataframe tbody tr th {\n",
       "        vertical-align: top;\n",
       "    }\n",
       "\n",
       "    .dataframe thead th {\n",
       "        text-align: right;\n",
       "    }\n",
       "</style>\n",
       "<table border=\"1\" class=\"dataframe\">\n",
       "  <thead>\n",
       "    <tr style=\"text-align: right;\">\n",
       "      <th></th>\n",
       "      <th>Unnamed: 0</th>\n",
       "      <th>beef_per_kg</th>\n",
       "      <th>meat_consumption</th>\n",
       "      <th>meat_exports</th>\n",
       "      <th>meat_imports</th>\n",
       "      <th>meat_distribution</th>\n",
       "      <th>meat_supply</th>\n",
       "      <th>cattle_production</th>\n",
       "      <th>swine_production_x</th>\n",
       "      <th>barley_production</th>\n",
       "      <th>...</th>\n",
       "      <th>sheep_slaughterings</th>\n",
       "      <th>cpi_all</th>\n",
       "      <th>cpi_residential</th>\n",
       "      <th>cpi_all_ex_food_energy</th>\n",
       "      <th>cpi_food</th>\n",
       "      <th>cpi_prod_index</th>\n",
       "      <th>diesel</th>\n",
       "      <th>petrol</th>\n",
       "      <th>pbeefusdm</th>\n",
       "      <th>crude_price</th>\n",
       "    </tr>\n",
       "  </thead>\n",
       "  <tbody>\n",
       "    <tr>\n",
       "      <th>0</th>\n",
       "      <td>1999-01-31</td>\n",
       "      <td>2.71</td>\n",
       "      <td>61.833333</td>\n",
       "      <td>104.083333</td>\n",
       "      <td>0.333333</td>\n",
       "      <td>168.083333</td>\n",
       "      <td>168.083333</td>\n",
       "      <td>879.416667</td>\n",
       "      <td>30.166667</td>\n",
       "      <td>419.333333</td>\n",
       "      <td>...</td>\n",
       "      <td>1326.0</td>\n",
       "      <td>62.967263</td>\n",
       "      <td>52.5088</td>\n",
       "      <td>64.117489</td>\n",
       "      <td>68.833314</td>\n",
       "      <td>64.792117</td>\n",
       "      <td>93.8</td>\n",
       "      <td>85.0</td>\n",
       "      <td>77.599998</td>\n",
       "      <td>12.49</td>\n",
       "    </tr>\n",
       "    <tr>\n",
       "      <th>1</th>\n",
       "      <td>1999-02-28</td>\n",
       "      <td>2.80</td>\n",
       "      <td>61.833333</td>\n",
       "      <td>104.083333</td>\n",
       "      <td>0.333333</td>\n",
       "      <td>168.083333</td>\n",
       "      <td>168.083333</td>\n",
       "      <td>879.416667</td>\n",
       "      <td>30.166667</td>\n",
       "      <td>419.333333</td>\n",
       "      <td>...</td>\n",
       "      <td>1467.0</td>\n",
       "      <td>63.245879</td>\n",
       "      <td>53.4705</td>\n",
       "      <td>64.354054</td>\n",
       "      <td>68.941204</td>\n",
       "      <td>64.984379</td>\n",
       "      <td>93.8</td>\n",
       "      <td>85.0</td>\n",
       "      <td>81.825000</td>\n",
       "      <td>12.02</td>\n",
       "    </tr>\n",
       "    <tr>\n",
       "      <th>2</th>\n",
       "      <td>1999-03-31</td>\n",
       "      <td>2.79</td>\n",
       "      <td>61.833333</td>\n",
       "      <td>104.083333</td>\n",
       "      <td>0.333333</td>\n",
       "      <td>168.083333</td>\n",
       "      <td>168.083333</td>\n",
       "      <td>879.416667</td>\n",
       "      <td>30.166667</td>\n",
       "      <td>419.333333</td>\n",
       "      <td>...</td>\n",
       "      <td>1464.0</td>\n",
       "      <td>63.245879</td>\n",
       "      <td>53.4705</td>\n",
       "      <td>64.354054</td>\n",
       "      <td>68.941204</td>\n",
       "      <td>64.984379</td>\n",
       "      <td>93.8</td>\n",
       "      <td>85.0</td>\n",
       "      <td>81.500000</td>\n",
       "      <td>14.68</td>\n",
       "    </tr>\n",
       "    <tr>\n",
       "      <th>3</th>\n",
       "      <td>1999-04-30</td>\n",
       "      <td>2.68</td>\n",
       "      <td>61.833333</td>\n",
       "      <td>104.083333</td>\n",
       "      <td>0.333333</td>\n",
       "      <td>168.083333</td>\n",
       "      <td>168.083333</td>\n",
       "      <td>879.416667</td>\n",
       "      <td>30.166667</td>\n",
       "      <td>419.333333</td>\n",
       "      <td>...</td>\n",
       "      <td>1235.0</td>\n",
       "      <td>63.245879</td>\n",
       "      <td>53.4705</td>\n",
       "      <td>64.354054</td>\n",
       "      <td>68.941204</td>\n",
       "      <td>64.984379</td>\n",
       "      <td>93.8</td>\n",
       "      <td>85.0</td>\n",
       "      <td>79.111111</td>\n",
       "      <td>17.30</td>\n",
       "    </tr>\n",
       "    <tr>\n",
       "      <th>4</th>\n",
       "      <td>1999-05-31</td>\n",
       "      <td>2.61</td>\n",
       "      <td>61.833333</td>\n",
       "      <td>104.083333</td>\n",
       "      <td>0.333333</td>\n",
       "      <td>168.083333</td>\n",
       "      <td>168.083333</td>\n",
       "      <td>879.416667</td>\n",
       "      <td>30.166667</td>\n",
       "      <td>419.333333</td>\n",
       "      <td>...</td>\n",
       "      <td>1239.0</td>\n",
       "      <td>63.803111</td>\n",
       "      <td>53.9905</td>\n",
       "      <td>64.836722</td>\n",
       "      <td>69.152023</td>\n",
       "      <td>66.330209</td>\n",
       "      <td>93.8</td>\n",
       "      <td>85.0</td>\n",
       "      <td>79.850000</td>\n",
       "      <td>17.77</td>\n",
       "    </tr>\n",
       "  </tbody>\n",
       "</table>\n",
       "<p>5 rows × 52 columns</p>\n",
       "</div>"
      ],
      "text/plain": [
       "   Unnamed: 0  beef_per_kg  meat_consumption  meat_exports  meat_imports  \\\n",
       "0  1999-01-31         2.71         61.833333    104.083333      0.333333   \n",
       "1  1999-02-28         2.80         61.833333    104.083333      0.333333   \n",
       "2  1999-03-31         2.79         61.833333    104.083333      0.333333   \n",
       "3  1999-04-30         2.68         61.833333    104.083333      0.333333   \n",
       "4  1999-05-31         2.61         61.833333    104.083333      0.333333   \n",
       "\n",
       "   meat_distribution  meat_supply  cattle_production  swine_production_x  \\\n",
       "0         168.083333   168.083333         879.416667           30.166667   \n",
       "1         168.083333   168.083333         879.416667           30.166667   \n",
       "2         168.083333   168.083333         879.416667           30.166667   \n",
       "3         168.083333   168.083333         879.416667           30.166667   \n",
       "4         168.083333   168.083333         879.416667           30.166667   \n",
       "\n",
       "   barley_production  ...  sheep_slaughterings    cpi_all  cpi_residential  \\\n",
       "0         419.333333  ...               1326.0  62.967263          52.5088   \n",
       "1         419.333333  ...               1467.0  63.245879          53.4705   \n",
       "2         419.333333  ...               1464.0  63.245879          53.4705   \n",
       "3         419.333333  ...               1235.0  63.245879          53.4705   \n",
       "4         419.333333  ...               1239.0  63.803111          53.9905   \n",
       "\n",
       "   cpi_all_ex_food_energy   cpi_food  cpi_prod_index  diesel  petrol  \\\n",
       "0               64.117489  68.833314       64.792117    93.8    85.0   \n",
       "1               64.354054  68.941204       64.984379    93.8    85.0   \n",
       "2               64.354054  68.941204       64.984379    93.8    85.0   \n",
       "3               64.354054  68.941204       64.984379    93.8    85.0   \n",
       "4               64.836722  69.152023       66.330209    93.8    85.0   \n",
       "\n",
       "   pbeefusdm  crude_price  \n",
       "0  77.599998        12.49  \n",
       "1  81.825000        12.02  \n",
       "2  81.500000        14.68  \n",
       "3  79.111111        17.30  \n",
       "4  79.850000        17.77  \n",
       "\n",
       "[5 rows x 52 columns]"
      ]
     },
     "execution_count": 5,
     "metadata": {},
     "output_type": "execute_result"
    }
   ],
   "source": [
    "australian.head()"
   ]
  },
  {
   "cell_type": "markdown",
   "id": "049c2509",
   "metadata": {},
   "source": [
    "# Descriptive statistics"
   ]
  },
  {
   "cell_type": "code",
   "execution_count": 6,
   "id": "bd9ff6c5",
   "metadata": {},
   "outputs": [
    {
     "data": {
      "text/html": [
       "<div>\n",
       "<style scoped>\n",
       "    .dataframe tbody tr th:only-of-type {\n",
       "        vertical-align: middle;\n",
       "    }\n",
       "\n",
       "    .dataframe tbody tr th {\n",
       "        vertical-align: top;\n",
       "    }\n",
       "\n",
       "    .dataframe thead th {\n",
       "        text-align: right;\n",
       "    }\n",
       "</style>\n",
       "<table border=\"1\" class=\"dataframe\">\n",
       "  <thead>\n",
       "    <tr style=\"text-align: right;\">\n",
       "      <th></th>\n",
       "      <th>bullocks_200-249kg</th>\n",
       "      <th>bullocks_250-299kg</th>\n",
       "      <th>bullocks_300-349kg</th>\n",
       "      <th>bullocks_350-399kg</th>\n",
       "      <th>bullocks_400-449kg</th>\n",
       "      <th>bullocks_450-499kg</th>\n",
       "      <th>bullocks_500-549kg</th>\n",
       "      <th>bullocks_550kg+</th>\n",
       "      <th>heifers_200-249kg</th>\n",
       "      <th>heifers_250-299kg</th>\n",
       "      <th>...</th>\n",
       "      <th>pork_loin_chops_per_kg</th>\n",
       "      <th>pork_sausages_per_kg</th>\n",
       "      <th>pork_steak_per_kg</th>\n",
       "      <th>potatoes_10_kg</th>\n",
       "      <th>sherry_take_home_75cl_bottle</th>\n",
       "      <th>sirloin_steak_per_kg</th>\n",
       "      <th>stout_draught_bar_1_pint</th>\n",
       "      <th>tomatoes_per_kg</th>\n",
       "      <th>vodka_take_home_70cl_bottle</th>\n",
       "      <th>whiskey_take_home_70cl_bottle</th>\n",
       "    </tr>\n",
       "  </thead>\n",
       "  <tbody>\n",
       "    <tr>\n",
       "      <th>count</th>\n",
       "      <td>278.000000</td>\n",
       "      <td>278.000000</td>\n",
       "      <td>278.000000</td>\n",
       "      <td>278.000000</td>\n",
       "      <td>278.000000</td>\n",
       "      <td>278.000000</td>\n",
       "      <td>278.000000</td>\n",
       "      <td>278.000000</td>\n",
       "      <td>278.000000</td>\n",
       "      <td>278.000000</td>\n",
       "      <td>...</td>\n",
       "      <td>278.000000</td>\n",
       "      <td>278.000000</td>\n",
       "      <td>278.000000</td>\n",
       "      <td>278.000000</td>\n",
       "      <td>278.000000</td>\n",
       "      <td>278.000000</td>\n",
       "      <td>278.000000</td>\n",
       "      <td>278.000000</td>\n",
       "      <td>278.000000</td>\n",
       "      <td>278.000000</td>\n",
       "    </tr>\n",
       "    <tr>\n",
       "      <th>mean</th>\n",
       "      <td>192.867302</td>\n",
       "      <td>186.908957</td>\n",
       "      <td>182.642842</td>\n",
       "      <td>179.487806</td>\n",
       "      <td>176.933597</td>\n",
       "      <td>175.241763</td>\n",
       "      <td>173.368705</td>\n",
       "      <td>165.012482</td>\n",
       "      <td>183.393165</td>\n",
       "      <td>179.453022</td>\n",
       "      <td>...</td>\n",
       "      <td>8.382035</td>\n",
       "      <td>5.504273</td>\n",
       "      <td>10.179446</td>\n",
       "      <td>6.785161</td>\n",
       "      <td>12.370129</td>\n",
       "      <td>14.110886</td>\n",
       "      <td>3.928842</td>\n",
       "      <td>2.802724</td>\n",
       "      <td>19.147103</td>\n",
       "      <td>23.227080</td>\n",
       "    </tr>\n",
       "    <tr>\n",
       "      <th>std</th>\n",
       "      <td>29.842898</td>\n",
       "      <td>27.337085</td>\n",
       "      <td>26.743456</td>\n",
       "      <td>27.355155</td>\n",
       "      <td>27.554119</td>\n",
       "      <td>28.508862</td>\n",
       "      <td>29.353017</td>\n",
       "      <td>26.813288</td>\n",
       "      <td>41.595563</td>\n",
       "      <td>37.588448</td>\n",
       "      <td>...</td>\n",
       "      <td>0.606756</td>\n",
       "      <td>0.681616</td>\n",
       "      <td>1.279102</td>\n",
       "      <td>1.143023</td>\n",
       "      <td>1.359730</td>\n",
       "      <td>1.648575</td>\n",
       "      <td>0.602885</td>\n",
       "      <td>0.345477</td>\n",
       "      <td>1.837427</td>\n",
       "      <td>2.651699</td>\n",
       "    </tr>\n",
       "    <tr>\n",
       "      <th>min</th>\n",
       "      <td>115.070000</td>\n",
       "      <td>117.590000</td>\n",
       "      <td>116.590000</td>\n",
       "      <td>119.140000</td>\n",
       "      <td>120.410000</td>\n",
       "      <td>120.370000</td>\n",
       "      <td>118.890000</td>\n",
       "      <td>119.780000</td>\n",
       "      <td>72.940000</td>\n",
       "      <td>85.060000</td>\n",
       "      <td>...</td>\n",
       "      <td>6.833870</td>\n",
       "      <td>3.886200</td>\n",
       "      <td>7.402000</td>\n",
       "      <td>3.997960</td>\n",
       "      <td>10.017760</td>\n",
       "      <td>10.419080</td>\n",
       "      <td>2.661920</td>\n",
       "      <td>1.892300</td>\n",
       "      <td>15.427960</td>\n",
       "      <td>17.316450</td>\n",
       "    </tr>\n",
       "    <tr>\n",
       "      <th>25%</th>\n",
       "      <td>172.810000</td>\n",
       "      <td>169.670000</td>\n",
       "      <td>164.057500</td>\n",
       "      <td>158.292500</td>\n",
       "      <td>154.587500</td>\n",
       "      <td>151.077500</td>\n",
       "      <td>147.060000</td>\n",
       "      <td>141.250000</td>\n",
       "      <td>150.495000</td>\n",
       "      <td>148.775000</td>\n",
       "      <td>...</td>\n",
       "      <td>7.875000</td>\n",
       "      <td>5.149000</td>\n",
       "      <td>9.102000</td>\n",
       "      <td>5.909915</td>\n",
       "      <td>11.302250</td>\n",
       "      <td>12.685250</td>\n",
       "      <td>3.543250</td>\n",
       "      <td>2.551500</td>\n",
       "      <td>18.135500</td>\n",
       "      <td>22.128500</td>\n",
       "    </tr>\n",
       "    <tr>\n",
       "      <th>50%</th>\n",
       "      <td>195.410000</td>\n",
       "      <td>186.400000</td>\n",
       "      <td>180.860000</td>\n",
       "      <td>176.425000</td>\n",
       "      <td>173.600000</td>\n",
       "      <td>171.045000</td>\n",
       "      <td>168.095000</td>\n",
       "      <td>158.635000</td>\n",
       "      <td>177.590000</td>\n",
       "      <td>173.525000</td>\n",
       "      <td>...</td>\n",
       "      <td>8.473000</td>\n",
       "      <td>5.774000</td>\n",
       "      <td>9.716500</td>\n",
       "      <td>6.927500</td>\n",
       "      <td>11.817000</td>\n",
       "      <td>14.312500</td>\n",
       "      <td>3.983000</td>\n",
       "      <td>2.794500</td>\n",
       "      <td>19.249500</td>\n",
       "      <td>23.960000</td>\n",
       "    </tr>\n",
       "    <tr>\n",
       "      <th>75%</th>\n",
       "      <td>211.057500</td>\n",
       "      <td>205.055000</td>\n",
       "      <td>203.235000</td>\n",
       "      <td>201.215000</td>\n",
       "      <td>200.090000</td>\n",
       "      <td>198.965000</td>\n",
       "      <td>198.220000</td>\n",
       "      <td>187.382500</td>\n",
       "      <td>217.650000</td>\n",
       "      <td>210.030000</td>\n",
       "      <td>...</td>\n",
       "      <td>8.906500</td>\n",
       "      <td>5.991000</td>\n",
       "      <td>11.578500</td>\n",
       "      <td>7.638000</td>\n",
       "      <td>14.043000</td>\n",
       "      <td>15.515750</td>\n",
       "      <td>4.324500</td>\n",
       "      <td>3.076750</td>\n",
       "      <td>20.745000</td>\n",
       "      <td>25.222500</td>\n",
       "    </tr>\n",
       "    <tr>\n",
       "      <th>max</th>\n",
       "      <td>277.580000</td>\n",
       "      <td>260.750000</td>\n",
       "      <td>249.290000</td>\n",
       "      <td>243.920000</td>\n",
       "      <td>245.710000</td>\n",
       "      <td>240.100000</td>\n",
       "      <td>235.880000</td>\n",
       "      <td>225.720000</td>\n",
       "      <td>281.900000</td>\n",
       "      <td>271.620000</td>\n",
       "      <td>...</td>\n",
       "      <td>9.457000</td>\n",
       "      <td>6.402000</td>\n",
       "      <td>12.882000</td>\n",
       "      <td>10.498000</td>\n",
       "      <td>15.011000</td>\n",
       "      <td>16.982000</td>\n",
       "      <td>4.958000</td>\n",
       "      <td>3.509000</td>\n",
       "      <td>24.544000</td>\n",
       "      <td>27.702000</td>\n",
       "    </tr>\n",
       "  </tbody>\n",
       "</table>\n",
       "<p>8 rows × 79 columns</p>\n",
       "</div>"
      ],
      "text/plain": [
       "       bullocks_200-249kg  bullocks_250-299kg  bullocks_300-349kg  \\\n",
       "count          278.000000          278.000000          278.000000   \n",
       "mean           192.867302          186.908957          182.642842   \n",
       "std             29.842898           27.337085           26.743456   \n",
       "min            115.070000          117.590000          116.590000   \n",
       "25%            172.810000          169.670000          164.057500   \n",
       "50%            195.410000          186.400000          180.860000   \n",
       "75%            211.057500          205.055000          203.235000   \n",
       "max            277.580000          260.750000          249.290000   \n",
       "\n",
       "       bullocks_350-399kg  bullocks_400-449kg  bullocks_450-499kg  \\\n",
       "count          278.000000          278.000000          278.000000   \n",
       "mean           179.487806          176.933597          175.241763   \n",
       "std             27.355155           27.554119           28.508862   \n",
       "min            119.140000          120.410000          120.370000   \n",
       "25%            158.292500          154.587500          151.077500   \n",
       "50%            176.425000          173.600000          171.045000   \n",
       "75%            201.215000          200.090000          198.965000   \n",
       "max            243.920000          245.710000          240.100000   \n",
       "\n",
       "       bullocks_500-549kg  bullocks_550kg+  heifers_200-249kg  \\\n",
       "count          278.000000       278.000000         278.000000   \n",
       "mean           173.368705       165.012482         183.393165   \n",
       "std             29.353017        26.813288          41.595563   \n",
       "min            118.890000       119.780000          72.940000   \n",
       "25%            147.060000       141.250000         150.495000   \n",
       "50%            168.095000       158.635000         177.590000   \n",
       "75%            198.220000       187.382500         217.650000   \n",
       "max            235.880000       225.720000         281.900000   \n",
       "\n",
       "       heifers_250-299kg  ...  pork_loin_chops_per_kg  pork_sausages_per_kg  \\\n",
       "count         278.000000  ...              278.000000            278.000000   \n",
       "mean          179.453022  ...                8.382035              5.504273   \n",
       "std            37.588448  ...                0.606756              0.681616   \n",
       "min            85.060000  ...                6.833870              3.886200   \n",
       "25%           148.775000  ...                7.875000              5.149000   \n",
       "50%           173.525000  ...                8.473000              5.774000   \n",
       "75%           210.030000  ...                8.906500              5.991000   \n",
       "max           271.620000  ...                9.457000              6.402000   \n",
       "\n",
       "       pork_steak_per_kg  potatoes_10_kg  sherry_take_home_75cl_bottle  \\\n",
       "count         278.000000      278.000000                    278.000000   \n",
       "mean           10.179446        6.785161                     12.370129   \n",
       "std             1.279102        1.143023                      1.359730   \n",
       "min             7.402000        3.997960                     10.017760   \n",
       "25%             9.102000        5.909915                     11.302250   \n",
       "50%             9.716500        6.927500                     11.817000   \n",
       "75%            11.578500        7.638000                     14.043000   \n",
       "max            12.882000       10.498000                     15.011000   \n",
       "\n",
       "       sirloin_steak_per_kg  stout_draught_bar_1_pint  tomatoes_per_kg  \\\n",
       "count            278.000000                278.000000       278.000000   \n",
       "mean              14.110886                  3.928842         2.802724   \n",
       "std                1.648575                  0.602885         0.345477   \n",
       "min               10.419080                  2.661920         1.892300   \n",
       "25%               12.685250                  3.543250         2.551500   \n",
       "50%               14.312500                  3.983000         2.794500   \n",
       "75%               15.515750                  4.324500         3.076750   \n",
       "max               16.982000                  4.958000         3.509000   \n",
       "\n",
       "       vodka_take_home_70cl_bottle  whiskey_take_home_70cl_bottle  \n",
       "count                   278.000000                     278.000000  \n",
       "mean                     19.147103                      23.227080  \n",
       "std                       1.837427                       2.651699  \n",
       "min                      15.427960                      17.316450  \n",
       "25%                      18.135500                      22.128500  \n",
       "50%                      19.249500                      23.960000  \n",
       "75%                      20.745000                      25.222500  \n",
       "max                      24.544000                      27.702000  \n",
       "\n",
       "[8 rows x 79 columns]"
      ]
     },
     "execution_count": 6,
     "metadata": {},
     "output_type": "execute_result"
    }
   ],
   "source": [
    "irish.describe()"
   ]
  },
  {
   "cell_type": "code",
   "execution_count": 7,
   "id": "55f2a77e",
   "metadata": {},
   "outputs": [
    {
     "data": {
      "text/html": [
       "<div>\n",
       "<style scoped>\n",
       "    .dataframe tbody tr th:only-of-type {\n",
       "        vertical-align: middle;\n",
       "    }\n",
       "\n",
       "    .dataframe tbody tr th {\n",
       "        vertical-align: top;\n",
       "    }\n",
       "\n",
       "    .dataframe thead th {\n",
       "        text-align: right;\n",
       "    }\n",
       "</style>\n",
       "<table border=\"1\" class=\"dataframe\">\n",
       "  <thead>\n",
       "    <tr style=\"text-align: right;\">\n",
       "      <th></th>\n",
       "      <th>beef_per_kg</th>\n",
       "      <th>meat_consumption</th>\n",
       "      <th>meat_exports</th>\n",
       "      <th>meat_imports</th>\n",
       "      <th>meat_distribution</th>\n",
       "      <th>meat_supply</th>\n",
       "      <th>cattle_production</th>\n",
       "      <th>swine_production_x</th>\n",
       "      <th>barley_production</th>\n",
       "      <th>beef_and_veal_production</th>\n",
       "      <th>...</th>\n",
       "      <th>sheep_slaughterings</th>\n",
       "      <th>cpi_all</th>\n",
       "      <th>cpi_residential</th>\n",
       "      <th>cpi_all_ex_food_energy</th>\n",
       "      <th>cpi_food</th>\n",
       "      <th>cpi_prod_index</th>\n",
       "      <th>diesel</th>\n",
       "      <th>petrol</th>\n",
       "      <th>pbeefusdm</th>\n",
       "      <th>crude_price</th>\n",
       "    </tr>\n",
       "  </thead>\n",
       "  <tbody>\n",
       "    <tr>\n",
       "      <th>count</th>\n",
       "      <td>264.000000</td>\n",
       "      <td>264.000000</td>\n",
       "      <td>264.000000</td>\n",
       "      <td>264.000000</td>\n",
       "      <td>264.000000</td>\n",
       "      <td>264.000000</td>\n",
       "      <td>264.000000</td>\n",
       "      <td>264.000000</td>\n",
       "      <td>264.000000</td>\n",
       "      <td>264.000000</td>\n",
       "      <td>...</td>\n",
       "      <td>264.000000</td>\n",
       "      <td>264.000000</td>\n",
       "      <td>264.000000</td>\n",
       "      <td>264.000000</td>\n",
       "      <td>264.000000</td>\n",
       "      <td>264.000000</td>\n",
       "      <td>264.000000</td>\n",
       "      <td>264.000000</td>\n",
       "      <td>264.000000</td>\n",
       "      <td>264.000000</td>\n",
       "    </tr>\n",
       "    <tr>\n",
       "      <th>mean</th>\n",
       "      <td>4.397955</td>\n",
       "      <td>64.469697</td>\n",
       "      <td>118.560606</td>\n",
       "      <td>0.878788</td>\n",
       "      <td>187.678030</td>\n",
       "      <td>187.678030</td>\n",
       "      <td>785.242424</td>\n",
       "      <td>31.515152</td>\n",
       "      <td>697.401515</td>\n",
       "      <td>181.935606</td>\n",
       "      <td>...</td>\n",
       "      <td>852.390152</td>\n",
       "      <td>87.798932</td>\n",
       "      <td>92.203142</td>\n",
       "      <td>87.833394</td>\n",
       "      <td>93.876343</td>\n",
       "      <td>90.896710</td>\n",
       "      <td>127.141288</td>\n",
       "      <td>119.605682</td>\n",
       "      <td>147.943808</td>\n",
       "      <td>58.837121</td>\n",
       "    </tr>\n",
       "    <tr>\n",
       "      <th>std</th>\n",
       "      <td>1.246113</td>\n",
       "      <td>4.576940</td>\n",
       "      <td>12.772633</td>\n",
       "      <td>0.340289</td>\n",
       "      <td>14.050206</td>\n",
       "      <td>14.050206</td>\n",
       "      <td>79.369194</td>\n",
       "      <td>2.291307</td>\n",
       "      <td>189.619783</td>\n",
       "      <td>13.434485</td>\n",
       "      <td>...</td>\n",
       "      <td>322.326021</td>\n",
       "      <td>13.717710</td>\n",
       "      <td>19.687976</td>\n",
       "      <td>13.195775</td>\n",
       "      <td>13.228448</td>\n",
       "      <td>13.558359</td>\n",
       "      <td>23.870525</td>\n",
       "      <td>22.177346</td>\n",
       "      <td>46.895022</td>\n",
       "      <td>26.906868</td>\n",
       "    </tr>\n",
       "    <tr>\n",
       "      <th>min</th>\n",
       "      <td>2.610000</td>\n",
       "      <td>55.750000</td>\n",
       "      <td>103.416667</td>\n",
       "      <td>0.333333</td>\n",
       "      <td>168.083333</td>\n",
       "      <td>168.083333</td>\n",
       "      <td>550.000000</td>\n",
       "      <td>27.000000</td>\n",
       "      <td>322.083333</td>\n",
       "      <td>163.000000</td>\n",
       "      <td>...</td>\n",
       "      <td>242.000000</td>\n",
       "      <td>62.967263</td>\n",
       "      <td>52.508800</td>\n",
       "      <td>64.117489</td>\n",
       "      <td>68.833314</td>\n",
       "      <td>64.792117</td>\n",
       "      <td>84.400000</td>\n",
       "      <td>80.400000</td>\n",
       "      <td>77.599998</td>\n",
       "      <td>12.020000</td>\n",
       "    </tr>\n",
       "    <tr>\n",
       "      <th>25%</th>\n",
       "      <td>3.470000</td>\n",
       "      <td>61.083333</td>\n",
       "      <td>111.250000</td>\n",
       "      <td>0.666667</td>\n",
       "      <td>178.500000</td>\n",
       "      <td>178.500000</td>\n",
       "      <td>736.833333</td>\n",
       "      <td>30.000000</td>\n",
       "      <td>622.666667</td>\n",
       "      <td>174.166667</td>\n",
       "      <td>...</td>\n",
       "      <td>617.250000</td>\n",
       "      <td>75.133504</td>\n",
       "      <td>81.316800</td>\n",
       "      <td>76.075451</td>\n",
       "      <td>80.828266</td>\n",
       "      <td>77.096852</td>\n",
       "      <td>101.900000</td>\n",
       "      <td>98.400000</td>\n",
       "      <td>110.318750</td>\n",
       "      <td>35.422500</td>\n",
       "    </tr>\n",
       "    <tr>\n",
       "      <th>50%</th>\n",
       "      <td>3.955000</td>\n",
       "      <td>64.333333</td>\n",
       "      <td>113.375000</td>\n",
       "      <td>0.916667</td>\n",
       "      <td>184.833333</td>\n",
       "      <td>184.833333</td>\n",
       "      <td>803.000000</td>\n",
       "      <td>31.750000</td>\n",
       "      <td>687.541667</td>\n",
       "      <td>177.416667</td>\n",
       "      <td>...</td>\n",
       "      <td>828.500000</td>\n",
       "      <td>88.414209</td>\n",
       "      <td>93.228400</td>\n",
       "      <td>87.946030</td>\n",
       "      <td>99.615257</td>\n",
       "      <td>93.439077</td>\n",
       "      <td>129.350000</td>\n",
       "      <td>122.850000</td>\n",
       "      <td>134.687500</td>\n",
       "      <td>55.715000</td>\n",
       "    </tr>\n",
       "    <tr>\n",
       "      <th>75%</th>\n",
       "      <td>5.457500</td>\n",
       "      <td>67.166667</td>\n",
       "      <td>122.750000</td>\n",
       "      <td>1.166667</td>\n",
       "      <td>190.250000</td>\n",
       "      <td>190.250000</td>\n",
       "      <td>835.416667</td>\n",
       "      <td>33.166667</td>\n",
       "      <td>771.166667</td>\n",
       "      <td>182.333333</td>\n",
       "      <td>...</td>\n",
       "      <td>1071.000000</td>\n",
       "      <td>100.301834</td>\n",
       "      <td>110.597500</td>\n",
       "      <td>100.225522</td>\n",
       "      <td>105.865410</td>\n",
       "      <td>99.783706</td>\n",
       "      <td>147.350000</td>\n",
       "      <td>138.800000</td>\n",
       "      <td>188.622619</td>\n",
       "      <td>77.077500</td>\n",
       "    </tr>\n",
       "    <tr>\n",
       "      <th>max</th>\n",
       "      <td>8.690000</td>\n",
       "      <td>73.416667</td>\n",
       "      <td>147.500000</td>\n",
       "      <td>1.416667</td>\n",
       "      <td>224.833333</td>\n",
       "      <td>224.833333</td>\n",
       "      <td>921.916667</td>\n",
       "      <td>35.333333</td>\n",
       "      <td>1125.500000</td>\n",
       "      <td>216.250000</td>\n",
       "      <td>...</td>\n",
       "      <td>1593.000000</td>\n",
       "      <td>109.496169</td>\n",
       "      <td>123.645500</td>\n",
       "      <td>107.958167</td>\n",
       "      <td>107.400050</td>\n",
       "      <td>113.626532</td>\n",
       "      <td>187.900000</td>\n",
       "      <td>157.800000</td>\n",
       "      <td>272.295455</td>\n",
       "      <td>134.020000</td>\n",
       "    </tr>\n",
       "  </tbody>\n",
       "</table>\n",
       "<p>8 rows × 51 columns</p>\n",
       "</div>"
      ],
      "text/plain": [
       "       beef_per_kg  meat_consumption  meat_exports  meat_imports  \\\n",
       "count   264.000000        264.000000    264.000000    264.000000   \n",
       "mean      4.397955         64.469697    118.560606      0.878788   \n",
       "std       1.246113          4.576940     12.772633      0.340289   \n",
       "min       2.610000         55.750000    103.416667      0.333333   \n",
       "25%       3.470000         61.083333    111.250000      0.666667   \n",
       "50%       3.955000         64.333333    113.375000      0.916667   \n",
       "75%       5.457500         67.166667    122.750000      1.166667   \n",
       "max       8.690000         73.416667    147.500000      1.416667   \n",
       "\n",
       "       meat_distribution  meat_supply  cattle_production  swine_production_x  \\\n",
       "count         264.000000   264.000000         264.000000          264.000000   \n",
       "mean          187.678030   187.678030         785.242424           31.515152   \n",
       "std            14.050206    14.050206          79.369194            2.291307   \n",
       "min           168.083333   168.083333         550.000000           27.000000   \n",
       "25%           178.500000   178.500000         736.833333           30.000000   \n",
       "50%           184.833333   184.833333         803.000000           31.750000   \n",
       "75%           190.250000   190.250000         835.416667           33.166667   \n",
       "max           224.833333   224.833333         921.916667           35.333333   \n",
       "\n",
       "       barley_production  beef_and_veal_production  ...  sheep_slaughterings  \\\n",
       "count         264.000000                264.000000  ...           264.000000   \n",
       "mean          697.401515                181.935606  ...           852.390152   \n",
       "std           189.619783                 13.434485  ...           322.326021   \n",
       "min           322.083333                163.000000  ...           242.000000   \n",
       "25%           622.666667                174.166667  ...           617.250000   \n",
       "50%           687.541667                177.416667  ...           828.500000   \n",
       "75%           771.166667                182.333333  ...          1071.000000   \n",
       "max          1125.500000                216.250000  ...          1593.000000   \n",
       "\n",
       "          cpi_all  cpi_residential  cpi_all_ex_food_energy    cpi_food  \\\n",
       "count  264.000000       264.000000              264.000000  264.000000   \n",
       "mean    87.798932        92.203142               87.833394   93.876343   \n",
       "std     13.717710        19.687976               13.195775   13.228448   \n",
       "min     62.967263        52.508800               64.117489   68.833314   \n",
       "25%     75.133504        81.316800               76.075451   80.828266   \n",
       "50%     88.414209        93.228400               87.946030   99.615257   \n",
       "75%    100.301834       110.597500              100.225522  105.865410   \n",
       "max    109.496169       123.645500              107.958167  107.400050   \n",
       "\n",
       "       cpi_prod_index      diesel      petrol   pbeefusdm  crude_price  \n",
       "count      264.000000  264.000000  264.000000  264.000000   264.000000  \n",
       "mean        90.896710  127.141288  119.605682  147.943808    58.837121  \n",
       "std         13.558359   23.870525   22.177346   46.895022    26.906868  \n",
       "min         64.792117   84.400000   80.400000   77.599998    12.020000  \n",
       "25%         77.096852  101.900000   98.400000  110.318750    35.422500  \n",
       "50%         93.439077  129.350000  122.850000  134.687500    55.715000  \n",
       "75%         99.783706  147.350000  138.800000  188.622619    77.077500  \n",
       "max        113.626532  187.900000  157.800000  272.295455   134.020000  \n",
       "\n",
       "[8 rows x 51 columns]"
      ]
     },
     "execution_count": 7,
     "metadata": {},
     "output_type": "execute_result"
    }
   ],
   "source": [
    "australian.describe()"
   ]
  },
  {
   "cell_type": "code",
   "execution_count": 8,
   "id": "f3d76601",
   "metadata": {},
   "outputs": [],
   "source": [
    "target_australian = australian['beef_per_kg']"
   ]
  },
  {
   "cell_type": "code",
   "execution_count": 9,
   "id": "3cbb9a44",
   "metadata": {},
   "outputs": [
    {
     "data": {
      "text/plain": [
       "count    264.000000\n",
       "mean       4.397955\n",
       "std        1.246113\n",
       "min        2.610000\n",
       "25%        3.470000\n",
       "50%        3.955000\n",
       "75%        5.457500\n",
       "max        8.690000\n",
       "Name: beef_per_kg, dtype: float64"
      ]
     },
     "execution_count": 9,
     "metadata": {},
     "output_type": "execute_result"
    }
   ],
   "source": [
    "target_australian.describe()"
   ]
  },
  {
   "cell_type": "code",
   "execution_count": 10,
   "id": "da9ec9a5",
   "metadata": {},
   "outputs": [],
   "source": [
    "target_irish = irish['target_cattle']"
   ]
  },
  {
   "cell_type": "code",
   "execution_count": 11,
   "id": "2d81b08a",
   "metadata": {},
   "outputs": [
    {
     "data": {
      "text/plain": [
       "count    278.000000\n",
       "mean     179.000232\n",
       "std       29.428627\n",
       "min      116.939231\n",
       "25%      154.206731\n",
       "50%      172.452308\n",
       "75%      204.003077\n",
       "max      251.346923\n",
       "Name: target_cattle, dtype: float64"
      ]
     },
     "execution_count": 11,
     "metadata": {},
     "output_type": "execute_result"
    }
   ],
   "source": [
    "target_irish.describe()"
   ]
  },
  {
   "cell_type": "markdown",
   "id": "b41f44b0",
   "metadata": {},
   "source": [
    "# Scale the data"
   ]
  },
  {
   "cell_type": "code",
   "execution_count": 12,
   "id": "aa3181e0",
   "metadata": {},
   "outputs": [],
   "source": [
    "# delete the date (would only be useful for time series regression)\n",
    "del australian['Unnamed: 0']\n",
    "\n",
    "del irish['Unnamed: 0']  "
   ]
  },
  {
   "cell_type": "code",
   "execution_count": 13,
   "id": "f1e9828d",
   "metadata": {},
   "outputs": [],
   "source": [
    "# target_cattle is the mean of the below individual cattle prices, they are leaky features within the data\n",
    "# they won't be included in the machine learning training so delete them\n",
    "del irish['bullocks_200-249kg']\n",
    "del irish['bullocks_250-299kg']\n",
    "del irish['bullocks_300-349kg']\n",
    "del irish['bullocks_350-399kg']\n",
    "del irish['bullocks_400-449kg']\n",
    "del irish['bullocks_450-499kg']\n",
    "del irish['bullocks_500-549kg']\n",
    "del irish['bullocks_550kg+']\n",
    "del irish['heifers_200-249kg']\n",
    "del irish['heifers_250-299kg']\n",
    "del irish['heifers_300-349kg']\n",
    "del irish['heifers_350-399kg']\n",
    "del irish['heifers_400-449kg']"
   ]
  },
  {
   "cell_type": "code",
   "execution_count": 14,
   "id": "e9f5e094",
   "metadata": {},
   "outputs": [],
   "source": [
    "non_scaled_irish = irish\n",
    "non_scaled_australian = australian"
   ]
  },
  {
   "cell_type": "code",
   "execution_count": 15,
   "id": "1314b24e",
   "metadata": {},
   "outputs": [],
   "source": [
    "# the irish data is in euro prices, much of the australian data is in MT (metric tons), \n",
    "# so we need to scale the data to help us compare like for like.\n",
    "# apply min max decomposition\n",
    "scaler = MinMaxScaler()\n",
    "scaled_df = scaler.fit_transform(australian)\n",
    "australian = pd.DataFrame(scaled_df, columns=australian.columns)\n",
    "scaled_df1 = scaler.fit_transform(irish)\n",
    "irish = pd.DataFrame(scaled_df1, columns=irish.columns)"
   ]
  },
  {
   "cell_type": "markdown",
   "id": "d0f0318c",
   "metadata": {},
   "source": [
    "# Histogram - plot the distributions"
   ]
  },
  {
   "cell_type": "code",
   "execution_count": 16,
   "id": "4ecf0294",
   "metadata": {},
   "outputs": [
    {
     "data": {
      "image/png": "[encoded data removed]",
      "text/plain": [
       "<Figure size 1296x576 with 10 Axes>"
      ]
     },
     "metadata": {
      "needs_background": "light"
     },
     "output_type": "display_data"
    }
   ],
   "source": [
    "fig, axs = plt.subplots(2, 5, figsize=(18,8))\n",
    "\n",
    "# cereal\n",
    "axs[0,0].hist(non_scaled_irish['cereals'], color = 'red', ec = 'black')\n",
    "axs[0,0].set_title('Cereal production in Ireland')\n",
    "axs[1,0].hist(non_scaled_australian['wheat_production'], color = 'red', ec = 'black')\n",
    "axs[1,0].set_title('Cereal production in Australia')\n",
    "\n",
    "\n",
    "# currencies\n",
    "axs[0,1].hist(non_scaled_irish['eurusd'], color = 'blue', ec = 'black')\n",
    "axs[0,1].set_title('EURUSD')\n",
    "axs[1,1].hist(non_scaled_australian['audusd'], color = 'blue', ec = 'black')\n",
    "axs[1,1].set_title('AUDUSD')\n",
    "\n",
    "# milk\n",
    "axs[0,2].hist(non_scaled_irish['milk'], color = 'yellow', ec = 'black') \n",
    "axs[0,2].set_title('Milk production in Ireland')\n",
    "axs[1,2].hist(non_scaled_australian['milk_production'], color = 'yellow', ec = 'black')\n",
    "axs[1,2].set_title('Milk production in Australia')\n",
    "\n",
    "# diesel\n",
    "axs[0,3].hist(non_scaled_irish['diesel'], color = 'green', ec = 'black')\n",
    "axs[0,3].set_title('Diesel in Ireland')\n",
    "axs[1,3].hist(non_scaled_australian['diesel'], color = 'green', ec = 'black')\n",
    "axs[1,3].set_title('Diesel in Australia')\n",
    "\n",
    "# pig\n",
    "axs[0,4].hist(non_scaled_irish['pigs'], color = 'white', ec = 'black') \n",
    "axs[0,4].set_title('Pork production in Ireland')\n",
    "axs[1,4].hist(non_scaled_australian['swine_production_x'], color = 'white', ec = 'black')\n",
    "axs[1,4].set_title('Pork production in Australia')\n",
    "\n",
    "plt.show()"
   ]
  },
  {
   "cell_type": "markdown",
   "id": "0083c574",
   "metadata": {},
   "source": [
    "# Test for normality"
   ]
  },
  {
   "cell_type": "markdown",
   "id": "bc26cd98",
   "metadata": {},
   "source": [
    "The Shapiro Wilks test is used for testing the normality of each variable in the dataset.\n",
    "\n",
    "The hypothesis of the shapiro wilks test is as follows:\n",
    "\n",
    "H0: Variable is normally distributed\n",
    "\n",
    "H1: Variable is not normally ditributed\n",
    "\n",
    "If p <= 0.05, then the H0 hyp. can be rejected, the variable is not normally distributed\n",
    "\n",
    "If p > 0.05, then the H0 hyp. cannot be rejected"
   ]
  },
  {
   "cell_type": "code",
   "execution_count": 17,
   "id": "8f20e03d",
   "metadata": {},
   "outputs": [],
   "source": [
    "# Irish features / variables\n",
    "for i in range (irish.shape[1]):\n",
    "    if(stats.shapiro(irish.iloc[:,i]).pvalue > 0.05):\n",
    "        print(irish.columns[i], \"is normally distributed. pvalue: \", stats.shapiro(irish.iloc[:,i]).pvalue)"
   ]
  },
  {
   "cell_type": "markdown",
   "id": "299f5fcc",
   "metadata": {},
   "source": [
    "None of the Irish variables are normally distributed so we can't apply t-test and ANOVA on there"
   ]
  },
  {
   "cell_type": "code",
   "execution_count": 18,
   "id": "8c1a8593",
   "metadata": {},
   "outputs": [
    {
     "name": "stdout",
     "output_type": "stream",
     "text": [
      "\n",
      "cattle_exclud_calves_prod is normally distributed. pvalue: 0.11719152331352234\n",
      "\n",
      "total_beef_prod is normally distributed. pvalue: 0.4881772994995117\n",
      "\n",
      "bulls_bullocks_steers_slaughterings is normally distributed. pvalue: 0.08160652220249176\n",
      "\n",
      "cows_heifers_slaughterings is normally distributed. pvalue: 0.2480727732181549\n",
      "\n",
      "pig_slaughterings is normally distributed. pvalue: 0.5207580327987671\n"
     ]
    }
   ],
   "source": [
    "# Australian features / variables\n",
    "for i in range (australian.shape[1]):\n",
    "    if(stats.shapiro(australian.iloc[:,i]).pvalue > 0.05):\n",
    "        print()\n",
    "        print(australian.columns[i], 'is normally distributed. pvalue:',stats.shapiro(australian.iloc[:,i]).pvalue )"
   ]
  },
  {
   "cell_type": "markdown",
   "id": "95252ad6",
   "metadata": {},
   "source": [
    "The shapiro-Wilks test has determined that some of the Australian data actually happens to be normally distributed (see above) so we will be able to apply t-test and ANOVA to these."
   ]
  },
  {
   "cell_type": "markdown",
   "id": "88ceae38",
   "metadata": {},
   "source": [
    "## Probability Plots and Q-Q plots"
   ]
  },
  {
   "cell_type": "markdown",
   "id": "ee331659",
   "metadata": {},
   "source": [
    "Let's confirm cattle_exclud_calves_prod, total_beef_prod, bulls_bullocks_steers_slaughterings, cows_heifers_slaughterings and pig_slaughterings are normally distributed using a probability plot from scipy.stats.probplot and Q-Q plot from statsmodels.api.\n",
    "\n",
    "This is useful for the people who like visuals.\n",
    "\n",
    "https://docs.scipy.org/doc/scipy/reference/generated/scipy.stats.probplot.html\n",
    "\n",
    "https://www.statsmodels.org/dev/generated/statsmodels.graphics.gofplots.qqplot.html\n",
    "\n",
    "\"Q-Q plot of the quantiles of x versus the quantiles/ppf of a distribution.\"\""
   ]
  },
  {
   "cell_type": "markdown",
   "id": "fecad567",
   "metadata": {},
   "source": [
    "## cattle_exclud_calves_prod"
   ]
  },
  {
   "cell_type": "code",
   "execution_count": 19,
   "id": "6e2adbee",
   "metadata": {},
   "outputs": [
    {
     "data": {
      "image/png": "[encoded data removed]",
      "text/plain": [
       "<Figure size 640x480 with 1 Axes>"
      ]
     },
     "metadata": {
      "needs_background": "light"
     },
     "output_type": "display_data"
    }
   ],
   "source": [
    "figure(figsize=(8, 6), dpi=80)\n",
    "stats.probplot(australian['cattle_exclud_calves_prod'], dist=\"norm\", plot=plt)\n",
    "plt.show()"
   ]
  },
  {
   "cell_type": "code",
   "execution_count": 20,
   "id": "840d6008",
   "metadata": {},
   "outputs": [
    {
     "data": {
      "image/png": "[encoded data removed]",
      "text/plain": [
       "<Figure size 432x288 with 1 Axes>"
      ]
     },
     "metadata": {
      "needs_background": "light"
     },
     "output_type": "display_data"
    }
   ],
   "source": [
    "# QQ plot looks good\n",
    "sm.qqplot(australian['cattle_exclud_calves_prod'], fit=True, line=\"45\")\n",
    "pylab.show()"
   ]
  },
  {
   "cell_type": "markdown",
   "id": "355dc040",
   "metadata": {},
   "source": [
    "## total_beef_prod"
   ]
  },
  {
   "cell_type": "code",
   "execution_count": 21,
   "id": "e6a9c8c1",
   "metadata": {},
   "outputs": [
    {
     "data": {
      "image/png": "[encoded data removed]",
      "text/plain": [
       "<Figure size 640x480 with 1 Axes>"
      ]
     },
     "metadata": {
      "needs_background": "light"
     },
     "output_type": "display_data"
    }
   ],
   "source": [
    "figure(figsize=(8, 6), dpi=80)\n",
    "stats.probplot(australian['total_beef_prod'], dist=\"norm\", plot=plt)\n",
    "plt.show()"
   ]
  },
  {
   "cell_type": "code",
   "execution_count": 22,
   "id": "55a90ce7",
   "metadata": {},
   "outputs": [
    {
     "data": {
      "image/png": "[encoded data removed]",
      "text/plain": [
       "<Figure size 432x288 with 1 Axes>"
      ]
     },
     "metadata": {
      "needs_background": "light"
     },
     "output_type": "display_data"
    }
   ],
   "source": [
    "sm.qqplot(australian['total_beef_prod'], fit=True, line=\"45\")\n",
    "pylab.show()"
   ]
  },
  {
   "cell_type": "markdown",
   "id": "d8791e5c",
   "metadata": {},
   "source": [
    "## bulls_bullocks_steers_slaughterings"
   ]
  },
  {
   "cell_type": "code",
   "execution_count": 23,
   "id": "6dc31ea7",
   "metadata": {},
   "outputs": [
    {
     "data": {
      "image/png": "[encoded data removed]",
      "text/plain": [
       "<Figure size 640x480 with 1 Axes>"
      ]
     },
     "metadata": {
      "needs_background": "light"
     },
     "output_type": "display_data"
    }
   ],
   "source": [
    "figure(figsize=(8, 6), dpi=80)\n",
    "stats.probplot(australian['bulls_bullocks_steers_slaughterings'], dist=\"norm\", plot=plt)\n",
    "plt.show()"
   ]
  },
  {
   "cell_type": "code",
   "execution_count": 24,
   "id": "a5a7c17b",
   "metadata": {},
   "outputs": [
    {
     "data": {
      "image/png": "[encoded data removed]",
      "text/plain": [
       "<Figure size 432x288 with 1 Axes>"
      ]
     },
     "metadata": {
      "needs_background": "light"
     },
     "output_type": "display_data"
    }
   ],
   "source": [
    "sm.qqplot(australian['bulls_bullocks_steers_slaughterings'], fit=True, line=\"45\")\n",
    "pylab.show()"
   ]
  },
  {
   "cell_type": "markdown",
   "id": "6c3db3b0",
   "metadata": {},
   "source": [
    "## cows_heifers_slaughterings"
   ]
  },
  {
   "cell_type": "code",
   "execution_count": 25,
   "id": "698f994b",
   "metadata": {},
   "outputs": [
    {
     "data": {
      "image/png": "[encoded data removed]",
      "text/plain": [
       "<Figure size 640x480 with 1 Axes>"
      ]
     },
     "metadata": {
      "needs_background": "light"
     },
     "output_type": "display_data"
    }
   ],
   "source": [
    "figure(figsize=(8, 6), dpi=80)\n",
    "stats.probplot(australian['cows_heifers_slaughterings'], dist=\"norm\", plot=plt)\n",
    "plt.show()"
   ]
  },
  {
   "cell_type": "code",
   "execution_count": 26,
   "id": "271c39bd",
   "metadata": {},
   "outputs": [
    {
     "data": {
      "image/png": "[encoded data removed]",
      "text/plain": [
       "<Figure size 432x288 with 1 Axes>"
      ]
     },
     "metadata": {
      "needs_background": "light"
     },
     "output_type": "display_data"
    }
   ],
   "source": [
    "sm.qqplot(australian['cows_heifers_slaughterings'], fit=True, line=\"45\")\n",
    "pylab.show()"
   ]
  },
  {
   "cell_type": "markdown",
   "id": "83ee40da",
   "metadata": {},
   "source": [
    "## pig_slaughterings"
   ]
  },
  {
   "cell_type": "code",
   "execution_count": 27,
   "id": "1560d639",
   "metadata": {},
   "outputs": [
    {
     "data": {
      "image/png": "[encoded data removed]",
      "text/plain": [
       "<Figure size 640x480 with 1 Axes>"
      ]
     },
     "metadata": {
      "needs_background": "light"
     },
     "output_type": "display_data"
    }
   ],
   "source": [
    "figure(figsize=(8, 6), dpi=80)\n",
    "stats.probplot(australian['pig_slaughterings'], dist=\"norm\", plot=plt)\n",
    "plt.show()"
   ]
  },
  {
   "cell_type": "code",
   "execution_count": 28,
   "id": "c6043f95",
   "metadata": {},
   "outputs": [
    {
     "data": {
      "image/png": "[encoded data removed]",
      "text/plain": [
       "<Figure size 432x288 with 1 Axes>"
      ]
     },
     "metadata": {
      "needs_background": "light"
     },
     "output_type": "display_data"
    }
   ],
   "source": [
    "sm.qqplot(australian['pig_slaughterings'], fit=True, line=\"45\")\n",
    "pylab.show()"
   ]
  },
  {
   "cell_type": "markdown",
   "id": "f361d8a3",
   "metadata": {},
   "source": [
    "As can be seen from the qq graphs and shapiro wilks normality test, the\n",
    "cattle_exclud_calves_prod, total_beef_prod, bulls_bullocks_steers_slaughterings,\n",
    "cows_heifers_slaughterings, pig_slaughterings variables are distributed normal.\n",
    "\n",
    "QQ plot is a method to see the distribution of the variable. If almost all the dots converge \n",
    "to the line, it means that the distribution is normal. But it is not a decision maker. The\n",
    "results of the shapiro wilks tests proves to us the normality of those 5 variables. These are\n",
    "just illustrations."
   ]
  },
  {
   "cell_type": "markdown",
   "id": "baab5115",
   "metadata": {},
   "source": [
    "# t-test"
   ]
  },
  {
   "cell_type": "markdown",
   "id": "2a159d81",
   "metadata": {},
   "source": [
    "T test is used for testing the means of two independent variables, if they are the same mean or not\n",
    "requires an assumption of normality. All the variables tested here have been proved to have normal distributions by shapiro-wilks test (see above).\n",
    "\n",
    "The hypotheses are:\n",
    "\n",
    "**H0: Two variables have equal mean**\n",
    "\n",
    "**H1: Two variables do not have equal mean**\n",
    "\n",
    "If the pvalue of the test is < 0.05, H0 will be rejected"
   ]
  },
  {
   "cell_type": "markdown",
   "id": "45d531e7",
   "metadata": {},
   "source": [
    "## Independent T test for equal means"
   ]
  },
  {
   "cell_type": "code",
   "execution_count": 29,
   "id": "525fd816",
   "metadata": {},
   "outputs": [],
   "source": [
    "def t_test(col_name_a, col_name_b):\n",
    "    tprob = stats.ttest_ind(australian[col_name_a], australian[col_name_b])[1]\n",
    "    if(tprob > 0.05):\n",
    "        print(col_name_a, \"and\", col_name_b, \"have equal means at the 95% confidence level.\")\n",
    "    else:\n",
    "        print(\"H0 is rejected. p value is < 0.05.\")\n",
    "        print(col_name_a, \"and\", col_name_b, \"do not share the same mean.\")\n",
    "    print(\"p-value:\", tprob)"
   ]
  },
  {
   "cell_type": "code",
   "execution_count": 30,
   "id": "39481ff0",
   "metadata": {},
   "outputs": [
    {
     "name": "stdout",
     "output_type": "stream",
     "text": [
      "H0 is rejected. p value is < 0.05.\n",
      "bulls_bullocks_steers_slaughterings and cows_heifers_slaughterings do not share the same mean.\n",
      "p-value: 0.0030800109769685865\n"
     ]
    }
   ],
   "source": [
    "t_test('bulls_bullocks_steers_slaughterings', 'cows_heifers_slaughterings')"
   ]
  },
  {
   "cell_type": "code",
   "execution_count": 31,
   "id": "b861d6b8",
   "metadata": {},
   "outputs": [
    {
     "name": "stdout",
     "output_type": "stream",
     "text": [
      "bulls_bullocks_steers_slaughterings and pig_slaughterings have equal means at the 95% confidence level.\n",
      "p-value: 0.0980557273945164\n"
     ]
    }
   ],
   "source": [
    "t_test('bulls_bullocks_steers_slaughterings', 'pig_slaughterings')"
   ]
  },
  {
   "cell_type": "code",
   "execution_count": 32,
   "id": "484efd38",
   "metadata": {},
   "outputs": [
    {
     "name": "stdout",
     "output_type": "stream",
     "text": [
      "cows_heifers_slaughterings and pig_slaughterings have equal means at the 95% confidence level.\n",
      "p-value: 0.17919951082811925\n"
     ]
    }
   ],
   "source": [
    "t_test('cows_heifers_slaughterings', 'pig_slaughterings')"
   ]
  },
  {
   "cell_type": "markdown",
   "id": "37d6cf6d",
   "metadata": {},
   "source": [
    "# One way ANOVA F test"
   ]
  },
  {
   "cell_type": "markdown",
   "id": "5dbe5dc6",
   "metadata": {},
   "source": [
    "One way ANOVA F test is used for testing the means of two independent variables, if the are the same or not.\n",
    "\n",
    "Requires normality.\n",
    "\n",
    "The hypotheses are:\n",
    "\n",
    "**H0: Two variables have equal means**\n",
    "\n",
    "**H1: Two variables do not have equal means**\n",
    "\n",
    "If the pvalue of the test is < 0.05, H0 will be rejected"
   ]
  },
  {
   "cell_type": "markdown",
   "id": "53ee16b2",
   "metadata": {},
   "source": [
    "## F test for equal means"
   ]
  },
  {
   "cell_type": "code",
   "execution_count": 33,
   "id": "fd735107",
   "metadata": {},
   "outputs": [],
   "source": [
    "# https://docs.scipy.org/doc/scipy/reference/generated/scipy.stats.f_oneway.html\n",
    "def anovo_test(col_name_a, col_name_b):\n",
    "    fprob = stats.f_oneway(australian[col_name_a], australian[col_name_b])[1]\n",
    "    print(fprob)\n",
    "    if(fprob > 0.05):\n",
    "        print(col_name_a, \"and\", col_name_b, \"have equal means at the 95% confidence level.\")\n",
    "    else:\n",
    "        print(\"H0 is rejected. p value is < 0.05.\")\n",
    "        print(col_name_a, \"and\", col_name_b, \"do not share the same mean.\")\n",
    "    print(\"p-value:\", fprob)"
   ]
  },
  {
   "cell_type": "code",
   "execution_count": 34,
   "id": "03dcca4c",
   "metadata": {},
   "outputs": [
    {
     "name": "stdout",
     "output_type": "stream",
     "text": [
      "0.003080010976968385\n",
      "H0 is rejected. p value is < 0.05.\n",
      "bulls_bullocks_steers_slaughterings and cows_heifers_slaughterings do not share the same mean.\n",
      "p-value: 0.003080010976968385\n"
     ]
    }
   ],
   "source": [
    "anovo_test('bulls_bullocks_steers_slaughterings', 'cows_heifers_slaughterings')"
   ]
  },
  {
   "cell_type": "code",
   "execution_count": 35,
   "id": "c8ecfc30",
   "metadata": {},
   "outputs": [
    {
     "name": "stdout",
     "output_type": "stream",
     "text": [
      "0.09805572739451303\n",
      "bulls_bullocks_steers_slaughterings and pig_slaughterings have equal means at the 95% confidence level.\n",
      "p-value: 0.09805572739451303\n"
     ]
    }
   ],
   "source": [
    "anovo_test('bulls_bullocks_steers_slaughterings', 'pig_slaughterings')"
   ]
  },
  {
   "cell_type": "code",
   "execution_count": 36,
   "id": "5e803cd0",
   "metadata": {},
   "outputs": [
    {
     "name": "stdout",
     "output_type": "stream",
     "text": [
      "0.1791995108281025\n",
      "cows_heifers_slaughterings and pig_slaughterings have equal means at the 95% confidence level.\n",
      "p-value: 0.1791995108281025\n"
     ]
    }
   ],
   "source": [
    "anovo_test('cows_heifers_slaughterings', 'pig_slaughterings')"
   ]
  },
  {
   "cell_type": "code",
   "execution_count": 37,
   "id": "9e3fb4fa",
   "metadata": {},
   "outputs": [
    {
     "name": "stdout",
     "output_type": "stream",
     "text": [
      "H0 is rejected. p value is < 0.05.\n",
      "bulls_bullocks_steers_slaughterings, cows_heifers_slaughterings and pig_slaughterings do not share the same mean.\n",
      "p-value: 0.011221929255613505\n"
     ]
    }
   ],
   "source": [
    "# anova test on three groups\n",
    "fprob = stats.f_oneway(australian['bulls_bullocks_steers_slaughterings'], australian['cows_heifers_slaughterings'], australian['pig_slaughterings'])[1]\n",
    "if(fprob > 0.05):\n",
    "    print(\"bulls_bullocks_steers_slaughterings, cows_heifers_slaughterings and pig_slaughterings have equal means at the 95% confidence level.\")\n",
    "else:\n",
    "    print(\"H0 is rejected. p value is < 0.05.\")\n",
    "    print(\"bulls_bullocks_steers_slaughterings, cows_heifers_slaughterings and pig_slaughterings do not share the same mean.\")\n",
    "print(\"p-value:\", fprob)"
   ]
  },
  {
   "cell_type": "markdown",
   "id": "3f756461",
   "metadata": {},
   "source": [
    "# f-test"
   ]
  },
  {
   "cell_type": "markdown",
   "id": "8c05bbaa",
   "metadata": {},
   "source": [
    "F test is used for testing the **variances** of two independent variables, if they are the same or not.\n",
    "\n",
    "Requires normality\n",
    "\n",
    "The hypotheses are:\n",
    "\n",
    "**H0: Two variables have equal variances**\n",
    "\n",
    "**H1: Two variables do not have equal variances**\n",
    "\n",
    "If the pvalue of the test is < 0.05, H0 will be rejected"
   ]
  },
  {
   "cell_type": "code",
   "execution_count": 38,
   "id": "34ccced3",
   "metadata": {},
   "outputs": [],
   "source": [
    "# Ref for f_test code: https://www.geeksforgeeks.org/how-to-perform-an-f-test-in-python/ \n",
    "def f_test(x1, x2):\n",
    "    f = np.var(x1, ddof=1)/np.var(x2, ddof=1)                   \n",
    "    dof1 = x1.size-1\n",
    "    dof2 = x2.size-1\n",
    "    p_value = 1-scipy.stats.f.cdf(f, dof1, dof2)\n",
    "    return p_value"
   ]
  },
  {
   "cell_type": "code",
   "execution_count": 39,
   "id": "95212304",
   "metadata": {},
   "outputs": [],
   "source": [
    "def run_f_test(col_name_a, col_name_b):\n",
    "    fprob = f_test(australian[col_name_a], australian[col_name_b])\n",
    "    if(fprob >= 0.05):\n",
    "        print(col_name_a, \"and\", col_name_b, \"have equal variances at the 95% confidence level.\")\n",
    "    else:\n",
    "        print(\"H0 is rejected. p value is < 0.05.\")\n",
    "        print(col_name_a, \"and\", col_name_b, \"do not share the same variance.\")\n",
    "    print(\"p-value:\", fprob)"
   ]
  },
  {
   "cell_type": "code",
   "execution_count": 40,
   "id": "ea9cfed6",
   "metadata": {},
   "outputs": [
    {
     "name": "stdout",
     "output_type": "stream",
     "text": [
      "bulls_bullocks_steers_slaughterings and cows_heifers_slaughterings have equal variances at the 95% confidence level.\n",
      "p-value: 0.061936538036401534\n"
     ]
    }
   ],
   "source": [
    "run_f_test('bulls_bullocks_steers_slaughterings', 'cows_heifers_slaughterings')"
   ]
  },
  {
   "cell_type": "code",
   "execution_count": 41,
   "id": "2c5d125e",
   "metadata": {},
   "outputs": [
    {
     "name": "stdout",
     "output_type": "stream",
     "text": [
      "bulls_bullocks_steers_slaughterings and pig_slaughterings have equal variances at the 95% confidence level.\n",
      "p-value: 0.13069313793484083\n"
     ]
    }
   ],
   "source": [
    "run_f_test('bulls_bullocks_steers_slaughterings', 'pig_slaughterings')"
   ]
  },
  {
   "cell_type": "code",
   "execution_count": 42,
   "id": "6da3db70",
   "metadata": {},
   "outputs": [
    {
     "name": "stdout",
     "output_type": "stream",
     "text": [
      "cows_heifers_slaughterings and pig_slaughterings have equal variances at the 95% confidence level.\n",
      "p-value: 0.66139786934244\n"
     ]
    }
   ],
   "source": [
    "run_f_test('cows_heifers_slaughterings', 'pig_slaughterings')"
   ]
  },
  {
   "cell_type": "markdown",
   "id": "8052bf2a",
   "metadata": {},
   "source": [
    "# Mann Whitney U "
   ]
  },
  {
   "cell_type": "markdown",
   "id": "dcc949b1",
   "metadata": {},
   "source": [
    "Two independent groups, test for equal medians. Since, the sample sizes are not equal, mannwhitney is preferred and the variables are both not normally distributed. \n",
    "\n",
    "**H0: Two variables have equal medians**\n",
    "\n",
    "**H1: Two variables do not have equal medians**\n",
    "\n",
    "\n",
    "If the pvalue of the test is < 0.05, H0 will be rejected"
   ]
  },
  {
   "cell_type": "markdown",
   "id": "9d321f8b",
   "metadata": {},
   "source": [
    "Mann Whitney U Test for Equal Medians"
   ]
  },
  {
   "cell_type": "code",
   "execution_count": 43,
   "id": "e36b69a1",
   "metadata": {},
   "outputs": [],
   "source": [
    "# compare irish variables against their australian equivalant\n",
    "def mannwhit(col_name_ie, col_name_au):\n",
    "    mannwhit_p = stats.mannwhitneyu(irish[col_name_ie], australian[col_name_au])\n",
    "    if(mannwhit_p[1] > 0.05):\n",
    "        print(col_name_ie, \"and\", col_name_au, \"have equal medians at the 95% confidence level.\")\n",
    "    else:\n",
    "        print(\"H0 is rejected. p value is < 0.05.\")\n",
    "        print(col_name_ie, \"and\", col_name_au, \"do not share the same median.\")\n",
    "    print(\"p-value:\", mannwhit_p[1])"
   ]
  },
  {
   "cell_type": "code",
   "execution_count": 44,
   "id": "85056404",
   "metadata": {},
   "outputs": [
    {
     "name": "stdout",
     "output_type": "stream",
     "text": [
      "H0 is rejected. p value is < 0.05.\n",
      "cereals and wheat_production do not share the same median.\n",
      "p-value: 3.4322185643755764e-14\n"
     ]
    }
   ],
   "source": [
    "mannwhit('cereals', 'wheat_production')"
   ]
  },
  {
   "cell_type": "code",
   "execution_count": 45,
   "id": "4ec37e84",
   "metadata": {},
   "outputs": [
    {
     "name": "stdout",
     "output_type": "stream",
     "text": [
      "eurusd and audusd have equal medians at the 95% confidence level.\n",
      "p-value: 0.15878675220908844\n"
     ]
    }
   ],
   "source": [
    "mannwhit('eurusd', 'audusd')"
   ]
  },
  {
   "cell_type": "code",
   "execution_count": 46,
   "id": "38353498",
   "metadata": {},
   "outputs": [
    {
     "name": "stdout",
     "output_type": "stream",
     "text": [
      "H0 is rejected. p value is < 0.05.\n",
      "milk and milk_production do not share the same median.\n",
      "p-value: 0.007504249444978873\n"
     ]
    }
   ],
   "source": [
    "mannwhit('milk', 'milk_production')"
   ]
  },
  {
   "cell_type": "code",
   "execution_count": 47,
   "id": "c737aab1",
   "metadata": {},
   "outputs": [
    {
     "name": "stdout",
     "output_type": "stream",
     "text": [
      "diesel and diesel have equal medians at the 95% confidence level.\n",
      "p-value: 0.05090962309217117\n"
     ]
    }
   ],
   "source": [
    "mannwhit('diesel', 'diesel')"
   ]
  },
  {
   "cell_type": "code",
   "execution_count": 48,
   "id": "392b8c42",
   "metadata": {},
   "outputs": [
    {
     "name": "stdout",
     "output_type": "stream",
     "text": [
      "pigs and swine_production_x have equal medians at the 95% confidence level.\n",
      "p-value: 0.11553261185711351\n"
     ]
    }
   ],
   "source": [
    "mannwhit('pigs', 'swine_production_x')"
   ]
  },
  {
   "cell_type": "markdown",
   "id": "501e819c",
   "metadata": {},
   "source": [
    "# kruskall wallis"
   ]
  },
  {
   "cell_type": "markdown",
   "id": "2a60b374",
   "metadata": {},
   "source": [
    "Use kruskall wallis to verify mann whitney test. \n",
    "\n",
    "As these variables do not have normally distributed data a nonparametric test is needed.\n",
    "\n",
    "The hypotheses are:\n",
    "\n",
    "**H0: Two variables has equal medians**\n",
    "\n",
    "**H1: Two variables do not have equal medians**\n",
    "\n",
    "\n",
    "If the pvalue of the test is < 0.05, H0 will be rejected"
   ]
  },
  {
   "cell_type": "markdown",
   "id": "9d2225dd",
   "metadata": {},
   "source": [
    "Kruskall Wallis Test for Equal Medians"
   ]
  },
  {
   "cell_type": "code",
   "execution_count": 49,
   "id": "dc071853",
   "metadata": {},
   "outputs": [],
   "source": [
    "# compare irish variables against their australian equivalant\n",
    "def kruskall_wallis(col_name_ie, col_name_au):\n",
    "    kwallis_p = stats.kruskal(irish[col_name_ie], australian[col_name_au])\n",
    "    if(kwallis_p[1] > 0.05):\n",
    "        print(col_name_ie, \"and\", col_name_au, \"have equal medians at the 95% confidence level.\")\n",
    "    else:\n",
    "        print(\"H0 is rejected. p value is < 0.05.\")\n",
    "        print(col_name_ie, \"and\", col_name_au, \"do not share the same median.\")\n",
    "    print(\"p-value:\", kwallis_p[1])"
   ]
  },
  {
   "cell_type": "code",
   "execution_count": 50,
   "id": "1ca3902c",
   "metadata": {},
   "outputs": [
    {
     "name": "stdout",
     "output_type": "stream",
     "text": [
      "H0 is rejected. p value is < 0.05.\n",
      "cereals and wheat_production do not share the same median.\n",
      "p-value: 3.424965110059294e-14\n"
     ]
    }
   ],
   "source": [
    "kruskall_wallis('cereals', 'wheat_production')"
   ]
  },
  {
   "cell_type": "code",
   "execution_count": 51,
   "id": "8ba1d454",
   "metadata": {},
   "outputs": [
    {
     "name": "stdout",
     "output_type": "stream",
     "text": [
      "eurusd and audusd have equal medians at the 95% confidence level.\n",
      "p-value: 0.15870565721457708\n"
     ]
    }
   ],
   "source": [
    "kruskall_wallis('eurusd', 'audusd')"
   ]
  },
  {
   "cell_type": "code",
   "execution_count": 52,
   "id": "799c856a",
   "metadata": {},
   "outputs": [
    {
     "name": "stdout",
     "output_type": "stream",
     "text": [
      "H0 is rejected. p value is < 0.05.\n",
      "milk and milk_production do not share the same median.\n",
      "p-value: 0.007498111981516808\n"
     ]
    }
   ],
   "source": [
    "kruskall_wallis('milk', 'milk_production')"
   ]
  },
  {
   "cell_type": "code",
   "execution_count": 53,
   "id": "dd456040",
   "metadata": {},
   "outputs": [
    {
     "name": "stdout",
     "output_type": "stream",
     "text": [
      "diesel and diesel have equal medians at the 95% confidence level.\n",
      "p-value: 0.050877070837225244\n"
     ]
    }
   ],
   "source": [
    "kruskall_wallis('diesel', 'diesel')"
   ]
  },
  {
   "cell_type": "code",
   "execution_count": 54,
   "id": "71aed1dd",
   "metadata": {},
   "outputs": [
    {
     "name": "stdout",
     "output_type": "stream",
     "text": [
      "pigs and swine_production_x have equal medians at the 95% confidence level.\n",
      "p-value: 0.11546916353852617\n"
     ]
    }
   ],
   "source": [
    "kruskall_wallis('pigs', 'swine_production_x')"
   ]
  },
  {
   "cell_type": "code",
   "execution_count": 55,
   "id": "17339c90",
   "metadata": {},
   "outputs": [
    {
     "name": "stdout",
     "output_type": "stream",
     "text": [
      "H0 is rejected. p value is < 0.05.\n",
      "cereals, wheat_production, pigs and swine_production_x do not share the same median.\n",
      "p-value: 0.0000000000\n"
     ]
    }
   ],
   "source": [
    "# perform Kruskall Wallis on a group\n",
    "kwallis_p = stats.kruskal(irish['cereals'], australian['wheat_production'], irish['pigs'], australian['swine_production_x'])\n",
    "if(kwallis_p[1] > 0.05):\n",
    "    print(\"cereals, wheat_production, pigs and swine_production_x have equal medians at the 95% confidence level.\")\n",
    "else:\n",
    "    print(\"H0 is rejected. p value is < 0.05.\")\n",
    "    print(\"cereals, wheat_production, pigs and swine_production_x do not share the same median.\")\n",
    "print(\"p-value:\", \"{:.10f}\".format(kwallis_p[1]))"
   ]
  },
  {
   "cell_type": "markdown",
   "id": "d2eeb926",
   "metadata": {},
   "source": [
    "# Levene"
   ]
  },
  {
   "cell_type": "markdown",
   "id": "6744f984",
   "metadata": {},
   "source": [
    "Levene's test is a nonparametric test to test the equality of variances between groups that come from non-normal distributions.\n",
    "\n",
    "Since it does not require normality; it can be used on the same data that was used to compare the medians in mann whitney.\n",
    "\n",
    "**H0: Variances of the two groups are equal**\n",
    "\n",
    "**H1: Variances of the two groups are not equal**"
   ]
  },
  {
   "cell_type": "markdown",
   "id": "303c103b",
   "metadata": {},
   "source": [
    "Ref: https://www.statisticshowto.com/levene-test/"
   ]
  },
  {
   "cell_type": "markdown",
   "id": "b9b676ec",
   "metadata": {},
   "source": [
    "Levene Test for Equal Variances"
   ]
  },
  {
   "cell_type": "code",
   "execution_count": 56,
   "id": "4a74c60e",
   "metadata": {},
   "outputs": [],
   "source": [
    "def levene(col_name_ie, col_name_au):\n",
    "    # https://docs.scipy.org/doc/scipy/reference/generated/scipy.stats.levene.html\n",
    "    levene_p = stats.levene(irish[col_name_ie], australian[col_name_au])\n",
    "    if(levene_p[1] > 0.05):\n",
    "        print(col_name_ie, \"and\", col_name_au, \"have equal variances at the 95% confidence level.\")\n",
    "    else:\n",
    "        print(\"H0 is rejected. p value is < 0.05.\")\n",
    "        print(col_name_ie, \"and\", col_name_au, \"do not share the same variance.\")\n",
    "    print(\"p-value:\", levene_p[1])"
   ]
  },
  {
   "cell_type": "code",
   "execution_count": 57,
   "id": "a4a0f0d8",
   "metadata": {},
   "outputs": [
    {
     "name": "stdout",
     "output_type": "stream",
     "text": [
      "H0 is rejected. p value is < 0.05.\n",
      "cereals and wheat_production do not share the same variance.\n",
      "p-value: 0.0007748394988677446\n"
     ]
    }
   ],
   "source": [
    "levene('cereals', 'wheat_production')"
   ]
  },
  {
   "cell_type": "code",
   "execution_count": 58,
   "id": "139594f8",
   "metadata": {},
   "outputs": [
    {
     "name": "stdout",
     "output_type": "stream",
     "text": [
      "eurusd and audusd have equal variances at the 95% confidence level.\n",
      "p-value: 0.4189957026715744\n"
     ]
    }
   ],
   "source": [
    "levene('eurusd', 'audusd')"
   ]
  },
  {
   "cell_type": "code",
   "execution_count": 59,
   "id": "4084c585",
   "metadata": {},
   "outputs": [
    {
     "name": "stdout",
     "output_type": "stream",
     "text": [
      "H0 is rejected. p value is < 0.05.\n",
      "milk and milk_production do not share the same variance.\n",
      "p-value: 2.144504645394333e-08\n"
     ]
    }
   ],
   "source": [
    "levene('milk', 'milk_production')"
   ]
  },
  {
   "cell_type": "code",
   "execution_count": 60,
   "id": "39d452a4",
   "metadata": {},
   "outputs": [
    {
     "name": "stdout",
     "output_type": "stream",
     "text": [
      "H0 is rejected. p value is < 0.05.\n",
      "diesel and diesel do not share the same variance.\n",
      "p-value: 0.002469249360205069\n"
     ]
    }
   ],
   "source": [
    "levene('diesel', 'diesel')"
   ]
  },
  {
   "cell_type": "code",
   "execution_count": 61,
   "id": "574a7476",
   "metadata": {},
   "outputs": [
    {
     "name": "stdout",
     "output_type": "stream",
     "text": [
      "H0 is rejected. p value is < 0.05.\n",
      "pigs and swine_production_x do not share the same variance.\n",
      "p-value: 2.9827753473272288e-15\n"
     ]
    }
   ],
   "source": [
    "levene('pigs', 'swine_production_x')"
   ]
  },
  {
   "cell_type": "markdown",
   "id": "9fd8811d",
   "metadata": {},
   "source": [
    "# Spearman"
   ]
  },
  {
   "cell_type": "markdown",
   "id": "81de8213",
   "metadata": {},
   "source": [
    "Spearman tests the correlation between the independent and response variable and the significance of the independent variable.\n",
    "\n",
    "If the correlation is significant, then it means that it has an impact to the response varible and the variable is important \n",
    "for the dataset.\n",
    "\n",
    "Does not assume that both datasets are normally distributed\n",
    "\n",
    "hypotheses:\n",
    "    \n",
    "**H0: The correlation is statistically significant**\n",
    "\n",
    "**H1: The correlation is not statistically significant**"
   ]
  },
  {
   "cell_type": "markdown",
   "id": "e5668991",
   "metadata": {},
   "source": [
    "https://docs.scipy.org/doc/scipy/reference/generated/scipy.stats.spearmanr.html\n",
    "\n",
    "Spearman Test for Significance"
   ]
  },
  {
   "cell_type": "code",
   "execution_count": 87,
   "id": "71a2f835",
   "metadata": {},
   "outputs": [
    {
     "name": "stdout",
     "output_type": "stream",
     "text": [
      "Australian variables that are statistically significant for the model.\n",
      "\n",
      "meat_consumption                         p-value: 0.4075577129167335\n",
      "corn_production                          p-value: 0.25646237970965635\n",
      "cheese_production                        p-value: 0.6071499104581952\n",
      "millet_production                        p-value: 0.7390551516306605\n",
      "wheat_production                         p-value: 0.1704955985447754\n",
      "audusd                                   p-value: 0.5810130160533913\n",
      "rain                                     p-value: 0.8220571561598029\n",
      "sunshine                                 p-value: 0.7244384662858145\n",
      "temp_cel                                 p-value: 0.24056515787047927\n",
      "bulls_bullocks_steers_slaughterings      p-value: 0.6853331029851208\n",
      "pig_slaughterings                        p-value: 0.7921877962640039\n"
     ]
    }
   ],
   "source": [
    "print('Australian variables that are statistically significant for the model.\\n')\n",
    "for i in range (australian.shape[1]):\n",
    "    spearmanr = stats.spearmanr(target_australian, australian.iloc[:,i])[1]\n",
    "    if(spearmanr > 0.05):\n",
    "        print(f'{australian.columns[i]: <40}', 'p-value:', spearmanr)"
   ]
  },
  {
   "cell_type": "code",
   "execution_count": 89,
   "id": "aa6c7f93",
   "metadata": {},
   "outputs": [
    {
     "name": "stdout",
     "output_type": "stream",
     "text": [
      "Irish variables that are statistically significant for the model.\n",
      "\n",
      "sunshine                            p-value: 0.3403164471136325\n",
      "rain                                p-value: 0.8977721840273233\n",
      "temp                                p-value: 0.3255437630550555\n",
      "food_and_non-alcoholic_beverages    p-value: 0.06075683460381737\n",
      "carrots_per_kg                      p-value: 0.9059407480202826\n",
      "jam_per_lb                          p-value: 0.3518619005500975\n",
      "mushrooms_per_kg                    p-value: 0.3845666026011241\n"
     ]
    }
   ],
   "source": [
    "print('Irish variables that are statistically significant for the model.\\n')\n",
    "for i in range (irish.shape[1]):\n",
    "    spearmanr = stats.spearmanr(target_irish, irish.iloc[:,i])[1]\n",
    "    if(spearmanr > 0.05):\n",
    "        print(f'{irish.columns[i]: <35}', 'p-value:', spearmanr)"
   ]
  },
  {
   "cell_type": "code",
   "execution_count": null,
   "id": "940c2925",
   "metadata": {},
   "outputs": [],
   "source": []
  }
 ],
 "metadata": {
  "kernelspec": {
   "display_name": "Python [conda env:dataprep]",
   "language": "python",
   "name": "conda-env-dataprep-py"
  },
  "language_info": {
   "codemirror_mode": {
    "name": "ipython",
    "version": 3
   },
   "file_extension": ".py",
   "mimetype": "text/x-python",
   "name": "python",
   "nbconvert_exporter": "python",
   "pygments_lexer": "ipython3",
   "version": "3.7.12"
  },
  "toc": {
   "base_numbering": 1,
   "nav_menu": {},
   "number_sections": true,
   "sideBar": true,
   "skip_h1_title": false,
   "title_cell": "Table of Contents",
   "title_sidebar": "Contents",
   "toc_cell": false,
   "toc_position": {},
   "toc_section_display": true,
   "toc_window_display": true
  }
 },
 "nbformat": 4,
 "nbformat_minor": 5
}
